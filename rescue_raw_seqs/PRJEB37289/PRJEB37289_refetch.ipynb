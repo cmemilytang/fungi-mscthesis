{
 "cells": [
  {
   "cell_type": "code",
   "outputs": [],
   "source": [
    "import pandas as pd"
   ],
   "metadata": {
    "collapsed": false,
    "ExecuteTime": {
     "end_time": "2024-04-17T15:06:53.385945Z",
     "start_time": "2024-04-17T15:06:53.377203Z"
    }
   },
   "id": "725ca2de406b5c57",
   "execution_count": 20
  },
  {
   "cell_type": "code",
   "execution_count": 21,
   "id": "initial_id",
   "metadata": {
    "collapsed": true,
    "ExecuteTime": {
     "end_time": "2024-04-17T15:06:53.393620Z",
     "start_time": "2024-04-17T15:06:53.390260Z"
    }
   },
   "outputs": [],
   "source": [
    "file_folder = '/Volumes/ANTONS/GLOBAL-GUT-FUNGI/Sven-data/final/PRJEB37289'"
   ]
  },
  {
   "cell_type": "markdown",
   "source": [
    "Manually re-fetched one sample from ENA: https://www.ebi.ac.uk/ena/browser/view/PRJEB37289\n",
    "\n",
    "**Failed sample id: ERR5382938**"
   ],
   "metadata": {
    "collapsed": false
   },
   "id": "fe01ca96de06991c"
  },
  {
   "cell_type": "code",
   "outputs": [
    {
     "name": "stdout",
     "output_type": "stream",
     "text": [
      "    sample-id                                  absolute-filepath direction\n",
      "0  ERR5382938  /Volumes/ANTONS/GLOBAL-GUT-FUNGI/Sven-data/fin...   forward\n",
      "1  ERR5382938  /Volumes/ANTONS/GLOBAL-GUT-FUNGI/Sven-data/fin...   reverse\n"
     ]
    }
   ],
   "source": [
    "rescue_manifest = {\n",
    "  'sample-id': ['ERR5382938', 'ERR5382938'],\n",
    "  'absolute-filepath': [f'{file_folder}/rescue-fastq/ERR5382938_1.fastq', f'{file_folder}/rescue-fastq/ERR5382938_2.fastq'],\n",
    "  'direction': ['forward', 'reverse']\n",
    "}\n",
    "df = pd.DataFrame(rescue_manifest)\n",
    "print(df)"
   ],
   "metadata": {
    "collapsed": false,
    "ExecuteTime": {
     "end_time": "2024-04-17T15:15:54.584833Z",
     "start_time": "2024-04-17T15:15:54.572685Z"
    }
   },
   "id": "ab1940056da87148",
   "execution_count": 33
  },
  {
   "cell_type": "code",
   "outputs": [],
   "source": [
    "df.to_csv('fastqmanifest-rescue-PRJEB37289.csv', index=False)"
   ],
   "metadata": {
    "collapsed": false,
    "ExecuteTime": {
     "end_time": "2024-04-17T15:16:01.061681Z",
     "start_time": "2024-04-17T15:16:01.053994Z"
    }
   },
   "id": "2726c6cb577b0bc5",
   "execution_count": 34
  },
  {
   "cell_type": "code",
   "outputs": [],
   "source": [
    "#!echo \"sample-id,absolute-filepath,direction\" > fastqmanifest-rescue-PRJEB37289.csv\n",
    "#!echo \"ERR5382938,{file_folder}/rescue-fastq/ERR5382938_1.fastq,forward\" >> fastqmanifest-rescue-PRJEB37289.csv\n",
    "#!echo \"ERR5382938,{file_folder}/rescue-fastq/ERR5382938_2.fastq,reverse\" >> fastqmanifest-rescue-PRJEB37289.csv"
   ],
   "metadata": {
    "collapsed": false,
    "ExecuteTime": {
     "end_time": "2024-04-17T15:06:53.420407Z",
     "start_time": "2024-04-17T15:06:53.417455Z"
    }
   },
   "id": "b03f266aa907a9e8",
   "execution_count": 24
  },
  {
   "cell_type": "code",
   "outputs": [
    {
     "name": "stdout",
     "output_type": "stream",
     "text": [
      "\u001B[32mImported /Volumes/ANTONS/GLOBAL-GUT-FUNGI/Sven-data/final/PRJEB37289/rescue-fastq/fastqmanifest-rescue-PRJEB37289.csv as PairedEndFastqManifestPhred33 to /Volumes/ANTONS/GLOBAL-GUT-FUNGI/Sven-data/final/PRJEB37289/rescue-fastq/refetched.qza\u001B[0m\r\n",
      "\u001B[0m"
     ]
    }
   ],
   "source": [
    "!qiime tools import \\\n",
    "  --type 'SampleData[PairedEndSequencesWithQuality]' \\\n",
    "  --input-path {file_folder}/rescue-fastq/fastqmanifest-rescue-PRJEB37289.csv \\\n",
    "  --output-path {file_folder}/rescue-fastq/refetched.qza \\\n",
    "  --input-format PairedEndFastqManifestPhred33"
   ],
   "metadata": {
    "collapsed": false,
    "ExecuteTime": {
     "end_time": "2024-04-17T15:16:38.207780Z",
     "start_time": "2024-04-17T15:16:25.302127Z"
    }
   },
   "id": "8c7ac59faa61c2f0",
   "execution_count": 35
  },
  {
   "cell_type": "code",
   "outputs": [
    {
     "name": "stdout",
     "output_type": "stream",
     "text": [
      "\u001B[32mSaved SampleData[PairedEndSequencesWithQuality] to: /Volumes/ANTONS/GLOBAL-GUT-FUNGI/Sven-data/final/PRJEB37289/raw-data/combined_seqs.qza\u001B[0m\r\n",
      "\u001B[0m"
     ]
    }
   ],
   "source": [
    "!qiime fondue combine-seqs \\\n",
    "      --i-seqs {file_folder}/raw-data/paired_reads.qza {file_folder}/rescue-fastq/refetched.qza \\\n",
    "      --o-combined-seqs {file_folder}/raw-data/combined_seqs.qza"
   ],
   "metadata": {
    "collapsed": false,
    "ExecuteTime": {
     "end_time": "2024-04-17T15:18:59.517860Z",
     "start_time": "2024-04-17T15:18:02.536036Z"
    }
   },
   "id": "beb993c4c74042b8",
   "execution_count": 36
  },
  {
   "cell_type": "code",
   "outputs": [],
   "source": [],
   "metadata": {
    "collapsed": false
   },
   "id": "620b42bf484fb6b3"
  }
 ],
 "metadata": {
  "kernelspec": {
   "display_name": "Python 3",
   "language": "python",
   "name": "python3"
  },
  "language_info": {
   "codemirror_mode": {
    "name": "ipython",
    "version": 2
   },
   "file_extension": ".py",
   "mimetype": "text/x-python",
   "name": "python",
   "nbconvert_exporter": "python",
   "pygments_lexer": "ipython2",
   "version": "2.7.6"
  }
 },
 "nbformat": 4,
 "nbformat_minor": 5
}
