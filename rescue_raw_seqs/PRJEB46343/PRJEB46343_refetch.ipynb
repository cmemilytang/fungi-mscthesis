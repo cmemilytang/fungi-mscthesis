{
 "cells": [
  {
   "cell_type": "code",
   "execution_count": 2,
   "id": "initial_id",
   "metadata": {
    "collapsed": true,
    "ExecuteTime": {
     "end_time": "2024-03-18T15:11:20.413520Z",
     "start_time": "2024-03-18T15:11:20.409012Z"
    }
   },
   "outputs": [],
   "source": [
    "file_folder = '/Volumes/ANTONS/GLOBAL-GUT-FUNGI/Sven-data/final/PRJEB46343'"
   ]
  },
  {
   "cell_type": "markdown",
   "source": [
    "failed id = ERR6296015"
   ],
   "metadata": {
    "collapsed": false
   },
   "id": "c603ea6f908ba4f"
  },
  {
   "cell_type": "code",
   "outputs": [
    {
     "name": "stdout",
     "output_type": "stream",
     "text": [
      "\u001B[32mSaved SampleData[SequencesWithQuality] to: /Volumes/ANTONS/GLOBAL-GUT-FUNGI/Sven-data/final/PRJEB46343/raw-data/refetched_single.qza\u001B[0m\r\n",
      "\u001B[32mSaved SampleData[PairedEndSequencesWithQuality] to: /Volumes/ANTONS/GLOBAL-GUT-FUNGI/Sven-data/final/PRJEB46343/raw-data/refetched_paired.qza\u001B[0m\r\n",
      "\u001B[32mSaved SRAFailedIDs to: /Volumes/ANTONS/GLOBAL-GUT-FUNGI/Sven-data/final/PRJEB46343/raw-data/refetched_failed.qza\u001B[0m\r\n",
      "\u001B[0m"
     ]
    }
   ],
   "source": [
    "! qiime fondue get-sequences \\\n",
    "      --i-accession-ids $file_folder/raw-data/failed_runs.qza \\\n",
    "      --p-email cmemilytang@gmail.com \\\n",
    "      --o-single-reads $file_folder/raw-data/refetched_single \\\n",
    "      --o-paired-reads $file_folder/raw-data/refetched_paired \\\n",
    "      --o-failed-runs $file_folder/raw-data/refetched_failed"
   ],
   "metadata": {
    "collapsed": false,
    "ExecuteTime": {
     "end_time": "2024-03-14T17:14:10.228623Z",
     "start_time": "2024-03-14T17:00:32.952973Z"
    }
   },
   "id": "701bb501e4ada1e4",
   "execution_count": 2
  },
  {
   "cell_type": "markdown",
   "source": [
    "**See refetched_paired.qza**\n",
    "Checked the refetched_failed.qza and confirmed there was no more failed run."
   ],
   "metadata": {
    "collapsed": false
   },
   "id": "d7e6fac41be48412"
  },
  {
   "cell_type": "markdown",
   "source": [
    "### Merging all sequencing data into one artifact"
   ],
   "metadata": {
    "collapsed": false
   },
   "id": "9c271ee895331d0c"
  },
  {
   "cell_type": "code",
   "outputs": [
    {
     "name": "stdout",
     "output_type": "stream",
     "text": [
      "\u001B[32mSaved SampleData[PairedEndSequencesWithQuality] to: /Volumes/ANTONS/GLOBAL-GUT-FUNGI/Sven-data/final/PRJEB46343/raw-data/combined_seqs.qza\u001B[0m\r\n",
      "\u001B[0m"
     ]
    }
   ],
   "source": [
    "! qiime fondue combine-seqs \\\n",
    "      --i-seqs $file_folder/raw-data/paired_reads.qza $file_folder/raw-data/refetched_paired.qza \\\n",
    "      --o-combined-seqs $file_folder/raw-data/combined_seqs.qza"
   ],
   "metadata": {
    "collapsed": false,
    "ExecuteTime": {
     "end_time": "2024-03-18T15:13:24.913879Z",
     "start_time": "2024-03-18T15:11:24.937938Z"
    }
   },
   "id": "975d534d55bdd3d1",
   "execution_count": 3
  },
  {
   "cell_type": "code",
   "outputs": [],
   "source": [],
   "metadata": {
    "collapsed": false
   },
   "id": "5a86d171d5a9b287"
  }
 ],
 "metadata": {
  "kernelspec": {
   "display_name": "Python 3",
   "language": "python",
   "name": "python3"
  },
  "language_info": {
   "codemirror_mode": {
    "name": "ipython",
    "version": 2
   },
   "file_extension": ".py",
   "mimetype": "text/x-python",
   "name": "python",
   "nbconvert_exporter": "python",
   "pygments_lexer": "ipython2",
   "version": "2.7.6"
  }
 },
 "nbformat": 4,
 "nbformat_minor": 5
}
