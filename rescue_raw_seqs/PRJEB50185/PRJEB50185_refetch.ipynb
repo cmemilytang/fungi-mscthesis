{
 "cells": [
  {
   "cell_type": "code",
   "outputs": [],
   "source": [
    "import pandas as pd"
   ],
   "metadata": {
    "collapsed": false,
    "ExecuteTime": {
     "end_time": "2024-04-17T15:25:30.777327Z",
     "start_time": "2024-04-17T15:25:30.366178Z"
    }
   },
   "id": "436b3902ebc6653e",
   "execution_count": 33
  },
  {
   "cell_type": "code",
   "execution_count": 34,
   "id": "initial_id",
   "metadata": {
    "collapsed": true,
    "ExecuteTime": {
     "end_time": "2024-04-17T15:25:33.110100Z",
     "start_time": "2024-04-17T15:25:33.104920Z"
    }
   },
   "outputs": [],
   "source": [
    "file_folder = '/Volumes/ANTONS/GLOBAL-GUT-FUNGI/Sven-data/final/PRJEB50185'"
   ]
  },
  {
   "cell_type": "markdown",
   "source": [
    "failed ids = ERR8095731, ERR8095750"
   ],
   "metadata": {
    "collapsed": false
   },
   "id": "c89d248c80513ace"
  },
  {
   "cell_type": "code",
   "outputs": [
    {
     "name": "stdout",
     "output_type": "stream",
     "text": [
      "\u001B[31m\u001B[1mPlugin error from fondue:\r\n",
      "\r\n",
      "  Neither single- nor paired-end sequences could be downloaded. Please check your accession IDs.\r\n",
      "\r\n",
      "Debug info has been saved to /var/folders/4d/4y4rchb56yn2lw65zm2ykpr40000gn/T/qiime2-q2cli-err-jsi0j1gi.log\u001B[0m\r\n",
      "\u001B[0m"
     ]
    }
   ],
   "source": [
    "! qiime fondue get-sequences \\\n",
    "      --i-accession-ids $file_folder/raw-data/failed_runs.qza \\\n",
    "      --p-email cmemilytang@gmail.com \\\n",
    "      --o-single-reads $file_folder/raw-data/refetched_single \\\n",
    "      --o-paired-reads $file_folder/raw-data/refetched_paired \\\n",
    "      --o-failed-runs $file_folder/raw-data/refetched_failed "
   ],
   "metadata": {
    "collapsed": false,
    "ExecuteTime": {
     "end_time": "2024-04-17T15:28:29.421624Z",
     "start_time": "2024-04-17T15:25:42.446436Z"
    }
   },
   "id": "be5213d119cb7e36",
   "execution_count": 35
  },
  {
   "cell_type": "markdown",
   "source": [
    "**No data.**\n",
    "\n",
    "Couldn't download / fetch manually in the SRA database either."
   ],
   "metadata": {
    "collapsed": false
   },
   "id": "8d88ad8cddeafe28"
  },
  {
   "cell_type": "markdown",
   "source": [
    "Manually downloaded them from European Nucleotide Archive!\n",
    "https://www.ebi.ac.uk/ena/browser/view/PRJEB50185"
   ],
   "metadata": {
    "collapsed": false
   },
   "id": "104732bb9dd4bd87"
  },
  {
   "cell_type": "code",
   "outputs": [
    {
     "name": "stdout",
     "output_type": "stream",
     "text": [
      "    sample-id                                  absolute-filepath\n",
      "0  ERR8095731  /Volumes/ANTONS/GLOBAL-GUT-FUNGI/Sven-data/fin...\n",
      "1  ERR8095750  /Volumes/ANTONS/GLOBAL-GUT-FUNGI/Sven-data/fin...\n"
     ]
    }
   ],
   "source": [
    "rescue_manifest = {\n",
    "    'sample-id': ['ERR8095731', 'ERR8095750'],\n",
    "  'absolute-filepath': [f'{file_folder}/rescue-fastq/ERR8095731.fastq', f'{file_folder}/rescue-fastq/ERR8095750.fastq']\n",
    "}\n",
    "df = pd.DataFrame(rescue_manifest)\n",
    "print(df)"
   ],
   "metadata": {
    "collapsed": false,
    "ExecuteTime": {
     "end_time": "2024-04-17T15:31:34.753162Z",
     "start_time": "2024-04-17T15:31:34.732696Z"
    }
   },
   "id": "104c845348a1daf0",
   "execution_count": 36
  },
  {
   "cell_type": "code",
   "outputs": [],
   "source": [
    "df.to_csv('fastqmanifest-rescue-PRJEB50185.tsv', sep='\\t', index=False)"
   ],
   "metadata": {
    "collapsed": false,
    "ExecuteTime": {
     "end_time": "2024-04-17T15:32:02.160985Z",
     "start_time": "2024-04-17T15:32:02.144104Z"
    }
   },
   "id": "76fad46183ce121b",
   "execution_count": 37
  },
  {
   "cell_type": "code",
   "outputs": [],
   "source": [
    "#!echo \"sample-id, absolute-filepath\" > fastqmanifest-rescue-PRJEB50185.tsv\n",
    "#!echo \"ERR8095731, {file_folder}/rescue-fastq/ERR8095731.fastq.gz\" >> fastqmanifest-rescue-PRJEB50185.tsv\n",
    "#!echo \"ERR8095750, {file_folder}/rescue-fastq/ERR8095750.fastq.gz\" >> fastqmanifest-rescue-PRJEB50185.tsv"
   ],
   "metadata": {
    "collapsed": false
   },
   "id": "7c1cf51b606f2b82",
   "execution_count": null
  },
  {
   "cell_type": "code",
   "outputs": [
    {
     "name": "stdout",
     "output_type": "stream",
     "text": [
      "\u001B[32mImported /Volumes/ANTONS/GLOBAL-GUT-FUNGI/Sven-data/final/PRJEB50185/rescue-fastq/fastqmanifest-rescue-PRJEB50185.tsv as SingleEndFastqManifestPhred33V2 to /Volumes/ANTONS/GLOBAL-GUT-FUNGI/Sven-data/final/PRJEB50185/rescue-fastq/refetched.qza\u001B[0m\r\n",
      "\u001B[0m"
     ]
    }
   ],
   "source": [
    "!qiime tools import \\\n",
    "  --type 'SampleData[SequencesWithQuality]' \\\n",
    "  --input-path {file_folder}/rescue-fastq/fastqmanifest-rescue-PRJEB50185.tsv \\\n",
    "  --output-path {file_folder}/rescue-fastq/refetched.qza \\\n",
    "  --input-format SingleEndFastqManifestPhred33V2"
   ],
   "metadata": {
    "collapsed": false,
    "ExecuteTime": {
     "end_time": "2024-04-17T15:33:04.521982Z",
     "start_time": "2024-04-17T15:32:55.431537Z"
    }
   },
   "id": "3f76e4d48218e769",
   "execution_count": 39
  },
  {
   "cell_type": "code",
   "outputs": [
    {
     "name": "stdout",
     "output_type": "stream",
     "text": [
      "\u001B[32mSaved SampleData[SequencesWithQuality] to: /Volumes/ANTONS/GLOBAL-GUT-FUNGI/Sven-data/final/PRJEB50185/raw-data/combined_seqs.qza\u001B[0m\r\n",
      "\u001B[0m"
     ]
    }
   ],
   "source": [
    "!qiime fondue combine-seqs \\\n",
    "      --i-seqs {file_folder}/raw-data/single_reads.qza {file_folder}/rescue-fastq/refetched.qza \\\n",
    "      --o-combined-seqs {file_folder}/raw-data/combined_seqs.qza"
   ],
   "metadata": {
    "collapsed": false,
    "ExecuteTime": {
     "end_time": "2024-04-17T15:39:57.901373Z",
     "start_time": "2024-04-17T15:39:43.964205Z"
    }
   },
   "id": "de85ed63ca696716",
   "execution_count": 40
  },
  {
   "cell_type": "code",
   "outputs": [],
   "source": [],
   "metadata": {
    "collapsed": false
   },
   "id": "1b3196aa7d194f8e"
  }
 ],
 "metadata": {
  "kernelspec": {
   "display_name": "Python 3",
   "language": "python",
   "name": "python3"
  },
  "language_info": {
   "codemirror_mode": {
    "name": "ipython",
    "version": 2
   },
   "file_extension": ".py",
   "mimetype": "text/x-python",
   "name": "python",
   "nbconvert_exporter": "python",
   "pygments_lexer": "ipython2",
   "version": "2.7.6"
  }
 },
 "nbformat": 4,
 "nbformat_minor": 5
}
