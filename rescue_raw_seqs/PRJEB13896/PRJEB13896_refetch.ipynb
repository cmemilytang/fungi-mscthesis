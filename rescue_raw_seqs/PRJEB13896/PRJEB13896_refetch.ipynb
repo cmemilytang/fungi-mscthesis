{
 "cells": [
  {
   "cell_type": "code",
   "execution_count": 1,
   "id": "initial_id",
   "metadata": {
    "collapsed": true,
    "ExecuteTime": {
     "end_time": "2024-03-18T13:04:44.944800Z",
     "start_time": "2024-03-18T13:04:44.938617Z"
    }
   },
   "outputs": [],
   "source": [
    "# file_folder = '/Users/cheesemania/PycharmProjects/Rescue_raw_seqs/PRJEB13896'\n",
    "file_folder = '/Volumes/ANTONS/GLOBAL-GUT-FUNGI/Sven-data/final/PRJEB13896'"
   ]
  },
  {
   "cell_type": "markdown",
   "id": "f89673e2f71bebf0",
   "metadata": {
    "collapsed": false
   },
   "source": [
    "failed id = ERR1421912"
   ]
  },
  {
   "cell_type": "code",
   "execution_count": 2,
   "id": "9c2ae853376cb5a",
   "metadata": {
    "collapsed": false,
    "ExecuteTime": {
     "end_time": "2024-03-18T13:06:24.330397Z",
     "start_time": "2024-03-18T13:04:55.831244Z"
    }
   },
   "outputs": [
    {
     "name": "stdout",
     "output_type": "stream",
     "text": [
      "\u001B[32mSaved SampleData[SequencesWithQuality] to: /Volumes/ANTONS/GLOBAL-GUT-FUNGI/Sven-data/final/PRJEB13896/raw-data/refetched_single.qza\u001B[0m\r\n",
      "\u001B[32mSaved SampleData[PairedEndSequencesWithQuality] to: /Volumes/ANTONS/GLOBAL-GUT-FUNGI/Sven-data/final/PRJEB13896/raw-data/refetched_paired.qza\u001B[0m\r\n",
      "\u001B[32mSaved SRAFailedIDs to: /Volumes/ANTONS/GLOBAL-GUT-FUNGI/Sven-data/final/PRJEB13896/raw-data/refetched_failed.qza\u001B[0m\r\n",
      "\u001B[0m"
     ]
    }
   ],
   "source": [
    "! qiime fondue get-sequences \\\n",
    "      --i-accession-ids $file_folder/raw-data/failed_runs.qza \\\n",
    "      --p-email cmemilytang@gmail.com \\\n",
    "      --o-single-reads $file_folder/raw-data/refetched_single \\\n",
    "      --o-paired-reads $file_folder/raw-data/refetched_paired \\\n",
    "      --o-failed-runs $file_folder/raw-data/refetched_failed"
   ]
  },
  {
   "cell_type": "markdown",
   "id": "798595777a5783cc",
   "metadata": {
    "collapsed": false
   },
   "source": [
    "**See refetched_single.qza** \n",
    "Checked the refetched_failed.qza and confirmed that there was no more failed run."
   ]
  },
  {
   "cell_type": "markdown",
   "id": "3a65f4ff",
   "metadata": {},
   "source": [
    "### Merging all sequencing data into one artifact"
   ]
  },
  {
   "cell_type": "code",
   "execution_count": 3,
   "id": "3287c4a6ed07b3f3",
   "metadata": {
    "collapsed": false,
    "ExecuteTime": {
     "end_time": "2024-03-18T14:50:09.584706Z",
     "start_time": "2024-03-18T14:06:50.829709Z"
    }
   },
   "outputs": [
    {
     "name": "stdout",
     "output_type": "stream",
     "text": [
      "\u001B[32mSaved SampleData[SequencesWithQuality] to: /Volumes/ANTONS/GLOBAL-GUT-FUNGI/Sven-data/final/PRJEB13896/raw-data/combined_seqs.qza\u001B[0m\r\n",
      "\u001B[0m"
     ]
    }
   ],
   "source": [
    "! qiime fondue combine-seqs \\\n",
    "      --i-seqs $file_folder/raw-data/single_reads.qza $file_folder/raw-data/refetched_single.qza \\\n",
    "      --o-combined-seqs $file_folder/raw-data/combined_seqs.qza"
   ]
  },
  {
   "cell_type": "code",
   "outputs": [],
   "source": [],
   "metadata": {
    "collapsed": false
   },
   "id": "62ae2397d9e949ca",
   "execution_count": 10
  }
 ],
 "metadata": {
  "kernelspec": {
   "display_name": "Python 3",
   "language": "python",
   "name": "python3"
  },
  "language_info": {
   "codemirror_mode": {
    "name": "ipython",
    "version": 2
   },
   "file_extension": ".py",
   "mimetype": "text/x-python",
   "name": "python",
   "nbconvert_exporter": "python",
   "pygments_lexer": "ipython2",
   "version": "2.7.6"
  }
 },
 "nbformat": 4,
 "nbformat_minor": 5
}
