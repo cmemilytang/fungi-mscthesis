{
 "cells": [
  {
   "cell_type": "markdown",
   "source": [
    "### This filtering step of metadata is for performing ·sample-classifier classify-samples·"
   ],
   "metadata": {
    "collapsed": false
   },
   "id": "39478339970836aa"
  },
  {
   "cell_type": "code",
   "execution_count": 1,
   "id": "initial_id",
   "metadata": {
    "collapsed": true,
    "ExecuteTime": {
     "end_time": "2024-08-30T09:16:08.562666Z",
     "start_time": "2024-08-30T09:16:08.560616Z"
    }
   },
   "outputs": [],
   "source": [
    "import pandas as pd"
   ]
  },
  {
   "cell_type": "code",
   "outputs": [],
   "source": [
    "data_dir = \"/Users/cheesemania/PycharmProjects/mscthesis_wrkdir\""
   ],
   "metadata": {
    "collapsed": false,
    "ExecuteTime": {
     "end_time": "2024-08-30T09:16:27.493554Z",
     "start_time": "2024-08-30T09:16:27.489285Z"
    }
   },
   "id": "45b7bb41e221287",
   "execution_count": 3
  },
  {
   "cell_type": "code",
   "outputs": [],
   "source": [
    "df_original = pd.read_csv(f'{data_dir}/metadata/case_control_metadata_remove_h1n1.tsv', sep='\\t')"
   ],
   "metadata": {
    "collapsed": false,
    "ExecuteTime": {
     "end_time": "2024-08-30T09:19:33.579163Z",
     "start_time": "2024-08-30T09:19:33.533115Z"
    }
   },
   "id": "ec9628c6f6575a39",
   "execution_count": 4
  },
  {
   "cell_type": "code",
   "outputs": [
    {
     "data": {
      "text/plain": "(2383, 19)"
     },
     "execution_count": 5,
     "metadata": {},
     "output_type": "execute_result"
    }
   ],
   "source": [
    "df_original.shape"
   ],
   "metadata": {
    "collapsed": false,
    "ExecuteTime": {
     "end_time": "2024-08-30T09:19:37.989568Z",
     "start_time": "2024-08-30T09:19:37.980049Z"
    }
   },
   "id": "daf797a41ffea064",
   "execution_count": 5
  },
  {
   "cell_type": "code",
   "outputs": [
    {
     "data": {
      "text/plain": "25"
     },
     "execution_count": 6,
     "metadata": {},
     "output_type": "execute_result"
    }
   ],
   "source": [
    "df_original['Project_ID'].nunique()"
   ],
   "metadata": {
    "collapsed": false,
    "ExecuteTime": {
     "end_time": "2024-08-30T09:20:02.556748Z",
     "start_time": "2024-08-30T09:20:02.537053Z"
    }
   },
   "id": "82eb3d6c8edf9d59",
   "execution_count": 6
  },
  {
   "cell_type": "code",
   "outputs": [
    {
     "name": "stdout",
     "output_type": "stream",
     "text": [
      "               Project_ID Case_Control  sample_count\n",
      "0              PRJDB13192         Case            76\n",
      "1              PRJDB13192      Control            24\n",
      "2              PRJEB35665         Case            20\n",
      "3              PRJEB35665      Control            17\n",
      "4              PRJEB38917         Case            32\n",
      "5              PRJEB38917      Control             9\n",
      "6              PRJEB38930         Case            94\n",
      "7              PRJEB38930      Control            62\n",
      "8              PRJEB42375         Case            80\n",
      "9              PRJEB42375      Control            64\n",
      "10             PRJEB46343         Case            24\n",
      "11             PRJEB46343      Control            12\n",
      "12             PRJEB53019         Case            17\n",
      "13             PRJEB53019      Control            11\n",
      "14            PRJNA419104         Case            34\n",
      "15            PRJNA419104      Control            23\n",
      "16            PRJNA517994         Case            91\n",
      "17            PRJNA517994      Control            11\n",
      "18            PRJNA557226         Case            18\n",
      "19            PRJNA557226      Control             9\n",
      "20            PRJNA590898         Case            36\n",
      "21            PRJNA590898      Control            18\n",
      "22            PRJNA607176         Case            34\n",
      "23            PRJNA607176      Control            47\n",
      "24            PRJNA637034         Case           106\n",
      "25            PRJNA637034      Control            46\n",
      "26            PRJNA647266         Case            90\n",
      "27            PRJNA647266      Control           150\n",
      "28            PRJNA662173         Case            46\n",
      "29            PRJNA662173      Control            23\n",
      "30            PRJNA698272         Case            78\n",
      "31            PRJNA698272      Control            16\n",
      "32            PRJNA703732         Case           137\n",
      "33            PRJNA703732      Control            18\n",
      "34            PRJNA735021         Case            47\n",
      "35            PRJNA735021      Control            39\n",
      "36            PRJNA751473         Case            17\n",
      "37            PRJNA751473      Control            17\n",
      "38            PRJNA756382         Case           103\n",
      "39            PRJNA756382      Control            58\n",
      "40            PRJNA778607         Case            63\n",
      "41            PRJNA778607      Control            42\n",
      "42            PRJNA791216         Case            99\n",
      "43            PRJNA791216      Control            30\n",
      "44            PRJNA794154         Case            30\n",
      "45            PRJNA794154      Control            23\n",
      "46            PRJNA813503         Case            46\n",
      "47            PRJNA813503      Control            52\n",
      "48  crohns-paper_37122605         Case           105\n",
      "49  crohns-paper_37122605      Control            39\n"
     ]
    }
   ],
   "source": [
    "grouped_case_control_sample_count_per_project = df_original.groupby(['Project_ID', 'Case_Control']).agg(sample_count=('SampleID', 'size')).reset_index()\n",
    "\n",
    "print(grouped_case_control_sample_count_per_project)"
   ],
   "metadata": {
    "collapsed": false,
    "ExecuteTime": {
     "end_time": "2024-08-30T09:22:03.525356Z",
     "start_time": "2024-08-30T09:22:03.509181Z"
    }
   },
   "id": "edc0ff778c11ada8",
   "execution_count": 8
  },
  {
   "cell_type": "markdown",
   "source": [
    "#### Excluding 6 projects due to inadequate sample sizes in total/per case-control group\n",
    "As a rule of thumb of sample classifier, a minimum of approximately 50 samples in total should be provided. Categorical metadata columns that are used as classifier targets should have a minimum of 10 samples per unique value (before rarefaction)."
   ],
   "metadata": {
    "collapsed": false
   },
   "id": "8eca2d72233bd714"
  },
  {
   "cell_type": "markdown",
   "source": [
    "PRJNA637034 - TBD\n",
    "Due to only 1 sample remaning after rarefaction, this project is excluded from the ML analysis."
   ],
   "metadata": {
    "collapsed": false
   },
   "id": "d675fe08a7e54f03"
  },
  {
   "cell_type": "code",
   "outputs": [],
   "source": [
    "projects_to_exclude_step1 = ['PRJEB35665', 'PRJEB38917', 'PRJEB46343', 'PRJEB53019', 'PRJNA557226', 'PRJNA751473']\n",
    "df_original_exclude_step1 = df_original[~df_original['Project_ID'].isin(projects_to_exclude_step1)]"
   ],
   "metadata": {
    "collapsed": false,
    "ExecuteTime": {
     "end_time": "2024-08-30T11:06:21.938491Z",
     "start_time": "2024-08-30T11:06:21.912387Z"
    }
   },
   "id": "61d03241abe333bd",
   "execution_count": 13
  },
  {
   "cell_type": "code",
   "outputs": [
    {
     "data": {
      "text/plain": "(2180, 19)"
     },
     "execution_count": 14,
     "metadata": {},
     "output_type": "execute_result"
    }
   ],
   "source": [
    "df_original_exclude_step1.shape"
   ],
   "metadata": {
    "collapsed": false,
    "ExecuteTime": {
     "end_time": "2024-08-30T11:06:22.967456Z",
     "start_time": "2024-08-30T11:06:22.960230Z"
    }
   },
   "id": "a449301cb63aae7c",
   "execution_count": 14
  },
  {
   "cell_type": "code",
   "outputs": [
    {
     "data": {
      "text/plain": "19"
     },
     "execution_count": 15,
     "metadata": {},
     "output_type": "execute_result"
    }
   ],
   "source": [
    "df_original_exclude_step1['Project_ID'].nunique()"
   ],
   "metadata": {
    "collapsed": false,
    "ExecuteTime": {
     "end_time": "2024-08-30T11:06:24.151375Z",
     "start_time": "2024-08-30T11:06:24.143545Z"
    }
   },
   "id": "d5c143cf1408e338",
   "execution_count": 15
  },
  {
   "cell_type": "code",
   "outputs": [
    {
     "name": "stdout",
     "output_type": "stream",
     "text": [
      "               Project_ID Case_Control  sample_count\n",
      "0              PRJDB13192         Case            76\n",
      "1              PRJDB13192      Control            24\n",
      "2              PRJEB38930         Case            94\n",
      "3              PRJEB38930      Control            62\n",
      "4              PRJEB42375         Case            80\n",
      "5              PRJEB42375      Control            64\n",
      "6             PRJNA419104         Case            34\n",
      "7             PRJNA419104      Control            23\n",
      "8             PRJNA517994         Case            91\n",
      "9             PRJNA517994      Control            11\n",
      "10            PRJNA590898         Case            36\n",
      "11            PRJNA590898      Control            18\n",
      "12            PRJNA607176         Case            34\n",
      "13            PRJNA607176      Control            47\n",
      "14            PRJNA637034         Case           106\n",
      "15            PRJNA637034      Control            46\n",
      "16            PRJNA647266         Case            90\n",
      "17            PRJNA647266      Control           150\n",
      "18            PRJNA662173         Case            46\n",
      "19            PRJNA662173      Control            23\n",
      "20            PRJNA698272         Case            78\n",
      "21            PRJNA698272      Control            16\n",
      "22            PRJNA703732         Case           137\n",
      "23            PRJNA703732      Control            18\n",
      "24            PRJNA735021         Case            47\n",
      "25            PRJNA735021      Control            39\n",
      "26            PRJNA756382         Case           103\n",
      "27            PRJNA756382      Control            58\n",
      "28            PRJNA778607         Case            63\n",
      "29            PRJNA778607      Control            42\n",
      "30            PRJNA791216         Case            99\n",
      "31            PRJNA791216      Control            30\n",
      "32            PRJNA794154         Case            30\n",
      "33            PRJNA794154      Control            23\n",
      "34            PRJNA813503         Case            46\n",
      "35            PRJNA813503      Control            52\n",
      "36  crohns-paper_37122605         Case           105\n",
      "37  crohns-paper_37122605      Control            39\n"
     ]
    }
   ],
   "source": [
    "update_grouped_case_control_sample_count_per_project = df_original_exclude_step1.groupby(['Project_ID', 'Case_Control']).agg(sample_count=('SampleID', 'size')).reset_index()\n",
    "\n",
    "print(update_grouped_case_control_sample_count_per_project)"
   ],
   "metadata": {
    "collapsed": false,
    "ExecuteTime": {
     "end_time": "2024-08-30T11:08:09.940594Z",
     "start_time": "2024-08-30T11:08:09.893095Z"
    }
   },
   "id": "f655e810d24d8dfd",
   "execution_count": 16
  },
  {
   "cell_type": "markdown",
   "source": [
    "#### Sample size balance"
   ],
   "metadata": {
    "collapsed": false
   },
   "id": "663ed5ae683ce599"
  },
  {
   "cell_type": "code",
   "outputs": [
    {
     "data": {
      "text/plain": "Case_Control           Case  Control  Difference\nProject_ID                                      \nPRJNA703732             137       18         119\nPRJNA517994              91       11          80\nPRJNA791216              99       30          69\ncrohns-paper_37122605   105       39          66\nPRJNA698272              78       16          62\nPRJNA637034             106       46          60\nPRJNA647266              90      150          60\nPRJDB13192               76       24          52\nPRJNA756382             103       58          45\nPRJEB38930               94       62          32\nPRJNA662173              46       23          23\nPRJNA778607              63       42          21\nPRJNA590898              36       18          18\nPRJEB42375               80       64          16\nPRJNA607176              34       47          13\nPRJNA419104              34       23          11\nPRJNA735021              47       39           8\nPRJNA794154              30       23           7\nPRJNA813503              46       52           6",
      "text/html": "<div>\n<style scoped>\n    .dataframe tbody tr th:only-of-type {\n        vertical-align: middle;\n    }\n\n    .dataframe tbody tr th {\n        vertical-align: top;\n    }\n\n    .dataframe thead th {\n        text-align: right;\n    }\n</style>\n<table border=\"1\" class=\"dataframe\">\n  <thead>\n    <tr style=\"text-align: right;\">\n      <th>Case_Control</th>\n      <th>Case</th>\n      <th>Control</th>\n      <th>Difference</th>\n    </tr>\n    <tr>\n      <th>Project_ID</th>\n      <th></th>\n      <th></th>\n      <th></th>\n    </tr>\n  </thead>\n  <tbody>\n    <tr>\n      <th>PRJNA703732</th>\n      <td>137</td>\n      <td>18</td>\n      <td>119</td>\n    </tr>\n    <tr>\n      <th>PRJNA517994</th>\n      <td>91</td>\n      <td>11</td>\n      <td>80</td>\n    </tr>\n    <tr>\n      <th>PRJNA791216</th>\n      <td>99</td>\n      <td>30</td>\n      <td>69</td>\n    </tr>\n    <tr>\n      <th>crohns-paper_37122605</th>\n      <td>105</td>\n      <td>39</td>\n      <td>66</td>\n    </tr>\n    <tr>\n      <th>PRJNA698272</th>\n      <td>78</td>\n      <td>16</td>\n      <td>62</td>\n    </tr>\n    <tr>\n      <th>PRJNA637034</th>\n      <td>106</td>\n      <td>46</td>\n      <td>60</td>\n    </tr>\n    <tr>\n      <th>PRJNA647266</th>\n      <td>90</td>\n      <td>150</td>\n      <td>60</td>\n    </tr>\n    <tr>\n      <th>PRJDB13192</th>\n      <td>76</td>\n      <td>24</td>\n      <td>52</td>\n    </tr>\n    <tr>\n      <th>PRJNA756382</th>\n      <td>103</td>\n      <td>58</td>\n      <td>45</td>\n    </tr>\n    <tr>\n      <th>PRJEB38930</th>\n      <td>94</td>\n      <td>62</td>\n      <td>32</td>\n    </tr>\n    <tr>\n      <th>PRJNA662173</th>\n      <td>46</td>\n      <td>23</td>\n      <td>23</td>\n    </tr>\n    <tr>\n      <th>PRJNA778607</th>\n      <td>63</td>\n      <td>42</td>\n      <td>21</td>\n    </tr>\n    <tr>\n      <th>PRJNA590898</th>\n      <td>36</td>\n      <td>18</td>\n      <td>18</td>\n    </tr>\n    <tr>\n      <th>PRJEB42375</th>\n      <td>80</td>\n      <td>64</td>\n      <td>16</td>\n    </tr>\n    <tr>\n      <th>PRJNA607176</th>\n      <td>34</td>\n      <td>47</td>\n      <td>13</td>\n    </tr>\n    <tr>\n      <th>PRJNA419104</th>\n      <td>34</td>\n      <td>23</td>\n      <td>11</td>\n    </tr>\n    <tr>\n      <th>PRJNA735021</th>\n      <td>47</td>\n      <td>39</td>\n      <td>8</td>\n    </tr>\n    <tr>\n      <th>PRJNA794154</th>\n      <td>30</td>\n      <td>23</td>\n      <td>7</td>\n    </tr>\n    <tr>\n      <th>PRJNA813503</th>\n      <td>46</td>\n      <td>52</td>\n      <td>6</td>\n    </tr>\n  </tbody>\n</table>\n</div>"
     },
     "execution_count": 18,
     "metadata": {},
     "output_type": "execute_result"
    }
   ],
   "source": [
    "# Calculate the sample size balance between 'Case' and 'Control' groups within each project\n",
    "sample_size_balance = df_original_exclude_step1.groupby(['Project_ID', 'Case_Control']).size().unstack(fill_value=0)\n",
    "\n",
    "# Add a column to show the absolute difference between the 'Case' and 'Control' counts\n",
    "sample_size_balance['Difference'] = abs(sample_size_balance['Case'] - sample_size_balance['Control'])\n",
    "\n",
    "# Display the balance summary\n",
    "sample_size_balance.sort_values(by='Difference', ascending=False)  \n",
    "# Show top 10 projects with the highest imbalance"
   ],
   "metadata": {
    "collapsed": false,
    "ExecuteTime": {
     "end_time": "2024-08-30T11:20:28.879975Z",
     "start_time": "2024-08-30T11:20:28.853194Z"
    }
   },
   "id": "84bc7c69f4f163a9",
   "execution_count": 18
  },
  {
   "cell_type": "markdown",
   "source": [
    "#### Age, Sex, and Geoloc_Country Matching"
   ],
   "metadata": {
    "collapsed": false
   },
   "id": "2bf22d036bc4d92"
  },
  {
   "cell_type": "code",
   "outputs": [],
   "source": [
    "from scipy.stats import chi2_contingency\n",
    "\n",
    "# Function to perform chi-square tests on categorical data\n",
    "def chi_square_test(df, column):\n",
    "    contingency_table = pd.crosstab(df['Case_Control'], df[column])\n",
    "    chi2, p, dof, expected = chi2_contingency(contingency_table)\n",
    "    return p\n",
    "\n",
    "# Analyze all projects\n",
    "projects_analysis = []\n",
    "for project_id in df_original_exclude_step1['Project_ID'].unique():\n",
    "    project_data = df_original_exclude_step1[df_original_exclude_step1['Project_ID'] == project_id]\n",
    "    \n",
    "    # Only perform chi-square tests if there are both Case and Control samples\n",
    "    if len(project_data['Case_Control'].unique()) == 2:\n",
    "        age_p_value = chi_square_test(project_data, 'Host_Age_Decade')\n",
    "        sex_p_value = chi_square_test(project_data, 'Host_Sex')\n",
    "        geo_p_value = chi_square_test(project_data, 'GeoLoc_Country')\n",
    "        \n",
    "        projects_analysis.append({\n",
    "            'Project_ID': project_id,\n",
    "            'Case_Count': (project_data['Case_Control'] == 'Case').sum(),\n",
    "            'Control_Count': (project_data['Case_Control'] == 'Control').sum(),\n",
    "            'Age_Match_p_value': age_p_value,\n",
    "            'Sex_Match_p_value': sex_p_value,\n",
    "            'Geo_Match_p_value': geo_p_value\n",
    "        })"
   ],
   "metadata": {
    "collapsed": false,
    "ExecuteTime": {
     "end_time": "2024-08-30T11:24:30.444414Z",
     "start_time": "2024-08-30T11:24:30.270643Z"
    }
   },
   "id": "8ae57719f1d49f22",
   "execution_count": 19
  },
  {
   "cell_type": "code",
   "outputs": [
    {
     "data": {
      "text/plain": "               Project_ID  Case_Count  Control_Count  Age_Matched  \\\n0   crohns-paper_37122605         105             39         True   \n1              PRJDB13192          76             24         True   \n2              PRJEB38930          94             62        False   \n3              PRJEB42375          80             64         True   \n4             PRJNA419104          34             23        False   \n5             PRJNA517994          91             11         True   \n6             PRJNA590898          36             18        False   \n7             PRJNA607176          34             47         True   \n8             PRJNA637034         106             46         True   \n9             PRJNA647266          90            150         True   \n10            PRJNA662173          46             23         True   \n11            PRJNA698272          78             16         True   \n12            PRJNA703732         137             18         True   \n13            PRJNA735021          47             39         True   \n14            PRJNA756382         103             58         True   \n15            PRJNA778607          63             42         True   \n16            PRJNA791216          99             30         True   \n17            PRJNA794154          30             23         True   \n18            PRJNA813503          46             52         True   \n\n    Sex_Matched  Geo_Matched  \n0          True         True  \n1          True         True  \n2         False         True  \n3          True         True  \n4          True         True  \n5          True        False  \n6         False         True  \n7          True         True  \n8          True         True  \n9          True         True  \n10         True         True  \n11         True         True  \n12         True         True  \n13         True         True  \n14         True         True  \n15        False         True  \n16         True         True  \n17        False         True  \n18         True         True  ",
      "text/html": "<div>\n<style scoped>\n    .dataframe tbody tr th:only-of-type {\n        vertical-align: middle;\n    }\n\n    .dataframe tbody tr th {\n        vertical-align: top;\n    }\n\n    .dataframe thead th {\n        text-align: right;\n    }\n</style>\n<table border=\"1\" class=\"dataframe\">\n  <thead>\n    <tr style=\"text-align: right;\">\n      <th></th>\n      <th>Project_ID</th>\n      <th>Case_Count</th>\n      <th>Control_Count</th>\n      <th>Age_Matched</th>\n      <th>Sex_Matched</th>\n      <th>Geo_Matched</th>\n    </tr>\n  </thead>\n  <tbody>\n    <tr>\n      <th>0</th>\n      <td>crohns-paper_37122605</td>\n      <td>105</td>\n      <td>39</td>\n      <td>True</td>\n      <td>True</td>\n      <td>True</td>\n    </tr>\n    <tr>\n      <th>1</th>\n      <td>PRJDB13192</td>\n      <td>76</td>\n      <td>24</td>\n      <td>True</td>\n      <td>True</td>\n      <td>True</td>\n    </tr>\n    <tr>\n      <th>2</th>\n      <td>PRJEB38930</td>\n      <td>94</td>\n      <td>62</td>\n      <td>False</td>\n      <td>False</td>\n      <td>True</td>\n    </tr>\n    <tr>\n      <th>3</th>\n      <td>PRJEB42375</td>\n      <td>80</td>\n      <td>64</td>\n      <td>True</td>\n      <td>True</td>\n      <td>True</td>\n    </tr>\n    <tr>\n      <th>4</th>\n      <td>PRJNA419104</td>\n      <td>34</td>\n      <td>23</td>\n      <td>False</td>\n      <td>True</td>\n      <td>True</td>\n    </tr>\n    <tr>\n      <th>5</th>\n      <td>PRJNA517994</td>\n      <td>91</td>\n      <td>11</td>\n      <td>True</td>\n      <td>True</td>\n      <td>False</td>\n    </tr>\n    <tr>\n      <th>6</th>\n      <td>PRJNA590898</td>\n      <td>36</td>\n      <td>18</td>\n      <td>False</td>\n      <td>False</td>\n      <td>True</td>\n    </tr>\n    <tr>\n      <th>7</th>\n      <td>PRJNA607176</td>\n      <td>34</td>\n      <td>47</td>\n      <td>True</td>\n      <td>True</td>\n      <td>True</td>\n    </tr>\n    <tr>\n      <th>8</th>\n      <td>PRJNA637034</td>\n      <td>106</td>\n      <td>46</td>\n      <td>True</td>\n      <td>True</td>\n      <td>True</td>\n    </tr>\n    <tr>\n      <th>9</th>\n      <td>PRJNA647266</td>\n      <td>90</td>\n      <td>150</td>\n      <td>True</td>\n      <td>True</td>\n      <td>True</td>\n    </tr>\n    <tr>\n      <th>10</th>\n      <td>PRJNA662173</td>\n      <td>46</td>\n      <td>23</td>\n      <td>True</td>\n      <td>True</td>\n      <td>True</td>\n    </tr>\n    <tr>\n      <th>11</th>\n      <td>PRJNA698272</td>\n      <td>78</td>\n      <td>16</td>\n      <td>True</td>\n      <td>True</td>\n      <td>True</td>\n    </tr>\n    <tr>\n      <th>12</th>\n      <td>PRJNA703732</td>\n      <td>137</td>\n      <td>18</td>\n      <td>True</td>\n      <td>True</td>\n      <td>True</td>\n    </tr>\n    <tr>\n      <th>13</th>\n      <td>PRJNA735021</td>\n      <td>47</td>\n      <td>39</td>\n      <td>True</td>\n      <td>True</td>\n      <td>True</td>\n    </tr>\n    <tr>\n      <th>14</th>\n      <td>PRJNA756382</td>\n      <td>103</td>\n      <td>58</td>\n      <td>True</td>\n      <td>True</td>\n      <td>True</td>\n    </tr>\n    <tr>\n      <th>15</th>\n      <td>PRJNA778607</td>\n      <td>63</td>\n      <td>42</td>\n      <td>True</td>\n      <td>False</td>\n      <td>True</td>\n    </tr>\n    <tr>\n      <th>16</th>\n      <td>PRJNA791216</td>\n      <td>99</td>\n      <td>30</td>\n      <td>True</td>\n      <td>True</td>\n      <td>True</td>\n    </tr>\n    <tr>\n      <th>17</th>\n      <td>PRJNA794154</td>\n      <td>30</td>\n      <td>23</td>\n      <td>True</td>\n      <td>False</td>\n      <td>True</td>\n    </tr>\n    <tr>\n      <th>18</th>\n      <td>PRJNA813503</td>\n      <td>46</td>\n      <td>52</td>\n      <td>True</td>\n      <td>True</td>\n      <td>True</td>\n    </tr>\n  </tbody>\n</table>\n</div>"
     },
     "execution_count": 20,
     "metadata": {},
     "output_type": "execute_result"
    }
   ],
   "source": [
    "# Convert the results into a DataFrame for better visualization\n",
    "analysis_df = pd.DataFrame(projects_analysis)\n",
    "\n",
    "# Marking projects with p-values > 0.05 as \"Matched\" (no significant difference)\n",
    "analysis_df['Age_Matched'] = analysis_df['Age_Match_p_value'] > 0.05\n",
    "analysis_df['Sex_Matched'] = analysis_df['Sex_Match_p_value'] > 0.05\n",
    "analysis_df['Geo_Matched'] = analysis_df['Geo_Match_p_value'] > 0.05\n",
    "\n",
    "# Display the analysis summary\n",
    "analysis_df[['Project_ID', 'Case_Count', 'Control_Count', 'Age_Matched', 'Sex_Matched', 'Geo_Matched']]"
   ],
   "metadata": {
    "collapsed": false,
    "ExecuteTime": {
     "end_time": "2024-08-30T11:24:34.195173Z",
     "start_time": "2024-08-30T11:24:34.178303Z"
    }
   },
   "id": "70d28cfc57fa2ff5",
   "execution_count": 20
  },
  {
   "cell_type": "code",
   "outputs": [
    {
     "data": {
      "text/plain": "               Project_ID  Case_Count  Control_Count  Age_Match_p_value  \\\n0   crohns-paper_37122605         105             39       1.000000e+00   \n1              PRJDB13192          76             24       1.000000e+00   \n2              PRJEB38930          94             62       6.825276e-35   \n3              PRJEB42375          80             64       1.000000e+00   \n4             PRJNA419104          34             23       6.183117e-07   \n5             PRJNA517994          91             11       1.363380e-01   \n6             PRJNA590898          36             18       2.095826e-10   \n7             PRJNA607176          34             47       1.000000e+00   \n8             PRJNA637034         106             46       1.000000e+00   \n9             PRJNA647266          90            150       1.000000e+00   \n10            PRJNA662173          46             23       1.000000e+00   \n11            PRJNA698272          78             16       1.000000e+00   \n12            PRJNA703732         137             18       7.750715e-01   \n13            PRJNA735021          47             39       7.237880e-01   \n14            PRJNA756382         103             58       2.910663e-01   \n15            PRJNA778607          63             42       9.120438e-01   \n16            PRJNA791216          99             30       1.000000e+00   \n17            PRJNA794154          30             23       1.000000e+00   \n18            PRJNA813503          46             52       1.000000e+00   \n\n    Sex_Match_p_value  Geo_Match_p_value  Age_Matched  Sex_Matched  \\\n0        1.000000e+00       1.000000e+00         True         True   \n1        1.000000e+00       1.000000e+00         True         True   \n2        6.825276e-35       1.000000e+00        False        False   \n3        1.000000e+00       1.000000e+00         True         True   \n4        2.902398e-01       1.000000e+00        False         True   \n5        4.360838e-01       2.795095e-15         True         True   \n6        1.879529e-12       1.000000e+00        False        False   \n7        1.000000e+00       1.000000e+00         True         True   \n8        1.000000e+00       1.000000e+00         True         True   \n9        1.000000e+00       1.000000e+00         True         True   \n10       1.000000e+00       1.000000e+00         True         True   \n11       1.000000e+00       1.000000e+00         True         True   \n12       6.268473e-01       6.268473e-01         True         True   \n13       1.000000e+00       1.000000e+00         True         True   \n14       1.000000e+00       1.000000e+00         True         True   \n15       2.535797e-03       1.000000e+00         True        False   \n16       1.000000e+00       1.000000e+00         True         True   \n17       3.824599e-03       1.000000e+00         True        False   \n18       1.000000e+00       1.000000e+00         True         True   \n\n    Geo_Matched  \n0          True  \n1          True  \n2          True  \n3          True  \n4          True  \n5         False  \n6          True  \n7          True  \n8          True  \n9          True  \n10         True  \n11         True  \n12         True  \n13         True  \n14         True  \n15         True  \n16         True  \n17         True  \n18         True  ",
      "text/html": "<div>\n<style scoped>\n    .dataframe tbody tr th:only-of-type {\n        vertical-align: middle;\n    }\n\n    .dataframe tbody tr th {\n        vertical-align: top;\n    }\n\n    .dataframe thead th {\n        text-align: right;\n    }\n</style>\n<table border=\"1\" class=\"dataframe\">\n  <thead>\n    <tr style=\"text-align: right;\">\n      <th></th>\n      <th>Project_ID</th>\n      <th>Case_Count</th>\n      <th>Control_Count</th>\n      <th>Age_Match_p_value</th>\n      <th>Sex_Match_p_value</th>\n      <th>Geo_Match_p_value</th>\n      <th>Age_Matched</th>\n      <th>Sex_Matched</th>\n      <th>Geo_Matched</th>\n    </tr>\n  </thead>\n  <tbody>\n    <tr>\n      <th>0</th>\n      <td>crohns-paper_37122605</td>\n      <td>105</td>\n      <td>39</td>\n      <td>1.000000e+00</td>\n      <td>1.000000e+00</td>\n      <td>1.000000e+00</td>\n      <td>True</td>\n      <td>True</td>\n      <td>True</td>\n    </tr>\n    <tr>\n      <th>1</th>\n      <td>PRJDB13192</td>\n      <td>76</td>\n      <td>24</td>\n      <td>1.000000e+00</td>\n      <td>1.000000e+00</td>\n      <td>1.000000e+00</td>\n      <td>True</td>\n      <td>True</td>\n      <td>True</td>\n    </tr>\n    <tr>\n      <th>2</th>\n      <td>PRJEB38930</td>\n      <td>94</td>\n      <td>62</td>\n      <td>6.825276e-35</td>\n      <td>6.825276e-35</td>\n      <td>1.000000e+00</td>\n      <td>False</td>\n      <td>False</td>\n      <td>True</td>\n    </tr>\n    <tr>\n      <th>3</th>\n      <td>PRJEB42375</td>\n      <td>80</td>\n      <td>64</td>\n      <td>1.000000e+00</td>\n      <td>1.000000e+00</td>\n      <td>1.000000e+00</td>\n      <td>True</td>\n      <td>True</td>\n      <td>True</td>\n    </tr>\n    <tr>\n      <th>4</th>\n      <td>PRJNA419104</td>\n      <td>34</td>\n      <td>23</td>\n      <td>6.183117e-07</td>\n      <td>2.902398e-01</td>\n      <td>1.000000e+00</td>\n      <td>False</td>\n      <td>True</td>\n      <td>True</td>\n    </tr>\n    <tr>\n      <th>5</th>\n      <td>PRJNA517994</td>\n      <td>91</td>\n      <td>11</td>\n      <td>1.363380e-01</td>\n      <td>4.360838e-01</td>\n      <td>2.795095e-15</td>\n      <td>True</td>\n      <td>True</td>\n      <td>False</td>\n    </tr>\n    <tr>\n      <th>6</th>\n      <td>PRJNA590898</td>\n      <td>36</td>\n      <td>18</td>\n      <td>2.095826e-10</td>\n      <td>1.879529e-12</td>\n      <td>1.000000e+00</td>\n      <td>False</td>\n      <td>False</td>\n      <td>True</td>\n    </tr>\n    <tr>\n      <th>7</th>\n      <td>PRJNA607176</td>\n      <td>34</td>\n      <td>47</td>\n      <td>1.000000e+00</td>\n      <td>1.000000e+00</td>\n      <td>1.000000e+00</td>\n      <td>True</td>\n      <td>True</td>\n      <td>True</td>\n    </tr>\n    <tr>\n      <th>8</th>\n      <td>PRJNA637034</td>\n      <td>106</td>\n      <td>46</td>\n      <td>1.000000e+00</td>\n      <td>1.000000e+00</td>\n      <td>1.000000e+00</td>\n      <td>True</td>\n      <td>True</td>\n      <td>True</td>\n    </tr>\n    <tr>\n      <th>9</th>\n      <td>PRJNA647266</td>\n      <td>90</td>\n      <td>150</td>\n      <td>1.000000e+00</td>\n      <td>1.000000e+00</td>\n      <td>1.000000e+00</td>\n      <td>True</td>\n      <td>True</td>\n      <td>True</td>\n    </tr>\n    <tr>\n      <th>10</th>\n      <td>PRJNA662173</td>\n      <td>46</td>\n      <td>23</td>\n      <td>1.000000e+00</td>\n      <td>1.000000e+00</td>\n      <td>1.000000e+00</td>\n      <td>True</td>\n      <td>True</td>\n      <td>True</td>\n    </tr>\n    <tr>\n      <th>11</th>\n      <td>PRJNA698272</td>\n      <td>78</td>\n      <td>16</td>\n      <td>1.000000e+00</td>\n      <td>1.000000e+00</td>\n      <td>1.000000e+00</td>\n      <td>True</td>\n      <td>True</td>\n      <td>True</td>\n    </tr>\n    <tr>\n      <th>12</th>\n      <td>PRJNA703732</td>\n      <td>137</td>\n      <td>18</td>\n      <td>7.750715e-01</td>\n      <td>6.268473e-01</td>\n      <td>6.268473e-01</td>\n      <td>True</td>\n      <td>True</td>\n      <td>True</td>\n    </tr>\n    <tr>\n      <th>13</th>\n      <td>PRJNA735021</td>\n      <td>47</td>\n      <td>39</td>\n      <td>7.237880e-01</td>\n      <td>1.000000e+00</td>\n      <td>1.000000e+00</td>\n      <td>True</td>\n      <td>True</td>\n      <td>True</td>\n    </tr>\n    <tr>\n      <th>14</th>\n      <td>PRJNA756382</td>\n      <td>103</td>\n      <td>58</td>\n      <td>2.910663e-01</td>\n      <td>1.000000e+00</td>\n      <td>1.000000e+00</td>\n      <td>True</td>\n      <td>True</td>\n      <td>True</td>\n    </tr>\n    <tr>\n      <th>15</th>\n      <td>PRJNA778607</td>\n      <td>63</td>\n      <td>42</td>\n      <td>9.120438e-01</td>\n      <td>2.535797e-03</td>\n      <td>1.000000e+00</td>\n      <td>True</td>\n      <td>False</td>\n      <td>True</td>\n    </tr>\n    <tr>\n      <th>16</th>\n      <td>PRJNA791216</td>\n      <td>99</td>\n      <td>30</td>\n      <td>1.000000e+00</td>\n      <td>1.000000e+00</td>\n      <td>1.000000e+00</td>\n      <td>True</td>\n      <td>True</td>\n      <td>True</td>\n    </tr>\n    <tr>\n      <th>17</th>\n      <td>PRJNA794154</td>\n      <td>30</td>\n      <td>23</td>\n      <td>1.000000e+00</td>\n      <td>3.824599e-03</td>\n      <td>1.000000e+00</td>\n      <td>True</td>\n      <td>False</td>\n      <td>True</td>\n    </tr>\n    <tr>\n      <th>18</th>\n      <td>PRJNA813503</td>\n      <td>46</td>\n      <td>52</td>\n      <td>1.000000e+00</td>\n      <td>1.000000e+00</td>\n      <td>1.000000e+00</td>\n      <td>True</td>\n      <td>True</td>\n      <td>True</td>\n    </tr>\n  </tbody>\n</table>\n</div>"
     },
     "execution_count": 22,
     "metadata": {},
     "output_type": "execute_result"
    }
   ],
   "source": [
    "analysis_df"
   ],
   "metadata": {
    "collapsed": false,
    "ExecuteTime": {
     "end_time": "2024-08-30T12:33:10.389856Z",
     "start_time": "2024-08-30T12:33:10.355034Z"
    }
   },
   "id": "b6427cfc50c091aa",
   "execution_count": 22
  },
  {
   "cell_type": "code",
   "outputs": [],
   "source": [
    "analysis_df.to_csv(f'{data_dir}/metadata/case_control_matching_summary.tsv', na_rep='NA', sep='\\t', index=False)"
   ],
   "metadata": {
    "collapsed": false,
    "ExecuteTime": {
     "end_time": "2024-08-30T14:22:09.966385Z",
     "start_time": "2024-08-30T14:22:09.949646Z"
    }
   },
   "id": "29f3b1bdeadc704f",
   "execution_count": 25
  },
  {
   "cell_type": "code",
   "outputs": [],
   "source": [],
   "metadata": {
    "collapsed": false
   },
   "id": "98271970f2fb2b05"
  }
 ],
 "metadata": {
  "kernelspec": {
   "display_name": "Python 3",
   "language": "python",
   "name": "python3"
  },
  "language_info": {
   "codemirror_mode": {
    "name": "ipython",
    "version": 2
   },
   "file_extension": ".py",
   "mimetype": "text/x-python",
   "name": "python",
   "nbconvert_exporter": "python",
   "pygments_lexer": "ipython2",
   "version": "2.7.6"
  }
 },
 "nbformat": 4,
 "nbformat_minor": 5
}
