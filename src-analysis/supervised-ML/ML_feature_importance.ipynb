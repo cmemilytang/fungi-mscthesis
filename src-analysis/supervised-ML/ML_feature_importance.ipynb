{
 "cells": [
  {
   "cell_type": "code",
   "outputs": [],
   "source": [
    "import os\n",
    "import pandas as pd"
   ],
   "metadata": {
    "collapsed": false,
    "ExecuteTime": {
     "end_time": "2024-09-05T12:57:06.225896Z",
     "start_time": "2024-09-05T12:57:06.224150Z"
    }
   },
   "id": "3046c60e7606a38",
   "execution_count": 1
  },
  {
   "cell_type": "code",
   "outputs": [],
   "source": [
    "taxonomy_file = \"/Users/cheesemania/PycharmProjects/mscthesis_wrkdir/metadata/fungal-traits/UNITE-FungalTraits-merging.xlsx\"\n",
    "taxonomy_df = pd.read_excel(taxonomy_file, sheet_name='UNITE-FungalTraits-merged_all')"
   ],
   "metadata": {
    "collapsed": false,
    "ExecuteTime": {
     "end_time": "2024-09-05T12:58:10.944057Z",
     "start_time": "2024-09-05T12:57:42.668513Z"
    }
   },
   "id": "cbd23ed89d8ef08b",
   "execution_count": 3
  },
  {
   "cell_type": "code",
   "outputs": [],
   "source": [
    "taxonomy_df_short = taxonomy_df[['Feature ID', 'Taxon', 'Fruitbody_type_template', 'primary_lifestyle']]"
   ],
   "metadata": {
    "collapsed": false,
    "ExecuteTime": {
     "end_time": "2024-09-05T14:52:24.639135Z",
     "start_time": "2024-09-05T14:52:24.568108Z"
    }
   },
   "id": "886917367d7fec4",
   "execution_count": 7
  },
  {
   "cell_type": "code",
   "outputs": [],
   "source": [
    "base_dir = \"/Users/cheesemania/PycharmProjects/mscthesis_wrkdir/src-analysis/ML/Rarefied\""
   ],
   "metadata": {
    "collapsed": false,
    "ExecuteTime": {
     "end_time": "2024-09-05T12:59:15.578751Z",
     "start_time": "2024-09-05T12:59:15.574548Z"
    }
   },
   "id": "3277cdb3c149b4a0",
   "execution_count": 5
  },
  {
   "cell_type": "code",
   "outputs": [
    {
     "name": "stdout",
     "output_type": "stream",
     "text": [
      "['PRJNA813503', 'PRJEB38930', 'PRJNA607176', 'PRJNA590898', 'PRJNA756382', 'PRJNA735021', 'PRJEB42375', 'PRJNA662173', 'PRJNA647266']\n"
     ]
    }
   ],
   "source": [
    "# List all project folders\n",
    "project_folders = [f for f in os.listdir(base_dir) if os.path.isdir(os.path.join(base_dir, f))]\n",
    "print(project_folders)"
   ],
   "metadata": {
    "collapsed": false,
    "ExecuteTime": {
     "end_time": "2024-09-05T12:59:16.438547Z",
     "start_time": "2024-09-05T12:59:16.431544Z"
    }
   },
   "id": "35c216a7d3268f93",
   "execution_count": 6
  },
  {
   "cell_type": "code",
   "outputs": [
    {
     "name": "stdout",
     "output_type": "stream",
     "text": [
      "Processed PRJNA813503/ML-results-non-filtered and saved the result to /Users/cheesemania/PycharmProjects/mscthesis_wrkdir/src-analysis/ML/Rarefied/PRJNA813503/ML-results-non-filtered/RF-ncv-classifier-ten-fold/important_features_top_20_with_taxonomy.tsv\n",
      "Processed PRJNA813503/ML-results-filt-nonresident and saved the result to /Users/cheesemania/PycharmProjects/mscthesis_wrkdir/src-analysis/ML/Rarefied/PRJNA813503/ML-results-filt-nonresident/RF-ncv-classifier-ten-fold/important_features_top_20_with_taxonomy.tsv\n",
      "Processed PRJEB38930/ML-results-non-filtered and saved the result to /Users/cheesemania/PycharmProjects/mscthesis_wrkdir/src-analysis/ML/Rarefied/PRJEB38930/ML-results-non-filtered/RF-ncv-classifier-ten-fold/important_features_top_20_with_taxonomy.tsv\n",
      "Processed PRJEB38930/ML-results-filt-nonresident and saved the result to /Users/cheesemania/PycharmProjects/mscthesis_wrkdir/src-analysis/ML/Rarefied/PRJEB38930/ML-results-filt-nonresident/RF-ncv-classifier-ten-fold/important_features_top_20_with_taxonomy.tsv\n",
      "Processed PRJNA607176/ML-results-non-filtered and saved the result to /Users/cheesemania/PycharmProjects/mscthesis_wrkdir/src-analysis/ML/Rarefied/PRJNA607176/ML-results-non-filtered/RF-ncv-classifier-ten-fold/important_features_top_20_with_taxonomy.tsv\n",
      "Processed PRJNA607176/ML-results-filt-nonresident and saved the result to /Users/cheesemania/PycharmProjects/mscthesis_wrkdir/src-analysis/ML/Rarefied/PRJNA607176/ML-results-filt-nonresident/RF-ncv-classifier-ten-fold/important_features_top_20_with_taxonomy.tsv\n",
      "Processed PRJNA590898/ML-results-non-filtered and saved the result to /Users/cheesemania/PycharmProjects/mscthesis_wrkdir/src-analysis/ML/Rarefied/PRJNA590898/ML-results-non-filtered/RF-ncv-classifier-ten-fold/important_features_top_20_with_taxonomy.tsv\n",
      "Processed PRJNA590898/ML-results-filt-nonresident and saved the result to /Users/cheesemania/PycharmProjects/mscthesis_wrkdir/src-analysis/ML/Rarefied/PRJNA590898/ML-results-filt-nonresident/RF-ncv-classifier-ten-fold/important_features_top_20_with_taxonomy.tsv\n",
      "Processed PRJNA756382/ML-results-non-filtered and saved the result to /Users/cheesemania/PycharmProjects/mscthesis_wrkdir/src-analysis/ML/Rarefied/PRJNA756382/ML-results-non-filtered/RF-ncv-classifier-ten-fold/important_features_top_20_with_taxonomy.tsv\n",
      "Processed PRJNA756382/ML-results-filt-nonresident and saved the result to /Users/cheesemania/PycharmProjects/mscthesis_wrkdir/src-analysis/ML/Rarefied/PRJNA756382/ML-results-filt-nonresident/RF-ncv-classifier-ten-fold/important_features_top_20_with_taxonomy.tsv\n",
      "Processed PRJNA735021/ML-results-non-filtered and saved the result to /Users/cheesemania/PycharmProjects/mscthesis_wrkdir/src-analysis/ML/Rarefied/PRJNA735021/ML-results-non-filtered/RF-ncv-classifier-ten-fold/important_features_top_20_with_taxonomy.tsv\n",
      "Processed PRJNA735021/ML-results-filt-nonresident and saved the result to /Users/cheesemania/PycharmProjects/mscthesis_wrkdir/src-analysis/ML/Rarefied/PRJNA735021/ML-results-filt-nonresident/RF-ncv-classifier-ten-fold/important_features_top_20_with_taxonomy.tsv\n",
      "Processed PRJEB42375/ML-results-non-filtered and saved the result to /Users/cheesemania/PycharmProjects/mscthesis_wrkdir/src-analysis/ML/Rarefied/PRJEB42375/ML-results-non-filtered/RF-ncv-classifier-ten-fold/important_features_top_20_with_taxonomy.tsv\n",
      "Processed PRJEB42375/ML-results-filt-nonresident and saved the result to /Users/cheesemania/PycharmProjects/mscthesis_wrkdir/src-analysis/ML/Rarefied/PRJEB42375/ML-results-filt-nonresident/RF-ncv-classifier-ten-fold/important_features_top_20_with_taxonomy.tsv\n",
      "Processed PRJNA662173/ML-results-non-filtered and saved the result to /Users/cheesemania/PycharmProjects/mscthesis_wrkdir/src-analysis/ML/Rarefied/PRJNA662173/ML-results-non-filtered/RF-ncv-classifier-ten-fold/important_features_top_20_with_taxonomy.tsv\n",
      "Processed PRJNA662173/ML-results-filt-nonresident and saved the result to /Users/cheesemania/PycharmProjects/mscthesis_wrkdir/src-analysis/ML/Rarefied/PRJNA662173/ML-results-filt-nonresident/RF-ncv-classifier-ten-fold/important_features_top_20_with_taxonomy.tsv\n",
      "Processed PRJNA647266/ML-results-non-filtered and saved the result to /Users/cheesemania/PycharmProjects/mscthesis_wrkdir/src-analysis/ML/Rarefied/PRJNA647266/ML-results-non-filtered/RF-ncv-classifier-ten-fold/important_features_top_20_with_taxonomy.tsv\n",
      "Processed PRJNA647266/ML-results-filt-nonresident and saved the result to /Users/cheesemania/PycharmProjects/mscthesis_wrkdir/src-analysis/ML/Rarefied/PRJNA647266/ML-results-filt-nonresident/RF-ncv-classifier-ten-fold/important_features_top_20_with_taxonomy.tsv\n"
     ]
    }
   ],
   "source": [
    "# Iterate through each project folder\n",
    "for project in project_folders:\n",
    "    project_path = os.path.join(base_dir, project)\n",
    "    \n",
    "    # Iterate over both \"ML-results-filtered\" and \"ML-results-non-filtered\" folders\n",
    "    for result_type in ['ML-results-non-filtered', 'ML-results-filt-nonresident']:\n",
    "        result_path = os.path.join(project_path, result_type, 'RF-ncv-classifier-ten-fold')\n",
    "        \n",
    "        feature_importance_file = os.path.join(result_path, 'feature_importance.tsv')\n",
    "        feature_importance_df = pd.read_csv(feature_importance_file, sep='\\t')\n",
    "        \n",
    "        # Sort by 'importance' and get the top 20 features\n",
    "        top_20_important_features = feature_importance_df.sort_values(by='importance', ascending=False).head(20)\n",
    "        \n",
    "        # Merge with the common taxonomy DataFrame\n",
    "        merged_df = pd.merge(top_20_important_features, taxonomy_df_short, left_on='id', right_on='Feature ID', how='left')\n",
    "        \n",
    "        # Save to a new TSV file\n",
    "        output_file = os.path.join(result_path, 'important_features_top_20_with_taxonomy.tsv')\n",
    "        merged_df.to_csv(output_file, sep='\\t', index=False)\n",
    "\n",
    "        print(f\"Processed {project}/{result_type} and saved the result to {output_file}\")"
   ],
   "metadata": {
    "collapsed": true,
    "ExecuteTime": {
     "end_time": "2024-09-05T14:55:37.489813Z",
     "start_time": "2024-09-05T14:55:36.383138Z"
    }
   },
   "id": "initial_id",
   "execution_count": 9
  },
  {
   "cell_type": "code",
   "outputs": [],
   "source": [],
   "metadata": {
    "collapsed": false
   },
   "id": "3778265567e13a0e"
  }
 ],
 "metadata": {
  "kernelspec": {
   "display_name": "Python 3",
   "language": "python",
   "name": "python3"
  },
  "language_info": {
   "codemirror_mode": {
    "name": "ipython",
    "version": 2
   },
   "file_extension": ".py",
   "mimetype": "text/x-python",
   "name": "python",
   "nbconvert_exporter": "python",
   "pygments_lexer": "ipython2",
   "version": "2.7.6"
  }
 },
 "nbformat": 4,
 "nbformat_minor": 5
}
