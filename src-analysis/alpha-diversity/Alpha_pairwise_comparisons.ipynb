{
 "cells": [
  {
   "cell_type": "code",
   "execution_count": 1,
   "id": "eaa1131ebfcabd66",
   "metadata": {
    "collapsed": false,
    "ExecuteTime": {
     "end_time": "2024-09-10T08:57:27.637144Z",
     "start_time": "2024-09-10T08:57:26.771067Z"
    }
   },
   "outputs": [],
   "source": [
    "import pandas as pd\n",
    "from scipy.stats import ranksums\n",
    "from statsmodels.stats.multitest import multipletests"
   ]
  },
  {
   "cell_type": "code",
   "outputs": [],
   "source": [
    "data_dir = \"/Users/cheesemania/PycharmProjects/mscthesis_wrkdir/metadata\""
   ],
   "metadata": {
    "collapsed": false,
    "ExecuteTime": {
     "end_time": "2024-09-10T11:30:45.456686Z",
     "start_time": "2024-09-10T11:30:45.447957Z"
    }
   },
   "id": "c3e6ad24e81d02f0",
   "execution_count": 31
  },
  {
   "cell_type": "code",
   "outputs": [],
   "source": [
    "data_classical = pd.read_csv(f'{data_dir}/combined_alpha_diversity_rar3000.tsv', sep='\\t')\n",
    "data_q2_boots = pd.read_csv(f'{data_dir}/combined_alpha_diversity_q2_boots_rar3000_n50.tsv', sep='\\t')"
   ],
   "metadata": {
    "collapsed": false,
    "ExecuteTime": {
     "end_time": "2024-09-10T11:30:51.341197Z",
     "start_time": "2024-09-10T11:30:51.306728Z"
    }
   },
   "id": "261d2be3b05df4b2",
   "execution_count": 32
  },
  {
   "cell_type": "code",
   "outputs": [],
   "source": [
    "# Function to perform Wilcoxon rank-sum test (equivalent to the Kruskal-Wallis test for binary data) \n",
    "# and return p-values\n",
    "def wilcoxon_test_within_project(project_data, feature_col):\n",
    "    cases = project_data[project_data['Case_Control'] == 'Case'][feature_col]\n",
    "    controls = project_data[project_data['Case_Control'] == 'Control'][feature_col]\n",
    "    \n",
    "    if len(cases) > 0 and len(controls) > 0:\n",
    "        stat, p_value = ranksums(cases, controls)\n",
    "        return p_value\n",
    "    else:\n",
    "        return None"
   ],
   "metadata": {
    "collapsed": false,
    "ExecuteTime": {
     "end_time": "2024-09-10T11:31:00.201287Z",
     "start_time": "2024-09-10T11:31:00.195661Z"
    }
   },
   "id": "2f0f844fba463fd",
   "execution_count": 33
  },
  {
   "cell_type": "code",
   "outputs": [],
   "source": [
    "# Function to calculate percentage change between cases and controls\n",
    "# Median or mean? - Mean\n",
    "def calculate_percentage_change(project_data, feature_col):\n",
    "    cases_mean = project_data[project_data['Case_Control'] == 'Case'][feature_col].mean()\n",
    "    controls_mean = project_data[project_data['Case_Control'] == 'Control'][feature_col].mean()\n",
    "    \n",
    "    if controls_mean != 0:  # Avoid division by zero\n",
    "        percentage_change = ((cases_mean - controls_mean) / controls_mean) * 100\n",
    "        return percentage_change\n",
    "    else:\n",
    "        return None"
   ],
   "metadata": {
    "collapsed": false,
    "ExecuteTime": {
     "end_time": "2024-09-10T11:31:11.834460Z",
     "start_time": "2024-09-10T11:31:11.828522Z"
    }
   },
   "id": "1ac2b57d7c03d423",
   "execution_count": 34
  },
  {
   "cell_type": "code",
   "outputs": [],
   "source": [
    "# Classical alpha diversity\n",
    "comparison_cols = ['observed_features_non_filtered', 'observed_features_filt_nonresident',\n",
    "                   'observed_features_nonresident', 'shannon_entropy_nonresident',\n",
    "                   'shannon_entropy_non_filtered', 'shannon_entropy_filt_nonresident']\n",
    "\n",
    "# Create a DataFrame to store results\n",
    "results = []\n",
    "\n",
    "# Iterate over each project in data_classical\n",
    "for project_id, project_data in data_classical.groupby('Project_ID'):\n",
    "    for col in comparison_cols:\n",
    "        p_value = wilcoxon_test_within_project(project_data, col)\n",
    "        percentage_change = calculate_percentage_change(project_data, col)\n",
    "        results.append({\n",
    "            'project_id': project_id, \n",
    "            'comparison': col, \n",
    "            'p_value': p_value, \n",
    "            'percentage_change': percentage_change\n",
    "        })\n",
    "\n",
    "# Convert results into a DataFrame\n",
    "classical_results_df = pd.DataFrame(results)\n",
    "\n",
    "# Perform multiple testing correction (FDR)\n",
    "classical_results_df['q_value'] = multipletests(classical_results_df['p_value'], method='fdr_bh')[1]"
   ],
   "metadata": {
    "collapsed": false,
    "ExecuteTime": {
     "end_time": "2024-09-10T11:31:24.146008Z",
     "start_time": "2024-09-10T11:31:23.998306Z"
    }
   },
   "id": "9868e552d83c2cef",
   "execution_count": 35
  },
  {
   "cell_type": "code",
   "outputs": [
    {
     "data": {
      "text/plain": "                project_id                          comparison   p_value  \\\n0               PRJDB13192      observed_features_non_filtered  0.014416   \n1               PRJDB13192  observed_features_filt_nonresident  0.006035   \n2               PRJDB13192       observed_features_nonresident  0.111392   \n3               PRJDB13192         shannon_entropy_nonresident  0.781171   \n4               PRJDB13192        shannon_entropy_non_filtered  0.000345   \n..                     ...                                 ...       ...   \n121  crohns-paper_37122605  observed_features_filt_nonresident  0.000005   \n122  crohns-paper_37122605       observed_features_nonresident  0.017221   \n123  crohns-paper_37122605         shannon_entropy_nonresident  0.016595   \n124  crohns-paper_37122605        shannon_entropy_non_filtered  0.583375   \n125  crohns-paper_37122605    shannon_entropy_filt_nonresident  0.499436   \n\n     percentage_change   q_value  \n0           -27.034909  0.064874  \n1           -31.548999  0.030416  \n2            -3.561644  0.264201  \n3           139.751244  0.911521  \n4           -52.439817  0.006202  \n..                 ...       ...  \n121         -32.163621  0.000201  \n122         -20.200000  0.065753  \n123         -30.189085  0.065753  \n124          -4.197466  0.802082  \n125          -5.960250  0.758180  \n\n[126 rows x 5 columns]",
      "text/html": "<div>\n<style scoped>\n    .dataframe tbody tr th:only-of-type {\n        vertical-align: middle;\n    }\n\n    .dataframe tbody tr th {\n        vertical-align: top;\n    }\n\n    .dataframe thead th {\n        text-align: right;\n    }\n</style>\n<table border=\"1\" class=\"dataframe\">\n  <thead>\n    <tr style=\"text-align: right;\">\n      <th></th>\n      <th>project_id</th>\n      <th>comparison</th>\n      <th>p_value</th>\n      <th>percentage_change</th>\n      <th>q_value</th>\n    </tr>\n  </thead>\n  <tbody>\n    <tr>\n      <th>0</th>\n      <td>PRJDB13192</td>\n      <td>observed_features_non_filtered</td>\n      <td>0.014416</td>\n      <td>-27.034909</td>\n      <td>0.064874</td>\n    </tr>\n    <tr>\n      <th>1</th>\n      <td>PRJDB13192</td>\n      <td>observed_features_filt_nonresident</td>\n      <td>0.006035</td>\n      <td>-31.548999</td>\n      <td>0.030416</td>\n    </tr>\n    <tr>\n      <th>2</th>\n      <td>PRJDB13192</td>\n      <td>observed_features_nonresident</td>\n      <td>0.111392</td>\n      <td>-3.561644</td>\n      <td>0.264201</td>\n    </tr>\n    <tr>\n      <th>3</th>\n      <td>PRJDB13192</td>\n      <td>shannon_entropy_nonresident</td>\n      <td>0.781171</td>\n      <td>139.751244</td>\n      <td>0.911521</td>\n    </tr>\n    <tr>\n      <th>4</th>\n      <td>PRJDB13192</td>\n      <td>shannon_entropy_non_filtered</td>\n      <td>0.000345</td>\n      <td>-52.439817</td>\n      <td>0.006202</td>\n    </tr>\n    <tr>\n      <th>...</th>\n      <td>...</td>\n      <td>...</td>\n      <td>...</td>\n      <td>...</td>\n      <td>...</td>\n    </tr>\n    <tr>\n      <th>121</th>\n      <td>crohns-paper_37122605</td>\n      <td>observed_features_filt_nonresident</td>\n      <td>0.000005</td>\n      <td>-32.163621</td>\n      <td>0.000201</td>\n    </tr>\n    <tr>\n      <th>122</th>\n      <td>crohns-paper_37122605</td>\n      <td>observed_features_nonresident</td>\n      <td>0.017221</td>\n      <td>-20.200000</td>\n      <td>0.065753</td>\n    </tr>\n    <tr>\n      <th>123</th>\n      <td>crohns-paper_37122605</td>\n      <td>shannon_entropy_nonresident</td>\n      <td>0.016595</td>\n      <td>-30.189085</td>\n      <td>0.065753</td>\n    </tr>\n    <tr>\n      <th>124</th>\n      <td>crohns-paper_37122605</td>\n      <td>shannon_entropy_non_filtered</td>\n      <td>0.583375</td>\n      <td>-4.197466</td>\n      <td>0.802082</td>\n    </tr>\n    <tr>\n      <th>125</th>\n      <td>crohns-paper_37122605</td>\n      <td>shannon_entropy_filt_nonresident</td>\n      <td>0.499436</td>\n      <td>-5.960250</td>\n      <td>0.758180</td>\n    </tr>\n  </tbody>\n</table>\n<p>126 rows × 5 columns</p>\n</div>"
     },
     "execution_count": 36,
     "metadata": {},
     "output_type": "execute_result"
    }
   ],
   "source": [
    "classical_results_df"
   ],
   "metadata": {
    "collapsed": false,
    "ExecuteTime": {
     "end_time": "2024-09-10T11:31:29.374984Z",
     "start_time": "2024-09-10T11:31:29.358969Z"
    }
   },
   "id": "d4afba7c6fe5bc4f",
   "execution_count": 36
  },
  {
   "cell_type": "code",
   "outputs": [],
   "source": [
    "# q2-boots alpha diversity\n",
    "comparison_cols = ['observed_features_non_filtered', 'observed_features_filt_nonresident',\n",
    "                   'observed_features_nonresident', 'shannon_entropy_nonresident',\n",
    "                   'shannon_entropy_non_filtered', 'shannon_entropy_filt_nonresident']\n",
    "\n",
    "# Create a DataFrame to store results\n",
    "results = []\n",
    "\n",
    "# Iterate over each project in data_classical\n",
    "for project_id, project_data in data_q2_boots.groupby('Project_ID'):\n",
    "    for col in comparison_cols:\n",
    "        p_value = wilcoxon_test_within_project(project_data, col)\n",
    "        percentage_change = calculate_percentage_change(project_data, col)\n",
    "        results.append({\n",
    "            'project_id': project_id, \n",
    "            'comparison': col, \n",
    "            'p_value': p_value, \n",
    "            'percentage_change': percentage_change\n",
    "        })\n",
    "\n",
    "# Convert results into a DataFrame\n",
    "q2_boots_results_df = pd.DataFrame(results)\n",
    "\n",
    "# Perform multiple testing correction (FDR)\n",
    "q2_boots_results_df['q_value'] = multipletests(q2_boots_results_df['p_value'], method='fdr_bh')[1]"
   ],
   "metadata": {
    "collapsed": false,
    "ExecuteTime": {
     "end_time": "2024-09-10T11:31:47.055139Z",
     "start_time": "2024-09-10T11:31:46.909540Z"
    }
   },
   "id": "90555fd9c0724fbe",
   "execution_count": 37
  },
  {
   "cell_type": "code",
   "outputs": [
    {
     "data": {
      "text/plain": "                project_id                          comparison   p_value  \\\n0               PRJDB13192      observed_features_non_filtered  0.017696   \n1               PRJDB13192  observed_features_filt_nonresident  0.035307   \n2               PRJDB13192       observed_features_nonresident  0.451302   \n3               PRJDB13192         shannon_entropy_nonresident  0.556775   \n4               PRJDB13192        shannon_entropy_non_filtered  0.000389   \n..                     ...                                 ...       ...   \n121  crohns-paper_37122605  observed_features_filt_nonresident  0.000005   \n122  crohns-paper_37122605       observed_features_nonresident  0.114185   \n123  crohns-paper_37122605         shannon_entropy_nonresident  0.159977   \n124  crohns-paper_37122605        shannon_entropy_non_filtered  0.643838   \n125  crohns-paper_37122605    shannon_entropy_filt_nonresident  0.528662   \n\n     percentage_change   q_value  \n0           -23.726027  0.082580  \n1           -26.910070  0.158883  \n2           -52.179328  0.900867  \n3           -26.548297  0.900867  \n4           -52.489603  0.008238  \n..                 ...       ...  \n121         -31.701995  0.000680  \n122         490.625000  0.358813  \n123         656.163245  0.447936  \n124          -3.820081  0.922139  \n125          -5.642054  0.900867  \n\n[126 rows x 5 columns]",
      "text/html": "<div>\n<style scoped>\n    .dataframe tbody tr th:only-of-type {\n        vertical-align: middle;\n    }\n\n    .dataframe tbody tr th {\n        vertical-align: top;\n    }\n\n    .dataframe thead th {\n        text-align: right;\n    }\n</style>\n<table border=\"1\" class=\"dataframe\">\n  <thead>\n    <tr style=\"text-align: right;\">\n      <th></th>\n      <th>project_id</th>\n      <th>comparison</th>\n      <th>p_value</th>\n      <th>percentage_change</th>\n      <th>q_value</th>\n    </tr>\n  </thead>\n  <tbody>\n    <tr>\n      <th>0</th>\n      <td>PRJDB13192</td>\n      <td>observed_features_non_filtered</td>\n      <td>0.017696</td>\n      <td>-23.726027</td>\n      <td>0.082580</td>\n    </tr>\n    <tr>\n      <th>1</th>\n      <td>PRJDB13192</td>\n      <td>observed_features_filt_nonresident</td>\n      <td>0.035307</td>\n      <td>-26.910070</td>\n      <td>0.158883</td>\n    </tr>\n    <tr>\n      <th>2</th>\n      <td>PRJDB13192</td>\n      <td>observed_features_nonresident</td>\n      <td>0.451302</td>\n      <td>-52.179328</td>\n      <td>0.900867</td>\n    </tr>\n    <tr>\n      <th>3</th>\n      <td>PRJDB13192</td>\n      <td>shannon_entropy_nonresident</td>\n      <td>0.556775</td>\n      <td>-26.548297</td>\n      <td>0.900867</td>\n    </tr>\n    <tr>\n      <th>4</th>\n      <td>PRJDB13192</td>\n      <td>shannon_entropy_non_filtered</td>\n      <td>0.000389</td>\n      <td>-52.489603</td>\n      <td>0.008238</td>\n    </tr>\n    <tr>\n      <th>...</th>\n      <td>...</td>\n      <td>...</td>\n      <td>...</td>\n      <td>...</td>\n      <td>...</td>\n    </tr>\n    <tr>\n      <th>121</th>\n      <td>crohns-paper_37122605</td>\n      <td>observed_features_filt_nonresident</td>\n      <td>0.000005</td>\n      <td>-31.701995</td>\n      <td>0.000680</td>\n    </tr>\n    <tr>\n      <th>122</th>\n      <td>crohns-paper_37122605</td>\n      <td>observed_features_nonresident</td>\n      <td>0.114185</td>\n      <td>490.625000</td>\n      <td>0.358813</td>\n    </tr>\n    <tr>\n      <th>123</th>\n      <td>crohns-paper_37122605</td>\n      <td>shannon_entropy_nonresident</td>\n      <td>0.159977</td>\n      <td>656.163245</td>\n      <td>0.447936</td>\n    </tr>\n    <tr>\n      <th>124</th>\n      <td>crohns-paper_37122605</td>\n      <td>shannon_entropy_non_filtered</td>\n      <td>0.643838</td>\n      <td>-3.820081</td>\n      <td>0.922139</td>\n    </tr>\n    <tr>\n      <th>125</th>\n      <td>crohns-paper_37122605</td>\n      <td>shannon_entropy_filt_nonresident</td>\n      <td>0.528662</td>\n      <td>-5.642054</td>\n      <td>0.900867</td>\n    </tr>\n  </tbody>\n</table>\n<p>126 rows × 5 columns</p>\n</div>"
     },
     "execution_count": 38,
     "metadata": {},
     "output_type": "execute_result"
    }
   ],
   "source": [
    "q2_boots_results_df"
   ],
   "metadata": {
    "collapsed": false,
    "ExecuteTime": {
     "end_time": "2024-09-10T11:31:50.791247Z",
     "start_time": "2024-09-10T11:31:50.780693Z"
    }
   },
   "id": "eab76fca7dfd1547",
   "execution_count": 38
  },
  {
   "cell_type": "code",
   "outputs": [],
   "source": [
    "# Aggregate the original data to get unique project-level data\n",
    "aggregated_data_classical = data_classical.groupby('Project_ID').agg({\n",
    "    'Disease_Level_1': 'first',  # each project has a single value for these columns\n",
    "    'Disease_Level_2': 'first' \n",
    "}).reset_index()\n",
    "\n",
    "aggregated_data_boots = data_q2_boots.groupby('Project_ID').agg({\n",
    "    'Disease_Level_1': 'first',  # each project has a single value for these columns\n",
    "    'Disease_Level_2': 'first' \n",
    "}).reset_index()"
   ],
   "metadata": {
    "collapsed": false,
    "ExecuteTime": {
     "end_time": "2024-09-10T12:19:09.155520Z",
     "start_time": "2024-09-10T12:19:09.137810Z"
    }
   },
   "id": "d21075661230689c",
   "execution_count": 51
  },
  {
   "cell_type": "code",
   "outputs": [],
   "source": [
    "classical_results_df_with_disease = pd.merge(classical_results_df, aggregated_data_classical[['Project_ID', 'Disease_Level_1', 'Disease_Level_2']], left_on='project_id', right_on='Project_ID', how='left')\n",
    "\n",
    "q2_boots_results_df_with_disease = pd.merge(q2_boots_results_df, aggregated_data_boots[['Project_ID', 'Disease_Level_1', 'Disease_Level_2']], left_on='project_id', right_on='Project_ID', how='left')"
   ],
   "metadata": {
    "collapsed": false,
    "ExecuteTime": {
     "end_time": "2024-09-10T12:19:37.658043Z",
     "start_time": "2024-09-10T12:19:37.641590Z"
    }
   },
   "id": "15e7fa71df9c9206",
   "execution_count": 53
  },
  {
   "cell_type": "code",
   "outputs": [],
   "source": [
    "classical_results_df_with_disease = classical_results_df_with_disease.drop(columns=['Project_ID'])\n",
    "\n",
    "q2_boots_results_df_with_disease = q2_boots_results_df_with_disease.drop(columns=['Project_ID'])"
   ],
   "metadata": {
    "collapsed": false,
    "ExecuteTime": {
     "end_time": "2024-09-10T12:19:57.070038Z",
     "start_time": "2024-09-10T12:19:57.063922Z"
    }
   },
   "id": "5975bc664fcf5d0e",
   "execution_count": 55
  },
  {
   "cell_type": "code",
   "outputs": [],
   "source": [
    "# Save the results to a new TSV file\n",
    "classical_results_df_with_disease.to_csv(f'{data_dir}/classical_alpha_stats_for_plots.tsv', sep='\\t', index=False)\n",
    "q2_boots_results_df_with_disease.to_csv(f'{data_dir}/boots_alpha_stats_for_plots.tsv', sep='\\t', index=False)"
   ],
   "metadata": {
    "collapsed": false,
    "ExecuteTime": {
     "end_time": "2024-09-10T12:20:08.412087Z",
     "start_time": "2024-09-10T12:20:08.396856Z"
    }
   },
   "id": "6fa9365b22ea8551",
   "execution_count": 56
  },
  {
   "cell_type": "markdown",
   "source": [
    "### Subsetting the dataframe (only the classical alpha diversity)"
   ],
   "metadata": {
    "collapsed": false
   },
   "id": "587dfaad2712a135"
  },
  {
   "cell_type": "code",
   "outputs": [],
   "source": [
    "# Non-filtered\n",
    "non_filtered_results_df = classical_results_df_with_disease[\n",
    "    classical_results_df_with_disease['comparison'].isin(['observed_features_non_filtered', 'shannon_entropy_non_filtered'])\n",
    "]"
   ],
   "metadata": {
    "collapsed": false,
    "ExecuteTime": {
     "end_time": "2024-09-10T12:31:15.896302Z",
     "start_time": "2024-09-10T12:31:15.887326Z"
    }
   },
   "id": "ae39727a29f9871e",
   "execution_count": 58
  },
  {
   "cell_type": "code",
   "outputs": [],
   "source": [
    "# Filt-nonresident\n",
    "filt_nonresident_results_df = classical_results_df_with_disease[\n",
    "    classical_results_df_with_disease['comparison'].isin(['observed_features_filt_nonresident', 'shannon_entropy_filt_nonresident'])\n",
    "]"
   ],
   "metadata": {
    "collapsed": false,
    "ExecuteTime": {
     "end_time": "2024-09-10T12:31:18.015468Z",
     "start_time": "2024-09-10T12:31:18.009477Z"
    }
   },
   "id": "49905a1d0b11c94d",
   "execution_count": 59
  },
  {
   "cell_type": "code",
   "outputs": [],
   "source": [
    "# Non-resident\n",
    "nonresident_results_df = classical_results_df_with_disease[\n",
    "    classical_results_df_with_disease['comparison'].isin(['observed_features_nonresident', 'shannon_entropy_nonresident'])\n",
    "]"
   ],
   "metadata": {
    "collapsed": false,
    "ExecuteTime": {
     "end_time": "2024-09-10T12:31:19.893622Z",
     "start_time": "2024-09-10T12:31:19.888228Z"
    }
   },
   "id": "eb7c63f62f7be1c",
   "execution_count": 60
  },
  {
   "cell_type": "code",
   "outputs": [],
   "source": [
    "non_filtered_results_df.to_csv(f'{data_dir}/non_filtered_alpha_stats_for_plots.tsv', sep='\\t', index=False)\n",
    "filt_nonresident_results_df.to_csv(f'{data_dir}/filt_nonresident_alpha_stats_for_plots.tsv', sep='\\t', index=False)\n",
    "nonresident_results_df.to_csv(f'{data_dir}/nonresident_alpha_stats_for_plots.tsv', sep='\\t', index=False)"
   ],
   "metadata": {
    "collapsed": false,
    "ExecuteTime": {
     "end_time": "2024-09-10T12:33:17.580811Z",
     "start_time": "2024-09-10T12:33:17.569046Z"
    }
   },
   "id": "95ed32017469c55d",
   "execution_count": 61
  },
  {
   "cell_type": "markdown",
   "source": [
    "#### Sanity check"
   ],
   "metadata": {
    "collapsed": false
   },
   "id": "7da21583dfc5c3b"
  },
  {
   "cell_type": "code",
   "outputs": [
    {
     "name": "stdout",
     "output_type": "stream",
     "text": [
      "['Infectious' 'Cancer' 'Other' 'Gastrointestinal' 'Liver' 'Metabolic'\n",
      " 'Autoimmune']\n"
     ]
    }
   ],
   "source": [
    "print(classical_results_df_with_disease['Disease_Level_1'].unique())"
   ],
   "metadata": {
    "collapsed": false,
    "ExecuteTime": {
     "end_time": "2024-09-10T11:44:35.518525Z",
     "start_time": "2024-09-10T11:44:35.513386Z"
    }
   },
   "id": "28a7da150f149d47",
   "execution_count": 50
  },
  {
   "cell_type": "code",
   "outputs": [
    {
     "name": "stdout",
     "output_type": "stream",
     "text": [
      "['COVID-19' 'Melanoma' 'AN' 'IBS' 'HIV' 'CDI' 'Alcohol-Associated-LD'\n",
      " 'IBD' 'CKD' 'T2DM' 'NAFLD' 'RA' 'AD' 'T1DM' 'HD' 'GDM']\n"
     ]
    }
   ],
   "source": [
    "print(classical_results_df_with_disease['Disease_Level_2'].unique())"
   ],
   "metadata": {
    "collapsed": false,
    "ExecuteTime": {
     "end_time": "2024-09-10T11:44:17.537559Z",
     "start_time": "2024-09-10T11:44:17.524649Z"
    }
   },
   "id": "7ea0bf32ec242292",
   "execution_count": 48
  }
 ],
 "metadata": {
  "kernelspec": {
   "display_name": "Python 3",
   "language": "python",
   "name": "python3"
  },
  "language_info": {
   "codemirror_mode": {
    "name": "ipython",
    "version": 2
   },
   "file_extension": ".py",
   "mimetype": "text/x-python",
   "name": "python",
   "nbconvert_exporter": "python",
   "pygments_lexer": "ipython2",
   "version": "2.7.6"
  }
 },
 "nbformat": 4,
 "nbformat_minor": 5
}
