{
 "cells": [
  {
   "cell_type": "markdown",
   "source": [
    "#### This analysis is performed under the \"q2-boots-2024.5.beta\" environment."
   ],
   "metadata": {
    "collapsed": false
   },
   "id": "2aa63b3ab349f1cc"
  },
  {
   "cell_type": "code",
   "execution_count": 1,
   "id": "initial_id",
   "metadata": {
    "collapsed": true,
    "ExecuteTime": {
     "end_time": "2024-08-28T13:18:32.468400Z",
     "start_time": "2024-08-28T13:18:31.823895Z"
    }
   },
   "outputs": [],
   "source": [
    "import os\n",
    "import pandas as pd\n",
    "import qiime2 as q2"
   ]
  },
  {
   "cell_type": "code",
   "outputs": [],
   "source": [
    "path = \"/Users/cheesemania/PycharmProjects/mscthesis_wrkdir\""
   ],
   "metadata": {
    "collapsed": false,
    "ExecuteTime": {
     "end_time": "2024-08-28T13:18:34.032868Z",
     "start_time": "2024-08-28T13:18:34.028633Z"
    }
   },
   "id": "4755bdfb1c65073e",
   "execution_count": 2
  },
  {
   "cell_type": "markdown",
   "source": [
    "#### Test on resampling time n = 5, 10, 20, 50, 100.\n",
    "#### No difference in terms of the number of samples, and no obvious different in terms of pairwise group significance of observed features.\n",
    "\n",
    "#### Decided on using n=50 for the balance of robustness and saving time and computational resources."
   ],
   "metadata": {
    "collapsed": false
   },
   "id": "ced0ed62d56a2298"
  },
  {
   "cell_type": "code",
   "outputs": [
    {
     "name": "stdout",
     "output_type": "stream",
     "text": [
      "\u001B[32mSaved SampleData[AlphaDiversity] to: /Users/cheesemania/PycharmProjects/mscthesis_wrkdir/src-analysis/diversity-analysis/q2-boots/n50/alpha-diversity-results-non-filtered/observed_features_vector.qza\u001B[0m\r\n",
      "\u001B[0m"
     ]
    }
   ],
   "source": [
    "# Final feature table of case-control samples\n",
    "# Observed features\n",
    "!qiime boots alpha \\\n",
    "    --i-table {path}/src-analysis/feature-table/health-disease-case-control/case_control_feature_table_remove_h1n1.qza \\\n",
    "    --p-sampling-depth 3000 \\\n",
    "    --p-metric 'observed_features' \\\n",
    "    --p-n 50 \\\n",
    "    --p-no-replacement \\\n",
    "    --p-average-method 'median' \\\n",
    "    --o-average-alpha-diversity {path}/src-analysis/diversity-analysis/q2-boots/n50/alpha-diversity-results-non-filtered/observed_features_vector.qza\n",
    "\n",
    "# \"Median\" is generally preferred if your dataset is prone to outliers or has a skewed distribution, as it provides a more robust measure of central tendency."
   ],
   "metadata": {
    "collapsed": false,
    "ExecuteTime": {
     "end_time": "2024-09-01T14:52:38.491369Z",
     "start_time": "2024-09-01T14:45:10.272858Z"
    }
   },
   "id": "924b51ca086fbc6a",
   "execution_count": 36
  },
  {
   "cell_type": "code",
   "outputs": [
    {
     "name": "stdout",
     "output_type": "stream",
     "text": [
      "\u001B[32mSaved Visualization to: /Users/cheesemania/PycharmProjects/mscthesis_wrkdir/src-analysis/diversity-analysis/q2-boots/n50/alpha-diversity-results-non-filtered/observed-features-group-significance.qzv\u001B[0m\r\n",
      "\u001B[0m"
     ]
    }
   ],
   "source": [
    "# Observed features\n",
    "!qiime diversity alpha-group-significance \\\n",
    "    --i-alpha-diversity {path}/src-analysis/diversity-analysis/q2-boots/n50/alpha-diversity-results-non-filtered/observed_features_vector.qza \\\n",
    "    --m-metadata-file {path}/metadata/case_control_metadata_remove_h1n1.tsv \\\n",
    "    --o-visualization {path}/src-analysis/diversity-analysis/q2-boots/n50/alpha-diversity-results-non-filtered/observed-features-group-significance.qzv"
   ],
   "metadata": {
    "collapsed": false,
    "ExecuteTime": {
     "end_time": "2024-09-01T15:07:05.845300Z",
     "start_time": "2024-09-01T15:06:31.806551Z"
    }
   },
   "id": "69636c1be70561fe",
   "execution_count": 37
  },
  {
   "cell_type": "code",
   "outputs": [
    {
     "name": "stdout",
     "output_type": "stream",
     "text": [
      "\u001B[32mSaved SampleData[AlphaDiversity] to: /Users/cheesemania/PycharmProjects/mscthesis_wrkdir/src-analysis/diversity-analysis/q2-boots/n50/alpha-diversity-results-non-filtered/shannon_vector.qza\u001B[0m\r\n",
      "\u001B[0m"
     ]
    }
   ],
   "source": [
    "# Final feature table of case-control samples\n",
    "# Shannon entropy\n",
    "!qiime boots alpha \\\n",
    "    --i-table {path}/src-analysis/feature-table/health-disease-case-control/case_control_feature_table_remove_h1n1.qza \\\n",
    "    --p-sampling-depth 3000 \\\n",
    "    --p-metric 'shannon' \\\n",
    "    --p-n 50 \\\n",
    "    --p-no-replacement \\\n",
    "    --p-average-method 'median' \\\n",
    "    --o-average-alpha-diversity {path}/src-analysis/diversity-analysis/q2-boots/n50/alpha-diversity-results-non-filtered/shannon_vector.qza"
   ],
   "metadata": {
    "collapsed": false,
    "ExecuteTime": {
     "end_time": "2024-09-01T15:14:32.805463Z",
     "start_time": "2024-09-01T15:07:27.433757Z"
    }
   },
   "id": "4142865dcf27272a",
   "execution_count": 38
  },
  {
   "cell_type": "code",
   "outputs": [
    {
     "name": "stdout",
     "output_type": "stream",
     "text": [
      "\u001B[32mSaved Visualization to: /Users/cheesemania/PycharmProjects/mscthesis_wrkdir/src-analysis/diversity-analysis/q2-boots/n50/alpha-diversity-results-non-filtered/shannon-group-significance.qzv\u001B[0m\r\n",
      "\u001B[0m"
     ]
    }
   ],
   "source": [
    "# Shannon entropy\n",
    "!qiime diversity alpha-group-significance \\\n",
    "    --i-alpha-diversity {path}/src-analysis/diversity-analysis/q2-boots/n50/alpha-diversity-results-non-filtered/shannon_vector.qza \\\n",
    "    --m-metadata-file {path}/metadata/case_control_metadata_remove_h1n1.tsv \\\n",
    "    --o-visualization {path}/src-analysis/diversity-analysis/q2-boots/n50/alpha-diversity-results-non-filtered/shannon-group-significance.qzv"
   ],
   "metadata": {
    "collapsed": false,
    "ExecuteTime": {
     "end_time": "2024-09-01T15:22:59.157505Z",
     "start_time": "2024-09-01T15:22:24.467406Z"
    }
   },
   "id": "73a6dc64cb904138",
   "execution_count": 39
  },
  {
   "cell_type": "markdown",
   "source": [
    "### Filtered non-resident fungi from the final (original) non-rarefied feature table"
   ],
   "metadata": {
    "collapsed": false
   },
   "id": "fff6a42e7b886ce"
  },
  {
   "cell_type": "code",
   "outputs": [
    {
     "name": "stdout",
     "output_type": "stream",
     "text": [
      "\u001B[32mSaved FeatureTable[Frequency] to: /Users/cheesemania/PycharmProjects/mscthesis_wrkdir/src-analysis/diversity-analysis/q2-boots/n50/alpha-diversity-results-filt-nonresident/case_control_filt_nonresident_feature_table.qza\u001B[0m\r\n",
      "\u001B[0m"
     ]
    }
   ],
   "source": [
    "# Filter non-resident fungi from case_control_feature_table_remove_h1n1_filtered1_table (filtered1: excluding four projects with small sample sizes)\n",
    "!qiime feature-table filter-features \\\n",
    "    --i-table {path}/src-analysis/feature-table/health-disease-case-control/case_control_feature_table_remove_h1n1_filtered1.qza \\\n",
    "    --m-metadata-file {path}/metadata/fungal-traits/non-resident_ids.tsv \\\n",
    "    --p-exclude-ids True \\\n",
    "    --o-filtered-table {path}/src-analysis/diversity-analysis/q2-boots/n50/alpha-diversity-results-filt-nonresident/case_control_filt_nonresident_feature_table.qza"
   ],
   "metadata": {
    "collapsed": false,
    "ExecuteTime": {
     "end_time": "2024-09-01T15:26:26.501911Z",
     "start_time": "2024-09-01T15:25:57.971334Z"
    }
   },
   "id": "7ba1f3167e368eb9",
   "execution_count": 40
  },
  {
   "cell_type": "code",
   "outputs": [
    {
     "name": "stdout",
     "output_type": "stream",
     "text": [
      "\u001B[32mSaved Visualization to: /Users/cheesemania/PycharmProjects/mscthesis_wrkdir/src-analysis/diversity-analysis/q2-boots/n50/alpha-diversity-results-filt-nonresident/case_control_filt_nonresident_feature_table.qzv\u001B[0m\r\n",
      "\u001B[0m"
     ]
    }
   ],
   "source": [
    "!qiime feature-table summarize \\\n",
    "    --i-table {path}/src-analysis/diversity-analysis/q2-boots/n50/alpha-diversity-results-filt-nonresident/case_control_filt_nonresident_feature_table.qza \\\n",
    "    --o-visualization {path}/src-analysis/diversity-analysis/q2-boots/n50/alpha-diversity-results-filt-nonresident/case_control_filt_nonresident_feature_table.qzv"
   ],
   "metadata": {
    "collapsed": false,
    "ExecuteTime": {
     "end_time": "2024-09-01T15:27:24.677048Z",
     "start_time": "2024-09-01T15:26:56.065227Z"
    }
   },
   "id": "63a535f1dcd7706e",
   "execution_count": 41
  },
  {
   "cell_type": "code",
   "outputs": [
    {
     "name": "stdout",
     "output_type": "stream",
     "text": [
      "\u001B[32mSaved SampleData[AlphaDiversity] to: /Users/cheesemania/PycharmProjects/mscthesis_wrkdir/src-analysis/diversity-analysis/q2-boots/n50/alpha-diversity-results-filt-nonresident/observed_features_vector.qza\u001B[0m\r\n",
      "\u001B[0m"
     ]
    }
   ],
   "source": [
    "# Observed features\n",
    "!qiime boots alpha \\\n",
    "    --i-table {path}/src-analysis/diversity-analysis/q2-boots/n50/alpha-diversity-results-filt-nonresident/case_control_filt_nonresident_feature_table.qza \\\n",
    "    --p-sampling-depth 3000 \\\n",
    "    --p-metric 'observed_features' \\\n",
    "    --p-n 50 \\\n",
    "    --p-no-replacement \\\n",
    "    --p-average-method 'median' \\\n",
    "    --o-average-alpha-diversity {path}/src-analysis/diversity-analysis/q2-boots/n50/alpha-diversity-results-filt-nonresident/observed_features_vector.qza"
   ],
   "metadata": {
    "collapsed": false,
    "ExecuteTime": {
     "end_time": "2024-09-01T15:36:25.295598Z",
     "start_time": "2024-09-01T15:29:32.240834Z"
    }
   },
   "id": "420dc97950e8048e",
   "execution_count": 42
  },
  {
   "cell_type": "code",
   "outputs": [
    {
     "name": "stdout",
     "output_type": "stream",
     "text": [
      "\u001B[32mSaved Visualization to: /Users/cheesemania/PycharmProjects/mscthesis_wrkdir/src-analysis/diversity-analysis/q2-boots/n50/alpha-diversity-results-filt-nonresident/observed-features-group-significance.qzv\u001B[0m\r\n",
      "\u001B[0m"
     ]
    }
   ],
   "source": [
    "# Observed features\n",
    "!qiime diversity alpha-group-significance \\\n",
    "    --i-alpha-diversity {path}/src-analysis/diversity-analysis/q2-boots/n50/alpha-diversity-results-filt-nonresident/observed_features_vector.qza \\\n",
    "    --m-metadata-file {path}/metadata/case_control_metadata_remove_h1n1_filtered1.tsv \\\n",
    "    --o-visualization {path}/src-analysis/diversity-analysis/q2-boots/n50/alpha-diversity-results-filt-nonresident/observed-features-group-significance.qzv"
   ],
   "metadata": {
    "collapsed": false,
    "ExecuteTime": {
     "end_time": "2024-09-01T15:40:22.475387Z",
     "start_time": "2024-09-01T15:39:49.707364Z"
    }
   },
   "id": "6e570d26e8680454",
   "execution_count": 43
  },
  {
   "cell_type": "code",
   "outputs": [
    {
     "name": "stdout",
     "output_type": "stream",
     "text": [
      "\u001B[32mSaved SampleData[AlphaDiversity] to: /Users/cheesemania/PycharmProjects/mscthesis_wrkdir/src-analysis/diversity-analysis/q2-boots/n50/alpha-diversity-results-filt-nonresident/shannon_vector.qza\u001B[0m\r\n",
      "\u001B[0m"
     ]
    }
   ],
   "source": [
    "# Shannon entropy\n",
    "!qiime boots alpha \\\n",
    "    --i-table {path}/src-analysis/diversity-analysis/q2-boots/n50/alpha-diversity-results-filt-nonresident/case_control_filt_nonresident_feature_table.qza \\\n",
    "    --p-sampling-depth 3000 \\\n",
    "    --p-metric 'shannon' \\\n",
    "    --p-n 50 \\\n",
    "    --p-no-replacement \\\n",
    "    --p-average-method 'median' \\\n",
    "    --o-average-alpha-diversity {path}/src-analysis/diversity-analysis/q2-boots/n50/alpha-diversity-results-filt-nonresident/shannon_vector.qza"
   ],
   "metadata": {
    "collapsed": false,
    "ExecuteTime": {
     "end_time": "2024-09-01T15:47:26.945922Z",
     "start_time": "2024-09-01T15:40:36.679316Z"
    }
   },
   "id": "2bc47d718cc86562",
   "execution_count": 44
  },
  {
   "cell_type": "code",
   "outputs": [
    {
     "name": "stdout",
     "output_type": "stream",
     "text": [
      "\u001B[32mSaved Visualization to: /Users/cheesemania/PycharmProjects/mscthesis_wrkdir/src-analysis/diversity-analysis/q2-boots/n50/alpha-diversity-results-filt-nonresident/shannon-group-significance.qzv\u001B[0m\r\n",
      "\u001B[0m"
     ]
    }
   ],
   "source": [
    "# Shannon entropy\n",
    "!qiime diversity alpha-group-significance \\\n",
    "    --i-alpha-diversity {path}/src-analysis/diversity-analysis/q2-boots/n50/alpha-diversity-results-filt-nonresident/shannon_vector.qza \\\n",
    "    --m-metadata-file {path}/metadata/case_control_metadata_remove_h1n1_filtered1.tsv \\\n",
    "    --o-visualization {path}/src-analysis/diversity-analysis/q2-boots/n50/alpha-diversity-results-filt-nonresident/shannon-group-significance.qzv"
   ],
   "metadata": {
    "collapsed": false,
    "ExecuteTime": {
     "end_time": "2024-09-01T15:50:10.954443Z",
     "start_time": "2024-09-01T15:49:40.085238Z"
    }
   },
   "id": "8dff59142c57411d",
   "execution_count": 45
  },
  {
   "cell_type": "markdown",
   "source": [
    "### Subsetting the final (original) non-rarefied feature table with only non-resident fungi"
   ],
   "metadata": {
    "collapsed": false
   },
   "id": "40df55c47f595580"
  },
  {
   "cell_type": "code",
   "outputs": [
    {
     "name": "stdout",
     "output_type": "stream",
     "text": [
      "\u001B[32mSaved FeatureTable[Frequency] to: /Users/cheesemania/PycharmProjects/mscthesis_wrkdir/src-analysis/diversity-analysis/q2-boots/n50/alpha-diversity-results-nonresident/case_control_nonresident_feature_table.qza\u001B[0m\r\n",
      "\u001B[0m"
     ]
    }
   ],
   "source": [
    "# Retain only non-resident fungi in the case_control_feature_table_remove_h1n1_filtered1_table (filtered1: excluding four projects with small sample sizes)\n",
    "!qiime feature-table filter-features \\\n",
    "    --i-table {path}/src-analysis/feature-table/health-disease-case-control/case_control_feature_table_remove_h1n1_filtered1.qza \\\n",
    "    --m-metadata-file {path}/metadata/fungal-traits/non-resident_ids.tsv \\\n",
    "    --p-exclude-ids False \\\n",
    "    --o-filtered-table {path}/src-analysis/diversity-analysis/q2-boots/n50/alpha-diversity-results-nonresident/case_control_nonresident_feature_table.qza"
   ],
   "metadata": {
    "collapsed": false,
    "ExecuteTime": {
     "end_time": "2024-09-01T16:01:04.761603Z",
     "start_time": "2024-09-01T16:00:35.778502Z"
    }
   },
   "id": "2352d24098c79978",
   "execution_count": 46
  },
  {
   "cell_type": "code",
   "outputs": [
    {
     "name": "stdout",
     "output_type": "stream",
     "text": [
      "\u001B[32mSaved Visualization to: /Users/cheesemania/PycharmProjects/mscthesis_wrkdir/src-analysis/diversity-analysis/q2-boots/n50/alpha-diversity-results-nonresident/case_control_nonresident_feature_table.qzv\u001B[0m\r\n",
      "\u001B[0m"
     ]
    }
   ],
   "source": [
    "!qiime feature-table summarize \\\n",
    "    --i-table {path}/src-analysis/diversity-analysis/q2-boots/n50/alpha-diversity-results-nonresident/case_control_nonresident_feature_table.qza \\\n",
    "    --o-visualization {path}/src-analysis/diversity-analysis/q2-boots/n50/alpha-diversity-results-nonresident/case_control_nonresident_feature_table.qzv"
   ],
   "metadata": {
    "collapsed": false,
    "ExecuteTime": {
     "end_time": "2024-09-01T16:01:40.345261Z",
     "start_time": "2024-09-01T16:01:12.602128Z"
    }
   },
   "id": "da8573b96d4d0b24",
   "execution_count": 47
  },
  {
   "cell_type": "code",
   "outputs": [
    {
     "name": "stdout",
     "output_type": "stream",
     "text": [
      "\u001B[32mSaved SampleData[AlphaDiversity] to: /Users/cheesemania/PycharmProjects/mscthesis_wrkdir/src-analysis/diversity-analysis/q2-boots/n50/alpha-diversity-results-nonresident/observed_features_vector.qza\u001B[0m\r\n",
      "\u001B[0m"
     ]
    }
   ],
   "source": [
    "# Observed features\n",
    "!qiime boots alpha \\\n",
    "    --i-table {path}/src-analysis/diversity-analysis/q2-boots/n50/alpha-diversity-results-nonresident/case_control_nonresident_feature_table.qza \\\n",
    "    --p-sampling-depth 3000 \\\n",
    "    --p-metric 'observed_features' \\\n",
    "    --p-n 50 \\\n",
    "    --p-no-replacement \\\n",
    "    --p-average-method 'median' \\\n",
    "    --o-average-alpha-diversity {path}/src-analysis/diversity-analysis/q2-boots/n50/alpha-diversity-results-nonresident/observed_features_vector.qza"
   ],
   "metadata": {
    "collapsed": false,
    "ExecuteTime": {
     "end_time": "2024-09-01T16:07:37.039029Z",
     "start_time": "2024-09-01T16:02:11.271878Z"
    }
   },
   "id": "b1bd403f06662cd8",
   "execution_count": 48
  },
  {
   "cell_type": "code",
   "outputs": [
    {
     "name": "stdout",
     "output_type": "stream",
     "text": [
      "\u001B[32mSaved Visualization to: /Users/cheesemania/PycharmProjects/mscthesis_wrkdir/src-analysis/diversity-analysis/q2-boots/n50/alpha-diversity-results-nonresident/observed-features-group-significance.qzv\u001B[0m\r\n",
      "\u001B[0m"
     ]
    }
   ],
   "source": [
    "# Observed features\n",
    "!qiime diversity alpha-group-significance \\\n",
    "    --i-alpha-diversity {path}/src-analysis/diversity-analysis/q2-boots/n50/alpha-diversity-results-nonresident/observed_features_vector.qza \\\n",
    "    --m-metadata-file {path}/metadata/case_control_metadata_remove_h1n1_filtered1.tsv \\\n",
    "    --o-visualization {path}/src-analysis/diversity-analysis/q2-boots/n50/alpha-diversity-results-nonresident/observed-features-group-significance.qzv"
   ],
   "metadata": {
    "collapsed": false,
    "ExecuteTime": {
     "end_time": "2024-09-01T16:10:09.446576Z",
     "start_time": "2024-09-01T16:09:39.397770Z"
    }
   },
   "id": "7ad597ea5cf3b52",
   "execution_count": 49
  },
  {
   "cell_type": "code",
   "outputs": [
    {
     "name": "stdout",
     "output_type": "stream",
     "text": [
      "\u001B[32mSaved SampleData[AlphaDiversity] to: /Users/cheesemania/PycharmProjects/mscthesis_wrkdir/src-analysis/diversity-analysis/q2-boots/n50/alpha-diversity-results-nonresident/shannon_vector.qza\u001B[0m\r\n",
      "\u001B[0m"
     ]
    }
   ],
   "source": [
    "# Shannon entropy\n",
    "!qiime boots alpha \\\n",
    "    --i-table {path}/src-analysis/diversity-analysis/q2-boots/n50/alpha-diversity-results-nonresident/case_control_nonresident_feature_table.qza \\\n",
    "    --p-sampling-depth 3000 \\\n",
    "    --p-metric 'shannon' \\\n",
    "    --p-n 50 \\\n",
    "    --p-no-replacement \\\n",
    "    --p-average-method 'median' \\\n",
    "    --o-average-alpha-diversity {path}/src-analysis/diversity-analysis/q2-boots/n50/alpha-diversity-results-nonresident/shannon_vector.qza"
   ],
   "metadata": {
    "collapsed": false,
    "ExecuteTime": {
     "end_time": "2024-09-01T16:15:48.477287Z",
     "start_time": "2024-09-01T16:10:43.340618Z"
    }
   },
   "id": "3aff2f1270e6ad86",
   "execution_count": 50
  },
  {
   "cell_type": "code",
   "outputs": [
    {
     "name": "stdout",
     "output_type": "stream",
     "text": [
      "\u001B[32mSaved Visualization to: /Users/cheesemania/PycharmProjects/mscthesis_wrkdir/src-analysis/diversity-analysis/q2-boots/n50/alpha-diversity-results-nonresident/shannon-group-significance.qzv\u001B[0m\r\n",
      "\u001B[0m"
     ]
    }
   ],
   "source": [
    "# Shannon entropy\n",
    "!qiime diversity alpha-group-significance \\\n",
    "    --i-alpha-diversity {path}/src-analysis/diversity-analysis/q2-boots/n50/alpha-diversity-results-nonresident/shannon_vector.qza \\\n",
    "    --m-metadata-file {path}/metadata/case_control_metadata_remove_h1n1_filtered1.tsv \\\n",
    "    --o-visualization {path}/src-analysis/diversity-analysis/q2-boots/n50/alpha-diversity-results-nonresident/shannon-group-significance.qzv"
   ],
   "metadata": {
    "collapsed": false,
    "ExecuteTime": {
     "end_time": "2024-09-01T16:17:04.857976Z",
     "start_time": "2024-09-01T16:16:35.023463Z"
    }
   },
   "id": "468983216776e8f4",
   "execution_count": 51
  }
 ],
 "metadata": {
  "kernelspec": {
   "display_name": "Python 3",
   "language": "python",
   "name": "python3"
  },
  "language_info": {
   "codemirror_mode": {
    "name": "ipython",
    "version": 2
   },
   "file_extension": ".py",
   "mimetype": "text/x-python",
   "name": "python",
   "nbconvert_exporter": "python",
   "pygments_lexer": "ipython2",
   "version": "2.7.6"
  }
 },
 "nbformat": 4,
 "nbformat_minor": 5
}
