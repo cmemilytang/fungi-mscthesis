{
 "cells": [
  {
   "cell_type": "code",
   "execution_count": 1,
   "id": "initial_id",
   "metadata": {
    "collapsed": true,
    "ExecuteTime": {
     "end_time": "2024-08-21T14:15:43.615Z",
     "start_time": "2024-08-21T14:15:43.613016Z"
    }
   },
   "outputs": [],
   "source": [
    "import pandas as pd\n",
    "import os\n",
    "import seaborn as sns\n",
    "import matplotlib.pyplot as plt"
   ]
  },
  {
   "cell_type": "code",
   "outputs": [],
   "source": [
    "data_dir = \"/Users/cheesemania/PycharmProjects/mscthesis_wrkdir\""
   ],
   "metadata": {
    "collapsed": false,
    "ExecuteTime": {
     "end_time": "2024-08-21T14:15:50.038533Z",
     "start_time": "2024-08-21T14:15:50.034770Z"
    }
   },
   "id": "430a33fc08192677",
   "execution_count": 2
  },
  {
   "cell_type": "markdown",
   "source": [
    "## Comparing sample counts before and after rarefaction at 3000"
   ],
   "metadata": {
    "collapsed": false
   },
   "id": "7f8cc60f127a2cb1"
  },
  {
   "cell_type": "markdown",
   "source": [
    "This was done before excluding H1N1 samples (Health Status = H1N1, Disease Level 2 = COVID-19) in PRJNA637034.\n",
    "\n",
    "This comparison led to exclusion of four projects with too small sample size after rarefaction for downstream analysis."
   ],
   "metadata": {
    "collapsed": false
   },
   "id": "9861187301898e0f"
  },
  {
   "cell_type": "code",
   "outputs": [],
   "source": [
    "# Use a regular expression to handle varying amounts of whitespace between columns\n",
    "data_before_rar3000 = pd.read_csv(f'{data_dir}/metadata/before-rarefaction3000.txt', sep=r'\\s+', engine='python') \n",
    "data_after_rar3000 = pd.read_csv(f'{data_dir}/metadata/after-rarefaction3000.txt', sep=r'\\s+', engine='python')"
   ],
   "metadata": {
    "collapsed": false,
    "ExecuteTime": {
     "end_time": "2024-08-21T14:50:56.797671Z",
     "start_time": "2024-08-21T14:50:56.783718Z"
    }
   },
   "id": "b8ca48f2eabbdf0a",
   "execution_count": 34
  },
  {
   "cell_type": "code",
   "outputs": [
    {
     "data": {
      "text/plain": "   Project_ID Disease_Level_2 Case_Control  sample_count\n0  PRJDB13192        COVID-19         Case            73\n1  PRJDB13192        COVID-19      Control            16\n2  PRJEB35665        Melanoma         Case            19\n3  PRJEB35665        Melanoma      Control            17\n4  PRJEB38917         Obesity         Case             7",
      "text/html": "<div>\n<style scoped>\n    .dataframe tbody tr th:only-of-type {\n        vertical-align: middle;\n    }\n\n    .dataframe tbody tr th {\n        vertical-align: top;\n    }\n\n    .dataframe thead th {\n        text-align: right;\n    }\n</style>\n<table border=\"1\" class=\"dataframe\">\n  <thead>\n    <tr style=\"text-align: right;\">\n      <th></th>\n      <th>Project_ID</th>\n      <th>Disease_Level_2</th>\n      <th>Case_Control</th>\n      <th>sample_count</th>\n    </tr>\n  </thead>\n  <tbody>\n    <tr>\n      <th>0</th>\n      <td>PRJDB13192</td>\n      <td>COVID-19</td>\n      <td>Case</td>\n      <td>73</td>\n    </tr>\n    <tr>\n      <th>1</th>\n      <td>PRJDB13192</td>\n      <td>COVID-19</td>\n      <td>Control</td>\n      <td>16</td>\n    </tr>\n    <tr>\n      <th>2</th>\n      <td>PRJEB35665</td>\n      <td>Melanoma</td>\n      <td>Case</td>\n      <td>19</td>\n    </tr>\n    <tr>\n      <th>3</th>\n      <td>PRJEB35665</td>\n      <td>Melanoma</td>\n      <td>Control</td>\n      <td>17</td>\n    </tr>\n    <tr>\n      <th>4</th>\n      <td>PRJEB38917</td>\n      <td>Obesity</td>\n      <td>Case</td>\n      <td>7</td>\n    </tr>\n  </tbody>\n</table>\n</div>"
     },
     "execution_count": 35,
     "metadata": {},
     "output_type": "execute_result"
    }
   ],
   "source": [
    "data_after_rar3000.head()"
   ],
   "metadata": {
    "collapsed": false,
    "ExecuteTime": {
     "end_time": "2024-08-21T14:50:57.310699Z",
     "start_time": "2024-08-21T14:50:57.298122Z"
    }
   },
   "id": "5259c2bac217a951",
   "execution_count": 35
  },
  {
   "cell_type": "code",
   "outputs": [],
   "source": [
    "# Rename the sample_count column to be specific\n",
    "data_before_rar3000 = data_before_rar3000.rename(columns={'sample_count': 'sample_count_before'})\n",
    "data_after_rar3000 = data_after_rar3000.rename(columns={'sample_count': 'sample_count_after'})\n",
    "\n",
    "# Perform a left merge to keep all rows from the \"before\" dataset\n",
    "merged_df_rar3000 = pd.merge(data_before_rar3000, data_after_rar3000, on=['Project_ID', 'Disease_Level_2', 'Case_Control'], how='left')\n",
    "\n",
    "# Fill missing values in the sample_count_after column with 0\n",
    "merged_df_rar3000['sample_count_after'] = merged_df_rar3000['sample_count_after'].fillna(0)\n",
    "\n",
    "# Convert sample_count_after to integers\n",
    "merged_df_rar3000['sample_count_after'] = merged_df_rar3000['sample_count_after'].astype(int)"
   ],
   "metadata": {
    "collapsed": false,
    "ExecuteTime": {
     "end_time": "2024-08-21T14:51:03.444237Z",
     "start_time": "2024-08-21T14:51:03.432633Z"
    }
   },
   "id": "154ecd0ab04b75f5",
   "execution_count": 36
  },
  {
   "cell_type": "code",
   "outputs": [
    {
     "data": {
      "text/plain": "               Project_ID        Disease_Level_2 Case_Control  \\\n0              PRJDB13192               COVID-19         Case   \n1              PRJDB13192               COVID-19      Control   \n2              PRJEB35665               Melanoma         Case   \n3              PRJEB35665               Melanoma      Control   \n4              PRJEB38917                Obesity         Case   \n5              PRJEB38917                Obesity      Control   \n6              PRJEB38930                     AN         Case   \n7              PRJEB38930                     AN      Control   \n8              PRJEB42375                    IBS         Case   \n9              PRJEB42375                    IBS      Control   \n10             PRJEB46343                    HIV         Case   \n11             PRJEB46343                    HIV      Control   \n12             PRJEB53019                   T2DM         Case   \n13             PRJEB53019                   T2DM      Control   \n14            PRJNA419104                    CDI         Case   \n15            PRJNA419104                    CDI      Control   \n16            PRJNA517994  Alcohol-Associated-LD         Case   \n17            PRJNA517994  Alcohol-Associated-LD      Control   \n18            PRJNA557226                    PDA         Case   \n19            PRJNA557226                    PDA      Control   \n20            PRJNA590898                    IBD         Case   \n21            PRJNA590898                    IBD      Control   \n22            PRJNA607176                    IBD         Case   \n23            PRJNA607176                    IBD      Control   \n24            PRJNA637034               COVID-19         Case   \n25            PRJNA637034               COVID-19      Control   \n26            PRJNA647266                    CKD         Case   \n27            PRJNA647266                    CKD      Control   \n28            PRJNA662173                   T2DM         Case   \n29            PRJNA662173                   T2DM      Control   \n30            PRJNA698272                  NAFLD         Case   \n31            PRJNA698272                  NAFLD      Control   \n32            PRJNA703732  Alcohol-Associated-LD         Case   \n33            PRJNA703732  Alcohol-Associated-LD      Control   \n34            PRJNA735021                     RA         Case   \n35            PRJNA735021                     RA      Control   \n36            PRJNA751473                     AD         Case   \n37            PRJNA751473                     AD      Control   \n38            PRJNA756382                   T1DM         Case   \n39            PRJNA756382                   T1DM      Control   \n40            PRJNA778607                     HD         Case   \n41            PRJNA778607                     HD      Control   \n42            PRJNA791216                     RA         Case   \n43            PRJNA791216                     RA      Control   \n44            PRJNA794154               COVID-19         Case   \n45            PRJNA794154               COVID-19      Control   \n46            PRJNA813503                    GDM         Case   \n47            PRJNA813503                    GDM      Control   \n48  crohns-paper_37122605                    IBD         Case   \n49  crohns-paper_37122605                    IBD      Control   \n\n    sample_count_before  sample_count_after  \n0                    76                  73  \n1                    24                  16  \n2                    20                  19  \n3                    17                  17  \n4                    32                   7  \n5                     9                   2  \n6                    94                  70  \n7                    62                  43  \n8                    80                  80  \n9                    64                  64  \n10                   24                  23  \n11                   12                  12  \n12                   17                  10  \n13                   11                   5  \n14                   34                  33  \n15                   23                  22  \n16                   91                  39  \n17                   11                   8  \n18                   18                   0  \n19                    9                   0  \n20                   36                  27  \n21                   18                  14  \n22                   34                  30  \n23                   47                  37  \n24                  138                   0  \n25                   46                   1  \n26                   90                  90  \n27                  150                 150  \n28                   46                  46  \n29                   23                  23  \n30                   78                  50  \n31                   16                   8  \n32                  137                 113  \n33                   18                  14  \n34                   47                  45  \n35                   39                  35  \n36                   17                  17  \n37                   17                  17  \n38                  103                  84  \n39                   58                  41  \n40                   63                  63  \n41                   42                  42  \n42                   99                  96  \n43                   30                  29  \n44                   30                  30  \n45                   23                  23  \n46                   46                  42  \n47                   52                  46  \n48                  105                 104  \n49                   39                  39  ",
      "text/html": "<div>\n<style scoped>\n    .dataframe tbody tr th:only-of-type {\n        vertical-align: middle;\n    }\n\n    .dataframe tbody tr th {\n        vertical-align: top;\n    }\n\n    .dataframe thead th {\n        text-align: right;\n    }\n</style>\n<table border=\"1\" class=\"dataframe\">\n  <thead>\n    <tr style=\"text-align: right;\">\n      <th></th>\n      <th>Project_ID</th>\n      <th>Disease_Level_2</th>\n      <th>Case_Control</th>\n      <th>sample_count_before</th>\n      <th>sample_count_after</th>\n    </tr>\n  </thead>\n  <tbody>\n    <tr>\n      <th>0</th>\n      <td>PRJDB13192</td>\n      <td>COVID-19</td>\n      <td>Case</td>\n      <td>76</td>\n      <td>73</td>\n    </tr>\n    <tr>\n      <th>1</th>\n      <td>PRJDB13192</td>\n      <td>COVID-19</td>\n      <td>Control</td>\n      <td>24</td>\n      <td>16</td>\n    </tr>\n    <tr>\n      <th>2</th>\n      <td>PRJEB35665</td>\n      <td>Melanoma</td>\n      <td>Case</td>\n      <td>20</td>\n      <td>19</td>\n    </tr>\n    <tr>\n      <th>3</th>\n      <td>PRJEB35665</td>\n      <td>Melanoma</td>\n      <td>Control</td>\n      <td>17</td>\n      <td>17</td>\n    </tr>\n    <tr>\n      <th>4</th>\n      <td>PRJEB38917</td>\n      <td>Obesity</td>\n      <td>Case</td>\n      <td>32</td>\n      <td>7</td>\n    </tr>\n    <tr>\n      <th>5</th>\n      <td>PRJEB38917</td>\n      <td>Obesity</td>\n      <td>Control</td>\n      <td>9</td>\n      <td>2</td>\n    </tr>\n    <tr>\n      <th>6</th>\n      <td>PRJEB38930</td>\n      <td>AN</td>\n      <td>Case</td>\n      <td>94</td>\n      <td>70</td>\n    </tr>\n    <tr>\n      <th>7</th>\n      <td>PRJEB38930</td>\n      <td>AN</td>\n      <td>Control</td>\n      <td>62</td>\n      <td>43</td>\n    </tr>\n    <tr>\n      <th>8</th>\n      <td>PRJEB42375</td>\n      <td>IBS</td>\n      <td>Case</td>\n      <td>80</td>\n      <td>80</td>\n    </tr>\n    <tr>\n      <th>9</th>\n      <td>PRJEB42375</td>\n      <td>IBS</td>\n      <td>Control</td>\n      <td>64</td>\n      <td>64</td>\n    </tr>\n    <tr>\n      <th>10</th>\n      <td>PRJEB46343</td>\n      <td>HIV</td>\n      <td>Case</td>\n      <td>24</td>\n      <td>23</td>\n    </tr>\n    <tr>\n      <th>11</th>\n      <td>PRJEB46343</td>\n      <td>HIV</td>\n      <td>Control</td>\n      <td>12</td>\n      <td>12</td>\n    </tr>\n    <tr>\n      <th>12</th>\n      <td>PRJEB53019</td>\n      <td>T2DM</td>\n      <td>Case</td>\n      <td>17</td>\n      <td>10</td>\n    </tr>\n    <tr>\n      <th>13</th>\n      <td>PRJEB53019</td>\n      <td>T2DM</td>\n      <td>Control</td>\n      <td>11</td>\n      <td>5</td>\n    </tr>\n    <tr>\n      <th>14</th>\n      <td>PRJNA419104</td>\n      <td>CDI</td>\n      <td>Case</td>\n      <td>34</td>\n      <td>33</td>\n    </tr>\n    <tr>\n      <th>15</th>\n      <td>PRJNA419104</td>\n      <td>CDI</td>\n      <td>Control</td>\n      <td>23</td>\n      <td>22</td>\n    </tr>\n    <tr>\n      <th>16</th>\n      <td>PRJNA517994</td>\n      <td>Alcohol-Associated-LD</td>\n      <td>Case</td>\n      <td>91</td>\n      <td>39</td>\n    </tr>\n    <tr>\n      <th>17</th>\n      <td>PRJNA517994</td>\n      <td>Alcohol-Associated-LD</td>\n      <td>Control</td>\n      <td>11</td>\n      <td>8</td>\n    </tr>\n    <tr>\n      <th>18</th>\n      <td>PRJNA557226</td>\n      <td>PDA</td>\n      <td>Case</td>\n      <td>18</td>\n      <td>0</td>\n    </tr>\n    <tr>\n      <th>19</th>\n      <td>PRJNA557226</td>\n      <td>PDA</td>\n      <td>Control</td>\n      <td>9</td>\n      <td>0</td>\n    </tr>\n    <tr>\n      <th>20</th>\n      <td>PRJNA590898</td>\n      <td>IBD</td>\n      <td>Case</td>\n      <td>36</td>\n      <td>27</td>\n    </tr>\n    <tr>\n      <th>21</th>\n      <td>PRJNA590898</td>\n      <td>IBD</td>\n      <td>Control</td>\n      <td>18</td>\n      <td>14</td>\n    </tr>\n    <tr>\n      <th>22</th>\n      <td>PRJNA607176</td>\n      <td>IBD</td>\n      <td>Case</td>\n      <td>34</td>\n      <td>30</td>\n    </tr>\n    <tr>\n      <th>23</th>\n      <td>PRJNA607176</td>\n      <td>IBD</td>\n      <td>Control</td>\n      <td>47</td>\n      <td>37</td>\n    </tr>\n    <tr>\n      <th>24</th>\n      <td>PRJNA637034</td>\n      <td>COVID-19</td>\n      <td>Case</td>\n      <td>138</td>\n      <td>0</td>\n    </tr>\n    <tr>\n      <th>25</th>\n      <td>PRJNA637034</td>\n      <td>COVID-19</td>\n      <td>Control</td>\n      <td>46</td>\n      <td>1</td>\n    </tr>\n    <tr>\n      <th>26</th>\n      <td>PRJNA647266</td>\n      <td>CKD</td>\n      <td>Case</td>\n      <td>90</td>\n      <td>90</td>\n    </tr>\n    <tr>\n      <th>27</th>\n      <td>PRJNA647266</td>\n      <td>CKD</td>\n      <td>Control</td>\n      <td>150</td>\n      <td>150</td>\n    </tr>\n    <tr>\n      <th>28</th>\n      <td>PRJNA662173</td>\n      <td>T2DM</td>\n      <td>Case</td>\n      <td>46</td>\n      <td>46</td>\n    </tr>\n    <tr>\n      <th>29</th>\n      <td>PRJNA662173</td>\n      <td>T2DM</td>\n      <td>Control</td>\n      <td>23</td>\n      <td>23</td>\n    </tr>\n    <tr>\n      <th>30</th>\n      <td>PRJNA698272</td>\n      <td>NAFLD</td>\n      <td>Case</td>\n      <td>78</td>\n      <td>50</td>\n    </tr>\n    <tr>\n      <th>31</th>\n      <td>PRJNA698272</td>\n      <td>NAFLD</td>\n      <td>Control</td>\n      <td>16</td>\n      <td>8</td>\n    </tr>\n    <tr>\n      <th>32</th>\n      <td>PRJNA703732</td>\n      <td>Alcohol-Associated-LD</td>\n      <td>Case</td>\n      <td>137</td>\n      <td>113</td>\n    </tr>\n    <tr>\n      <th>33</th>\n      <td>PRJNA703732</td>\n      <td>Alcohol-Associated-LD</td>\n      <td>Control</td>\n      <td>18</td>\n      <td>14</td>\n    </tr>\n    <tr>\n      <th>34</th>\n      <td>PRJNA735021</td>\n      <td>RA</td>\n      <td>Case</td>\n      <td>47</td>\n      <td>45</td>\n    </tr>\n    <tr>\n      <th>35</th>\n      <td>PRJNA735021</td>\n      <td>RA</td>\n      <td>Control</td>\n      <td>39</td>\n      <td>35</td>\n    </tr>\n    <tr>\n      <th>36</th>\n      <td>PRJNA751473</td>\n      <td>AD</td>\n      <td>Case</td>\n      <td>17</td>\n      <td>17</td>\n    </tr>\n    <tr>\n      <th>37</th>\n      <td>PRJNA751473</td>\n      <td>AD</td>\n      <td>Control</td>\n      <td>17</td>\n      <td>17</td>\n    </tr>\n    <tr>\n      <th>38</th>\n      <td>PRJNA756382</td>\n      <td>T1DM</td>\n      <td>Case</td>\n      <td>103</td>\n      <td>84</td>\n    </tr>\n    <tr>\n      <th>39</th>\n      <td>PRJNA756382</td>\n      <td>T1DM</td>\n      <td>Control</td>\n      <td>58</td>\n      <td>41</td>\n    </tr>\n    <tr>\n      <th>40</th>\n      <td>PRJNA778607</td>\n      <td>HD</td>\n      <td>Case</td>\n      <td>63</td>\n      <td>63</td>\n    </tr>\n    <tr>\n      <th>41</th>\n      <td>PRJNA778607</td>\n      <td>HD</td>\n      <td>Control</td>\n      <td>42</td>\n      <td>42</td>\n    </tr>\n    <tr>\n      <th>42</th>\n      <td>PRJNA791216</td>\n      <td>RA</td>\n      <td>Case</td>\n      <td>99</td>\n      <td>96</td>\n    </tr>\n    <tr>\n      <th>43</th>\n      <td>PRJNA791216</td>\n      <td>RA</td>\n      <td>Control</td>\n      <td>30</td>\n      <td>29</td>\n    </tr>\n    <tr>\n      <th>44</th>\n      <td>PRJNA794154</td>\n      <td>COVID-19</td>\n      <td>Case</td>\n      <td>30</td>\n      <td>30</td>\n    </tr>\n    <tr>\n      <th>45</th>\n      <td>PRJNA794154</td>\n      <td>COVID-19</td>\n      <td>Control</td>\n      <td>23</td>\n      <td>23</td>\n    </tr>\n    <tr>\n      <th>46</th>\n      <td>PRJNA813503</td>\n      <td>GDM</td>\n      <td>Case</td>\n      <td>46</td>\n      <td>42</td>\n    </tr>\n    <tr>\n      <th>47</th>\n      <td>PRJNA813503</td>\n      <td>GDM</td>\n      <td>Control</td>\n      <td>52</td>\n      <td>46</td>\n    </tr>\n    <tr>\n      <th>48</th>\n      <td>crohns-paper_37122605</td>\n      <td>IBD</td>\n      <td>Case</td>\n      <td>105</td>\n      <td>104</td>\n    </tr>\n    <tr>\n      <th>49</th>\n      <td>crohns-paper_37122605</td>\n      <td>IBD</td>\n      <td>Control</td>\n      <td>39</td>\n      <td>39</td>\n    </tr>\n  </tbody>\n</table>\n</div>"
     },
     "execution_count": 37,
     "metadata": {},
     "output_type": "execute_result"
    }
   ],
   "source": [
    "merged_df_rar3000"
   ],
   "metadata": {
    "collapsed": false,
    "ExecuteTime": {
     "end_time": "2024-08-21T14:51:05.153520Z",
     "start_time": "2024-08-21T14:51:05.138002Z"
    }
   },
   "id": "94ff71d33acfa73f",
   "execution_count": 37
  },
  {
   "cell_type": "code",
   "outputs": [
    {
     "data": {
      "text/plain": "25"
     },
     "execution_count": 45,
     "metadata": {},
     "output_type": "execute_result"
    }
   ],
   "source": [
    "len(merged_df_rar3000['Project_ID'].unique())\n",
    "# Sanity check - OK"
   ],
   "metadata": {
    "collapsed": false,
    "ExecuteTime": {
     "end_time": "2024-08-21T15:17:54.084764Z",
     "start_time": "2024-08-21T15:17:54.075054Z"
    }
   },
   "id": "6993f249f8591820",
   "execution_count": 45
  },
  {
   "cell_type": "code",
   "outputs": [],
   "source": [
    "merged_df_rar3000.to_csv(f'{data_dir}/metadata/merged-before-after-rarefaction3000.tsv', sep='\\t', index=False)"
   ],
   "metadata": {
    "collapsed": false,
    "ExecuteTime": {
     "end_time": "2024-08-21T14:51:19.297425Z",
     "start_time": "2024-08-21T14:51:19.290957Z"
    }
   },
   "id": "d3b2dc7845991e50",
   "execution_count": 39
  },
  {
   "cell_type": "markdown",
   "source": [
    "### Observed features: non-filtered, filt-nonresident, and only the non-resident (rar3000)"
   ],
   "metadata": {
    "collapsed": false
   },
   "id": "3780334261417cc1"
  },
  {
   "cell_type": "code",
   "outputs": [],
   "source": [
    "df_non_filtered_of_rar3000 = pd.read_csv(f'{data_dir}/src-analysis/diversity-analysis/alpha-diversity-results-non-filtered/observed-features-group-significance.tsv', sep='\\t')\n",
    "\n",
    "df_filt_nonresident_of_rar3000 = pd.read_csv(f'{data_dir}/src-analysis/diversity-analysis/alpha-diversity-results-filt-nonresident/observed-features-group-significance.tsv', sep='\\t')\n",
    "\n",
    "df_nonresident_of_rar3000 = pd.read_csv(f'{data_dir}/src-analysis/diversity-analysis/alpha-diversity-results-nonresident/observed-features-group-significance.tsv', sep='\\t')"
   ],
   "metadata": {
    "collapsed": false,
    "ExecuteTime": {
     "end_time": "2024-08-23T13:47:40.478497Z",
     "start_time": "2024-08-23T13:47:40.430199Z"
    }
   },
   "id": "24b18a11d777559d",
   "execution_count": 78
  },
  {
   "cell_type": "code",
   "outputs": [
    {
     "data": {
      "text/plain": "(1874, 20)"
     },
     "execution_count": 79,
     "metadata": {},
     "output_type": "execute_result"
    }
   ],
   "source": [
    "df_non_filtered_of_rar3000.shape"
   ],
   "metadata": {
    "collapsed": false,
    "ExecuteTime": {
     "end_time": "2024-08-23T13:47:42.450867Z",
     "start_time": "2024-08-23T13:47:42.444094Z"
    }
   },
   "id": "9dc8fd07bb75e15c",
   "execution_count": 79
  },
  {
   "cell_type": "code",
   "outputs": [
    {
     "data": {
      "text/plain": "(1872, 20)"
     },
     "execution_count": 80,
     "metadata": {},
     "output_type": "execute_result"
    }
   ],
   "source": [
    "df_filt_nonresident_of_rar3000.shape"
   ],
   "metadata": {
    "collapsed": false,
    "ExecuteTime": {
     "end_time": "2024-08-23T13:47:43.548102Z",
     "start_time": "2024-08-23T13:47:43.542134Z"
    }
   },
   "id": "b683182d786a7694",
   "execution_count": 80
  },
  {
   "cell_type": "code",
   "outputs": [
    {
     "data": {
      "text/plain": "(1088, 20)"
     },
     "execution_count": 81,
     "metadata": {},
     "output_type": "execute_result"
    }
   ],
   "source": [
    "df_nonresident_of_rar3000.shape"
   ],
   "metadata": {
    "collapsed": false,
    "ExecuteTime": {
     "end_time": "2024-08-23T13:47:47.464596Z",
     "start_time": "2024-08-23T13:47:47.459331Z"
    }
   },
   "id": "db3f0ed0ed071f3",
   "execution_count": 81
  },
  {
   "cell_type": "code",
   "outputs": [
    {
     "data": {
      "text/plain": "     id             Project_ID Sequencing_Region Case_Control  \\\n0  S675  crohns-paper_37122605              ITS1         Case   \n1  S683  crohns-paper_37122605              ITS1         Case   \n2  S691  crohns-paper_37122605              ITS1         Case   \n3  S699  crohns-paper_37122605              ITS1         Case   \n4  S707  crohns-paper_37122605              ITS1         Case   \n\n    Disease_Level_1                     Health_Status Disease_Level_2  \\\n0  Gastrointestinal  Inflammatory bowel disease (IBD)             IBD   \n1  Gastrointestinal  Inflammatory bowel disease (IBD)             IBD   \n2  Gastrointestinal  Inflammatory bowel disease (IBD)             IBD   \n3  Gastrointestinal  Inflammatory bowel disease (IBD)             IBD   \n4  Gastrointestinal  Inflammatory bowel disease (IBD)             IBD   \n\n  Disease_Level_3                              Disease_Subgroup  \\\n0   active_new_CD  active, newly diagnosed Crohn's disease (CD)   \n1   active_new_CD  active, newly diagnosed Crohn's disease (CD)   \n2   active_new_CD  active, newly diagnosed Crohn's disease (CD)   \n3   active_new_CD  active, newly diagnosed Crohn's disease (CD)   \n4              CD       clinical remission Crohn's disease (CD)   \n\n           IBD_Subgroup GeoLoc_Continent GeoLoc_Country  \\\n0  Crohn's disease (CD)           Europe         Poland   \n1  Crohn's disease (CD)           Europe         Poland   \n2  Crohn's disease (CD)           Europe         Poland   \n3  Crohn's disease (CD)           Europe         Poland   \n4  Crohn's disease (CD)           Europe         Poland   \n\n                             GeoLoc_Region GeoLoc_City Host_Sex  \\\n0  Lesser Poland Voivodeship (Małopolskie)      Krakow  Unknown   \n1  Lesser Poland Voivodeship (Małopolskie)      Krakow  Unknown   \n2  Lesser Poland Voivodeship (Małopolskie)      Krakow  Unknown   \n3  Lesser Poland Voivodeship (Małopolskie)      Krakow  Unknown   \n4  Lesser Poland Voivodeship (Małopolskie)      Krakow  Unknown   \n\n  Host_Age_Category Host_Age_Decade Host_Age Age_Detail_Level  \\\n0           Unknown         Unknown  Unknown               L2   \n1           Unknown         Unknown  Unknown               L2   \n2           Unknown         Unknown  Unknown               L2   \n3           Unknown         Unknown  Unknown               L2   \n4           Unknown         Unknown  Unknown               L2   \n\n   observed_features  \n0                 32  \n1                 10  \n2                 14  \n3                 37  \n4                  8  ",
      "text/html": "<div>\n<style scoped>\n    .dataframe tbody tr th:only-of-type {\n        vertical-align: middle;\n    }\n\n    .dataframe tbody tr th {\n        vertical-align: top;\n    }\n\n    .dataframe thead th {\n        text-align: right;\n    }\n</style>\n<table border=\"1\" class=\"dataframe\">\n  <thead>\n    <tr style=\"text-align: right;\">\n      <th></th>\n      <th>id</th>\n      <th>Project_ID</th>\n      <th>Sequencing_Region</th>\n      <th>Case_Control</th>\n      <th>Disease_Level_1</th>\n      <th>Health_Status</th>\n      <th>Disease_Level_2</th>\n      <th>Disease_Level_3</th>\n      <th>Disease_Subgroup</th>\n      <th>IBD_Subgroup</th>\n      <th>GeoLoc_Continent</th>\n      <th>GeoLoc_Country</th>\n      <th>GeoLoc_Region</th>\n      <th>GeoLoc_City</th>\n      <th>Host_Sex</th>\n      <th>Host_Age_Category</th>\n      <th>Host_Age_Decade</th>\n      <th>Host_Age</th>\n      <th>Age_Detail_Level</th>\n      <th>observed_features</th>\n    </tr>\n  </thead>\n  <tbody>\n    <tr>\n      <th>0</th>\n      <td>S675</td>\n      <td>crohns-paper_37122605</td>\n      <td>ITS1</td>\n      <td>Case</td>\n      <td>Gastrointestinal</td>\n      <td>Inflammatory bowel disease (IBD)</td>\n      <td>IBD</td>\n      <td>active_new_CD</td>\n      <td>active, newly diagnosed Crohn's disease (CD)</td>\n      <td>Crohn's disease (CD)</td>\n      <td>Europe</td>\n      <td>Poland</td>\n      <td>Lesser Poland Voivodeship (Małopolskie)</td>\n      <td>Krakow</td>\n      <td>Unknown</td>\n      <td>Unknown</td>\n      <td>Unknown</td>\n      <td>Unknown</td>\n      <td>L2</td>\n      <td>32</td>\n    </tr>\n    <tr>\n      <th>1</th>\n      <td>S683</td>\n      <td>crohns-paper_37122605</td>\n      <td>ITS1</td>\n      <td>Case</td>\n      <td>Gastrointestinal</td>\n      <td>Inflammatory bowel disease (IBD)</td>\n      <td>IBD</td>\n      <td>active_new_CD</td>\n      <td>active, newly diagnosed Crohn's disease (CD)</td>\n      <td>Crohn's disease (CD)</td>\n      <td>Europe</td>\n      <td>Poland</td>\n      <td>Lesser Poland Voivodeship (Małopolskie)</td>\n      <td>Krakow</td>\n      <td>Unknown</td>\n      <td>Unknown</td>\n      <td>Unknown</td>\n      <td>Unknown</td>\n      <td>L2</td>\n      <td>10</td>\n    </tr>\n    <tr>\n      <th>2</th>\n      <td>S691</td>\n      <td>crohns-paper_37122605</td>\n      <td>ITS1</td>\n      <td>Case</td>\n      <td>Gastrointestinal</td>\n      <td>Inflammatory bowel disease (IBD)</td>\n      <td>IBD</td>\n      <td>active_new_CD</td>\n      <td>active, newly diagnosed Crohn's disease (CD)</td>\n      <td>Crohn's disease (CD)</td>\n      <td>Europe</td>\n      <td>Poland</td>\n      <td>Lesser Poland Voivodeship (Małopolskie)</td>\n      <td>Krakow</td>\n      <td>Unknown</td>\n      <td>Unknown</td>\n      <td>Unknown</td>\n      <td>Unknown</td>\n      <td>L2</td>\n      <td>14</td>\n    </tr>\n    <tr>\n      <th>3</th>\n      <td>S699</td>\n      <td>crohns-paper_37122605</td>\n      <td>ITS1</td>\n      <td>Case</td>\n      <td>Gastrointestinal</td>\n      <td>Inflammatory bowel disease (IBD)</td>\n      <td>IBD</td>\n      <td>active_new_CD</td>\n      <td>active, newly diagnosed Crohn's disease (CD)</td>\n      <td>Crohn's disease (CD)</td>\n      <td>Europe</td>\n      <td>Poland</td>\n      <td>Lesser Poland Voivodeship (Małopolskie)</td>\n      <td>Krakow</td>\n      <td>Unknown</td>\n      <td>Unknown</td>\n      <td>Unknown</td>\n      <td>Unknown</td>\n      <td>L2</td>\n      <td>37</td>\n    </tr>\n    <tr>\n      <th>4</th>\n      <td>S707</td>\n      <td>crohns-paper_37122605</td>\n      <td>ITS1</td>\n      <td>Case</td>\n      <td>Gastrointestinal</td>\n      <td>Inflammatory bowel disease (IBD)</td>\n      <td>IBD</td>\n      <td>CD</td>\n      <td>clinical remission Crohn's disease (CD)</td>\n      <td>Crohn's disease (CD)</td>\n      <td>Europe</td>\n      <td>Poland</td>\n      <td>Lesser Poland Voivodeship (Małopolskie)</td>\n      <td>Krakow</td>\n      <td>Unknown</td>\n      <td>Unknown</td>\n      <td>Unknown</td>\n      <td>Unknown</td>\n      <td>L2</td>\n      <td>8</td>\n    </tr>\n  </tbody>\n</table>\n</div>"
     },
     "execution_count": 82,
     "metadata": {},
     "output_type": "execute_result"
    }
   ],
   "source": [
    "df_non_filtered_of_rar3000.head()"
   ],
   "metadata": {
    "collapsed": false,
    "ExecuteTime": {
     "end_time": "2024-08-23T13:48:12.429888Z",
     "start_time": "2024-08-23T13:48:12.413263Z"
    }
   },
   "id": "cf603c017df472e4",
   "execution_count": 82
  },
  {
   "cell_type": "code",
   "outputs": [
    {
     "data": {
      "text/plain": "['id',\n 'Project_ID',\n 'Sequencing_Region',\n 'Case_Control',\n 'Disease_Level_1',\n 'Health_Status',\n 'Disease_Level_2',\n 'Disease_Level_3',\n 'Disease_Subgroup',\n 'IBD_Subgroup',\n 'GeoLoc_Continent',\n 'GeoLoc_Country',\n 'GeoLoc_Region',\n 'GeoLoc_City',\n 'Host_Sex',\n 'Host_Age_Category',\n 'Host_Age_Decade',\n 'Host_Age',\n 'Age_Detail_Level',\n 'observed_features']"
     },
     "execution_count": 83,
     "metadata": {},
     "output_type": "execute_result"
    }
   ],
   "source": [
    "df_non_filtered_of_rar3000.columns.tolist()"
   ],
   "metadata": {
    "collapsed": false,
    "ExecuteTime": {
     "end_time": "2024-08-23T13:48:15.127514Z",
     "start_time": "2024-08-23T13:48:15.121503Z"
    }
   },
   "id": "d678aa34a3d6e79b",
   "execution_count": 83
  },
  {
   "cell_type": "code",
   "outputs": [],
   "source": [
    "# Rename the observed features column to be specific\n",
    "df_non_filtered_of_rar3000 = df_non_filtered_of_rar3000.rename(columns={'observed_features': 'observed_features_non_filtered'})\n",
    "df_filt_nonresident_of_rar3000 = df_filt_nonresident_of_rar3000.rename(columns={'observed_features': 'observed_features_filt_nonresident'})\n",
    "df_nonresident_of_rar3000 = df_nonresident_of_rar3000.rename(columns={'observed_features': 'observed_features_nonresident'})\n",
    "\n",
    "# Perform a left merge to keep all rows from the \"non_filtered\" dataset\n",
    "merged_df_transition_of_rar3000 = pd.merge(df_non_filtered_of_rar3000, df_filt_nonresident_of_rar3000, on=['id', 'Project_ID', 'Sequencing_Region', 'Case_Control', 'Disease_Level_1', 'Health_Status', 'Disease_Level_2', 'Disease_Level_3', 'Disease_Subgroup', 'IBD_Subgroup', 'GeoLoc_Continent', 'GeoLoc_Country', 'GeoLoc_Region', 'GeoLoc_City', 'Host_Sex', 'Host_Age_Category', 'Host_Age_Decade', 'Host_Age', 'Age_Detail_Level'], how='left')\n",
    "merged_df_observed_features_rar3000 = pd.merge(merged_df_transition_of_rar3000, df_nonresident_of_rar3000, on=['id', 'Project_ID', 'Sequencing_Region', 'Case_Control', 'Disease_Level_1', 'Health_Status', 'Disease_Level_2', 'Disease_Level_3', 'Disease_Subgroup', 'IBD_Subgroup', 'GeoLoc_Continent', 'GeoLoc_Country', 'GeoLoc_Region', 'GeoLoc_City', 'Host_Sex', 'Host_Age_Category', 'Host_Age_Decade', 'Host_Age', 'Age_Detail_Level'], how='left')\n",
    "\n",
    "# Fill missing values in the sample_count_after column with 0\n",
    "merged_df_observed_features_rar3000['observed_features_filt_nonresident'] = merged_df_observed_features_rar3000['observed_features_filt_nonresident'].fillna(0)\n",
    "merged_df_observed_features_rar3000['observed_features_nonresident'] = merged_df_observed_features_rar3000['observed_features_nonresident'].fillna(0)\n",
    "\n",
    "# Convert sample_count_after to integers\n",
    "merged_df_observed_features_rar3000['observed_features_filt_nonresident'] = merged_df_observed_features_rar3000['observed_features_filt_nonresident'].astype(int)\n",
    "merged_df_observed_features_rar3000['observed_features_nonresident'] = merged_df_observed_features_rar3000['observed_features_nonresident'].astype(int)"
   ],
   "metadata": {
    "collapsed": false,
    "ExecuteTime": {
     "end_time": "2024-08-23T13:48:30.799109Z",
     "start_time": "2024-08-23T13:48:30.754798Z"
    }
   },
   "id": "d40ec524ea8c1cae",
   "execution_count": 84
  },
  {
   "cell_type": "code",
   "outputs": [
    {
     "data": {
      "text/plain": "               id             Project_ID Sequencing_Region Case_Control  \\\n0            S675  crohns-paper_37122605              ITS1         Case   \n1            S683  crohns-paper_37122605              ITS1         Case   \n2            S691  crohns-paper_37122605              ITS1         Case   \n3            S699  crohns-paper_37122605              ITS1         Case   \n4            S707  crohns-paper_37122605              ITS1         Case   \n...           ...                    ...               ...          ...   \n1869  SRR18268067            PRJNA813503              ITS1         Case   \n1870  SRR18268068            PRJNA813503              ITS1         Case   \n1871  SRR18268069            PRJNA813503              ITS1         Case   \n1872  SRR18268070            PRJNA813503              ITS1         Case   \n1873  SRR18268071            PRJNA813503              ITS1         Case   \n\n       Disease_Level_1                        Health_Status Disease_Level_2  \\\n0     Gastrointestinal     Inflammatory bowel disease (IBD)             IBD   \n1     Gastrointestinal     Inflammatory bowel disease (IBD)             IBD   \n2     Gastrointestinal     Inflammatory bowel disease (IBD)             IBD   \n3     Gastrointestinal     Inflammatory bowel disease (IBD)             IBD   \n4     Gastrointestinal     Inflammatory bowel disease (IBD)             IBD   \n...                ...                                  ...             ...   \n1869         Metabolic  Gestational diabetes mellitus (GDM)             GDM   \n1870         Metabolic  Gestational diabetes mellitus (GDM)             GDM   \n1871         Metabolic  Gestational diabetes mellitus (GDM)             GDM   \n1872         Metabolic  Gestational diabetes mellitus (GDM)             GDM   \n1873         Metabolic  Gestational diabetes mellitus (GDM)             GDM   \n\n     Disease_Level_3                              Disease_Subgroup  \\\n0      active_new_CD  active, newly diagnosed Crohn's disease (CD)   \n1      active_new_CD  active, newly diagnosed Crohn's disease (CD)   \n2      active_new_CD  active, newly diagnosed Crohn's disease (CD)   \n3      active_new_CD  active, newly diagnosed Crohn's disease (CD)   \n4                 CD       clinical remission Crohn's disease (CD)   \n...              ...                                           ...   \n1869             NaN                                           NaN   \n1870             NaN                                           NaN   \n1871             NaN                                           NaN   \n1872             NaN                                           NaN   \n1873             NaN                                           NaN   \n\n              IBD_Subgroup  ...                            GeoLoc_Region  \\\n0     Crohn's disease (CD)  ...  Lesser Poland Voivodeship (Małopolskie)   \n1     Crohn's disease (CD)  ...  Lesser Poland Voivodeship (Małopolskie)   \n2     Crohn's disease (CD)  ...  Lesser Poland Voivodeship (Małopolskie)   \n3     Crohn's disease (CD)  ...  Lesser Poland Voivodeship (Małopolskie)   \n4     Crohn's disease (CD)  ...  Lesser Poland Voivodeship (Małopolskie)   \n...                    ...  ...                                      ...   \n1869                   NaN  ...                                  Beijing   \n1870                   NaN  ...                                  Beijing   \n1871                   NaN  ...                                  Beijing   \n1872                   NaN  ...                                  Beijing   \n1873                   NaN  ...                                  Beijing   \n\n     GeoLoc_City Host_Sex Host_Age_Category Host_Age_Decade Host_Age  \\\n0         Krakow  Unknown           Unknown         Unknown  Unknown   \n1         Krakow  Unknown           Unknown         Unknown  Unknown   \n2         Krakow  Unknown           Unknown         Unknown  Unknown   \n3         Krakow  Unknown           Unknown         Unknown  Unknown   \n4         Krakow  Unknown           Unknown         Unknown  Unknown   \n...          ...      ...               ...             ...      ...   \n1869     Beijing   female           Unknown         Unknown  Unknown   \n1870     Beijing   female           Unknown         Unknown  Unknown   \n1871     Beijing   female           Unknown         Unknown  Unknown   \n1872     Beijing   female           Unknown         Unknown  Unknown   \n1873     Beijing   female           Unknown         Unknown  Unknown   \n\n     Age_Detail_Level observed_features_non_filtered  \\\n0                  L2                             32   \n1                  L2                             10   \n2                  L2                             14   \n3                  L2                             37   \n4                  L2                              8   \n...               ...                            ...   \n1869               L1                             32   \n1870               L1                             56   \n1871               L1                            139   \n1872               L1                             18   \n1873               L1                             62   \n\n     observed_features_filt_nonresident  observed_features_nonresident  \n0                                    31                              1  \n1                                     9                              1  \n2                                    13                              1  \n3                                    34                              3  \n4                                     7                              1  \n...                                 ...                            ...  \n1869                                 29                              3  \n1870                                 52                              4  \n1871                                135                              4  \n1872                                 16                              2  \n1873                                 58                              4  \n\n[1874 rows x 22 columns]",
      "text/html": "<div>\n<style scoped>\n    .dataframe tbody tr th:only-of-type {\n        vertical-align: middle;\n    }\n\n    .dataframe tbody tr th {\n        vertical-align: top;\n    }\n\n    .dataframe thead th {\n        text-align: right;\n    }\n</style>\n<table border=\"1\" class=\"dataframe\">\n  <thead>\n    <tr style=\"text-align: right;\">\n      <th></th>\n      <th>id</th>\n      <th>Project_ID</th>\n      <th>Sequencing_Region</th>\n      <th>Case_Control</th>\n      <th>Disease_Level_1</th>\n      <th>Health_Status</th>\n      <th>Disease_Level_2</th>\n      <th>Disease_Level_3</th>\n      <th>Disease_Subgroup</th>\n      <th>IBD_Subgroup</th>\n      <th>...</th>\n      <th>GeoLoc_Region</th>\n      <th>GeoLoc_City</th>\n      <th>Host_Sex</th>\n      <th>Host_Age_Category</th>\n      <th>Host_Age_Decade</th>\n      <th>Host_Age</th>\n      <th>Age_Detail_Level</th>\n      <th>observed_features_non_filtered</th>\n      <th>observed_features_filt_nonresident</th>\n      <th>observed_features_nonresident</th>\n    </tr>\n  </thead>\n  <tbody>\n    <tr>\n      <th>0</th>\n      <td>S675</td>\n      <td>crohns-paper_37122605</td>\n      <td>ITS1</td>\n      <td>Case</td>\n      <td>Gastrointestinal</td>\n      <td>Inflammatory bowel disease (IBD)</td>\n      <td>IBD</td>\n      <td>active_new_CD</td>\n      <td>active, newly diagnosed Crohn's disease (CD)</td>\n      <td>Crohn's disease (CD)</td>\n      <td>...</td>\n      <td>Lesser Poland Voivodeship (Małopolskie)</td>\n      <td>Krakow</td>\n      <td>Unknown</td>\n      <td>Unknown</td>\n      <td>Unknown</td>\n      <td>Unknown</td>\n      <td>L2</td>\n      <td>32</td>\n      <td>31</td>\n      <td>1</td>\n    </tr>\n    <tr>\n      <th>1</th>\n      <td>S683</td>\n      <td>crohns-paper_37122605</td>\n      <td>ITS1</td>\n      <td>Case</td>\n      <td>Gastrointestinal</td>\n      <td>Inflammatory bowel disease (IBD)</td>\n      <td>IBD</td>\n      <td>active_new_CD</td>\n      <td>active, newly diagnosed Crohn's disease (CD)</td>\n      <td>Crohn's disease (CD)</td>\n      <td>...</td>\n      <td>Lesser Poland Voivodeship (Małopolskie)</td>\n      <td>Krakow</td>\n      <td>Unknown</td>\n      <td>Unknown</td>\n      <td>Unknown</td>\n      <td>Unknown</td>\n      <td>L2</td>\n      <td>10</td>\n      <td>9</td>\n      <td>1</td>\n    </tr>\n    <tr>\n      <th>2</th>\n      <td>S691</td>\n      <td>crohns-paper_37122605</td>\n      <td>ITS1</td>\n      <td>Case</td>\n      <td>Gastrointestinal</td>\n      <td>Inflammatory bowel disease (IBD)</td>\n      <td>IBD</td>\n      <td>active_new_CD</td>\n      <td>active, newly diagnosed Crohn's disease (CD)</td>\n      <td>Crohn's disease (CD)</td>\n      <td>...</td>\n      <td>Lesser Poland Voivodeship (Małopolskie)</td>\n      <td>Krakow</td>\n      <td>Unknown</td>\n      <td>Unknown</td>\n      <td>Unknown</td>\n      <td>Unknown</td>\n      <td>L2</td>\n      <td>14</td>\n      <td>13</td>\n      <td>1</td>\n    </tr>\n    <tr>\n      <th>3</th>\n      <td>S699</td>\n      <td>crohns-paper_37122605</td>\n      <td>ITS1</td>\n      <td>Case</td>\n      <td>Gastrointestinal</td>\n      <td>Inflammatory bowel disease (IBD)</td>\n      <td>IBD</td>\n      <td>active_new_CD</td>\n      <td>active, newly diagnosed Crohn's disease (CD)</td>\n      <td>Crohn's disease (CD)</td>\n      <td>...</td>\n      <td>Lesser Poland Voivodeship (Małopolskie)</td>\n      <td>Krakow</td>\n      <td>Unknown</td>\n      <td>Unknown</td>\n      <td>Unknown</td>\n      <td>Unknown</td>\n      <td>L2</td>\n      <td>37</td>\n      <td>34</td>\n      <td>3</td>\n    </tr>\n    <tr>\n      <th>4</th>\n      <td>S707</td>\n      <td>crohns-paper_37122605</td>\n      <td>ITS1</td>\n      <td>Case</td>\n      <td>Gastrointestinal</td>\n      <td>Inflammatory bowel disease (IBD)</td>\n      <td>IBD</td>\n      <td>CD</td>\n      <td>clinical remission Crohn's disease (CD)</td>\n      <td>Crohn's disease (CD)</td>\n      <td>...</td>\n      <td>Lesser Poland Voivodeship (Małopolskie)</td>\n      <td>Krakow</td>\n      <td>Unknown</td>\n      <td>Unknown</td>\n      <td>Unknown</td>\n      <td>Unknown</td>\n      <td>L2</td>\n      <td>8</td>\n      <td>7</td>\n      <td>1</td>\n    </tr>\n    <tr>\n      <th>...</th>\n      <td>...</td>\n      <td>...</td>\n      <td>...</td>\n      <td>...</td>\n      <td>...</td>\n      <td>...</td>\n      <td>...</td>\n      <td>...</td>\n      <td>...</td>\n      <td>...</td>\n      <td>...</td>\n      <td>...</td>\n      <td>...</td>\n      <td>...</td>\n      <td>...</td>\n      <td>...</td>\n      <td>...</td>\n      <td>...</td>\n      <td>...</td>\n      <td>...</td>\n      <td>...</td>\n    </tr>\n    <tr>\n      <th>1869</th>\n      <td>SRR18268067</td>\n      <td>PRJNA813503</td>\n      <td>ITS1</td>\n      <td>Case</td>\n      <td>Metabolic</td>\n      <td>Gestational diabetes mellitus (GDM)</td>\n      <td>GDM</td>\n      <td>NaN</td>\n      <td>NaN</td>\n      <td>NaN</td>\n      <td>...</td>\n      <td>Beijing</td>\n      <td>Beijing</td>\n      <td>female</td>\n      <td>Unknown</td>\n      <td>Unknown</td>\n      <td>Unknown</td>\n      <td>L1</td>\n      <td>32</td>\n      <td>29</td>\n      <td>3</td>\n    </tr>\n    <tr>\n      <th>1870</th>\n      <td>SRR18268068</td>\n      <td>PRJNA813503</td>\n      <td>ITS1</td>\n      <td>Case</td>\n      <td>Metabolic</td>\n      <td>Gestational diabetes mellitus (GDM)</td>\n      <td>GDM</td>\n      <td>NaN</td>\n      <td>NaN</td>\n      <td>NaN</td>\n      <td>...</td>\n      <td>Beijing</td>\n      <td>Beijing</td>\n      <td>female</td>\n      <td>Unknown</td>\n      <td>Unknown</td>\n      <td>Unknown</td>\n      <td>L1</td>\n      <td>56</td>\n      <td>52</td>\n      <td>4</td>\n    </tr>\n    <tr>\n      <th>1871</th>\n      <td>SRR18268069</td>\n      <td>PRJNA813503</td>\n      <td>ITS1</td>\n      <td>Case</td>\n      <td>Metabolic</td>\n      <td>Gestational diabetes mellitus (GDM)</td>\n      <td>GDM</td>\n      <td>NaN</td>\n      <td>NaN</td>\n      <td>NaN</td>\n      <td>...</td>\n      <td>Beijing</td>\n      <td>Beijing</td>\n      <td>female</td>\n      <td>Unknown</td>\n      <td>Unknown</td>\n      <td>Unknown</td>\n      <td>L1</td>\n      <td>139</td>\n      <td>135</td>\n      <td>4</td>\n    </tr>\n    <tr>\n      <th>1872</th>\n      <td>SRR18268070</td>\n      <td>PRJNA813503</td>\n      <td>ITS1</td>\n      <td>Case</td>\n      <td>Metabolic</td>\n      <td>Gestational diabetes mellitus (GDM)</td>\n      <td>GDM</td>\n      <td>NaN</td>\n      <td>NaN</td>\n      <td>NaN</td>\n      <td>...</td>\n      <td>Beijing</td>\n      <td>Beijing</td>\n      <td>female</td>\n      <td>Unknown</td>\n      <td>Unknown</td>\n      <td>Unknown</td>\n      <td>L1</td>\n      <td>18</td>\n      <td>16</td>\n      <td>2</td>\n    </tr>\n    <tr>\n      <th>1873</th>\n      <td>SRR18268071</td>\n      <td>PRJNA813503</td>\n      <td>ITS1</td>\n      <td>Case</td>\n      <td>Metabolic</td>\n      <td>Gestational diabetes mellitus (GDM)</td>\n      <td>GDM</td>\n      <td>NaN</td>\n      <td>NaN</td>\n      <td>NaN</td>\n      <td>...</td>\n      <td>Beijing</td>\n      <td>Beijing</td>\n      <td>female</td>\n      <td>Unknown</td>\n      <td>Unknown</td>\n      <td>Unknown</td>\n      <td>L1</td>\n      <td>62</td>\n      <td>58</td>\n      <td>4</td>\n    </tr>\n  </tbody>\n</table>\n<p>1874 rows × 22 columns</p>\n</div>"
     },
     "execution_count": 85,
     "metadata": {},
     "output_type": "execute_result"
    }
   ],
   "source": [
    "merged_df_observed_features_rar3000"
   ],
   "metadata": {
    "collapsed": false,
    "ExecuteTime": {
     "end_time": "2024-08-23T13:48:33.307667Z",
     "start_time": "2024-08-23T13:48:33.286492Z"
    }
   },
   "id": "75bb7ed0343539ef",
   "execution_count": 85
  },
  {
   "cell_type": "code",
   "outputs": [],
   "source": [
    "merged_df_observed_features_rar3000.to_csv(f'{data_dir}/metadata/combined_observed_features_rar3000.tsv', sep='\\t', index=False)"
   ],
   "metadata": {
    "collapsed": false,
    "ExecuteTime": {
     "end_time": "2024-08-23T13:48:38.085039Z",
     "start_time": "2024-08-23T13:48:38.043321Z"
    }
   },
   "id": "52adcadb56e4fa3e",
   "execution_count": 86
  },
  {
   "cell_type": "markdown",
   "source": [
    "### Shannon index: non-filtered, filt-nonresident, and only the non-resident (rar3000)"
   ],
   "metadata": {
    "collapsed": false
   },
   "id": "ddcfe1142c813e97"
  },
  {
   "cell_type": "code",
   "outputs": [],
   "source": [
    "df_non_filtered_shannon_rar3000 = pd.read_csv(f'{data_dir}/src-analysis/diversity-analysis/alpha-diversity-results-non-filtered/shannon-group-significance.tsv', sep='\\t')\n",
    "\n",
    "df_filt_nonresident_shannon_rar3000 = pd.read_csv(f'{data_dir}/src-analysis/diversity-analysis/alpha-diversity-results-filt-nonresident/shannon-group-significance.tsv', sep='\\t')\n",
    "\n",
    "df_nonresident_shannon_rar3000 = pd.read_csv(f'{data_dir}/src-analysis/diversity-analysis/alpha-diversity-results-nonresident/shannon-group-significance.tsv', sep='\\t')"
   ],
   "metadata": {
    "collapsed": false,
    "ExecuteTime": {
     "end_time": "2024-08-26T14:06:32.241160Z",
     "start_time": "2024-08-26T14:06:32.197521Z"
    }
   },
   "id": "61d4bd88d1e9b1fb",
   "execution_count": 98
  },
  {
   "cell_type": "code",
   "outputs": [
    {
     "data": {
      "text/plain": "(1874, 20)"
     },
     "execution_count": 99,
     "metadata": {},
     "output_type": "execute_result"
    }
   ],
   "source": [
    "df_non_filtered_shannon_rar3000.shape"
   ],
   "metadata": {
    "collapsed": false,
    "ExecuteTime": {
     "end_time": "2024-08-26T14:06:33.661905Z",
     "start_time": "2024-08-26T14:06:33.655469Z"
    }
   },
   "id": "d2281639588169d7",
   "execution_count": 99
  },
  {
   "cell_type": "code",
   "outputs": [
    {
     "data": {
      "text/plain": "(1872, 20)"
     },
     "execution_count": 100,
     "metadata": {},
     "output_type": "execute_result"
    }
   ],
   "source": [
    "df_filt_nonresident_shannon_rar3000.shape"
   ],
   "metadata": {
    "collapsed": false,
    "ExecuteTime": {
     "end_time": "2024-08-26T14:06:34.410593Z",
     "start_time": "2024-08-26T14:06:34.404576Z"
    }
   },
   "id": "9ad7333a7f216e99",
   "execution_count": 100
  },
  {
   "cell_type": "code",
   "outputs": [
    {
     "data": {
      "text/plain": "(1088, 20)"
     },
     "execution_count": 101,
     "metadata": {},
     "output_type": "execute_result"
    }
   ],
   "source": [
    "df_nonresident_shannon_rar3000.shape"
   ],
   "metadata": {
    "collapsed": false,
    "ExecuteTime": {
     "end_time": "2024-08-26T14:06:35.000018Z",
     "start_time": "2024-08-26T14:06:34.992894Z"
    }
   },
   "id": "ad8fac75c67fea86",
   "execution_count": 101
  },
  {
   "cell_type": "code",
   "outputs": [],
   "source": [
    "# Rename the shannon entropy column to be specific\n",
    "df_non_filtered_shannon_rar3000 = df_non_filtered_shannon_rar3000.rename(columns={'shannon_entropy': 'shannon_entropy_non_filtered'})\n",
    "df_filt_nonresident_shannon_rar3000 = df_filt_nonresident_shannon_rar3000.rename(columns={'shannon_entropy': 'shannon_entropy_filt_nonresident'})\n",
    "df_nonresident_shannon_rar3000 = df_nonresident_shannon_rar3000.rename(columns={'shannon_entropy': 'shannon_entropy_nonresident'})\n",
    "\n",
    "# Perform a left merge to keep all rows from the \"non_filtered\" dataset\n",
    "merged_df_transition_shannon_rar3000 = pd.merge(df_non_filtered_shannon_rar3000, df_filt_nonresident_shannon_rar3000, on=['id', 'Project_ID', 'Sequencing_Region', 'Case_Control', 'Disease_Level_1', 'Health_Status', 'Disease_Level_2', 'Disease_Level_3', 'Disease_Subgroup', 'IBD_Subgroup', 'GeoLoc_Continent', 'GeoLoc_Country', 'GeoLoc_Region', 'GeoLoc_City', 'Host_Sex', 'Host_Age_Category', 'Host_Age_Decade', 'Host_Age', 'Age_Detail_Level'], how='left')\n",
    "merged_df_shannon_rar3000 = pd.merge(merged_df_transition_shannon_rar3000, df_nonresident_shannon_rar3000, on=['id', 'Project_ID', 'Sequencing_Region', 'Case_Control', 'Disease_Level_1', 'Health_Status', 'Disease_Level_2', 'Disease_Level_3', 'Disease_Subgroup', 'IBD_Subgroup', 'GeoLoc_Continent', 'GeoLoc_Country', 'GeoLoc_Region', 'GeoLoc_City', 'Host_Sex', 'Host_Age_Category', 'Host_Age_Decade', 'Host_Age', 'Age_Detail_Level'], how='left')\n",
    "\n",
    "# Fill missing values in the sample_count_after column with 0\n",
    "merged_df_shannon_rar3000['shannon_entropy_filt_nonresident'] = merged_df_shannon_rar3000['shannon_entropy_filt_nonresident'].fillna(0)\n",
    "merged_df_shannon_rar3000['shannon_entropy_nonresident'] = merged_df_shannon_rar3000['shannon_entropy_nonresident'].fillna(0)"
   ],
   "metadata": {
    "collapsed": false,
    "ExecuteTime": {
     "end_time": "2024-08-26T14:06:40.153769Z",
     "start_time": "2024-08-26T14:06:40.125744Z"
    }
   },
   "id": "4c8fb66a0eaa7c85",
   "execution_count": 102
  },
  {
   "cell_type": "code",
   "outputs": [
    {
     "data": {
      "text/plain": "               id             Project_ID Sequencing_Region Case_Control  \\\n0            S675  crohns-paper_37122605              ITS1         Case   \n1            S683  crohns-paper_37122605              ITS1         Case   \n2            S691  crohns-paper_37122605              ITS1         Case   \n3            S699  crohns-paper_37122605              ITS1         Case   \n4            S707  crohns-paper_37122605              ITS1         Case   \n...           ...                    ...               ...          ...   \n1869  SRR18268067            PRJNA813503              ITS1         Case   \n1870  SRR18268068            PRJNA813503              ITS1         Case   \n1871  SRR18268069            PRJNA813503              ITS1         Case   \n1872  SRR18268070            PRJNA813503              ITS1         Case   \n1873  SRR18268071            PRJNA813503              ITS1         Case   \n\n       Disease_Level_1                        Health_Status Disease_Level_2  \\\n0     Gastrointestinal     Inflammatory bowel disease (IBD)             IBD   \n1     Gastrointestinal     Inflammatory bowel disease (IBD)             IBD   \n2     Gastrointestinal     Inflammatory bowel disease (IBD)             IBD   \n3     Gastrointestinal     Inflammatory bowel disease (IBD)             IBD   \n4     Gastrointestinal     Inflammatory bowel disease (IBD)             IBD   \n...                ...                                  ...             ...   \n1869         Metabolic  Gestational diabetes mellitus (GDM)             GDM   \n1870         Metabolic  Gestational diabetes mellitus (GDM)             GDM   \n1871         Metabolic  Gestational diabetes mellitus (GDM)             GDM   \n1872         Metabolic  Gestational diabetes mellitus (GDM)             GDM   \n1873         Metabolic  Gestational diabetes mellitus (GDM)             GDM   \n\n     Disease_Level_3                              Disease_Subgroup  \\\n0      active_new_CD  active, newly diagnosed Crohn's disease (CD)   \n1      active_new_CD  active, newly diagnosed Crohn's disease (CD)   \n2      active_new_CD  active, newly diagnosed Crohn's disease (CD)   \n3      active_new_CD  active, newly diagnosed Crohn's disease (CD)   \n4                 CD       clinical remission Crohn's disease (CD)   \n...              ...                                           ...   \n1869             NaN                                           NaN   \n1870             NaN                                           NaN   \n1871             NaN                                           NaN   \n1872             NaN                                           NaN   \n1873             NaN                                           NaN   \n\n              IBD_Subgroup  ...                            GeoLoc_Region  \\\n0     Crohn's disease (CD)  ...  Lesser Poland Voivodeship (Małopolskie)   \n1     Crohn's disease (CD)  ...  Lesser Poland Voivodeship (Małopolskie)   \n2     Crohn's disease (CD)  ...  Lesser Poland Voivodeship (Małopolskie)   \n3     Crohn's disease (CD)  ...  Lesser Poland Voivodeship (Małopolskie)   \n4     Crohn's disease (CD)  ...  Lesser Poland Voivodeship (Małopolskie)   \n...                    ...  ...                                      ...   \n1869                   NaN  ...                                  Beijing   \n1870                   NaN  ...                                  Beijing   \n1871                   NaN  ...                                  Beijing   \n1872                   NaN  ...                                  Beijing   \n1873                   NaN  ...                                  Beijing   \n\n     GeoLoc_City Host_Sex Host_Age_Category Host_Age_Decade Host_Age  \\\n0         Krakow  Unknown           Unknown         Unknown  Unknown   \n1         Krakow  Unknown           Unknown         Unknown  Unknown   \n2         Krakow  Unknown           Unknown         Unknown  Unknown   \n3         Krakow  Unknown           Unknown         Unknown  Unknown   \n4         Krakow  Unknown           Unknown         Unknown  Unknown   \n...          ...      ...               ...             ...      ...   \n1869     Beijing   female           Unknown         Unknown  Unknown   \n1870     Beijing   female           Unknown         Unknown  Unknown   \n1871     Beijing   female           Unknown         Unknown  Unknown   \n1872     Beijing   female           Unknown         Unknown  Unknown   \n1873     Beijing   female           Unknown         Unknown  Unknown   \n\n     Age_Detail_Level shannon_entropy_non_filtered  \\\n0                  L2                     3.680774   \n1                  L2                     1.770000   \n2                  L2                     0.252146   \n3                  L2                     0.948265   \n4                  L2                     0.910435   \n...               ...                          ...   \n1869               L1                     2.655323   \n1870               L1                     2.814774   \n1871               L1                     4.777275   \n1872               L1                     0.931249   \n1873               L1                     2.361676   \n\n     shannon_entropy_filt_nonresident  shannon_entropy_nonresident  \n0                            3.589150                     0.000000  \n1                            1.546965                     0.000000  \n2                            0.240979                     0.000000  \n3                            0.901563                     1.158939  \n4                            0.906406                     0.000000  \n...                               ...                          ...  \n1869                         2.544278                     0.365099  \n1870                         2.777367                     1.610577  \n1871                         4.739929                     1.675143  \n1872                         0.842526                     0.591673  \n1873                         2.290230                     0.844214  \n\n[1874 rows x 22 columns]",
      "text/html": "<div>\n<style scoped>\n    .dataframe tbody tr th:only-of-type {\n        vertical-align: middle;\n    }\n\n    .dataframe tbody tr th {\n        vertical-align: top;\n    }\n\n    .dataframe thead th {\n        text-align: right;\n    }\n</style>\n<table border=\"1\" class=\"dataframe\">\n  <thead>\n    <tr style=\"text-align: right;\">\n      <th></th>\n      <th>id</th>\n      <th>Project_ID</th>\n      <th>Sequencing_Region</th>\n      <th>Case_Control</th>\n      <th>Disease_Level_1</th>\n      <th>Health_Status</th>\n      <th>Disease_Level_2</th>\n      <th>Disease_Level_3</th>\n      <th>Disease_Subgroup</th>\n      <th>IBD_Subgroup</th>\n      <th>...</th>\n      <th>GeoLoc_Region</th>\n      <th>GeoLoc_City</th>\n      <th>Host_Sex</th>\n      <th>Host_Age_Category</th>\n      <th>Host_Age_Decade</th>\n      <th>Host_Age</th>\n      <th>Age_Detail_Level</th>\n      <th>shannon_entropy_non_filtered</th>\n      <th>shannon_entropy_filt_nonresident</th>\n      <th>shannon_entropy_nonresident</th>\n    </tr>\n  </thead>\n  <tbody>\n    <tr>\n      <th>0</th>\n      <td>S675</td>\n      <td>crohns-paper_37122605</td>\n      <td>ITS1</td>\n      <td>Case</td>\n      <td>Gastrointestinal</td>\n      <td>Inflammatory bowel disease (IBD)</td>\n      <td>IBD</td>\n      <td>active_new_CD</td>\n      <td>active, newly diagnosed Crohn's disease (CD)</td>\n      <td>Crohn's disease (CD)</td>\n      <td>...</td>\n      <td>Lesser Poland Voivodeship (Małopolskie)</td>\n      <td>Krakow</td>\n      <td>Unknown</td>\n      <td>Unknown</td>\n      <td>Unknown</td>\n      <td>Unknown</td>\n      <td>L2</td>\n      <td>3.680774</td>\n      <td>3.589150</td>\n      <td>0.000000</td>\n    </tr>\n    <tr>\n      <th>1</th>\n      <td>S683</td>\n      <td>crohns-paper_37122605</td>\n      <td>ITS1</td>\n      <td>Case</td>\n      <td>Gastrointestinal</td>\n      <td>Inflammatory bowel disease (IBD)</td>\n      <td>IBD</td>\n      <td>active_new_CD</td>\n      <td>active, newly diagnosed Crohn's disease (CD)</td>\n      <td>Crohn's disease (CD)</td>\n      <td>...</td>\n      <td>Lesser Poland Voivodeship (Małopolskie)</td>\n      <td>Krakow</td>\n      <td>Unknown</td>\n      <td>Unknown</td>\n      <td>Unknown</td>\n      <td>Unknown</td>\n      <td>L2</td>\n      <td>1.770000</td>\n      <td>1.546965</td>\n      <td>0.000000</td>\n    </tr>\n    <tr>\n      <th>2</th>\n      <td>S691</td>\n      <td>crohns-paper_37122605</td>\n      <td>ITS1</td>\n      <td>Case</td>\n      <td>Gastrointestinal</td>\n      <td>Inflammatory bowel disease (IBD)</td>\n      <td>IBD</td>\n      <td>active_new_CD</td>\n      <td>active, newly diagnosed Crohn's disease (CD)</td>\n      <td>Crohn's disease (CD)</td>\n      <td>...</td>\n      <td>Lesser Poland Voivodeship (Małopolskie)</td>\n      <td>Krakow</td>\n      <td>Unknown</td>\n      <td>Unknown</td>\n      <td>Unknown</td>\n      <td>Unknown</td>\n      <td>L2</td>\n      <td>0.252146</td>\n      <td>0.240979</td>\n      <td>0.000000</td>\n    </tr>\n    <tr>\n      <th>3</th>\n      <td>S699</td>\n      <td>crohns-paper_37122605</td>\n      <td>ITS1</td>\n      <td>Case</td>\n      <td>Gastrointestinal</td>\n      <td>Inflammatory bowel disease (IBD)</td>\n      <td>IBD</td>\n      <td>active_new_CD</td>\n      <td>active, newly diagnosed Crohn's disease (CD)</td>\n      <td>Crohn's disease (CD)</td>\n      <td>...</td>\n      <td>Lesser Poland Voivodeship (Małopolskie)</td>\n      <td>Krakow</td>\n      <td>Unknown</td>\n      <td>Unknown</td>\n      <td>Unknown</td>\n      <td>Unknown</td>\n      <td>L2</td>\n      <td>0.948265</td>\n      <td>0.901563</td>\n      <td>1.158939</td>\n    </tr>\n    <tr>\n      <th>4</th>\n      <td>S707</td>\n      <td>crohns-paper_37122605</td>\n      <td>ITS1</td>\n      <td>Case</td>\n      <td>Gastrointestinal</td>\n      <td>Inflammatory bowel disease (IBD)</td>\n      <td>IBD</td>\n      <td>CD</td>\n      <td>clinical remission Crohn's disease (CD)</td>\n      <td>Crohn's disease (CD)</td>\n      <td>...</td>\n      <td>Lesser Poland Voivodeship (Małopolskie)</td>\n      <td>Krakow</td>\n      <td>Unknown</td>\n      <td>Unknown</td>\n      <td>Unknown</td>\n      <td>Unknown</td>\n      <td>L2</td>\n      <td>0.910435</td>\n      <td>0.906406</td>\n      <td>0.000000</td>\n    </tr>\n    <tr>\n      <th>...</th>\n      <td>...</td>\n      <td>...</td>\n      <td>...</td>\n      <td>...</td>\n      <td>...</td>\n      <td>...</td>\n      <td>...</td>\n      <td>...</td>\n      <td>...</td>\n      <td>...</td>\n      <td>...</td>\n      <td>...</td>\n      <td>...</td>\n      <td>...</td>\n      <td>...</td>\n      <td>...</td>\n      <td>...</td>\n      <td>...</td>\n      <td>...</td>\n      <td>...</td>\n      <td>...</td>\n    </tr>\n    <tr>\n      <th>1869</th>\n      <td>SRR18268067</td>\n      <td>PRJNA813503</td>\n      <td>ITS1</td>\n      <td>Case</td>\n      <td>Metabolic</td>\n      <td>Gestational diabetes mellitus (GDM)</td>\n      <td>GDM</td>\n      <td>NaN</td>\n      <td>NaN</td>\n      <td>NaN</td>\n      <td>...</td>\n      <td>Beijing</td>\n      <td>Beijing</td>\n      <td>female</td>\n      <td>Unknown</td>\n      <td>Unknown</td>\n      <td>Unknown</td>\n      <td>L1</td>\n      <td>2.655323</td>\n      <td>2.544278</td>\n      <td>0.365099</td>\n    </tr>\n    <tr>\n      <th>1870</th>\n      <td>SRR18268068</td>\n      <td>PRJNA813503</td>\n      <td>ITS1</td>\n      <td>Case</td>\n      <td>Metabolic</td>\n      <td>Gestational diabetes mellitus (GDM)</td>\n      <td>GDM</td>\n      <td>NaN</td>\n      <td>NaN</td>\n      <td>NaN</td>\n      <td>...</td>\n      <td>Beijing</td>\n      <td>Beijing</td>\n      <td>female</td>\n      <td>Unknown</td>\n      <td>Unknown</td>\n      <td>Unknown</td>\n      <td>L1</td>\n      <td>2.814774</td>\n      <td>2.777367</td>\n      <td>1.610577</td>\n    </tr>\n    <tr>\n      <th>1871</th>\n      <td>SRR18268069</td>\n      <td>PRJNA813503</td>\n      <td>ITS1</td>\n      <td>Case</td>\n      <td>Metabolic</td>\n      <td>Gestational diabetes mellitus (GDM)</td>\n      <td>GDM</td>\n      <td>NaN</td>\n      <td>NaN</td>\n      <td>NaN</td>\n      <td>...</td>\n      <td>Beijing</td>\n      <td>Beijing</td>\n      <td>female</td>\n      <td>Unknown</td>\n      <td>Unknown</td>\n      <td>Unknown</td>\n      <td>L1</td>\n      <td>4.777275</td>\n      <td>4.739929</td>\n      <td>1.675143</td>\n    </tr>\n    <tr>\n      <th>1872</th>\n      <td>SRR18268070</td>\n      <td>PRJNA813503</td>\n      <td>ITS1</td>\n      <td>Case</td>\n      <td>Metabolic</td>\n      <td>Gestational diabetes mellitus (GDM)</td>\n      <td>GDM</td>\n      <td>NaN</td>\n      <td>NaN</td>\n      <td>NaN</td>\n      <td>...</td>\n      <td>Beijing</td>\n      <td>Beijing</td>\n      <td>female</td>\n      <td>Unknown</td>\n      <td>Unknown</td>\n      <td>Unknown</td>\n      <td>L1</td>\n      <td>0.931249</td>\n      <td>0.842526</td>\n      <td>0.591673</td>\n    </tr>\n    <tr>\n      <th>1873</th>\n      <td>SRR18268071</td>\n      <td>PRJNA813503</td>\n      <td>ITS1</td>\n      <td>Case</td>\n      <td>Metabolic</td>\n      <td>Gestational diabetes mellitus (GDM)</td>\n      <td>GDM</td>\n      <td>NaN</td>\n      <td>NaN</td>\n      <td>NaN</td>\n      <td>...</td>\n      <td>Beijing</td>\n      <td>Beijing</td>\n      <td>female</td>\n      <td>Unknown</td>\n      <td>Unknown</td>\n      <td>Unknown</td>\n      <td>L1</td>\n      <td>2.361676</td>\n      <td>2.290230</td>\n      <td>0.844214</td>\n    </tr>\n  </tbody>\n</table>\n<p>1874 rows × 22 columns</p>\n</div>"
     },
     "execution_count": 103,
     "metadata": {},
     "output_type": "execute_result"
    }
   ],
   "source": [
    "merged_df_shannon_rar3000"
   ],
   "metadata": {
    "collapsed": false,
    "ExecuteTime": {
     "end_time": "2024-08-26T14:06:41.014616Z",
     "start_time": "2024-08-26T14:06:40.989451Z"
    }
   },
   "id": "781fbb80b978ef8a",
   "execution_count": 103
  },
  {
   "cell_type": "code",
   "outputs": [],
   "source": [
    "merged_df_rar3000 = pd.merge(merged_df_observed_features_rar3000, merged_df_shannon_rar3000, on=[*merged_df_observed_features_rar3000.columns.intersection(merged_df_shannon_rar3000.columns)], how='inner')"
   ],
   "metadata": {
    "collapsed": false,
    "ExecuteTime": {
     "end_time": "2024-08-26T14:06:54.196566Z",
     "start_time": "2024-08-26T14:06:54.175002Z"
    }
   },
   "id": "1dcb6049cd15b1b9",
   "execution_count": 104
  },
  {
   "cell_type": "code",
   "outputs": [
    {
     "data": {
      "text/plain": "               id             Project_ID Sequencing_Region Case_Control  \\\n0            S675  crohns-paper_37122605              ITS1         Case   \n1            S683  crohns-paper_37122605              ITS1         Case   \n2            S691  crohns-paper_37122605              ITS1         Case   \n3            S699  crohns-paper_37122605              ITS1         Case   \n4            S707  crohns-paper_37122605              ITS1         Case   \n...           ...                    ...               ...          ...   \n1869  SRR18268067            PRJNA813503              ITS1         Case   \n1870  SRR18268068            PRJNA813503              ITS1         Case   \n1871  SRR18268069            PRJNA813503              ITS1         Case   \n1872  SRR18268070            PRJNA813503              ITS1         Case   \n1873  SRR18268071            PRJNA813503              ITS1         Case   \n\n       Disease_Level_1                        Health_Status Disease_Level_2  \\\n0     Gastrointestinal     Inflammatory bowel disease (IBD)             IBD   \n1     Gastrointestinal     Inflammatory bowel disease (IBD)             IBD   \n2     Gastrointestinal     Inflammatory bowel disease (IBD)             IBD   \n3     Gastrointestinal     Inflammatory bowel disease (IBD)             IBD   \n4     Gastrointestinal     Inflammatory bowel disease (IBD)             IBD   \n...                ...                                  ...             ...   \n1869         Metabolic  Gestational diabetes mellitus (GDM)             GDM   \n1870         Metabolic  Gestational diabetes mellitus (GDM)             GDM   \n1871         Metabolic  Gestational diabetes mellitus (GDM)             GDM   \n1872         Metabolic  Gestational diabetes mellitus (GDM)             GDM   \n1873         Metabolic  Gestational diabetes mellitus (GDM)             GDM   \n\n     Disease_Level_3                              Disease_Subgroup  \\\n0      active_new_CD  active, newly diagnosed Crohn's disease (CD)   \n1      active_new_CD  active, newly diagnosed Crohn's disease (CD)   \n2      active_new_CD  active, newly diagnosed Crohn's disease (CD)   \n3      active_new_CD  active, newly diagnosed Crohn's disease (CD)   \n4                 CD       clinical remission Crohn's disease (CD)   \n...              ...                                           ...   \n1869             NaN                                           NaN   \n1870             NaN                                           NaN   \n1871             NaN                                           NaN   \n1872             NaN                                           NaN   \n1873             NaN                                           NaN   \n\n              IBD_Subgroup  ... Host_Age_Category Host_Age_Decade Host_Age  \\\n0     Crohn's disease (CD)  ...           Unknown         Unknown  Unknown   \n1     Crohn's disease (CD)  ...           Unknown         Unknown  Unknown   \n2     Crohn's disease (CD)  ...           Unknown         Unknown  Unknown   \n3     Crohn's disease (CD)  ...           Unknown         Unknown  Unknown   \n4     Crohn's disease (CD)  ...           Unknown         Unknown  Unknown   \n...                    ...  ...               ...             ...      ...   \n1869                   NaN  ...           Unknown         Unknown  Unknown   \n1870                   NaN  ...           Unknown         Unknown  Unknown   \n1871                   NaN  ...           Unknown         Unknown  Unknown   \n1872                   NaN  ...           Unknown         Unknown  Unknown   \n1873                   NaN  ...           Unknown         Unknown  Unknown   \n\n     Age_Detail_Level observed_features_non_filtered  \\\n0                  L2                             32   \n1                  L2                             10   \n2                  L2                             14   \n3                  L2                             37   \n4                  L2                              8   \n...               ...                            ...   \n1869               L1                             32   \n1870               L1                             56   \n1871               L1                            139   \n1872               L1                             18   \n1873               L1                             62   \n\n     observed_features_filt_nonresident observed_features_nonresident  \\\n0                                    31                             1   \n1                                     9                             1   \n2                                    13                             1   \n3                                    34                             3   \n4                                     7                             1   \n...                                 ...                           ...   \n1869                                 29                             3   \n1870                                 52                             4   \n1871                                135                             4   \n1872                                 16                             2   \n1873                                 58                             4   \n\n     shannon_entropy_non_filtered shannon_entropy_filt_nonresident  \\\n0                        3.680774                         3.589150   \n1                        1.770000                         1.546965   \n2                        0.252146                         0.240979   \n3                        0.948265                         0.901563   \n4                        0.910435                         0.906406   \n...                           ...                              ...   \n1869                     2.655323                         2.544278   \n1870                     2.814774                         2.777367   \n1871                     4.777275                         4.739929   \n1872                     0.931249                         0.842526   \n1873                     2.361676                         2.290230   \n\n      shannon_entropy_nonresident  \n0                        0.000000  \n1                        0.000000  \n2                        0.000000  \n3                        1.158939  \n4                        0.000000  \n...                           ...  \n1869                     0.365099  \n1870                     1.610577  \n1871                     1.675143  \n1872                     0.591673  \n1873                     0.844214  \n\n[1874 rows x 25 columns]",
      "text/html": "<div>\n<style scoped>\n    .dataframe tbody tr th:only-of-type {\n        vertical-align: middle;\n    }\n\n    .dataframe tbody tr th {\n        vertical-align: top;\n    }\n\n    .dataframe thead th {\n        text-align: right;\n    }\n</style>\n<table border=\"1\" class=\"dataframe\">\n  <thead>\n    <tr style=\"text-align: right;\">\n      <th></th>\n      <th>id</th>\n      <th>Project_ID</th>\n      <th>Sequencing_Region</th>\n      <th>Case_Control</th>\n      <th>Disease_Level_1</th>\n      <th>Health_Status</th>\n      <th>Disease_Level_2</th>\n      <th>Disease_Level_3</th>\n      <th>Disease_Subgroup</th>\n      <th>IBD_Subgroup</th>\n      <th>...</th>\n      <th>Host_Age_Category</th>\n      <th>Host_Age_Decade</th>\n      <th>Host_Age</th>\n      <th>Age_Detail_Level</th>\n      <th>observed_features_non_filtered</th>\n      <th>observed_features_filt_nonresident</th>\n      <th>observed_features_nonresident</th>\n      <th>shannon_entropy_non_filtered</th>\n      <th>shannon_entropy_filt_nonresident</th>\n      <th>shannon_entropy_nonresident</th>\n    </tr>\n  </thead>\n  <tbody>\n    <tr>\n      <th>0</th>\n      <td>S675</td>\n      <td>crohns-paper_37122605</td>\n      <td>ITS1</td>\n      <td>Case</td>\n      <td>Gastrointestinal</td>\n      <td>Inflammatory bowel disease (IBD)</td>\n      <td>IBD</td>\n      <td>active_new_CD</td>\n      <td>active, newly diagnosed Crohn's disease (CD)</td>\n      <td>Crohn's disease (CD)</td>\n      <td>...</td>\n      <td>Unknown</td>\n      <td>Unknown</td>\n      <td>Unknown</td>\n      <td>L2</td>\n      <td>32</td>\n      <td>31</td>\n      <td>1</td>\n      <td>3.680774</td>\n      <td>3.589150</td>\n      <td>0.000000</td>\n    </tr>\n    <tr>\n      <th>1</th>\n      <td>S683</td>\n      <td>crohns-paper_37122605</td>\n      <td>ITS1</td>\n      <td>Case</td>\n      <td>Gastrointestinal</td>\n      <td>Inflammatory bowel disease (IBD)</td>\n      <td>IBD</td>\n      <td>active_new_CD</td>\n      <td>active, newly diagnosed Crohn's disease (CD)</td>\n      <td>Crohn's disease (CD)</td>\n      <td>...</td>\n      <td>Unknown</td>\n      <td>Unknown</td>\n      <td>Unknown</td>\n      <td>L2</td>\n      <td>10</td>\n      <td>9</td>\n      <td>1</td>\n      <td>1.770000</td>\n      <td>1.546965</td>\n      <td>0.000000</td>\n    </tr>\n    <tr>\n      <th>2</th>\n      <td>S691</td>\n      <td>crohns-paper_37122605</td>\n      <td>ITS1</td>\n      <td>Case</td>\n      <td>Gastrointestinal</td>\n      <td>Inflammatory bowel disease (IBD)</td>\n      <td>IBD</td>\n      <td>active_new_CD</td>\n      <td>active, newly diagnosed Crohn's disease (CD)</td>\n      <td>Crohn's disease (CD)</td>\n      <td>...</td>\n      <td>Unknown</td>\n      <td>Unknown</td>\n      <td>Unknown</td>\n      <td>L2</td>\n      <td>14</td>\n      <td>13</td>\n      <td>1</td>\n      <td>0.252146</td>\n      <td>0.240979</td>\n      <td>0.000000</td>\n    </tr>\n    <tr>\n      <th>3</th>\n      <td>S699</td>\n      <td>crohns-paper_37122605</td>\n      <td>ITS1</td>\n      <td>Case</td>\n      <td>Gastrointestinal</td>\n      <td>Inflammatory bowel disease (IBD)</td>\n      <td>IBD</td>\n      <td>active_new_CD</td>\n      <td>active, newly diagnosed Crohn's disease (CD)</td>\n      <td>Crohn's disease (CD)</td>\n      <td>...</td>\n      <td>Unknown</td>\n      <td>Unknown</td>\n      <td>Unknown</td>\n      <td>L2</td>\n      <td>37</td>\n      <td>34</td>\n      <td>3</td>\n      <td>0.948265</td>\n      <td>0.901563</td>\n      <td>1.158939</td>\n    </tr>\n    <tr>\n      <th>4</th>\n      <td>S707</td>\n      <td>crohns-paper_37122605</td>\n      <td>ITS1</td>\n      <td>Case</td>\n      <td>Gastrointestinal</td>\n      <td>Inflammatory bowel disease (IBD)</td>\n      <td>IBD</td>\n      <td>CD</td>\n      <td>clinical remission Crohn's disease (CD)</td>\n      <td>Crohn's disease (CD)</td>\n      <td>...</td>\n      <td>Unknown</td>\n      <td>Unknown</td>\n      <td>Unknown</td>\n      <td>L2</td>\n      <td>8</td>\n      <td>7</td>\n      <td>1</td>\n      <td>0.910435</td>\n      <td>0.906406</td>\n      <td>0.000000</td>\n    </tr>\n    <tr>\n      <th>...</th>\n      <td>...</td>\n      <td>...</td>\n      <td>...</td>\n      <td>...</td>\n      <td>...</td>\n      <td>...</td>\n      <td>...</td>\n      <td>...</td>\n      <td>...</td>\n      <td>...</td>\n      <td>...</td>\n      <td>...</td>\n      <td>...</td>\n      <td>...</td>\n      <td>...</td>\n      <td>...</td>\n      <td>...</td>\n      <td>...</td>\n      <td>...</td>\n      <td>...</td>\n      <td>...</td>\n    </tr>\n    <tr>\n      <th>1869</th>\n      <td>SRR18268067</td>\n      <td>PRJNA813503</td>\n      <td>ITS1</td>\n      <td>Case</td>\n      <td>Metabolic</td>\n      <td>Gestational diabetes mellitus (GDM)</td>\n      <td>GDM</td>\n      <td>NaN</td>\n      <td>NaN</td>\n      <td>NaN</td>\n      <td>...</td>\n      <td>Unknown</td>\n      <td>Unknown</td>\n      <td>Unknown</td>\n      <td>L1</td>\n      <td>32</td>\n      <td>29</td>\n      <td>3</td>\n      <td>2.655323</td>\n      <td>2.544278</td>\n      <td>0.365099</td>\n    </tr>\n    <tr>\n      <th>1870</th>\n      <td>SRR18268068</td>\n      <td>PRJNA813503</td>\n      <td>ITS1</td>\n      <td>Case</td>\n      <td>Metabolic</td>\n      <td>Gestational diabetes mellitus (GDM)</td>\n      <td>GDM</td>\n      <td>NaN</td>\n      <td>NaN</td>\n      <td>NaN</td>\n      <td>...</td>\n      <td>Unknown</td>\n      <td>Unknown</td>\n      <td>Unknown</td>\n      <td>L1</td>\n      <td>56</td>\n      <td>52</td>\n      <td>4</td>\n      <td>2.814774</td>\n      <td>2.777367</td>\n      <td>1.610577</td>\n    </tr>\n    <tr>\n      <th>1871</th>\n      <td>SRR18268069</td>\n      <td>PRJNA813503</td>\n      <td>ITS1</td>\n      <td>Case</td>\n      <td>Metabolic</td>\n      <td>Gestational diabetes mellitus (GDM)</td>\n      <td>GDM</td>\n      <td>NaN</td>\n      <td>NaN</td>\n      <td>NaN</td>\n      <td>...</td>\n      <td>Unknown</td>\n      <td>Unknown</td>\n      <td>Unknown</td>\n      <td>L1</td>\n      <td>139</td>\n      <td>135</td>\n      <td>4</td>\n      <td>4.777275</td>\n      <td>4.739929</td>\n      <td>1.675143</td>\n    </tr>\n    <tr>\n      <th>1872</th>\n      <td>SRR18268070</td>\n      <td>PRJNA813503</td>\n      <td>ITS1</td>\n      <td>Case</td>\n      <td>Metabolic</td>\n      <td>Gestational diabetes mellitus (GDM)</td>\n      <td>GDM</td>\n      <td>NaN</td>\n      <td>NaN</td>\n      <td>NaN</td>\n      <td>...</td>\n      <td>Unknown</td>\n      <td>Unknown</td>\n      <td>Unknown</td>\n      <td>L1</td>\n      <td>18</td>\n      <td>16</td>\n      <td>2</td>\n      <td>0.931249</td>\n      <td>0.842526</td>\n      <td>0.591673</td>\n    </tr>\n    <tr>\n      <th>1873</th>\n      <td>SRR18268071</td>\n      <td>PRJNA813503</td>\n      <td>ITS1</td>\n      <td>Case</td>\n      <td>Metabolic</td>\n      <td>Gestational diabetes mellitus (GDM)</td>\n      <td>GDM</td>\n      <td>NaN</td>\n      <td>NaN</td>\n      <td>NaN</td>\n      <td>...</td>\n      <td>Unknown</td>\n      <td>Unknown</td>\n      <td>Unknown</td>\n      <td>L1</td>\n      <td>62</td>\n      <td>58</td>\n      <td>4</td>\n      <td>2.361676</td>\n      <td>2.290230</td>\n      <td>0.844214</td>\n    </tr>\n  </tbody>\n</table>\n<p>1874 rows × 25 columns</p>\n</div>"
     },
     "execution_count": 105,
     "metadata": {},
     "output_type": "execute_result"
    }
   ],
   "source": [
    "merged_df_rar3000"
   ],
   "metadata": {
    "collapsed": false,
    "ExecuteTime": {
     "end_time": "2024-08-26T14:06:55.521388Z",
     "start_time": "2024-08-26T14:06:55.498725Z"
    }
   },
   "id": "257744e0b3f558ec",
   "execution_count": 105
  },
  {
   "cell_type": "code",
   "outputs": [],
   "source": [
    "merged_df_rar3000.to_csv(f'{data_dir}/metadata/combined_alpha_diversity_rar3000.tsv', sep='\\t', index=False)"
   ],
   "metadata": {
    "collapsed": false,
    "ExecuteTime": {
     "end_time": "2024-08-26T14:06:58.014400Z",
     "start_time": "2024-08-26T14:06:57.979420Z"
    }
   },
   "id": "8d72e5259aa584da",
   "execution_count": 106
  },
  {
   "cell_type": "markdown",
   "source": [
    "## Comparing sample counts before and after rarefaction at 6000\n",
    "(not using rar6000 in the end)"
   ],
   "metadata": {
    "collapsed": false
   },
   "id": "8a7962d062ceb621"
  },
  {
   "cell_type": "markdown",
   "source": [
    "This was done after excluding H1N1 samples (Health Status = H1N1, Disease Level 2 = COVID-19) in PRJNA637034.\n",
    "\n",
    "This comparison led to exclusion of five projects with too small sample size after rarefaction for downstream analysis."
   ],
   "metadata": {
    "collapsed": false
   },
   "id": "9a5bb8fb5ed15705"
  },
  {
   "cell_type": "code",
   "outputs": [],
   "source": [
    "df_case_control = pd.read_csv(f'{data_dir}/metadata/case_control_metadata_remove_h1n1.tsv', sep='\\t')"
   ],
   "metadata": {
    "collapsed": false,
    "ExecuteTime": {
     "end_time": "2024-08-26T16:00:44.562559Z",
     "start_time": "2024-08-26T16:00:44.533771Z"
    }
   },
   "id": "4fe52d69a25ea4be",
   "execution_count": 108
  },
  {
   "cell_type": "code",
   "outputs": [
    {
     "data": {
      "text/plain": "(2383, 19)"
     },
     "execution_count": 109,
     "metadata": {},
     "output_type": "execute_result"
    }
   ],
   "source": [
    "df_case_control.shape"
   ],
   "metadata": {
    "collapsed": false,
    "ExecuteTime": {
     "end_time": "2024-08-26T16:00:50.950286Z",
     "start_time": "2024-08-26T16:00:50.946895Z"
    }
   },
   "id": "23ad49a35ec7acda",
   "execution_count": 109
  },
  {
   "cell_type": "code",
   "outputs": [
    {
     "data": {
      "text/plain": "  SampleID             Project_ID Sequencing_Region Case_Control  \\\n0     S675  crohns-paper_37122605              ITS1         Case   \n1     S683  crohns-paper_37122605              ITS1         Case   \n2     S691  crohns-paper_37122605              ITS1         Case   \n3     S699  crohns-paper_37122605              ITS1         Case   \n4     S707  crohns-paper_37122605              ITS1         Case   \n\n    Disease_Level_1                     Health_Status Disease_Level_2  \\\n0  Gastrointestinal  Inflammatory bowel disease (IBD)             IBD   \n1  Gastrointestinal  Inflammatory bowel disease (IBD)             IBD   \n2  Gastrointestinal  Inflammatory bowel disease (IBD)             IBD   \n3  Gastrointestinal  Inflammatory bowel disease (IBD)             IBD   \n4  Gastrointestinal  Inflammatory bowel disease (IBD)             IBD   \n\n  Disease_Level_3                              Disease_Subgroup  \\\n0   active_new_CD  active, newly diagnosed Crohn's disease (CD)   \n1   active_new_CD  active, newly diagnosed Crohn's disease (CD)   \n2   active_new_CD  active, newly diagnosed Crohn's disease (CD)   \n3   active_new_CD  active, newly diagnosed Crohn's disease (CD)   \n4              CD       clinical remission Crohn's disease (CD)   \n\n           IBD_Subgroup GeoLoc_Continent GeoLoc_Country  \\\n0  Crohn's disease (CD)           Europe         Poland   \n1  Crohn's disease (CD)           Europe         Poland   \n2  Crohn's disease (CD)           Europe         Poland   \n3  Crohn's disease (CD)           Europe         Poland   \n4  Crohn's disease (CD)           Europe         Poland   \n\n                             GeoLoc_Region GeoLoc_City Host_Sex  \\\n0  Lesser Poland Voivodeship (Małopolskie)      Krakow  Unknown   \n1  Lesser Poland Voivodeship (Małopolskie)      Krakow  Unknown   \n2  Lesser Poland Voivodeship (Małopolskie)      Krakow  Unknown   \n3  Lesser Poland Voivodeship (Małopolskie)      Krakow  Unknown   \n4  Lesser Poland Voivodeship (Małopolskie)      Krakow  Unknown   \n\n  Host_Age_Category Host_Age_Decade Host_Age Age_Detail_Level  \n0           Unknown         Unknown  Unknown               L2  \n1           Unknown         Unknown  Unknown               L2  \n2           Unknown         Unknown  Unknown               L2  \n3           Unknown         Unknown  Unknown               L2  \n4           Unknown         Unknown  Unknown               L2  ",
      "text/html": "<div>\n<style scoped>\n    .dataframe tbody tr th:only-of-type {\n        vertical-align: middle;\n    }\n\n    .dataframe tbody tr th {\n        vertical-align: top;\n    }\n\n    .dataframe thead th {\n        text-align: right;\n    }\n</style>\n<table border=\"1\" class=\"dataframe\">\n  <thead>\n    <tr style=\"text-align: right;\">\n      <th></th>\n      <th>SampleID</th>\n      <th>Project_ID</th>\n      <th>Sequencing_Region</th>\n      <th>Case_Control</th>\n      <th>Disease_Level_1</th>\n      <th>Health_Status</th>\n      <th>Disease_Level_2</th>\n      <th>Disease_Level_3</th>\n      <th>Disease_Subgroup</th>\n      <th>IBD_Subgroup</th>\n      <th>GeoLoc_Continent</th>\n      <th>GeoLoc_Country</th>\n      <th>GeoLoc_Region</th>\n      <th>GeoLoc_City</th>\n      <th>Host_Sex</th>\n      <th>Host_Age_Category</th>\n      <th>Host_Age_Decade</th>\n      <th>Host_Age</th>\n      <th>Age_Detail_Level</th>\n    </tr>\n  </thead>\n  <tbody>\n    <tr>\n      <th>0</th>\n      <td>S675</td>\n      <td>crohns-paper_37122605</td>\n      <td>ITS1</td>\n      <td>Case</td>\n      <td>Gastrointestinal</td>\n      <td>Inflammatory bowel disease (IBD)</td>\n      <td>IBD</td>\n      <td>active_new_CD</td>\n      <td>active, newly diagnosed Crohn's disease (CD)</td>\n      <td>Crohn's disease (CD)</td>\n      <td>Europe</td>\n      <td>Poland</td>\n      <td>Lesser Poland Voivodeship (Małopolskie)</td>\n      <td>Krakow</td>\n      <td>Unknown</td>\n      <td>Unknown</td>\n      <td>Unknown</td>\n      <td>Unknown</td>\n      <td>L2</td>\n    </tr>\n    <tr>\n      <th>1</th>\n      <td>S683</td>\n      <td>crohns-paper_37122605</td>\n      <td>ITS1</td>\n      <td>Case</td>\n      <td>Gastrointestinal</td>\n      <td>Inflammatory bowel disease (IBD)</td>\n      <td>IBD</td>\n      <td>active_new_CD</td>\n      <td>active, newly diagnosed Crohn's disease (CD)</td>\n      <td>Crohn's disease (CD)</td>\n      <td>Europe</td>\n      <td>Poland</td>\n      <td>Lesser Poland Voivodeship (Małopolskie)</td>\n      <td>Krakow</td>\n      <td>Unknown</td>\n      <td>Unknown</td>\n      <td>Unknown</td>\n      <td>Unknown</td>\n      <td>L2</td>\n    </tr>\n    <tr>\n      <th>2</th>\n      <td>S691</td>\n      <td>crohns-paper_37122605</td>\n      <td>ITS1</td>\n      <td>Case</td>\n      <td>Gastrointestinal</td>\n      <td>Inflammatory bowel disease (IBD)</td>\n      <td>IBD</td>\n      <td>active_new_CD</td>\n      <td>active, newly diagnosed Crohn's disease (CD)</td>\n      <td>Crohn's disease (CD)</td>\n      <td>Europe</td>\n      <td>Poland</td>\n      <td>Lesser Poland Voivodeship (Małopolskie)</td>\n      <td>Krakow</td>\n      <td>Unknown</td>\n      <td>Unknown</td>\n      <td>Unknown</td>\n      <td>Unknown</td>\n      <td>L2</td>\n    </tr>\n    <tr>\n      <th>3</th>\n      <td>S699</td>\n      <td>crohns-paper_37122605</td>\n      <td>ITS1</td>\n      <td>Case</td>\n      <td>Gastrointestinal</td>\n      <td>Inflammatory bowel disease (IBD)</td>\n      <td>IBD</td>\n      <td>active_new_CD</td>\n      <td>active, newly diagnosed Crohn's disease (CD)</td>\n      <td>Crohn's disease (CD)</td>\n      <td>Europe</td>\n      <td>Poland</td>\n      <td>Lesser Poland Voivodeship (Małopolskie)</td>\n      <td>Krakow</td>\n      <td>Unknown</td>\n      <td>Unknown</td>\n      <td>Unknown</td>\n      <td>Unknown</td>\n      <td>L2</td>\n    </tr>\n    <tr>\n      <th>4</th>\n      <td>S707</td>\n      <td>crohns-paper_37122605</td>\n      <td>ITS1</td>\n      <td>Case</td>\n      <td>Gastrointestinal</td>\n      <td>Inflammatory bowel disease (IBD)</td>\n      <td>IBD</td>\n      <td>CD</td>\n      <td>clinical remission Crohn's disease (CD)</td>\n      <td>Crohn's disease (CD)</td>\n      <td>Europe</td>\n      <td>Poland</td>\n      <td>Lesser Poland Voivodeship (Małopolskie)</td>\n      <td>Krakow</td>\n      <td>Unknown</td>\n      <td>Unknown</td>\n      <td>Unknown</td>\n      <td>Unknown</td>\n      <td>L2</td>\n    </tr>\n  </tbody>\n</table>\n</div>"
     },
     "execution_count": 110,
     "metadata": {},
     "output_type": "execute_result"
    }
   ],
   "source": [
    "df_case_control.head()"
   ],
   "metadata": {
    "collapsed": false,
    "ExecuteTime": {
     "end_time": "2024-08-26T16:01:37.432293Z",
     "start_time": "2024-08-26T16:01:37.421796Z"
    }
   },
   "id": "851e5abbd83d76b1",
   "execution_count": 110
  },
  {
   "cell_type": "code",
   "outputs": [
    {
     "name": "stdout",
     "output_type": "stream",
     "text": [
      "               Project_ID        Disease_Level_2 Case_Control  sample_count\n",
      "0              PRJDB13192               COVID-19         Case            76\n",
      "1              PRJDB13192               COVID-19      Control            24\n",
      "2              PRJEB35665               Melanoma         Case            20\n",
      "3              PRJEB35665               Melanoma      Control            17\n",
      "4              PRJEB38917                Obesity         Case            32\n",
      "5              PRJEB38917                Obesity      Control             9\n",
      "6              PRJEB38930                     AN         Case            94\n",
      "7              PRJEB38930                     AN      Control            62\n",
      "8              PRJEB42375                    IBS         Case            80\n",
      "9              PRJEB42375                    IBS      Control            64\n",
      "10             PRJEB46343                    HIV         Case            24\n",
      "11             PRJEB46343                    HIV      Control            12\n",
      "12             PRJEB53019                   T2DM         Case            17\n",
      "13             PRJEB53019                   T2DM      Control            11\n",
      "14            PRJNA419104                    CDI         Case            34\n",
      "15            PRJNA419104                    CDI      Control            23\n",
      "16            PRJNA517994  Alcohol-Associated-LD         Case            91\n",
      "17            PRJNA517994  Alcohol-Associated-LD      Control            11\n",
      "18            PRJNA557226                    PDA         Case            18\n",
      "19            PRJNA557226                    PDA      Control             9\n",
      "20            PRJNA590898                    IBD         Case            36\n",
      "21            PRJNA590898                    IBD      Control            18\n",
      "22            PRJNA607176                    IBD         Case            34\n",
      "23            PRJNA607176                    IBD      Control            47\n",
      "24            PRJNA637034               COVID-19         Case           106\n",
      "25            PRJNA637034               COVID-19      Control            46\n",
      "26            PRJNA647266                    CKD         Case            90\n",
      "27            PRJNA647266                    CKD      Control           150\n",
      "28            PRJNA662173                   T2DM         Case            46\n",
      "29            PRJNA662173                   T2DM      Control            23\n",
      "30            PRJNA698272                  NAFLD         Case            78\n",
      "31            PRJNA698272                  NAFLD      Control            16\n",
      "32            PRJNA703732  Alcohol-Associated-LD         Case           137\n",
      "33            PRJNA703732  Alcohol-Associated-LD      Control            18\n",
      "34            PRJNA735021                     RA         Case            47\n",
      "35            PRJNA735021                     RA      Control            39\n",
      "36            PRJNA751473                     AD         Case            17\n",
      "37            PRJNA751473                     AD      Control            17\n",
      "38            PRJNA756382                   T1DM         Case           103\n",
      "39            PRJNA756382                   T1DM      Control            58\n",
      "40            PRJNA778607                     HD         Case            63\n",
      "41            PRJNA778607                     HD      Control            42\n",
      "42            PRJNA791216                     RA         Case            99\n",
      "43            PRJNA791216                     RA      Control            30\n",
      "44            PRJNA794154               COVID-19         Case            30\n",
      "45            PRJNA794154               COVID-19      Control            23\n",
      "46            PRJNA813503                    GDM         Case            46\n",
      "47            PRJNA813503                    GDM      Control            52\n",
      "48  crohns-paper_37122605                    IBD         Case           105\n",
      "49  crohns-paper_37122605                    IBD      Control            39\n"
     ]
    }
   ],
   "source": [
    "case_control_per_project_before = df_case_control.groupby(['Project_ID', 'Disease_Level_2', 'Case_Control']).agg(sample_count=('SampleID', 'size')).reset_index()\n",
    "\n",
    "print(case_control_per_project_before)"
   ],
   "metadata": {
    "collapsed": false,
    "ExecuteTime": {
     "end_time": "2024-08-26T16:02:26.455824Z",
     "start_time": "2024-08-26T16:02:26.440030Z"
    }
   },
   "id": "2b59a72a7bff1644",
   "execution_count": 111
  },
  {
   "cell_type": "code",
   "outputs": [],
   "source": [
    "df_obf_rar6000 = pd.read_csv(f'{data_dir}/src-analysis/diversity-analysis/core-metrics-results-remove-h1n1-rar6000/observed-features-group-significance.tsv', sep='\\t')"
   ],
   "metadata": {
    "collapsed": false,
    "ExecuteTime": {
     "end_time": "2024-08-26T17:04:00.350660Z",
     "start_time": "2024-08-26T17:04:00.305744Z"
    }
   },
   "id": "c2d871d8088ff07f",
   "execution_count": 127
  },
  {
   "cell_type": "code",
   "outputs": [
    {
     "data": {
      "text/plain": "(1699, 20)"
     },
     "execution_count": 128,
     "metadata": {},
     "output_type": "execute_result"
    }
   ],
   "source": [
    "df_obf_rar6000.shape"
   ],
   "metadata": {
    "collapsed": false,
    "ExecuteTime": {
     "end_time": "2024-08-26T17:04:01.785327Z",
     "start_time": "2024-08-26T17:04:01.779160Z"
    }
   },
   "id": "44b430523c808a9a",
   "execution_count": 128
  },
  {
   "cell_type": "code",
   "outputs": [
    {
     "data": {
      "text/plain": "     id             Project_ID Sequencing_Region Case_Control  \\\n0  S675  crohns-paper_37122605              ITS1         Case   \n1  S683  crohns-paper_37122605              ITS1         Case   \n2  S691  crohns-paper_37122605              ITS1         Case   \n3  S699  crohns-paper_37122605              ITS1         Case   \n4  S707  crohns-paper_37122605              ITS1         Case   \n\n    Disease_Level_1                     Health_Status Disease_Level_2  \\\n0  Gastrointestinal  Inflammatory bowel disease (IBD)             IBD   \n1  Gastrointestinal  Inflammatory bowel disease (IBD)             IBD   \n2  Gastrointestinal  Inflammatory bowel disease (IBD)             IBD   \n3  Gastrointestinal  Inflammatory bowel disease (IBD)             IBD   \n4  Gastrointestinal  Inflammatory bowel disease (IBD)             IBD   \n\n  Disease_Level_3                              Disease_Subgroup  \\\n0   active_new_CD  active, newly diagnosed Crohn's disease (CD)   \n1   active_new_CD  active, newly diagnosed Crohn's disease (CD)   \n2   active_new_CD  active, newly diagnosed Crohn's disease (CD)   \n3   active_new_CD  active, newly diagnosed Crohn's disease (CD)   \n4              CD       clinical remission Crohn's disease (CD)   \n\n           IBD_Subgroup GeoLoc_Continent GeoLoc_Country  \\\n0  Crohn's disease (CD)           Europe         Poland   \n1  Crohn's disease (CD)           Europe         Poland   \n2  Crohn's disease (CD)           Europe         Poland   \n3  Crohn's disease (CD)           Europe         Poland   \n4  Crohn's disease (CD)           Europe         Poland   \n\n                             GeoLoc_Region GeoLoc_City Host_Sex  \\\n0  Lesser Poland Voivodeship (Małopolskie)      Krakow  Unknown   \n1  Lesser Poland Voivodeship (Małopolskie)      Krakow  Unknown   \n2  Lesser Poland Voivodeship (Małopolskie)      Krakow  Unknown   \n3  Lesser Poland Voivodeship (Małopolskie)      Krakow  Unknown   \n4  Lesser Poland Voivodeship (Małopolskie)      Krakow  Unknown   \n\n  Host_Age_Category Host_Age_Decade Host_Age Age_Detail_Level  \\\n0           Unknown         Unknown  Unknown               L2   \n1           Unknown         Unknown  Unknown               L2   \n2           Unknown         Unknown  Unknown               L2   \n3           Unknown         Unknown  Unknown               L2   \n4           Unknown         Unknown  Unknown               L2   \n\n   observed_features  \n0                 32  \n1                  9  \n2                 18  \n3                 41  \n4                 14  ",
      "text/html": "<div>\n<style scoped>\n    .dataframe tbody tr th:only-of-type {\n        vertical-align: middle;\n    }\n\n    .dataframe tbody tr th {\n        vertical-align: top;\n    }\n\n    .dataframe thead th {\n        text-align: right;\n    }\n</style>\n<table border=\"1\" class=\"dataframe\">\n  <thead>\n    <tr style=\"text-align: right;\">\n      <th></th>\n      <th>id</th>\n      <th>Project_ID</th>\n      <th>Sequencing_Region</th>\n      <th>Case_Control</th>\n      <th>Disease_Level_1</th>\n      <th>Health_Status</th>\n      <th>Disease_Level_2</th>\n      <th>Disease_Level_3</th>\n      <th>Disease_Subgroup</th>\n      <th>IBD_Subgroup</th>\n      <th>GeoLoc_Continent</th>\n      <th>GeoLoc_Country</th>\n      <th>GeoLoc_Region</th>\n      <th>GeoLoc_City</th>\n      <th>Host_Sex</th>\n      <th>Host_Age_Category</th>\n      <th>Host_Age_Decade</th>\n      <th>Host_Age</th>\n      <th>Age_Detail_Level</th>\n      <th>observed_features</th>\n    </tr>\n  </thead>\n  <tbody>\n    <tr>\n      <th>0</th>\n      <td>S675</td>\n      <td>crohns-paper_37122605</td>\n      <td>ITS1</td>\n      <td>Case</td>\n      <td>Gastrointestinal</td>\n      <td>Inflammatory bowel disease (IBD)</td>\n      <td>IBD</td>\n      <td>active_new_CD</td>\n      <td>active, newly diagnosed Crohn's disease (CD)</td>\n      <td>Crohn's disease (CD)</td>\n      <td>Europe</td>\n      <td>Poland</td>\n      <td>Lesser Poland Voivodeship (Małopolskie)</td>\n      <td>Krakow</td>\n      <td>Unknown</td>\n      <td>Unknown</td>\n      <td>Unknown</td>\n      <td>Unknown</td>\n      <td>L2</td>\n      <td>32</td>\n    </tr>\n    <tr>\n      <th>1</th>\n      <td>S683</td>\n      <td>crohns-paper_37122605</td>\n      <td>ITS1</td>\n      <td>Case</td>\n      <td>Gastrointestinal</td>\n      <td>Inflammatory bowel disease (IBD)</td>\n      <td>IBD</td>\n      <td>active_new_CD</td>\n      <td>active, newly diagnosed Crohn's disease (CD)</td>\n      <td>Crohn's disease (CD)</td>\n      <td>Europe</td>\n      <td>Poland</td>\n      <td>Lesser Poland Voivodeship (Małopolskie)</td>\n      <td>Krakow</td>\n      <td>Unknown</td>\n      <td>Unknown</td>\n      <td>Unknown</td>\n      <td>Unknown</td>\n      <td>L2</td>\n      <td>9</td>\n    </tr>\n    <tr>\n      <th>2</th>\n      <td>S691</td>\n      <td>crohns-paper_37122605</td>\n      <td>ITS1</td>\n      <td>Case</td>\n      <td>Gastrointestinal</td>\n      <td>Inflammatory bowel disease (IBD)</td>\n      <td>IBD</td>\n      <td>active_new_CD</td>\n      <td>active, newly diagnosed Crohn's disease (CD)</td>\n      <td>Crohn's disease (CD)</td>\n      <td>Europe</td>\n      <td>Poland</td>\n      <td>Lesser Poland Voivodeship (Małopolskie)</td>\n      <td>Krakow</td>\n      <td>Unknown</td>\n      <td>Unknown</td>\n      <td>Unknown</td>\n      <td>Unknown</td>\n      <td>L2</td>\n      <td>18</td>\n    </tr>\n    <tr>\n      <th>3</th>\n      <td>S699</td>\n      <td>crohns-paper_37122605</td>\n      <td>ITS1</td>\n      <td>Case</td>\n      <td>Gastrointestinal</td>\n      <td>Inflammatory bowel disease (IBD)</td>\n      <td>IBD</td>\n      <td>active_new_CD</td>\n      <td>active, newly diagnosed Crohn's disease (CD)</td>\n      <td>Crohn's disease (CD)</td>\n      <td>Europe</td>\n      <td>Poland</td>\n      <td>Lesser Poland Voivodeship (Małopolskie)</td>\n      <td>Krakow</td>\n      <td>Unknown</td>\n      <td>Unknown</td>\n      <td>Unknown</td>\n      <td>Unknown</td>\n      <td>L2</td>\n      <td>41</td>\n    </tr>\n    <tr>\n      <th>4</th>\n      <td>S707</td>\n      <td>crohns-paper_37122605</td>\n      <td>ITS1</td>\n      <td>Case</td>\n      <td>Gastrointestinal</td>\n      <td>Inflammatory bowel disease (IBD)</td>\n      <td>IBD</td>\n      <td>CD</td>\n      <td>clinical remission Crohn's disease (CD)</td>\n      <td>Crohn's disease (CD)</td>\n      <td>Europe</td>\n      <td>Poland</td>\n      <td>Lesser Poland Voivodeship (Małopolskie)</td>\n      <td>Krakow</td>\n      <td>Unknown</td>\n      <td>Unknown</td>\n      <td>Unknown</td>\n      <td>Unknown</td>\n      <td>L2</td>\n      <td>14</td>\n    </tr>\n  </tbody>\n</table>\n</div>"
     },
     "execution_count": 129,
     "metadata": {},
     "output_type": "execute_result"
    }
   ],
   "source": [
    "df_obf_rar6000.head()"
   ],
   "metadata": {
    "collapsed": false,
    "ExecuteTime": {
     "end_time": "2024-08-26T17:04:11.899083Z",
     "start_time": "2024-08-26T17:04:11.882599Z"
    }
   },
   "id": "cd9d81549b24b334",
   "execution_count": 129
  },
  {
   "cell_type": "code",
   "outputs": [
    {
     "name": "stdout",
     "output_type": "stream",
     "text": [
      "               Project_ID        Disease_Level_2 Case_Control  sample_count\n",
      "0              PRJDB13192               COVID-19         Case            68\n",
      "1              PRJDB13192               COVID-19      Control            11\n",
      "2              PRJEB35665               Melanoma         Case            17\n",
      "3              PRJEB35665               Melanoma      Control            16\n",
      "4              PRJEB38917                Obesity         Case             3\n",
      "5              PRJEB38917                Obesity      Control             1\n",
      "6              PRJEB38930                     AN         Case            60\n",
      "7              PRJEB38930                     AN      Control            34\n",
      "8              PRJEB42375                    IBS         Case            80\n",
      "9              PRJEB42375                    IBS      Control            64\n",
      "10             PRJEB46343                    HIV         Case            23\n",
      "11             PRJEB46343                    HIV      Control            12\n",
      "12             PRJEB53019                   T2DM         Case             5\n",
      "13             PRJEB53019                   T2DM      Control             2\n",
      "14            PRJNA419104                    CDI         Case            31\n",
      "15            PRJNA419104                    CDI      Control            17\n",
      "16            PRJNA517994  Alcohol-Associated-LD         Case            33\n",
      "17            PRJNA517994  Alcohol-Associated-LD      Control             8\n",
      "18            PRJNA590898                    IBD         Case            24\n",
      "19            PRJNA590898                    IBD      Control            12\n",
      "20            PRJNA607176                    IBD         Case            29\n",
      "21            PRJNA607176                    IBD      Control            33\n",
      "22            PRJNA647266                    CKD         Case            90\n",
      "23            PRJNA647266                    CKD      Control           150\n",
      "24            PRJNA662173                   T2DM         Case            46\n",
      "25            PRJNA662173                   T2DM      Control            23\n",
      "26            PRJNA698272                  NAFLD         Case            14\n",
      "27            PRJNA698272                  NAFLD      Control             2\n",
      "28            PRJNA703732  Alcohol-Associated-LD         Case            93\n",
      "29            PRJNA703732  Alcohol-Associated-LD      Control            12\n",
      "30            PRJNA735021                     RA         Case            39\n",
      "31            PRJNA735021                     RA      Control            32\n",
      "32            PRJNA751473                     AD         Case            17\n",
      "33            PRJNA751473                     AD      Control            17\n",
      "34            PRJNA756382                   T1DM         Case            66\n",
      "35            PRJNA756382                   T1DM      Control            30\n",
      "36            PRJNA778607                     HD         Case            63\n",
      "37            PRJNA778607                     HD      Control            42\n",
      "38            PRJNA791216                     RA         Case            91\n",
      "39            PRJNA791216                     RA      Control            26\n",
      "40            PRJNA794154               COVID-19         Case            30\n",
      "41            PRJNA794154               COVID-19      Control            23\n",
      "42            PRJNA813503                    GDM         Case            29\n",
      "43            PRJNA813503                    GDM      Control            38\n",
      "44  crohns-paper_37122605                    IBD         Case           104\n",
      "45  crohns-paper_37122605                    IBD      Control            39\n"
     ]
    }
   ],
   "source": [
    "case_control_per_project_after = df_obf_rar6000.groupby(['Project_ID', 'Disease_Level_2', 'Case_Control']).agg(sample_count=('id', 'size')).reset_index()\n",
    "\n",
    "print(case_control_per_project_after)"
   ],
   "metadata": {
    "collapsed": false,
    "ExecuteTime": {
     "end_time": "2024-08-26T17:04:17.032940Z",
     "start_time": "2024-08-26T17:04:17.015748Z"
    }
   },
   "id": "ac94c1a494c2c5bb",
   "execution_count": 130
  },
  {
   "cell_type": "code",
   "outputs": [],
   "source": [
    "data_before_rar6000 = pd.read_csv(f'{data_dir}/metadata/before-rarefaction6000.txt', sep=r'\\s+', engine='python') \n",
    "data_after_rar6000 = pd.read_csv(f'{data_dir}/metadata/after-rarefaction6000.txt', sep=r'\\s+', engine='python')"
   ],
   "metadata": {
    "collapsed": false,
    "ExecuteTime": {
     "end_time": "2024-08-26T17:05:40.073599Z",
     "start_time": "2024-08-26T17:05:40.064426Z"
    }
   },
   "id": "2a17e220c62e4594",
   "execution_count": 131
  },
  {
   "cell_type": "code",
   "outputs": [],
   "source": [
    "# Rename the sample_count column to be specific\n",
    "data_before_rar6000 = data_before_rar6000.rename(columns={'sample_count': 'sample_count_before'})\n",
    "data_after_rar6000 = data_after_rar6000.rename(columns={'sample_count': 'sample_count_after'})\n",
    "\n",
    "# Perform a left merge to keep all rows from the \"before\" dataset\n",
    "merged_df_rar6000 = pd.merge(data_before_rar6000, data_after_rar6000, on=['Project_ID', 'Disease_Level_2', 'Case_Control'], how='left')\n",
    "\n",
    "# Fill missing values in the sample_count_after column with 0\n",
    "merged_df_rar6000['sample_count_after'] = merged_df_rar6000['sample_count_after'].fillna(0)\n",
    "\n",
    "# Convert sample_count_after to integers\n",
    "merged_df_rar6000['sample_count_after'] = merged_df_rar6000['sample_count_after'].astype(int)"
   ],
   "metadata": {
    "collapsed": false,
    "ExecuteTime": {
     "end_time": "2024-08-26T17:05:45.025647Z",
     "start_time": "2024-08-26T17:05:45.014826Z"
    }
   },
   "id": "41b979dab5281504",
   "execution_count": 132
  },
  {
   "cell_type": "code",
   "outputs": [
    {
     "data": {
      "text/plain": "               Project_ID        Disease_Level_2 Case_Control  \\\n0              PRJDB13192               COVID-19         Case   \n1              PRJDB13192               COVID-19      Control   \n2              PRJEB35665               Melanoma         Case   \n3              PRJEB35665               Melanoma      Control   \n4              PRJEB38917                Obesity         Case   \n5              PRJEB38917                Obesity      Control   \n6              PRJEB38930                     AN         Case   \n7              PRJEB38930                     AN      Control   \n8              PRJEB42375                    IBS         Case   \n9              PRJEB42375                    IBS      Control   \n10             PRJEB46343                    HIV         Case   \n11             PRJEB46343                    HIV      Control   \n12             PRJEB53019                   T2DM         Case   \n13             PRJEB53019                   T2DM      Control   \n14            PRJNA419104                    CDI         Case   \n15            PRJNA419104                    CDI      Control   \n16            PRJNA517994  Alcohol-Associated-LD         Case   \n17            PRJNA517994  Alcohol-Associated-LD      Control   \n18            PRJNA557226                    PDA         Case   \n19            PRJNA557226                    PDA      Control   \n20            PRJNA590898                    IBD         Case   \n21            PRJNA590898                    IBD      Control   \n22            PRJNA607176                    IBD         Case   \n23            PRJNA607176                    IBD      Control   \n24            PRJNA637034               COVID-19         Case   \n25            PRJNA637034               COVID-19      Control   \n26            PRJNA647266                    CKD         Case   \n27            PRJNA647266                    CKD      Control   \n28            PRJNA662173                   T2DM         Case   \n29            PRJNA662173                   T2DM      Control   \n30            PRJNA698272                  NAFLD         Case   \n31            PRJNA698272                  NAFLD      Control   \n32            PRJNA703732  Alcohol-Associated-LD         Case   \n33            PRJNA703732  Alcohol-Associated-LD      Control   \n34            PRJNA735021                     RA         Case   \n35            PRJNA735021                     RA      Control   \n36            PRJNA751473                     AD         Case   \n37            PRJNA751473                     AD      Control   \n38            PRJNA756382                   T1DM         Case   \n39            PRJNA756382                   T1DM      Control   \n40            PRJNA778607                     HD         Case   \n41            PRJNA778607                     HD      Control   \n42            PRJNA791216                     RA         Case   \n43            PRJNA791216                     RA      Control   \n44            PRJNA794154               COVID-19         Case   \n45            PRJNA794154               COVID-19      Control   \n46            PRJNA813503                    GDM         Case   \n47            PRJNA813503                    GDM      Control   \n48  crohns-paper_37122605                    IBD         Case   \n49  crohns-paper_37122605                    IBD      Control   \n\n    sample_count_before  sample_count_after  \n0                    76                  68  \n1                    24                  11  \n2                    20                  17  \n3                    17                  16  \n4                    32                   3  \n5                     9                   1  \n6                    94                  60  \n7                    62                  34  \n8                    80                  80  \n9                    64                  64  \n10                   24                  23  \n11                   12                  12  \n12                   17                   5  \n13                   11                   2  \n14                   34                  31  \n15                   23                  17  \n16                   91                  33  \n17                   11                   8  \n18                   18                   0  \n19                    9                   0  \n20                   36                  24  \n21                   18                  12  \n22                   34                  29  \n23                   47                  33  \n24                  106                   0  \n25                   46                   0  \n26                   90                  90  \n27                  150                 150  \n28                   46                  46  \n29                   23                  23  \n30                   78                  14  \n31                   16                   2  \n32                  137                  93  \n33                   18                  12  \n34                   47                  39  \n35                   39                  32  \n36                   17                  17  \n37                   17                  17  \n38                  103                  66  \n39                   58                  30  \n40                   63                  63  \n41                   42                  42  \n42                   99                  91  \n43                   30                  26  \n44                   30                  30  \n45                   23                  23  \n46                   46                  29  \n47                   52                  38  \n48                  105                 104  \n49                   39                  39  ",
      "text/html": "<div>\n<style scoped>\n    .dataframe tbody tr th:only-of-type {\n        vertical-align: middle;\n    }\n\n    .dataframe tbody tr th {\n        vertical-align: top;\n    }\n\n    .dataframe thead th {\n        text-align: right;\n    }\n</style>\n<table border=\"1\" class=\"dataframe\">\n  <thead>\n    <tr style=\"text-align: right;\">\n      <th></th>\n      <th>Project_ID</th>\n      <th>Disease_Level_2</th>\n      <th>Case_Control</th>\n      <th>sample_count_before</th>\n      <th>sample_count_after</th>\n    </tr>\n  </thead>\n  <tbody>\n    <tr>\n      <th>0</th>\n      <td>PRJDB13192</td>\n      <td>COVID-19</td>\n      <td>Case</td>\n      <td>76</td>\n      <td>68</td>\n    </tr>\n    <tr>\n      <th>1</th>\n      <td>PRJDB13192</td>\n      <td>COVID-19</td>\n      <td>Control</td>\n      <td>24</td>\n      <td>11</td>\n    </tr>\n    <tr>\n      <th>2</th>\n      <td>PRJEB35665</td>\n      <td>Melanoma</td>\n      <td>Case</td>\n      <td>20</td>\n      <td>17</td>\n    </tr>\n    <tr>\n      <th>3</th>\n      <td>PRJEB35665</td>\n      <td>Melanoma</td>\n      <td>Control</td>\n      <td>17</td>\n      <td>16</td>\n    </tr>\n    <tr>\n      <th>4</th>\n      <td>PRJEB38917</td>\n      <td>Obesity</td>\n      <td>Case</td>\n      <td>32</td>\n      <td>3</td>\n    </tr>\n    <tr>\n      <th>5</th>\n      <td>PRJEB38917</td>\n      <td>Obesity</td>\n      <td>Control</td>\n      <td>9</td>\n      <td>1</td>\n    </tr>\n    <tr>\n      <th>6</th>\n      <td>PRJEB38930</td>\n      <td>AN</td>\n      <td>Case</td>\n      <td>94</td>\n      <td>60</td>\n    </tr>\n    <tr>\n      <th>7</th>\n      <td>PRJEB38930</td>\n      <td>AN</td>\n      <td>Control</td>\n      <td>62</td>\n      <td>34</td>\n    </tr>\n    <tr>\n      <th>8</th>\n      <td>PRJEB42375</td>\n      <td>IBS</td>\n      <td>Case</td>\n      <td>80</td>\n      <td>80</td>\n    </tr>\n    <tr>\n      <th>9</th>\n      <td>PRJEB42375</td>\n      <td>IBS</td>\n      <td>Control</td>\n      <td>64</td>\n      <td>64</td>\n    </tr>\n    <tr>\n      <th>10</th>\n      <td>PRJEB46343</td>\n      <td>HIV</td>\n      <td>Case</td>\n      <td>24</td>\n      <td>23</td>\n    </tr>\n    <tr>\n      <th>11</th>\n      <td>PRJEB46343</td>\n      <td>HIV</td>\n      <td>Control</td>\n      <td>12</td>\n      <td>12</td>\n    </tr>\n    <tr>\n      <th>12</th>\n      <td>PRJEB53019</td>\n      <td>T2DM</td>\n      <td>Case</td>\n      <td>17</td>\n      <td>5</td>\n    </tr>\n    <tr>\n      <th>13</th>\n      <td>PRJEB53019</td>\n      <td>T2DM</td>\n      <td>Control</td>\n      <td>11</td>\n      <td>2</td>\n    </tr>\n    <tr>\n      <th>14</th>\n      <td>PRJNA419104</td>\n      <td>CDI</td>\n      <td>Case</td>\n      <td>34</td>\n      <td>31</td>\n    </tr>\n    <tr>\n      <th>15</th>\n      <td>PRJNA419104</td>\n      <td>CDI</td>\n      <td>Control</td>\n      <td>23</td>\n      <td>17</td>\n    </tr>\n    <tr>\n      <th>16</th>\n      <td>PRJNA517994</td>\n      <td>Alcohol-Associated-LD</td>\n      <td>Case</td>\n      <td>91</td>\n      <td>33</td>\n    </tr>\n    <tr>\n      <th>17</th>\n      <td>PRJNA517994</td>\n      <td>Alcohol-Associated-LD</td>\n      <td>Control</td>\n      <td>11</td>\n      <td>8</td>\n    </tr>\n    <tr>\n      <th>18</th>\n      <td>PRJNA557226</td>\n      <td>PDA</td>\n      <td>Case</td>\n      <td>18</td>\n      <td>0</td>\n    </tr>\n    <tr>\n      <th>19</th>\n      <td>PRJNA557226</td>\n      <td>PDA</td>\n      <td>Control</td>\n      <td>9</td>\n      <td>0</td>\n    </tr>\n    <tr>\n      <th>20</th>\n      <td>PRJNA590898</td>\n      <td>IBD</td>\n      <td>Case</td>\n      <td>36</td>\n      <td>24</td>\n    </tr>\n    <tr>\n      <th>21</th>\n      <td>PRJNA590898</td>\n      <td>IBD</td>\n      <td>Control</td>\n      <td>18</td>\n      <td>12</td>\n    </tr>\n    <tr>\n      <th>22</th>\n      <td>PRJNA607176</td>\n      <td>IBD</td>\n      <td>Case</td>\n      <td>34</td>\n      <td>29</td>\n    </tr>\n    <tr>\n      <th>23</th>\n      <td>PRJNA607176</td>\n      <td>IBD</td>\n      <td>Control</td>\n      <td>47</td>\n      <td>33</td>\n    </tr>\n    <tr>\n      <th>24</th>\n      <td>PRJNA637034</td>\n      <td>COVID-19</td>\n      <td>Case</td>\n      <td>106</td>\n      <td>0</td>\n    </tr>\n    <tr>\n      <th>25</th>\n      <td>PRJNA637034</td>\n      <td>COVID-19</td>\n      <td>Control</td>\n      <td>46</td>\n      <td>0</td>\n    </tr>\n    <tr>\n      <th>26</th>\n      <td>PRJNA647266</td>\n      <td>CKD</td>\n      <td>Case</td>\n      <td>90</td>\n      <td>90</td>\n    </tr>\n    <tr>\n      <th>27</th>\n      <td>PRJNA647266</td>\n      <td>CKD</td>\n      <td>Control</td>\n      <td>150</td>\n      <td>150</td>\n    </tr>\n    <tr>\n      <th>28</th>\n      <td>PRJNA662173</td>\n      <td>T2DM</td>\n      <td>Case</td>\n      <td>46</td>\n      <td>46</td>\n    </tr>\n    <tr>\n      <th>29</th>\n      <td>PRJNA662173</td>\n      <td>T2DM</td>\n      <td>Control</td>\n      <td>23</td>\n      <td>23</td>\n    </tr>\n    <tr>\n      <th>30</th>\n      <td>PRJNA698272</td>\n      <td>NAFLD</td>\n      <td>Case</td>\n      <td>78</td>\n      <td>14</td>\n    </tr>\n    <tr>\n      <th>31</th>\n      <td>PRJNA698272</td>\n      <td>NAFLD</td>\n      <td>Control</td>\n      <td>16</td>\n      <td>2</td>\n    </tr>\n    <tr>\n      <th>32</th>\n      <td>PRJNA703732</td>\n      <td>Alcohol-Associated-LD</td>\n      <td>Case</td>\n      <td>137</td>\n      <td>93</td>\n    </tr>\n    <tr>\n      <th>33</th>\n      <td>PRJNA703732</td>\n      <td>Alcohol-Associated-LD</td>\n      <td>Control</td>\n      <td>18</td>\n      <td>12</td>\n    </tr>\n    <tr>\n      <th>34</th>\n      <td>PRJNA735021</td>\n      <td>RA</td>\n      <td>Case</td>\n      <td>47</td>\n      <td>39</td>\n    </tr>\n    <tr>\n      <th>35</th>\n      <td>PRJNA735021</td>\n      <td>RA</td>\n      <td>Control</td>\n      <td>39</td>\n      <td>32</td>\n    </tr>\n    <tr>\n      <th>36</th>\n      <td>PRJNA751473</td>\n      <td>AD</td>\n      <td>Case</td>\n      <td>17</td>\n      <td>17</td>\n    </tr>\n    <tr>\n      <th>37</th>\n      <td>PRJNA751473</td>\n      <td>AD</td>\n      <td>Control</td>\n      <td>17</td>\n      <td>17</td>\n    </tr>\n    <tr>\n      <th>38</th>\n      <td>PRJNA756382</td>\n      <td>T1DM</td>\n      <td>Case</td>\n      <td>103</td>\n      <td>66</td>\n    </tr>\n    <tr>\n      <th>39</th>\n      <td>PRJNA756382</td>\n      <td>T1DM</td>\n      <td>Control</td>\n      <td>58</td>\n      <td>30</td>\n    </tr>\n    <tr>\n      <th>40</th>\n      <td>PRJNA778607</td>\n      <td>HD</td>\n      <td>Case</td>\n      <td>63</td>\n      <td>63</td>\n    </tr>\n    <tr>\n      <th>41</th>\n      <td>PRJNA778607</td>\n      <td>HD</td>\n      <td>Control</td>\n      <td>42</td>\n      <td>42</td>\n    </tr>\n    <tr>\n      <th>42</th>\n      <td>PRJNA791216</td>\n      <td>RA</td>\n      <td>Case</td>\n      <td>99</td>\n      <td>91</td>\n    </tr>\n    <tr>\n      <th>43</th>\n      <td>PRJNA791216</td>\n      <td>RA</td>\n      <td>Control</td>\n      <td>30</td>\n      <td>26</td>\n    </tr>\n    <tr>\n      <th>44</th>\n      <td>PRJNA794154</td>\n      <td>COVID-19</td>\n      <td>Case</td>\n      <td>30</td>\n      <td>30</td>\n    </tr>\n    <tr>\n      <th>45</th>\n      <td>PRJNA794154</td>\n      <td>COVID-19</td>\n      <td>Control</td>\n      <td>23</td>\n      <td>23</td>\n    </tr>\n    <tr>\n      <th>46</th>\n      <td>PRJNA813503</td>\n      <td>GDM</td>\n      <td>Case</td>\n      <td>46</td>\n      <td>29</td>\n    </tr>\n    <tr>\n      <th>47</th>\n      <td>PRJNA813503</td>\n      <td>GDM</td>\n      <td>Control</td>\n      <td>52</td>\n      <td>38</td>\n    </tr>\n    <tr>\n      <th>48</th>\n      <td>crohns-paper_37122605</td>\n      <td>IBD</td>\n      <td>Case</td>\n      <td>105</td>\n      <td>104</td>\n    </tr>\n    <tr>\n      <th>49</th>\n      <td>crohns-paper_37122605</td>\n      <td>IBD</td>\n      <td>Control</td>\n      <td>39</td>\n      <td>39</td>\n    </tr>\n  </tbody>\n</table>\n</div>"
     },
     "execution_count": 133,
     "metadata": {},
     "output_type": "execute_result"
    }
   ],
   "source": [
    "merged_df_rar6000"
   ],
   "metadata": {
    "collapsed": false,
    "ExecuteTime": {
     "end_time": "2024-08-26T17:05:47.423066Z",
     "start_time": "2024-08-26T17:05:47.409151Z"
    }
   },
   "id": "ebe441a58f2f6ad4",
   "execution_count": 133
  },
  {
   "cell_type": "code",
   "outputs": [
    {
     "data": {
      "text/plain": "25"
     },
     "execution_count": 134,
     "metadata": {},
     "output_type": "execute_result"
    }
   ],
   "source": [
    "len(merged_df_rar6000['Project_ID'].unique())\n",
    "# Sanity check - OK"
   ],
   "metadata": {
    "collapsed": false,
    "ExecuteTime": {
     "end_time": "2024-08-26T17:05:50.593233Z",
     "start_time": "2024-08-26T17:05:50.587998Z"
    }
   },
   "id": "1125e75befa04f1f",
   "execution_count": 134
  },
  {
   "cell_type": "code",
   "outputs": [],
   "source": [
    "merged_df_rar6000.to_csv(f'{data_dir}/metadata/merged-before-after-rarefaction6000.tsv', sep='\\t', index=False)"
   ],
   "metadata": {
    "collapsed": false,
    "ExecuteTime": {
     "end_time": "2024-08-26T17:05:53.564797Z",
     "start_time": "2024-08-26T17:05:53.558454Z"
    }
   },
   "id": "9167cf2fdc868d9e",
   "execution_count": 135
  },
  {
   "cell_type": "markdown",
   "source": [
    "### Observed features: non-filtered, filt-nonresident, and only the non-resident (rar6000)"
   ],
   "metadata": {
    "collapsed": false
   },
   "id": "3c7accf44674c3c7"
  },
  {
   "cell_type": "code",
   "outputs": [],
   "source": [
    "df_non_filtered_of_rar6000 = pd.read_csv(f'{data_dir}/src-analysis/diversity-analysis/results-rar6000/alpha-diversity-results-non-filtered/observed-features-group-significance.tsv', sep='\\t')\n",
    "\n",
    "df_filt_nonresident_of_rar6000 = pd.read_csv(f'{data_dir}/src-analysis/diversity-analysis/results-rar6000/alpha-diversity-results-filt-nonresident/observed-features-group-significance.tsv', sep='\\t')\n",
    "\n",
    "df_nonresident_of_rar6000 = pd.read_csv(f'{data_dir}/src-analysis/diversity-analysis/results-rar6000/alpha-diversity-results-nonresident/observed-features-group-significance.tsv', sep='\\t')"
   ],
   "metadata": {
    "collapsed": false,
    "ExecuteTime": {
     "end_time": "2024-08-26T19:54:02.760809Z",
     "start_time": "2024-08-26T19:54:02.718265Z"
    }
   },
   "id": "79de4c61cdb64ff",
   "execution_count": 136
  },
  {
   "cell_type": "code",
   "outputs": [
    {
     "data": {
      "text/plain": "(1672, 20)"
     },
     "execution_count": 137,
     "metadata": {},
     "output_type": "execute_result"
    }
   ],
   "source": [
    "df_non_filtered_of_rar6000.shape"
   ],
   "metadata": {
    "collapsed": false,
    "ExecuteTime": {
     "end_time": "2024-08-26T19:54:19.518988Z",
     "start_time": "2024-08-26T19:54:19.513857Z"
    }
   },
   "id": "d2607aa51b2040d2",
   "execution_count": 137
  },
  {
   "cell_type": "code",
   "outputs": [
    {
     "data": {
      "text/plain": "(1670, 20)"
     },
     "execution_count": 138,
     "metadata": {},
     "output_type": "execute_result"
    }
   ],
   "source": [
    "df_filt_nonresident_of_rar6000.shape"
   ],
   "metadata": {
    "collapsed": false,
    "ExecuteTime": {
     "end_time": "2024-08-26T19:54:36.332070Z",
     "start_time": "2024-08-26T19:54:36.326528Z"
    }
   },
   "id": "2281e72919b361e1",
   "execution_count": 138
  },
  {
   "cell_type": "code",
   "outputs": [
    {
     "data": {
      "text/plain": "(1066, 20)"
     },
     "execution_count": 139,
     "metadata": {},
     "output_type": "execute_result"
    }
   ],
   "source": [
    "df_nonresident_of_rar6000.shape"
   ],
   "metadata": {
    "collapsed": false,
    "ExecuteTime": {
     "end_time": "2024-08-26T19:54:50.999838Z",
     "start_time": "2024-08-26T19:54:50.995724Z"
    }
   },
   "id": "998df1d41eea7bc6",
   "execution_count": 139
  },
  {
   "cell_type": "code",
   "outputs": [],
   "source": [
    "# Rename the observed features column to be specific\n",
    "df_non_filtered_of_rar6000 = df_non_filtered_of_rar6000.rename(columns={'observed_features': 'observed_features_non_filtered'})\n",
    "df_filt_nonresident_of_rar6000 = df_filt_nonresident_of_rar6000.rename(columns={'observed_features': 'observed_features_filt_nonresident'})\n",
    "df_nonresident_of_rar6000 = df_nonresident_of_rar6000.rename(columns={'observed_features': 'observed_features_nonresident'})\n",
    "\n",
    "# Perform a left merge to keep all rows from the \"non_filtered\" dataset\n",
    "merged_df_transition_of_rar6000 = pd.merge(df_non_filtered_of_rar6000, df_filt_nonresident_of_rar6000, on=['id', 'Project_ID', 'Sequencing_Region', 'Case_Control', 'Disease_Level_1', 'Health_Status', 'Disease_Level_2', 'Disease_Level_3', 'Disease_Subgroup', 'IBD_Subgroup', 'GeoLoc_Continent', 'GeoLoc_Country', 'GeoLoc_Region', 'GeoLoc_City', 'Host_Sex', 'Host_Age_Category', 'Host_Age_Decade', 'Host_Age', 'Age_Detail_Level'], how='left')\n",
    "merged_df_observed_features_rar6000 = pd.merge(merged_df_transition_of_rar6000, df_nonresident_of_rar6000, on=['id', 'Project_ID', 'Sequencing_Region', 'Case_Control', 'Disease_Level_1', 'Health_Status', 'Disease_Level_2', 'Disease_Level_3', 'Disease_Subgroup', 'IBD_Subgroup', 'GeoLoc_Continent', 'GeoLoc_Country', 'GeoLoc_Region', 'GeoLoc_City', 'Host_Sex', 'Host_Age_Category', 'Host_Age_Decade', 'Host_Age', 'Age_Detail_Level'], how='left')\n",
    "\n",
    "# Fill missing values in the sample_count_after column with 0\n",
    "merged_df_observed_features_rar6000['observed_features_filt_nonresident'] = merged_df_observed_features_rar6000['observed_features_filt_nonresident'].fillna(0)\n",
    "merged_df_observed_features_rar6000['observed_features_nonresident'] = merged_df_observed_features_rar6000['observed_features_nonresident'].fillna(0)\n",
    "\n",
    "# Convert sample_count_after to integers\n",
    "merged_df_observed_features_rar6000['observed_features_filt_nonresident'] = merged_df_observed_features_rar6000['observed_features_filt_nonresident'].astype(int)\n",
    "merged_df_observed_features_rar6000['observed_features_nonresident'] = merged_df_observed_features_rar6000['observed_features_nonresident'].astype(int)"
   ],
   "metadata": {
    "collapsed": false,
    "ExecuteTime": {
     "end_time": "2024-08-26T19:57:04.268034Z",
     "start_time": "2024-08-26T19:57:04.235527Z"
    }
   },
   "id": "8e76b754aea884e0",
   "execution_count": 140
  },
  {
   "cell_type": "code",
   "outputs": [
    {
     "data": {
      "text/plain": "               id             Project_ID Sequencing_Region Case_Control  \\\n0            S675  crohns-paper_37122605              ITS1         Case   \n1            S683  crohns-paper_37122605              ITS1         Case   \n2            S691  crohns-paper_37122605              ITS1         Case   \n3            S699  crohns-paper_37122605              ITS1         Case   \n4            S707  crohns-paper_37122605              ITS1         Case   \n...           ...                    ...               ...          ...   \n1667  SRR18268065            PRJNA813503              ITS1         Case   \n1668  SRR18268067            PRJNA813503              ITS1         Case   \n1669  SRR18268069            PRJNA813503              ITS1         Case   \n1670  SRR18268070            PRJNA813503              ITS1         Case   \n1671  SRR18268071            PRJNA813503              ITS1         Case   \n\n       Disease_Level_1                        Health_Status Disease_Level_2  \\\n0     Gastrointestinal     Inflammatory bowel disease (IBD)             IBD   \n1     Gastrointestinal     Inflammatory bowel disease (IBD)             IBD   \n2     Gastrointestinal     Inflammatory bowel disease (IBD)             IBD   \n3     Gastrointestinal     Inflammatory bowel disease (IBD)             IBD   \n4     Gastrointestinal     Inflammatory bowel disease (IBD)             IBD   \n...                ...                                  ...             ...   \n1667         Metabolic  Gestational diabetes mellitus (GDM)             GDM   \n1668         Metabolic  Gestational diabetes mellitus (GDM)             GDM   \n1669         Metabolic  Gestational diabetes mellitus (GDM)             GDM   \n1670         Metabolic  Gestational diabetes mellitus (GDM)             GDM   \n1671         Metabolic  Gestational diabetes mellitus (GDM)             GDM   \n\n     Disease_Level_3                              Disease_Subgroup  \\\n0      active_new_CD  active, newly diagnosed Crohn's disease (CD)   \n1      active_new_CD  active, newly diagnosed Crohn's disease (CD)   \n2      active_new_CD  active, newly diagnosed Crohn's disease (CD)   \n3      active_new_CD  active, newly diagnosed Crohn's disease (CD)   \n4                 CD       clinical remission Crohn's disease (CD)   \n...              ...                                           ...   \n1667             NaN                                           NaN   \n1668             NaN                                           NaN   \n1669             NaN                                           NaN   \n1670             NaN                                           NaN   \n1671             NaN                                           NaN   \n\n              IBD_Subgroup  ...                            GeoLoc_Region  \\\n0     Crohn's disease (CD)  ...  Lesser Poland Voivodeship (Małopolskie)   \n1     Crohn's disease (CD)  ...  Lesser Poland Voivodeship (Małopolskie)   \n2     Crohn's disease (CD)  ...  Lesser Poland Voivodeship (Małopolskie)   \n3     Crohn's disease (CD)  ...  Lesser Poland Voivodeship (Małopolskie)   \n4     Crohn's disease (CD)  ...  Lesser Poland Voivodeship (Małopolskie)   \n...                    ...  ...                                      ...   \n1667                   NaN  ...                                  Beijing   \n1668                   NaN  ...                                  Beijing   \n1669                   NaN  ...                                  Beijing   \n1670                   NaN  ...                                  Beijing   \n1671                   NaN  ...                                  Beijing   \n\n     GeoLoc_City Host_Sex Host_Age_Category Host_Age_Decade Host_Age  \\\n0         Krakow  Unknown           Unknown         Unknown  Unknown   \n1         Krakow  Unknown           Unknown         Unknown  Unknown   \n2         Krakow  Unknown           Unknown         Unknown  Unknown   \n3         Krakow  Unknown           Unknown         Unknown  Unknown   \n4         Krakow  Unknown           Unknown         Unknown  Unknown   \n...          ...      ...               ...             ...      ...   \n1667     Beijing   female           Unknown         Unknown  Unknown   \n1668     Beijing   female           Unknown         Unknown  Unknown   \n1669     Beijing   female           Unknown         Unknown  Unknown   \n1670     Beijing   female           Unknown         Unknown  Unknown   \n1671     Beijing   female           Unknown         Unknown  Unknown   \n\n     Age_Detail_Level observed_features_non_filtered  \\\n0                  L2                             30   \n1                  L2                              9   \n2                  L2                             19   \n3                  L2                             40   \n4                  L2                             11   \n...               ...                            ...   \n1667               L1                             64   \n1668               L1                             32   \n1669               L1                            163   \n1670               L1                             20   \n1671               L1                             74   \n\n     observed_features_filt_nonresident  observed_features_nonresident  \n0                                    29                              1  \n1                                     8                              1  \n2                                    17                              2  \n3                                    38                              2  \n4                                    11                              0  \n...                                 ...                            ...  \n1667                                 60                              4  \n1668                                 29                              3  \n1669                                158                              5  \n1670                                 18                              2  \n1671                                 71                              3  \n\n[1672 rows x 22 columns]",
      "text/html": "<div>\n<style scoped>\n    .dataframe tbody tr th:only-of-type {\n        vertical-align: middle;\n    }\n\n    .dataframe tbody tr th {\n        vertical-align: top;\n    }\n\n    .dataframe thead th {\n        text-align: right;\n    }\n</style>\n<table border=\"1\" class=\"dataframe\">\n  <thead>\n    <tr style=\"text-align: right;\">\n      <th></th>\n      <th>id</th>\n      <th>Project_ID</th>\n      <th>Sequencing_Region</th>\n      <th>Case_Control</th>\n      <th>Disease_Level_1</th>\n      <th>Health_Status</th>\n      <th>Disease_Level_2</th>\n      <th>Disease_Level_3</th>\n      <th>Disease_Subgroup</th>\n      <th>IBD_Subgroup</th>\n      <th>...</th>\n      <th>GeoLoc_Region</th>\n      <th>GeoLoc_City</th>\n      <th>Host_Sex</th>\n      <th>Host_Age_Category</th>\n      <th>Host_Age_Decade</th>\n      <th>Host_Age</th>\n      <th>Age_Detail_Level</th>\n      <th>observed_features_non_filtered</th>\n      <th>observed_features_filt_nonresident</th>\n      <th>observed_features_nonresident</th>\n    </tr>\n  </thead>\n  <tbody>\n    <tr>\n      <th>0</th>\n      <td>S675</td>\n      <td>crohns-paper_37122605</td>\n      <td>ITS1</td>\n      <td>Case</td>\n      <td>Gastrointestinal</td>\n      <td>Inflammatory bowel disease (IBD)</td>\n      <td>IBD</td>\n      <td>active_new_CD</td>\n      <td>active, newly diagnosed Crohn's disease (CD)</td>\n      <td>Crohn's disease (CD)</td>\n      <td>...</td>\n      <td>Lesser Poland Voivodeship (Małopolskie)</td>\n      <td>Krakow</td>\n      <td>Unknown</td>\n      <td>Unknown</td>\n      <td>Unknown</td>\n      <td>Unknown</td>\n      <td>L2</td>\n      <td>30</td>\n      <td>29</td>\n      <td>1</td>\n    </tr>\n    <tr>\n      <th>1</th>\n      <td>S683</td>\n      <td>crohns-paper_37122605</td>\n      <td>ITS1</td>\n      <td>Case</td>\n      <td>Gastrointestinal</td>\n      <td>Inflammatory bowel disease (IBD)</td>\n      <td>IBD</td>\n      <td>active_new_CD</td>\n      <td>active, newly diagnosed Crohn's disease (CD)</td>\n      <td>Crohn's disease (CD)</td>\n      <td>...</td>\n      <td>Lesser Poland Voivodeship (Małopolskie)</td>\n      <td>Krakow</td>\n      <td>Unknown</td>\n      <td>Unknown</td>\n      <td>Unknown</td>\n      <td>Unknown</td>\n      <td>L2</td>\n      <td>9</td>\n      <td>8</td>\n      <td>1</td>\n    </tr>\n    <tr>\n      <th>2</th>\n      <td>S691</td>\n      <td>crohns-paper_37122605</td>\n      <td>ITS1</td>\n      <td>Case</td>\n      <td>Gastrointestinal</td>\n      <td>Inflammatory bowel disease (IBD)</td>\n      <td>IBD</td>\n      <td>active_new_CD</td>\n      <td>active, newly diagnosed Crohn's disease (CD)</td>\n      <td>Crohn's disease (CD)</td>\n      <td>...</td>\n      <td>Lesser Poland Voivodeship (Małopolskie)</td>\n      <td>Krakow</td>\n      <td>Unknown</td>\n      <td>Unknown</td>\n      <td>Unknown</td>\n      <td>Unknown</td>\n      <td>L2</td>\n      <td>19</td>\n      <td>17</td>\n      <td>2</td>\n    </tr>\n    <tr>\n      <th>3</th>\n      <td>S699</td>\n      <td>crohns-paper_37122605</td>\n      <td>ITS1</td>\n      <td>Case</td>\n      <td>Gastrointestinal</td>\n      <td>Inflammatory bowel disease (IBD)</td>\n      <td>IBD</td>\n      <td>active_new_CD</td>\n      <td>active, newly diagnosed Crohn's disease (CD)</td>\n      <td>Crohn's disease (CD)</td>\n      <td>...</td>\n      <td>Lesser Poland Voivodeship (Małopolskie)</td>\n      <td>Krakow</td>\n      <td>Unknown</td>\n      <td>Unknown</td>\n      <td>Unknown</td>\n      <td>Unknown</td>\n      <td>L2</td>\n      <td>40</td>\n      <td>38</td>\n      <td>2</td>\n    </tr>\n    <tr>\n      <th>4</th>\n      <td>S707</td>\n      <td>crohns-paper_37122605</td>\n      <td>ITS1</td>\n      <td>Case</td>\n      <td>Gastrointestinal</td>\n      <td>Inflammatory bowel disease (IBD)</td>\n      <td>IBD</td>\n      <td>CD</td>\n      <td>clinical remission Crohn's disease (CD)</td>\n      <td>Crohn's disease (CD)</td>\n      <td>...</td>\n      <td>Lesser Poland Voivodeship (Małopolskie)</td>\n      <td>Krakow</td>\n      <td>Unknown</td>\n      <td>Unknown</td>\n      <td>Unknown</td>\n      <td>Unknown</td>\n      <td>L2</td>\n      <td>11</td>\n      <td>11</td>\n      <td>0</td>\n    </tr>\n    <tr>\n      <th>...</th>\n      <td>...</td>\n      <td>...</td>\n      <td>...</td>\n      <td>...</td>\n      <td>...</td>\n      <td>...</td>\n      <td>...</td>\n      <td>...</td>\n      <td>...</td>\n      <td>...</td>\n      <td>...</td>\n      <td>...</td>\n      <td>...</td>\n      <td>...</td>\n      <td>...</td>\n      <td>...</td>\n      <td>...</td>\n      <td>...</td>\n      <td>...</td>\n      <td>...</td>\n      <td>...</td>\n    </tr>\n    <tr>\n      <th>1667</th>\n      <td>SRR18268065</td>\n      <td>PRJNA813503</td>\n      <td>ITS1</td>\n      <td>Case</td>\n      <td>Metabolic</td>\n      <td>Gestational diabetes mellitus (GDM)</td>\n      <td>GDM</td>\n      <td>NaN</td>\n      <td>NaN</td>\n      <td>NaN</td>\n      <td>...</td>\n      <td>Beijing</td>\n      <td>Beijing</td>\n      <td>female</td>\n      <td>Unknown</td>\n      <td>Unknown</td>\n      <td>Unknown</td>\n      <td>L1</td>\n      <td>64</td>\n      <td>60</td>\n      <td>4</td>\n    </tr>\n    <tr>\n      <th>1668</th>\n      <td>SRR18268067</td>\n      <td>PRJNA813503</td>\n      <td>ITS1</td>\n      <td>Case</td>\n      <td>Metabolic</td>\n      <td>Gestational diabetes mellitus (GDM)</td>\n      <td>GDM</td>\n      <td>NaN</td>\n      <td>NaN</td>\n      <td>NaN</td>\n      <td>...</td>\n      <td>Beijing</td>\n      <td>Beijing</td>\n      <td>female</td>\n      <td>Unknown</td>\n      <td>Unknown</td>\n      <td>Unknown</td>\n      <td>L1</td>\n      <td>32</td>\n      <td>29</td>\n      <td>3</td>\n    </tr>\n    <tr>\n      <th>1669</th>\n      <td>SRR18268069</td>\n      <td>PRJNA813503</td>\n      <td>ITS1</td>\n      <td>Case</td>\n      <td>Metabolic</td>\n      <td>Gestational diabetes mellitus (GDM)</td>\n      <td>GDM</td>\n      <td>NaN</td>\n      <td>NaN</td>\n      <td>NaN</td>\n      <td>...</td>\n      <td>Beijing</td>\n      <td>Beijing</td>\n      <td>female</td>\n      <td>Unknown</td>\n      <td>Unknown</td>\n      <td>Unknown</td>\n      <td>L1</td>\n      <td>163</td>\n      <td>158</td>\n      <td>5</td>\n    </tr>\n    <tr>\n      <th>1670</th>\n      <td>SRR18268070</td>\n      <td>PRJNA813503</td>\n      <td>ITS1</td>\n      <td>Case</td>\n      <td>Metabolic</td>\n      <td>Gestational diabetes mellitus (GDM)</td>\n      <td>GDM</td>\n      <td>NaN</td>\n      <td>NaN</td>\n      <td>NaN</td>\n      <td>...</td>\n      <td>Beijing</td>\n      <td>Beijing</td>\n      <td>female</td>\n      <td>Unknown</td>\n      <td>Unknown</td>\n      <td>Unknown</td>\n      <td>L1</td>\n      <td>20</td>\n      <td>18</td>\n      <td>2</td>\n    </tr>\n    <tr>\n      <th>1671</th>\n      <td>SRR18268071</td>\n      <td>PRJNA813503</td>\n      <td>ITS1</td>\n      <td>Case</td>\n      <td>Metabolic</td>\n      <td>Gestational diabetes mellitus (GDM)</td>\n      <td>GDM</td>\n      <td>NaN</td>\n      <td>NaN</td>\n      <td>NaN</td>\n      <td>...</td>\n      <td>Beijing</td>\n      <td>Beijing</td>\n      <td>female</td>\n      <td>Unknown</td>\n      <td>Unknown</td>\n      <td>Unknown</td>\n      <td>L1</td>\n      <td>74</td>\n      <td>71</td>\n      <td>3</td>\n    </tr>\n  </tbody>\n</table>\n<p>1672 rows × 22 columns</p>\n</div>"
     },
     "execution_count": 141,
     "metadata": {},
     "output_type": "execute_result"
    }
   ],
   "source": [
    "merged_df_observed_features_rar6000"
   ],
   "metadata": {
    "collapsed": false,
    "ExecuteTime": {
     "end_time": "2024-08-26T19:57:21.705314Z",
     "start_time": "2024-08-26T19:57:21.689025Z"
    }
   },
   "id": "ffa7c64a95510220",
   "execution_count": 141
  },
  {
   "cell_type": "markdown",
   "source": [
    "### Shannon index: non-filtered, filt-nonresident, and only the non-resident (rar6000)"
   ],
   "metadata": {
    "collapsed": false
   },
   "id": "552c34ed181799d4"
  },
  {
   "cell_type": "code",
   "outputs": [],
   "source": [
    "df_non_filtered_shannon_rar6000 = pd.read_csv(f'{data_dir}/src-analysis/diversity-analysis/results-rar6000/alpha-diversity-results-non-filtered/shannon-group-significance.tsv', sep='\\t')\n",
    "\n",
    "df_filt_nonresident_shannon_rar6000 = pd.read_csv(f'{data_dir}/src-analysis/diversity-analysis/results-rar6000/alpha-diversity-results-filt-nonresident/shannon-group-significance.tsv', sep='\\t')\n",
    "\n",
    "df_nonresident_shannon_rar6000 = pd.read_csv(f'{data_dir}/src-analysis/diversity-analysis/results-rar6000/alpha-diversity-results-nonresident/shannon-group-significance.tsv', sep='\\t')"
   ],
   "metadata": {
    "collapsed": false,
    "ExecuteTime": {
     "end_time": "2024-08-26T19:59:18.233973Z",
     "start_time": "2024-08-26T19:59:18.208875Z"
    }
   },
   "id": "918e7afbd3ac71a2",
   "execution_count": 142
  },
  {
   "cell_type": "code",
   "outputs": [
    {
     "data": {
      "text/plain": "(1672, 20)"
     },
     "execution_count": 143,
     "metadata": {},
     "output_type": "execute_result"
    }
   ],
   "source": [
    "df_non_filtered_shannon_rar6000.shape"
   ],
   "metadata": {
    "collapsed": false,
    "ExecuteTime": {
     "end_time": "2024-08-26T19:59:47.689115Z",
     "start_time": "2024-08-26T19:59:47.683302Z"
    }
   },
   "id": "95a32cfc9768f936",
   "execution_count": 143
  },
  {
   "cell_type": "code",
   "outputs": [
    {
     "data": {
      "text/plain": "(1670, 20)"
     },
     "execution_count": 144,
     "metadata": {},
     "output_type": "execute_result"
    }
   ],
   "source": [
    "df_filt_nonresident_shannon_rar6000.shape"
   ],
   "metadata": {
    "collapsed": false,
    "ExecuteTime": {
     "end_time": "2024-08-26T19:59:48.832924Z",
     "start_time": "2024-08-26T19:59:48.827375Z"
    }
   },
   "id": "9e12c063fb87a84b",
   "execution_count": 144
  },
  {
   "cell_type": "code",
   "outputs": [
    {
     "data": {
      "text/plain": "(1066, 20)"
     },
     "execution_count": 145,
     "metadata": {},
     "output_type": "execute_result"
    }
   ],
   "source": [
    "df_nonresident_shannon_rar6000.shape"
   ],
   "metadata": {
    "collapsed": false,
    "ExecuteTime": {
     "end_time": "2024-08-26T19:59:49.757835Z",
     "start_time": "2024-08-26T19:59:49.753059Z"
    }
   },
   "id": "fc1c0fe65af98ee6",
   "execution_count": 145
  },
  {
   "cell_type": "code",
   "outputs": [],
   "source": [
    "# Rename the shannon entropy column to be specific\n",
    "df_non_filtered_shannon_rar6000 = df_non_filtered_shannon_rar6000.rename(columns={'shannon_entropy': 'shannon_entropy_non_filtered'})\n",
    "df_filt_nonresident_shannon_rar6000 = df_filt_nonresident_shannon_rar6000.rename(columns={'shannon_entropy': 'shannon_entropy_filt_nonresident'})\n",
    "df_nonresident_shannon_rar6000 = df_nonresident_shannon_rar6000.rename(columns={'shannon_entropy': 'shannon_entropy_nonresident'})\n",
    "\n",
    "# Perform a left merge to keep all rows from the \"non_filtered\" dataset\n",
    "merged_df_transition_shannon_rar6000 = pd.merge(df_non_filtered_shannon_rar6000, df_filt_nonresident_shannon_rar6000, on=['id', 'Project_ID', 'Sequencing_Region', 'Case_Control', 'Disease_Level_1', 'Health_Status', 'Disease_Level_2', 'Disease_Level_3', 'Disease_Subgroup', 'IBD_Subgroup', 'GeoLoc_Continent', 'GeoLoc_Country', 'GeoLoc_Region', 'GeoLoc_City', 'Host_Sex', 'Host_Age_Category', 'Host_Age_Decade', 'Host_Age', 'Age_Detail_Level'], how='left')\n",
    "merged_df_shannon_rar6000 = pd.merge(merged_df_transition_shannon_rar6000, df_nonresident_shannon_rar6000, on=['id', 'Project_ID', 'Sequencing_Region', 'Case_Control', 'Disease_Level_1', 'Health_Status', 'Disease_Level_2', 'Disease_Level_3', 'Disease_Subgroup', 'IBD_Subgroup', 'GeoLoc_Continent', 'GeoLoc_Country', 'GeoLoc_Region', 'GeoLoc_City', 'Host_Sex', 'Host_Age_Category', 'Host_Age_Decade', 'Host_Age', 'Age_Detail_Level'], how='left')\n",
    "\n",
    "# Fill missing values in the sample_count_after column with 0\n",
    "merged_df_shannon_rar6000['shannon_entropy_filt_nonresident'] = merged_df_shannon_rar6000['shannon_entropy_filt_nonresident'].fillna(0)\n",
    "merged_df_shannon_rar6000['shannon_entropy_nonresident'] = merged_df_shannon_rar6000['shannon_entropy_nonresident'].fillna(0)"
   ],
   "metadata": {
    "collapsed": false,
    "ExecuteTime": {
     "end_time": "2024-08-26T20:04:15.042631Z",
     "start_time": "2024-08-26T20:04:15.014400Z"
    }
   },
   "id": "72513494437b1f50",
   "execution_count": 146
  },
  {
   "cell_type": "code",
   "outputs": [
    {
     "data": {
      "text/plain": "               id             Project_ID Sequencing_Region Case_Control  \\\n0            S675  crohns-paper_37122605              ITS1         Case   \n1            S683  crohns-paper_37122605              ITS1         Case   \n2            S691  crohns-paper_37122605              ITS1         Case   \n3            S699  crohns-paper_37122605              ITS1         Case   \n4            S707  crohns-paper_37122605              ITS1         Case   \n...           ...                    ...               ...          ...   \n1667  SRR18268065            PRJNA813503              ITS1         Case   \n1668  SRR18268067            PRJNA813503              ITS1         Case   \n1669  SRR18268069            PRJNA813503              ITS1         Case   \n1670  SRR18268070            PRJNA813503              ITS1         Case   \n1671  SRR18268071            PRJNA813503              ITS1         Case   \n\n       Disease_Level_1                        Health_Status Disease_Level_2  \\\n0     Gastrointestinal     Inflammatory bowel disease (IBD)             IBD   \n1     Gastrointestinal     Inflammatory bowel disease (IBD)             IBD   \n2     Gastrointestinal     Inflammatory bowel disease (IBD)             IBD   \n3     Gastrointestinal     Inflammatory bowel disease (IBD)             IBD   \n4     Gastrointestinal     Inflammatory bowel disease (IBD)             IBD   \n...                ...                                  ...             ...   \n1667         Metabolic  Gestational diabetes mellitus (GDM)             GDM   \n1668         Metabolic  Gestational diabetes mellitus (GDM)             GDM   \n1669         Metabolic  Gestational diabetes mellitus (GDM)             GDM   \n1670         Metabolic  Gestational diabetes mellitus (GDM)             GDM   \n1671         Metabolic  Gestational diabetes mellitus (GDM)             GDM   \n\n     Disease_Level_3                              Disease_Subgroup  \\\n0      active_new_CD  active, newly diagnosed Crohn's disease (CD)   \n1      active_new_CD  active, newly diagnosed Crohn's disease (CD)   \n2      active_new_CD  active, newly diagnosed Crohn's disease (CD)   \n3      active_new_CD  active, newly diagnosed Crohn's disease (CD)   \n4                 CD       clinical remission Crohn's disease (CD)   \n...              ...                                           ...   \n1667             NaN                                           NaN   \n1668             NaN                                           NaN   \n1669             NaN                                           NaN   \n1670             NaN                                           NaN   \n1671             NaN                                           NaN   \n\n              IBD_Subgroup  ...                            GeoLoc_Region  \\\n0     Crohn's disease (CD)  ...  Lesser Poland Voivodeship (Małopolskie)   \n1     Crohn's disease (CD)  ...  Lesser Poland Voivodeship (Małopolskie)   \n2     Crohn's disease (CD)  ...  Lesser Poland Voivodeship (Małopolskie)   \n3     Crohn's disease (CD)  ...  Lesser Poland Voivodeship (Małopolskie)   \n4     Crohn's disease (CD)  ...  Lesser Poland Voivodeship (Małopolskie)   \n...                    ...  ...                                      ...   \n1667                   NaN  ...                                  Beijing   \n1668                   NaN  ...                                  Beijing   \n1669                   NaN  ...                                  Beijing   \n1670                   NaN  ...                                  Beijing   \n1671                   NaN  ...                                  Beijing   \n\n     GeoLoc_City Host_Sex Host_Age_Category Host_Age_Decade Host_Age  \\\n0         Krakow  Unknown           Unknown         Unknown  Unknown   \n1         Krakow  Unknown           Unknown         Unknown  Unknown   \n2         Krakow  Unknown           Unknown         Unknown  Unknown   \n3         Krakow  Unknown           Unknown         Unknown  Unknown   \n4         Krakow  Unknown           Unknown         Unknown  Unknown   \n...          ...      ...               ...             ...      ...   \n1667     Beijing   female           Unknown         Unknown  Unknown   \n1668     Beijing   female           Unknown         Unknown  Unknown   \n1669     Beijing   female           Unknown         Unknown  Unknown   \n1670     Beijing   female           Unknown         Unknown  Unknown   \n1671     Beijing   female           Unknown         Unknown  Unknown   \n\n     Age_Detail_Level shannon_entropy_non_filtered  \\\n0                  L2                     3.659017   \n1                  L2                     1.708475   \n2                  L2                     0.245006   \n3                  L2                     0.939716   \n4                  L2                     0.916610   \n...               ...                          ...   \n1667               L1                     3.644144   \n1668               L1                     2.661708   \n1669               L1                     4.834299   \n1670               L1                     0.940242   \n1671               L1                     2.383980   \n\n     shannon_entropy_filt_nonresident  shannon_entropy_nonresident  \n0                            3.575652                     0.000000  \n1                            1.492134                     0.000000  \n2                            0.240422                     1.000000  \n3                            0.890005                     0.983376  \n4                            0.916610                     0.000000  \n...                               ...                          ...  \n1667                         3.484520                     0.884344  \n1668                         2.539531                     0.288229  \n1669                         4.795857                     2.124692  \n1670                         0.851719                     0.413817  \n1671                         2.326737                     0.455021  \n\n[1672 rows x 22 columns]",
      "text/html": "<div>\n<style scoped>\n    .dataframe tbody tr th:only-of-type {\n        vertical-align: middle;\n    }\n\n    .dataframe tbody tr th {\n        vertical-align: top;\n    }\n\n    .dataframe thead th {\n        text-align: right;\n    }\n</style>\n<table border=\"1\" class=\"dataframe\">\n  <thead>\n    <tr style=\"text-align: right;\">\n      <th></th>\n      <th>id</th>\n      <th>Project_ID</th>\n      <th>Sequencing_Region</th>\n      <th>Case_Control</th>\n      <th>Disease_Level_1</th>\n      <th>Health_Status</th>\n      <th>Disease_Level_2</th>\n      <th>Disease_Level_3</th>\n      <th>Disease_Subgroup</th>\n      <th>IBD_Subgroup</th>\n      <th>...</th>\n      <th>GeoLoc_Region</th>\n      <th>GeoLoc_City</th>\n      <th>Host_Sex</th>\n      <th>Host_Age_Category</th>\n      <th>Host_Age_Decade</th>\n      <th>Host_Age</th>\n      <th>Age_Detail_Level</th>\n      <th>shannon_entropy_non_filtered</th>\n      <th>shannon_entropy_filt_nonresident</th>\n      <th>shannon_entropy_nonresident</th>\n    </tr>\n  </thead>\n  <tbody>\n    <tr>\n      <th>0</th>\n      <td>S675</td>\n      <td>crohns-paper_37122605</td>\n      <td>ITS1</td>\n      <td>Case</td>\n      <td>Gastrointestinal</td>\n      <td>Inflammatory bowel disease (IBD)</td>\n      <td>IBD</td>\n      <td>active_new_CD</td>\n      <td>active, newly diagnosed Crohn's disease (CD)</td>\n      <td>Crohn's disease (CD)</td>\n      <td>...</td>\n      <td>Lesser Poland Voivodeship (Małopolskie)</td>\n      <td>Krakow</td>\n      <td>Unknown</td>\n      <td>Unknown</td>\n      <td>Unknown</td>\n      <td>Unknown</td>\n      <td>L2</td>\n      <td>3.659017</td>\n      <td>3.575652</td>\n      <td>0.000000</td>\n    </tr>\n    <tr>\n      <th>1</th>\n      <td>S683</td>\n      <td>crohns-paper_37122605</td>\n      <td>ITS1</td>\n      <td>Case</td>\n      <td>Gastrointestinal</td>\n      <td>Inflammatory bowel disease (IBD)</td>\n      <td>IBD</td>\n      <td>active_new_CD</td>\n      <td>active, newly diagnosed Crohn's disease (CD)</td>\n      <td>Crohn's disease (CD)</td>\n      <td>...</td>\n      <td>Lesser Poland Voivodeship (Małopolskie)</td>\n      <td>Krakow</td>\n      <td>Unknown</td>\n      <td>Unknown</td>\n      <td>Unknown</td>\n      <td>Unknown</td>\n      <td>L2</td>\n      <td>1.708475</td>\n      <td>1.492134</td>\n      <td>0.000000</td>\n    </tr>\n    <tr>\n      <th>2</th>\n      <td>S691</td>\n      <td>crohns-paper_37122605</td>\n      <td>ITS1</td>\n      <td>Case</td>\n      <td>Gastrointestinal</td>\n      <td>Inflammatory bowel disease (IBD)</td>\n      <td>IBD</td>\n      <td>active_new_CD</td>\n      <td>active, newly diagnosed Crohn's disease (CD)</td>\n      <td>Crohn's disease (CD)</td>\n      <td>...</td>\n      <td>Lesser Poland Voivodeship (Małopolskie)</td>\n      <td>Krakow</td>\n      <td>Unknown</td>\n      <td>Unknown</td>\n      <td>Unknown</td>\n      <td>Unknown</td>\n      <td>L2</td>\n      <td>0.245006</td>\n      <td>0.240422</td>\n      <td>1.000000</td>\n    </tr>\n    <tr>\n      <th>3</th>\n      <td>S699</td>\n      <td>crohns-paper_37122605</td>\n      <td>ITS1</td>\n      <td>Case</td>\n      <td>Gastrointestinal</td>\n      <td>Inflammatory bowel disease (IBD)</td>\n      <td>IBD</td>\n      <td>active_new_CD</td>\n      <td>active, newly diagnosed Crohn's disease (CD)</td>\n      <td>Crohn's disease (CD)</td>\n      <td>...</td>\n      <td>Lesser Poland Voivodeship (Małopolskie)</td>\n      <td>Krakow</td>\n      <td>Unknown</td>\n      <td>Unknown</td>\n      <td>Unknown</td>\n      <td>Unknown</td>\n      <td>L2</td>\n      <td>0.939716</td>\n      <td>0.890005</td>\n      <td>0.983376</td>\n    </tr>\n    <tr>\n      <th>4</th>\n      <td>S707</td>\n      <td>crohns-paper_37122605</td>\n      <td>ITS1</td>\n      <td>Case</td>\n      <td>Gastrointestinal</td>\n      <td>Inflammatory bowel disease (IBD)</td>\n      <td>IBD</td>\n      <td>CD</td>\n      <td>clinical remission Crohn's disease (CD)</td>\n      <td>Crohn's disease (CD)</td>\n      <td>...</td>\n      <td>Lesser Poland Voivodeship (Małopolskie)</td>\n      <td>Krakow</td>\n      <td>Unknown</td>\n      <td>Unknown</td>\n      <td>Unknown</td>\n      <td>Unknown</td>\n      <td>L2</td>\n      <td>0.916610</td>\n      <td>0.916610</td>\n      <td>0.000000</td>\n    </tr>\n    <tr>\n      <th>...</th>\n      <td>...</td>\n      <td>...</td>\n      <td>...</td>\n      <td>...</td>\n      <td>...</td>\n      <td>...</td>\n      <td>...</td>\n      <td>...</td>\n      <td>...</td>\n      <td>...</td>\n      <td>...</td>\n      <td>...</td>\n      <td>...</td>\n      <td>...</td>\n      <td>...</td>\n      <td>...</td>\n      <td>...</td>\n      <td>...</td>\n      <td>...</td>\n      <td>...</td>\n      <td>...</td>\n    </tr>\n    <tr>\n      <th>1667</th>\n      <td>SRR18268065</td>\n      <td>PRJNA813503</td>\n      <td>ITS1</td>\n      <td>Case</td>\n      <td>Metabolic</td>\n      <td>Gestational diabetes mellitus (GDM)</td>\n      <td>GDM</td>\n      <td>NaN</td>\n      <td>NaN</td>\n      <td>NaN</td>\n      <td>...</td>\n      <td>Beijing</td>\n      <td>Beijing</td>\n      <td>female</td>\n      <td>Unknown</td>\n      <td>Unknown</td>\n      <td>Unknown</td>\n      <td>L1</td>\n      <td>3.644144</td>\n      <td>3.484520</td>\n      <td>0.884344</td>\n    </tr>\n    <tr>\n      <th>1668</th>\n      <td>SRR18268067</td>\n      <td>PRJNA813503</td>\n      <td>ITS1</td>\n      <td>Case</td>\n      <td>Metabolic</td>\n      <td>Gestational diabetes mellitus (GDM)</td>\n      <td>GDM</td>\n      <td>NaN</td>\n      <td>NaN</td>\n      <td>NaN</td>\n      <td>...</td>\n      <td>Beijing</td>\n      <td>Beijing</td>\n      <td>female</td>\n      <td>Unknown</td>\n      <td>Unknown</td>\n      <td>Unknown</td>\n      <td>L1</td>\n      <td>2.661708</td>\n      <td>2.539531</td>\n      <td>0.288229</td>\n    </tr>\n    <tr>\n      <th>1669</th>\n      <td>SRR18268069</td>\n      <td>PRJNA813503</td>\n      <td>ITS1</td>\n      <td>Case</td>\n      <td>Metabolic</td>\n      <td>Gestational diabetes mellitus (GDM)</td>\n      <td>GDM</td>\n      <td>NaN</td>\n      <td>NaN</td>\n      <td>NaN</td>\n      <td>...</td>\n      <td>Beijing</td>\n      <td>Beijing</td>\n      <td>female</td>\n      <td>Unknown</td>\n      <td>Unknown</td>\n      <td>Unknown</td>\n      <td>L1</td>\n      <td>4.834299</td>\n      <td>4.795857</td>\n      <td>2.124692</td>\n    </tr>\n    <tr>\n      <th>1670</th>\n      <td>SRR18268070</td>\n      <td>PRJNA813503</td>\n      <td>ITS1</td>\n      <td>Case</td>\n      <td>Metabolic</td>\n      <td>Gestational diabetes mellitus (GDM)</td>\n      <td>GDM</td>\n      <td>NaN</td>\n      <td>NaN</td>\n      <td>NaN</td>\n      <td>...</td>\n      <td>Beijing</td>\n      <td>Beijing</td>\n      <td>female</td>\n      <td>Unknown</td>\n      <td>Unknown</td>\n      <td>Unknown</td>\n      <td>L1</td>\n      <td>0.940242</td>\n      <td>0.851719</td>\n      <td>0.413817</td>\n    </tr>\n    <tr>\n      <th>1671</th>\n      <td>SRR18268071</td>\n      <td>PRJNA813503</td>\n      <td>ITS1</td>\n      <td>Case</td>\n      <td>Metabolic</td>\n      <td>Gestational diabetes mellitus (GDM)</td>\n      <td>GDM</td>\n      <td>NaN</td>\n      <td>NaN</td>\n      <td>NaN</td>\n      <td>...</td>\n      <td>Beijing</td>\n      <td>Beijing</td>\n      <td>female</td>\n      <td>Unknown</td>\n      <td>Unknown</td>\n      <td>Unknown</td>\n      <td>L1</td>\n      <td>2.383980</td>\n      <td>2.326737</td>\n      <td>0.455021</td>\n    </tr>\n  </tbody>\n</table>\n<p>1672 rows × 22 columns</p>\n</div>"
     },
     "execution_count": 147,
     "metadata": {},
     "output_type": "execute_result"
    }
   ],
   "source": [
    "merged_df_shannon_rar6000"
   ],
   "metadata": {
    "collapsed": false,
    "ExecuteTime": {
     "end_time": "2024-08-26T20:04:15.923848Z",
     "start_time": "2024-08-26T20:04:15.903779Z"
    }
   },
   "id": "fe47180c30321f53",
   "execution_count": 147
  },
  {
   "cell_type": "code",
   "outputs": [],
   "source": [
    "merged_df_rar6000 = pd.merge(merged_df_observed_features_rar6000, merged_df_shannon_rar6000, on=[*merged_df_observed_features_rar6000.columns.intersection(merged_df_shannon_rar6000.columns)], how='inner')"
   ],
   "metadata": {
    "collapsed": false,
    "ExecuteTime": {
     "end_time": "2024-08-26T20:04:40.063097Z",
     "start_time": "2024-08-26T20:04:40.050496Z"
    }
   },
   "id": "3950e7827e414c31",
   "execution_count": 148
  },
  {
   "cell_type": "code",
   "outputs": [
    {
     "data": {
      "text/plain": "               id             Project_ID Sequencing_Region Case_Control  \\\n0            S675  crohns-paper_37122605              ITS1         Case   \n1            S683  crohns-paper_37122605              ITS1         Case   \n2            S691  crohns-paper_37122605              ITS1         Case   \n3            S699  crohns-paper_37122605              ITS1         Case   \n4            S707  crohns-paper_37122605              ITS1         Case   \n...           ...                    ...               ...          ...   \n1667  SRR18268065            PRJNA813503              ITS1         Case   \n1668  SRR18268067            PRJNA813503              ITS1         Case   \n1669  SRR18268069            PRJNA813503              ITS1         Case   \n1670  SRR18268070            PRJNA813503              ITS1         Case   \n1671  SRR18268071            PRJNA813503              ITS1         Case   \n\n       Disease_Level_1                        Health_Status Disease_Level_2  \\\n0     Gastrointestinal     Inflammatory bowel disease (IBD)             IBD   \n1     Gastrointestinal     Inflammatory bowel disease (IBD)             IBD   \n2     Gastrointestinal     Inflammatory bowel disease (IBD)             IBD   \n3     Gastrointestinal     Inflammatory bowel disease (IBD)             IBD   \n4     Gastrointestinal     Inflammatory bowel disease (IBD)             IBD   \n...                ...                                  ...             ...   \n1667         Metabolic  Gestational diabetes mellitus (GDM)             GDM   \n1668         Metabolic  Gestational diabetes mellitus (GDM)             GDM   \n1669         Metabolic  Gestational diabetes mellitus (GDM)             GDM   \n1670         Metabolic  Gestational diabetes mellitus (GDM)             GDM   \n1671         Metabolic  Gestational diabetes mellitus (GDM)             GDM   \n\n     Disease_Level_3                              Disease_Subgroup  \\\n0      active_new_CD  active, newly diagnosed Crohn's disease (CD)   \n1      active_new_CD  active, newly diagnosed Crohn's disease (CD)   \n2      active_new_CD  active, newly diagnosed Crohn's disease (CD)   \n3      active_new_CD  active, newly diagnosed Crohn's disease (CD)   \n4                 CD       clinical remission Crohn's disease (CD)   \n...              ...                                           ...   \n1667             NaN                                           NaN   \n1668             NaN                                           NaN   \n1669             NaN                                           NaN   \n1670             NaN                                           NaN   \n1671             NaN                                           NaN   \n\n              IBD_Subgroup  ... Host_Age_Category Host_Age_Decade Host_Age  \\\n0     Crohn's disease (CD)  ...           Unknown         Unknown  Unknown   \n1     Crohn's disease (CD)  ...           Unknown         Unknown  Unknown   \n2     Crohn's disease (CD)  ...           Unknown         Unknown  Unknown   \n3     Crohn's disease (CD)  ...           Unknown         Unknown  Unknown   \n4     Crohn's disease (CD)  ...           Unknown         Unknown  Unknown   \n...                    ...  ...               ...             ...      ...   \n1667                   NaN  ...           Unknown         Unknown  Unknown   \n1668                   NaN  ...           Unknown         Unknown  Unknown   \n1669                   NaN  ...           Unknown         Unknown  Unknown   \n1670                   NaN  ...           Unknown         Unknown  Unknown   \n1671                   NaN  ...           Unknown         Unknown  Unknown   \n\n     Age_Detail_Level observed_features_non_filtered  \\\n0                  L2                             30   \n1                  L2                              9   \n2                  L2                             19   \n3                  L2                             40   \n4                  L2                             11   \n...               ...                            ...   \n1667               L1                             64   \n1668               L1                             32   \n1669               L1                            163   \n1670               L1                             20   \n1671               L1                             74   \n\n     observed_features_filt_nonresident observed_features_nonresident  \\\n0                                    29                             1   \n1                                     8                             1   \n2                                    17                             2   \n3                                    38                             2   \n4                                    11                             0   \n...                                 ...                           ...   \n1667                                 60                             4   \n1668                                 29                             3   \n1669                                158                             5   \n1670                                 18                             2   \n1671                                 71                             3   \n\n     shannon_entropy_non_filtered shannon_entropy_filt_nonresident  \\\n0                        3.659017                         3.575652   \n1                        1.708475                         1.492134   \n2                        0.245006                         0.240422   \n3                        0.939716                         0.890005   \n4                        0.916610                         0.916610   \n...                           ...                              ...   \n1667                     3.644144                         3.484520   \n1668                     2.661708                         2.539531   \n1669                     4.834299                         4.795857   \n1670                     0.940242                         0.851719   \n1671                     2.383980                         2.326737   \n\n      shannon_entropy_nonresident  \n0                        0.000000  \n1                        0.000000  \n2                        1.000000  \n3                        0.983376  \n4                        0.000000  \n...                           ...  \n1667                     0.884344  \n1668                     0.288229  \n1669                     2.124692  \n1670                     0.413817  \n1671                     0.455021  \n\n[1672 rows x 25 columns]",
      "text/html": "<div>\n<style scoped>\n    .dataframe tbody tr th:only-of-type {\n        vertical-align: middle;\n    }\n\n    .dataframe tbody tr th {\n        vertical-align: top;\n    }\n\n    .dataframe thead th {\n        text-align: right;\n    }\n</style>\n<table border=\"1\" class=\"dataframe\">\n  <thead>\n    <tr style=\"text-align: right;\">\n      <th></th>\n      <th>id</th>\n      <th>Project_ID</th>\n      <th>Sequencing_Region</th>\n      <th>Case_Control</th>\n      <th>Disease_Level_1</th>\n      <th>Health_Status</th>\n      <th>Disease_Level_2</th>\n      <th>Disease_Level_3</th>\n      <th>Disease_Subgroup</th>\n      <th>IBD_Subgroup</th>\n      <th>...</th>\n      <th>Host_Age_Category</th>\n      <th>Host_Age_Decade</th>\n      <th>Host_Age</th>\n      <th>Age_Detail_Level</th>\n      <th>observed_features_non_filtered</th>\n      <th>observed_features_filt_nonresident</th>\n      <th>observed_features_nonresident</th>\n      <th>shannon_entropy_non_filtered</th>\n      <th>shannon_entropy_filt_nonresident</th>\n      <th>shannon_entropy_nonresident</th>\n    </tr>\n  </thead>\n  <tbody>\n    <tr>\n      <th>0</th>\n      <td>S675</td>\n      <td>crohns-paper_37122605</td>\n      <td>ITS1</td>\n      <td>Case</td>\n      <td>Gastrointestinal</td>\n      <td>Inflammatory bowel disease (IBD)</td>\n      <td>IBD</td>\n      <td>active_new_CD</td>\n      <td>active, newly diagnosed Crohn's disease (CD)</td>\n      <td>Crohn's disease (CD)</td>\n      <td>...</td>\n      <td>Unknown</td>\n      <td>Unknown</td>\n      <td>Unknown</td>\n      <td>L2</td>\n      <td>30</td>\n      <td>29</td>\n      <td>1</td>\n      <td>3.659017</td>\n      <td>3.575652</td>\n      <td>0.000000</td>\n    </tr>\n    <tr>\n      <th>1</th>\n      <td>S683</td>\n      <td>crohns-paper_37122605</td>\n      <td>ITS1</td>\n      <td>Case</td>\n      <td>Gastrointestinal</td>\n      <td>Inflammatory bowel disease (IBD)</td>\n      <td>IBD</td>\n      <td>active_new_CD</td>\n      <td>active, newly diagnosed Crohn's disease (CD)</td>\n      <td>Crohn's disease (CD)</td>\n      <td>...</td>\n      <td>Unknown</td>\n      <td>Unknown</td>\n      <td>Unknown</td>\n      <td>L2</td>\n      <td>9</td>\n      <td>8</td>\n      <td>1</td>\n      <td>1.708475</td>\n      <td>1.492134</td>\n      <td>0.000000</td>\n    </tr>\n    <tr>\n      <th>2</th>\n      <td>S691</td>\n      <td>crohns-paper_37122605</td>\n      <td>ITS1</td>\n      <td>Case</td>\n      <td>Gastrointestinal</td>\n      <td>Inflammatory bowel disease (IBD)</td>\n      <td>IBD</td>\n      <td>active_new_CD</td>\n      <td>active, newly diagnosed Crohn's disease (CD)</td>\n      <td>Crohn's disease (CD)</td>\n      <td>...</td>\n      <td>Unknown</td>\n      <td>Unknown</td>\n      <td>Unknown</td>\n      <td>L2</td>\n      <td>19</td>\n      <td>17</td>\n      <td>2</td>\n      <td>0.245006</td>\n      <td>0.240422</td>\n      <td>1.000000</td>\n    </tr>\n    <tr>\n      <th>3</th>\n      <td>S699</td>\n      <td>crohns-paper_37122605</td>\n      <td>ITS1</td>\n      <td>Case</td>\n      <td>Gastrointestinal</td>\n      <td>Inflammatory bowel disease (IBD)</td>\n      <td>IBD</td>\n      <td>active_new_CD</td>\n      <td>active, newly diagnosed Crohn's disease (CD)</td>\n      <td>Crohn's disease (CD)</td>\n      <td>...</td>\n      <td>Unknown</td>\n      <td>Unknown</td>\n      <td>Unknown</td>\n      <td>L2</td>\n      <td>40</td>\n      <td>38</td>\n      <td>2</td>\n      <td>0.939716</td>\n      <td>0.890005</td>\n      <td>0.983376</td>\n    </tr>\n    <tr>\n      <th>4</th>\n      <td>S707</td>\n      <td>crohns-paper_37122605</td>\n      <td>ITS1</td>\n      <td>Case</td>\n      <td>Gastrointestinal</td>\n      <td>Inflammatory bowel disease (IBD)</td>\n      <td>IBD</td>\n      <td>CD</td>\n      <td>clinical remission Crohn's disease (CD)</td>\n      <td>Crohn's disease (CD)</td>\n      <td>...</td>\n      <td>Unknown</td>\n      <td>Unknown</td>\n      <td>Unknown</td>\n      <td>L2</td>\n      <td>11</td>\n      <td>11</td>\n      <td>0</td>\n      <td>0.916610</td>\n      <td>0.916610</td>\n      <td>0.000000</td>\n    </tr>\n    <tr>\n      <th>...</th>\n      <td>...</td>\n      <td>...</td>\n      <td>...</td>\n      <td>...</td>\n      <td>...</td>\n      <td>...</td>\n      <td>...</td>\n      <td>...</td>\n      <td>...</td>\n      <td>...</td>\n      <td>...</td>\n      <td>...</td>\n      <td>...</td>\n      <td>...</td>\n      <td>...</td>\n      <td>...</td>\n      <td>...</td>\n      <td>...</td>\n      <td>...</td>\n      <td>...</td>\n      <td>...</td>\n    </tr>\n    <tr>\n      <th>1667</th>\n      <td>SRR18268065</td>\n      <td>PRJNA813503</td>\n      <td>ITS1</td>\n      <td>Case</td>\n      <td>Metabolic</td>\n      <td>Gestational diabetes mellitus (GDM)</td>\n      <td>GDM</td>\n      <td>NaN</td>\n      <td>NaN</td>\n      <td>NaN</td>\n      <td>...</td>\n      <td>Unknown</td>\n      <td>Unknown</td>\n      <td>Unknown</td>\n      <td>L1</td>\n      <td>64</td>\n      <td>60</td>\n      <td>4</td>\n      <td>3.644144</td>\n      <td>3.484520</td>\n      <td>0.884344</td>\n    </tr>\n    <tr>\n      <th>1668</th>\n      <td>SRR18268067</td>\n      <td>PRJNA813503</td>\n      <td>ITS1</td>\n      <td>Case</td>\n      <td>Metabolic</td>\n      <td>Gestational diabetes mellitus (GDM)</td>\n      <td>GDM</td>\n      <td>NaN</td>\n      <td>NaN</td>\n      <td>NaN</td>\n      <td>...</td>\n      <td>Unknown</td>\n      <td>Unknown</td>\n      <td>Unknown</td>\n      <td>L1</td>\n      <td>32</td>\n      <td>29</td>\n      <td>3</td>\n      <td>2.661708</td>\n      <td>2.539531</td>\n      <td>0.288229</td>\n    </tr>\n    <tr>\n      <th>1669</th>\n      <td>SRR18268069</td>\n      <td>PRJNA813503</td>\n      <td>ITS1</td>\n      <td>Case</td>\n      <td>Metabolic</td>\n      <td>Gestational diabetes mellitus (GDM)</td>\n      <td>GDM</td>\n      <td>NaN</td>\n      <td>NaN</td>\n      <td>NaN</td>\n      <td>...</td>\n      <td>Unknown</td>\n      <td>Unknown</td>\n      <td>Unknown</td>\n      <td>L1</td>\n      <td>163</td>\n      <td>158</td>\n      <td>5</td>\n      <td>4.834299</td>\n      <td>4.795857</td>\n      <td>2.124692</td>\n    </tr>\n    <tr>\n      <th>1670</th>\n      <td>SRR18268070</td>\n      <td>PRJNA813503</td>\n      <td>ITS1</td>\n      <td>Case</td>\n      <td>Metabolic</td>\n      <td>Gestational diabetes mellitus (GDM)</td>\n      <td>GDM</td>\n      <td>NaN</td>\n      <td>NaN</td>\n      <td>NaN</td>\n      <td>...</td>\n      <td>Unknown</td>\n      <td>Unknown</td>\n      <td>Unknown</td>\n      <td>L1</td>\n      <td>20</td>\n      <td>18</td>\n      <td>2</td>\n      <td>0.940242</td>\n      <td>0.851719</td>\n      <td>0.413817</td>\n    </tr>\n    <tr>\n      <th>1671</th>\n      <td>SRR18268071</td>\n      <td>PRJNA813503</td>\n      <td>ITS1</td>\n      <td>Case</td>\n      <td>Metabolic</td>\n      <td>Gestational diabetes mellitus (GDM)</td>\n      <td>GDM</td>\n      <td>NaN</td>\n      <td>NaN</td>\n      <td>NaN</td>\n      <td>...</td>\n      <td>Unknown</td>\n      <td>Unknown</td>\n      <td>Unknown</td>\n      <td>L1</td>\n      <td>74</td>\n      <td>71</td>\n      <td>3</td>\n      <td>2.383980</td>\n      <td>2.326737</td>\n      <td>0.455021</td>\n    </tr>\n  </tbody>\n</table>\n<p>1672 rows × 25 columns</p>\n</div>"
     },
     "execution_count": 150,
     "metadata": {},
     "output_type": "execute_result"
    }
   ],
   "source": [
    "merged_df_rar6000"
   ],
   "metadata": {
    "collapsed": false,
    "ExecuteTime": {
     "end_time": "2024-08-26T20:06:18.365974Z",
     "start_time": "2024-08-26T20:06:18.344744Z"
    }
   },
   "id": "b0b1201f922c85ad",
   "execution_count": 150
  },
  {
   "cell_type": "code",
   "outputs": [],
   "source": [
    "merged_df_rar6000.to_csv(f'{data_dir}/metadata/combined_alpha_diversity_rar6000.tsv', sep='\\t', index=False)"
   ],
   "metadata": {
    "collapsed": false,
    "ExecuteTime": {
     "end_time": "2024-08-26T20:06:24.194005Z",
     "start_time": "2024-08-26T20:06:24.170929Z"
    }
   },
   "id": "6dcdf27c33af8669",
   "execution_count": 151
  },
  {
   "cell_type": "markdown",
   "source": [],
   "metadata": {
    "collapsed": false
   },
   "id": "5d2fc38a298bb4d"
  }
 ],
 "metadata": {
  "kernelspec": {
   "display_name": "Python 3",
   "language": "python",
   "name": "python3"
  },
  "language_info": {
   "codemirror_mode": {
    "name": "ipython",
    "version": 2
   },
   "file_extension": ".py",
   "mimetype": "text/x-python",
   "name": "python",
   "nbconvert_exporter": "python",
   "pygments_lexer": "ipython2",
   "version": "2.7.6"
  }
 },
 "nbformat": 4,
 "nbformat_minor": 5
}
