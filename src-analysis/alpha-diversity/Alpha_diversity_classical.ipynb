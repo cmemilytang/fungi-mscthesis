{
 "cells": [
  {
   "cell_type": "code",
   "execution_count": 1,
   "id": "initial_id",
   "metadata": {
    "collapsed": true,
    "ExecuteTime": {
     "end_time": "2024-08-20T20:02:36.702489Z",
     "start_time": "2024-08-20T20:02:35.691787Z"
    }
   },
   "outputs": [],
   "source": [
    "import pandas as pd\n",
    "import qiime2 as q2"
   ]
  },
  {
   "cell_type": "code",
   "outputs": [],
   "source": [
    "path = \"/Users/cheesemania/PycharmProjects/mscthesis_wrkdir\""
   ],
   "metadata": {
    "collapsed": false,
    "ExecuteTime": {
     "end_time": "2024-08-20T20:02:38.271297Z",
     "start_time": "2024-08-20T20:02:38.267824Z"
    }
   },
   "id": "a856703f1175947",
   "execution_count": 2
  },
  {
   "cell_type": "markdown",
   "source": [
    "## Alpha rarefaction"
   ],
   "metadata": {
    "collapsed": false
   },
   "id": "aca5b73597ce6acc"
  },
  {
   "cell_type": "markdown",
   "source": [
    "We first investigate the sampling depth of sequences. As sampling depth is different between samples, we must normalize them via rarefying prior to further analysing them. \n",
    "\n",
    "To perform rarefaction, we first need to decide which rarefying threshold is best suited for our dataset. For this, we will analyse how sampling depth impacts within-sample diversity estimates (= alpha diversity) with the alpha-rarefaction action. This action generates interactive alpha rarefaction curves for sequencing depths between min_depth and max_depth and computes 10 (default) rarefied tables with corresponding alpha diversity metrics at each sampling depth step."
   ],
   "metadata": {
    "collapsed": false
   },
   "id": "77697983532423b9"
  },
  {
   "cell_type": "code",
   "outputs": [
    {
     "name": "stdout",
     "output_type": "stream",
     "text": [
      "\u001B[32mSaved Visualization to: /Users/cheesemania/PycharmProjects/mscthesis_wrkdir/src-analysis/feature-table/health-disease-case-control/case_control_alpha_rarefaction.qzv\u001B[0m\r\n",
      "\u001B[0m"
     ]
    }
   ],
   "source": [
    "!qiime diversity alpha-rarefaction \\\n",
    "    --i-table {path}/src-analysis/feature-table/health-disease-case-control/case_control_feature_table.qza \\\n",
    "    --p-max-depth 15000 \\\n",
    "    --m-metadata-file {path}/metadata/case_control_metadata.tsv \\\n",
    "    --o-visualization {path}/src-analysis/feature-table/health-disease-case-control/case_control_alpha_rarefaction.qzv"
   ],
   "metadata": {
    "collapsed": false,
    "ExecuteTime": {
     "end_time": "2024-08-19T17:29:22.254687Z",
     "start_time": "2024-08-19T17:22:40.202723Z"
    }
   },
   "id": "ac5b2871e99b8314",
   "execution_count": 27
  },
  {
   "cell_type": "markdown",
   "source": [
    "### Rarefy table"
   ],
   "metadata": {
    "collapsed": false
   },
   "id": "18253dea60bf7b07"
  },
  {
   "cell_type": "code",
   "outputs": [
    {
     "name": "stdout",
     "output_type": "stream",
     "text": [
      "\u001B[32mSaved FeatureTable[Frequency] to: /Users/cheesemania/PycharmProjects/mscthesis_wrkdir/src-analysis/feature-table/health-disease-case-control/case_control_rarefied3000_feature_table.qza\u001B[0m\r\n",
      "\u001B[0m"
     ]
    }
   ],
   "source": [
    "# Sampling depth of 3000 is chosen\n",
    "!qiime feature-table rarefy \\\n",
    "    --i-table {path}/src-analysis/feature-table/health-disease-case-control/case_control_feature_table.qza \\\n",
    "    --p-sampling-depth 3000 \\\n",
    "    --o-rarefied-table {path}/src-analysis/feature-table/health-disease-case-control/case_control_rarefied3000_feature_table.qza"
   ],
   "metadata": {
    "collapsed": false,
    "ExecuteTime": {
     "end_time": "2024-08-19T13:50:51.911808Z",
     "start_time": "2024-08-19T13:50:20.867Z"
    }
   },
   "id": "943b168a0342ca6a",
   "execution_count": 7
  },
  {
   "cell_type": "code",
   "outputs": [
    {
     "name": "stdout",
     "output_type": "stream",
     "text": [
      "\u001B[32mSaved Visualization to: /Users/cheesemania/PycharmProjects/mscthesis_wrkdir/src-analysis/feature-table/health-disease-case-control/case_control_rarefied3000_feature_table.qzv\u001B[0m\r\n",
      "\u001B[0m"
     ]
    }
   ],
   "source": [
    "!qiime feature-table summarize \\\n",
    "    --i-table {path}/src-analysis/feature-table/health-disease-case-control/case_control_rarefied3000_feature_table.qza \\\n",
    "    --o-visualization {path}/src-analysis/feature-table/health-disease-case-control/case_control_rarefied3000_feature_table.qzv"
   ],
   "metadata": {
    "collapsed": false,
    "ExecuteTime": {
     "end_time": "2024-08-19T13:51:21.127151Z",
     "start_time": "2024-08-19T13:50:53.604331Z"
    }
   },
   "id": "17f7f5c83c10240d",
   "execution_count": 8
  },
  {
   "cell_type": "code",
   "outputs": [
    {
     "name": "stdout",
     "output_type": "stream",
     "text": [
      "\u001B[32mSaved FeatureTable[Frequency] to: /Users/cheesemania/PycharmProjects/mscthesis_wrkdir/src-analysis/feature-table/health-disease-case-control/case_control_rarefied3000_feature_table_remove_h1n1.qza\u001B[0m\r\n",
      "\u001B[0m"
     ]
    }
   ],
   "source": [
    "# Removed all the H1N1 samples - rarefied at 3000\n",
    "!qiime feature-table rarefy \\\n",
    "    --i-table {path}/src-analysis/feature-table/health-disease-case-control/case_control_feature_table_remove_h1n1.qza \\\n",
    "    --p-sampling-depth 3000 \\\n",
    "    --o-rarefied-table {path}/src-analysis/feature-table/health-disease-case-control/case_control_rarefied3000_feature_table_remove_h1n1.qza"
   ],
   "metadata": {
    "collapsed": false,
    "ExecuteTime": {
     "end_time": "2024-08-20T20:20:04.356594Z",
     "start_time": "2024-08-20T20:19:32.153065Z"
    }
   },
   "id": "9d69c1993fad9b07",
   "execution_count": 6
  },
  {
   "cell_type": "code",
   "outputs": [
    {
     "name": "stdout",
     "output_type": "stream",
     "text": [
      "\u001B[32mSaved Visualization to: /Users/cheesemania/PycharmProjects/mscthesis_wrkdir/src-analysis/feature-table/health-disease-case-control/case_control_rarefied3000_feature_table_remove_h1n1.qzv\u001B[0m\r\n",
      "\u001B[0m"
     ]
    }
   ],
   "source": [
    "!qiime feature-table summarize \\\n",
    "    --i-table {path}/src-analysis/feature-table/health-disease-case-control/case_control_rarefied3000_feature_table_remove_h1n1.qza \\\n",
    "    --o-visualization {path}/src-analysis/feature-table/health-disease-case-control/case_control_rarefied3000_feature_table_remove_h1n1.qzv"
   ],
   "metadata": {
    "collapsed": false,
    "ExecuteTime": {
     "end_time": "2024-08-20T20:21:57.485680Z",
     "start_time": "2024-08-20T20:21:27.111408Z"
    }
   },
   "id": "5b8e7cf2b9ca26ac",
   "execution_count": 7
  },
  {
   "cell_type": "code",
   "outputs": [
    {
     "name": "stdout",
     "output_type": "stream",
     "text": [
      "\u001B[32mSaved FeatureTable[Frequency] to: /Users/cheesemania/PycharmProjects/mscthesis_wrkdir/src-analysis/feature-table/health-disease-case-control/case_control_rarefied3000_feature_table_remove_h1n1_filtered1.qza\u001B[0m\r\n",
      "\u001B[0m"
     ]
    }
   ],
   "source": [
    "# Final case-control samples\n",
    "# Sampling depth 3000\n",
    "!qiime feature-table rarefy \\\n",
    "    --i-table {path}/src-analysis/feature-table/health-disease-case-control/case_control_feature_table_remove_h1n1_filtered1.qza \\\n",
    "    --p-sampling-depth 3000 \\\n",
    "    --o-rarefied-table {path}/src-analysis/feature-table/health-disease-case-control/case_control_rarefied3000_feature_table_remove_h1n1_filtered1.qza"
   ],
   "metadata": {
    "collapsed": false,
    "ExecuteTime": {
     "end_time": "2024-08-22T14:41:20.608485Z",
     "start_time": "2024-08-22T14:40:43.569020Z"
    }
   },
   "id": "90fc28f391a99cba",
   "execution_count": 34
  },
  {
   "cell_type": "code",
   "outputs": [
    {
     "name": "stdout",
     "output_type": "stream",
     "text": [
      "\u001B[32mSaved Visualization to: /Users/cheesemania/PycharmProjects/mscthesis_wrkdir/src-analysis/feature-table/health-disease-case-control/case_control_rarefied3000_feature_table_remove_h1n1_filtered1.qzv\u001B[0m\r\n",
      "\u001B[0m"
     ]
    }
   ],
   "source": [
    "!qiime feature-table summarize \\\n",
    "    --i-table {path}/src-analysis/feature-table/health-disease-case-control/case_control_rarefied3000_feature_table_remove_h1n1_filtered1.qza \\\n",
    "    --o-visualization {path}/src-analysis/feature-table/health-disease-case-control/case_control_rarefied3000_feature_table_remove_h1n1_filtered1.qzv"
   ],
   "metadata": {
    "collapsed": false,
    "ExecuteTime": {
     "end_time": "2024-08-22T14:41:56.111751Z",
     "start_time": "2024-08-22T14:41:23.393785Z"
    }
   },
   "id": "fd304d48e3a5b52e",
   "execution_count": 35
  },
  {
   "cell_type": "code",
   "outputs": [
    {
     "name": "stdout",
     "output_type": "stream",
     "text": [
      "\u001B[32mSaved FeatureTable[Frequency] to: /Users/cheesemania/PycharmProjects/mscthesis_wrkdir/src-analysis/feature-table/health-disease-case-control/case_control_rarefied6000_feature_table_remove_h1n1_filtered2.qza\u001B[0m\r\n",
      "\u001B[0m"
     ]
    }
   ],
   "source": [
    "# Final case-control samples\n",
    "# Sampling depth 6000\n",
    "!qiime feature-table rarefy \\\n",
    "    --i-table {path}/src-analysis/feature-table/health-disease-case-control/case_control_feature_table_remove_h1n1_filtered2.qza \\\n",
    "    --p-sampling-depth 6000 \\\n",
    "    --o-rarefied-table {path}/src-analysis/feature-table/health-disease-case-control/case_control_rarefied6000_feature_table_remove_h1n1_filtered2.qza"
   ],
   "metadata": {
    "collapsed": false,
    "ExecuteTime": {
     "end_time": "2024-08-26T18:52:40.847388Z",
     "start_time": "2024-08-26T18:52:10.462858Z"
    }
   },
   "id": "482dd5bcb7cffca7",
   "execution_count": 99
  },
  {
   "cell_type": "code",
   "outputs": [
    {
     "name": "stdout",
     "output_type": "stream",
     "text": [
      "\u001B[32mSaved Visualization to: /Users/cheesemania/PycharmProjects/mscthesis_wrkdir/src-analysis/feature-table/health-disease-case-control/case_control_rarefied6000_feature_table_remove_h1n1_filtered2.qzv\u001B[0m\r\n",
      "\u001B[0m"
     ]
    }
   ],
   "source": [
    "!qiime feature-table summarize \\\n",
    "    --i-table {path}/src-analysis/feature-table/health-disease-case-control/case_control_rarefied6000_feature_table_remove_h1n1_filtered2.qza \\\n",
    "    --o-visualization {path}/src-analysis/feature-table/health-disease-case-control/case_control_rarefied6000_feature_table_remove_h1n1_filtered2.qzv"
   ],
   "metadata": {
    "collapsed": false,
    "ExecuteTime": {
     "end_time": "2024-08-26T18:57:54.012378Z",
     "start_time": "2024-08-26T18:57:20.213207Z"
    }
   },
   "id": "aab53d540d95adae",
   "execution_count": 100
  },
  {
   "cell_type": "markdown",
   "source": [
    "## Diversity analysis"
   ],
   "metadata": {
    "collapsed": false
   },
   "id": "76b0a77361b83a96"
  },
  {
   "cell_type": "code",
   "outputs": [
    {
     "name": "stdout",
     "output_type": "stream",
     "text": [
      "\u001B[32mSaved FeatureTable[Frequency] to: /Users/cheesemania/PycharmProjects/mscthesis_wrkdir/src-analysis/diversity-analysis/core-metrics-results/rarefied_table.qza\u001B[0m\r\n",
      "\u001B[32mSaved SampleData[AlphaDiversity] to: /Users/cheesemania/PycharmProjects/mscthesis_wrkdir/src-analysis/diversity-analysis/core-metrics-results/observed_features_vector.qza\u001B[0m\r\n",
      "\u001B[32mSaved SampleData[AlphaDiversity] to: /Users/cheesemania/PycharmProjects/mscthesis_wrkdir/src-analysis/diversity-analysis/core-metrics-results/shannon_vector.qza\u001B[0m\r\n",
      "\u001B[32mSaved SampleData[AlphaDiversity] to: /Users/cheesemania/PycharmProjects/mscthesis_wrkdir/src-analysis/diversity-analysis/core-metrics-results/evenness_vector.qza\u001B[0m\r\n",
      "\u001B[32mSaved DistanceMatrix to: /Users/cheesemania/PycharmProjects/mscthesis_wrkdir/src-analysis/diversity-analysis/core-metrics-results/jaccard_distance_matrix.qza\u001B[0m\r\n",
      "\u001B[32mSaved DistanceMatrix to: /Users/cheesemania/PycharmProjects/mscthesis_wrkdir/src-analysis/diversity-analysis/core-metrics-results/bray_curtis_distance_matrix.qza\u001B[0m\r\n",
      "\u001B[32mSaved PCoAResults to: /Users/cheesemania/PycharmProjects/mscthesis_wrkdir/src-analysis/diversity-analysis/core-metrics-results/jaccard_pcoa_results.qza\u001B[0m\r\n",
      "\u001B[32mSaved PCoAResults to: /Users/cheesemania/PycharmProjects/mscthesis_wrkdir/src-analysis/diversity-analysis/core-metrics-results/bray_curtis_pcoa_results.qza\u001B[0m\r\n",
      "\u001B[32mSaved Visualization to: /Users/cheesemania/PycharmProjects/mscthesis_wrkdir/src-analysis/diversity-analysis/core-metrics-results/jaccard_emperor.qzv\u001B[0m\r\n",
      "\u001B[32mSaved Visualization to: /Users/cheesemania/PycharmProjects/mscthesis_wrkdir/src-analysis/diversity-analysis/core-metrics-results/bray_curtis_emperor.qzv\u001B[0m\r\n",
      "\u001B[0m"
     ]
    }
   ],
   "source": [
    "# Raw data of case-control samples\n",
    "!qiime diversity core-metrics \\\n",
    "    --i-table {path}/src-analysis/feature-table/health-disease-case-control/case_control_feature_table.qza \\\n",
    "    --p-sampling-depth 3000 \\\n",
    "    --m-metadata-file {path}/metadata/case_control_metadata.tsv \\\n",
    "    --output-dir {path}/src-analysis/diversity-analysis/core-metrics-results"
   ],
   "metadata": {
    "collapsed": false,
    "ExecuteTime": {
     "end_time": "2024-08-20T19:23:12.018108Z",
     "start_time": "2024-08-20T19:19:20.834292Z"
    }
   },
   "id": "deff239885acef05",
   "execution_count": 100
  },
  {
   "cell_type": "code",
   "outputs": [
    {
     "name": "stdout",
     "output_type": "stream",
     "text": [
      "\u001B[32mSaved Visualization to: /Users/cheesemania/PycharmProjects/mscthesis_wrkdir/src-analysis/diversity-analysis/core-metrics-results/observed-features-group-significance.qzv\u001B[0m\r\n",
      "\u001B[0m"
     ]
    }
   ],
   "source": [
    "!qiime diversity alpha-group-significance \\\n",
    "    --i-alpha-diversity {path}/src-analysis/diversity-analysis/core-metrics-results/observed_features_vector.qza \\\n",
    "    --m-metadata-file {path}/metadata/case_control_metadata.tsv \\\n",
    "    --o-visualization {path}/src-analysis/diversity-analysis/core-metrics-results/observed-features-group-significance.qzv"
   ],
   "metadata": {
    "collapsed": false,
    "ExecuteTime": {
     "end_time": "2024-08-20T19:28:10.547329Z",
     "start_time": "2024-08-20T19:27:37.453157Z"
    }
   },
   "id": "1f043193bdd06904",
   "execution_count": 101
  },
  {
   "cell_type": "markdown",
   "source": [
    "#### Removed all the H1N1 cases in PRJNA637034"
   ],
   "metadata": {
    "collapsed": false
   },
   "id": "d4c4a4bbe1a097a"
  },
  {
   "cell_type": "code",
   "outputs": [
    {
     "name": "stdout",
     "output_type": "stream",
     "text": [
      "\u001B[32mSaved FeatureTable[Frequency] to: /Users/cheesemania/PycharmProjects/mscthesis_wrkdir/src-analysis/diversity-analysis/core-metrics-results-remove-h1n1/rarefied_table.qza\u001B[0m\r\n",
      "\u001B[32mSaved SampleData[AlphaDiversity] to: /Users/cheesemania/PycharmProjects/mscthesis_wrkdir/src-analysis/diversity-analysis/core-metrics-results-remove-h1n1/observed_features_vector.qza\u001B[0m\r\n",
      "\u001B[32mSaved SampleData[AlphaDiversity] to: /Users/cheesemania/PycharmProjects/mscthesis_wrkdir/src-analysis/diversity-analysis/core-metrics-results-remove-h1n1/shannon_vector.qza\u001B[0m\r\n",
      "\u001B[32mSaved SampleData[AlphaDiversity] to: /Users/cheesemania/PycharmProjects/mscthesis_wrkdir/src-analysis/diversity-analysis/core-metrics-results-remove-h1n1/evenness_vector.qza\u001B[0m\r\n",
      "\u001B[32mSaved DistanceMatrix to: /Users/cheesemania/PycharmProjects/mscthesis_wrkdir/src-analysis/diversity-analysis/core-metrics-results-remove-h1n1/jaccard_distance_matrix.qza\u001B[0m\r\n",
      "\u001B[32mSaved DistanceMatrix to: /Users/cheesemania/PycharmProjects/mscthesis_wrkdir/src-analysis/diversity-analysis/core-metrics-results-remove-h1n1/bray_curtis_distance_matrix.qza\u001B[0m\r\n",
      "\u001B[32mSaved PCoAResults to: /Users/cheesemania/PycharmProjects/mscthesis_wrkdir/src-analysis/diversity-analysis/core-metrics-results-remove-h1n1/jaccard_pcoa_results.qza\u001B[0m\r\n",
      "\u001B[32mSaved PCoAResults to: /Users/cheesemania/PycharmProjects/mscthesis_wrkdir/src-analysis/diversity-analysis/core-metrics-results-remove-h1n1/bray_curtis_pcoa_results.qza\u001B[0m\r\n",
      "\u001B[32mSaved Visualization to: /Users/cheesemania/PycharmProjects/mscthesis_wrkdir/src-analysis/diversity-analysis/core-metrics-results-remove-h1n1/jaccard_emperor.qzv\u001B[0m\r\n",
      "\u001B[32mSaved Visualization to: /Users/cheesemania/PycharmProjects/mscthesis_wrkdir/src-analysis/diversity-analysis/core-metrics-results-remove-h1n1/bray_curtis_emperor.qzv\u001B[0m\r\n",
      "\u001B[0m"
     ]
    }
   ],
   "source": [
    "# Sampling depth 3000\n",
    "!qiime diversity core-metrics \\\n",
    "    --i-table {path}/src-analysis/feature-table/health-disease-case-control/case_control_feature_table_remove_h1n1.qza \\\n",
    "    --p-sampling-depth 3000 \\\n",
    "    --m-metadata-file {path}/metadata/case_control_metadata_remove_h1n1.tsv \\\n",
    "    --output-dir {path}/src-analysis/diversity-analysis/core-metrics-results-remove-h1n1-rar3000"
   ],
   "metadata": {
    "collapsed": false,
    "ExecuteTime": {
     "end_time": "2024-08-20T20:17:31.534576Z",
     "start_time": "2024-08-20T20:12:56.771493Z"
    }
   },
   "id": "bba4d831d1880077",
   "execution_count": 4
  },
  {
   "cell_type": "code",
   "outputs": [
    {
     "name": "stdout",
     "output_type": "stream",
     "text": [
      "\u001B[32mSaved Visualization to: /Users/cheesemania/PycharmProjects/mscthesis_wrkdir/src-analysis/diversity-analysis/core-metrics-results-remove-h1n1/observed-features-group-significance.qzv\u001B[0m\r\n",
      "\u001B[0m"
     ]
    }
   ],
   "source": [
    "# Sampling depth 3000\n",
    "!qiime diversity alpha-group-significance \\\n",
    "    --i-alpha-diversity {path}/src-analysis/diversity-analysis/core-metrics-results-remove-h1n1-rar3000/observed_features_vector.qza \\\n",
    "    --m-metadata-file {path}/metadata/case_control_metadata_remove_h1n1.tsv \\\n",
    "    --o-visualization {path}/src-analysis/diversity-analysis/core-metrics-results-remove-h1n1-rar3000/observed-features-group-significance.qzv"
   ],
   "metadata": {
    "collapsed": false,
    "ExecuteTime": {
     "end_time": "2024-08-20T20:19:24.142653Z",
     "start_time": "2024-08-20T20:18:48.906532Z"
    }
   },
   "id": "6c09254b193e5729",
   "execution_count": 5
  },
  {
   "cell_type": "code",
   "outputs": [
    {
     "name": "stdout",
     "output_type": "stream",
     "text": [
      "\u001B[32mSaved FeatureTable[Frequency] to: /Users/cheesemania/PycharmProjects/mscthesis_wrkdir/src-analysis/diversity-analysis/core-metrics-results-remove-h1n1-rar6000/rarefied_table.qza\u001B[0m\r\n",
      "\u001B[32mSaved SampleData[AlphaDiversity] to: /Users/cheesemania/PycharmProjects/mscthesis_wrkdir/src-analysis/diversity-analysis/core-metrics-results-remove-h1n1-rar6000/observed_features_vector.qza\u001B[0m\r\n",
      "\u001B[32mSaved SampleData[AlphaDiversity] to: /Users/cheesemania/PycharmProjects/mscthesis_wrkdir/src-analysis/diversity-analysis/core-metrics-results-remove-h1n1-rar6000/shannon_vector.qza\u001B[0m\r\n",
      "\u001B[32mSaved SampleData[AlphaDiversity] to: /Users/cheesemania/PycharmProjects/mscthesis_wrkdir/src-analysis/diversity-analysis/core-metrics-results-remove-h1n1-rar6000/evenness_vector.qza\u001B[0m\r\n",
      "\u001B[32mSaved DistanceMatrix to: /Users/cheesemania/PycharmProjects/mscthesis_wrkdir/src-analysis/diversity-analysis/core-metrics-results-remove-h1n1-rar6000/jaccard_distance_matrix.qza\u001B[0m\r\n",
      "\u001B[32mSaved DistanceMatrix to: /Users/cheesemania/PycharmProjects/mscthesis_wrkdir/src-analysis/diversity-analysis/core-metrics-results-remove-h1n1-rar6000/bray_curtis_distance_matrix.qza\u001B[0m\r\n",
      "\u001B[32mSaved PCoAResults to: /Users/cheesemania/PycharmProjects/mscthesis_wrkdir/src-analysis/diversity-analysis/core-metrics-results-remove-h1n1-rar6000/jaccard_pcoa_results.qza\u001B[0m\r\n",
      "\u001B[32mSaved PCoAResults to: /Users/cheesemania/PycharmProjects/mscthesis_wrkdir/src-analysis/diversity-analysis/core-metrics-results-remove-h1n1-rar6000/bray_curtis_pcoa_results.qza\u001B[0m\r\n",
      "\u001B[32mSaved Visualization to: /Users/cheesemania/PycharmProjects/mscthesis_wrkdir/src-analysis/diversity-analysis/core-metrics-results-remove-h1n1-rar6000/jaccard_emperor.qzv\u001B[0m\r\n",
      "\u001B[32mSaved Visualization to: /Users/cheesemania/PycharmProjects/mscthesis_wrkdir/src-analysis/diversity-analysis/core-metrics-results-remove-h1n1-rar6000/bray_curtis_emperor.qzv\u001B[0m\r\n",
      "\u001B[0m"
     ]
    }
   ],
   "source": [
    "# Sampling depth 6000\n",
    "!qiime diversity core-metrics \\\n",
    "    --i-table {path}/src-analysis/feature-table/health-disease-case-control/case_control_feature_table_remove_h1n1.qza \\\n",
    "    --p-sampling-depth 6000 \\\n",
    "    --m-metadata-file {path}/metadata/case_control_metadata_remove_h1n1.tsv \\\n",
    "    --output-dir {path}/src-analysis/diversity-analysis/core-metrics-results-remove-h1n1-rar6000"
   ],
   "metadata": {
    "collapsed": false,
    "ExecuteTime": {
     "end_time": "2024-08-26T16:59:11.591854Z",
     "start_time": "2024-08-26T16:54:46.404941Z"
    }
   },
   "id": "4fc874b72529649b",
   "execution_count": 97
  },
  {
   "cell_type": "code",
   "outputs": [
    {
     "name": "stdout",
     "output_type": "stream",
     "text": [
      "\u001B[32mSaved Visualization to: /Users/cheesemania/PycharmProjects/mscthesis_wrkdir/src-analysis/diversity-analysis/core-metrics-results-remove-h1n1-rar6000/observed-features-group-significance.qzv\u001B[0m\r\n",
      "\u001B[0m"
     ]
    }
   ],
   "source": [
    "# Sampling depth 6000\n",
    "!qiime diversity alpha-group-significance \\\n",
    "    --i-alpha-diversity {path}/src-analysis/diversity-analysis/core-metrics-results-remove-h1n1-rar6000/observed_features_vector.qza \\\n",
    "    --m-metadata-file {path}/metadata/case_control_metadata_remove_h1n1.tsv \\\n",
    "    --o-visualization {path}/src-analysis/diversity-analysis/core-metrics-results-remove-h1n1-rar6000/observed-features-group-significance.qzv"
   ],
   "metadata": {
    "collapsed": false,
    "ExecuteTime": {
     "end_time": "2024-08-26T17:01:21.524837Z",
     "start_time": "2024-08-26T17:00:34.999594Z"
    }
   },
   "id": "58949e296e2e6ea",
   "execution_count": 98
  },
  {
   "cell_type": "markdown",
   "source": [
    "#### Sampling depth 3000: excluded four projects which the sample counts after rarefaction of either case or control group are less than 5."
   ],
   "metadata": {
    "collapsed": false
   },
   "id": "2392d4bc372edd5"
  },
  {
   "cell_type": "markdown",
   "source": [
    "##### Rarefaction at sampling depth 3000"
   ],
   "metadata": {
    "collapsed": false
   },
   "id": "613bdaee3d0370ea"
  },
  {
   "cell_type": "code",
   "outputs": [
    {
     "name": "stdout",
     "output_type": "stream",
     "text": [
      "\u001B[32mSaved SampleData[AlphaDiversity] to: /Users/cheesemania/PycharmProjects/mscthesis_wrkdir/src-analysis/diversity-analysis/alpha-diversity-results-non-filtered/observed_features_vector.qza\u001B[0m\r\n",
      "\u001B[0m"
     ]
    }
   ],
   "source": [
    "# Final feature table of case-control samples rarefied at 3000\n",
    "# Observed features\n",
    "!qiime diversity alpha \\\n",
    "    --i-table {path}/src-analysis/feature-table/health-disease-case-control/case_control_rarefied3000_feature_table_remove_h1n1_filtered1.qza \\\n",
    "    --p-metric 'observed_features' \\\n",
    "    --o-alpha-diversity {path}/src-analysis/diversity-analysis/alpha-diversity-results-non-filtered/observed_features_vector.qza"
   ],
   "metadata": {
    "collapsed": false,
    "ExecuteTime": {
     "end_time": "2024-08-23T13:06:54.758456Z",
     "start_time": "2024-08-23T13:06:18.664589Z"
    }
   },
   "id": "ba218cbf71c65879",
   "execution_count": 61
  },
  {
   "cell_type": "code",
   "outputs": [
    {
     "name": "stdout",
     "output_type": "stream",
     "text": [
      "\u001B[32mSaved Visualization to: /Users/cheesemania/PycharmProjects/mscthesis_wrkdir/src-analysis/diversity-analysis/alpha-diversity-results-non-filtered/observed-features-group-significance.qzv\u001B[0m\r\n",
      "\u001B[0m"
     ]
    }
   ],
   "source": [
    "# Observed features\n",
    "!qiime diversity alpha-group-significance \\\n",
    "    --i-alpha-diversity {path}/src-analysis/diversity-analysis/alpha-diversity-results-non-filtered/observed_features_vector.qza \\\n",
    "    --m-metadata-file {path}/metadata/case_control_metadata_remove_h1n1_filtered1.tsv \\\n",
    "    --o-visualization {path}/src-analysis/diversity-analysis/alpha-diversity-results-non-filtered/observed-features-group-significance.qzv"
   ],
   "metadata": {
    "collapsed": false,
    "ExecuteTime": {
     "end_time": "2024-08-23T13:08:34.628932Z",
     "start_time": "2024-08-23T13:07:45.256281Z"
    }
   },
   "id": "bed5116c4746f9af",
   "execution_count": 62
  },
  {
   "cell_type": "code",
   "outputs": [
    {
     "name": "stdout",
     "output_type": "stream",
     "text": [
      "\u001B[32mSaved SampleData[AlphaDiversity] to: /Users/cheesemania/PycharmProjects/mscthesis_wrkdir/src-analysis/diversity-analysis/alpha-diversity-results-non-filtered/shannon_vector.qza\u001B[0m\r\n",
      "\u001B[0m"
     ]
    }
   ],
   "source": [
    "# Final feature table of case-control samples rarefied at 3000\n",
    "# Shannon diversity index\n",
    "!qiime diversity alpha \\\n",
    "    --i-table {path}/src-analysis/feature-table/health-disease-case-control/case_control_rarefied3000_feature_table_remove_h1n1_filtered1.qza \\\n",
    "    --p-metric 'shannon' \\\n",
    "    --o-alpha-diversity {path}/src-analysis/diversity-analysis/alpha-diversity-results-non-filtered/shannon_vector.qza"
   ],
   "metadata": {
    "collapsed": false,
    "ExecuteTime": {
     "end_time": "2024-08-26T13:20:02.676978Z",
     "start_time": "2024-08-26T13:19:31.075755Z"
    }
   },
   "id": "39e9406260a01562",
   "execution_count": 73
  },
  {
   "cell_type": "code",
   "outputs": [
    {
     "name": "stdout",
     "output_type": "stream",
     "text": [
      "\u001B[32mSaved Visualization to: /Users/cheesemania/PycharmProjects/mscthesis_wrkdir/src-analysis/diversity-analysis/alpha-diversity-results-non-filtered/shannon-group-significance.qzv\u001B[0m\r\n",
      "\u001B[0m"
     ]
    }
   ],
   "source": [
    "# Shannon diversity index\n",
    "!qiime diversity alpha-group-significance \\\n",
    "    --i-alpha-diversity {path}/src-analysis/diversity-analysis/alpha-diversity-results-non-filtered/shannon_vector.qza \\\n",
    "    --m-metadata-file {path}/metadata/case_control_metadata_remove_h1n1_filtered1.tsv \\\n",
    "    --o-visualization {path}/src-analysis/diversity-analysis/alpha-diversity-results-non-filtered/shannon-group-significance.qzv"
   ],
   "metadata": {
    "collapsed": false,
    "ExecuteTime": {
     "end_time": "2024-08-26T13:20:46.695573Z",
     "start_time": "2024-08-26T13:20:12.907105Z"
    }
   },
   "id": "578a5093606ebe81",
   "execution_count": 74
  },
  {
   "cell_type": "markdown",
   "source": [
    "### Filtered non-resident fungi from the rarefied3000 feature table"
   ],
   "metadata": {
    "collapsed": false
   },
   "id": "92c15ec6039c1da7"
  },
  {
   "cell_type": "code",
   "outputs": [
    {
     "name": "stdout",
     "output_type": "stream",
     "text": [
      "\u001B[32mSaved FeatureTable[Frequency] to: /Users/cheesemania/PycharmProjects/mscthesis_wrkdir/src-analysis/diversity-analysis/alpha-diversity-results-filt-nonresident/case_control_rarefied3000_filt_nonresident_feature_table.qza\u001B[0m\r\n",
      "\u001B[0m"
     ]
    }
   ],
   "source": [
    "# Filter non-resident fungi from case_control_origi_rarefied3000_table\n",
    "!qiime feature-table filter-features \\\n",
    "    --i-table {path}/src-analysis/feature-table/health-disease-case-control/case_control_rarefied3000_feature_table_remove_h1n1_filtered1.qza \\\n",
    "    --m-metadata-file {path}/metadata/fungal-traits/non-resident_ids.tsv \\\n",
    "    --p-exclude-ids True \\\n",
    "    --o-filtered-table {path}/src-analysis/diversity-analysis/alpha-diversity-results-filt-nonresident/case_control_rarefied3000_filt_nonresident_feature_table.qza"
   ],
   "metadata": {
    "collapsed": false,
    "ExecuteTime": {
     "end_time": "2024-08-23T13:09:50.155157Z",
     "start_time": "2024-08-23T13:09:14.115169Z"
    }
   },
   "id": "52e3767a0e6663aa",
   "execution_count": 63
  },
  {
   "cell_type": "code",
   "outputs": [
    {
     "name": "stdout",
     "output_type": "stream",
     "text": [
      "\u001B[32mSaved Visualization to: /Users/cheesemania/PycharmProjects/mscthesis_wrkdir/src-analysis/diversity-analysis/alpha-diversity-results-filt-nonresident/case_control_rarefied3000_filt_nonresident_feature_table.qzv\u001B[0m\r\n",
      "\u001B[0m"
     ]
    }
   ],
   "source": [
    "!qiime feature-table summarize \\\n",
    "    --i-table {path}/src-analysis/diversity-analysis/alpha-diversity-results-filt-nonresident/case_control_rarefied3000_filt_nonresident_feature_table.qza \\\n",
    "    --o-visualization {path}/src-analysis/diversity-analysis/alpha-diversity-results-filt-nonresident/case_control_rarefied3000_filt_nonresident_feature_table.qzv"
   ],
   "metadata": {
    "collapsed": false,
    "ExecuteTime": {
     "end_time": "2024-08-23T13:10:28.845463Z",
     "start_time": "2024-08-23T13:09:58.129857Z"
    }
   },
   "id": "66a477261834537a",
   "execution_count": 64
  },
  {
   "cell_type": "code",
   "outputs": [
    {
     "name": "stdout",
     "output_type": "stream",
     "text": [
      "\u001B[32mSaved SampleData[AlphaDiversity] to: /Users/cheesemania/PycharmProjects/mscthesis_wrkdir/src-analysis/diversity-analysis/alpha-diversity-results-filt-nonresident/observed_features_vector.qza\u001B[0m\r\n",
      "\u001B[0m"
     ]
    }
   ],
   "source": [
    "# Observed features\n",
    "!qiime diversity alpha \\\n",
    "    --i-table {path}/src-analysis/diversity-analysis/alpha-diversity-results-filt-nonresident/case_control_rarefied3000_filt_nonresident_feature_table.qza \\\n",
    "    --p-metric 'observed_features' \\\n",
    "    --o-alpha-diversity {path}/src-analysis/diversity-analysis/alpha-diversity-results-filt-nonresident/observed_features_vector.qza"
   ],
   "metadata": {
    "collapsed": false,
    "ExecuteTime": {
     "end_time": "2024-08-23T13:11:17.882194Z",
     "start_time": "2024-08-23T13:10:40.038456Z"
    }
   },
   "id": "53888f1682b60538",
   "execution_count": 65
  },
  {
   "cell_type": "code",
   "outputs": [
    {
     "name": "stdout",
     "output_type": "stream",
     "text": [
      "\u001B[32mSaved Visualization to: /Users/cheesemania/PycharmProjects/mscthesis_wrkdir/src-analysis/diversity-analysis/alpha-diversity-results-filt-nonresident/observed-features-group-significance.qzv\u001B[0m\r\n",
      "\u001B[0m"
     ]
    }
   ],
   "source": [
    "# Observed features\n",
    "!qiime diversity alpha-group-significance \\\n",
    "    --i-alpha-diversity {path}/src-analysis/diversity-analysis/alpha-diversity-results-filt-nonresident/observed_features_vector.qza \\\n",
    "    --m-metadata-file {path}/metadata/case_control_metadata_remove_h1n1_filtered1.tsv \\\n",
    "    --o-visualization {path}/src-analysis/diversity-analysis/alpha-diversity-results-filt-nonresident/observed-features-group-significance.qzv"
   ],
   "metadata": {
    "collapsed": false,
    "ExecuteTime": {
     "end_time": "2024-08-23T13:12:27.037966Z",
     "start_time": "2024-08-23T13:11:35.683589Z"
    }
   },
   "id": "ae74623b64762fb5",
   "execution_count": 66
  },
  {
   "cell_type": "code",
   "outputs": [
    {
     "name": "stdout",
     "output_type": "stream",
     "text": [
      "\u001B[32mSaved SampleData[AlphaDiversity] to: /Users/cheesemania/PycharmProjects/mscthesis_wrkdir/src-analysis/diversity-analysis/alpha-diversity-results-filt-nonresident/shannon_vector.qza\u001B[0m\r\n",
      "\u001B[0m"
     ]
    }
   ],
   "source": [
    "# Shannon diversity index\n",
    "!qiime diversity alpha \\\n",
    "    --i-table {path}/src-analysis/diversity-analysis/alpha-diversity-results-filt-nonresident/case_control_rarefied3000_filt_nonresident_feature_table.qza \\\n",
    "    --p-metric 'shannon' \\\n",
    "    --o-alpha-diversity {path}/src-analysis/diversity-analysis/alpha-diversity-results-filt-nonresident/shannon_vector.qza"
   ],
   "metadata": {
    "collapsed": false,
    "ExecuteTime": {
     "end_time": "2024-08-26T13:27:54.683773Z",
     "start_time": "2024-08-26T13:27:11.396571Z"
    }
   },
   "id": "589c562bfbbe3152",
   "execution_count": 75
  },
  {
   "cell_type": "code",
   "outputs": [
    {
     "name": "stdout",
     "output_type": "stream",
     "text": [
      "\u001B[32mSaved Visualization to: /Users/cheesemania/PycharmProjects/mscthesis_wrkdir/src-analysis/diversity-analysis/alpha-diversity-results-filt-nonresident/shannon-group-significance.qzv\u001B[0m\r\n",
      "\u001B[0m"
     ]
    }
   ],
   "source": [
    "# Shannon diversity index\n",
    "!qiime diversity alpha-group-significance \\\n",
    "    --i-alpha-diversity {path}/src-analysis/diversity-analysis/alpha-diversity-results-filt-nonresident/shannon_vector.qza \\\n",
    "    --m-metadata-file {path}/metadata/case_control_metadata_remove_h1n1_filtered1.tsv \\\n",
    "    --o-visualization {path}/src-analysis/diversity-analysis/alpha-diversity-results-filt-nonresident/shannon-group-significance.qzv"
   ],
   "metadata": {
    "collapsed": false,
    "ExecuteTime": {
     "end_time": "2024-08-26T13:28:48.787398Z",
     "start_time": "2024-08-26T13:28:18.846624Z"
    }
   },
   "id": "ab6fb9d95d9fab13",
   "execution_count": 76
  },
  {
   "cell_type": "markdown",
   "source": [
    "### Subsetting the feature table (case_control_origi_rarefied3000_table) with only non-resident fungi"
   ],
   "metadata": {
    "collapsed": false
   },
   "id": "578ac1326d9bd484"
  },
  {
   "cell_type": "code",
   "outputs": [
    {
     "name": "stdout",
     "output_type": "stream",
     "text": [
      "\u001B[32mSaved FeatureTable[Frequency] to: /Users/cheesemania/PycharmProjects/mscthesis_wrkdir/src-analysis/diversity-analysis/alpha-diversity-results-nonresident/case_control_rarefied3000_nonresident_feature_table.qza\u001B[0m\r\n",
      "\u001B[0m"
     ]
    }
   ],
   "source": [
    "# Retain only non-resident fungi in case_control_origi_rarefied3000_table\n",
    "!qiime feature-table filter-features \\\n",
    "    --i-table {path}/src-analysis/feature-table/health-disease-case-control/case_control_rarefied3000_feature_table_remove_h1n1_filtered1.qza \\\n",
    "    --m-metadata-file {path}/metadata/fungal-traits/non-resident_ids.tsv \\\n",
    "    --p-exclude-ids False \\\n",
    "    --o-filtered-table {path}/src-analysis/diversity-analysis/alpha-diversity-results-nonresident/case_control_rarefied3000_nonresident_feature_table.qza"
   ],
   "metadata": {
    "collapsed": false,
    "ExecuteTime": {
     "end_time": "2024-08-23T13:14:24.960680Z",
     "start_time": "2024-08-23T13:13:57.037925Z"
    }
   },
   "id": "8f8163e6b7de4a2c",
   "execution_count": 67
  },
  {
   "cell_type": "code",
   "outputs": [
    {
     "name": "stdout",
     "output_type": "stream",
     "text": [
      "\u001B[32mSaved Visualization to: /Users/cheesemania/PycharmProjects/mscthesis_wrkdir/src-analysis/diversity-analysis/alpha-diversity-results-nonresident/case_control_rarefied3000_nonresident_feature_table.qzv\u001B[0m\r\n",
      "\u001B[0m"
     ]
    }
   ],
   "source": [
    "!qiime feature-table summarize \\\n",
    "    --i-table {path}/src-analysis/diversity-analysis/alpha-diversity-results-nonresident/case_control_rarefied3000_nonresident_feature_table.qza \\\n",
    "    --o-visualization {path}/src-analysis/diversity-analysis/alpha-diversity-results-nonresident/case_control_rarefied3000_nonresident_feature_table.qzv"
   ],
   "metadata": {
    "collapsed": false,
    "ExecuteTime": {
     "end_time": "2024-08-23T13:15:20.975675Z",
     "start_time": "2024-08-23T13:14:48.675932Z"
    }
   },
   "id": "5aa89a793fefb066",
   "execution_count": 68
  },
  {
   "cell_type": "code",
   "outputs": [
    {
     "name": "stdout",
     "output_type": "stream",
     "text": [
      "\u001B[32mSaved SampleData[AlphaDiversity] to: /Users/cheesemania/PycharmProjects/mscthesis_wrkdir/src-analysis/diversity-analysis/alpha-diversity-results-nonresident/observed_features_vector.qza\u001B[0m\r\n",
      "\u001B[0m"
     ]
    }
   ],
   "source": [
    "# Observed features\n",
    "!qiime diversity alpha \\\n",
    "    --i-table {path}/src-analysis/diversity-analysis/alpha-diversity-results-nonresident/case_control_rarefied3000_nonresident_feature_table.qza \\\n",
    "    --p-metric 'observed_features' \\\n",
    "    --o-alpha-diversity {path}/src-analysis/diversity-analysis/alpha-diversity-results-nonresident/observed_features_vector.qza"
   ],
   "metadata": {
    "collapsed": false,
    "ExecuteTime": {
     "end_time": "2024-08-23T13:16:39.178548Z",
     "start_time": "2024-08-23T13:16:05.143671Z"
    }
   },
   "id": "9e0f80c0bff6dba0",
   "execution_count": 69
  },
  {
   "cell_type": "code",
   "outputs": [
    {
     "name": "stdout",
     "output_type": "stream",
     "text": [
      "\u001B[32mSaved Visualization to: /Users/cheesemania/PycharmProjects/mscthesis_wrkdir/src-analysis/diversity-analysis/alpha-diversity-results-nonresident/observed-features-group-significance.qzv\u001B[0m\r\n",
      "\u001B[0m"
     ]
    }
   ],
   "source": [
    "# Observed features\n",
    "!qiime diversity alpha-group-significance \\\n",
    "    --i-alpha-diversity {path}/src-analysis/diversity-analysis/alpha-diversity-results-nonresident/observed_features_vector.qza \\\n",
    "    --m-metadata-file {path}/metadata/case_control_metadata_remove_h1n1_filtered1.tsv \\\n",
    "    --o-visualization {path}/src-analysis/diversity-analysis/alpha-diversity-results-nonresident/observed-features-group-significance.qzv"
   ],
   "metadata": {
    "collapsed": false,
    "ExecuteTime": {
     "end_time": "2024-08-23T13:17:21.524132Z",
     "start_time": "2024-08-23T13:16:44.579031Z"
    }
   },
   "id": "76ca21833a046b02",
   "execution_count": 70
  },
  {
   "cell_type": "code",
   "outputs": [
    {
     "name": "stdout",
     "output_type": "stream",
     "text": [
      "\u001B[32mSaved SampleData[AlphaDiversity] to: /Users/cheesemania/PycharmProjects/mscthesis_wrkdir/src-analysis/diversity-analysis/alpha-diversity-results-nonresident/shannon_vector.qza\u001B[0m\r\n",
      "\u001B[0m"
     ]
    }
   ],
   "source": [
    "# Shannon diversity index\n",
    "!qiime diversity alpha \\\n",
    "    --i-table {path}/src-analysis/diversity-analysis/alpha-diversity-results-nonresident/case_control_rarefied3000_nonresident_feature_table.qza \\\n",
    "    --p-metric 'shannon' \\\n",
    "    --o-alpha-diversity {path}/src-analysis/diversity-analysis/alpha-diversity-results-nonresident/shannon_vector.qza"
   ],
   "metadata": {
    "collapsed": false,
    "ExecuteTime": {
     "end_time": "2024-08-26T13:34:50.339991Z",
     "start_time": "2024-08-26T13:34:18.677950Z"
    }
   },
   "id": "b9cb9ac2efa8bab",
   "execution_count": 77
  },
  {
   "cell_type": "code",
   "outputs": [
    {
     "name": "stdout",
     "output_type": "stream",
     "text": [
      "\u001B[32mSaved Visualization to: /Users/cheesemania/PycharmProjects/mscthesis_wrkdir/src-analysis/diversity-analysis/alpha-diversity-results-nonresident/shannon-group-significance.qzv\u001B[0m\r\n",
      "\u001B[0m"
     ]
    }
   ],
   "source": [
    "# Shannon diversity index\n",
    "!qiime diversity alpha-group-significance \\\n",
    "    --i-alpha-diversity {path}/src-analysis/diversity-analysis/alpha-diversity-results-nonresident/shannon_vector.qza \\\n",
    "    --m-metadata-file {path}/metadata/case_control_metadata_remove_h1n1_filtered1.tsv \\\n",
    "    --o-visualization {path}/src-analysis/diversity-analysis/alpha-diversity-results-nonresident/shannon-group-significance.qzv"
   ],
   "metadata": {
    "collapsed": false,
    "ExecuteTime": {
     "end_time": "2024-08-26T13:36:00.746023Z",
     "start_time": "2024-08-26T13:35:30.208280Z"
    }
   },
   "id": "489925e30efdf397",
   "execution_count": 78
  },
  {
   "cell_type": "markdown",
   "source": [
    "#### Sampling depth 6000: excluded five projects which the sample counts after rarefaction of either case or control group are less than 5."
   ],
   "metadata": {
    "collapsed": false
   },
   "id": "3ffbcbed06ae048c"
  },
  {
   "cell_type": "markdown",
   "source": [
    "##### Rarefaction at sampling depth 6000"
   ],
   "metadata": {
    "collapsed": false
   },
   "id": "2c46bbb1afdf49cd"
  },
  {
   "cell_type": "code",
   "outputs": [
    {
     "name": "stdout",
     "output_type": "stream",
     "text": [
      "\u001B[32mSaved SampleData[AlphaDiversity] to: /Users/cheesemania/PycharmProjects/mscthesis_wrkdir/src-analysis/diversity-analysis/results-rar6000/alpha-diversity-results-non-filtered/observed_features_vector.qza\u001B[0m\r\n",
      "\u001B[0m"
     ]
    }
   ],
   "source": [
    "# Final feature table of case-control samples rarefied at 6000\n",
    "# Observed features\n",
    "!qiime diversity alpha \\\n",
    "    --i-table {path}/src-analysis/feature-table/health-disease-case-control/case_control_rarefied6000_feature_table_remove_h1n1_filtered2.qza \\\n",
    "    --p-metric 'observed_features' \\\n",
    "    --o-alpha-diversity {path}/src-analysis/diversity-analysis/results-rar6000/alpha-diversity-results-non-filtered/observed_features_vector.qza"
   ],
   "metadata": {
    "collapsed": false,
    "ExecuteTime": {
     "end_time": "2024-08-26T19:06:26.802281Z",
     "start_time": "2024-08-26T19:05:51.212718Z"
    }
   },
   "id": "3975553655cedff1",
   "execution_count": 101
  },
  {
   "cell_type": "code",
   "outputs": [
    {
     "name": "stdout",
     "output_type": "stream",
     "text": [
      "\u001B[32mSaved Visualization to: /Users/cheesemania/PycharmProjects/mscthesis_wrkdir/src-analysis/diversity-analysis/results-rar6000/alpha-diversity-results-non-filtered/observed-features-group-significance.qzv\u001B[0m\r\n",
      "\u001B[0m"
     ]
    }
   ],
   "source": [
    "# Observed features\n",
    "!qiime diversity alpha-group-significance \\\n",
    "    --i-alpha-diversity {path}/src-analysis/diversity-analysis/results-rar6000/alpha-diversity-results-non-filtered/observed_features_vector.qza \\\n",
    "    --m-metadata-file {path}/metadata/case_control_metadata_remove_h1n1_filtered2.tsv \\\n",
    "    --o-visualization {path}/src-analysis/diversity-analysis/results-rar6000/alpha-diversity-results-non-filtered/observed-features-group-significance.qzv"
   ],
   "metadata": {
    "collapsed": false,
    "ExecuteTime": {
     "end_time": "2024-08-26T19:07:31.410187Z",
     "start_time": "2024-08-26T19:06:47.810076Z"
    }
   },
   "id": "f6df23ade949b016",
   "execution_count": 102
  },
  {
   "cell_type": "code",
   "outputs": [
    {
     "name": "stdout",
     "output_type": "stream",
     "text": [
      "\u001B[32mSaved SampleData[AlphaDiversity] to: /Users/cheesemania/PycharmProjects/mscthesis_wrkdir/src-analysis/diversity-analysis/results-rar6000/alpha-diversity-results-non-filtered/shannon_vector.qza\u001B[0m\r\n",
      "\u001B[0m"
     ]
    }
   ],
   "source": [
    "# Final feature table of case-control samples rarefied at 6000\n",
    "# Shannon diversity index\n",
    "!qiime diversity alpha \\\n",
    "    --i-table {path}/src-analysis/feature-table/health-disease-case-control/case_control_rarefied6000_feature_table_remove_h1n1_filtered2.qza \\\n",
    "    --p-metric 'shannon' \\\n",
    "    --o-alpha-diversity {path}/src-analysis/diversity-analysis/results-rar6000/alpha-diversity-results-non-filtered/shannon_vector.qza"
   ],
   "metadata": {
    "collapsed": false,
    "ExecuteTime": {
     "end_time": "2024-08-26T19:08:16.679413Z",
     "start_time": "2024-08-26T19:07:40.859113Z"
    }
   },
   "id": "546a81dd34f9926a",
   "execution_count": 103
  },
  {
   "cell_type": "code",
   "outputs": [
    {
     "name": "stdout",
     "output_type": "stream",
     "text": [
      "\u001B[32mSaved Visualization to: /Users/cheesemania/PycharmProjects/mscthesis_wrkdir/src-analysis/diversity-analysis/results-rar6000/alpha-diversity-results-non-filtered/shannon-group-significance.qzv\u001B[0m\r\n",
      "\u001B[0m"
     ]
    }
   ],
   "source": [
    "# Shannon diversity index\n",
    "!qiime diversity alpha-group-significance \\\n",
    "    --i-alpha-diversity {path}/src-analysis/diversity-analysis/results-rar6000/alpha-diversity-results-non-filtered/shannon_vector.qza \\\n",
    "    --m-metadata-file {path}/metadata/case_control_metadata_remove_h1n1_filtered2.tsv \\\n",
    "    --o-visualization {path}/src-analysis/diversity-analysis/results-rar6000/alpha-diversity-results-non-filtered/shannon-group-significance.qzv"
   ],
   "metadata": {
    "collapsed": false,
    "ExecuteTime": {
     "end_time": "2024-08-26T19:08:56.956266Z",
     "start_time": "2024-08-26T19:08:24.963747Z"
    }
   },
   "id": "b3ca73f88b467805",
   "execution_count": 104
  },
  {
   "cell_type": "markdown",
   "source": [
    "### Filtered non-resident fungi from the rarefied6000 feature table"
   ],
   "metadata": {
    "collapsed": false
   },
   "id": "85f741e99f696dde"
  },
  {
   "cell_type": "code",
   "outputs": [
    {
     "name": "stdout",
     "output_type": "stream",
     "text": [
      "\u001B[32mSaved FeatureTable[Frequency] to: /Users/cheesemania/PycharmProjects/mscthesis_wrkdir/src-analysis/diversity-analysis/results-rar6000/alpha-diversity-results-filt-nonresident/case_control_rarefied6000_filt_nonresident_feature_table.qza\u001B[0m\r\n",
      "\u001B[0m"
     ]
    }
   ],
   "source": [
    "# Filter non-resident fungi from case_control_origi_rarefied6000_table\n",
    "!qiime feature-table filter-features \\\n",
    "    --i-table {path}/src-analysis/feature-table/health-disease-case-control/case_control_rarefied6000_feature_table_remove_h1n1_filtered2.qza \\\n",
    "    --m-metadata-file {path}/metadata/fungal-traits/non-resident_ids.tsv \\\n",
    "    --p-exclude-ids True \\\n",
    "    --o-filtered-table {path}/src-analysis/diversity-analysis/results-rar6000/alpha-diversity-results-filt-nonresident/case_control_rarefied6000_filt_nonresident_feature_table.qza"
   ],
   "metadata": {
    "collapsed": false,
    "ExecuteTime": {
     "end_time": "2024-08-26T19:11:05.017473Z",
     "start_time": "2024-08-26T19:10:33.873985Z"
    }
   },
   "id": "cbdc123941122e40",
   "execution_count": 105
  },
  {
   "cell_type": "code",
   "outputs": [
    {
     "name": "stdout",
     "output_type": "stream",
     "text": [
      "\u001B[32mSaved Visualization to: /Users/cheesemania/PycharmProjects/mscthesis_wrkdir/src-analysis/diversity-analysis/results-rar6000/alpha-diversity-results-filt-nonresident/case_control_rarefied6000_filt_nonresident_feature_table.qzv\u001B[0m\r\n",
      "\u001B[0m"
     ]
    }
   ],
   "source": [
    "!qiime feature-table summarize \\\n",
    "    --i-table {path}/src-analysis/diversity-analysis/results-rar6000/alpha-diversity-results-filt-nonresident/case_control_rarefied6000_filt_nonresident_feature_table.qza \\\n",
    "    --o-visualization {path}/src-analysis/diversity-analysis/results-rar6000/alpha-diversity-results-filt-nonresident/case_control_rarefied6000_filt_nonresident_feature_table.qzv"
   ],
   "metadata": {
    "collapsed": false,
    "ExecuteTime": {
     "end_time": "2024-08-26T19:11:46.319831Z",
     "start_time": "2024-08-26T19:11:14.024308Z"
    }
   },
   "id": "6f27ecb7bd36626b",
   "execution_count": 106
  },
  {
   "cell_type": "code",
   "outputs": [
    {
     "name": "stdout",
     "output_type": "stream",
     "text": [
      "\u001B[32mSaved SampleData[AlphaDiversity] to: /Users/cheesemania/PycharmProjects/mscthesis_wrkdir/src-analysis/diversity-analysis/results-rar6000/alpha-diversity-results-filt-nonresident/observed_features_vector.qza\u001B[0m\r\n",
      "\u001B[0m"
     ]
    }
   ],
   "source": [
    "# Observed features\n",
    "!qiime diversity alpha \\\n",
    "    --i-table {path}/src-analysis/diversity-analysis/results-rar6000/alpha-diversity-results-filt-nonresident/case_control_rarefied6000_filt_nonresident_feature_table.qza \\\n",
    "    --p-metric 'observed_features' \\\n",
    "    --o-alpha-diversity {path}/src-analysis/diversity-analysis/results-rar6000/alpha-diversity-results-filt-nonresident/observed_features_vector.qza"
   ],
   "metadata": {
    "collapsed": false,
    "ExecuteTime": {
     "end_time": "2024-08-26T19:13:07.774889Z",
     "start_time": "2024-08-26T19:12:30.047550Z"
    }
   },
   "id": "e6be09b5798fd984",
   "execution_count": 107
  },
  {
   "cell_type": "code",
   "outputs": [
    {
     "name": "stdout",
     "output_type": "stream",
     "text": [
      "\u001B[32mSaved Visualization to: /Users/cheesemania/PycharmProjects/mscthesis_wrkdir/src-analysis/diversity-analysis/results-rar6000/alpha-diversity-results-filt-nonresident/observed-features-group-significance.qzv\u001B[0m\r\n",
      "\u001B[0m"
     ]
    }
   ],
   "source": [
    "# Observed features\n",
    "!qiime diversity alpha-group-significance \\\n",
    "    --i-alpha-diversity {path}/src-analysis/diversity-analysis/results-rar6000/alpha-diversity-results-filt-nonresident/observed_features_vector.qza \\\n",
    "    --m-metadata-file {path}/metadata/case_control_metadata_remove_h1n1_filtered2.tsv \\\n",
    "    --o-visualization {path}/src-analysis/diversity-analysis/results-rar6000/alpha-diversity-results-filt-nonresident/observed-features-group-significance.qzv"
   ],
   "metadata": {
    "collapsed": false,
    "ExecuteTime": {
     "end_time": "2024-08-26T19:15:51.689128Z",
     "start_time": "2024-08-26T19:15:16.763778Z"
    }
   },
   "id": "7fb992cc2f7db587",
   "execution_count": 108
  },
  {
   "cell_type": "code",
   "outputs": [
    {
     "name": "stdout",
     "output_type": "stream",
     "text": [
      "\u001B[32mSaved SampleData[AlphaDiversity] to: /Users/cheesemania/PycharmProjects/mscthesis_wrkdir/src-analysis/diversity-analysis/results-rar6000/alpha-diversity-results-filt-nonresident/shannon_vector.qza\u001B[0m\r\n",
      "\u001B[0m"
     ]
    }
   ],
   "source": [
    "# Shannon diversity index\n",
    "!qiime diversity alpha \\\n",
    "    --i-table {path}/src-analysis/diversity-analysis/results-rar6000/alpha-diversity-results-filt-nonresident/case_control_rarefied6000_filt_nonresident_feature_table.qza \\\n",
    "    --p-metric 'shannon' \\\n",
    "    --o-alpha-diversity {path}/src-analysis/diversity-analysis/results-rar6000/alpha-diversity-results-filt-nonresident/shannon_vector.qza"
   ],
   "metadata": {
    "collapsed": false,
    "ExecuteTime": {
     "end_time": "2024-08-26T19:21:56.182505Z",
     "start_time": "2024-08-26T19:21:22.590962Z"
    }
   },
   "id": "ea12b90ad82bd0de",
   "execution_count": 109
  },
  {
   "cell_type": "code",
   "outputs": [
    {
     "name": "stdout",
     "output_type": "stream",
     "text": [
      "\u001B[32mSaved Visualization to: /Users/cheesemania/PycharmProjects/mscthesis_wrkdir/src-analysis/diversity-analysis/results-rar6000/alpha-diversity-results-filt-nonresident/shannon-group-significance.qzv\u001B[0m\r\n",
      "\u001B[0m"
     ]
    }
   ],
   "source": [
    "# Shannon diversity index\n",
    "!qiime diversity alpha-group-significance \\\n",
    "    --i-alpha-diversity {path}/src-analysis/diversity-analysis/results-rar6000/alpha-diversity-results-filt-nonresident/shannon_vector.qza \\\n",
    "    --m-metadata-file {path}/metadata/case_control_metadata_remove_h1n1_filtered2.tsv \\\n",
    "    --o-visualization {path}/src-analysis/diversity-analysis/results-rar6000/alpha-diversity-results-filt-nonresident/shannon-group-significance.qzv"
   ],
   "metadata": {
    "collapsed": false,
    "ExecuteTime": {
     "end_time": "2024-08-26T19:22:35.339802Z",
     "start_time": "2024-08-26T19:22:02.320927Z"
    }
   },
   "id": "611cd61a2f9cd1d9",
   "execution_count": 110
  },
  {
   "cell_type": "markdown",
   "source": [
    "### Subsetting the feature table (case_control_origi_rarefied6000_table) with only non-resident fungi"
   ],
   "metadata": {
    "collapsed": false
   },
   "id": "9d0b42e03f0cc4d8"
  },
  {
   "cell_type": "code",
   "outputs": [
    {
     "name": "stdout",
     "output_type": "stream",
     "text": [
      "\u001B[32mSaved FeatureTable[Frequency] to: /Users/cheesemania/PycharmProjects/mscthesis_wrkdir/src-analysis/diversity-analysis/results-rar6000/alpha-diversity-results-nonresident/case_control_rarefied6000_nonresident_feature_table.qza\u001B[0m\r\n",
      "\u001B[0m"
     ]
    }
   ],
   "source": [
    "# Retain only non-resident fungi in case_control_origi_rarefied6000_table\n",
    "!qiime feature-table filter-features \\\n",
    "    --i-table {path}/src-analysis/feature-table/health-disease-case-control/case_control_rarefied6000_feature_table_remove_h1n1_filtered2.qza \\\n",
    "    --m-metadata-file {path}/metadata/fungal-traits/non-resident_ids.tsv \\\n",
    "    --p-exclude-ids False \\\n",
    "    --o-filtered-table {path}/src-analysis/diversity-analysis/results-rar6000/alpha-diversity-results-nonresident/case_control_rarefied6000_nonresident_feature_table.qza"
   ],
   "metadata": {
    "collapsed": false,
    "ExecuteTime": {
     "end_time": "2024-08-26T19:26:00.722563Z",
     "start_time": "2024-08-26T19:25:33.449659Z"
    }
   },
   "id": "361010ca57441aea",
   "execution_count": 111
  },
  {
   "cell_type": "code",
   "outputs": [
    {
     "name": "stdout",
     "output_type": "stream",
     "text": [
      "\u001B[32mSaved Visualization to: /Users/cheesemania/PycharmProjects/mscthesis_wrkdir/src-analysis/diversity-analysis/results-rar6000/alpha-diversity-results-nonresident/case_control_rarefied6000_nonresident_feature_table.qzv\u001B[0m\r\n",
      "\u001B[0m"
     ]
    }
   ],
   "source": [
    "!qiime feature-table summarize \\\n",
    "    --i-table {path}/src-analysis/diversity-analysis/results-rar6000/alpha-diversity-results-nonresident/case_control_rarefied6000_nonresident_feature_table.qza \\\n",
    "    --o-visualization {path}/src-analysis/diversity-analysis/results-rar6000/alpha-diversity-results-nonresident/case_control_rarefied6000_nonresident_feature_table.qzv"
   ],
   "metadata": {
    "collapsed": false,
    "ExecuteTime": {
     "end_time": "2024-08-26T19:26:39.345617Z",
     "start_time": "2024-08-26T19:26:06.143147Z"
    }
   },
   "id": "ef6f78179398a95f",
   "execution_count": 112
  },
  {
   "cell_type": "code",
   "outputs": [
    {
     "name": "stdout",
     "output_type": "stream",
     "text": [
      "\u001B[32mSaved SampleData[AlphaDiversity] to: /Users/cheesemania/PycharmProjects/mscthesis_wrkdir/src-analysis/diversity-analysis/results-rar6000/alpha-diversity-results-nonresident/observed_features_vector.qza\u001B[0m\r\n",
      "\u001B[0m"
     ]
    }
   ],
   "source": [
    "# Observed features\n",
    "!qiime diversity alpha \\\n",
    "    --i-table {path}/src-analysis/diversity-analysis/results-rar6000/alpha-diversity-results-nonresident/case_control_rarefied6000_nonresident_feature_table.qza \\\n",
    "    --p-metric 'observed_features' \\\n",
    "    --o-alpha-diversity {path}/src-analysis/diversity-analysis/results-rar6000/alpha-diversity-results-nonresident/observed_features_vector.qza"
   ],
   "metadata": {
    "collapsed": false,
    "ExecuteTime": {
     "end_time": "2024-08-26T19:27:24.661110Z",
     "start_time": "2024-08-26T19:26:48.948874Z"
    }
   },
   "id": "e08fd6d63e4dd1f4",
   "execution_count": 113
  },
  {
   "cell_type": "code",
   "outputs": [
    {
     "name": "stdout",
     "output_type": "stream",
     "text": [
      "\u001B[32mSaved Visualization to: /Users/cheesemania/PycharmProjects/mscthesis_wrkdir/src-analysis/diversity-analysis/results-rar6000/alpha-diversity-results-nonresident/observed-features-group-significance.qzv\u001B[0m\r\n",
      "\u001B[0m"
     ]
    }
   ],
   "source": [
    "# Observed features\n",
    "!qiime diversity alpha-group-significance \\\n",
    "    --i-alpha-diversity {path}/src-analysis/diversity-analysis/results-rar6000/alpha-diversity-results-nonresident/observed_features_vector.qza \\\n",
    "    --m-metadata-file {path}/metadata/case_control_metadata_remove_h1n1_filtered2.tsv \\\n",
    "    --o-visualization {path}/src-analysis/diversity-analysis/results-rar6000/alpha-diversity-results-nonresident/observed-features-group-significance.qzv"
   ],
   "metadata": {
    "collapsed": false,
    "ExecuteTime": {
     "end_time": "2024-08-26T19:34:17.597672Z",
     "start_time": "2024-08-26T19:33:43.080289Z"
    }
   },
   "id": "4f3a9ee7e505b008",
   "execution_count": 114
  },
  {
   "cell_type": "code",
   "outputs": [
    {
     "name": "stdout",
     "output_type": "stream",
     "text": [
      "\u001B[32mSaved SampleData[AlphaDiversity] to: /Users/cheesemania/PycharmProjects/mscthesis_wrkdir/src-analysis/diversity-analysis/results-rar6000/alpha-diversity-results-nonresident/shannon_vector.qza\u001B[0m\r\n",
      "\u001B[0m"
     ]
    }
   ],
   "source": [
    "# Shannon diversity index\n",
    "!qiime diversity alpha \\\n",
    "    --i-table {path}/src-analysis/diversity-analysis/results-rar6000/alpha-diversity-results-nonresident/case_control_rarefied6000_nonresident_feature_table.qza \\\n",
    "    --p-metric 'shannon' \\\n",
    "    --o-alpha-diversity {path}/src-analysis/diversity-analysis/results-rar6000/alpha-diversity-results-nonresident/shannon_vector.qza"
   ],
   "metadata": {
    "collapsed": false,
    "ExecuteTime": {
     "end_time": "2024-08-26T19:35:24.533229Z",
     "start_time": "2024-08-26T19:34:50.038398Z"
    }
   },
   "id": "3e6ccb31428d8fdc",
   "execution_count": 115
  },
  {
   "cell_type": "code",
   "outputs": [
    {
     "name": "stdout",
     "output_type": "stream",
     "text": [
      "\u001B[32mSaved Visualization to: /Users/cheesemania/PycharmProjects/mscthesis_wrkdir/src-analysis/diversity-analysis/results-rar6000/alpha-diversity-results-nonresident/shannon-group-significance.qzv\u001B[0m\r\n",
      "\u001B[0m"
     ]
    }
   ],
   "source": [
    "# Shannon diversity index\n",
    "!qiime diversity alpha-group-significance \\\n",
    "    --i-alpha-diversity {path}/src-analysis/diversity-analysis/results-rar6000/alpha-diversity-results-nonresident/shannon_vector.qza \\\n",
    "    --m-metadata-file {path}/metadata/case_control_metadata_remove_h1n1_filtered2.tsv \\\n",
    "    --o-visualization {path}/src-analysis/diversity-analysis/results-rar6000/alpha-diversity-results-nonresident/shannon-group-significance.qzv"
   ],
   "metadata": {
    "collapsed": false,
    "ExecuteTime": {
     "end_time": "2024-08-26T19:36:44.350146Z",
     "start_time": "2024-08-26T19:36:12.979723Z"
    }
   },
   "id": "7e75f3adc39822d6",
   "execution_count": 116
  },
  {
   "cell_type": "markdown",
   "source": [
    "#### Explore the \"observed-features-group-significance\" metadata"
   ],
   "metadata": {
    "collapsed": false
   },
   "id": "6bb8eb8039b239fe"
  },
  {
   "cell_type": "code",
   "outputs": [],
   "source": [
    "df_alpha_of = pd.read_csv(f'{path}/src-analysis/diversity-analysis/core-metrics-results-remove-h1n1/observed-features-case-control-significance.tsv', sep='\\t')"
   ],
   "metadata": {
    "collapsed": false,
    "ExecuteTime": {
     "end_time": "2024-08-20T20:33:46.548146Z",
     "start_time": "2024-08-20T20:33:46.519682Z"
    }
   },
   "id": "c06ca40c27d30277",
   "execution_count": 10
  },
  {
   "cell_type": "code",
   "outputs": [
    {
     "data": {
      "text/plain": "     id             Project_ID Sequencing_Region Case_Control  \\\n0  S675  crohns-paper_37122605              ITS1         Case   \n1  S683  crohns-paper_37122605              ITS1         Case   \n2  S691  crohns-paper_37122605              ITS1         Case   \n3  S699  crohns-paper_37122605              ITS1         Case   \n4  S707  crohns-paper_37122605              ITS1         Case   \n\n    Disease_Level_1                     Health_Status Disease_Level_2  \\\n0  Gastrointestinal  Inflammatory bowel disease (IBD)             IBD   \n1  Gastrointestinal  Inflammatory bowel disease (IBD)             IBD   \n2  Gastrointestinal  Inflammatory bowel disease (IBD)             IBD   \n3  Gastrointestinal  Inflammatory bowel disease (IBD)             IBD   \n4  Gastrointestinal  Inflammatory bowel disease (IBD)             IBD   \n\n  Disease_Level_3                              Disease_Subgroup  \\\n0   active_new_CD  active, newly diagnosed Crohn's disease (CD)   \n1   active_new_CD  active, newly diagnosed Crohn's disease (CD)   \n2   active_new_CD  active, newly diagnosed Crohn's disease (CD)   \n3   active_new_CD  active, newly diagnosed Crohn's disease (CD)   \n4              CD       clinical remission Crohn's disease (CD)   \n\n           IBD_Subgroup GeoLoc_Continent GeoLoc_Country  \\\n0  Crohn's disease (CD)           Europe         Poland   \n1  Crohn's disease (CD)           Europe         Poland   \n2  Crohn's disease (CD)           Europe         Poland   \n3  Crohn's disease (CD)           Europe         Poland   \n4  Crohn's disease (CD)           Europe         Poland   \n\n                             GeoLoc_Region GeoLoc_City Host_Sex  \\\n0  Lesser Poland Voivodeship (Małopolskie)      Krakow  Unknown   \n1  Lesser Poland Voivodeship (Małopolskie)      Krakow  Unknown   \n2  Lesser Poland Voivodeship (Małopolskie)      Krakow  Unknown   \n3  Lesser Poland Voivodeship (Małopolskie)      Krakow  Unknown   \n4  Lesser Poland Voivodeship (Małopolskie)      Krakow  Unknown   \n\n  Host_Age_Category Host_Age_Decade Host_Age Age_Detail_Level  \\\n0           Unknown         Unknown  Unknown               L2   \n1           Unknown         Unknown  Unknown               L2   \n2           Unknown         Unknown  Unknown               L2   \n3           Unknown         Unknown  Unknown               L2   \n4           Unknown         Unknown  Unknown               L2   \n\n   observed_features  \n0                 32  \n1                  8  \n2                 19  \n3                 33  \n4                 10  ",
      "text/html": "<div>\n<style scoped>\n    .dataframe tbody tr th:only-of-type {\n        vertical-align: middle;\n    }\n\n    .dataframe tbody tr th {\n        vertical-align: top;\n    }\n\n    .dataframe thead th {\n        text-align: right;\n    }\n</style>\n<table border=\"1\" class=\"dataframe\">\n  <thead>\n    <tr style=\"text-align: right;\">\n      <th></th>\n      <th>id</th>\n      <th>Project_ID</th>\n      <th>Sequencing_Region</th>\n      <th>Case_Control</th>\n      <th>Disease_Level_1</th>\n      <th>Health_Status</th>\n      <th>Disease_Level_2</th>\n      <th>Disease_Level_3</th>\n      <th>Disease_Subgroup</th>\n      <th>IBD_Subgroup</th>\n      <th>GeoLoc_Continent</th>\n      <th>GeoLoc_Country</th>\n      <th>GeoLoc_Region</th>\n      <th>GeoLoc_City</th>\n      <th>Host_Sex</th>\n      <th>Host_Age_Category</th>\n      <th>Host_Age_Decade</th>\n      <th>Host_Age</th>\n      <th>Age_Detail_Level</th>\n      <th>observed_features</th>\n    </tr>\n  </thead>\n  <tbody>\n    <tr>\n      <th>0</th>\n      <td>S675</td>\n      <td>crohns-paper_37122605</td>\n      <td>ITS1</td>\n      <td>Case</td>\n      <td>Gastrointestinal</td>\n      <td>Inflammatory bowel disease (IBD)</td>\n      <td>IBD</td>\n      <td>active_new_CD</td>\n      <td>active, newly diagnosed Crohn's disease (CD)</td>\n      <td>Crohn's disease (CD)</td>\n      <td>Europe</td>\n      <td>Poland</td>\n      <td>Lesser Poland Voivodeship (Małopolskie)</td>\n      <td>Krakow</td>\n      <td>Unknown</td>\n      <td>Unknown</td>\n      <td>Unknown</td>\n      <td>Unknown</td>\n      <td>L2</td>\n      <td>32</td>\n    </tr>\n    <tr>\n      <th>1</th>\n      <td>S683</td>\n      <td>crohns-paper_37122605</td>\n      <td>ITS1</td>\n      <td>Case</td>\n      <td>Gastrointestinal</td>\n      <td>Inflammatory bowel disease (IBD)</td>\n      <td>IBD</td>\n      <td>active_new_CD</td>\n      <td>active, newly diagnosed Crohn's disease (CD)</td>\n      <td>Crohn's disease (CD)</td>\n      <td>Europe</td>\n      <td>Poland</td>\n      <td>Lesser Poland Voivodeship (Małopolskie)</td>\n      <td>Krakow</td>\n      <td>Unknown</td>\n      <td>Unknown</td>\n      <td>Unknown</td>\n      <td>Unknown</td>\n      <td>L2</td>\n      <td>8</td>\n    </tr>\n    <tr>\n      <th>2</th>\n      <td>S691</td>\n      <td>crohns-paper_37122605</td>\n      <td>ITS1</td>\n      <td>Case</td>\n      <td>Gastrointestinal</td>\n      <td>Inflammatory bowel disease (IBD)</td>\n      <td>IBD</td>\n      <td>active_new_CD</td>\n      <td>active, newly diagnosed Crohn's disease (CD)</td>\n      <td>Crohn's disease (CD)</td>\n      <td>Europe</td>\n      <td>Poland</td>\n      <td>Lesser Poland Voivodeship (Małopolskie)</td>\n      <td>Krakow</td>\n      <td>Unknown</td>\n      <td>Unknown</td>\n      <td>Unknown</td>\n      <td>Unknown</td>\n      <td>L2</td>\n      <td>19</td>\n    </tr>\n    <tr>\n      <th>3</th>\n      <td>S699</td>\n      <td>crohns-paper_37122605</td>\n      <td>ITS1</td>\n      <td>Case</td>\n      <td>Gastrointestinal</td>\n      <td>Inflammatory bowel disease (IBD)</td>\n      <td>IBD</td>\n      <td>active_new_CD</td>\n      <td>active, newly diagnosed Crohn's disease (CD)</td>\n      <td>Crohn's disease (CD)</td>\n      <td>Europe</td>\n      <td>Poland</td>\n      <td>Lesser Poland Voivodeship (Małopolskie)</td>\n      <td>Krakow</td>\n      <td>Unknown</td>\n      <td>Unknown</td>\n      <td>Unknown</td>\n      <td>Unknown</td>\n      <td>L2</td>\n      <td>33</td>\n    </tr>\n    <tr>\n      <th>4</th>\n      <td>S707</td>\n      <td>crohns-paper_37122605</td>\n      <td>ITS1</td>\n      <td>Case</td>\n      <td>Gastrointestinal</td>\n      <td>Inflammatory bowel disease (IBD)</td>\n      <td>IBD</td>\n      <td>CD</td>\n      <td>clinical remission Crohn's disease (CD)</td>\n      <td>Crohn's disease (CD)</td>\n      <td>Europe</td>\n      <td>Poland</td>\n      <td>Lesser Poland Voivodeship (Małopolskie)</td>\n      <td>Krakow</td>\n      <td>Unknown</td>\n      <td>Unknown</td>\n      <td>Unknown</td>\n      <td>Unknown</td>\n      <td>L2</td>\n      <td>10</td>\n    </tr>\n  </tbody>\n</table>\n</div>"
     },
     "execution_count": 11,
     "metadata": {},
     "output_type": "execute_result"
    }
   ],
   "source": [
    "df_alpha_of.head()"
   ],
   "metadata": {
    "collapsed": false,
    "ExecuteTime": {
     "end_time": "2024-08-20T20:33:47.580339Z",
     "start_time": "2024-08-20T20:33:47.567852Z"
    }
   },
   "id": "b47c20b19ddb646b",
   "execution_count": 11
  },
  {
   "cell_type": "code",
   "outputs": [
    {
     "name": "stdout",
     "output_type": "stream",
     "text": [
      "          Disease_Level_2 Case_Control  sample_count  project_count\n",
      "0                      AD         Case            17              1\n",
      "1                      AD      Control            17              1\n",
      "2                      AN         Case            70              1\n",
      "3                      AN      Control            43              1\n",
      "4   Alcohol-Associated-LD         Case           152              2\n",
      "5   Alcohol-Associated-LD      Control            22              2\n",
      "6                     CDI         Case            33              1\n",
      "7                     CDI      Control            22              1\n",
      "8                     CKD         Case            90              1\n",
      "9                     CKD      Control           150              1\n",
      "10               COVID-19         Case           103              2\n",
      "11               COVID-19      Control            40              3\n",
      "12                    GDM         Case            42              1\n",
      "13                    GDM      Control            46              1\n",
      "14                     HD         Case            63              1\n",
      "15                     HD      Control            42              1\n",
      "16                    HIV         Case            23              1\n",
      "17                    HIV      Control            12              1\n",
      "18                    IBD         Case           161              3\n",
      "19                    IBD      Control            90              3\n",
      "20                    IBS         Case            80              1\n",
      "21                    IBS      Control            64              1\n",
      "22               Melanoma         Case            19              1\n",
      "23               Melanoma      Control            17              1\n",
      "24                  NAFLD         Case            50              1\n",
      "25                  NAFLD      Control             8              1\n",
      "26                Obesity         Case             7              1\n",
      "27                Obesity      Control             2              1\n",
      "28                     RA         Case           141              2\n",
      "29                     RA      Control            64              2\n",
      "30                   T1DM         Case            84              1\n",
      "31                   T1DM      Control            41              1\n",
      "32                   T2DM         Case            56              2\n",
      "33                   T2DM      Control            28              2\n"
     ]
    }
   ],
   "source": [
    "# Group by 'disease_level_2' and 'case_control' and count both sample and project counts\n",
    "grouped_data_diseases = df_alpha_of.groupby(['Disease_Level_2', 'Case_Control']).agg(\n",
    "    sample_count=('id', 'size'),  # Count of samples\n",
    "    project_count=('Project_ID', 'nunique')  # Count of unique projects\n",
    ").reset_index()\n",
    "\n",
    "# Display the table\n",
    "print(grouped_data_diseases)"
   ],
   "metadata": {
    "collapsed": false,
    "ExecuteTime": {
     "end_time": "2024-08-20T20:39:56.017210Z",
     "start_time": "2024-08-20T20:39:55.979877Z"
    }
   },
   "id": "a3fbeebd3024c18d",
   "execution_count": 16
  },
  {
   "cell_type": "code",
   "outputs": [
    {
     "name": "stdout",
     "output_type": "stream",
     "text": [
      "               Project_ID        Disease_Level_2 Case_Control  sample_count\n",
      "0              PRJDB13192               COVID-19         Case            73\n",
      "1              PRJDB13192               COVID-19      Control            16\n",
      "2              PRJEB35665               Melanoma         Case            19\n",
      "3              PRJEB35665               Melanoma      Control            17\n",
      "4              PRJEB38917                Obesity         Case             7\n",
      "5              PRJEB38917                Obesity      Control             2\n",
      "6              PRJEB38930                     AN         Case            70\n",
      "7              PRJEB38930                     AN      Control            43\n",
      "8              PRJEB42375                    IBS         Case            80\n",
      "9              PRJEB42375                    IBS      Control            64\n",
      "10             PRJEB46343                    HIV         Case            23\n",
      "11             PRJEB46343                    HIV      Control            12\n",
      "12             PRJEB53019                   T2DM         Case            10\n",
      "13             PRJEB53019                   T2DM      Control             5\n",
      "14            PRJNA419104                    CDI         Case            33\n",
      "15            PRJNA419104                    CDI      Control            22\n",
      "16            PRJNA517994  Alcohol-Associated-LD         Case            39\n",
      "17            PRJNA517994  Alcohol-Associated-LD      Control             8\n",
      "18            PRJNA590898                    IBD         Case            27\n",
      "19            PRJNA590898                    IBD      Control            14\n",
      "20            PRJNA607176                    IBD         Case            30\n",
      "21            PRJNA607176                    IBD      Control            37\n",
      "22            PRJNA637034               COVID-19      Control             1\n",
      "23            PRJNA647266                    CKD         Case            90\n",
      "24            PRJNA647266                    CKD      Control           150\n",
      "25            PRJNA662173                   T2DM         Case            46\n",
      "26            PRJNA662173                   T2DM      Control            23\n",
      "27            PRJNA698272                  NAFLD         Case            50\n",
      "28            PRJNA698272                  NAFLD      Control             8\n",
      "29            PRJNA703732  Alcohol-Associated-LD         Case           113\n",
      "30            PRJNA703732  Alcohol-Associated-LD      Control            14\n",
      "31            PRJNA735021                     RA         Case            45\n",
      "32            PRJNA735021                     RA      Control            35\n",
      "33            PRJNA751473                     AD         Case            17\n",
      "34            PRJNA751473                     AD      Control            17\n",
      "35            PRJNA756382                   T1DM         Case            84\n",
      "36            PRJNA756382                   T1DM      Control            41\n",
      "37            PRJNA778607                     HD         Case            63\n",
      "38            PRJNA778607                     HD      Control            42\n",
      "39            PRJNA791216                     RA         Case            96\n",
      "40            PRJNA791216                     RA      Control            29\n",
      "41            PRJNA794154               COVID-19         Case            30\n",
      "42            PRJNA794154               COVID-19      Control            23\n",
      "43            PRJNA813503                    GDM         Case            42\n",
      "44            PRJNA813503                    GDM      Control            46\n",
      "45  crohns-paper_37122605                    IBD         Case           104\n",
      "46  crohns-paper_37122605                    IBD      Control            39\n"
     ]
    }
   ],
   "source": [
    "grouped_data_case_control_per_project = df_alpha_of.groupby(['Project_ID', 'Disease_Level_2', 'Case_Control']).agg(sample_count=('id', 'size')).reset_index()\n",
    "\n",
    "# Display the table\n",
    "print(grouped_data_case_control_per_project)"
   ],
   "metadata": {
    "collapsed": false,
    "ExecuteTime": {
     "end_time": "2024-08-20T20:45:32.500081Z",
     "start_time": "2024-08-20T20:45:32.488290Z"
    }
   },
   "id": "173393319832600c",
   "execution_count": 22
  },
  {
   "cell_type": "markdown",
   "source": [
    "Compared the sample counts of every project before and after rarefaction - see the \"merged-before-after-rarefaction.tsv\" file."
   ],
   "metadata": {
    "collapsed": false
   },
   "id": "bfc9a944fd315ae0"
  },
  {
   "cell_type": "code",
   "outputs": [],
   "source": [
    "# Exclude four projects which the sample counts after rarefaction of either case or control group are less than 5.\n",
    "projects_to_exclude = ['PRJEB38917', 'PRJEB53019', 'PRJNA557226', 'PRJNA637034']\n",
    "\n",
    "df_alpha_of_filtered1 = df_alpha_of[~df_alpha_of['Project_ID'].isin(projects_to_exclude)]"
   ],
   "metadata": {
    "collapsed": false,
    "ExecuteTime": {
     "end_time": "2024-08-22T09:49:43.848490Z",
     "start_time": "2024-08-22T09:49:43.839415Z"
    }
   },
   "id": "9f22bf3d3ce40962",
   "execution_count": 24
  },
  {
   "cell_type": "code",
   "outputs": [
    {
     "data": {
      "text/plain": "21"
     },
     "execution_count": 26,
     "metadata": {},
     "output_type": "execute_result"
    }
   ],
   "source": [
    "df_alpha_of_filtered1['Project_ID'].nunique()"
   ],
   "metadata": {
    "collapsed": false,
    "ExecuteTime": {
     "end_time": "2024-08-22T09:51:43.065523Z",
     "start_time": "2024-08-22T09:51:43.060204Z"
    }
   },
   "id": "ada6728cd993a7ab",
   "execution_count": 26
  },
  {
   "cell_type": "code",
   "outputs": [],
   "source": [
    "df_alpha_of_filtered1.to_csv(f'{path}/src-analysis/diversity-analysis/core-metrics-results-remove-h1n1/observed-features-case-control-significance-filtered1.tsv', sep='\\t', index=False)"
   ],
   "metadata": {
    "collapsed": false,
    "ExecuteTime": {
     "end_time": "2024-08-22T09:53:57.485513Z",
     "start_time": "2024-08-22T09:53:57.450499Z"
    }
   },
   "id": "528080a5b669a64c",
   "execution_count": 27
  },
  {
   "cell_type": "markdown",
   "source": [
    "## Below is not relevant"
   ],
   "metadata": {
    "collapsed": false
   },
   "id": "64fb4fbba27333ec"
  },
  {
   "cell_type": "markdown",
   "source": [
    "### Test the associations between disease columns combined with case/control type and the corresponding diversity metrics (observed features)"
   ],
   "metadata": {
    "collapsed": false
   },
   "id": "40be11eabc293b0e"
  },
  {
   "cell_type": "markdown",
   "source": [
    "#### Subsetting based on Disease Level 1"
   ],
   "metadata": {
    "collapsed": false
   },
   "id": "d3b203df2a427c27"
  },
  {
   "cell_type": "markdown",
   "source": [
    "##### D1-Infectious"
   ],
   "metadata": {
    "collapsed": false
   },
   "id": "e7fb49f8eddc19f0"
  },
  {
   "cell_type": "code",
   "outputs": [
    {
     "name": "stdout",
     "output_type": "stream",
     "text": [
      "\u001B[32mSaved FeatureTable[Frequency] to: /Users/cheesemania/PycharmProjects/mscthesis_wrkdir/src-analysis/diversity-analysis/feature-table-subsets/D1_infectious_feature_table.qza\u001B[0m\r\n",
      "\u001B[0m"
     ]
    }
   ],
   "source": [
    "!qiime feature-table filter-samples \\\n",
    "    --i-table {path}/src-analysis/feature-table/health-disease-case-control/case_control_feature_table.qza \\\n",
    "    --m-metadata-file {path}/metadata/case_control_metadata.tsv \\\n",
    "    --p-where \"[Disease_Level_1]='Infectious' \" \\\n",
    "    --o-filtered-table {path}/src-analysis/diversity-analysis/feature-table-subsets/D1_infectious_feature_table.qza"
   ],
   "metadata": {
    "collapsed": false,
    "ExecuteTime": {
     "end_time": "2024-08-19T15:02:49.807022Z",
     "start_time": "2024-08-19T15:02:21.734559Z"
    }
   },
   "id": "1401ad17470d0606",
   "execution_count": 12
  },
  {
   "cell_type": "code",
   "outputs": [
    {
     "name": "stdout",
     "output_type": "stream",
     "text": [
      "\u001B[32mSaved FeatureTable[Frequency] to: /Users/cheesemania/PycharmProjects/mscthesis_wrkdir/src-analysis/diversity-analysis/core-metrics-results-D1-infectious/rarefied_table.qza\u001B[0m\r\n",
      "\u001B[32mSaved SampleData[AlphaDiversity] to: /Users/cheesemania/PycharmProjects/mscthesis_wrkdir/src-analysis/diversity-analysis/core-metrics-results-D1-infectious/observed_features_vector.qza\u001B[0m\r\n",
      "\u001B[32mSaved SampleData[AlphaDiversity] to: /Users/cheesemania/PycharmProjects/mscthesis_wrkdir/src-analysis/diversity-analysis/core-metrics-results-D1-infectious/shannon_vector.qza\u001B[0m\r\n",
      "\u001B[32mSaved SampleData[AlphaDiversity] to: /Users/cheesemania/PycharmProjects/mscthesis_wrkdir/src-analysis/diversity-analysis/core-metrics-results-D1-infectious/evenness_vector.qza\u001B[0m\r\n",
      "\u001B[32mSaved DistanceMatrix to: /Users/cheesemania/PycharmProjects/mscthesis_wrkdir/src-analysis/diversity-analysis/core-metrics-results-D1-infectious/jaccard_distance_matrix.qza\u001B[0m\r\n",
      "\u001B[32mSaved DistanceMatrix to: /Users/cheesemania/PycharmProjects/mscthesis_wrkdir/src-analysis/diversity-analysis/core-metrics-results-D1-infectious/bray_curtis_distance_matrix.qza\u001B[0m\r\n",
      "\u001B[32mSaved PCoAResults to: /Users/cheesemania/PycharmProjects/mscthesis_wrkdir/src-analysis/diversity-analysis/core-metrics-results-D1-infectious/jaccard_pcoa_results.qza\u001B[0m\r\n",
      "\u001B[32mSaved PCoAResults to: /Users/cheesemania/PycharmProjects/mscthesis_wrkdir/src-analysis/diversity-analysis/core-metrics-results-D1-infectious/bray_curtis_pcoa_results.qza\u001B[0m\r\n",
      "\u001B[32mSaved Visualization to: /Users/cheesemania/PycharmProjects/mscthesis_wrkdir/src-analysis/diversity-analysis/core-metrics-results-D1-infectious/jaccard_emperor.qzv\u001B[0m\r\n",
      "\u001B[32mSaved Visualization to: /Users/cheesemania/PycharmProjects/mscthesis_wrkdir/src-analysis/diversity-analysis/core-metrics-results-D1-infectious/bray_curtis_emperor.qzv\u001B[0m\r\n",
      "\u001B[0m"
     ]
    }
   ],
   "source": [
    "!qiime diversity core-metrics \\\n",
    "    --i-table {path}/src-analysis/diversity-analysis/feature-table-subsets/D1_infectious_feature_table.qza \\\n",
    "    --p-sampling-depth 3000 \\\n",
    "    --m-metadata-file {path}/metadata/case_control_metadata.tsv \\\n",
    "    --output-dir {path}/src-analysis/diversity-analysis/core-metrics-results-D1-infectious"
   ],
   "metadata": {
    "collapsed": false,
    "ExecuteTime": {
     "end_time": "2024-08-19T15:06:25.707163Z",
     "start_time": "2024-08-19T15:02:52.896871Z"
    }
   },
   "id": "9fd8e59ed4b0fab1",
   "execution_count": 13
  },
  {
   "cell_type": "code",
   "outputs": [
    {
     "name": "stdout",
     "output_type": "stream",
     "text": [
      "\u001B[32mSaved Visualization to: /Users/cheesemania/PycharmProjects/mscthesis_wrkdir/src-analysis/diversity-analysis/core-metrics-results-D1-infectious/D1-infectious-observed-features-group-significance.qzv\u001B[0m\r\n",
      "\u001B[0m"
     ]
    }
   ],
   "source": [
    "!qiime diversity alpha-group-significance \\\n",
    "    --i-alpha-diversity {path}/src-analysis/diversity-analysis/core-metrics-results-D1-infectious/observed_features_vector.qza \\\n",
    "    --m-metadata-file {path}/metadata/case_control_metadata.tsv \\\n",
    "    --o-visualization {path}/src-analysis/diversity-analysis/core-metrics-results-D1-infectious/D1-infectious-observed-features-group-significance.qzv"
   ],
   "metadata": {
    "collapsed": false,
    "ExecuteTime": {
     "end_time": "2024-08-19T15:07:14.820500Z",
     "start_time": "2024-08-19T15:06:45.842667Z"
    }
   },
   "id": "bf601468f0ff5bc3",
   "execution_count": 14
  },
  {
   "cell_type": "markdown",
   "source": [
    "##### D1-Gastrointestinal"
   ],
   "metadata": {
    "collapsed": false
   },
   "id": "1b129fcf3775d15a"
  },
  {
   "cell_type": "code",
   "outputs": [
    {
     "name": "stdout",
     "output_type": "stream",
     "text": [
      "\u001B[32mSaved FeatureTable[Frequency] to: /Users/cheesemania/PycharmProjects/mscthesis_wrkdir/src-analysis/diversity-analysis/feature-table-subsets/D1_gastrointestinal_feature_table.qza\u001B[0m\r\n",
      "\u001B[0m"
     ]
    }
   ],
   "source": [
    "!qiime feature-table filter-samples \\\n",
    "    --i-table {path}/src-analysis/feature-table/health-disease-case-control/case_control_feature_table.qza \\\n",
    "    --m-metadata-file {path}/metadata/case_control_metadata.tsv \\\n",
    "    --p-where \"[Disease_Level_1]='Gastrointestinal' \" \\\n",
    "    --o-filtered-table {path}/src-analysis/diversity-analysis/feature-table-subsets/D1_gastrointestinal_feature_table.qza"
   ],
   "metadata": {
    "collapsed": false,
    "ExecuteTime": {
     "end_time": "2024-08-19T15:10:38.872061Z",
     "start_time": "2024-08-19T15:10:11.210381Z"
    }
   },
   "id": "dae65acb370fcf18",
   "execution_count": 15
  },
  {
   "cell_type": "code",
   "outputs": [
    {
     "name": "stdout",
     "output_type": "stream",
     "text": [
      "\u001B[32mSaved FeatureTable[Frequency] to: /Users/cheesemania/PycharmProjects/mscthesis_wrkdir/src-analysis/diversity-analysis/core-metrics-results-D1-gastrointestinal/rarefied_table.qza\u001B[0m\r\n",
      "\u001B[32mSaved SampleData[AlphaDiversity] to: /Users/cheesemania/PycharmProjects/mscthesis_wrkdir/src-analysis/diversity-analysis/core-metrics-results-D1-gastrointestinal/observed_features_vector.qza\u001B[0m\r\n",
      "\u001B[32mSaved SampleData[AlphaDiversity] to: /Users/cheesemania/PycharmProjects/mscthesis_wrkdir/src-analysis/diversity-analysis/core-metrics-results-D1-gastrointestinal/shannon_vector.qza\u001B[0m\r\n",
      "\u001B[32mSaved SampleData[AlphaDiversity] to: /Users/cheesemania/PycharmProjects/mscthesis_wrkdir/src-analysis/diversity-analysis/core-metrics-results-D1-gastrointestinal/evenness_vector.qza\u001B[0m\r\n",
      "\u001B[32mSaved DistanceMatrix to: /Users/cheesemania/PycharmProjects/mscthesis_wrkdir/src-analysis/diversity-analysis/core-metrics-results-D1-gastrointestinal/jaccard_distance_matrix.qza\u001B[0m\r\n",
      "\u001B[32mSaved DistanceMatrix to: /Users/cheesemania/PycharmProjects/mscthesis_wrkdir/src-analysis/diversity-analysis/core-metrics-results-D1-gastrointestinal/bray_curtis_distance_matrix.qza\u001B[0m\r\n",
      "\u001B[32mSaved PCoAResults to: /Users/cheesemania/PycharmProjects/mscthesis_wrkdir/src-analysis/diversity-analysis/core-metrics-results-D1-gastrointestinal/jaccard_pcoa_results.qza\u001B[0m\r\n",
      "\u001B[32mSaved PCoAResults to: /Users/cheesemania/PycharmProjects/mscthesis_wrkdir/src-analysis/diversity-analysis/core-metrics-results-D1-gastrointestinal/bray_curtis_pcoa_results.qza\u001B[0m\r\n",
      "\u001B[32mSaved Visualization to: /Users/cheesemania/PycharmProjects/mscthesis_wrkdir/src-analysis/diversity-analysis/core-metrics-results-D1-gastrointestinal/jaccard_emperor.qzv\u001B[0m\r\n",
      "\u001B[32mSaved Visualization to: /Users/cheesemania/PycharmProjects/mscthesis_wrkdir/src-analysis/diversity-analysis/core-metrics-results-D1-gastrointestinal/bray_curtis_emperor.qzv\u001B[0m\r\n",
      "\u001B[0m"
     ]
    }
   ],
   "source": [
    "!qiime diversity core-metrics \\\n",
    "    --i-table {path}/src-analysis/diversity-analysis/feature-table-subsets/D1_gastrointestinal_feature_table.qza \\\n",
    "    --p-sampling-depth 3000 \\\n",
    "    --m-metadata-file {path}/metadata/case_control_metadata.tsv \\\n",
    "    --output-dir {path}/src-analysis/diversity-analysis/core-metrics-results-D1-gastrointestinal"
   ],
   "metadata": {
    "collapsed": false,
    "ExecuteTime": {
     "end_time": "2024-08-19T15:14:11.170620Z",
     "start_time": "2024-08-19T15:10:41.061809Z"
    }
   },
   "id": "f15312f0af4d576a",
   "execution_count": 16
  },
  {
   "cell_type": "code",
   "outputs": [
    {
     "name": "stdout",
     "output_type": "stream",
     "text": [
      "\u001B[32mSaved Visualization to: /Users/cheesemania/PycharmProjects/mscthesis_wrkdir/src-analysis/diversity-analysis/core-metrics-results-D1-gastrointestinal/D1-gastrointestinal-observed-features-group-significance.qzv\u001B[0m\r\n",
      "\u001B[0m"
     ]
    }
   ],
   "source": [
    "!qiime diversity alpha-group-significance \\\n",
    "    --i-alpha-diversity {path}/src-analysis/diversity-analysis/core-metrics-results-D1-gastrointestinal/observed_features_vector.qza \\\n",
    "    --m-metadata-file {path}/metadata/case_control_metadata.tsv \\\n",
    "    --o-visualization {path}/src-analysis/diversity-analysis/core-metrics-results-D1-gastrointestinal/D1-gastrointestinal-observed-features-group-significance.qzv"
   ],
   "metadata": {
    "collapsed": false,
    "ExecuteTime": {
     "end_time": "2024-08-19T15:15:20.176673Z",
     "start_time": "2024-08-19T15:14:51.200263Z"
    }
   },
   "id": "48c94dabac9a205e",
   "execution_count": 17
  },
  {
   "cell_type": "markdown",
   "source": [
    "##### D1-Metabolic"
   ],
   "metadata": {
    "collapsed": false
   },
   "id": "2a3d22f81e410eaa"
  },
  {
   "cell_type": "code",
   "outputs": [
    {
     "name": "stdout",
     "output_type": "stream",
     "text": [
      "\u001B[32mSaved FeatureTable[Frequency] to: /Users/cheesemania/PycharmProjects/mscthesis_wrkdir/src-analysis/diversity-analysis/feature-table-subsets/D1_metabolic_feature_table.qza\u001B[0m\r\n",
      "\u001B[0m"
     ]
    }
   ],
   "source": [
    "!qiime feature-table filter-samples \\\n",
    "    --i-table {path}/src-analysis/feature-table/health-disease-case-control/case_control_feature_table.qza \\\n",
    "    --m-metadata-file {path}/metadata/case_control_metadata.tsv \\\n",
    "    --p-where \"[Disease_Level_1]='Metabolic' \" \\\n",
    "    --o-filtered-table {path}/src-analysis/diversity-analysis/feature-table-subsets/D1_metabolic_feature_table.qza"
   ],
   "metadata": {
    "collapsed": false,
    "ExecuteTime": {
     "end_time": "2024-08-19T15:24:03.449406Z",
     "start_time": "2024-08-19T15:23:36.410593Z"
    }
   },
   "id": "2d3df3c78e4cb02c",
   "execution_count": 22
  },
  {
   "cell_type": "code",
   "outputs": [
    {
     "name": "stdout",
     "output_type": "stream",
     "text": [
      "\u001B[32mSaved FeatureTable[Frequency] to: /Users/cheesemania/PycharmProjects/mscthesis_wrkdir/src-analysis/diversity-analysis/core-metrics-results-D1-metabolic/rarefied_table.qza\u001B[0m\r\n",
      "\u001B[32mSaved SampleData[AlphaDiversity] to: /Users/cheesemania/PycharmProjects/mscthesis_wrkdir/src-analysis/diversity-analysis/core-metrics-results-D1-metabolic/observed_features_vector.qza\u001B[0m\r\n",
      "\u001B[32mSaved SampleData[AlphaDiversity] to: /Users/cheesemania/PycharmProjects/mscthesis_wrkdir/src-analysis/diversity-analysis/core-metrics-results-D1-metabolic/shannon_vector.qza\u001B[0m\r\n",
      "\u001B[32mSaved SampleData[AlphaDiversity] to: /Users/cheesemania/PycharmProjects/mscthesis_wrkdir/src-analysis/diversity-analysis/core-metrics-results-D1-metabolic/evenness_vector.qza\u001B[0m\r\n",
      "\u001B[32mSaved DistanceMatrix to: /Users/cheesemania/PycharmProjects/mscthesis_wrkdir/src-analysis/diversity-analysis/core-metrics-results-D1-metabolic/jaccard_distance_matrix.qza\u001B[0m\r\n",
      "\u001B[32mSaved DistanceMatrix to: /Users/cheesemania/PycharmProjects/mscthesis_wrkdir/src-analysis/diversity-analysis/core-metrics-results-D1-metabolic/bray_curtis_distance_matrix.qza\u001B[0m\r\n",
      "\u001B[32mSaved PCoAResults to: /Users/cheesemania/PycharmProjects/mscthesis_wrkdir/src-analysis/diversity-analysis/core-metrics-results-D1-metabolic/jaccard_pcoa_results.qza\u001B[0m\r\n",
      "\u001B[32mSaved PCoAResults to: /Users/cheesemania/PycharmProjects/mscthesis_wrkdir/src-analysis/diversity-analysis/core-metrics-results-D1-metabolic/bray_curtis_pcoa_results.qza\u001B[0m\r\n",
      "\u001B[32mSaved Visualization to: /Users/cheesemania/PycharmProjects/mscthesis_wrkdir/src-analysis/diversity-analysis/core-metrics-results-D1-metabolic/jaccard_emperor.qzv\u001B[0m\r\n",
      "\u001B[32mSaved Visualization to: /Users/cheesemania/PycharmProjects/mscthesis_wrkdir/src-analysis/diversity-analysis/core-metrics-results-D1-metabolic/bray_curtis_emperor.qzv\u001B[0m\r\n",
      "\u001B[0m"
     ]
    }
   ],
   "source": [
    "!qiime diversity core-metrics \\\n",
    "    --i-table {path}/src-analysis/diversity-analysis/feature-table-subsets/D1_metabolic_feature_table.qza \\\n",
    "    --p-sampling-depth 3000 \\\n",
    "    --m-metadata-file {path}/metadata/case_control_metadata.tsv \\\n",
    "    --output-dir {path}/src-analysis/diversity-analysis/core-metrics-results-D1-metabolic"
   ],
   "metadata": {
    "collapsed": false,
    "ExecuteTime": {
     "end_time": "2024-08-19T15:27:53.782747Z",
     "start_time": "2024-08-19T15:24:06.085153Z"
    }
   },
   "id": "d0a2652156efbb35",
   "execution_count": 23
  },
  {
   "cell_type": "code",
   "outputs": [
    {
     "name": "stdout",
     "output_type": "stream",
     "text": [
      "\u001B[32mSaved Visualization to: /Users/cheesemania/PycharmProjects/mscthesis_wrkdir/src-analysis/diversity-analysis/core-metrics-results-D1-metabolic/D1-metabolic-observed-features-group-significance.qzv\u001B[0m\r\n",
      "\u001B[0m"
     ]
    }
   ],
   "source": [
    "!qiime diversity alpha-group-significance \\\n",
    "    --i-alpha-diversity {path}/src-analysis/diversity-analysis/core-metrics-results-D1-metabolic/observed_features_vector.qza \\\n",
    "    --m-metadata-file {path}/metadata/case_control_metadata.tsv \\\n",
    "    --o-visualization {path}/src-analysis/diversity-analysis/core-metrics-results-D1-metabolic/D1-metabolic-observed-features-group-significance.qzv"
   ],
   "metadata": {
    "collapsed": false,
    "ExecuteTime": {
     "end_time": "2024-08-19T15:50:26.373103Z",
     "start_time": "2024-08-19T15:49:58.763695Z"
    }
   },
   "id": "d29c54b614b96460",
   "execution_count": 24
  },
  {
   "cell_type": "markdown",
   "source": [
    "##### D1-Liver"
   ],
   "metadata": {
    "collapsed": false
   },
   "id": "8add1f88ed61da47"
  },
  {
   "cell_type": "code",
   "outputs": [
    {
     "name": "stdout",
     "output_type": "stream",
     "text": [
      "\u001B[32mSaved FeatureTable[Frequency] to: /Users/cheesemania/PycharmProjects/mscthesis_wrkdir/src-analysis/diversity-analysis/feature-table-subsets/D1_liver_feature_table.qza\u001B[0m\r\n",
      "\u001B[0m"
     ]
    }
   ],
   "source": [
    "!qiime feature-table filter-samples \\\n",
    "    --i-table {path}/src-analysis/feature-table/health-disease-case-control/case_control_feature_table.qza \\\n",
    "    --m-metadata-file {path}/metadata/case_control_metadata.tsv \\\n",
    "    --p-where \"[Disease_Level_1]='Liver' \" \\\n",
    "    --o-filtered-table {path}/src-analysis/diversity-analysis/feature-table-subsets/D1_liver_feature_table.qza"
   ],
   "metadata": {
    "collapsed": false,
    "ExecuteTime": {
     "end_time": "2024-08-19T17:35:21.155697Z",
     "start_time": "2024-08-19T17:34:54.635130Z"
    }
   },
   "id": "1d3dda7910319db8",
   "execution_count": 28
  },
  {
   "cell_type": "code",
   "outputs": [
    {
     "name": "stdout",
     "output_type": "stream",
     "text": [
      "\u001B[32mSaved FeatureTable[Frequency] to: /Users/cheesemania/PycharmProjects/mscthesis_wrkdir/src-analysis/diversity-analysis/core-metrics-results-D1-liver/rarefied_table.qza\u001B[0m\r\n",
      "\u001B[32mSaved SampleData[AlphaDiversity] to: /Users/cheesemania/PycharmProjects/mscthesis_wrkdir/src-analysis/diversity-analysis/core-metrics-results-D1-liver/observed_features_vector.qza\u001B[0m\r\n",
      "\u001B[32mSaved SampleData[AlphaDiversity] to: /Users/cheesemania/PycharmProjects/mscthesis_wrkdir/src-analysis/diversity-analysis/core-metrics-results-D1-liver/shannon_vector.qza\u001B[0m\r\n",
      "\u001B[32mSaved SampleData[AlphaDiversity] to: /Users/cheesemania/PycharmProjects/mscthesis_wrkdir/src-analysis/diversity-analysis/core-metrics-results-D1-liver/evenness_vector.qza\u001B[0m\r\n",
      "\u001B[32mSaved DistanceMatrix to: /Users/cheesemania/PycharmProjects/mscthesis_wrkdir/src-analysis/diversity-analysis/core-metrics-results-D1-liver/jaccard_distance_matrix.qza\u001B[0m\r\n",
      "\u001B[32mSaved DistanceMatrix to: /Users/cheesemania/PycharmProjects/mscthesis_wrkdir/src-analysis/diversity-analysis/core-metrics-results-D1-liver/bray_curtis_distance_matrix.qza\u001B[0m\r\n",
      "\u001B[32mSaved PCoAResults to: /Users/cheesemania/PycharmProjects/mscthesis_wrkdir/src-analysis/diversity-analysis/core-metrics-results-D1-liver/jaccard_pcoa_results.qza\u001B[0m\r\n",
      "\u001B[32mSaved PCoAResults to: /Users/cheesemania/PycharmProjects/mscthesis_wrkdir/src-analysis/diversity-analysis/core-metrics-results-D1-liver/bray_curtis_pcoa_results.qza\u001B[0m\r\n",
      "\u001B[32mSaved Visualization to: /Users/cheesemania/PycharmProjects/mscthesis_wrkdir/src-analysis/diversity-analysis/core-metrics-results-D1-liver/jaccard_emperor.qzv\u001B[0m\r\n",
      "\u001B[32mSaved Visualization to: /Users/cheesemania/PycharmProjects/mscthesis_wrkdir/src-analysis/diversity-analysis/core-metrics-results-D1-liver/bray_curtis_emperor.qzv\u001B[0m\r\n",
      "\u001B[0m"
     ]
    }
   ],
   "source": [
    "!qiime diversity core-metrics \\\n",
    "    --i-table {path}/src-analysis/diversity-analysis/feature-table-subsets/D1_liver_feature_table.qza \\\n",
    "    --p-sampling-depth 3000 \\\n",
    "    --m-metadata-file {path}/metadata/case_control_metadata.tsv \\\n",
    "    --output-dir {path}/src-analysis/diversity-analysis/core-metrics-results-D1-liver"
   ],
   "metadata": {
    "collapsed": false,
    "ExecuteTime": {
     "end_time": "2024-08-19T17:38:49.403061Z",
     "start_time": "2024-08-19T17:35:23.486005Z"
    }
   },
   "id": "76d14d2f38170922",
   "execution_count": 29
  },
  {
   "cell_type": "code",
   "outputs": [
    {
     "name": "stdout",
     "output_type": "stream",
     "text": [
      "\u001B[32mSaved Visualization to: /Users/cheesemania/PycharmProjects/mscthesis_wrkdir/src-analysis/diversity-analysis/core-metrics-results-D1-liver/D1-liver-observed-features-group-significance.qzv\u001B[0m\r\n",
      "\u001B[0m"
     ]
    }
   ],
   "source": [
    "!qiime diversity alpha-group-significance \\\n",
    "    --i-alpha-diversity {path}/src-analysis/diversity-analysis/core-metrics-results-D1-liver/observed_features_vector.qza \\\n",
    "    --m-metadata-file {path}/metadata/case_control_metadata.tsv \\\n",
    "    --o-visualization {path}/src-analysis/diversity-analysis/core-metrics-results-D1-liver/D1-liver-observed-features-group-significance.qzv"
   ],
   "metadata": {
    "collapsed": false,
    "ExecuteTime": {
     "end_time": "2024-08-19T17:39:49.495948Z",
     "start_time": "2024-08-19T17:39:22.141141Z"
    }
   },
   "id": "734125cc6a0bc05c",
   "execution_count": 30
  },
  {
   "cell_type": "markdown",
   "source": [
    "##### D1-Autoimmune"
   ],
   "metadata": {
    "collapsed": false
   },
   "id": "4165e39e24a71122"
  },
  {
   "cell_type": "code",
   "outputs": [
    {
     "name": "stdout",
     "output_type": "stream",
     "text": [
      "\u001B[32mSaved FeatureTable[Frequency] to: /Users/cheesemania/PycharmProjects/mscthesis_wrkdir/src-analysis/diversity-analysis/feature-table-subsets/D1_autoimmune_feature_table.qza\u001B[0m\r\n",
      "\u001B[0m"
     ]
    }
   ],
   "source": [
    "!qiime feature-table filter-samples \\\n",
    "    --i-table {path}/src-analysis/feature-table/health-disease-case-control/case_control_feature_table.qza \\\n",
    "    --m-metadata-file {path}/metadata/case_control_metadata.tsv \\\n",
    "    --p-where \"[Disease_Level_1]='Autoimmune' \" \\\n",
    "    --o-filtered-table {path}/src-analysis/diversity-analysis/feature-table-subsets/D1_autoimmune_feature_table.qza"
   ],
   "metadata": {
    "collapsed": false,
    "ExecuteTime": {
     "end_time": "2024-08-19T17:40:45.393402Z",
     "start_time": "2024-08-19T17:40:17.749384Z"
    }
   },
   "id": "686d36a225aa355e",
   "execution_count": 31
  },
  {
   "cell_type": "code",
   "outputs": [
    {
     "name": "stdout",
     "output_type": "stream",
     "text": [
      "\u001B[32mSaved FeatureTable[Frequency] to: /Users/cheesemania/PycharmProjects/mscthesis_wrkdir/src-analysis/diversity-analysis/core-metrics-results-D1-autoimmune/rarefied_table.qza\u001B[0m\r\n",
      "\u001B[32mSaved SampleData[AlphaDiversity] to: /Users/cheesemania/PycharmProjects/mscthesis_wrkdir/src-analysis/diversity-analysis/core-metrics-results-D1-autoimmune/observed_features_vector.qza\u001B[0m\r\n",
      "\u001B[32mSaved SampleData[AlphaDiversity] to: /Users/cheesemania/PycharmProjects/mscthesis_wrkdir/src-analysis/diversity-analysis/core-metrics-results-D1-autoimmune/shannon_vector.qza\u001B[0m\r\n",
      "\u001B[32mSaved SampleData[AlphaDiversity] to: /Users/cheesemania/PycharmProjects/mscthesis_wrkdir/src-analysis/diversity-analysis/core-metrics-results-D1-autoimmune/evenness_vector.qza\u001B[0m\r\n",
      "\u001B[32mSaved DistanceMatrix to: /Users/cheesemania/PycharmProjects/mscthesis_wrkdir/src-analysis/diversity-analysis/core-metrics-results-D1-autoimmune/jaccard_distance_matrix.qza\u001B[0m\r\n",
      "\u001B[32mSaved DistanceMatrix to: /Users/cheesemania/PycharmProjects/mscthesis_wrkdir/src-analysis/diversity-analysis/core-metrics-results-D1-autoimmune/bray_curtis_distance_matrix.qza\u001B[0m\r\n",
      "\u001B[32mSaved PCoAResults to: /Users/cheesemania/PycharmProjects/mscthesis_wrkdir/src-analysis/diversity-analysis/core-metrics-results-D1-autoimmune/jaccard_pcoa_results.qza\u001B[0m\r\n",
      "\u001B[32mSaved PCoAResults to: /Users/cheesemania/PycharmProjects/mscthesis_wrkdir/src-analysis/diversity-analysis/core-metrics-results-D1-autoimmune/bray_curtis_pcoa_results.qza\u001B[0m\r\n",
      "\u001B[32mSaved Visualization to: /Users/cheesemania/PycharmProjects/mscthesis_wrkdir/src-analysis/diversity-analysis/core-metrics-results-D1-autoimmune/jaccard_emperor.qzv\u001B[0m\r\n",
      "\u001B[32mSaved Visualization to: /Users/cheesemania/PycharmProjects/mscthesis_wrkdir/src-analysis/diversity-analysis/core-metrics-results-D1-autoimmune/bray_curtis_emperor.qzv\u001B[0m\r\n",
      "\u001B[0m"
     ]
    }
   ],
   "source": [
    "!qiime diversity core-metrics \\\n",
    "    --i-table {path}/src-analysis/diversity-analysis/feature-table-subsets/D1_autoimmune_feature_table.qza \\\n",
    "    --p-sampling-depth 3000 \\\n",
    "    --m-metadata-file {path}/metadata/case_control_metadata.tsv \\\n",
    "    --output-dir {path}/src-analysis/diversity-analysis/core-metrics-results-D1-autoimmune"
   ],
   "metadata": {
    "collapsed": false,
    "ExecuteTime": {
     "end_time": "2024-08-19T17:44:18.434429Z",
     "start_time": "2024-08-19T17:40:47.837053Z"
    }
   },
   "id": "8b5d9e5c0ccc7e9",
   "execution_count": 32
  },
  {
   "cell_type": "code",
   "outputs": [
    {
     "name": "stdout",
     "output_type": "stream",
     "text": [
      "\u001B[32mSaved Visualization to: /Users/cheesemania/PycharmProjects/mscthesis_wrkdir/src-analysis/diversity-analysis/core-metrics-results-D1-autoimmune/D1-autoimmune-observed-features-group-significance.qzv\u001B[0m\r\n",
      "\u001B[0m"
     ]
    }
   ],
   "source": [
    "!qiime diversity alpha-group-significance \\\n",
    "    --i-alpha-diversity {path}/src-analysis/diversity-analysis/core-metrics-results-D1-autoimmune/observed_features_vector.qza \\\n",
    "    --m-metadata-file {path}/metadata/case_control_metadata.tsv \\\n",
    "    --o-visualization {path}/src-analysis/diversity-analysis/core-metrics-results-D1-autoimmune/D1-autoimmune-observed-features-group-significance.qzv"
   ],
   "metadata": {
    "collapsed": false,
    "ExecuteTime": {
     "end_time": "2024-08-19T17:45:47.210703Z",
     "start_time": "2024-08-19T17:45:20.145184Z"
    }
   },
   "id": "e74d2fc08274f383",
   "execution_count": 33
  },
  {
   "cell_type": "markdown",
   "source": [
    "##### D1-Cancer"
   ],
   "metadata": {
    "collapsed": false
   },
   "id": "c222919b129e80e5"
  },
  {
   "cell_type": "code",
   "outputs": [
    {
     "name": "stdout",
     "output_type": "stream",
     "text": [
      "\u001B[32mSaved FeatureTable[Frequency] to: /Users/cheesemania/PycharmProjects/mscthesis_wrkdir/src-analysis/diversity-analysis/feature-table-subsets/D1_cancer_feature_table.qza\u001B[0m\r\n",
      "\u001B[0m"
     ]
    }
   ],
   "source": [
    "!qiime feature-table filter-samples \\\n",
    "    --i-table {path}/src-analysis/feature-table/health-disease-case-control/case_control_feature_table.qza \\\n",
    "    --m-metadata-file {path}/metadata/case_control_metadata.tsv \\\n",
    "    --p-where \"[Disease_Level_1]='Cancer' \" \\\n",
    "    --o-filtered-table {path}/src-analysis/diversity-analysis/feature-table-subsets/D1_cancer_feature_table.qza"
   ],
   "metadata": {
    "collapsed": false,
    "ExecuteTime": {
     "end_time": "2024-08-19T17:46:20.459917Z",
     "start_time": "2024-08-19T17:45:51.990056Z"
    }
   },
   "id": "cc786898b2f557b0",
   "execution_count": 34
  },
  {
   "cell_type": "code",
   "outputs": [
    {
     "name": "stdout",
     "output_type": "stream",
     "text": [
      "\u001B[32mSaved FeatureTable[Frequency] to: /Users/cheesemania/PycharmProjects/mscthesis_wrkdir/src-analysis/diversity-analysis/core-metrics-results-D1-cancer/rarefied_table.qza\u001B[0m\r\n",
      "\u001B[32mSaved SampleData[AlphaDiversity] to: /Users/cheesemania/PycharmProjects/mscthesis_wrkdir/src-analysis/diversity-analysis/core-metrics-results-D1-cancer/observed_features_vector.qza\u001B[0m\r\n",
      "\u001B[32mSaved SampleData[AlphaDiversity] to: /Users/cheesemania/PycharmProjects/mscthesis_wrkdir/src-analysis/diversity-analysis/core-metrics-results-D1-cancer/shannon_vector.qza\u001B[0m\r\n",
      "\u001B[32mSaved SampleData[AlphaDiversity] to: /Users/cheesemania/PycharmProjects/mscthesis_wrkdir/src-analysis/diversity-analysis/core-metrics-results-D1-cancer/evenness_vector.qza\u001B[0m\r\n",
      "\u001B[32mSaved DistanceMatrix to: /Users/cheesemania/PycharmProjects/mscthesis_wrkdir/src-analysis/diversity-analysis/core-metrics-results-D1-cancer/jaccard_distance_matrix.qza\u001B[0m\r\n",
      "\u001B[32mSaved DistanceMatrix to: /Users/cheesemania/PycharmProjects/mscthesis_wrkdir/src-analysis/diversity-analysis/core-metrics-results-D1-cancer/bray_curtis_distance_matrix.qza\u001B[0m\r\n",
      "\u001B[32mSaved PCoAResults to: /Users/cheesemania/PycharmProjects/mscthesis_wrkdir/src-analysis/diversity-analysis/core-metrics-results-D1-cancer/jaccard_pcoa_results.qza\u001B[0m\r\n",
      "\u001B[32mSaved PCoAResults to: /Users/cheesemania/PycharmProjects/mscthesis_wrkdir/src-analysis/diversity-analysis/core-metrics-results-D1-cancer/bray_curtis_pcoa_results.qza\u001B[0m\r\n",
      "\u001B[32mSaved Visualization to: /Users/cheesemania/PycharmProjects/mscthesis_wrkdir/src-analysis/diversity-analysis/core-metrics-results-D1-cancer/jaccard_emperor.qzv\u001B[0m\r\n",
      "\u001B[32mSaved Visualization to: /Users/cheesemania/PycharmProjects/mscthesis_wrkdir/src-analysis/diversity-analysis/core-metrics-results-D1-cancer/bray_curtis_emperor.qzv\u001B[0m\r\n",
      "\u001B[0m"
     ]
    }
   ],
   "source": [
    "!qiime diversity core-metrics \\\n",
    "    --i-table {path}/src-analysis/diversity-analysis/feature-table-subsets/D1_cancer_feature_table.qza \\\n",
    "    --p-sampling-depth 3000 \\\n",
    "    --m-metadata-file {path}/metadata/case_control_metadata.tsv \\\n",
    "    --output-dir {path}/src-analysis/diversity-analysis/core-metrics-results-D1-cancer"
   ],
   "metadata": {
    "collapsed": false,
    "ExecuteTime": {
     "end_time": "2024-08-19T17:53:03.696127Z",
     "start_time": "2024-08-19T17:49:37.839527Z"
    }
   },
   "id": "2c26454db93c8e1b",
   "execution_count": 35
  },
  {
   "cell_type": "code",
   "outputs": [
    {
     "name": "stdout",
     "output_type": "stream",
     "text": [
      "\u001B[32mSaved Visualization to: /Users/cheesemania/PycharmProjects/mscthesis_wrkdir/src-analysis/diversity-analysis/core-metrics-results-D1-cancer/D1-cancer-observed-features-group-significance.qzv\u001B[0m\r\n",
      "\u001B[0m"
     ]
    }
   ],
   "source": [
    "!qiime diversity alpha-group-significance \\\n",
    "    --i-alpha-diversity {path}/src-analysis/diversity-analysis/core-metrics-results-D1-cancer/observed_features_vector.qza \\\n",
    "    --m-metadata-file {path}/metadata/case_control_metadata.tsv \\\n",
    "    --o-visualization {path}/src-analysis/diversity-analysis/core-metrics-results-D1-cancer/D1-cancer-observed-features-group-significance.qzv"
   ],
   "metadata": {
    "collapsed": false,
    "ExecuteTime": {
     "end_time": "2024-08-19T17:54:39.856263Z",
     "start_time": "2024-08-19T17:54:12.638677Z"
    }
   },
   "id": "af6a8db7d8d29e0a",
   "execution_count": 36
  },
  {
   "cell_type": "markdown",
   "source": [
    "##### D1-Other"
   ],
   "metadata": {
    "collapsed": false
   },
   "id": "4e9550d147f3a51d"
  },
  {
   "cell_type": "code",
   "outputs": [
    {
     "name": "stdout",
     "output_type": "stream",
     "text": [
      "\u001B[32mSaved FeatureTable[Frequency] to: /Users/cheesemania/PycharmProjects/mscthesis_wrkdir/src-analysis/diversity-analysis/feature-table-subsets/D1_other_feature_table.qza\u001B[0m\r\n",
      "\u001B[0m"
     ]
    }
   ],
   "source": [
    "!qiime feature-table filter-samples \\\n",
    "    --i-table {path}/src-analysis/feature-table/health-disease-case-control/case_control_feature_table.qza \\\n",
    "    --m-metadata-file {path}/metadata/case_control_metadata.tsv \\\n",
    "    --p-where \"[Disease_Level_1]='Other' \" \\\n",
    "    --o-filtered-table {path}/src-analysis/diversity-analysis/feature-table-subsets/D1_other_feature_table.qza"
   ],
   "metadata": {
    "collapsed": false,
    "ExecuteTime": {
     "end_time": "2024-08-19T17:58:34.267774Z",
     "start_time": "2024-08-19T17:58:06.500312Z"
    }
   },
   "id": "cc9a2193ef3fd26a",
   "execution_count": 37
  },
  {
   "cell_type": "code",
   "outputs": [
    {
     "name": "stdout",
     "output_type": "stream",
     "text": [
      "\u001B[32mSaved FeatureTable[Frequency] to: /Users/cheesemania/PycharmProjects/mscthesis_wrkdir/src-analysis/diversity-analysis/core-metrics-results-D1-other/rarefied_table.qza\u001B[0m\r\n",
      "\u001B[32mSaved SampleData[AlphaDiversity] to: /Users/cheesemania/PycharmProjects/mscthesis_wrkdir/src-analysis/diversity-analysis/core-metrics-results-D1-other/observed_features_vector.qza\u001B[0m\r\n",
      "\u001B[32mSaved SampleData[AlphaDiversity] to: /Users/cheesemania/PycharmProjects/mscthesis_wrkdir/src-analysis/diversity-analysis/core-metrics-results-D1-other/shannon_vector.qza\u001B[0m\r\n",
      "\u001B[32mSaved SampleData[AlphaDiversity] to: /Users/cheesemania/PycharmProjects/mscthesis_wrkdir/src-analysis/diversity-analysis/core-metrics-results-D1-other/evenness_vector.qza\u001B[0m\r\n",
      "\u001B[32mSaved DistanceMatrix to: /Users/cheesemania/PycharmProjects/mscthesis_wrkdir/src-analysis/diversity-analysis/core-metrics-results-D1-other/jaccard_distance_matrix.qza\u001B[0m\r\n",
      "\u001B[32mSaved DistanceMatrix to: /Users/cheesemania/PycharmProjects/mscthesis_wrkdir/src-analysis/diversity-analysis/core-metrics-results-D1-other/bray_curtis_distance_matrix.qza\u001B[0m\r\n",
      "\u001B[32mSaved PCoAResults to: /Users/cheesemania/PycharmProjects/mscthesis_wrkdir/src-analysis/diversity-analysis/core-metrics-results-D1-other/jaccard_pcoa_results.qza\u001B[0m\r\n",
      "\u001B[32mSaved PCoAResults to: /Users/cheesemania/PycharmProjects/mscthesis_wrkdir/src-analysis/diversity-analysis/core-metrics-results-D1-other/bray_curtis_pcoa_results.qza\u001B[0m\r\n",
      "\u001B[32mSaved Visualization to: /Users/cheesemania/PycharmProjects/mscthesis_wrkdir/src-analysis/diversity-analysis/core-metrics-results-D1-other/jaccard_emperor.qzv\u001B[0m\r\n",
      "\u001B[32mSaved Visualization to: /Users/cheesemania/PycharmProjects/mscthesis_wrkdir/src-analysis/diversity-analysis/core-metrics-results-D1-other/bray_curtis_emperor.qzv\u001B[0m\r\n",
      "\u001B[0m"
     ]
    }
   ],
   "source": [
    "!qiime diversity core-metrics \\\n",
    "    --i-table {path}/src-analysis/diversity-analysis/feature-table-subsets/D1_other_feature_table.qza \\\n",
    "    --p-sampling-depth 3000 \\\n",
    "    --m-metadata-file {path}/metadata/case_control_metadata.tsv \\\n",
    "    --output-dir {path}/src-analysis/diversity-analysis/core-metrics-results-D1-other"
   ],
   "metadata": {
    "collapsed": false,
    "ExecuteTime": {
     "end_time": "2024-08-19T18:02:54.747030Z",
     "start_time": "2024-08-19T17:59:27.701031Z"
    }
   },
   "id": "f831dbc492cc23ec",
   "execution_count": 38
  },
  {
   "cell_type": "code",
   "outputs": [
    {
     "name": "stdout",
     "output_type": "stream",
     "text": [
      "\u001B[32mSaved Visualization to: /Users/cheesemania/PycharmProjects/mscthesis_wrkdir/src-analysis/diversity-analysis/core-metrics-results-D1-other/D1-other-observed-features-group-significance.qzv\u001B[0m\r\n",
      "\u001B[0m"
     ]
    }
   ],
   "source": [
    "!qiime diversity alpha-group-significance \\\n",
    "    --i-alpha-diversity {path}/src-analysis/diversity-analysis/core-metrics-results-D1-other/observed_features_vector.qza \\\n",
    "    --m-metadata-file {path}/metadata/case_control_metadata.tsv \\\n",
    "    --o-visualization {path}/src-analysis/diversity-analysis/core-metrics-results-D1-other/D1-other-observed-features-group-significance.qzv"
   ],
   "metadata": {
    "collapsed": false,
    "ExecuteTime": {
     "end_time": "2024-08-19T18:04:39.434383Z",
     "start_time": "2024-08-19T18:04:12.033374Z"
    }
   },
   "id": "2410dafece45cbb9",
   "execution_count": 39
  },
  {
   "cell_type": "markdown",
   "source": [
    "#### Subsetting based on Disease Level 2"
   ],
   "metadata": {
    "collapsed": false
   },
   "id": "f25cecafd17ed78d"
  },
  {
   "cell_type": "markdown",
   "source": [
    "##### Metabolic-D2-T1DM"
   ],
   "metadata": {
    "collapsed": false
   },
   "id": "8e980f8d9b35381"
  },
  {
   "cell_type": "code",
   "outputs": [
    {
     "name": "stdout",
     "output_type": "stream",
     "text": [
      "\u001B[32mSaved FeatureTable[Frequency] to: /Users/cheesemania/PycharmProjects/mscthesis_wrkdir/src-analysis/diversity-analysis/feature-table-subsets/D2_T1DM_feature_table.qza\u001B[0m\r\n",
      "\u001B[0m"
     ]
    }
   ],
   "source": [
    "!qiime feature-table filter-samples \\\n",
    "    --i-table {path}/src-analysis/feature-table/health-disease-case-control/case_control_feature_table.qza \\\n",
    "    --m-metadata-file {path}/metadata/case_control_metadata.tsv \\\n",
    "    --p-where \"[Disease_Level_2]='T1DM' \" \\\n",
    "    --o-filtered-table {path}/src-analysis/diversity-analysis/feature-table-subsets/D2_T1DM_feature_table.qza"
   ],
   "metadata": {
    "collapsed": false,
    "ExecuteTime": {
     "end_time": "2024-08-19T18:37:29.817868Z",
     "start_time": "2024-08-19T18:37:01.807387Z"
    }
   },
   "id": "2c038f0eecde2cf9",
   "execution_count": 40
  },
  {
   "cell_type": "code",
   "outputs": [
    {
     "name": "stdout",
     "output_type": "stream",
     "text": [
      "\u001B[32mSaved FeatureTable[Frequency] to: /Users/cheesemania/PycharmProjects/mscthesis_wrkdir/src-analysis/diversity-analysis/core-metrics-results-D2-T1DM/rarefied_table.qza\u001B[0m\r\n",
      "\u001B[32mSaved SampleData[AlphaDiversity] to: /Users/cheesemania/PycharmProjects/mscthesis_wrkdir/src-analysis/diversity-analysis/core-metrics-results-D2-T1DM/observed_features_vector.qza\u001B[0m\r\n",
      "\u001B[32mSaved SampleData[AlphaDiversity] to: /Users/cheesemania/PycharmProjects/mscthesis_wrkdir/src-analysis/diversity-analysis/core-metrics-results-D2-T1DM/shannon_vector.qza\u001B[0m\r\n",
      "\u001B[32mSaved SampleData[AlphaDiversity] to: /Users/cheesemania/PycharmProjects/mscthesis_wrkdir/src-analysis/diversity-analysis/core-metrics-results-D2-T1DM/evenness_vector.qza\u001B[0m\r\n",
      "\u001B[32mSaved DistanceMatrix to: /Users/cheesemania/PycharmProjects/mscthesis_wrkdir/src-analysis/diversity-analysis/core-metrics-results-D2-T1DM/jaccard_distance_matrix.qza\u001B[0m\r\n",
      "\u001B[32mSaved DistanceMatrix to: /Users/cheesemania/PycharmProjects/mscthesis_wrkdir/src-analysis/diversity-analysis/core-metrics-results-D2-T1DM/bray_curtis_distance_matrix.qza\u001B[0m\r\n",
      "\u001B[32mSaved PCoAResults to: /Users/cheesemania/PycharmProjects/mscthesis_wrkdir/src-analysis/diversity-analysis/core-metrics-results-D2-T1DM/jaccard_pcoa_results.qza\u001B[0m\r\n",
      "\u001B[32mSaved PCoAResults to: /Users/cheesemania/PycharmProjects/mscthesis_wrkdir/src-analysis/diversity-analysis/core-metrics-results-D2-T1DM/bray_curtis_pcoa_results.qza\u001B[0m\r\n",
      "\u001B[32mSaved Visualization to: /Users/cheesemania/PycharmProjects/mscthesis_wrkdir/src-analysis/diversity-analysis/core-metrics-results-D2-T1DM/jaccard_emperor.qzv\u001B[0m\r\n",
      "\u001B[32mSaved Visualization to: /Users/cheesemania/PycharmProjects/mscthesis_wrkdir/src-analysis/diversity-analysis/core-metrics-results-D2-T1DM/bray_curtis_emperor.qzv\u001B[0m\r\n",
      "\u001B[0m"
     ]
    }
   ],
   "source": [
    "!qiime diversity core-metrics \\\n",
    "    --i-table {path}/src-analysis/diversity-analysis/feature-table-subsets/D2_T1DM_feature_table.qza \\\n",
    "    --p-sampling-depth 3000 \\\n",
    "    --m-metadata-file {path}/metadata/case_control_metadata.tsv \\\n",
    "    --output-dir {path}/src-analysis/diversity-analysis/core-metrics-results-D2-T1DM"
   ],
   "metadata": {
    "collapsed": false,
    "ExecuteTime": {
     "end_time": "2024-08-19T18:41:13.580915Z",
     "start_time": "2024-08-19T18:37:37.372804Z"
    }
   },
   "id": "4c09583623583629",
   "execution_count": 41
  },
  {
   "cell_type": "code",
   "outputs": [
    {
     "name": "stdout",
     "output_type": "stream",
     "text": [
      "\u001B[32mSaved Visualization to: /Users/cheesemania/PycharmProjects/mscthesis_wrkdir/src-analysis/diversity-analysis/core-metrics-results-D2-T1DM/D2-T1DM-observed-features-group-significance.qzv\u001B[0m\r\n",
      "\u001B[0m"
     ]
    }
   ],
   "source": [
    "!qiime diversity alpha-group-significance \\\n",
    "    --i-alpha-diversity {path}/src-analysis/diversity-analysis/core-metrics-results-D2-T1DM/observed_features_vector.qza \\\n",
    "    --m-metadata-file {path}/metadata/case_control_metadata.tsv \\\n",
    "    --o-visualization {path}/src-analysis/diversity-analysis/core-metrics-results-D2-T1DM/D2-T1DM-observed-features-group-significance.qzv"
   ],
   "metadata": {
    "collapsed": false,
    "ExecuteTime": {
     "end_time": "2024-08-19T18:45:14.604797Z",
     "start_time": "2024-08-19T18:44:48.573103Z"
    }
   },
   "id": "5a7fd23ade72b898",
   "execution_count": 42
  },
  {
   "cell_type": "markdown",
   "source": [
    "##### Metabolic-D2-T2DM"
   ],
   "metadata": {
    "collapsed": false
   },
   "id": "b6878907c257a94b"
  },
  {
   "cell_type": "code",
   "outputs": [
    {
     "name": "stdout",
     "output_type": "stream",
     "text": [
      "\u001B[32mSaved FeatureTable[Frequency] to: /Users/cheesemania/PycharmProjects/mscthesis_wrkdir/src-analysis/diversity-analysis/feature-table-subsets/D2_T2DM_feature_table.qza\u001B[0m\r\n",
      "\u001B[0m"
     ]
    }
   ],
   "source": [
    "!qiime feature-table filter-samples \\\n",
    "    --i-table {path}/src-analysis/feature-table/health-disease-case-control/case_control_feature_table.qza \\\n",
    "    --m-metadata-file {path}/metadata/case_control_metadata.tsv \\\n",
    "    --p-where \"[Disease_Level_2]='T2DM' \" \\\n",
    "    --o-filtered-table {path}/src-analysis/diversity-analysis/feature-table-subsets/D2_T2DM_feature_table.qza"
   ],
   "metadata": {
    "collapsed": false,
    "ExecuteTime": {
     "end_time": "2024-08-19T18:46:01.799597Z",
     "start_time": "2024-08-19T18:45:33.393795Z"
    }
   },
   "id": "df4eed8f149bc6d1",
   "execution_count": 43
  },
  {
   "cell_type": "code",
   "outputs": [
    {
     "name": "stdout",
     "output_type": "stream",
     "text": [
      "\u001B[32mSaved FeatureTable[Frequency] to: /Users/cheesemania/PycharmProjects/mscthesis_wrkdir/src-analysis/diversity-analysis/core-metrics-results-D2-T2DM/rarefied_table.qza\u001B[0m\r\n",
      "\u001B[32mSaved SampleData[AlphaDiversity] to: /Users/cheesemania/PycharmProjects/mscthesis_wrkdir/src-analysis/diversity-analysis/core-metrics-results-D2-T2DM/observed_features_vector.qza\u001B[0m\r\n",
      "\u001B[32mSaved SampleData[AlphaDiversity] to: /Users/cheesemania/PycharmProjects/mscthesis_wrkdir/src-analysis/diversity-analysis/core-metrics-results-D2-T2DM/shannon_vector.qza\u001B[0m\r\n",
      "\u001B[32mSaved SampleData[AlphaDiversity] to: /Users/cheesemania/PycharmProjects/mscthesis_wrkdir/src-analysis/diversity-analysis/core-metrics-results-D2-T2DM/evenness_vector.qza\u001B[0m\r\n",
      "\u001B[32mSaved DistanceMatrix to: /Users/cheesemania/PycharmProjects/mscthesis_wrkdir/src-analysis/diversity-analysis/core-metrics-results-D2-T2DM/jaccard_distance_matrix.qza\u001B[0m\r\n",
      "\u001B[32mSaved DistanceMatrix to: /Users/cheesemania/PycharmProjects/mscthesis_wrkdir/src-analysis/diversity-analysis/core-metrics-results-D2-T2DM/bray_curtis_distance_matrix.qza\u001B[0m\r\n",
      "\u001B[32mSaved PCoAResults to: /Users/cheesemania/PycharmProjects/mscthesis_wrkdir/src-analysis/diversity-analysis/core-metrics-results-D2-T2DM/jaccard_pcoa_results.qza\u001B[0m\r\n",
      "\u001B[32mSaved PCoAResults to: /Users/cheesemania/PycharmProjects/mscthesis_wrkdir/src-analysis/diversity-analysis/core-metrics-results-D2-T2DM/bray_curtis_pcoa_results.qza\u001B[0m\r\n",
      "\u001B[32mSaved Visualization to: /Users/cheesemania/PycharmProjects/mscthesis_wrkdir/src-analysis/diversity-analysis/core-metrics-results-D2-T2DM/jaccard_emperor.qzv\u001B[0m\r\n",
      "\u001B[32mSaved Visualization to: /Users/cheesemania/PycharmProjects/mscthesis_wrkdir/src-analysis/diversity-analysis/core-metrics-results-D2-T2DM/bray_curtis_emperor.qzv\u001B[0m\r\n",
      "\u001B[0m"
     ]
    }
   ],
   "source": [
    "!qiime diversity core-metrics \\\n",
    "    --i-table {path}/src-analysis/diversity-analysis/feature-table-subsets/D2_T2DM_feature_table.qza \\\n",
    "    --p-sampling-depth 3000 \\\n",
    "    --m-metadata-file {path}/metadata/case_control_metadata.tsv \\\n",
    "    --output-dir {path}/src-analysis/diversity-analysis/core-metrics-results-D2-T2DM"
   ],
   "metadata": {
    "collapsed": false,
    "ExecuteTime": {
     "end_time": "2024-08-19T18:50:15.975667Z",
     "start_time": "2024-08-19T18:46:48.077507Z"
    }
   },
   "id": "92217d4f0528d852",
   "execution_count": 44
  },
  {
   "cell_type": "code",
   "outputs": [
    {
     "name": "stdout",
     "output_type": "stream",
     "text": [
      "\u001B[32mSaved Visualization to: /Users/cheesemania/PycharmProjects/mscthesis_wrkdir/src-analysis/diversity-analysis/core-metrics-results-D2-T2DM/D2-T2DM-observed-features-group-significance.qzv\u001B[0m\r\n",
      "\u001B[0m"
     ]
    }
   ],
   "source": [
    "!qiime diversity alpha-group-significance \\\n",
    "    --i-alpha-diversity {path}/src-analysis/diversity-analysis/core-metrics-results-D2-T2DM/observed_features_vector.qza \\\n",
    "    --m-metadata-file {path}/metadata/case_control_metadata.tsv \\\n",
    "    --o-visualization {path}/src-analysis/diversity-analysis/core-metrics-results-D2-T2DM/D2-T2DM-observed-features-group-significance.qzv"
   ],
   "metadata": {
    "collapsed": false,
    "ExecuteTime": {
     "end_time": "2024-08-19T18:52:06.203613Z",
     "start_time": "2024-08-19T18:51:38.687671Z"
    }
   },
   "id": "4fc8ff01a811dcb7",
   "execution_count": 45
  },
  {
   "cell_type": "markdown",
   "source": [
    "##### Metabolic-D2-GDM"
   ],
   "metadata": {
    "collapsed": false
   },
   "id": "7a812f6671c6f409"
  },
  {
   "cell_type": "code",
   "outputs": [
    {
     "name": "stdout",
     "output_type": "stream",
     "text": [
      "\u001B[32mSaved FeatureTable[Frequency] to: /Users/cheesemania/PycharmProjects/mscthesis_wrkdir/src-analysis/diversity-analysis/feature-table-subsets/D2_GDM_feature_table.qza\u001B[0m\r\n",
      "\u001B[0m"
     ]
    }
   ],
   "source": [
    "!qiime feature-table filter-samples \\\n",
    "    --i-table {path}/src-analysis/feature-table/health-disease-case-control/case_control_feature_table.qza \\\n",
    "    --m-metadata-file {path}/metadata/case_control_metadata.tsv \\\n",
    "    --p-where \"[Disease_Level_2]='GDM' \" \\\n",
    "    --o-filtered-table {path}/src-analysis/diversity-analysis/feature-table-subsets/D2_GDM_feature_table.qza"
   ],
   "metadata": {
    "collapsed": false,
    "ExecuteTime": {
     "end_time": "2024-08-19T18:54:39.786466Z",
     "start_time": "2024-08-19T18:54:12.437159Z"
    }
   },
   "id": "24d4dc1452ca1f05",
   "execution_count": 46
  },
  {
   "cell_type": "code",
   "outputs": [
    {
     "name": "stdout",
     "output_type": "stream",
     "text": [
      "\u001B[32mSaved FeatureTable[Frequency] to: /Users/cheesemania/PycharmProjects/mscthesis_wrkdir/src-analysis/diversity-analysis/core-metrics-results-D2-GDM/rarefied_table.qza\u001B[0m\r\n",
      "\u001B[32mSaved SampleData[AlphaDiversity] to: /Users/cheesemania/PycharmProjects/mscthesis_wrkdir/src-analysis/diversity-analysis/core-metrics-results-D2-GDM/observed_features_vector.qza\u001B[0m\r\n",
      "\u001B[32mSaved SampleData[AlphaDiversity] to: /Users/cheesemania/PycharmProjects/mscthesis_wrkdir/src-analysis/diversity-analysis/core-metrics-results-D2-GDM/shannon_vector.qza\u001B[0m\r\n",
      "\u001B[32mSaved SampleData[AlphaDiversity] to: /Users/cheesemania/PycharmProjects/mscthesis_wrkdir/src-analysis/diversity-analysis/core-metrics-results-D2-GDM/evenness_vector.qza\u001B[0m\r\n",
      "\u001B[32mSaved DistanceMatrix to: /Users/cheesemania/PycharmProjects/mscthesis_wrkdir/src-analysis/diversity-analysis/core-metrics-results-D2-GDM/jaccard_distance_matrix.qza\u001B[0m\r\n",
      "\u001B[32mSaved DistanceMatrix to: /Users/cheesemania/PycharmProjects/mscthesis_wrkdir/src-analysis/diversity-analysis/core-metrics-results-D2-GDM/bray_curtis_distance_matrix.qza\u001B[0m\r\n",
      "\u001B[32mSaved PCoAResults to: /Users/cheesemania/PycharmProjects/mscthesis_wrkdir/src-analysis/diversity-analysis/core-metrics-results-D2-GDM/jaccard_pcoa_results.qza\u001B[0m\r\n",
      "\u001B[32mSaved PCoAResults to: /Users/cheesemania/PycharmProjects/mscthesis_wrkdir/src-analysis/diversity-analysis/core-metrics-results-D2-GDM/bray_curtis_pcoa_results.qza\u001B[0m\r\n",
      "\u001B[32mSaved Visualization to: /Users/cheesemania/PycharmProjects/mscthesis_wrkdir/src-analysis/diversity-analysis/core-metrics-results-D2-GDM/jaccard_emperor.qzv\u001B[0m\r\n",
      "\u001B[32mSaved Visualization to: /Users/cheesemania/PycharmProjects/mscthesis_wrkdir/src-analysis/diversity-analysis/core-metrics-results-D2-GDM/bray_curtis_emperor.qzv\u001B[0m\r\n",
      "\u001B[0m"
     ]
    }
   ],
   "source": [
    "!qiime diversity core-metrics \\\n",
    "    --i-table {path}/src-analysis/diversity-analysis/feature-table-subsets/D2_GDM_feature_table.qza \\\n",
    "    --p-sampling-depth 3000 \\\n",
    "    --m-metadata-file {path}/metadata/case_control_metadata.tsv \\\n",
    "    --output-dir {path}/src-analysis/diversity-analysis/core-metrics-results-D2-GDM"
   ],
   "metadata": {
    "collapsed": false,
    "ExecuteTime": {
     "end_time": "2024-08-19T18:58:07.714340Z",
     "start_time": "2024-08-19T18:54:43.272543Z"
    }
   },
   "id": "58a0afe1776ce37b",
   "execution_count": 47
  },
  {
   "cell_type": "code",
   "outputs": [
    {
     "name": "stdout",
     "output_type": "stream",
     "text": [
      "\u001B[32mSaved Visualization to: /Users/cheesemania/PycharmProjects/mscthesis_wrkdir/src-analysis/diversity-analysis/core-metrics-results-D2-GDM/D2-GDM-observed-features-group-significance.qzv\u001B[0m\r\n",
      "\u001B[0m"
     ]
    }
   ],
   "source": [
    "!qiime diversity alpha-group-significance \\\n",
    "    --i-alpha-diversity {path}/src-analysis/diversity-analysis/core-metrics-results-D2-GDM/observed_features_vector.qza \\\n",
    "    --m-metadata-file {path}/metadata/case_control_metadata.tsv \\\n",
    "    --o-visualization {path}/src-analysis/diversity-analysis/core-metrics-results-D2-GDM/D2-GDM-observed-features-group-significance.qzv"
   ],
   "metadata": {
    "collapsed": false,
    "ExecuteTime": {
     "end_time": "2024-08-19T18:59:11.360992Z",
     "start_time": "2024-08-19T18:58:43.342542Z"
    }
   },
   "id": "f95800a443e823a3",
   "execution_count": 48
  },
  {
   "cell_type": "markdown",
   "source": [
    "##### Metabolic-D2-Obesity"
   ],
   "metadata": {
    "collapsed": false
   },
   "id": "985702e4a2875da9"
  },
  {
   "cell_type": "code",
   "outputs": [
    {
     "name": "stdout",
     "output_type": "stream",
     "text": [
      "\u001B[32mSaved FeatureTable[Frequency] to: /Users/cheesemania/PycharmProjects/mscthesis_wrkdir/src-analysis/diversity-analysis/feature-table-subsets/D2_obesity_feature_table.qza\u001B[0m\r\n",
      "\u001B[0m"
     ]
    }
   ],
   "source": [
    "!qiime feature-table filter-samples \\\n",
    "    --i-table {path}/src-analysis/feature-table/health-disease-case-control/case_control_feature_table.qza \\\n",
    "    --m-metadata-file {path}/metadata/case_control_metadata.tsv \\\n",
    "    --p-where \"[Disease_Level_2]='Obesity' \" \\\n",
    "    --o-filtered-table {path}/src-analysis/diversity-analysis/feature-table-subsets/D2_obesity_feature_table.qza"
   ],
   "metadata": {
    "collapsed": false,
    "ExecuteTime": {
     "end_time": "2024-08-19T19:00:50.972617Z",
     "start_time": "2024-08-19T19:00:22.783501Z"
    }
   },
   "id": "49cccf876f4c3568",
   "execution_count": 49
  },
  {
   "cell_type": "code",
   "outputs": [
    {
     "name": "stdout",
     "output_type": "stream",
     "text": [
      "\u001B[32mSaved FeatureTable[Frequency] to: /Users/cheesemania/PycharmProjects/mscthesis_wrkdir/src-analysis/diversity-analysis/core-metrics-results-D2-obesity/rarefied_table.qza\u001B[0m\r\n",
      "\u001B[32mSaved SampleData[AlphaDiversity] to: /Users/cheesemania/PycharmProjects/mscthesis_wrkdir/src-analysis/diversity-analysis/core-metrics-results-D2-obesity/observed_features_vector.qza\u001B[0m\r\n",
      "\u001B[32mSaved SampleData[AlphaDiversity] to: /Users/cheesemania/PycharmProjects/mscthesis_wrkdir/src-analysis/diversity-analysis/core-metrics-results-D2-obesity/shannon_vector.qza\u001B[0m\r\n",
      "\u001B[32mSaved SampleData[AlphaDiversity] to: /Users/cheesemania/PycharmProjects/mscthesis_wrkdir/src-analysis/diversity-analysis/core-metrics-results-D2-obesity/evenness_vector.qza\u001B[0m\r\n",
      "\u001B[32mSaved DistanceMatrix to: /Users/cheesemania/PycharmProjects/mscthesis_wrkdir/src-analysis/diversity-analysis/core-metrics-results-D2-obesity/jaccard_distance_matrix.qza\u001B[0m\r\n",
      "\u001B[32mSaved DistanceMatrix to: /Users/cheesemania/PycharmProjects/mscthesis_wrkdir/src-analysis/diversity-analysis/core-metrics-results-D2-obesity/bray_curtis_distance_matrix.qza\u001B[0m\r\n",
      "\u001B[32mSaved PCoAResults to: /Users/cheesemania/PycharmProjects/mscthesis_wrkdir/src-analysis/diversity-analysis/core-metrics-results-D2-obesity/jaccard_pcoa_results.qza\u001B[0m\r\n",
      "\u001B[32mSaved PCoAResults to: /Users/cheesemania/PycharmProjects/mscthesis_wrkdir/src-analysis/diversity-analysis/core-metrics-results-D2-obesity/bray_curtis_pcoa_results.qza\u001B[0m\r\n",
      "\u001B[32mSaved Visualization to: /Users/cheesemania/PycharmProjects/mscthesis_wrkdir/src-analysis/diversity-analysis/core-metrics-results-D2-obesity/jaccard_emperor.qzv\u001B[0m\r\n",
      "\u001B[32mSaved Visualization to: /Users/cheesemania/PycharmProjects/mscthesis_wrkdir/src-analysis/diversity-analysis/core-metrics-results-D2-obesity/bray_curtis_emperor.qzv\u001B[0m\r\n",
      "\u001B[0m"
     ]
    }
   ],
   "source": [
    "!qiime diversity core-metrics \\\n",
    "    --i-table {path}/src-analysis/diversity-analysis/feature-table-subsets/D2_obesity_feature_table.qza \\\n",
    "    --p-sampling-depth 3000 \\\n",
    "    --m-metadata-file {path}/metadata/case_control_metadata.tsv \\\n",
    "    --output-dir {path}/src-analysis/diversity-analysis/core-metrics-results-D2-obesity"
   ],
   "metadata": {
    "collapsed": false,
    "ExecuteTime": {
     "end_time": "2024-08-19T19:05:36.409490Z",
     "start_time": "2024-08-19T19:02:12.238903Z"
    }
   },
   "id": "531461cea319cd1c",
   "execution_count": 50
  },
  {
   "cell_type": "code",
   "outputs": [
    {
     "name": "stdout",
     "output_type": "stream",
     "text": [
      "\u001B[32mSaved Visualization to: /Users/cheesemania/PycharmProjects/mscthesis_wrkdir/src-analysis/diversity-analysis/core-metrics-results-D2-obesity/D2-obesity-observed-features-group-significance.qzv\u001B[0m\r\n",
      "\u001B[0m"
     ]
    }
   ],
   "source": [
    "!qiime diversity alpha-group-significance \\\n",
    "    --i-alpha-diversity {path}/src-analysis/diversity-analysis/core-metrics-results-D2-obesity/observed_features_vector.qza \\\n",
    "    --m-metadata-file {path}/metadata/case_control_metadata.tsv \\\n",
    "    --o-visualization {path}/src-analysis/diversity-analysis/core-metrics-results-D2-obesity/D2-obesity-observed-features-group-significance.qzv"
   ],
   "metadata": {
    "collapsed": false,
    "ExecuteTime": {
     "end_time": "2024-08-19T19:06:59.934191Z",
     "start_time": "2024-08-19T19:06:33.324345Z"
    }
   },
   "id": "851e96e2a4628fa0",
   "execution_count": 51
  },
  {
   "cell_type": "markdown",
   "source": [
    "##### Gastrointestinal-D2-IBD"
   ],
   "metadata": {
    "collapsed": false
   },
   "id": "85ca43757aedf0e4"
  },
  {
   "cell_type": "code",
   "outputs": [
    {
     "name": "stdout",
     "output_type": "stream",
     "text": [
      "\u001B[32mSaved FeatureTable[Frequency] to: /Users/cheesemania/PycharmProjects/mscthesis_wrkdir/src-analysis/diversity-analysis/feature-table-subsets/D2_IBD_feature_table.qza\u001B[0m\r\n",
      "\u001B[0m"
     ]
    }
   ],
   "source": [
    "!qiime feature-table filter-samples \\\n",
    "    --i-table {path}/src-analysis/feature-table/health-disease-case-control/case_control_feature_table.qza \\\n",
    "    --m-metadata-file {path}/metadata/case_control_metadata.tsv \\\n",
    "    --p-where \"[Disease_Level_2]='IBD' \" \\\n",
    "    --o-filtered-table {path}/src-analysis/diversity-analysis/feature-table-subsets/D2_IBD_feature_table.qza"
   ],
   "metadata": {
    "collapsed": false,
    "ExecuteTime": {
     "end_time": "2024-08-19T19:08:49.108568Z",
     "start_time": "2024-08-19T19:08:20.875859Z"
    }
   },
   "id": "54a238c9d722cec9",
   "execution_count": 52
  },
  {
   "cell_type": "code",
   "outputs": [
    {
     "name": "stdout",
     "output_type": "stream",
     "text": [
      "\u001B[32mSaved FeatureTable[Frequency] to: /Users/cheesemania/PycharmProjects/mscthesis_wrkdir/src-analysis/diversity-analysis/core-metrics-results-D2-IBD/rarefied_table.qza\u001B[0m\r\n",
      "\u001B[32mSaved SampleData[AlphaDiversity] to: /Users/cheesemania/PycharmProjects/mscthesis_wrkdir/src-analysis/diversity-analysis/core-metrics-results-D2-IBD/observed_features_vector.qza\u001B[0m\r\n",
      "\u001B[32mSaved SampleData[AlphaDiversity] to: /Users/cheesemania/PycharmProjects/mscthesis_wrkdir/src-analysis/diversity-analysis/core-metrics-results-D2-IBD/shannon_vector.qza\u001B[0m\r\n",
      "\u001B[32mSaved SampleData[AlphaDiversity] to: /Users/cheesemania/PycharmProjects/mscthesis_wrkdir/src-analysis/diversity-analysis/core-metrics-results-D2-IBD/evenness_vector.qza\u001B[0m\r\n",
      "\u001B[32mSaved DistanceMatrix to: /Users/cheesemania/PycharmProjects/mscthesis_wrkdir/src-analysis/diversity-analysis/core-metrics-results-D2-IBD/jaccard_distance_matrix.qza\u001B[0m\r\n",
      "\u001B[32mSaved DistanceMatrix to: /Users/cheesemania/PycharmProjects/mscthesis_wrkdir/src-analysis/diversity-analysis/core-metrics-results-D2-IBD/bray_curtis_distance_matrix.qza\u001B[0m\r\n",
      "\u001B[32mSaved PCoAResults to: /Users/cheesemania/PycharmProjects/mscthesis_wrkdir/src-analysis/diversity-analysis/core-metrics-results-D2-IBD/jaccard_pcoa_results.qza\u001B[0m\r\n",
      "\u001B[32mSaved PCoAResults to: /Users/cheesemania/PycharmProjects/mscthesis_wrkdir/src-analysis/diversity-analysis/core-metrics-results-D2-IBD/bray_curtis_pcoa_results.qza\u001B[0m\r\n",
      "\u001B[32mSaved Visualization to: /Users/cheesemania/PycharmProjects/mscthesis_wrkdir/src-analysis/diversity-analysis/core-metrics-results-D2-IBD/jaccard_emperor.qzv\u001B[0m\r\n",
      "\u001B[32mSaved Visualization to: /Users/cheesemania/PycharmProjects/mscthesis_wrkdir/src-analysis/diversity-analysis/core-metrics-results-D2-IBD/bray_curtis_emperor.qzv\u001B[0m\r\n",
      "\u001B[0m"
     ]
    }
   ],
   "source": [
    "!qiime diversity core-metrics \\\n",
    "    --i-table {path}/src-analysis/diversity-analysis/feature-table-subsets/D2_IBD_feature_table.qza \\\n",
    "    --p-sampling-depth 3000 \\\n",
    "    --m-metadata-file {path}/metadata/case_control_metadata.tsv \\\n",
    "    --output-dir {path}/src-analysis/diversity-analysis/core-metrics-results-D2-IBD"
   ],
   "metadata": {
    "collapsed": false,
    "ExecuteTime": {
     "end_time": "2024-08-19T19:16:36.893310Z",
     "start_time": "2024-08-19T19:13:09.778277Z"
    }
   },
   "id": "c76d40a8d032c82b",
   "execution_count": 53
  },
  {
   "cell_type": "code",
   "outputs": [
    {
     "name": "stdout",
     "output_type": "stream",
     "text": [
      "\u001B[32mSaved Visualization to: /Users/cheesemania/PycharmProjects/mscthesis_wrkdir/src-analysis/diversity-analysis/core-metrics-results-D2-IBD/D2-IBD-observed-features-group-significance.qzv\u001B[0m\r\n",
      "\u001B[0m"
     ]
    }
   ],
   "source": [
    "!qiime diversity alpha-group-significance \\\n",
    "    --i-alpha-diversity {path}/src-analysis/diversity-analysis/core-metrics-results-D2-IBD/observed_features_vector.qza \\\n",
    "    --m-metadata-file {path}/metadata/case_control_metadata.tsv \\\n",
    "    --o-visualization {path}/src-analysis/diversity-analysis/core-metrics-results-D2-IBD/D2-IBD-observed-features-group-significance.qzv"
   ],
   "metadata": {
    "collapsed": false,
    "ExecuteTime": {
     "end_time": "2024-08-19T19:19:06.156296Z",
     "start_time": "2024-08-19T19:18:39.315679Z"
    }
   },
   "id": "fdfce4cc29b593d2",
   "execution_count": 54
  },
  {
   "cell_type": "markdown",
   "source": [
    "##### Gastrointestinal-D2-IBS"
   ],
   "metadata": {
    "collapsed": false
   },
   "id": "b86462ed82628867"
  },
  {
   "cell_type": "code",
   "outputs": [
    {
     "name": "stdout",
     "output_type": "stream",
     "text": [
      "\u001B[32mSaved FeatureTable[Frequency] to: /Users/cheesemania/PycharmProjects/mscthesis_wrkdir/src-analysis/diversity-analysis/feature-table-subsets/D2_IBS_feature_table.qza\u001B[0m\r\n",
      "\u001B[0m"
     ]
    }
   ],
   "source": [
    "!qiime feature-table filter-samples \\\n",
    "    --i-table {path}/src-analysis/feature-table/health-disease-case-control/case_control_feature_table.qza \\\n",
    "    --m-metadata-file {path}/metadata/case_control_metadata.tsv \\\n",
    "    --p-where \"[Disease_Level_2]='IBS' \" \\\n",
    "    --o-filtered-table {path}/src-analysis/diversity-analysis/feature-table-subsets/D2_IBS_feature_table.qza"
   ],
   "metadata": {
    "collapsed": false,
    "ExecuteTime": {
     "end_time": "2024-08-19T19:19:42.847369Z",
     "start_time": "2024-08-19T19:19:15.094885Z"
    }
   },
   "id": "451bf30757e1ddd7",
   "execution_count": 55
  },
  {
   "cell_type": "code",
   "outputs": [
    {
     "name": "stdout",
     "output_type": "stream",
     "text": [
      "\u001B[32mSaved FeatureTable[Frequency] to: /Users/cheesemania/PycharmProjects/mscthesis_wrkdir/src-analysis/diversity-analysis/core-metrics-results-D2-IBS/rarefied_table.qza\u001B[0m\r\n",
      "\u001B[32mSaved SampleData[AlphaDiversity] to: /Users/cheesemania/PycharmProjects/mscthesis_wrkdir/src-analysis/diversity-analysis/core-metrics-results-D2-IBS/observed_features_vector.qza\u001B[0m\r\n",
      "\u001B[32mSaved SampleData[AlphaDiversity] to: /Users/cheesemania/PycharmProjects/mscthesis_wrkdir/src-analysis/diversity-analysis/core-metrics-results-D2-IBS/shannon_vector.qza\u001B[0m\r\n",
      "\u001B[32mSaved SampleData[AlphaDiversity] to: /Users/cheesemania/PycharmProjects/mscthesis_wrkdir/src-analysis/diversity-analysis/core-metrics-results-D2-IBS/evenness_vector.qza\u001B[0m\r\n",
      "\u001B[32mSaved DistanceMatrix to: /Users/cheesemania/PycharmProjects/mscthesis_wrkdir/src-analysis/diversity-analysis/core-metrics-results-D2-IBS/jaccard_distance_matrix.qza\u001B[0m\r\n",
      "\u001B[32mSaved DistanceMatrix to: /Users/cheesemania/PycharmProjects/mscthesis_wrkdir/src-analysis/diversity-analysis/core-metrics-results-D2-IBS/bray_curtis_distance_matrix.qza\u001B[0m\r\n",
      "\u001B[32mSaved PCoAResults to: /Users/cheesemania/PycharmProjects/mscthesis_wrkdir/src-analysis/diversity-analysis/core-metrics-results-D2-IBS/jaccard_pcoa_results.qza\u001B[0m\r\n",
      "\u001B[32mSaved PCoAResults to: /Users/cheesemania/PycharmProjects/mscthesis_wrkdir/src-analysis/diversity-analysis/core-metrics-results-D2-IBS/bray_curtis_pcoa_results.qza\u001B[0m\r\n",
      "\u001B[32mSaved Visualization to: /Users/cheesemania/PycharmProjects/mscthesis_wrkdir/src-analysis/diversity-analysis/core-metrics-results-D2-IBS/jaccard_emperor.qzv\u001B[0m\r\n",
      "\u001B[32mSaved Visualization to: /Users/cheesemania/PycharmProjects/mscthesis_wrkdir/src-analysis/diversity-analysis/core-metrics-results-D2-IBS/bray_curtis_emperor.qzv\u001B[0m\r\n",
      "\u001B[0m"
     ]
    }
   ],
   "source": [
    "!qiime diversity core-metrics \\\n",
    "    --i-table {path}/src-analysis/diversity-analysis/feature-table-subsets/D2_IBS_feature_table.qza \\\n",
    "    --p-sampling-depth 3000 \\\n",
    "    --m-metadata-file {path}/metadata/case_control_metadata.tsv \\\n",
    "    --output-dir {path}/src-analysis/diversity-analysis/core-metrics-results-D2-IBS"
   ],
   "metadata": {
    "collapsed": false,
    "ExecuteTime": {
     "end_time": "2024-08-19T19:24:23.537803Z",
     "start_time": "2024-08-19T19:20:53.853108Z"
    }
   },
   "id": "f80595500feaa5c3",
   "execution_count": 56
  },
  {
   "cell_type": "code",
   "outputs": [
    {
     "name": "stdout",
     "output_type": "stream",
     "text": [
      "\u001B[32mSaved Visualization to: /Users/cheesemania/PycharmProjects/mscthesis_wrkdir/src-analysis/diversity-analysis/core-metrics-results-D2-IBS/D2-IBS-observed-features-group-significance.qzv\u001B[0m\r\n",
      "\u001B[0m"
     ]
    }
   ],
   "source": [
    "!qiime diversity alpha-group-significance \\\n",
    "    --i-alpha-diversity {path}/src-analysis/diversity-analysis/core-metrics-results-D2-IBS/observed_features_vector.qza \\\n",
    "    --m-metadata-file {path}/metadata/case_control_metadata.tsv \\\n",
    "    --o-visualization {path}/src-analysis/diversity-analysis/core-metrics-results-D2-IBS/D2-IBS-observed-features-group-significance.qzv"
   ],
   "metadata": {
    "collapsed": false,
    "ExecuteTime": {
     "end_time": "2024-08-19T19:25:59.488561Z",
     "start_time": "2024-08-19T19:25:32.987422Z"
    }
   },
   "id": "97c0e2b5111057e4",
   "execution_count": 57
  },
  {
   "cell_type": "markdown",
   "source": [
    "##### Infectious-D2-COVID19 (3 projects including PRJNA637034)"
   ],
   "metadata": {
    "collapsed": false
   },
   "id": "8f957528a786ee5b"
  },
  {
   "cell_type": "code",
   "outputs": [
    {
     "name": "stdout",
     "output_type": "stream",
     "text": [
      "\u001B[32mSaved FeatureTable[Frequency] to: /Users/cheesemania/PycharmProjects/mscthesis_wrkdir/src-analysis/diversity-analysis/feature-table-subsets/D2_COVID19_feature_table.qza\u001B[0m\r\n",
      "\u001B[0m"
     ]
    }
   ],
   "source": [
    "!qiime feature-table filter-samples \\\n",
    "    --i-table {path}/src-analysis/feature-table/health-disease-case-control/case_control_feature_table.qza \\\n",
    "    --m-metadata-file {path}/metadata/case_control_metadata_remove_h1n1.tsv \\\n",
    "    --p-where \"[Disease_Level_2]='COVID-19' \" \\\n",
    "    --o-filtered-table {path}/src-analysis/diversity-analysis/feature-table-subsets/D2_COVID19_feature_table.qza"
   ],
   "metadata": {
    "collapsed": false,
    "ExecuteTime": {
     "end_time": "2024-08-20T10:31:19.723472Z",
     "start_time": "2024-08-20T10:30:47.235827Z"
    }
   },
   "id": "aba14b47b64d7117",
   "execution_count": 91
  },
  {
   "cell_type": "code",
   "outputs": [
    {
     "name": "stdout",
     "output_type": "stream",
     "text": [
      "\u001B[32mSaved FeatureTable[Frequency] to: /Users/cheesemania/PycharmProjects/mscthesis_wrkdir/src-analysis/diversity-analysis/core-metrics-results-D2-COVID19/rarefied_table.qza\u001B[0m\r\n",
      "\u001B[32mSaved SampleData[AlphaDiversity] to: /Users/cheesemania/PycharmProjects/mscthesis_wrkdir/src-analysis/diversity-analysis/core-metrics-results-D2-COVID19/observed_features_vector.qza\u001B[0m\r\n",
      "\u001B[32mSaved SampleData[AlphaDiversity] to: /Users/cheesemania/PycharmProjects/mscthesis_wrkdir/src-analysis/diversity-analysis/core-metrics-results-D2-COVID19/shannon_vector.qza\u001B[0m\r\n",
      "\u001B[32mSaved SampleData[AlphaDiversity] to: /Users/cheesemania/PycharmProjects/mscthesis_wrkdir/src-analysis/diversity-analysis/core-metrics-results-D2-COVID19/evenness_vector.qza\u001B[0m\r\n",
      "\u001B[32mSaved DistanceMatrix to: /Users/cheesemania/PycharmProjects/mscthesis_wrkdir/src-analysis/diversity-analysis/core-metrics-results-D2-COVID19/jaccard_distance_matrix.qza\u001B[0m\r\n",
      "\u001B[32mSaved DistanceMatrix to: /Users/cheesemania/PycharmProjects/mscthesis_wrkdir/src-analysis/diversity-analysis/core-metrics-results-D2-COVID19/bray_curtis_distance_matrix.qza\u001B[0m\r\n",
      "\u001B[32mSaved PCoAResults to: /Users/cheesemania/PycharmProjects/mscthesis_wrkdir/src-analysis/diversity-analysis/core-metrics-results-D2-COVID19/jaccard_pcoa_results.qza\u001B[0m\r\n",
      "\u001B[32mSaved PCoAResults to: /Users/cheesemania/PycharmProjects/mscthesis_wrkdir/src-analysis/diversity-analysis/core-metrics-results-D2-COVID19/bray_curtis_pcoa_results.qza\u001B[0m\r\n",
      "\u001B[32mSaved Visualization to: /Users/cheesemania/PycharmProjects/mscthesis_wrkdir/src-analysis/diversity-analysis/core-metrics-results-D2-COVID19/jaccard_emperor.qzv\u001B[0m\r\n",
      "\u001B[32mSaved Visualization to: /Users/cheesemania/PycharmProjects/mscthesis_wrkdir/src-analysis/diversity-analysis/core-metrics-results-D2-COVID19/bray_curtis_emperor.qzv\u001B[0m\r\n",
      "\u001B[0m"
     ]
    }
   ],
   "source": [
    "!qiime diversity core-metrics \\\n",
    "    --i-table {path}/src-analysis/diversity-analysis/feature-table-subsets/D2_COVID19_feature_table.qza \\\n",
    "    --p-sampling-depth 3000 \\\n",
    "    --m-metadata-file {path}/metadata/case_control_metadata.tsv \\\n",
    "    --output-dir {path}/src-analysis/diversity-analysis/core-metrics-results-D2-COVID19"
   ],
   "metadata": {
    "collapsed": false,
    "ExecuteTime": {
     "end_time": "2024-08-20T10:35:20.914688Z",
     "start_time": "2024-08-20T10:31:51.519100Z"
    }
   },
   "id": "48b5bae0efac9d3a",
   "execution_count": 92
  },
  {
   "cell_type": "code",
   "outputs": [
    {
     "name": "stdout",
     "output_type": "stream",
     "text": [
      "\u001B[32mSaved Visualization to: /Users/cheesemania/PycharmProjects/mscthesis_wrkdir/src-analysis/diversity-analysis/core-metrics-results-D2-COVID19/D2-COVID19-observed-features-group-significance.qzv\u001B[0m\r\n",
      "\u001B[0m"
     ]
    }
   ],
   "source": [
    "!qiime diversity alpha-group-significance \\\n",
    "    --i-alpha-diversity {path}/src-analysis/diversity-analysis/core-metrics-results-D2-COVID19/observed_features_vector.qza \\\n",
    "    --m-metadata-file {path}/metadata/case_control_metadata.tsv \\\n",
    "    --o-visualization {path}/src-analysis/diversity-analysis/core-metrics-results-D2-COVID19/D2-COVID19-observed-features-group-significance.qzv"
   ],
   "metadata": {
    "collapsed": false,
    "ExecuteTime": {
     "end_time": "2024-08-20T10:37:30.895369Z",
     "start_time": "2024-08-20T10:37:02.404686Z"
    }
   },
   "id": "56038dbdc8b2654a",
   "execution_count": 93
  },
  {
   "cell_type": "markdown",
   "source": [
    "#### Infectious-D2-H1N1 (PRJNA637034)"
   ],
   "metadata": {
    "collapsed": false
   },
   "id": "4162f2549d1a87e"
  },
  {
   "cell_type": "code",
   "outputs": [
    {
     "name": "stdout",
     "output_type": "stream",
     "text": [
      "\u001B[32mSaved FeatureTable[Frequency] to: /Users/cheesemania/PycharmProjects/mscthesis_wrkdir/src-analysis/diversity-analysis/feature-table-subsets/D2_H1N1_feature_table.qza\u001B[0m\r\n",
      "\u001B[0m"
     ]
    }
   ],
   "source": [
    "!qiime feature-table filter-samples \\\n",
    "    --i-table {path}/src-analysis/feature-table/health-disease-case-control/case_control_feature_table.qza \\\n",
    "    --m-metadata-file {path}/metadata/PRJNA637034_h1n1_metadata.tsv \\\n",
    "    --p-exclude-ids False \\\n",
    "    --o-filtered-table {path}/src-analysis/diversity-analysis/feature-table-subsets/D2_H1N1_feature_table.qza"
   ],
   "metadata": {
    "collapsed": false,
    "ExecuteTime": {
     "end_time": "2024-08-20T10:38:04.979678Z",
     "start_time": "2024-08-20T10:37:34.347831Z"
    }
   },
   "id": "c606e2be52c9cccb",
   "execution_count": 94
  },
  {
   "cell_type": "code",
   "outputs": [
    {
     "name": "stdout",
     "output_type": "stream",
     "text": [
      "\u001B[31m\u001B[1mPlugin error from diversity:\r\n",
      "\r\n",
      "  Ordinations with less than two dimensions are not supported.\r\n",
      "\r\n",
      "Debug info has been saved to /var/folders/4d/4y4rchb56yn2lw65zm2ykpr40000gn/T/qiime2-q2cli-err-3nfs0jhx.log\u001B[0m\r\n",
      "\u001B[0m"
     ]
    }
   ],
   "source": [
    "!qiime diversity core-metrics \\\n",
    "    --i-table {path}/src-analysis/diversity-analysis/feature-table-subsets/D2_H1N1_feature_table.qza \\\n",
    "    --p-sampling-depth 3000 \\\n",
    "    --m-metadata-file {path}/metadata/case_control_metadata.tsv \\\n",
    "    --output-dir {path}/src-analysis/diversity-analysis/core-metrics-results-D2-H1N1"
   ],
   "metadata": {
    "collapsed": false,
    "ExecuteTime": {
     "end_time": "2024-08-20T10:40:48.650391Z",
     "start_time": "2024-08-20T10:40:18.802590Z"
    }
   },
   "id": "a14e0f100656835f",
   "execution_count": 95
  },
  {
   "cell_type": "markdown",
   "source": [
    "check the number of samples remained after rarefaction:"
   ],
   "metadata": {
    "collapsed": false
   },
   "id": "c61ad599a4953adb"
  },
  {
   "cell_type": "code",
   "outputs": [],
   "source": [
    "df_before = pd.read_csv(f'{path}/metadata/PRJNA637034_h1n1_metadata.tsv', sep='\\t')\n",
    "table_after_rar = q2.Artifact.load(f'{path}/src-analysis/feature-table/health-disease-case-control/case_control_rarefied3000_feature_table.qza').view(pd.DataFrame)"
   ],
   "metadata": {
    "collapsed": false,
    "ExecuteTime": {
     "end_time": "2024-08-20T19:51:06.081247Z",
     "start_time": "2024-08-20T19:51:05.920995Z"
    }
   },
   "id": "e11ba55bbbc5351f",
   "execution_count": 115
  },
  {
   "cell_type": "code",
   "outputs": [
    {
     "data": {
      "text/plain": "      SampleID   Project_ID Sequencing_Region Case_Control Disease_Level_1  \\\n0  SRR11924182  PRJNA637034              ITS1      Control      Infectious   \n1  SRR11924183  PRJNA637034              ITS1      Control      Infectious   \n2  SRR11924184  PRJNA637034              ITS1      Control      Infectious   \n3  SRR11924185  PRJNA637034              ITS1      Control      Infectious   \n4  SRR11924187  PRJNA637034              ITS1      Control      Infectious   \n\n  Health_Status Disease_Level_2  Disease_Level_3  Disease_Subgroup  \\\n0       Healthy            H1N1              NaN               NaN   \n1       Healthy            H1N1              NaN               NaN   \n2       Healthy            H1N1              NaN               NaN   \n3       Healthy            H1N1              NaN               NaN   \n4       Healthy            H1N1              NaN               NaN   \n\n   IBD_Subgroup GeoLoc_Continent GeoLoc_Country GeoLoc_Region GeoLoc_City  \\\n0           NaN             Asia          China      Zhejiang    Hangzhou   \n1           NaN             Asia          China      Zhejiang    Hangzhou   \n2           NaN             Asia          China      Zhejiang    Hangzhou   \n3           NaN             Asia          China      Zhejiang    Hangzhou   \n4           NaN             Asia          China      Zhejiang    Hangzhou   \n\n  Host_Sex Host_Age_Category Host_Age_Decade Host_Age Age_Detail_Level  \n0  Unknown           Unknown         Unknown  Unknown               L1  \n1  Unknown           Unknown         Unknown  Unknown               L1  \n2  Unknown           Unknown         Unknown  Unknown               L1  \n3  Unknown           Unknown         Unknown  Unknown               L1  \n4  Unknown           Unknown         Unknown  Unknown               L1  ",
      "text/html": "<div>\n<style scoped>\n    .dataframe tbody tr th:only-of-type {\n        vertical-align: middle;\n    }\n\n    .dataframe tbody tr th {\n        vertical-align: top;\n    }\n\n    .dataframe thead th {\n        text-align: right;\n    }\n</style>\n<table border=\"1\" class=\"dataframe\">\n  <thead>\n    <tr style=\"text-align: right;\">\n      <th></th>\n      <th>SampleID</th>\n      <th>Project_ID</th>\n      <th>Sequencing_Region</th>\n      <th>Case_Control</th>\n      <th>Disease_Level_1</th>\n      <th>Health_Status</th>\n      <th>Disease_Level_2</th>\n      <th>Disease_Level_3</th>\n      <th>Disease_Subgroup</th>\n      <th>IBD_Subgroup</th>\n      <th>GeoLoc_Continent</th>\n      <th>GeoLoc_Country</th>\n      <th>GeoLoc_Region</th>\n      <th>GeoLoc_City</th>\n      <th>Host_Sex</th>\n      <th>Host_Age_Category</th>\n      <th>Host_Age_Decade</th>\n      <th>Host_Age</th>\n      <th>Age_Detail_Level</th>\n    </tr>\n  </thead>\n  <tbody>\n    <tr>\n      <th>0</th>\n      <td>SRR11924182</td>\n      <td>PRJNA637034</td>\n      <td>ITS1</td>\n      <td>Control</td>\n      <td>Infectious</td>\n      <td>Healthy</td>\n      <td>H1N1</td>\n      <td>NaN</td>\n      <td>NaN</td>\n      <td>NaN</td>\n      <td>Asia</td>\n      <td>China</td>\n      <td>Zhejiang</td>\n      <td>Hangzhou</td>\n      <td>Unknown</td>\n      <td>Unknown</td>\n      <td>Unknown</td>\n      <td>Unknown</td>\n      <td>L1</td>\n    </tr>\n    <tr>\n      <th>1</th>\n      <td>SRR11924183</td>\n      <td>PRJNA637034</td>\n      <td>ITS1</td>\n      <td>Control</td>\n      <td>Infectious</td>\n      <td>Healthy</td>\n      <td>H1N1</td>\n      <td>NaN</td>\n      <td>NaN</td>\n      <td>NaN</td>\n      <td>Asia</td>\n      <td>China</td>\n      <td>Zhejiang</td>\n      <td>Hangzhou</td>\n      <td>Unknown</td>\n      <td>Unknown</td>\n      <td>Unknown</td>\n      <td>Unknown</td>\n      <td>L1</td>\n    </tr>\n    <tr>\n      <th>2</th>\n      <td>SRR11924184</td>\n      <td>PRJNA637034</td>\n      <td>ITS1</td>\n      <td>Control</td>\n      <td>Infectious</td>\n      <td>Healthy</td>\n      <td>H1N1</td>\n      <td>NaN</td>\n      <td>NaN</td>\n      <td>NaN</td>\n      <td>Asia</td>\n      <td>China</td>\n      <td>Zhejiang</td>\n      <td>Hangzhou</td>\n      <td>Unknown</td>\n      <td>Unknown</td>\n      <td>Unknown</td>\n      <td>Unknown</td>\n      <td>L1</td>\n    </tr>\n    <tr>\n      <th>3</th>\n      <td>SRR11924185</td>\n      <td>PRJNA637034</td>\n      <td>ITS1</td>\n      <td>Control</td>\n      <td>Infectious</td>\n      <td>Healthy</td>\n      <td>H1N1</td>\n      <td>NaN</td>\n      <td>NaN</td>\n      <td>NaN</td>\n      <td>Asia</td>\n      <td>China</td>\n      <td>Zhejiang</td>\n      <td>Hangzhou</td>\n      <td>Unknown</td>\n      <td>Unknown</td>\n      <td>Unknown</td>\n      <td>Unknown</td>\n      <td>L1</td>\n    </tr>\n    <tr>\n      <th>4</th>\n      <td>SRR11924187</td>\n      <td>PRJNA637034</td>\n      <td>ITS1</td>\n      <td>Control</td>\n      <td>Infectious</td>\n      <td>Healthy</td>\n      <td>H1N1</td>\n      <td>NaN</td>\n      <td>NaN</td>\n      <td>NaN</td>\n      <td>Asia</td>\n      <td>China</td>\n      <td>Zhejiang</td>\n      <td>Hangzhou</td>\n      <td>Unknown</td>\n      <td>Unknown</td>\n      <td>Unknown</td>\n      <td>Unknown</td>\n      <td>L1</td>\n    </tr>\n  </tbody>\n</table>\n</div>"
     },
     "execution_count": 116,
     "metadata": {},
     "output_type": "execute_result"
    }
   ],
   "source": [
    "df_before.head()"
   ],
   "metadata": {
    "collapsed": false,
    "ExecuteTime": {
     "end_time": "2024-08-20T19:51:06.802058Z",
     "start_time": "2024-08-20T19:51:06.789863Z"
    }
   },
   "id": "63ff45d54ef36a66",
   "execution_count": 116
  },
  {
   "cell_type": "code",
   "outputs": [
    {
     "data": {
      "text/plain": "Healthy    46\nH1N1       32\nName: Health_Status, dtype: int64"
     },
     "execution_count": 117,
     "metadata": {},
     "output_type": "execute_result"
    }
   ],
   "source": [
    "df_before['Health_Status'].value_counts()"
   ],
   "metadata": {
    "collapsed": false,
    "ExecuteTime": {
     "end_time": "2024-08-20T19:51:08.271791Z",
     "start_time": "2024-08-20T19:51:08.264226Z"
    }
   },
   "id": "93c9ce89b1915ba3",
   "execution_count": 117
  },
  {
   "cell_type": "code",
   "outputs": [],
   "source": [
    "df_before_samples = set(df_before['SampleID'])\n",
    "table_after_rar_samples = set(table_after_rar.index)"
   ],
   "metadata": {
    "collapsed": false,
    "ExecuteTime": {
     "end_time": "2024-08-20T19:51:11.472293Z",
     "start_time": "2024-08-20T19:51:11.468589Z"
    }
   },
   "id": "bb25afc59afcbf0a",
   "execution_count": 118
  },
  {
   "cell_type": "code",
   "outputs": [
    {
     "name": "stdout",
     "output_type": "stream",
     "text": [
      "Some IDs are missing after rarefaction: {'SRR11924237', 'SRR11924238', 'SRR11924234', 'SRR11924192', 'SRR11924200', 'SRR11924239', 'SRR11924217', 'SRR11924246', 'SRR11924247', 'SRR11924244', 'SRR11924182', 'SRR11924242', 'SRR11924248', 'SRR11924212', 'SRR11924201', 'SRR11924196', 'SRR11924228', 'SRR11924204', 'SRR11924220', 'SRR11924236', 'SRR11924209', 'SRR11924258', 'SRR11924256', 'SRR11924195', 'SRR11924249', 'SRR11924251', 'SRR11924205', 'SRR11924267', 'SRR11924231', 'SRR11924185', 'SRR11924187', 'SRR11924260', 'SRR11924198', 'SRR11924235', 'SRR11924265', 'SRR11924190', 'SRR11924232', 'SRR11924250', 'SRR11924188', 'SRR11924207', 'SRR11924227', 'SRR11924233', 'SRR11924243', 'SRR11924257', 'SRR11924203', 'SRR11924206', 'SRR11924224', 'SRR11924189', 'SRR11924194', 'SRR11924225', 'SRR11924213', 'SRR11924216', 'SRR11924191', 'SRR11924255', 'SRR11924211', 'SRR11924229', 'SRR11924261', 'SRR11924218', 'SRR11924266', 'SRR11924215', 'SRR11924222', 'SRR11924226', 'SRR11924240', 'SRR11924259', 'SRR11924262', 'SRR11924184', 'SRR11924214', 'SRR11924210', 'SRR11924254', 'SRR11924253', 'SRR11924221', 'SRR11924202', 'SRR11924193', 'SRR11924264', 'SRR11924245', 'SRR11924199', 'SRR11924183'}\n",
      "The number of missing IDs in the table after rarefaction: 77\n"
     ]
    }
   ],
   "source": [
    "all_ids_present = df_before_samples.issubset(table_after_rar_samples)\n",
    "\n",
    "if all_ids_present:\n",
    "    print(\"All IDs in the H1N1 df are present in the table after rarefaction.\")\n",
    "else:\n",
    "    # Find which IDs are missing\n",
    "    missing_ids = df_before_samples - table_after_rar_samples\n",
    "    print(f\"Some IDs are missing after rarefaction: {missing_ids}\")\n",
    "    print(f\"The number of missing IDs in the table after rarefaction: {len(missing_ids)}\")"
   ],
   "metadata": {
    "collapsed": false,
    "ExecuteTime": {
     "end_time": "2024-08-20T19:51:12.431420Z",
     "start_time": "2024-08-20T19:51:12.428058Z"
    }
   },
   "id": "a661deb29114902c",
   "execution_count": 119
  },
  {
   "cell_type": "markdown",
   "source": [
    "After rarefaction, only 1 sample are left.\n",
    "\n",
    "**I should discard this study (remove all the H1N1 samples)**"
   ],
   "metadata": {
    "collapsed": false
   },
   "id": "40d53e5fa05f57ae"
  },
  {
   "cell_type": "markdown",
   "source": [
    "##### Infectious-D2-HIV"
   ],
   "metadata": {
    "collapsed": false
   },
   "id": "eae1eb6204847bc1"
  },
  {
   "cell_type": "code",
   "outputs": [
    {
     "name": "stdout",
     "output_type": "stream",
     "text": [
      "\u001B[32mSaved FeatureTable[Frequency] to: /Users/cheesemania/PycharmProjects/mscthesis_wrkdir/src-analysis/diversity-analysis/feature-table-subsets/D2_HIV_feature_table.qza\u001B[0m\r\n",
      "\u001B[0m"
     ]
    }
   ],
   "source": [
    "!qiime feature-table filter-samples \\\n",
    "    --i-table {path}/src-analysis/feature-table/health-disease-case-control/case_control_feature_table.qza \\\n",
    "    --m-metadata-file {path}/metadata/case_control_metadata.tsv \\\n",
    "    --p-where \"[Disease_Level_2]='HIV' \" \\\n",
    "    --o-filtered-table {path}/src-analysis/diversity-analysis/feature-table-subsets/D2_HIV_feature_table.qza"
   ],
   "metadata": {
    "collapsed": false,
    "ExecuteTime": {
     "end_time": "2024-08-20T09:41:03.746216Z",
     "start_time": "2024-08-20T09:40:30.402437Z"
    }
   },
   "id": "bdd16642d0d8df96",
   "execution_count": 87
  },
  {
   "cell_type": "code",
   "outputs": [
    {
     "name": "stdout",
     "output_type": "stream",
     "text": [
      "\u001B[32mSaved FeatureTable[Frequency] to: /Users/cheesemania/PycharmProjects/mscthesis_wrkdir/src-analysis/diversity-analysis/core-metrics-results-D2-HIV/rarefied_table.qza\u001B[0m\r\n",
      "\u001B[32mSaved SampleData[AlphaDiversity] to: /Users/cheesemania/PycharmProjects/mscthesis_wrkdir/src-analysis/diversity-analysis/core-metrics-results-D2-HIV/observed_features_vector.qza\u001B[0m\r\n",
      "\u001B[32mSaved SampleData[AlphaDiversity] to: /Users/cheesemania/PycharmProjects/mscthesis_wrkdir/src-analysis/diversity-analysis/core-metrics-results-D2-HIV/shannon_vector.qza\u001B[0m\r\n",
      "\u001B[32mSaved SampleData[AlphaDiversity] to: /Users/cheesemania/PycharmProjects/mscthesis_wrkdir/src-analysis/diversity-analysis/core-metrics-results-D2-HIV/evenness_vector.qza\u001B[0m\r\n",
      "\u001B[32mSaved DistanceMatrix to: /Users/cheesemania/PycharmProjects/mscthesis_wrkdir/src-analysis/diversity-analysis/core-metrics-results-D2-HIV/jaccard_distance_matrix.qza\u001B[0m\r\n",
      "\u001B[32mSaved DistanceMatrix to: /Users/cheesemania/PycharmProjects/mscthesis_wrkdir/src-analysis/diversity-analysis/core-metrics-results-D2-HIV/bray_curtis_distance_matrix.qza\u001B[0m\r\n",
      "\u001B[32mSaved PCoAResults to: /Users/cheesemania/PycharmProjects/mscthesis_wrkdir/src-analysis/diversity-analysis/core-metrics-results-D2-HIV/jaccard_pcoa_results.qza\u001B[0m\r\n",
      "\u001B[32mSaved PCoAResults to: /Users/cheesemania/PycharmProjects/mscthesis_wrkdir/src-analysis/diversity-analysis/core-metrics-results-D2-HIV/bray_curtis_pcoa_results.qza\u001B[0m\r\n",
      "\u001B[32mSaved Visualization to: /Users/cheesemania/PycharmProjects/mscthesis_wrkdir/src-analysis/diversity-analysis/core-metrics-results-D2-HIV/jaccard_emperor.qzv\u001B[0m\r\n",
      "\u001B[32mSaved Visualization to: /Users/cheesemania/PycharmProjects/mscthesis_wrkdir/src-analysis/diversity-analysis/core-metrics-results-D2-HIV/bray_curtis_emperor.qzv\u001B[0m\r\n",
      "\u001B[0m"
     ]
    }
   ],
   "source": [
    "!qiime diversity core-metrics \\\n",
    "    --i-table {path}/src-analysis/diversity-analysis/feature-table-subsets/D2_HIV_feature_table.qza \\\n",
    "    --p-sampling-depth 3000 \\\n",
    "    --m-metadata-file {path}/metadata/case_control_metadata.tsv \\\n",
    "    --output-dir {path}/src-analysis/diversity-analysis/core-metrics-results-D2-HIV"
   ],
   "metadata": {
    "collapsed": false,
    "ExecuteTime": {
     "end_time": "2024-08-20T09:44:47.848152Z",
     "start_time": "2024-08-20T09:41:09.636224Z"
    }
   },
   "id": "96f61373062f88ea",
   "execution_count": 88
  },
  {
   "cell_type": "code",
   "outputs": [
    {
     "name": "stdout",
     "output_type": "stream",
     "text": [
      "\u001B[32mSaved Visualization to: /Users/cheesemania/PycharmProjects/mscthesis_wrkdir/src-analysis/diversity-analysis/core-metrics-results-D2-HIV/D2-HIV-observed-features-group-significance.qzv\u001B[0m\r\n",
      "\u001B[0m"
     ]
    }
   ],
   "source": [
    "!qiime diversity alpha-group-significance \\\n",
    "    --i-alpha-diversity {path}/src-analysis/diversity-analysis/core-metrics-results-D2-HIV/observed_features_vector.qza \\\n",
    "    --m-metadata-file {path}/metadata/case_control_metadata.tsv \\\n",
    "    --o-visualization {path}/src-analysis/diversity-analysis/core-metrics-results-D2-HIV/D2-HIV-observed-features-group-significance.qzv"
   ],
   "metadata": {
    "collapsed": false,
    "ExecuteTime": {
     "end_time": "2024-08-20T09:46:16.657780Z",
     "start_time": "2024-08-20T09:45:47.401792Z"
    }
   },
   "id": "8f9cb54811158948",
   "execution_count": 89
  },
  {
   "cell_type": "markdown",
   "source": [
    "##### Infectious-D2-CDI"
   ],
   "metadata": {
    "collapsed": false
   },
   "id": "672eea7b3e3b2579"
  },
  {
   "cell_type": "code",
   "outputs": [
    {
     "name": "stdout",
     "output_type": "stream",
     "text": [
      "\u001B[32mSaved FeatureTable[Frequency] to: /Users/cheesemania/PycharmProjects/mscthesis_wrkdir/src-analysis/diversity-analysis/feature-table-subsets/D2_CDI_feature_table.qza\u001B[0m\r\n",
      "\u001B[0m"
     ]
    }
   ],
   "source": [
    "!qiime feature-table filter-samples \\\n",
    "    --i-table {path}/src-analysis/feature-table/health-disease-case-control/case_control_feature_table.qza \\\n",
    "    --m-metadata-file {path}/metadata/case_control_metadata.tsv \\\n",
    "    --p-where \"[Disease_Level_2]='CDI' \" \\\n",
    "    --o-filtered-table {path}/src-analysis/diversity-analysis/feature-table-subsets/D2_CDI_feature_table.qza"
   ],
   "metadata": {
    "collapsed": false,
    "ExecuteTime": {
     "end_time": "2024-08-19T19:47:43.598719Z",
     "start_time": "2024-08-19T19:47:16.597022Z"
    }
   },
   "id": "c910a96e0c6b78df",
   "execution_count": 64
  },
  {
   "cell_type": "code",
   "outputs": [
    {
     "name": "stdout",
     "output_type": "stream",
     "text": [
      "\u001B[32mSaved FeatureTable[Frequency] to: /Users/cheesemania/PycharmProjects/mscthesis_wrkdir/src-analysis/diversity-analysis/core-metrics-results-D2-CDI/rarefied_table.qza\u001B[0m\r\n",
      "\u001B[32mSaved SampleData[AlphaDiversity] to: /Users/cheesemania/PycharmProjects/mscthesis_wrkdir/src-analysis/diversity-analysis/core-metrics-results-D2-CDI/observed_features_vector.qza\u001B[0m\r\n",
      "\u001B[32mSaved SampleData[AlphaDiversity] to: /Users/cheesemania/PycharmProjects/mscthesis_wrkdir/src-analysis/diversity-analysis/core-metrics-results-D2-CDI/shannon_vector.qza\u001B[0m\r\n",
      "\u001B[32mSaved SampleData[AlphaDiversity] to: /Users/cheesemania/PycharmProjects/mscthesis_wrkdir/src-analysis/diversity-analysis/core-metrics-results-D2-CDI/evenness_vector.qza\u001B[0m\r\n",
      "\u001B[32mSaved DistanceMatrix to: /Users/cheesemania/PycharmProjects/mscthesis_wrkdir/src-analysis/diversity-analysis/core-metrics-results-D2-CDI/jaccard_distance_matrix.qza\u001B[0m\r\n",
      "\u001B[32mSaved DistanceMatrix to: /Users/cheesemania/PycharmProjects/mscthesis_wrkdir/src-analysis/diversity-analysis/core-metrics-results-D2-CDI/bray_curtis_distance_matrix.qza\u001B[0m\r\n",
      "\u001B[32mSaved PCoAResults to: /Users/cheesemania/PycharmProjects/mscthesis_wrkdir/src-analysis/diversity-analysis/core-metrics-results-D2-CDI/jaccard_pcoa_results.qza\u001B[0m\r\n",
      "\u001B[32mSaved PCoAResults to: /Users/cheesemania/PycharmProjects/mscthesis_wrkdir/src-analysis/diversity-analysis/core-metrics-results-D2-CDI/bray_curtis_pcoa_results.qza\u001B[0m\r\n",
      "\u001B[32mSaved Visualization to: /Users/cheesemania/PycharmProjects/mscthesis_wrkdir/src-analysis/diversity-analysis/core-metrics-results-D2-CDI/jaccard_emperor.qzv\u001B[0m\r\n",
      "\u001B[32mSaved Visualization to: /Users/cheesemania/PycharmProjects/mscthesis_wrkdir/src-analysis/diversity-analysis/core-metrics-results-D2-CDI/bray_curtis_emperor.qzv\u001B[0m\r\n",
      "\u001B[0m"
     ]
    }
   ],
   "source": [
    "!qiime diversity core-metrics \\\n",
    "    --i-table {path}/src-analysis/diversity-analysis/feature-table-subsets/D2_CDI_feature_table.qza \\\n",
    "    --p-sampling-depth 3000 \\\n",
    "    --m-metadata-file {path}/metadata/case_control_metadata.tsv \\\n",
    "    --output-dir {path}/src-analysis/diversity-analysis/core-metrics-results-D2-CDI"
   ],
   "metadata": {
    "collapsed": false,
    "ExecuteTime": {
     "end_time": "2024-08-19T19:51:14.858031Z",
     "start_time": "2024-08-19T19:47:46.087603Z"
    }
   },
   "id": "3c9595ca21699c80",
   "execution_count": 65
  },
  {
   "cell_type": "code",
   "outputs": [
    {
     "name": "stdout",
     "output_type": "stream",
     "text": [
      "\u001B[32mSaved Visualization to: /Users/cheesemania/PycharmProjects/mscthesis_wrkdir/src-analysis/diversity-analysis/core-metrics-results-D2-CDI/D2-CDI-observed-features-group-significance.qzv\u001B[0m\r\n",
      "\u001B[0m"
     ]
    }
   ],
   "source": [
    "!qiime diversity alpha-group-significance \\\n",
    "    --i-alpha-diversity {path}/src-analysis/diversity-analysis/core-metrics-results-D2-CDI/observed_features_vector.qza \\\n",
    "    --m-metadata-file {path}/metadata/case_control_metadata.tsv \\\n",
    "    --o-visualization {path}/src-analysis/diversity-analysis/core-metrics-results-D2-CDI/D2-CDI-observed-features-group-significance.qzv"
   ],
   "metadata": {
    "collapsed": false,
    "ExecuteTime": {
     "end_time": "2024-08-19T19:52:15.377118Z",
     "start_time": "2024-08-19T19:51:48.582038Z"
    }
   },
   "id": "bca91e72bd407dcf",
   "execution_count": 66
  },
  {
   "cell_type": "markdown",
   "source": [
    "##### Infectious-D2-HD"
   ],
   "metadata": {
    "collapsed": false
   },
   "id": "890078f08a67d852"
  },
  {
   "cell_type": "code",
   "outputs": [
    {
     "name": "stdout",
     "output_type": "stream",
     "text": [
      "\u001B[32mSaved FeatureTable[Frequency] to: /Users/cheesemania/PycharmProjects/mscthesis_wrkdir/src-analysis/diversity-analysis/feature-table-subsets/D2_HD_feature_table.qza\u001B[0m\r\n",
      "\u001B[0m"
     ]
    }
   ],
   "source": [
    "!qiime feature-table filter-samples \\\n",
    "    --i-table {path}/src-analysis/feature-table/health-disease-case-control/case_control_feature_table.qza \\\n",
    "    --m-metadata-file {path}/metadata/case_control_metadata.tsv \\\n",
    "    --p-where \"[Disease_Level_2]='HD' \" \\\n",
    "    --o-filtered-table {path}/src-analysis/diversity-analysis/feature-table-subsets/D2_HD_feature_table.qza"
   ],
   "metadata": {
    "collapsed": false,
    "ExecuteTime": {
     "end_time": "2024-08-19T19:52:46.717488Z",
     "start_time": "2024-08-19T19:52:18.609551Z"
    }
   },
   "id": "5307709dc54b40b0",
   "execution_count": 67
  },
  {
   "cell_type": "code",
   "outputs": [
    {
     "name": "stdout",
     "output_type": "stream",
     "text": [
      "\u001B[32mSaved FeatureTable[Frequency] to: /Users/cheesemania/PycharmProjects/mscthesis_wrkdir/src-analysis/diversity-analysis/core-metrics-results-D2-HD/rarefied_table.qza\u001B[0m\r\n",
      "\u001B[32mSaved SampleData[AlphaDiversity] to: /Users/cheesemania/PycharmProjects/mscthesis_wrkdir/src-analysis/diversity-analysis/core-metrics-results-D2-HD/observed_features_vector.qza\u001B[0m\r\n",
      "\u001B[32mSaved SampleData[AlphaDiversity] to: /Users/cheesemania/PycharmProjects/mscthesis_wrkdir/src-analysis/diversity-analysis/core-metrics-results-D2-HD/shannon_vector.qza\u001B[0m\r\n",
      "\u001B[32mSaved SampleData[AlphaDiversity] to: /Users/cheesemania/PycharmProjects/mscthesis_wrkdir/src-analysis/diversity-analysis/core-metrics-results-D2-HD/evenness_vector.qza\u001B[0m\r\n",
      "\u001B[32mSaved DistanceMatrix to: /Users/cheesemania/PycharmProjects/mscthesis_wrkdir/src-analysis/diversity-analysis/core-metrics-results-D2-HD/jaccard_distance_matrix.qza\u001B[0m\r\n",
      "\u001B[32mSaved DistanceMatrix to: /Users/cheesemania/PycharmProjects/mscthesis_wrkdir/src-analysis/diversity-analysis/core-metrics-results-D2-HD/bray_curtis_distance_matrix.qza\u001B[0m\r\n",
      "\u001B[32mSaved PCoAResults to: /Users/cheesemania/PycharmProjects/mscthesis_wrkdir/src-analysis/diversity-analysis/core-metrics-results-D2-HD/jaccard_pcoa_results.qza\u001B[0m\r\n",
      "\u001B[32mSaved PCoAResults to: /Users/cheesemania/PycharmProjects/mscthesis_wrkdir/src-analysis/diversity-analysis/core-metrics-results-D2-HD/bray_curtis_pcoa_results.qza\u001B[0m\r\n",
      "\u001B[32mSaved Visualization to: /Users/cheesemania/PycharmProjects/mscthesis_wrkdir/src-analysis/diversity-analysis/core-metrics-results-D2-HD/jaccard_emperor.qzv\u001B[0m\r\n",
      "\u001B[32mSaved Visualization to: /Users/cheesemania/PycharmProjects/mscthesis_wrkdir/src-analysis/diversity-analysis/core-metrics-results-D2-HD/bray_curtis_emperor.qzv\u001B[0m\r\n",
      "\u001B[0m"
     ]
    }
   ],
   "source": [
    "!qiime diversity core-metrics \\\n",
    "    --i-table {path}/src-analysis/diversity-analysis/feature-table-subsets/D2_HD_feature_table.qza \\\n",
    "    --p-sampling-depth 3000 \\\n",
    "    --m-metadata-file {path}/metadata/case_control_metadata.tsv \\\n",
    "    --output-dir {path}/src-analysis/diversity-analysis/core-metrics-results-D2-HD"
   ],
   "metadata": {
    "collapsed": false,
    "ExecuteTime": {
     "end_time": "2024-08-19T19:57:27.055250Z",
     "start_time": "2024-08-19T19:53:59.550469Z"
    }
   },
   "id": "aba52d12ee814f39",
   "execution_count": 68
  },
  {
   "cell_type": "code",
   "outputs": [
    {
     "name": "stdout",
     "output_type": "stream",
     "text": [
      "\u001B[32mSaved Visualization to: /Users/cheesemania/PycharmProjects/mscthesis_wrkdir/src-analysis/diversity-analysis/core-metrics-results-D2-HD/D2-HD-observed-features-group-significance.qzv\u001B[0m\r\n",
      "\u001B[0m"
     ]
    }
   ],
   "source": [
    "!qiime diversity alpha-group-significance \\\n",
    "    --i-alpha-diversity {path}/src-analysis/diversity-analysis/core-metrics-results-D2-HD/observed_features_vector.qza \\\n",
    "    --m-metadata-file {path}/metadata/case_control_metadata.tsv \\\n",
    "    --o-visualization {path}/src-analysis/diversity-analysis/core-metrics-results-D2-HD/D2-HD-observed-features-group-significance.qzv"
   ],
   "metadata": {
    "collapsed": false,
    "ExecuteTime": {
     "end_time": "2024-08-19T19:58:03.876202Z",
     "start_time": "2024-08-19T19:57:34.961945Z"
    }
   },
   "id": "5148701dc426ee76",
   "execution_count": 69
  },
  {
   "cell_type": "markdown",
   "source": [
    "##### Liver-D2-Alcohol-Associated-LD"
   ],
   "metadata": {
    "collapsed": false
   },
   "id": "597a9ffd23595d14"
  },
  {
   "cell_type": "code",
   "outputs": [
    {
     "name": "stdout",
     "output_type": "stream",
     "text": [
      "\u001B[32mSaved FeatureTable[Frequency] to: /Users/cheesemania/PycharmProjects/mscthesis_wrkdir/src-analysis/diversity-analysis/feature-table-subsets/D2_Alcohol-Associated-LD_feature_table.qza\u001B[0m\r\n",
      "\u001B[0m"
     ]
    }
   ],
   "source": [
    "!qiime feature-table filter-samples \\\n",
    "    --i-table {path}/src-analysis/feature-table/health-disease-case-control/case_control_feature_table.qza \\\n",
    "    --m-metadata-file {path}/metadata/case_control_metadata.tsv \\\n",
    "    --p-where \"[Disease_Level_2]='Alcohol-Associated-LD' \" \\\n",
    "    --o-filtered-table {path}/src-analysis/diversity-analysis/feature-table-subsets/D2_Alcohol-Associated-LD_feature_table.qza"
   ],
   "metadata": {
    "collapsed": false,
    "ExecuteTime": {
     "end_time": "2024-08-19T19:31:16.342653Z",
     "start_time": "2024-08-19T19:30:46.767605Z"
    }
   },
   "id": "3a5c94f7aff60f1e",
   "execution_count": 58
  },
  {
   "cell_type": "code",
   "outputs": [
    {
     "name": "stdout",
     "output_type": "stream",
     "text": [
      "\u001B[32mSaved FeatureTable[Frequency] to: /Users/cheesemania/PycharmProjects/mscthesis_wrkdir/src-analysis/diversity-analysis/core-metrics-results-D2-Alcohol-Associated-LD/rarefied_table.qza\u001B[0m\r\n",
      "\u001B[32mSaved SampleData[AlphaDiversity] to: /Users/cheesemania/PycharmProjects/mscthesis_wrkdir/src-analysis/diversity-analysis/core-metrics-results-D2-Alcohol-Associated-LD/observed_features_vector.qza\u001B[0m\r\n",
      "\u001B[32mSaved SampleData[AlphaDiversity] to: /Users/cheesemania/PycharmProjects/mscthesis_wrkdir/src-analysis/diversity-analysis/core-metrics-results-D2-Alcohol-Associated-LD/shannon_vector.qza\u001B[0m\r\n",
      "\u001B[32mSaved SampleData[AlphaDiversity] to: /Users/cheesemania/PycharmProjects/mscthesis_wrkdir/src-analysis/diversity-analysis/core-metrics-results-D2-Alcohol-Associated-LD/evenness_vector.qza\u001B[0m\r\n",
      "\u001B[32mSaved DistanceMatrix to: /Users/cheesemania/PycharmProjects/mscthesis_wrkdir/src-analysis/diversity-analysis/core-metrics-results-D2-Alcohol-Associated-LD/jaccard_distance_matrix.qza\u001B[0m\r\n",
      "\u001B[32mSaved DistanceMatrix to: /Users/cheesemania/PycharmProjects/mscthesis_wrkdir/src-analysis/diversity-analysis/core-metrics-results-D2-Alcohol-Associated-LD/bray_curtis_distance_matrix.qza\u001B[0m\r\n",
      "\u001B[32mSaved PCoAResults to: /Users/cheesemania/PycharmProjects/mscthesis_wrkdir/src-analysis/diversity-analysis/core-metrics-results-D2-Alcohol-Associated-LD/jaccard_pcoa_results.qza\u001B[0m\r\n",
      "\u001B[32mSaved PCoAResults to: /Users/cheesemania/PycharmProjects/mscthesis_wrkdir/src-analysis/diversity-analysis/core-metrics-results-D2-Alcohol-Associated-LD/bray_curtis_pcoa_results.qza\u001B[0m\r\n",
      "\u001B[32mSaved Visualization to: /Users/cheesemania/PycharmProjects/mscthesis_wrkdir/src-analysis/diversity-analysis/core-metrics-results-D2-Alcohol-Associated-LD/jaccard_emperor.qzv\u001B[0m\r\n",
      "\u001B[32mSaved Visualization to: /Users/cheesemania/PycharmProjects/mscthesis_wrkdir/src-analysis/diversity-analysis/core-metrics-results-D2-Alcohol-Associated-LD/bray_curtis_emperor.qzv\u001B[0m\r\n",
      "\u001B[0m"
     ]
    }
   ],
   "source": [
    "!qiime diversity core-metrics \\\n",
    "    --i-table {path}/src-analysis/diversity-analysis/feature-table-subsets/D2_Alcohol-Associated-LD_feature_table.qza \\\n",
    "    --p-sampling-depth 3000 \\\n",
    "    --m-metadata-file {path}/metadata/case_control_metadata.tsv \\\n",
    "    --output-dir {path}/src-analysis/diversity-analysis/core-metrics-results-D2-Alcohol-Associated-LD"
   ],
   "metadata": {
    "collapsed": false,
    "ExecuteTime": {
     "end_time": "2024-08-19T19:35:00.741296Z",
     "start_time": "2024-08-19T19:31:19.686773Z"
    }
   },
   "id": "cb0b7d04d2e32799",
   "execution_count": 59
  },
  {
   "cell_type": "code",
   "outputs": [
    {
     "name": "stdout",
     "output_type": "stream",
     "text": [
      "\u001B[32mSaved Visualization to: /Users/cheesemania/PycharmProjects/mscthesis_wrkdir/src-analysis/diversity-analysis/core-metrics-results-D2-Alcohol-Associated-LD/D2-Alcohol-Associated-LD-observed-features-group-significance.qzv\u001B[0m\r\n",
      "\u001B[0m"
     ]
    }
   ],
   "source": [
    "!qiime diversity alpha-group-significance \\\n",
    "    --i-alpha-diversity {path}/src-analysis/diversity-analysis/core-metrics-results-D2-Alcohol-Associated-LD/observed_features_vector.qza \\\n",
    "    --m-metadata-file {path}/metadata/case_control_metadata.tsv \\\n",
    "    --o-visualization {path}/src-analysis/diversity-analysis/core-metrics-results-D2-Alcohol-Associated-LD/D2-Alcohol-Associated-LD-observed-features-group-significance.qzv"
   ],
   "metadata": {
    "collapsed": false,
    "ExecuteTime": {
     "end_time": "2024-08-19T19:35:45.798882Z",
     "start_time": "2024-08-19T19:35:18.934263Z"
    }
   },
   "id": "3cef36ec52c2f07e",
   "execution_count": 60
  },
  {
   "cell_type": "markdown",
   "source": [
    "##### Liver-D2-NAFLD"
   ],
   "metadata": {
    "collapsed": false
   },
   "id": "37818a944e0d0881"
  },
  {
   "cell_type": "code",
   "outputs": [
    {
     "name": "stdout",
     "output_type": "stream",
     "text": [
      "\u001B[32mSaved FeatureTable[Frequency] to: /Users/cheesemania/PycharmProjects/mscthesis_wrkdir/src-analysis/diversity-analysis/feature-table-subsets/D2_NAFLD_feature_table.qza\u001B[0m\r\n",
      "\u001B[0m"
     ]
    }
   ],
   "source": [
    "!qiime feature-table filter-samples \\\n",
    "    --i-table {path}/src-analysis/feature-table/health-disease-case-control/case_control_feature_table.qza \\\n",
    "    --m-metadata-file {path}/metadata/case_control_metadata.tsv \\\n",
    "    --p-where \"[Disease_Level_2]='NAFLD' \" \\\n",
    "    --o-filtered-table {path}/src-analysis/diversity-analysis/feature-table-subsets/D2_NAFLD_feature_table.qza"
   ],
   "metadata": {
    "collapsed": false,
    "ExecuteTime": {
     "end_time": "2024-08-19T19:36:20.947672Z",
     "start_time": "2024-08-19T19:35:52.528001Z"
    }
   },
   "id": "7f5cc3db8afc2f35",
   "execution_count": 61
  },
  {
   "cell_type": "code",
   "outputs": [
    {
     "name": "stdout",
     "output_type": "stream",
     "text": [
      "\u001B[32mSaved FeatureTable[Frequency] to: /Users/cheesemania/PycharmProjects/mscthesis_wrkdir/src-analysis/diversity-analysis/core-metrics-results-D2-NAFLD/rarefied_table.qza\u001B[0m\r\n",
      "\u001B[32mSaved SampleData[AlphaDiversity] to: /Users/cheesemania/PycharmProjects/mscthesis_wrkdir/src-analysis/diversity-analysis/core-metrics-results-D2-NAFLD/observed_features_vector.qza\u001B[0m\r\n",
      "\u001B[32mSaved SampleData[AlphaDiversity] to: /Users/cheesemania/PycharmProjects/mscthesis_wrkdir/src-analysis/diversity-analysis/core-metrics-results-D2-NAFLD/shannon_vector.qza\u001B[0m\r\n",
      "\u001B[32mSaved SampleData[AlphaDiversity] to: /Users/cheesemania/PycharmProjects/mscthesis_wrkdir/src-analysis/diversity-analysis/core-metrics-results-D2-NAFLD/evenness_vector.qza\u001B[0m\r\n",
      "\u001B[32mSaved DistanceMatrix to: /Users/cheesemania/PycharmProjects/mscthesis_wrkdir/src-analysis/diversity-analysis/core-metrics-results-D2-NAFLD/jaccard_distance_matrix.qza\u001B[0m\r\n",
      "\u001B[32mSaved DistanceMatrix to: /Users/cheesemania/PycharmProjects/mscthesis_wrkdir/src-analysis/diversity-analysis/core-metrics-results-D2-NAFLD/bray_curtis_distance_matrix.qza\u001B[0m\r\n",
      "\u001B[32mSaved PCoAResults to: /Users/cheesemania/PycharmProjects/mscthesis_wrkdir/src-analysis/diversity-analysis/core-metrics-results-D2-NAFLD/jaccard_pcoa_results.qza\u001B[0m\r\n",
      "\u001B[32mSaved PCoAResults to: /Users/cheesemania/PycharmProjects/mscthesis_wrkdir/src-analysis/diversity-analysis/core-metrics-results-D2-NAFLD/bray_curtis_pcoa_results.qza\u001B[0m\r\n",
      "\u001B[32mSaved Visualization to: /Users/cheesemania/PycharmProjects/mscthesis_wrkdir/src-analysis/diversity-analysis/core-metrics-results-D2-NAFLD/jaccard_emperor.qzv\u001B[0m\r\n",
      "\u001B[32mSaved Visualization to: /Users/cheesemania/PycharmProjects/mscthesis_wrkdir/src-analysis/diversity-analysis/core-metrics-results-D2-NAFLD/bray_curtis_emperor.qzv\u001B[0m\r\n",
      "\u001B[0m"
     ]
    }
   ],
   "source": [
    "!qiime diversity core-metrics \\\n",
    "    --i-table {path}/src-analysis/diversity-analysis/feature-table-subsets/D2_NAFLD_feature_table.qza \\\n",
    "    --p-sampling-depth 3000 \\\n",
    "    --m-metadata-file {path}/metadata/case_control_metadata.tsv \\\n",
    "    --output-dir {path}/src-analysis/diversity-analysis/core-metrics-results-D2-NAFLD"
   ],
   "metadata": {
    "collapsed": false,
    "ExecuteTime": {
     "end_time": "2024-08-19T19:40:34.504325Z",
     "start_time": "2024-08-19T19:37:10.334772Z"
    }
   },
   "id": "17a8ebca2e3ba5e5",
   "execution_count": 62
  },
  {
   "cell_type": "code",
   "outputs": [
    {
     "name": "stdout",
     "output_type": "stream",
     "text": [
      "\u001B[32mSaved Visualization to: /Users/cheesemania/PycharmProjects/mscthesis_wrkdir/src-analysis/diversity-analysis/core-metrics-results-D2-NAFLD/D2-NAFLD-observed-features-group-significance.qzv\u001B[0m\r\n",
      "\u001B[0m"
     ]
    }
   ],
   "source": [
    "!qiime diversity alpha-group-significance \\\n",
    "    --i-alpha-diversity {path}/src-analysis/diversity-analysis/core-metrics-results-D2-NAFLD/observed_features_vector.qza \\\n",
    "    --m-metadata-file {path}/metadata/case_control_metadata.tsv \\\n",
    "    --o-visualization {path}/src-analysis/diversity-analysis/core-metrics-results-D2-NAFLD/D2-NAFLD-observed-features-group-significance.qzv"
   ],
   "metadata": {
    "collapsed": false,
    "ExecuteTime": {
     "end_time": "2024-08-19T19:41:05.261019Z",
     "start_time": "2024-08-19T19:40:38.912368Z"
    }
   },
   "id": "a99d2c589ffc1fda",
   "execution_count": 63
  },
  {
   "cell_type": "markdown",
   "source": [
    "##### Autoimmune-D2-AD "
   ],
   "metadata": {
    "collapsed": false
   },
   "id": "341ded5c83ff2afb"
  },
  {
   "cell_type": "code",
   "outputs": [
    {
     "name": "stdout",
     "output_type": "stream",
     "text": [
      "\u001B[32mSaved FeatureTable[Frequency] to: /Users/cheesemania/PycharmProjects/mscthesis_wrkdir/src-analysis/diversity-analysis/feature-table-subsets/D2_AD_feature_table.qza\u001B[0m\r\n",
      "\u001B[0m"
     ]
    }
   ],
   "source": [
    "!qiime feature-table filter-samples \\\n",
    "    --i-table {path}/src-analysis/feature-table/health-disease-case-control/case_control_feature_table.qza \\\n",
    "    --m-metadata-file {path}/metadata/case_control_metadata.tsv \\\n",
    "    --p-where \"[Disease_Level_2]='AD' \" \\\n",
    "    --o-filtered-table {path}/src-analysis/diversity-analysis/feature-table-subsets/D2_AD_feature_table.qza"
   ],
   "metadata": {
    "collapsed": false,
    "ExecuteTime": {
     "end_time": "2024-08-20T07:36:25.348354Z",
     "start_time": "2024-08-20T07:35:53.428433Z"
    }
   },
   "id": "300e4a93c3dfb26c",
   "execution_count": 70
  },
  {
   "cell_type": "code",
   "outputs": [
    {
     "name": "stdout",
     "output_type": "stream",
     "text": [
      "\u001B[32mSaved FeatureTable[Frequency] to: /Users/cheesemania/PycharmProjects/mscthesis_wrkdir/src-analysis/diversity-analysis/core-metrics-results-D2-AD/rarefied_table.qza\u001B[0m\r\n",
      "\u001B[32mSaved SampleData[AlphaDiversity] to: /Users/cheesemania/PycharmProjects/mscthesis_wrkdir/src-analysis/diversity-analysis/core-metrics-results-D2-AD/observed_features_vector.qza\u001B[0m\r\n",
      "\u001B[32mSaved SampleData[AlphaDiversity] to: /Users/cheesemania/PycharmProjects/mscthesis_wrkdir/src-analysis/diversity-analysis/core-metrics-results-D2-AD/shannon_vector.qza\u001B[0m\r\n",
      "\u001B[32mSaved SampleData[AlphaDiversity] to: /Users/cheesemania/PycharmProjects/mscthesis_wrkdir/src-analysis/diversity-analysis/core-metrics-results-D2-AD/evenness_vector.qza\u001B[0m\r\n",
      "\u001B[32mSaved DistanceMatrix to: /Users/cheesemania/PycharmProjects/mscthesis_wrkdir/src-analysis/diversity-analysis/core-metrics-results-D2-AD/jaccard_distance_matrix.qza\u001B[0m\r\n",
      "\u001B[32mSaved DistanceMatrix to: /Users/cheesemania/PycharmProjects/mscthesis_wrkdir/src-analysis/diversity-analysis/core-metrics-results-D2-AD/bray_curtis_distance_matrix.qza\u001B[0m\r\n",
      "\u001B[32mSaved PCoAResults to: /Users/cheesemania/PycharmProjects/mscthesis_wrkdir/src-analysis/diversity-analysis/core-metrics-results-D2-AD/jaccard_pcoa_results.qza\u001B[0m\r\n",
      "\u001B[32mSaved PCoAResults to: /Users/cheesemania/PycharmProjects/mscthesis_wrkdir/src-analysis/diversity-analysis/core-metrics-results-D2-AD/bray_curtis_pcoa_results.qza\u001B[0m\r\n",
      "\u001B[32mSaved Visualization to: /Users/cheesemania/PycharmProjects/mscthesis_wrkdir/src-analysis/diversity-analysis/core-metrics-results-D2-AD/jaccard_emperor.qzv\u001B[0m\r\n",
      "\u001B[32mSaved Visualization to: /Users/cheesemania/PycharmProjects/mscthesis_wrkdir/src-analysis/diversity-analysis/core-metrics-results-D2-AD/bray_curtis_emperor.qzv\u001B[0m\r\n",
      "\u001B[0m"
     ]
    }
   ],
   "source": [
    "!qiime diversity core-metrics \\\n",
    "    --i-table {path}/src-analysis/diversity-analysis/feature-table-subsets/D2_AD_feature_table.qza \\\n",
    "    --p-sampling-depth 3000 \\\n",
    "    --m-metadata-file {path}/metadata/case_control_metadata.tsv \\\n",
    "    --output-dir {path}/src-analysis/diversity-analysis/core-metrics-results-D2-AD"
   ],
   "metadata": {
    "collapsed": false,
    "ExecuteTime": {
     "end_time": "2024-08-20T07:40:31.819560Z",
     "start_time": "2024-08-20T07:36:49.974334Z"
    }
   },
   "id": "b791fb330fa857a1",
   "execution_count": 71
  },
  {
   "cell_type": "code",
   "outputs": [
    {
     "name": "stdout",
     "output_type": "stream",
     "text": [
      "\u001B[32mSaved Visualization to: /Users/cheesemania/PycharmProjects/mscthesis_wrkdir/src-analysis/diversity-analysis/core-metrics-results-D2-AD/D2-AD-observed-features-group-significance.qzv\u001B[0m\r\n",
      "\u001B[0m"
     ]
    }
   ],
   "source": [
    "!qiime diversity alpha-group-significance \\\n",
    "    --i-alpha-diversity {path}/src-analysis/diversity-analysis/core-metrics-results-D2-AD/observed_features_vector.qza \\\n",
    "    --m-metadata-file {path}/metadata/case_control_metadata.tsv \\\n",
    "    --o-visualization {path}/src-analysis/diversity-analysis/core-metrics-results-D2-AD/D2-AD-observed-features-group-significance.qzv"
   ],
   "metadata": {
    "collapsed": false,
    "ExecuteTime": {
     "end_time": "2024-08-20T07:43:57.928957Z",
     "start_time": "2024-08-20T07:43:28.623665Z"
    }
   },
   "id": "d155d1c449a0e5b7",
   "execution_count": 72
  },
  {
   "cell_type": "markdown",
   "source": [
    "##### Autoimmune-D2-RA"
   ],
   "metadata": {
    "collapsed": false
   },
   "id": "d0c1be5ee6acb4e2"
  },
  {
   "cell_type": "code",
   "outputs": [
    {
     "name": "stdout",
     "output_type": "stream",
     "text": [
      "\u001B[32mSaved FeatureTable[Frequency] to: /Users/cheesemania/PycharmProjects/mscthesis_wrkdir/src-analysis/diversity-analysis/feature-table-subsets/D2_RA_feature_table.qza\u001B[0m\r\n",
      "\u001B[0m"
     ]
    }
   ],
   "source": [
    "!qiime feature-table filter-samples \\\n",
    "    --i-table {path}/src-analysis/feature-table/health-disease-case-control/case_control_feature_table.qza \\\n",
    "    --m-metadata-file {path}/metadata/case_control_metadata.tsv \\\n",
    "    --p-where \"[Disease_Level_2]='RA' \" \\\n",
    "    --o-filtered-table {path}/src-analysis/diversity-analysis/feature-table-subsets/D2_RA_feature_table.qza"
   ],
   "metadata": {
    "collapsed": false,
    "ExecuteTime": {
     "end_time": "2024-08-20T07:46:05.396366Z",
     "start_time": "2024-08-20T07:45:38.020044Z"
    }
   },
   "id": "d831c4a43e0fee8f",
   "execution_count": 73
  },
  {
   "cell_type": "code",
   "outputs": [
    {
     "name": "stdout",
     "output_type": "stream",
     "text": [
      "\u001B[32mSaved FeatureTable[Frequency] to: /Users/cheesemania/PycharmProjects/mscthesis_wrkdir/src-analysis/diversity-analysis/core-metrics-results-D2-RA/rarefied_table.qza\u001B[0m\r\n",
      "\u001B[32mSaved SampleData[AlphaDiversity] to: /Users/cheesemania/PycharmProjects/mscthesis_wrkdir/src-analysis/diversity-analysis/core-metrics-results-D2-RA/observed_features_vector.qza\u001B[0m\r\n",
      "\u001B[32mSaved SampleData[AlphaDiversity] to: /Users/cheesemania/PycharmProjects/mscthesis_wrkdir/src-analysis/diversity-analysis/core-metrics-results-D2-RA/shannon_vector.qza\u001B[0m\r\n",
      "\u001B[32mSaved SampleData[AlphaDiversity] to: /Users/cheesemania/PycharmProjects/mscthesis_wrkdir/src-analysis/diversity-analysis/core-metrics-results-D2-RA/evenness_vector.qza\u001B[0m\r\n",
      "\u001B[32mSaved DistanceMatrix to: /Users/cheesemania/PycharmProjects/mscthesis_wrkdir/src-analysis/diversity-analysis/core-metrics-results-D2-RA/jaccard_distance_matrix.qza\u001B[0m\r\n",
      "\u001B[32mSaved DistanceMatrix to: /Users/cheesemania/PycharmProjects/mscthesis_wrkdir/src-analysis/diversity-analysis/core-metrics-results-D2-RA/bray_curtis_distance_matrix.qza\u001B[0m\r\n",
      "\u001B[32mSaved PCoAResults to: /Users/cheesemania/PycharmProjects/mscthesis_wrkdir/src-analysis/diversity-analysis/core-metrics-results-D2-RA/jaccard_pcoa_results.qza\u001B[0m\r\n",
      "\u001B[32mSaved PCoAResults to: /Users/cheesemania/PycharmProjects/mscthesis_wrkdir/src-analysis/diversity-analysis/core-metrics-results-D2-RA/bray_curtis_pcoa_results.qza\u001B[0m\r\n",
      "\u001B[32mSaved Visualization to: /Users/cheesemania/PycharmProjects/mscthesis_wrkdir/src-analysis/diversity-analysis/core-metrics-results-D2-RA/jaccard_emperor.qzv\u001B[0m\r\n",
      "\u001B[32mSaved Visualization to: /Users/cheesemania/PycharmProjects/mscthesis_wrkdir/src-analysis/diversity-analysis/core-metrics-results-D2-RA/bray_curtis_emperor.qzv\u001B[0m\r\n",
      "\u001B[0m"
     ]
    }
   ],
   "source": [
    "!qiime diversity core-metrics \\\n",
    "    --i-table {path}/src-analysis/diversity-analysis/feature-table-subsets/D2_RA_feature_table.qza \\\n",
    "    --p-sampling-depth 3000 \\\n",
    "    --m-metadata-file {path}/metadata/case_control_metadata.tsv \\\n",
    "    --output-dir {path}/src-analysis/diversity-analysis/core-metrics-results-D2-RA"
   ],
   "metadata": {
    "collapsed": false,
    "ExecuteTime": {
     "end_time": "2024-08-20T07:50:24.464886Z",
     "start_time": "2024-08-20T07:46:55.337934Z"
    }
   },
   "id": "b684f09de140685a",
   "execution_count": 74
  },
  {
   "cell_type": "code",
   "outputs": [
    {
     "name": "stdout",
     "output_type": "stream",
     "text": [
      "\u001B[32mSaved Visualization to: /Users/cheesemania/PycharmProjects/mscthesis_wrkdir/src-analysis/diversity-analysis/core-metrics-results-D2-RA/D2-RA-observed-features-group-significance.qzv\u001B[0m\r\n",
      "\u001B[0m"
     ]
    }
   ],
   "source": [
    "!qiime diversity alpha-group-significance \\\n",
    "    --i-alpha-diversity {path}/src-analysis/diversity-analysis/core-metrics-results-D2-RA/observed_features_vector.qza \\\n",
    "    --m-metadata-file {path}/metadata/case_control_metadata.tsv \\\n",
    "    --o-visualization {path}/src-analysis/diversity-analysis/core-metrics-results-D2-RA/D2-RA-observed-features-group-significance.qzv"
   ],
   "metadata": {
    "collapsed": false,
    "ExecuteTime": {
     "end_time": "2024-08-20T07:51:05.746315Z",
     "start_time": "2024-08-20T07:50:36.928274Z"
    }
   },
   "id": "39e99a7a5331f315",
   "execution_count": 75
  },
  {
   "cell_type": "markdown",
   "source": [
    "##### Cancer-D2-Melanoma"
   ],
   "metadata": {
    "collapsed": false
   },
   "id": "95c2f3a56cfb8e2e"
  },
  {
   "cell_type": "code",
   "outputs": [
    {
     "name": "stdout",
     "output_type": "stream",
     "text": [
      "\u001B[32mSaved FeatureTable[Frequency] to: /Users/cheesemania/PycharmProjects/mscthesis_wrkdir/src-analysis/diversity-analysis/feature-table-subsets/D2_melanoma_feature_table.qza\u001B[0m\r\n",
      "\u001B[0m"
     ]
    }
   ],
   "source": [
    "!qiime feature-table filter-samples \\\n",
    "    --i-table {path}/src-analysis/feature-table/health-disease-case-control/case_control_feature_table.qza \\\n",
    "    --m-metadata-file {path}/metadata/case_control_metadata.tsv \\\n",
    "    --p-where \"[Disease_Level_2]='Melanoma' \" \\\n",
    "    --o-filtered-table {path}/src-analysis/diversity-analysis/feature-table-subsets/D2_melanoma_feature_table.qza"
   ],
   "metadata": {
    "collapsed": false,
    "ExecuteTime": {
     "end_time": "2024-08-20T07:53:06.240547Z",
     "start_time": "2024-08-20T07:52:37.740049Z"
    }
   },
   "id": "835177f9d73ff939",
   "execution_count": 76
  },
  {
   "cell_type": "code",
   "outputs": [
    {
     "name": "stdout",
     "output_type": "stream",
     "text": [
      "\u001B[32mSaved FeatureTable[Frequency] to: /Users/cheesemania/PycharmProjects/mscthesis_wrkdir/src-analysis/diversity-analysis/core-metrics-results-D2-melanoma/rarefied_table.qza\u001B[0m\r\n",
      "\u001B[32mSaved SampleData[AlphaDiversity] to: /Users/cheesemania/PycharmProjects/mscthesis_wrkdir/src-analysis/diversity-analysis/core-metrics-results-D2-melanoma/observed_features_vector.qza\u001B[0m\r\n",
      "\u001B[32mSaved SampleData[AlphaDiversity] to: /Users/cheesemania/PycharmProjects/mscthesis_wrkdir/src-analysis/diversity-analysis/core-metrics-results-D2-melanoma/shannon_vector.qza\u001B[0m\r\n",
      "\u001B[32mSaved SampleData[AlphaDiversity] to: /Users/cheesemania/PycharmProjects/mscthesis_wrkdir/src-analysis/diversity-analysis/core-metrics-results-D2-melanoma/evenness_vector.qza\u001B[0m\r\n",
      "\u001B[32mSaved DistanceMatrix to: /Users/cheesemania/PycharmProjects/mscthesis_wrkdir/src-analysis/diversity-analysis/core-metrics-results-D2-melanoma/jaccard_distance_matrix.qza\u001B[0m\r\n",
      "\u001B[32mSaved DistanceMatrix to: /Users/cheesemania/PycharmProjects/mscthesis_wrkdir/src-analysis/diversity-analysis/core-metrics-results-D2-melanoma/bray_curtis_distance_matrix.qza\u001B[0m\r\n",
      "\u001B[32mSaved PCoAResults to: /Users/cheesemania/PycharmProjects/mscthesis_wrkdir/src-analysis/diversity-analysis/core-metrics-results-D2-melanoma/jaccard_pcoa_results.qza\u001B[0m\r\n",
      "\u001B[32mSaved PCoAResults to: /Users/cheesemania/PycharmProjects/mscthesis_wrkdir/src-analysis/diversity-analysis/core-metrics-results-D2-melanoma/bray_curtis_pcoa_results.qza\u001B[0m\r\n",
      "\u001B[32mSaved Visualization to: /Users/cheesemania/PycharmProjects/mscthesis_wrkdir/src-analysis/diversity-analysis/core-metrics-results-D2-melanoma/jaccard_emperor.qzv\u001B[0m\r\n",
      "\u001B[32mSaved Visualization to: /Users/cheesemania/PycharmProjects/mscthesis_wrkdir/src-analysis/diversity-analysis/core-metrics-results-D2-melanoma/bray_curtis_emperor.qzv\u001B[0m\r\n",
      "\u001B[0m"
     ]
    }
   ],
   "source": [
    "!qiime diversity core-metrics \\\n",
    "    --i-table {path}/src-analysis/diversity-analysis/feature-table-subsets/D2_melanoma_feature_table.qza \\\n",
    "    --p-sampling-depth 3000 \\\n",
    "    --m-metadata-file {path}/metadata/case_control_metadata.tsv \\\n",
    "    --output-dir {path}/src-analysis/diversity-analysis/core-metrics-results-D2-melanoma"
   ],
   "metadata": {
    "collapsed": false,
    "ExecuteTime": {
     "end_time": "2024-08-20T07:58:03.961548Z",
     "start_time": "2024-08-20T07:54:36.115033Z"
    }
   },
   "id": "3e0ea976179c9c36",
   "execution_count": 77
  },
  {
   "cell_type": "code",
   "outputs": [
    {
     "name": "stdout",
     "output_type": "stream",
     "text": [
      "\u001B[32mSaved Visualization to: /Users/cheesemania/PycharmProjects/mscthesis_wrkdir/src-analysis/diversity-analysis/core-metrics-results-D2-melanoma/D2-melanoma-observed-features-group-significance.qzv\u001B[0m\r\n",
      "\u001B[0m"
     ]
    }
   ],
   "source": [
    "!qiime diversity alpha-group-significance \\\n",
    "    --i-alpha-diversity {path}/src-analysis/diversity-analysis/core-metrics-results-D2-melanoma/observed_features_vector.qza \\\n",
    "    --m-metadata-file {path}/metadata/case_control_metadata.tsv \\\n",
    "    --o-visualization {path}/src-analysis/diversity-analysis/core-metrics-results-D2-melanoma/D2-melanoma-observed-features-group-significance.qzv"
   ],
   "metadata": {
    "collapsed": false,
    "ExecuteTime": {
     "end_time": "2024-08-20T07:58:41.052108Z",
     "start_time": "2024-08-20T07:58:12.877462Z"
    }
   },
   "id": "7995fc065ce8e347",
   "execution_count": 78
  },
  {
   "cell_type": "markdown",
   "source": [
    "##### Cancer-D2-PDA"
   ],
   "metadata": {
    "collapsed": false
   },
   "id": "2e5440070aa1529c"
  },
  {
   "cell_type": "code",
   "outputs": [
    {
     "name": "stdout",
     "output_type": "stream",
     "text": [
      "\u001B[32mSaved FeatureTable[Frequency] to: /Users/cheesemania/PycharmProjects/mscthesis_wrkdir/src-analysis/diversity-analysis/feature-table-subsets/D2_PDA_feature_table.qza\u001B[0m\r\n",
      "\u001B[0m"
     ]
    }
   ],
   "source": [
    "!qiime feature-table filter-samples \\\n",
    "    --i-table {path}/src-analysis/feature-table/health-disease-case-control/case_control_feature_table.qza \\\n",
    "    --m-metadata-file {path}/metadata/case_control_metadata.tsv \\\n",
    "    --p-where \"[Disease_Level_2]='PDA' \" \\\n",
    "    --o-filtered-table {path}/src-analysis/diversity-analysis/feature-table-subsets/D2_PDA_feature_table.qza"
   ],
   "metadata": {
    "collapsed": false,
    "ExecuteTime": {
     "end_time": "2024-08-20T08:00:14.751Z",
     "start_time": "2024-08-20T07:59:45.594374Z"
    }
   },
   "id": "4999f9d9e50bc05c",
   "execution_count": 79
  },
  {
   "cell_type": "code",
   "outputs": [
    {
     "name": "stdout",
     "output_type": "stream",
     "text": [
      "\u001B[31m\u001B[1mPlugin error from diversity:\r\n",
      "\r\n",
      "  The rarefied table contains no samples or features. Verify your table is valid and that you provided a shallow enough sampling depth.\r\n",
      "\r\n",
      "Debug info has been saved to /var/folders/4d/4y4rchb56yn2lw65zm2ykpr40000gn/T/qiime2-q2cli-err-b34u961n.log\u001B[0m\r\n",
      "\u001B[0m"
     ]
    }
   ],
   "source": [
    "!qiime diversity core-metrics \\\n",
    "    --i-table {path}/src-analysis/diversity-analysis/feature-table-subsets/D2_PDA_feature_table.qza \\\n",
    "    --p-sampling-depth 3000 \\\n",
    "    --m-metadata-file {path}/metadata/case_control_metadata.tsv \\\n",
    "    --output-dir {path}/src-analysis/diversity-analysis/core-metrics-results-D2-PDA"
   ],
   "metadata": {
    "collapsed": false,
    "ExecuteTime": {
     "end_time": "2024-08-20T08:01:06.575533Z",
     "start_time": "2024-08-20T08:00:53.852599Z"
    }
   },
   "id": "81ae3754e2b3daf1",
   "execution_count": 80
  },
  {
   "cell_type": "code",
   "outputs": [],
   "source": [
    "!qiime diversity alpha-group-significance \\\n",
    "    --i-alpha-diversity {path}/src-analysis/diversity-analysis/core-metrics-results-D2-PDA/observed_features_vector.qza \\\n",
    "    --m-metadata-file {path}/metadata/case_control_metadata.tsv \\\n",
    "    --o-visualization {path}/src-analysis/diversity-analysis/core-metrics-results-D2-PDA/D2-PDA-observed-features-group-significance.qzv"
   ],
   "metadata": {
    "collapsed": false
   },
   "id": "589790bdfbe6848d"
  },
  {
   "cell_type": "markdown",
   "source": [
    "##### Other-D2-AN"
   ],
   "metadata": {
    "collapsed": false
   },
   "id": "31fc6b6816749975"
  },
  {
   "cell_type": "code",
   "outputs": [
    {
     "name": "stdout",
     "output_type": "stream",
     "text": [
      "\u001B[32mSaved FeatureTable[Frequency] to: /Users/cheesemania/PycharmProjects/mscthesis_wrkdir/src-analysis/diversity-analysis/feature-table-subsets/D2_AN_feature_table.qza\u001B[0m\r\n",
      "\u001B[0m"
     ]
    }
   ],
   "source": [
    "!qiime feature-table filter-samples \\\n",
    "    --i-table {path}/src-analysis/feature-table/health-disease-case-control/case_control_feature_table.qza \\\n",
    "    --m-metadata-file {path}/metadata/case_control_metadata.tsv \\\n",
    "    --p-where \"[Disease_Level_2]='AN' \" \\\n",
    "    --o-filtered-table {path}/src-analysis/diversity-analysis/feature-table-subsets/D2_AN_feature_table.qza"
   ],
   "metadata": {
    "collapsed": false,
    "ExecuteTime": {
     "end_time": "2024-08-20T08:04:38.963990Z",
     "start_time": "2024-08-20T08:04:12.076126Z"
    }
   },
   "id": "f136ce66094c2b0a",
   "execution_count": 81
  },
  {
   "cell_type": "code",
   "outputs": [
    {
     "name": "stdout",
     "output_type": "stream",
     "text": [
      "\u001B[32mSaved FeatureTable[Frequency] to: /Users/cheesemania/PycharmProjects/mscthesis_wrkdir/src-analysis/diversity-analysis/core-metrics-results-D2-AN/rarefied_table.qza\u001B[0m\r\n",
      "\u001B[32mSaved SampleData[AlphaDiversity] to: /Users/cheesemania/PycharmProjects/mscthesis_wrkdir/src-analysis/diversity-analysis/core-metrics-results-D2-AN/observed_features_vector.qza\u001B[0m\r\n",
      "\u001B[32mSaved SampleData[AlphaDiversity] to: /Users/cheesemania/PycharmProjects/mscthesis_wrkdir/src-analysis/diversity-analysis/core-metrics-results-D2-AN/shannon_vector.qza\u001B[0m\r\n",
      "\u001B[32mSaved SampleData[AlphaDiversity] to: /Users/cheesemania/PycharmProjects/mscthesis_wrkdir/src-analysis/diversity-analysis/core-metrics-results-D2-AN/evenness_vector.qza\u001B[0m\r\n",
      "\u001B[32mSaved DistanceMatrix to: /Users/cheesemania/PycharmProjects/mscthesis_wrkdir/src-analysis/diversity-analysis/core-metrics-results-D2-AN/jaccard_distance_matrix.qza\u001B[0m\r\n",
      "\u001B[32mSaved DistanceMatrix to: /Users/cheesemania/PycharmProjects/mscthesis_wrkdir/src-analysis/diversity-analysis/core-metrics-results-D2-AN/bray_curtis_distance_matrix.qza\u001B[0m\r\n",
      "\u001B[32mSaved PCoAResults to: /Users/cheesemania/PycharmProjects/mscthesis_wrkdir/src-analysis/diversity-analysis/core-metrics-results-D2-AN/jaccard_pcoa_results.qza\u001B[0m\r\n",
      "\u001B[32mSaved PCoAResults to: /Users/cheesemania/PycharmProjects/mscthesis_wrkdir/src-analysis/diversity-analysis/core-metrics-results-D2-AN/bray_curtis_pcoa_results.qza\u001B[0m\r\n",
      "\u001B[32mSaved Visualization to: /Users/cheesemania/PycharmProjects/mscthesis_wrkdir/src-analysis/diversity-analysis/core-metrics-results-D2-AN/jaccard_emperor.qzv\u001B[0m\r\n",
      "\u001B[32mSaved Visualization to: /Users/cheesemania/PycharmProjects/mscthesis_wrkdir/src-analysis/diversity-analysis/core-metrics-results-D2-AN/bray_curtis_emperor.qzv\u001B[0m\r\n",
      "\u001B[0m"
     ]
    }
   ],
   "source": [
    "!qiime diversity core-metrics \\\n",
    "    --i-table {path}/src-analysis/diversity-analysis/feature-table-subsets/D2_AN_feature_table.qza \\\n",
    "    --p-sampling-depth 3000 \\\n",
    "    --m-metadata-file {path}/metadata/case_control_metadata.tsv \\\n",
    "    --output-dir {path}/src-analysis/diversity-analysis/core-metrics-results-D2-AN"
   ],
   "metadata": {
    "collapsed": false,
    "ExecuteTime": {
     "end_time": "2024-08-20T08:08:06.909481Z",
     "start_time": "2024-08-20T08:04:42.313581Z"
    }
   },
   "id": "39b35d8e626c811c",
   "execution_count": 82
  },
  {
   "cell_type": "code",
   "outputs": [
    {
     "name": "stdout",
     "output_type": "stream",
     "text": [
      "\u001B[32mSaved Visualization to: /Users/cheesemania/PycharmProjects/mscthesis_wrkdir/src-analysis/diversity-analysis/core-metrics-results-D2-AN/D2-AN-observed-features-group-significance.qzv\u001B[0m\r\n",
      "\u001B[0m"
     ]
    }
   ],
   "source": [
    "!qiime diversity alpha-group-significance \\\n",
    "    --i-alpha-diversity {path}/src-analysis/diversity-analysis/core-metrics-results-D2-AN/observed_features_vector.qza \\\n",
    "    --m-metadata-file {path}/metadata/case_control_metadata.tsv \\\n",
    "    --o-visualization {path}/src-analysis/diversity-analysis/core-metrics-results-D2-AN/D2-AN-observed-features-group-significance.qzv"
   ],
   "metadata": {
    "collapsed": false,
    "ExecuteTime": {
     "end_time": "2024-08-20T08:09:26.416149Z",
     "start_time": "2024-08-20T08:08:58.504819Z"
    }
   },
   "id": "48874acfd8613c05",
   "execution_count": 83
  },
  {
   "cell_type": "markdown",
   "source": [
    "##### Other-D2-CKD"
   ],
   "metadata": {
    "collapsed": false
   },
   "id": "27cd396a79ecb8ba"
  },
  {
   "cell_type": "code",
   "outputs": [
    {
     "name": "stdout",
     "output_type": "stream",
     "text": [
      "\u001B[32mSaved FeatureTable[Frequency] to: /Users/cheesemania/PycharmProjects/mscthesis_wrkdir/src-analysis/diversity-analysis/feature-table-subsets/D2_CKD_feature_table.qza\u001B[0m\r\n",
      "\u001B[0m"
     ]
    }
   ],
   "source": [
    "!qiime feature-table filter-samples \\\n",
    "    --i-table {path}/src-analysis/feature-table/health-disease-case-control/case_control_feature_table.qza \\\n",
    "    --m-metadata-file {path}/metadata/case_control_metadata.tsv \\\n",
    "    --p-where \"[Disease_Level_2]='CKD' \" \\\n",
    "    --o-filtered-table {path}/src-analysis/diversity-analysis/feature-table-subsets/D2_CKD_feature_table.qza"
   ],
   "metadata": {
    "collapsed": false,
    "ExecuteTime": {
     "end_time": "2024-08-20T08:10:11.756876Z",
     "start_time": "2024-08-20T08:09:43.529634Z"
    }
   },
   "id": "c92334a5b372f342",
   "execution_count": 84
  },
  {
   "cell_type": "code",
   "outputs": [
    {
     "name": "stdout",
     "output_type": "stream",
     "text": [
      "\u001B[32mSaved FeatureTable[Frequency] to: /Users/cheesemania/PycharmProjects/mscthesis_wrkdir/src-analysis/diversity-analysis/core-metrics-results-D2-CKD/rarefied_table.qza\u001B[0m\r\n",
      "\u001B[32mSaved SampleData[AlphaDiversity] to: /Users/cheesemania/PycharmProjects/mscthesis_wrkdir/src-analysis/diversity-analysis/core-metrics-results-D2-CKD/observed_features_vector.qza\u001B[0m\r\n",
      "\u001B[32mSaved SampleData[AlphaDiversity] to: /Users/cheesemania/PycharmProjects/mscthesis_wrkdir/src-analysis/diversity-analysis/core-metrics-results-D2-CKD/shannon_vector.qza\u001B[0m\r\n",
      "\u001B[32mSaved SampleData[AlphaDiversity] to: /Users/cheesemania/PycharmProjects/mscthesis_wrkdir/src-analysis/diversity-analysis/core-metrics-results-D2-CKD/evenness_vector.qza\u001B[0m\r\n",
      "\u001B[32mSaved DistanceMatrix to: /Users/cheesemania/PycharmProjects/mscthesis_wrkdir/src-analysis/diversity-analysis/core-metrics-results-D2-CKD/jaccard_distance_matrix.qza\u001B[0m\r\n",
      "\u001B[32mSaved DistanceMatrix to: /Users/cheesemania/PycharmProjects/mscthesis_wrkdir/src-analysis/diversity-analysis/core-metrics-results-D2-CKD/bray_curtis_distance_matrix.qza\u001B[0m\r\n",
      "\u001B[32mSaved PCoAResults to: /Users/cheesemania/PycharmProjects/mscthesis_wrkdir/src-analysis/diversity-analysis/core-metrics-results-D2-CKD/jaccard_pcoa_results.qza\u001B[0m\r\n",
      "\u001B[32mSaved PCoAResults to: /Users/cheesemania/PycharmProjects/mscthesis_wrkdir/src-analysis/diversity-analysis/core-metrics-results-D2-CKD/bray_curtis_pcoa_results.qza\u001B[0m\r\n",
      "\u001B[32mSaved Visualization to: /Users/cheesemania/PycharmProjects/mscthesis_wrkdir/src-analysis/diversity-analysis/core-metrics-results-D2-CKD/jaccard_emperor.qzv\u001B[0m\r\n",
      "\u001B[32mSaved Visualization to: /Users/cheesemania/PycharmProjects/mscthesis_wrkdir/src-analysis/diversity-analysis/core-metrics-results-D2-CKD/bray_curtis_emperor.qzv\u001B[0m\r\n",
      "\u001B[0m"
     ]
    }
   ],
   "source": [
    "!qiime diversity core-metrics \\\n",
    "    --i-table {path}/src-analysis/diversity-analysis/feature-table-subsets/D2_CKD_feature_table.qza \\\n",
    "    --p-sampling-depth 3000 \\\n",
    "    --m-metadata-file {path}/metadata/case_control_metadata.tsv \\\n",
    "    --output-dir {path}/src-analysis/diversity-analysis/core-metrics-results-D2-CKD"
   ],
   "metadata": {
    "collapsed": false,
    "ExecuteTime": {
     "end_time": "2024-08-20T08:15:09.313591Z",
     "start_time": "2024-08-20T08:11:40.757155Z"
    }
   },
   "id": "37c9da9453a5e158",
   "execution_count": 85
  },
  {
   "cell_type": "code",
   "outputs": [
    {
     "name": "stdout",
     "output_type": "stream",
     "text": [
      "\u001B[32mSaved Visualization to: /Users/cheesemania/PycharmProjects/mscthesis_wrkdir/src-analysis/diversity-analysis/core-metrics-results-D2-CKD/D2-CKD-observed-features-group-significance.qzv\u001B[0m\r\n",
      "\u001B[0m"
     ]
    }
   ],
   "source": [
    "!qiime diversity alpha-group-significance \\\n",
    "    --i-alpha-diversity {path}/src-analysis/diversity-analysis/core-metrics-results-D2-CKD/observed_features_vector.qza \\\n",
    "    --m-metadata-file {path}/metadata/case_control_metadata.tsv \\\n",
    "    --o-visualization {path}/src-analysis/diversity-analysis/core-metrics-results-D2-CKD/D2-CKD-observed-features-group-significance.qzv"
   ],
   "metadata": {
    "collapsed": false,
    "ExecuteTime": {
     "end_time": "2024-08-20T08:16:56.092035Z",
     "start_time": "2024-08-20T08:16:28.020004Z"
    }
   },
   "id": "a5540010bc16aab7",
   "execution_count": 86
  },
  {
   "cell_type": "code",
   "outputs": [],
   "source": [],
   "metadata": {
    "collapsed": false
   },
   "id": "7de81ece8244e50d"
  }
 ],
 "metadata": {
  "kernelspec": {
   "display_name": "Python 3",
   "language": "python",
   "name": "python3"
  },
  "language_info": {
   "codemirror_mode": {
    "name": "ipython",
    "version": 2
   },
   "file_extension": ".py",
   "mimetype": "text/x-python",
   "name": "python",
   "nbconvert_exporter": "python",
   "pygments_lexer": "ipython2",
   "version": "2.7.6"
  }
 },
 "nbformat": 4,
 "nbformat_minor": 5
}
