{
 "cells": [
  {
   "cell_type": "code",
   "execution_count": 1,
   "id": "initial_id",
   "metadata": {
    "collapsed": true,
    "ExecuteTime": {
     "end_time": "2024-09-04T14:44:55.096736Z",
     "start_time": "2024-09-04T14:44:55.094873Z"
    }
   },
   "outputs": [],
   "source": [
    "import pandas as pd\n",
    "import os\n",
    "import seaborn as sns\n",
    "import matplotlib.pyplot as plt"
   ]
  },
  {
   "cell_type": "code",
   "outputs": [],
   "source": [
    "data_dir = \"/Users/cheesemania/PycharmProjects/mscthesis_wrkdir\""
   ],
   "metadata": {
    "collapsed": false,
    "ExecuteTime": {
     "end_time": "2024-09-04T14:44:57.184745Z",
     "start_time": "2024-09-04T14:44:57.181123Z"
    }
   },
   "id": "430a33fc08192677",
   "execution_count": 2
  },
  {
   "cell_type": "markdown",
   "source": [
    "## Comparing sample counts before and after rarefaction at 3000 using q2-boots (resampling times n=20 and n=50)"
   ],
   "metadata": {
    "collapsed": false
   },
   "id": "7f8cc60f127a2cb1"
  },
  {
   "cell_type": "markdown",
   "source": [
    "This was done after excluding H1N1 samples (Health Status = H1N1, Disease Level 2 = COVID-19) in PRJNA637034.\n",
    "\n",
    "n=20 and n=50 have identical results. Final analysis used n=50.\n",
    "This comparison led to exclusion of four projects with too small sample size after rarefaction for downstream analysis (Same results as using a random one-time sampling for rarefaction)."
   ],
   "metadata": {
    "collapsed": false
   },
   "id": "9861187301898e0f"
  },
  {
   "cell_type": "code",
   "outputs": [],
   "source": [
    "df_case_control = pd.read_csv(f'{data_dir}/metadata/case_control_metadata_remove_h1n1.tsv', sep='\\t')"
   ],
   "metadata": {
    "collapsed": false,
    "ExecuteTime": {
     "end_time": "2024-09-04T14:45:36.518980Z",
     "start_time": "2024-09-04T14:45:36.486447Z"
    }
   },
   "id": "4fe52d69a25ea4be",
   "execution_count": 3
  },
  {
   "cell_type": "code",
   "outputs": [
    {
     "data": {
      "text/plain": "(2383, 19)"
     },
     "execution_count": 4,
     "metadata": {},
     "output_type": "execute_result"
    }
   ],
   "source": [
    "df_case_control.shape"
   ],
   "metadata": {
    "collapsed": false,
    "ExecuteTime": {
     "end_time": "2024-09-04T14:45:38.763867Z",
     "start_time": "2024-09-04T14:45:38.756454Z"
    }
   },
   "id": "23ad49a35ec7acda",
   "execution_count": 4
  },
  {
   "cell_type": "code",
   "outputs": [
    {
     "data": {
      "text/plain": "  SampleID             Project_ID Sequencing_Region Case_Control  \\\n0     S675  crohns-paper_37122605              ITS1         Case   \n1     S683  crohns-paper_37122605              ITS1         Case   \n2     S691  crohns-paper_37122605              ITS1         Case   \n3     S699  crohns-paper_37122605              ITS1         Case   \n4     S707  crohns-paper_37122605              ITS1         Case   \n\n    Disease_Level_1                     Health_Status Disease_Level_2  \\\n0  Gastrointestinal  Inflammatory bowel disease (IBD)             IBD   \n1  Gastrointestinal  Inflammatory bowel disease (IBD)             IBD   \n2  Gastrointestinal  Inflammatory bowel disease (IBD)             IBD   \n3  Gastrointestinal  Inflammatory bowel disease (IBD)             IBD   \n4  Gastrointestinal  Inflammatory bowel disease (IBD)             IBD   \n\n  Disease_Level_3                              Disease_Subgroup  \\\n0   active_new_CD  active, newly diagnosed Crohn's disease (CD)   \n1   active_new_CD  active, newly diagnosed Crohn's disease (CD)   \n2   active_new_CD  active, newly diagnosed Crohn's disease (CD)   \n3   active_new_CD  active, newly diagnosed Crohn's disease (CD)   \n4              CD       clinical remission Crohn's disease (CD)   \n\n           IBD_Subgroup GeoLoc_Continent GeoLoc_Country  \\\n0  Crohn's disease (CD)           Europe         Poland   \n1  Crohn's disease (CD)           Europe         Poland   \n2  Crohn's disease (CD)           Europe         Poland   \n3  Crohn's disease (CD)           Europe         Poland   \n4  Crohn's disease (CD)           Europe         Poland   \n\n                             GeoLoc_Region GeoLoc_City Host_Sex  \\\n0  Lesser Poland Voivodeship (Małopolskie)      Krakow  Unknown   \n1  Lesser Poland Voivodeship (Małopolskie)      Krakow  Unknown   \n2  Lesser Poland Voivodeship (Małopolskie)      Krakow  Unknown   \n3  Lesser Poland Voivodeship (Małopolskie)      Krakow  Unknown   \n4  Lesser Poland Voivodeship (Małopolskie)      Krakow  Unknown   \n\n  Host_Age_Category Host_Age_Decade Host_Age Age_Detail_Level  \n0           Unknown         Unknown  Unknown               L2  \n1           Unknown         Unknown  Unknown               L2  \n2           Unknown         Unknown  Unknown               L2  \n3           Unknown         Unknown  Unknown               L2  \n4           Unknown         Unknown  Unknown               L2  ",
      "text/html": "<div>\n<style scoped>\n    .dataframe tbody tr th:only-of-type {\n        vertical-align: middle;\n    }\n\n    .dataframe tbody tr th {\n        vertical-align: top;\n    }\n\n    .dataframe thead th {\n        text-align: right;\n    }\n</style>\n<table border=\"1\" class=\"dataframe\">\n  <thead>\n    <tr style=\"text-align: right;\">\n      <th></th>\n      <th>SampleID</th>\n      <th>Project_ID</th>\n      <th>Sequencing_Region</th>\n      <th>Case_Control</th>\n      <th>Disease_Level_1</th>\n      <th>Health_Status</th>\n      <th>Disease_Level_2</th>\n      <th>Disease_Level_3</th>\n      <th>Disease_Subgroup</th>\n      <th>IBD_Subgroup</th>\n      <th>GeoLoc_Continent</th>\n      <th>GeoLoc_Country</th>\n      <th>GeoLoc_Region</th>\n      <th>GeoLoc_City</th>\n      <th>Host_Sex</th>\n      <th>Host_Age_Category</th>\n      <th>Host_Age_Decade</th>\n      <th>Host_Age</th>\n      <th>Age_Detail_Level</th>\n    </tr>\n  </thead>\n  <tbody>\n    <tr>\n      <th>0</th>\n      <td>S675</td>\n      <td>crohns-paper_37122605</td>\n      <td>ITS1</td>\n      <td>Case</td>\n      <td>Gastrointestinal</td>\n      <td>Inflammatory bowel disease (IBD)</td>\n      <td>IBD</td>\n      <td>active_new_CD</td>\n      <td>active, newly diagnosed Crohn's disease (CD)</td>\n      <td>Crohn's disease (CD)</td>\n      <td>Europe</td>\n      <td>Poland</td>\n      <td>Lesser Poland Voivodeship (Małopolskie)</td>\n      <td>Krakow</td>\n      <td>Unknown</td>\n      <td>Unknown</td>\n      <td>Unknown</td>\n      <td>Unknown</td>\n      <td>L2</td>\n    </tr>\n    <tr>\n      <th>1</th>\n      <td>S683</td>\n      <td>crohns-paper_37122605</td>\n      <td>ITS1</td>\n      <td>Case</td>\n      <td>Gastrointestinal</td>\n      <td>Inflammatory bowel disease (IBD)</td>\n      <td>IBD</td>\n      <td>active_new_CD</td>\n      <td>active, newly diagnosed Crohn's disease (CD)</td>\n      <td>Crohn's disease (CD)</td>\n      <td>Europe</td>\n      <td>Poland</td>\n      <td>Lesser Poland Voivodeship (Małopolskie)</td>\n      <td>Krakow</td>\n      <td>Unknown</td>\n      <td>Unknown</td>\n      <td>Unknown</td>\n      <td>Unknown</td>\n      <td>L2</td>\n    </tr>\n    <tr>\n      <th>2</th>\n      <td>S691</td>\n      <td>crohns-paper_37122605</td>\n      <td>ITS1</td>\n      <td>Case</td>\n      <td>Gastrointestinal</td>\n      <td>Inflammatory bowel disease (IBD)</td>\n      <td>IBD</td>\n      <td>active_new_CD</td>\n      <td>active, newly diagnosed Crohn's disease (CD)</td>\n      <td>Crohn's disease (CD)</td>\n      <td>Europe</td>\n      <td>Poland</td>\n      <td>Lesser Poland Voivodeship (Małopolskie)</td>\n      <td>Krakow</td>\n      <td>Unknown</td>\n      <td>Unknown</td>\n      <td>Unknown</td>\n      <td>Unknown</td>\n      <td>L2</td>\n    </tr>\n    <tr>\n      <th>3</th>\n      <td>S699</td>\n      <td>crohns-paper_37122605</td>\n      <td>ITS1</td>\n      <td>Case</td>\n      <td>Gastrointestinal</td>\n      <td>Inflammatory bowel disease (IBD)</td>\n      <td>IBD</td>\n      <td>active_new_CD</td>\n      <td>active, newly diagnosed Crohn's disease (CD)</td>\n      <td>Crohn's disease (CD)</td>\n      <td>Europe</td>\n      <td>Poland</td>\n      <td>Lesser Poland Voivodeship (Małopolskie)</td>\n      <td>Krakow</td>\n      <td>Unknown</td>\n      <td>Unknown</td>\n      <td>Unknown</td>\n      <td>Unknown</td>\n      <td>L2</td>\n    </tr>\n    <tr>\n      <th>4</th>\n      <td>S707</td>\n      <td>crohns-paper_37122605</td>\n      <td>ITS1</td>\n      <td>Case</td>\n      <td>Gastrointestinal</td>\n      <td>Inflammatory bowel disease (IBD)</td>\n      <td>IBD</td>\n      <td>CD</td>\n      <td>clinical remission Crohn's disease (CD)</td>\n      <td>Crohn's disease (CD)</td>\n      <td>Europe</td>\n      <td>Poland</td>\n      <td>Lesser Poland Voivodeship (Małopolskie)</td>\n      <td>Krakow</td>\n      <td>Unknown</td>\n      <td>Unknown</td>\n      <td>Unknown</td>\n      <td>Unknown</td>\n      <td>L2</td>\n    </tr>\n  </tbody>\n</table>\n</div>"
     },
     "execution_count": 5,
     "metadata": {},
     "output_type": "execute_result"
    }
   ],
   "source": [
    "df_case_control.head()"
   ],
   "metadata": {
    "collapsed": false,
    "ExecuteTime": {
     "end_time": "2024-09-04T14:45:40.416180Z",
     "start_time": "2024-09-04T14:45:40.397260Z"
    }
   },
   "id": "851e5abbd83d76b1",
   "execution_count": 5
  },
  {
   "cell_type": "code",
   "outputs": [
    {
     "name": "stdout",
     "output_type": "stream",
     "text": [
      "               Project_ID        Disease_Level_2 Case_Control  sample_count\n",
      "0              PRJDB13192               COVID-19         Case            76\n",
      "1              PRJDB13192               COVID-19      Control            24\n",
      "2              PRJEB35665               Melanoma         Case            20\n",
      "3              PRJEB35665               Melanoma      Control            17\n",
      "4              PRJEB38917                Obesity         Case            32\n",
      "5              PRJEB38917                Obesity      Control             9\n",
      "6              PRJEB38930                     AN         Case            94\n",
      "7              PRJEB38930                     AN      Control            62\n",
      "8              PRJEB42375                    IBS         Case            80\n",
      "9              PRJEB42375                    IBS      Control            64\n",
      "10             PRJEB46343                    HIV         Case            24\n",
      "11             PRJEB46343                    HIV      Control            12\n",
      "12             PRJEB53019                   T2DM         Case            17\n",
      "13             PRJEB53019                   T2DM      Control            11\n",
      "14            PRJNA419104                    CDI         Case            34\n",
      "15            PRJNA419104                    CDI      Control            23\n",
      "16            PRJNA517994  Alcohol-Associated-LD         Case            91\n",
      "17            PRJNA517994  Alcohol-Associated-LD      Control            11\n",
      "18            PRJNA557226                    PDA         Case            18\n",
      "19            PRJNA557226                    PDA      Control             9\n",
      "20            PRJNA590898                    IBD         Case            36\n",
      "21            PRJNA590898                    IBD      Control            18\n",
      "22            PRJNA607176                    IBD         Case            34\n",
      "23            PRJNA607176                    IBD      Control            47\n",
      "24            PRJNA637034               COVID-19         Case           106\n",
      "25            PRJNA637034               COVID-19      Control            46\n",
      "26            PRJNA647266                    CKD         Case            90\n",
      "27            PRJNA647266                    CKD      Control           150\n",
      "28            PRJNA662173                   T2DM         Case            46\n",
      "29            PRJNA662173                   T2DM      Control            23\n",
      "30            PRJNA698272                  NAFLD         Case            78\n",
      "31            PRJNA698272                  NAFLD      Control            16\n",
      "32            PRJNA703732  Alcohol-Associated-LD         Case           137\n",
      "33            PRJNA703732  Alcohol-Associated-LD      Control            18\n",
      "34            PRJNA735021                     RA         Case            47\n",
      "35            PRJNA735021                     RA      Control            39\n",
      "36            PRJNA751473                     AD         Case            17\n",
      "37            PRJNA751473                     AD      Control            17\n",
      "38            PRJNA756382                   T1DM         Case           103\n",
      "39            PRJNA756382                   T1DM      Control            58\n",
      "40            PRJNA778607                     HD         Case            63\n",
      "41            PRJNA778607                     HD      Control            42\n",
      "42            PRJNA791216                     RA         Case            99\n",
      "43            PRJNA791216                     RA      Control            30\n",
      "44            PRJNA794154               COVID-19         Case            30\n",
      "45            PRJNA794154               COVID-19      Control            23\n",
      "46            PRJNA813503                    GDM         Case            46\n",
      "47            PRJNA813503                    GDM      Control            52\n",
      "48  crohns-paper_37122605                    IBD         Case           105\n",
      "49  crohns-paper_37122605                    IBD      Control            39\n"
     ]
    }
   ],
   "source": [
    "case_control_per_project_before = df_case_control.groupby(['Project_ID', 'Disease_Level_2', 'Case_Control']).agg(sample_count=('SampleID', 'size')).reset_index()\n",
    "\n",
    "print(case_control_per_project_before)"
   ],
   "metadata": {
    "collapsed": false,
    "ExecuteTime": {
     "end_time": "2024-08-29T11:01:46.753834Z",
     "start_time": "2024-08-29T11:01:46.730336Z"
    }
   },
   "id": "2b59a72a7bff1644",
   "execution_count": 6
  },
  {
   "cell_type": "code",
   "outputs": [],
   "source": [
    "df_obf_rar3000_q2_boots_n50 = pd.read_csv(f'{data_dir}/src-analysis/diversity-analysis/alpha-diversity/q2-boots/n50/alpha-diversity-results-non-filtered/observed-features-group-significance.tsv', sep='\\t')"
   ],
   "metadata": {
    "collapsed": false,
    "ExecuteTime": {
     "end_time": "2024-09-04T14:55:57.302389Z",
     "start_time": "2024-09-04T14:55:57.285851Z"
    }
   },
   "id": "c2d871d8088ff07f",
   "execution_count": 6
  },
  {
   "cell_type": "code",
   "outputs": [
    {
     "data": {
      "text/plain": "(1899, 20)"
     },
     "execution_count": 7,
     "metadata": {},
     "output_type": "execute_result"
    }
   ],
   "source": [
    "df_obf_rar3000_q2_boots_n50.shape"
   ],
   "metadata": {
    "collapsed": false,
    "ExecuteTime": {
     "end_time": "2024-09-04T14:55:59.314293Z",
     "start_time": "2024-09-04T14:55:59.308003Z"
    }
   },
   "id": "44b430523c808a9a",
   "execution_count": 7
  },
  {
   "cell_type": "code",
   "outputs": [
    {
     "data": {
      "text/plain": "     id             Project_ID Sequencing_Region Case_Control  \\\n0  S675  crohns-paper_37122605              ITS1         Case   \n1  S683  crohns-paper_37122605              ITS1         Case   \n2  S691  crohns-paper_37122605              ITS1         Case   \n3  S699  crohns-paper_37122605              ITS1         Case   \n4  S707  crohns-paper_37122605              ITS1         Case   \n\n    Disease_Level_1                     Health_Status Disease_Level_2  \\\n0  Gastrointestinal  Inflammatory bowel disease (IBD)             IBD   \n1  Gastrointestinal  Inflammatory bowel disease (IBD)             IBD   \n2  Gastrointestinal  Inflammatory bowel disease (IBD)             IBD   \n3  Gastrointestinal  Inflammatory bowel disease (IBD)             IBD   \n4  Gastrointestinal  Inflammatory bowel disease (IBD)             IBD   \n\n  Disease_Level_3                              Disease_Subgroup  \\\n0   active_new_CD  active, newly diagnosed Crohn's disease (CD)   \n1   active_new_CD  active, newly diagnosed Crohn's disease (CD)   \n2   active_new_CD  active, newly diagnosed Crohn's disease (CD)   \n3   active_new_CD  active, newly diagnosed Crohn's disease (CD)   \n4              CD       clinical remission Crohn's disease (CD)   \n\n           IBD_Subgroup GeoLoc_Continent GeoLoc_Country  \\\n0  Crohn's disease (CD)           Europe         Poland   \n1  Crohn's disease (CD)           Europe         Poland   \n2  Crohn's disease (CD)           Europe         Poland   \n3  Crohn's disease (CD)           Europe         Poland   \n4  Crohn's disease (CD)           Europe         Poland   \n\n                             GeoLoc_Region GeoLoc_City Host_Sex  \\\n0  Lesser Poland Voivodeship (Małopolskie)      Krakow  Unknown   \n1  Lesser Poland Voivodeship (Małopolskie)      Krakow  Unknown   \n2  Lesser Poland Voivodeship (Małopolskie)      Krakow  Unknown   \n3  Lesser Poland Voivodeship (Małopolskie)      Krakow  Unknown   \n4  Lesser Poland Voivodeship (Małopolskie)      Krakow  Unknown   \n\n  Host_Age_Category Host_Age_Decade Host_Age Age_Detail_Level  \\\n0           Unknown         Unknown  Unknown               L2   \n1           Unknown         Unknown  Unknown               L2   \n2           Unknown         Unknown  Unknown               L2   \n3           Unknown         Unknown  Unknown               L2   \n4           Unknown         Unknown  Unknown               L2   \n\n   observed_features  \n0               31.0  \n1                9.0  \n2               17.0  \n3               36.0  \n4                8.0  ",
      "text/html": "<div>\n<style scoped>\n    .dataframe tbody tr th:only-of-type {\n        vertical-align: middle;\n    }\n\n    .dataframe tbody tr th {\n        vertical-align: top;\n    }\n\n    .dataframe thead th {\n        text-align: right;\n    }\n</style>\n<table border=\"1\" class=\"dataframe\">\n  <thead>\n    <tr style=\"text-align: right;\">\n      <th></th>\n      <th>id</th>\n      <th>Project_ID</th>\n      <th>Sequencing_Region</th>\n      <th>Case_Control</th>\n      <th>Disease_Level_1</th>\n      <th>Health_Status</th>\n      <th>Disease_Level_2</th>\n      <th>Disease_Level_3</th>\n      <th>Disease_Subgroup</th>\n      <th>IBD_Subgroup</th>\n      <th>GeoLoc_Continent</th>\n      <th>GeoLoc_Country</th>\n      <th>GeoLoc_Region</th>\n      <th>GeoLoc_City</th>\n      <th>Host_Sex</th>\n      <th>Host_Age_Category</th>\n      <th>Host_Age_Decade</th>\n      <th>Host_Age</th>\n      <th>Age_Detail_Level</th>\n      <th>observed_features</th>\n    </tr>\n  </thead>\n  <tbody>\n    <tr>\n      <th>0</th>\n      <td>S675</td>\n      <td>crohns-paper_37122605</td>\n      <td>ITS1</td>\n      <td>Case</td>\n      <td>Gastrointestinal</td>\n      <td>Inflammatory bowel disease (IBD)</td>\n      <td>IBD</td>\n      <td>active_new_CD</td>\n      <td>active, newly diagnosed Crohn's disease (CD)</td>\n      <td>Crohn's disease (CD)</td>\n      <td>Europe</td>\n      <td>Poland</td>\n      <td>Lesser Poland Voivodeship (Małopolskie)</td>\n      <td>Krakow</td>\n      <td>Unknown</td>\n      <td>Unknown</td>\n      <td>Unknown</td>\n      <td>Unknown</td>\n      <td>L2</td>\n      <td>31.0</td>\n    </tr>\n    <tr>\n      <th>1</th>\n      <td>S683</td>\n      <td>crohns-paper_37122605</td>\n      <td>ITS1</td>\n      <td>Case</td>\n      <td>Gastrointestinal</td>\n      <td>Inflammatory bowel disease (IBD)</td>\n      <td>IBD</td>\n      <td>active_new_CD</td>\n      <td>active, newly diagnosed Crohn's disease (CD)</td>\n      <td>Crohn's disease (CD)</td>\n      <td>Europe</td>\n      <td>Poland</td>\n      <td>Lesser Poland Voivodeship (Małopolskie)</td>\n      <td>Krakow</td>\n      <td>Unknown</td>\n      <td>Unknown</td>\n      <td>Unknown</td>\n      <td>Unknown</td>\n      <td>L2</td>\n      <td>9.0</td>\n    </tr>\n    <tr>\n      <th>2</th>\n      <td>S691</td>\n      <td>crohns-paper_37122605</td>\n      <td>ITS1</td>\n      <td>Case</td>\n      <td>Gastrointestinal</td>\n      <td>Inflammatory bowel disease (IBD)</td>\n      <td>IBD</td>\n      <td>active_new_CD</td>\n      <td>active, newly diagnosed Crohn's disease (CD)</td>\n      <td>Crohn's disease (CD)</td>\n      <td>Europe</td>\n      <td>Poland</td>\n      <td>Lesser Poland Voivodeship (Małopolskie)</td>\n      <td>Krakow</td>\n      <td>Unknown</td>\n      <td>Unknown</td>\n      <td>Unknown</td>\n      <td>Unknown</td>\n      <td>L2</td>\n      <td>17.0</td>\n    </tr>\n    <tr>\n      <th>3</th>\n      <td>S699</td>\n      <td>crohns-paper_37122605</td>\n      <td>ITS1</td>\n      <td>Case</td>\n      <td>Gastrointestinal</td>\n      <td>Inflammatory bowel disease (IBD)</td>\n      <td>IBD</td>\n      <td>active_new_CD</td>\n      <td>active, newly diagnosed Crohn's disease (CD)</td>\n      <td>Crohn's disease (CD)</td>\n      <td>Europe</td>\n      <td>Poland</td>\n      <td>Lesser Poland Voivodeship (Małopolskie)</td>\n      <td>Krakow</td>\n      <td>Unknown</td>\n      <td>Unknown</td>\n      <td>Unknown</td>\n      <td>Unknown</td>\n      <td>L2</td>\n      <td>36.0</td>\n    </tr>\n    <tr>\n      <th>4</th>\n      <td>S707</td>\n      <td>crohns-paper_37122605</td>\n      <td>ITS1</td>\n      <td>Case</td>\n      <td>Gastrointestinal</td>\n      <td>Inflammatory bowel disease (IBD)</td>\n      <td>IBD</td>\n      <td>CD</td>\n      <td>clinical remission Crohn's disease (CD)</td>\n      <td>Crohn's disease (CD)</td>\n      <td>Europe</td>\n      <td>Poland</td>\n      <td>Lesser Poland Voivodeship (Małopolskie)</td>\n      <td>Krakow</td>\n      <td>Unknown</td>\n      <td>Unknown</td>\n      <td>Unknown</td>\n      <td>Unknown</td>\n      <td>L2</td>\n      <td>8.0</td>\n    </tr>\n  </tbody>\n</table>\n</div>"
     },
     "execution_count": 8,
     "metadata": {},
     "output_type": "execute_result"
    }
   ],
   "source": [
    "df_obf_rar3000_q2_boots_n50.head()"
   ],
   "metadata": {
    "collapsed": false,
    "ExecuteTime": {
     "end_time": "2024-09-04T14:56:11.942933Z",
     "start_time": "2024-09-04T14:56:11.927945Z"
    }
   },
   "id": "cd9d81549b24b334",
   "execution_count": 8
  },
  {
   "cell_type": "code",
   "outputs": [
    {
     "name": "stdout",
     "output_type": "stream",
     "text": [
      "               Project_ID        Disease_Level_2 Case_Control  sample_count\n",
      "0              PRJDB13192               COVID-19         Case            73\n",
      "1              PRJDB13192               COVID-19      Control            16\n",
      "2              PRJEB35665               Melanoma         Case            19\n",
      "3              PRJEB35665               Melanoma      Control            17\n",
      "4              PRJEB38917                Obesity         Case             7\n",
      "5              PRJEB38917                Obesity      Control             2\n",
      "6              PRJEB38930                     AN         Case            70\n",
      "7              PRJEB38930                     AN      Control            43\n",
      "8              PRJEB42375                    IBS         Case            80\n",
      "9              PRJEB42375                    IBS      Control            64\n",
      "10             PRJEB46343                    HIV         Case            23\n",
      "11             PRJEB46343                    HIV      Control            12\n",
      "12             PRJEB53019                   T2DM         Case            10\n",
      "13             PRJEB53019                   T2DM      Control             5\n",
      "14            PRJNA419104                    CDI         Case            33\n",
      "15            PRJNA419104                    CDI      Control            22\n",
      "16            PRJNA517994  Alcohol-Associated-LD         Case            39\n",
      "17            PRJNA517994  Alcohol-Associated-LD      Control             8\n",
      "18            PRJNA590898                    IBD         Case            27\n",
      "19            PRJNA590898                    IBD      Control            14\n",
      "20            PRJNA607176                    IBD         Case            30\n",
      "21            PRJNA607176                    IBD      Control            37\n",
      "22            PRJNA637034               COVID-19      Control             1\n",
      "23            PRJNA647266                    CKD         Case            90\n",
      "24            PRJNA647266                    CKD      Control           150\n",
      "25            PRJNA662173                   T2DM         Case            46\n",
      "26            PRJNA662173                   T2DM      Control            23\n",
      "27            PRJNA698272                  NAFLD         Case            50\n",
      "28            PRJNA698272                  NAFLD      Control             8\n",
      "29            PRJNA703732  Alcohol-Associated-LD         Case           113\n",
      "30            PRJNA703732  Alcohol-Associated-LD      Control            14\n",
      "31            PRJNA735021                     RA         Case            45\n",
      "32            PRJNA735021                     RA      Control            35\n",
      "33            PRJNA751473                     AD         Case            17\n",
      "34            PRJNA751473                     AD      Control            17\n",
      "35            PRJNA756382                   T1DM         Case            84\n",
      "36            PRJNA756382                   T1DM      Control            41\n",
      "37            PRJNA778607                     HD         Case            63\n",
      "38            PRJNA778607                     HD      Control            42\n",
      "39            PRJNA791216                     RA         Case            96\n",
      "40            PRJNA791216                     RA      Control            29\n",
      "41            PRJNA794154               COVID-19         Case            30\n",
      "42            PRJNA794154               COVID-19      Control            23\n",
      "43            PRJNA813503                    GDM         Case            42\n",
      "44            PRJNA813503                    GDM      Control            46\n",
      "45  crohns-paper_37122605                    IBD         Case           104\n",
      "46  crohns-paper_37122605                    IBD      Control            39\n"
     ]
    }
   ],
   "source": [
    "case_control_per_project_after = df_obf_rar3000_q2_boots_n50.groupby(['Project_ID', 'Disease_Level_2', 'Case_Control']).agg(sample_count=('id', 'size')).reset_index()\n",
    "\n",
    "print(case_control_per_project_after)"
   ],
   "metadata": {
    "collapsed": false,
    "ExecuteTime": {
     "end_time": "2024-09-04T14:56:22.607957Z",
     "start_time": "2024-09-04T14:56:22.587555Z"
    }
   },
   "id": "ac94c1a494c2c5bb",
   "execution_count": 9
  },
  {
   "cell_type": "code",
   "outputs": [],
   "source": [
    "data_before_q2_boots_rar3000_n50 = pd.read_csv(f'{data_dir}/metadata/before-q2-boots-rar3000.txt', sep=r'\\s+', engine='python') \n",
    "data_after_q2_boots_rar3000_n50 = pd.read_csv(f'{data_dir}/metadata/after-q2-boots-rar3000-n50.txt', sep=r'\\s+', engine='python')"
   ],
   "metadata": {
    "collapsed": false,
    "ExecuteTime": {
     "end_time": "2024-09-04T14:59:08.217973Z",
     "start_time": "2024-09-04T14:59:08.207092Z"
    }
   },
   "id": "2a17e220c62e4594",
   "execution_count": 10
  },
  {
   "cell_type": "code",
   "outputs": [],
   "source": [
    "# Rename the sample_count column to be specific\n",
    "data_before_q2_boots_rar3000_n50 = data_before_q2_boots_rar3000_n50.rename(columns={'sample_count': 'sample_count_before'})\n",
    "data_after_q2_boots_rar3000_n50 = data_after_q2_boots_rar3000_n50.rename(columns={'sample_count': 'sample_count_after'})\n",
    "\n",
    "# Perform a left merge to keep all rows from the \"before\" dataset\n",
    "merged_df_q2_boots_rar3000_n50 = pd.merge(data_before_q2_boots_rar3000_n50, data_after_q2_boots_rar3000_n50, on=['Project_ID', 'Disease_Level_2', 'Case_Control'], how='left')\n",
    "\n",
    "# Fill missing values in the sample_count_after column with 0\n",
    "merged_df_q2_boots_rar3000_n50['sample_count_after'] = merged_df_q2_boots_rar3000_n50['sample_count_after'].fillna(0)"
   ],
   "metadata": {
    "collapsed": false,
    "ExecuteTime": {
     "end_time": "2024-09-04T14:59:51.825934Z",
     "start_time": "2024-09-04T14:59:51.812010Z"
    }
   },
   "id": "41b979dab5281504",
   "execution_count": 11
  },
  {
   "cell_type": "code",
   "outputs": [],
   "source": [
    "# Convert sample_count_after to integers\n",
    "merged_df_q2_boots_rar3000_n50['sample_count_after'] = merged_df_q2_boots_rar3000_n50['sample_count_after'].astype(int)"
   ],
   "metadata": {
    "collapsed": false,
    "ExecuteTime": {
     "end_time": "2024-09-04T14:59:53.026057Z",
     "start_time": "2024-09-04T14:59:53.022580Z"
    }
   },
   "id": "623b3569fca6c61e",
   "execution_count": 12
  },
  {
   "cell_type": "code",
   "outputs": [
    {
     "data": {
      "text/plain": "               Project_ID        Disease_Level_2 Case_Control  \\\n0              PRJDB13192               COVID-19         Case   \n1              PRJDB13192               COVID-19      Control   \n2              PRJEB35665               Melanoma         Case   \n3              PRJEB35665               Melanoma      Control   \n4              PRJEB38917                Obesity         Case   \n5              PRJEB38917                Obesity      Control   \n6              PRJEB38930                     AN         Case   \n7              PRJEB38930                     AN      Control   \n8              PRJEB42375                    IBS         Case   \n9              PRJEB42375                    IBS      Control   \n10             PRJEB46343                    HIV         Case   \n11             PRJEB46343                    HIV      Control   \n12             PRJEB53019                   T2DM         Case   \n13             PRJEB53019                   T2DM      Control   \n14            PRJNA419104                    CDI         Case   \n15            PRJNA419104                    CDI      Control   \n16            PRJNA517994  Alcohol-Associated-LD         Case   \n17            PRJNA517994  Alcohol-Associated-LD      Control   \n18            PRJNA557226                    PDA         Case   \n19            PRJNA557226                    PDA      Control   \n20            PRJNA590898                    IBD         Case   \n21            PRJNA590898                    IBD      Control   \n22            PRJNA607176                    IBD         Case   \n23            PRJNA607176                    IBD      Control   \n24            PRJNA637034               COVID-19         Case   \n25            PRJNA637034               COVID-19      Control   \n26            PRJNA647266                    CKD         Case   \n27            PRJNA647266                    CKD      Control   \n28            PRJNA662173                   T2DM         Case   \n29            PRJNA662173                   T2DM      Control   \n30            PRJNA698272                  NAFLD         Case   \n31            PRJNA698272                  NAFLD      Control   \n32            PRJNA703732  Alcohol-Associated-LD         Case   \n33            PRJNA703732  Alcohol-Associated-LD      Control   \n34            PRJNA735021                     RA         Case   \n35            PRJNA735021                     RA      Control   \n36            PRJNA751473                     AD         Case   \n37            PRJNA751473                     AD      Control   \n38            PRJNA756382                   T1DM         Case   \n39            PRJNA756382                   T1DM      Control   \n40            PRJNA778607                     HD         Case   \n41            PRJNA778607                     HD      Control   \n42            PRJNA791216                     RA         Case   \n43            PRJNA791216                     RA      Control   \n44            PRJNA794154               COVID-19         Case   \n45            PRJNA794154               COVID-19      Control   \n46            PRJNA813503                    GDM         Case   \n47            PRJNA813503                    GDM      Control   \n48  crohns-paper_37122605                    IBD         Case   \n49  crohns-paper_37122605                    IBD      Control   \n\n    sample_count_before  sample_count_after  \n0                    76                  73  \n1                    24                  16  \n2                    20                  19  \n3                    17                  17  \n4                    32                   7  \n5                     9                   2  \n6                    94                  70  \n7                    62                  43  \n8                    80                  80  \n9                    64                  64  \n10                   24                  23  \n11                   12                  12  \n12                   17                  10  \n13                   11                   5  \n14                   34                  33  \n15                   23                  22  \n16                   91                  39  \n17                   11                   8  \n18                   18                   0  \n19                    9                   0  \n20                   36                  27  \n21                   18                  14  \n22                   34                  30  \n23                   47                  37  \n24                  106                   0  \n25                   46                   1  \n26                   90                  90  \n27                  150                 150  \n28                   46                  46  \n29                   23                  23  \n30                   78                  50  \n31                   16                   8  \n32                  137                 113  \n33                   18                  14  \n34                   47                  45  \n35                   39                  35  \n36                   17                  17  \n37                   17                  17  \n38                  103                  84  \n39                   58                  41  \n40                   63                  63  \n41                   42                  42  \n42                   99                  96  \n43                   30                  29  \n44                   30                  30  \n45                   23                  23  \n46                   46                  42  \n47                   52                  46  \n48                  105                 104  \n49                   39                  39  ",
      "text/html": "<div>\n<style scoped>\n    .dataframe tbody tr th:only-of-type {\n        vertical-align: middle;\n    }\n\n    .dataframe tbody tr th {\n        vertical-align: top;\n    }\n\n    .dataframe thead th {\n        text-align: right;\n    }\n</style>\n<table border=\"1\" class=\"dataframe\">\n  <thead>\n    <tr style=\"text-align: right;\">\n      <th></th>\n      <th>Project_ID</th>\n      <th>Disease_Level_2</th>\n      <th>Case_Control</th>\n      <th>sample_count_before</th>\n      <th>sample_count_after</th>\n    </tr>\n  </thead>\n  <tbody>\n    <tr>\n      <th>0</th>\n      <td>PRJDB13192</td>\n      <td>COVID-19</td>\n      <td>Case</td>\n      <td>76</td>\n      <td>73</td>\n    </tr>\n    <tr>\n      <th>1</th>\n      <td>PRJDB13192</td>\n      <td>COVID-19</td>\n      <td>Control</td>\n      <td>24</td>\n      <td>16</td>\n    </tr>\n    <tr>\n      <th>2</th>\n      <td>PRJEB35665</td>\n      <td>Melanoma</td>\n      <td>Case</td>\n      <td>20</td>\n      <td>19</td>\n    </tr>\n    <tr>\n      <th>3</th>\n      <td>PRJEB35665</td>\n      <td>Melanoma</td>\n      <td>Control</td>\n      <td>17</td>\n      <td>17</td>\n    </tr>\n    <tr>\n      <th>4</th>\n      <td>PRJEB38917</td>\n      <td>Obesity</td>\n      <td>Case</td>\n      <td>32</td>\n      <td>7</td>\n    </tr>\n    <tr>\n      <th>5</th>\n      <td>PRJEB38917</td>\n      <td>Obesity</td>\n      <td>Control</td>\n      <td>9</td>\n      <td>2</td>\n    </tr>\n    <tr>\n      <th>6</th>\n      <td>PRJEB38930</td>\n      <td>AN</td>\n      <td>Case</td>\n      <td>94</td>\n      <td>70</td>\n    </tr>\n    <tr>\n      <th>7</th>\n      <td>PRJEB38930</td>\n      <td>AN</td>\n      <td>Control</td>\n      <td>62</td>\n      <td>43</td>\n    </tr>\n    <tr>\n      <th>8</th>\n      <td>PRJEB42375</td>\n      <td>IBS</td>\n      <td>Case</td>\n      <td>80</td>\n      <td>80</td>\n    </tr>\n    <tr>\n      <th>9</th>\n      <td>PRJEB42375</td>\n      <td>IBS</td>\n      <td>Control</td>\n      <td>64</td>\n      <td>64</td>\n    </tr>\n    <tr>\n      <th>10</th>\n      <td>PRJEB46343</td>\n      <td>HIV</td>\n      <td>Case</td>\n      <td>24</td>\n      <td>23</td>\n    </tr>\n    <tr>\n      <th>11</th>\n      <td>PRJEB46343</td>\n      <td>HIV</td>\n      <td>Control</td>\n      <td>12</td>\n      <td>12</td>\n    </tr>\n    <tr>\n      <th>12</th>\n      <td>PRJEB53019</td>\n      <td>T2DM</td>\n      <td>Case</td>\n      <td>17</td>\n      <td>10</td>\n    </tr>\n    <tr>\n      <th>13</th>\n      <td>PRJEB53019</td>\n      <td>T2DM</td>\n      <td>Control</td>\n      <td>11</td>\n      <td>5</td>\n    </tr>\n    <tr>\n      <th>14</th>\n      <td>PRJNA419104</td>\n      <td>CDI</td>\n      <td>Case</td>\n      <td>34</td>\n      <td>33</td>\n    </tr>\n    <tr>\n      <th>15</th>\n      <td>PRJNA419104</td>\n      <td>CDI</td>\n      <td>Control</td>\n      <td>23</td>\n      <td>22</td>\n    </tr>\n    <tr>\n      <th>16</th>\n      <td>PRJNA517994</td>\n      <td>Alcohol-Associated-LD</td>\n      <td>Case</td>\n      <td>91</td>\n      <td>39</td>\n    </tr>\n    <tr>\n      <th>17</th>\n      <td>PRJNA517994</td>\n      <td>Alcohol-Associated-LD</td>\n      <td>Control</td>\n      <td>11</td>\n      <td>8</td>\n    </tr>\n    <tr>\n      <th>18</th>\n      <td>PRJNA557226</td>\n      <td>PDA</td>\n      <td>Case</td>\n      <td>18</td>\n      <td>0</td>\n    </tr>\n    <tr>\n      <th>19</th>\n      <td>PRJNA557226</td>\n      <td>PDA</td>\n      <td>Control</td>\n      <td>9</td>\n      <td>0</td>\n    </tr>\n    <tr>\n      <th>20</th>\n      <td>PRJNA590898</td>\n      <td>IBD</td>\n      <td>Case</td>\n      <td>36</td>\n      <td>27</td>\n    </tr>\n    <tr>\n      <th>21</th>\n      <td>PRJNA590898</td>\n      <td>IBD</td>\n      <td>Control</td>\n      <td>18</td>\n      <td>14</td>\n    </tr>\n    <tr>\n      <th>22</th>\n      <td>PRJNA607176</td>\n      <td>IBD</td>\n      <td>Case</td>\n      <td>34</td>\n      <td>30</td>\n    </tr>\n    <tr>\n      <th>23</th>\n      <td>PRJNA607176</td>\n      <td>IBD</td>\n      <td>Control</td>\n      <td>47</td>\n      <td>37</td>\n    </tr>\n    <tr>\n      <th>24</th>\n      <td>PRJNA637034</td>\n      <td>COVID-19</td>\n      <td>Case</td>\n      <td>106</td>\n      <td>0</td>\n    </tr>\n    <tr>\n      <th>25</th>\n      <td>PRJNA637034</td>\n      <td>COVID-19</td>\n      <td>Control</td>\n      <td>46</td>\n      <td>1</td>\n    </tr>\n    <tr>\n      <th>26</th>\n      <td>PRJNA647266</td>\n      <td>CKD</td>\n      <td>Case</td>\n      <td>90</td>\n      <td>90</td>\n    </tr>\n    <tr>\n      <th>27</th>\n      <td>PRJNA647266</td>\n      <td>CKD</td>\n      <td>Control</td>\n      <td>150</td>\n      <td>150</td>\n    </tr>\n    <tr>\n      <th>28</th>\n      <td>PRJNA662173</td>\n      <td>T2DM</td>\n      <td>Case</td>\n      <td>46</td>\n      <td>46</td>\n    </tr>\n    <tr>\n      <th>29</th>\n      <td>PRJNA662173</td>\n      <td>T2DM</td>\n      <td>Control</td>\n      <td>23</td>\n      <td>23</td>\n    </tr>\n    <tr>\n      <th>30</th>\n      <td>PRJNA698272</td>\n      <td>NAFLD</td>\n      <td>Case</td>\n      <td>78</td>\n      <td>50</td>\n    </tr>\n    <tr>\n      <th>31</th>\n      <td>PRJNA698272</td>\n      <td>NAFLD</td>\n      <td>Control</td>\n      <td>16</td>\n      <td>8</td>\n    </tr>\n    <tr>\n      <th>32</th>\n      <td>PRJNA703732</td>\n      <td>Alcohol-Associated-LD</td>\n      <td>Case</td>\n      <td>137</td>\n      <td>113</td>\n    </tr>\n    <tr>\n      <th>33</th>\n      <td>PRJNA703732</td>\n      <td>Alcohol-Associated-LD</td>\n      <td>Control</td>\n      <td>18</td>\n      <td>14</td>\n    </tr>\n    <tr>\n      <th>34</th>\n      <td>PRJNA735021</td>\n      <td>RA</td>\n      <td>Case</td>\n      <td>47</td>\n      <td>45</td>\n    </tr>\n    <tr>\n      <th>35</th>\n      <td>PRJNA735021</td>\n      <td>RA</td>\n      <td>Control</td>\n      <td>39</td>\n      <td>35</td>\n    </tr>\n    <tr>\n      <th>36</th>\n      <td>PRJNA751473</td>\n      <td>AD</td>\n      <td>Case</td>\n      <td>17</td>\n      <td>17</td>\n    </tr>\n    <tr>\n      <th>37</th>\n      <td>PRJNA751473</td>\n      <td>AD</td>\n      <td>Control</td>\n      <td>17</td>\n      <td>17</td>\n    </tr>\n    <tr>\n      <th>38</th>\n      <td>PRJNA756382</td>\n      <td>T1DM</td>\n      <td>Case</td>\n      <td>103</td>\n      <td>84</td>\n    </tr>\n    <tr>\n      <th>39</th>\n      <td>PRJNA756382</td>\n      <td>T1DM</td>\n      <td>Control</td>\n      <td>58</td>\n      <td>41</td>\n    </tr>\n    <tr>\n      <th>40</th>\n      <td>PRJNA778607</td>\n      <td>HD</td>\n      <td>Case</td>\n      <td>63</td>\n      <td>63</td>\n    </tr>\n    <tr>\n      <th>41</th>\n      <td>PRJNA778607</td>\n      <td>HD</td>\n      <td>Control</td>\n      <td>42</td>\n      <td>42</td>\n    </tr>\n    <tr>\n      <th>42</th>\n      <td>PRJNA791216</td>\n      <td>RA</td>\n      <td>Case</td>\n      <td>99</td>\n      <td>96</td>\n    </tr>\n    <tr>\n      <th>43</th>\n      <td>PRJNA791216</td>\n      <td>RA</td>\n      <td>Control</td>\n      <td>30</td>\n      <td>29</td>\n    </tr>\n    <tr>\n      <th>44</th>\n      <td>PRJNA794154</td>\n      <td>COVID-19</td>\n      <td>Case</td>\n      <td>30</td>\n      <td>30</td>\n    </tr>\n    <tr>\n      <th>45</th>\n      <td>PRJNA794154</td>\n      <td>COVID-19</td>\n      <td>Control</td>\n      <td>23</td>\n      <td>23</td>\n    </tr>\n    <tr>\n      <th>46</th>\n      <td>PRJNA813503</td>\n      <td>GDM</td>\n      <td>Case</td>\n      <td>46</td>\n      <td>42</td>\n    </tr>\n    <tr>\n      <th>47</th>\n      <td>PRJNA813503</td>\n      <td>GDM</td>\n      <td>Control</td>\n      <td>52</td>\n      <td>46</td>\n    </tr>\n    <tr>\n      <th>48</th>\n      <td>crohns-paper_37122605</td>\n      <td>IBD</td>\n      <td>Case</td>\n      <td>105</td>\n      <td>104</td>\n    </tr>\n    <tr>\n      <th>49</th>\n      <td>crohns-paper_37122605</td>\n      <td>IBD</td>\n      <td>Control</td>\n      <td>39</td>\n      <td>39</td>\n    </tr>\n  </tbody>\n</table>\n</div>"
     },
     "execution_count": 13,
     "metadata": {},
     "output_type": "execute_result"
    }
   ],
   "source": [
    "merged_df_q2_boots_rar3000_n50"
   ],
   "metadata": {
    "collapsed": false,
    "ExecuteTime": {
     "end_time": "2024-09-04T14:59:54.720339Z",
     "start_time": "2024-09-04T14:59:54.705304Z"
    }
   },
   "id": "ebe441a58f2f6ad4",
   "execution_count": 13
  },
  {
   "cell_type": "code",
   "outputs": [
    {
     "data": {
      "text/plain": "25"
     },
     "execution_count": 14,
     "metadata": {},
     "output_type": "execute_result"
    }
   ],
   "source": [
    "len(merged_df_q2_boots_rar3000_n50['Project_ID'].unique())\n",
    "# Sanity check - OK"
   ],
   "metadata": {
    "collapsed": false,
    "ExecuteTime": {
     "end_time": "2024-09-04T15:00:01.884637Z",
     "start_time": "2024-09-04T15:00:01.878167Z"
    }
   },
   "id": "1125e75befa04f1f",
   "execution_count": 14
  },
  {
   "cell_type": "code",
   "outputs": [],
   "source": [
    "merged_df_q2_boots_rar3000_n50.to_csv(f'{data_dir}/metadata/merged-before-after-q2-boots-rar3000-n50.tsv', sep='\\t', index=False)"
   ],
   "metadata": {
    "collapsed": false,
    "ExecuteTime": {
     "end_time": "2024-09-04T15:00:13.881621Z",
     "start_time": "2024-09-04T15:00:13.874928Z"
    }
   },
   "id": "9167cf2fdc868d9e",
   "execution_count": 15
  },
  {
   "cell_type": "markdown",
   "source": [
    "### Observed features: non-filtered, filt-nonresident, and only the non-resident (q2-boots-rar3000-n50)"
   ],
   "metadata": {
    "collapsed": false
   },
   "id": "3c7accf44674c3c7"
  },
  {
   "cell_type": "code",
   "outputs": [],
   "source": [
    "df_non_filtered_of_q2_boots_rar3000_n50 = pd.read_csv(f'{data_dir}/src-analysis/diversity-analysis/alpha-diversity/q2-boots/n50/alpha-diversity-results-non-filtered/observed-features-group-significance.tsv', sep='\\t')\n",
    "\n",
    "df_filt_nonresident_of_q2_boots_rar3000_n50 = pd.read_csv(f'{data_dir}/src-analysis/diversity-analysis/alpha-diversity/q2-boots/n50/alpha-diversity-results-filt-nonresident/observed-features-group-significance.tsv', sep='\\t')\n",
    "\n",
    "df_nonresident_of_q2_boots_rar3000_n50 = pd.read_csv(f'{data_dir}/src-analysis/diversity-analysis/alpha-diversity/q2-boots/n50/alpha-diversity-results-nonresident/observed-features-group-significance.tsv', sep='\\t')"
   ],
   "metadata": {
    "collapsed": false,
    "ExecuteTime": {
     "end_time": "2024-09-05T08:29:14.214874Z",
     "start_time": "2024-09-05T08:29:14.161233Z"
    }
   },
   "id": "79de4c61cdb64ff",
   "execution_count": 16
  },
  {
   "cell_type": "code",
   "outputs": [
    {
     "data": {
      "text/plain": "(1899, 20)"
     },
     "execution_count": 17,
     "metadata": {},
     "output_type": "execute_result"
    }
   ],
   "source": [
    "df_non_filtered_of_q2_boots_rar3000_n50.shape"
   ],
   "metadata": {
    "collapsed": false,
    "ExecuteTime": {
     "end_time": "2024-09-05T08:29:15.888935Z",
     "start_time": "2024-09-05T08:29:15.883010Z"
    }
   },
   "id": "d2607aa51b2040d2",
   "execution_count": 17
  },
  {
   "cell_type": "code",
   "outputs": [
    {
     "data": {
      "text/plain": "(1856, 20)"
     },
     "execution_count": 18,
     "metadata": {},
     "output_type": "execute_result"
    }
   ],
   "source": [
    "df_filt_nonresident_of_q2_boots_rar3000_n50.shape"
   ],
   "metadata": {
    "collapsed": false,
    "ExecuteTime": {
     "end_time": "2024-09-05T08:29:17.416349Z",
     "start_time": "2024-09-05T08:29:17.410785Z"
    }
   },
   "id": "2281e72919b361e1",
   "execution_count": 18
  },
  {
   "cell_type": "code",
   "outputs": [
    {
     "data": {
      "text/plain": "(231, 20)"
     },
     "execution_count": 19,
     "metadata": {},
     "output_type": "execute_result"
    }
   ],
   "source": [
    "df_nonresident_of_q2_boots_rar3000_n50.shape"
   ],
   "metadata": {
    "collapsed": false,
    "ExecuteTime": {
     "end_time": "2024-09-05T08:29:20.036360Z",
     "start_time": "2024-09-05T08:29:20.030211Z"
    }
   },
   "id": "998df1d41eea7bc6",
   "execution_count": 19
  },
  {
   "cell_type": "code",
   "outputs": [],
   "source": [
    "# Rename the observed features column to be specific\n",
    "df_non_filtered_of_q2_boots_rar3000_n50 = df_non_filtered_of_q2_boots_rar3000_n50.rename(columns={'observed_features': 'observed_features_non_filtered'})\n",
    "df_filt_nonresident_of_q2_boots_rar3000_n50 = df_filt_nonresident_of_q2_boots_rar3000_n50.rename(columns={'observed_features': 'observed_features_filt_nonresident'})\n",
    "df_nonresident_of_q2_boots_rar3000_n50 = df_nonresident_of_q2_boots_rar3000_n50.rename(columns={'observed_features': 'observed_features_nonresident'})\n",
    "\n",
    "# Perform a left merge to keep all rows from the \"non_filtered\" dataset\n",
    "merged_df_transition_of_q2_boots_rar3000_n50 = pd.merge(df_non_filtered_of_q2_boots_rar3000_n50, df_filt_nonresident_of_q2_boots_rar3000_n50, on=['id', 'Project_ID', 'Sequencing_Region', 'Case_Control', 'Disease_Level_1', 'Health_Status', 'Disease_Level_2', 'Disease_Level_3', 'Disease_Subgroup', 'IBD_Subgroup', 'GeoLoc_Continent', 'GeoLoc_Country', 'GeoLoc_Region', 'GeoLoc_City', 'Host_Sex', 'Host_Age_Category', 'Host_Age_Decade', 'Host_Age', 'Age_Detail_Level'], how='left')\n",
    "merged_df_observed_features_q2_boots_rar3000_n50 = pd.merge(merged_df_transition_of_q2_boots_rar3000_n50, df_nonresident_of_q2_boots_rar3000_n50, on=['id', 'Project_ID', 'Sequencing_Region', 'Case_Control', 'Disease_Level_1', 'Health_Status', 'Disease_Level_2', 'Disease_Level_3', 'Disease_Subgroup', 'IBD_Subgroup', 'GeoLoc_Continent', 'GeoLoc_Country', 'GeoLoc_Region', 'GeoLoc_City', 'Host_Sex', 'Host_Age_Category', 'Host_Age_Decade', 'Host_Age', 'Age_Detail_Level'], how='left')\n",
    "\n",
    "# Fill missing values in the sample_count_after column with 0\n",
    "merged_df_observed_features_q2_boots_rar3000_n50['observed_features_filt_nonresident'] = merged_df_observed_features_q2_boots_rar3000_n50['observed_features_filt_nonresident'].fillna(0)\n",
    "merged_df_observed_features_q2_boots_rar3000_n50['observed_features_nonresident'] = merged_df_observed_features_q2_boots_rar3000_n50['observed_features_nonresident'].fillna(0)"
   ],
   "metadata": {
    "collapsed": false,
    "ExecuteTime": {
     "end_time": "2024-09-05T08:35:40.564664Z",
     "start_time": "2024-09-05T08:35:40.518915Z"
    }
   },
   "id": "8e76b754aea884e0",
   "execution_count": 20
  },
  {
   "cell_type": "code",
   "outputs": [
    {
     "data": {
      "text/plain": "               id             Project_ID Sequencing_Region Case_Control  \\\n0            S675  crohns-paper_37122605              ITS1         Case   \n1            S683  crohns-paper_37122605              ITS1         Case   \n2            S691  crohns-paper_37122605              ITS1         Case   \n3            S699  crohns-paper_37122605              ITS1         Case   \n4            S707  crohns-paper_37122605              ITS1         Case   \n...           ...                    ...               ...          ...   \n1894  SRR18268067            PRJNA813503              ITS1         Case   \n1895  SRR18268068            PRJNA813503              ITS1         Case   \n1896  SRR18268069            PRJNA813503              ITS1         Case   \n1897  SRR18268070            PRJNA813503              ITS1         Case   \n1898  SRR18268071            PRJNA813503              ITS1         Case   \n\n       Disease_Level_1                        Health_Status Disease_Level_2  \\\n0     Gastrointestinal     Inflammatory bowel disease (IBD)             IBD   \n1     Gastrointestinal     Inflammatory bowel disease (IBD)             IBD   \n2     Gastrointestinal     Inflammatory bowel disease (IBD)             IBD   \n3     Gastrointestinal     Inflammatory bowel disease (IBD)             IBD   \n4     Gastrointestinal     Inflammatory bowel disease (IBD)             IBD   \n...                ...                                  ...             ...   \n1894         Metabolic  Gestational diabetes mellitus (GDM)             GDM   \n1895         Metabolic  Gestational diabetes mellitus (GDM)             GDM   \n1896         Metabolic  Gestational diabetes mellitus (GDM)             GDM   \n1897         Metabolic  Gestational diabetes mellitus (GDM)             GDM   \n1898         Metabolic  Gestational diabetes mellitus (GDM)             GDM   \n\n     Disease_Level_3                              Disease_Subgroup  \\\n0      active_new_CD  active, newly diagnosed Crohn's disease (CD)   \n1      active_new_CD  active, newly diagnosed Crohn's disease (CD)   \n2      active_new_CD  active, newly diagnosed Crohn's disease (CD)   \n3      active_new_CD  active, newly diagnosed Crohn's disease (CD)   \n4                 CD       clinical remission Crohn's disease (CD)   \n...              ...                                           ...   \n1894             NaN                                           NaN   \n1895             NaN                                           NaN   \n1896             NaN                                           NaN   \n1897             NaN                                           NaN   \n1898             NaN                                           NaN   \n\n              IBD_Subgroup  ...                            GeoLoc_Region  \\\n0     Crohn's disease (CD)  ...  Lesser Poland Voivodeship (Małopolskie)   \n1     Crohn's disease (CD)  ...  Lesser Poland Voivodeship (Małopolskie)   \n2     Crohn's disease (CD)  ...  Lesser Poland Voivodeship (Małopolskie)   \n3     Crohn's disease (CD)  ...  Lesser Poland Voivodeship (Małopolskie)   \n4     Crohn's disease (CD)  ...  Lesser Poland Voivodeship (Małopolskie)   \n...                    ...  ...                                      ...   \n1894                   NaN  ...                                  Beijing   \n1895                   NaN  ...                                  Beijing   \n1896                   NaN  ...                                  Beijing   \n1897                   NaN  ...                                  Beijing   \n1898                   NaN  ...                                  Beijing   \n\n     GeoLoc_City Host_Sex Host_Age_Category Host_Age_Decade Host_Age  \\\n0         Krakow  Unknown           Unknown         Unknown  Unknown   \n1         Krakow  Unknown           Unknown         Unknown  Unknown   \n2         Krakow  Unknown           Unknown         Unknown  Unknown   \n3         Krakow  Unknown           Unknown         Unknown  Unknown   \n4         Krakow  Unknown           Unknown         Unknown  Unknown   \n...          ...      ...               ...             ...      ...   \n1894     Beijing   female           Unknown         Unknown  Unknown   \n1895     Beijing   female           Unknown         Unknown  Unknown   \n1896     Beijing   female           Unknown         Unknown  Unknown   \n1897     Beijing   female           Unknown         Unknown  Unknown   \n1898     Beijing   female           Unknown         Unknown  Unknown   \n\n     Age_Detail_Level observed_features_non_filtered  \\\n0                  L2                           31.0   \n1                  L2                            9.0   \n2                  L2                           17.0   \n3                  L2                           36.0   \n4                  L2                            8.0   \n...               ...                            ...   \n1894               L1                           31.0   \n1895               L1                           55.0   \n1896               L1                          144.0   \n1897               L1                           19.0   \n1898               L1                           65.0   \n\n     observed_features_filt_nonresident  observed_features_nonresident  \n0                                  31.0                            0.0  \n1                                   8.0                            0.0  \n2                                  16.0                            0.0  \n3                                  33.0                            0.0  \n4                                   8.0                            0.0  \n...                                 ...                            ...  \n1894                               28.0                            0.0  \n1895                               51.0                            0.0  \n1896                              139.0                            0.0  \n1897                               17.0                            0.0  \n1898                               62.0                            0.0  \n\n[1899 rows x 22 columns]",
      "text/html": "<div>\n<style scoped>\n    .dataframe tbody tr th:only-of-type {\n        vertical-align: middle;\n    }\n\n    .dataframe tbody tr th {\n        vertical-align: top;\n    }\n\n    .dataframe thead th {\n        text-align: right;\n    }\n</style>\n<table border=\"1\" class=\"dataframe\">\n  <thead>\n    <tr style=\"text-align: right;\">\n      <th></th>\n      <th>id</th>\n      <th>Project_ID</th>\n      <th>Sequencing_Region</th>\n      <th>Case_Control</th>\n      <th>Disease_Level_1</th>\n      <th>Health_Status</th>\n      <th>Disease_Level_2</th>\n      <th>Disease_Level_3</th>\n      <th>Disease_Subgroup</th>\n      <th>IBD_Subgroup</th>\n      <th>...</th>\n      <th>GeoLoc_Region</th>\n      <th>GeoLoc_City</th>\n      <th>Host_Sex</th>\n      <th>Host_Age_Category</th>\n      <th>Host_Age_Decade</th>\n      <th>Host_Age</th>\n      <th>Age_Detail_Level</th>\n      <th>observed_features_non_filtered</th>\n      <th>observed_features_filt_nonresident</th>\n      <th>observed_features_nonresident</th>\n    </tr>\n  </thead>\n  <tbody>\n    <tr>\n      <th>0</th>\n      <td>S675</td>\n      <td>crohns-paper_37122605</td>\n      <td>ITS1</td>\n      <td>Case</td>\n      <td>Gastrointestinal</td>\n      <td>Inflammatory bowel disease (IBD)</td>\n      <td>IBD</td>\n      <td>active_new_CD</td>\n      <td>active, newly diagnosed Crohn's disease (CD)</td>\n      <td>Crohn's disease (CD)</td>\n      <td>...</td>\n      <td>Lesser Poland Voivodeship (Małopolskie)</td>\n      <td>Krakow</td>\n      <td>Unknown</td>\n      <td>Unknown</td>\n      <td>Unknown</td>\n      <td>Unknown</td>\n      <td>L2</td>\n      <td>31.0</td>\n      <td>31.0</td>\n      <td>0.0</td>\n    </tr>\n    <tr>\n      <th>1</th>\n      <td>S683</td>\n      <td>crohns-paper_37122605</td>\n      <td>ITS1</td>\n      <td>Case</td>\n      <td>Gastrointestinal</td>\n      <td>Inflammatory bowel disease (IBD)</td>\n      <td>IBD</td>\n      <td>active_new_CD</td>\n      <td>active, newly diagnosed Crohn's disease (CD)</td>\n      <td>Crohn's disease (CD)</td>\n      <td>...</td>\n      <td>Lesser Poland Voivodeship (Małopolskie)</td>\n      <td>Krakow</td>\n      <td>Unknown</td>\n      <td>Unknown</td>\n      <td>Unknown</td>\n      <td>Unknown</td>\n      <td>L2</td>\n      <td>9.0</td>\n      <td>8.0</td>\n      <td>0.0</td>\n    </tr>\n    <tr>\n      <th>2</th>\n      <td>S691</td>\n      <td>crohns-paper_37122605</td>\n      <td>ITS1</td>\n      <td>Case</td>\n      <td>Gastrointestinal</td>\n      <td>Inflammatory bowel disease (IBD)</td>\n      <td>IBD</td>\n      <td>active_new_CD</td>\n      <td>active, newly diagnosed Crohn's disease (CD)</td>\n      <td>Crohn's disease (CD)</td>\n      <td>...</td>\n      <td>Lesser Poland Voivodeship (Małopolskie)</td>\n      <td>Krakow</td>\n      <td>Unknown</td>\n      <td>Unknown</td>\n      <td>Unknown</td>\n      <td>Unknown</td>\n      <td>L2</td>\n      <td>17.0</td>\n      <td>16.0</td>\n      <td>0.0</td>\n    </tr>\n    <tr>\n      <th>3</th>\n      <td>S699</td>\n      <td>crohns-paper_37122605</td>\n      <td>ITS1</td>\n      <td>Case</td>\n      <td>Gastrointestinal</td>\n      <td>Inflammatory bowel disease (IBD)</td>\n      <td>IBD</td>\n      <td>active_new_CD</td>\n      <td>active, newly diagnosed Crohn's disease (CD)</td>\n      <td>Crohn's disease (CD)</td>\n      <td>...</td>\n      <td>Lesser Poland Voivodeship (Małopolskie)</td>\n      <td>Krakow</td>\n      <td>Unknown</td>\n      <td>Unknown</td>\n      <td>Unknown</td>\n      <td>Unknown</td>\n      <td>L2</td>\n      <td>36.0</td>\n      <td>33.0</td>\n      <td>0.0</td>\n    </tr>\n    <tr>\n      <th>4</th>\n      <td>S707</td>\n      <td>crohns-paper_37122605</td>\n      <td>ITS1</td>\n      <td>Case</td>\n      <td>Gastrointestinal</td>\n      <td>Inflammatory bowel disease (IBD)</td>\n      <td>IBD</td>\n      <td>CD</td>\n      <td>clinical remission Crohn's disease (CD)</td>\n      <td>Crohn's disease (CD)</td>\n      <td>...</td>\n      <td>Lesser Poland Voivodeship (Małopolskie)</td>\n      <td>Krakow</td>\n      <td>Unknown</td>\n      <td>Unknown</td>\n      <td>Unknown</td>\n      <td>Unknown</td>\n      <td>L2</td>\n      <td>8.0</td>\n      <td>8.0</td>\n      <td>0.0</td>\n    </tr>\n    <tr>\n      <th>...</th>\n      <td>...</td>\n      <td>...</td>\n      <td>...</td>\n      <td>...</td>\n      <td>...</td>\n      <td>...</td>\n      <td>...</td>\n      <td>...</td>\n      <td>...</td>\n      <td>...</td>\n      <td>...</td>\n      <td>...</td>\n      <td>...</td>\n      <td>...</td>\n      <td>...</td>\n      <td>...</td>\n      <td>...</td>\n      <td>...</td>\n      <td>...</td>\n      <td>...</td>\n      <td>...</td>\n    </tr>\n    <tr>\n      <th>1894</th>\n      <td>SRR18268067</td>\n      <td>PRJNA813503</td>\n      <td>ITS1</td>\n      <td>Case</td>\n      <td>Metabolic</td>\n      <td>Gestational diabetes mellitus (GDM)</td>\n      <td>GDM</td>\n      <td>NaN</td>\n      <td>NaN</td>\n      <td>NaN</td>\n      <td>...</td>\n      <td>Beijing</td>\n      <td>Beijing</td>\n      <td>female</td>\n      <td>Unknown</td>\n      <td>Unknown</td>\n      <td>Unknown</td>\n      <td>L1</td>\n      <td>31.0</td>\n      <td>28.0</td>\n      <td>0.0</td>\n    </tr>\n    <tr>\n      <th>1895</th>\n      <td>SRR18268068</td>\n      <td>PRJNA813503</td>\n      <td>ITS1</td>\n      <td>Case</td>\n      <td>Metabolic</td>\n      <td>Gestational diabetes mellitus (GDM)</td>\n      <td>GDM</td>\n      <td>NaN</td>\n      <td>NaN</td>\n      <td>NaN</td>\n      <td>...</td>\n      <td>Beijing</td>\n      <td>Beijing</td>\n      <td>female</td>\n      <td>Unknown</td>\n      <td>Unknown</td>\n      <td>Unknown</td>\n      <td>L1</td>\n      <td>55.0</td>\n      <td>51.0</td>\n      <td>0.0</td>\n    </tr>\n    <tr>\n      <th>1896</th>\n      <td>SRR18268069</td>\n      <td>PRJNA813503</td>\n      <td>ITS1</td>\n      <td>Case</td>\n      <td>Metabolic</td>\n      <td>Gestational diabetes mellitus (GDM)</td>\n      <td>GDM</td>\n      <td>NaN</td>\n      <td>NaN</td>\n      <td>NaN</td>\n      <td>...</td>\n      <td>Beijing</td>\n      <td>Beijing</td>\n      <td>female</td>\n      <td>Unknown</td>\n      <td>Unknown</td>\n      <td>Unknown</td>\n      <td>L1</td>\n      <td>144.0</td>\n      <td>139.0</td>\n      <td>0.0</td>\n    </tr>\n    <tr>\n      <th>1897</th>\n      <td>SRR18268070</td>\n      <td>PRJNA813503</td>\n      <td>ITS1</td>\n      <td>Case</td>\n      <td>Metabolic</td>\n      <td>Gestational diabetes mellitus (GDM)</td>\n      <td>GDM</td>\n      <td>NaN</td>\n      <td>NaN</td>\n      <td>NaN</td>\n      <td>...</td>\n      <td>Beijing</td>\n      <td>Beijing</td>\n      <td>female</td>\n      <td>Unknown</td>\n      <td>Unknown</td>\n      <td>Unknown</td>\n      <td>L1</td>\n      <td>19.0</td>\n      <td>17.0</td>\n      <td>0.0</td>\n    </tr>\n    <tr>\n      <th>1898</th>\n      <td>SRR18268071</td>\n      <td>PRJNA813503</td>\n      <td>ITS1</td>\n      <td>Case</td>\n      <td>Metabolic</td>\n      <td>Gestational diabetes mellitus (GDM)</td>\n      <td>GDM</td>\n      <td>NaN</td>\n      <td>NaN</td>\n      <td>NaN</td>\n      <td>...</td>\n      <td>Beijing</td>\n      <td>Beijing</td>\n      <td>female</td>\n      <td>Unknown</td>\n      <td>Unknown</td>\n      <td>Unknown</td>\n      <td>L1</td>\n      <td>65.0</td>\n      <td>62.0</td>\n      <td>0.0</td>\n    </tr>\n  </tbody>\n</table>\n<p>1899 rows × 22 columns</p>\n</div>"
     },
     "execution_count": 21,
     "metadata": {},
     "output_type": "execute_result"
    }
   ],
   "source": [
    "merged_df_observed_features_q2_boots_rar3000_n50"
   ],
   "metadata": {
    "collapsed": false,
    "ExecuteTime": {
     "end_time": "2024-09-05T08:35:42.300951Z",
     "start_time": "2024-09-05T08:35:42.275053Z"
    }
   },
   "id": "ffa7c64a95510220",
   "execution_count": 21
  },
  {
   "cell_type": "markdown",
   "source": [
    "### Shannon index: non-filtered, filt-nonresident, and only the non-resident (q2-boots-rar3000-n50)"
   ],
   "metadata": {
    "collapsed": false
   },
   "id": "552c34ed181799d4"
  },
  {
   "cell_type": "code",
   "outputs": [],
   "source": [
    "df_non_filtered_shannon_q2_boots_rar3000_n50 = pd.read_csv(f'{data_dir}/src-analysis/diversity-analysis/alpha-diversity/q2-boots/n50/alpha-diversity-results-non-filtered/shannon-group-significance.tsv', sep='\\t')\n",
    "\n",
    "df_filt_nonresident_shannon_q2_boots_rar3000_n50 = pd.read_csv(f'{data_dir}/src-analysis/diversity-analysis/alpha-diversity/q2-boots/n50/alpha-diversity-results-filt-nonresident/shannon-group-significance.tsv', sep='\\t')\n",
    "\n",
    "df_nonresident_shannon_q2_boots_rar3000_n50 = pd.read_csv(f'{data_dir}/src-analysis/diversity-analysis/alpha-diversity/q2-boots/n50/alpha-diversity-results-nonresident/shannon-group-significance.tsv', sep='\\t')"
   ],
   "metadata": {
    "collapsed": false,
    "ExecuteTime": {
     "end_time": "2024-09-05T08:38:42.934164Z",
     "start_time": "2024-09-05T08:38:42.908812Z"
    }
   },
   "id": "918e7afbd3ac71a2",
   "execution_count": 22
  },
  {
   "cell_type": "code",
   "outputs": [
    {
     "data": {
      "text/plain": "(1899, 20)"
     },
     "execution_count": 23,
     "metadata": {},
     "output_type": "execute_result"
    }
   ],
   "source": [
    "df_non_filtered_shannon_q2_boots_rar3000_n50.shape"
   ],
   "metadata": {
    "collapsed": false,
    "ExecuteTime": {
     "end_time": "2024-09-05T08:38:44.858092Z",
     "start_time": "2024-09-05T08:38:44.852213Z"
    }
   },
   "id": "95a32cfc9768f936",
   "execution_count": 23
  },
  {
   "cell_type": "code",
   "outputs": [
    {
     "data": {
      "text/plain": "(1856, 20)"
     },
     "execution_count": 24,
     "metadata": {},
     "output_type": "execute_result"
    }
   ],
   "source": [
    "df_filt_nonresident_shannon_q2_boots_rar3000_n50.shape"
   ],
   "metadata": {
    "collapsed": false,
    "ExecuteTime": {
     "end_time": "2024-09-05T08:38:52.472319Z",
     "start_time": "2024-09-05T08:38:52.466275Z"
    }
   },
   "id": "9e12c063fb87a84b",
   "execution_count": 24
  },
  {
   "cell_type": "code",
   "outputs": [
    {
     "data": {
      "text/plain": "(231, 20)"
     },
     "execution_count": 25,
     "metadata": {},
     "output_type": "execute_result"
    }
   ],
   "source": [
    "df_nonresident_shannon_q2_boots_rar3000_n50.shape"
   ],
   "metadata": {
    "collapsed": false,
    "ExecuteTime": {
     "end_time": "2024-09-05T08:38:53.618449Z",
     "start_time": "2024-09-05T08:38:53.612089Z"
    }
   },
   "id": "fc1c0fe65af98ee6",
   "execution_count": 25
  },
  {
   "cell_type": "code",
   "outputs": [],
   "source": [
    "# Rename the shannon entropy column to be specific\n",
    "df_non_filtered_shannon_q2_boots_rar3000_n50 = df_non_filtered_shannon_q2_boots_rar3000_n50.rename(columns={'shannon_entropy': 'shannon_entropy_non_filtered'})\n",
    "df_filt_nonresident_shannon_q2_boots_rar3000_n50 = df_filt_nonresident_shannon_q2_boots_rar3000_n50.rename(columns={'shannon_entropy': 'shannon_entropy_filt_nonresident'})\n",
    "df_nonresident_shannon_q2_boots_rar3000_n50 = df_nonresident_shannon_q2_boots_rar3000_n50.rename(columns={'shannon_entropy': 'shannon_entropy_nonresident'})\n",
    "\n",
    "# Perform a left merge to keep all rows from the \"non_filtered\" dataset\n",
    "merged_df_transition_shannon_q2_boots_rar3000_n50 = pd.merge(df_non_filtered_shannon_q2_boots_rar3000_n50, df_filt_nonresident_shannon_q2_boots_rar3000_n50, on=['id', 'Project_ID', 'Sequencing_Region', 'Case_Control', 'Disease_Level_1', 'Health_Status', 'Disease_Level_2', 'Disease_Level_3', 'Disease_Subgroup', 'IBD_Subgroup', 'GeoLoc_Continent', 'GeoLoc_Country', 'GeoLoc_Region', 'GeoLoc_City', 'Host_Sex', 'Host_Age_Category', 'Host_Age_Decade', 'Host_Age', 'Age_Detail_Level'], how='left')\n",
    "merged_df_shannon_q2_boots_rar3000_n50 = pd.merge(merged_df_transition_shannon_q2_boots_rar3000_n50, df_nonresident_shannon_q2_boots_rar3000_n50, on=['id', 'Project_ID', 'Sequencing_Region', 'Case_Control', 'Disease_Level_1', 'Health_Status', 'Disease_Level_2', 'Disease_Level_3', 'Disease_Subgroup', 'IBD_Subgroup', 'GeoLoc_Continent', 'GeoLoc_Country', 'GeoLoc_Region', 'GeoLoc_City', 'Host_Sex', 'Host_Age_Category', 'Host_Age_Decade', 'Host_Age', 'Age_Detail_Level'], how='left')\n",
    "\n",
    "# Fill missing values in the sample_count_after column with 0\n",
    "merged_df_shannon_q2_boots_rar3000_n50['shannon_entropy_filt_nonresident'] = merged_df_shannon_q2_boots_rar3000_n50['shannon_entropy_filt_nonresident'].fillna(0)\n",
    "merged_df_shannon_q2_boots_rar3000_n50['shannon_entropy_nonresident'] = merged_df_shannon_q2_boots_rar3000_n50['shannon_entropy_nonresident'].fillna(0)"
   ],
   "metadata": {
    "collapsed": false,
    "ExecuteTime": {
     "end_time": "2024-09-05T08:40:24.572722Z",
     "start_time": "2024-09-05T08:40:24.539702Z"
    }
   },
   "id": "72513494437b1f50",
   "execution_count": 26
  },
  {
   "cell_type": "code",
   "outputs": [
    {
     "data": {
      "text/plain": "               id             Project_ID Sequencing_Region Case_Control  \\\n0            S675  crohns-paper_37122605              ITS1         Case   \n1            S683  crohns-paper_37122605              ITS1         Case   \n2            S691  crohns-paper_37122605              ITS1         Case   \n3            S699  crohns-paper_37122605              ITS1         Case   \n4            S707  crohns-paper_37122605              ITS1         Case   \n...           ...                    ...               ...          ...   \n1894  SRR18268067            PRJNA813503              ITS1         Case   \n1895  SRR18268068            PRJNA813503              ITS1         Case   \n1896  SRR18268069            PRJNA813503              ITS1         Case   \n1897  SRR18268070            PRJNA813503              ITS1         Case   \n1898  SRR18268071            PRJNA813503              ITS1         Case   \n\n       Disease_Level_1                        Health_Status Disease_Level_2  \\\n0     Gastrointestinal     Inflammatory bowel disease (IBD)             IBD   \n1     Gastrointestinal     Inflammatory bowel disease (IBD)             IBD   \n2     Gastrointestinal     Inflammatory bowel disease (IBD)             IBD   \n3     Gastrointestinal     Inflammatory bowel disease (IBD)             IBD   \n4     Gastrointestinal     Inflammatory bowel disease (IBD)             IBD   \n...                ...                                  ...             ...   \n1894         Metabolic  Gestational diabetes mellitus (GDM)             GDM   \n1895         Metabolic  Gestational diabetes mellitus (GDM)             GDM   \n1896         Metabolic  Gestational diabetes mellitus (GDM)             GDM   \n1897         Metabolic  Gestational diabetes mellitus (GDM)             GDM   \n1898         Metabolic  Gestational diabetes mellitus (GDM)             GDM   \n\n     Disease_Level_3                              Disease_Subgroup  \\\n0      active_new_CD  active, newly diagnosed Crohn's disease (CD)   \n1      active_new_CD  active, newly diagnosed Crohn's disease (CD)   \n2      active_new_CD  active, newly diagnosed Crohn's disease (CD)   \n3      active_new_CD  active, newly diagnosed Crohn's disease (CD)   \n4                 CD       clinical remission Crohn's disease (CD)   \n...              ...                                           ...   \n1894             NaN                                           NaN   \n1895             NaN                                           NaN   \n1896             NaN                                           NaN   \n1897             NaN                                           NaN   \n1898             NaN                                           NaN   \n\n              IBD_Subgroup  ...                            GeoLoc_Region  \\\n0     Crohn's disease (CD)  ...  Lesser Poland Voivodeship (Małopolskie)   \n1     Crohn's disease (CD)  ...  Lesser Poland Voivodeship (Małopolskie)   \n2     Crohn's disease (CD)  ...  Lesser Poland Voivodeship (Małopolskie)   \n3     Crohn's disease (CD)  ...  Lesser Poland Voivodeship (Małopolskie)   \n4     Crohn's disease (CD)  ...  Lesser Poland Voivodeship (Małopolskie)   \n...                    ...  ...                                      ...   \n1894                   NaN  ...                                  Beijing   \n1895                   NaN  ...                                  Beijing   \n1896                   NaN  ...                                  Beijing   \n1897                   NaN  ...                                  Beijing   \n1898                   NaN  ...                                  Beijing   \n\n     GeoLoc_City Host_Sex Host_Age_Category Host_Age_Decade Host_Age  \\\n0         Krakow  Unknown           Unknown         Unknown  Unknown   \n1         Krakow  Unknown           Unknown         Unknown  Unknown   \n2         Krakow  Unknown           Unknown         Unknown  Unknown   \n3         Krakow  Unknown           Unknown         Unknown  Unknown   \n4         Krakow  Unknown           Unknown         Unknown  Unknown   \n...          ...      ...               ...             ...      ...   \n1894     Beijing   female           Unknown         Unknown  Unknown   \n1895     Beijing   female           Unknown         Unknown  Unknown   \n1896     Beijing   female           Unknown         Unknown  Unknown   \n1897     Beijing   female           Unknown         Unknown  Unknown   \n1898     Beijing   female           Unknown         Unknown  Unknown   \n\n     Age_Detail_Level shannon_entropy_non_filtered  \\\n0                  L2                     3.654264   \n1                  L2                     1.726610   \n2                  L2                     0.249243   \n3                  L2                     0.906588   \n4                  L2                     0.911405   \n...               ...                          ...   \n1894               L1                     2.643385   \n1895               L1                     2.802057   \n1896               L1                     4.780039   \n1897               L1                     0.940321   \n1898               L1                     2.373771   \n\n     shannon_entropy_filt_nonresident  shannon_entropy_nonresident  \n0                            3.576838                          0.0  \n1                            1.510861                          0.0  \n2                            0.240590                          0.0  \n3                            0.858927                          0.0  \n4                            0.907682                          0.0  \n...                               ...                          ...  \n1894                         2.523706                          0.0  \n1895                         2.752680                          0.0  \n1896                         4.739800                          0.0  \n1897                         0.845885                          0.0  \n1898                         2.314868                          0.0  \n\n[1899 rows x 22 columns]",
      "text/html": "<div>\n<style scoped>\n    .dataframe tbody tr th:only-of-type {\n        vertical-align: middle;\n    }\n\n    .dataframe tbody tr th {\n        vertical-align: top;\n    }\n\n    .dataframe thead th {\n        text-align: right;\n    }\n</style>\n<table border=\"1\" class=\"dataframe\">\n  <thead>\n    <tr style=\"text-align: right;\">\n      <th></th>\n      <th>id</th>\n      <th>Project_ID</th>\n      <th>Sequencing_Region</th>\n      <th>Case_Control</th>\n      <th>Disease_Level_1</th>\n      <th>Health_Status</th>\n      <th>Disease_Level_2</th>\n      <th>Disease_Level_3</th>\n      <th>Disease_Subgroup</th>\n      <th>IBD_Subgroup</th>\n      <th>...</th>\n      <th>GeoLoc_Region</th>\n      <th>GeoLoc_City</th>\n      <th>Host_Sex</th>\n      <th>Host_Age_Category</th>\n      <th>Host_Age_Decade</th>\n      <th>Host_Age</th>\n      <th>Age_Detail_Level</th>\n      <th>shannon_entropy_non_filtered</th>\n      <th>shannon_entropy_filt_nonresident</th>\n      <th>shannon_entropy_nonresident</th>\n    </tr>\n  </thead>\n  <tbody>\n    <tr>\n      <th>0</th>\n      <td>S675</td>\n      <td>crohns-paper_37122605</td>\n      <td>ITS1</td>\n      <td>Case</td>\n      <td>Gastrointestinal</td>\n      <td>Inflammatory bowel disease (IBD)</td>\n      <td>IBD</td>\n      <td>active_new_CD</td>\n      <td>active, newly diagnosed Crohn's disease (CD)</td>\n      <td>Crohn's disease (CD)</td>\n      <td>...</td>\n      <td>Lesser Poland Voivodeship (Małopolskie)</td>\n      <td>Krakow</td>\n      <td>Unknown</td>\n      <td>Unknown</td>\n      <td>Unknown</td>\n      <td>Unknown</td>\n      <td>L2</td>\n      <td>3.654264</td>\n      <td>3.576838</td>\n      <td>0.0</td>\n    </tr>\n    <tr>\n      <th>1</th>\n      <td>S683</td>\n      <td>crohns-paper_37122605</td>\n      <td>ITS1</td>\n      <td>Case</td>\n      <td>Gastrointestinal</td>\n      <td>Inflammatory bowel disease (IBD)</td>\n      <td>IBD</td>\n      <td>active_new_CD</td>\n      <td>active, newly diagnosed Crohn's disease (CD)</td>\n      <td>Crohn's disease (CD)</td>\n      <td>...</td>\n      <td>Lesser Poland Voivodeship (Małopolskie)</td>\n      <td>Krakow</td>\n      <td>Unknown</td>\n      <td>Unknown</td>\n      <td>Unknown</td>\n      <td>Unknown</td>\n      <td>L2</td>\n      <td>1.726610</td>\n      <td>1.510861</td>\n      <td>0.0</td>\n    </tr>\n    <tr>\n      <th>2</th>\n      <td>S691</td>\n      <td>crohns-paper_37122605</td>\n      <td>ITS1</td>\n      <td>Case</td>\n      <td>Gastrointestinal</td>\n      <td>Inflammatory bowel disease (IBD)</td>\n      <td>IBD</td>\n      <td>active_new_CD</td>\n      <td>active, newly diagnosed Crohn's disease (CD)</td>\n      <td>Crohn's disease (CD)</td>\n      <td>...</td>\n      <td>Lesser Poland Voivodeship (Małopolskie)</td>\n      <td>Krakow</td>\n      <td>Unknown</td>\n      <td>Unknown</td>\n      <td>Unknown</td>\n      <td>Unknown</td>\n      <td>L2</td>\n      <td>0.249243</td>\n      <td>0.240590</td>\n      <td>0.0</td>\n    </tr>\n    <tr>\n      <th>3</th>\n      <td>S699</td>\n      <td>crohns-paper_37122605</td>\n      <td>ITS1</td>\n      <td>Case</td>\n      <td>Gastrointestinal</td>\n      <td>Inflammatory bowel disease (IBD)</td>\n      <td>IBD</td>\n      <td>active_new_CD</td>\n      <td>active, newly diagnosed Crohn's disease (CD)</td>\n      <td>Crohn's disease (CD)</td>\n      <td>...</td>\n      <td>Lesser Poland Voivodeship (Małopolskie)</td>\n      <td>Krakow</td>\n      <td>Unknown</td>\n      <td>Unknown</td>\n      <td>Unknown</td>\n      <td>Unknown</td>\n      <td>L2</td>\n      <td>0.906588</td>\n      <td>0.858927</td>\n      <td>0.0</td>\n    </tr>\n    <tr>\n      <th>4</th>\n      <td>S707</td>\n      <td>crohns-paper_37122605</td>\n      <td>ITS1</td>\n      <td>Case</td>\n      <td>Gastrointestinal</td>\n      <td>Inflammatory bowel disease (IBD)</td>\n      <td>IBD</td>\n      <td>CD</td>\n      <td>clinical remission Crohn's disease (CD)</td>\n      <td>Crohn's disease (CD)</td>\n      <td>...</td>\n      <td>Lesser Poland Voivodeship (Małopolskie)</td>\n      <td>Krakow</td>\n      <td>Unknown</td>\n      <td>Unknown</td>\n      <td>Unknown</td>\n      <td>Unknown</td>\n      <td>L2</td>\n      <td>0.911405</td>\n      <td>0.907682</td>\n      <td>0.0</td>\n    </tr>\n    <tr>\n      <th>...</th>\n      <td>...</td>\n      <td>...</td>\n      <td>...</td>\n      <td>...</td>\n      <td>...</td>\n      <td>...</td>\n      <td>...</td>\n      <td>...</td>\n      <td>...</td>\n      <td>...</td>\n      <td>...</td>\n      <td>...</td>\n      <td>...</td>\n      <td>...</td>\n      <td>...</td>\n      <td>...</td>\n      <td>...</td>\n      <td>...</td>\n      <td>...</td>\n      <td>...</td>\n      <td>...</td>\n    </tr>\n    <tr>\n      <th>1894</th>\n      <td>SRR18268067</td>\n      <td>PRJNA813503</td>\n      <td>ITS1</td>\n      <td>Case</td>\n      <td>Metabolic</td>\n      <td>Gestational diabetes mellitus (GDM)</td>\n      <td>GDM</td>\n      <td>NaN</td>\n      <td>NaN</td>\n      <td>NaN</td>\n      <td>...</td>\n      <td>Beijing</td>\n      <td>Beijing</td>\n      <td>female</td>\n      <td>Unknown</td>\n      <td>Unknown</td>\n      <td>Unknown</td>\n      <td>L1</td>\n      <td>2.643385</td>\n      <td>2.523706</td>\n      <td>0.0</td>\n    </tr>\n    <tr>\n      <th>1895</th>\n      <td>SRR18268068</td>\n      <td>PRJNA813503</td>\n      <td>ITS1</td>\n      <td>Case</td>\n      <td>Metabolic</td>\n      <td>Gestational diabetes mellitus (GDM)</td>\n      <td>GDM</td>\n      <td>NaN</td>\n      <td>NaN</td>\n      <td>NaN</td>\n      <td>...</td>\n      <td>Beijing</td>\n      <td>Beijing</td>\n      <td>female</td>\n      <td>Unknown</td>\n      <td>Unknown</td>\n      <td>Unknown</td>\n      <td>L1</td>\n      <td>2.802057</td>\n      <td>2.752680</td>\n      <td>0.0</td>\n    </tr>\n    <tr>\n      <th>1896</th>\n      <td>SRR18268069</td>\n      <td>PRJNA813503</td>\n      <td>ITS1</td>\n      <td>Case</td>\n      <td>Metabolic</td>\n      <td>Gestational diabetes mellitus (GDM)</td>\n      <td>GDM</td>\n      <td>NaN</td>\n      <td>NaN</td>\n      <td>NaN</td>\n      <td>...</td>\n      <td>Beijing</td>\n      <td>Beijing</td>\n      <td>female</td>\n      <td>Unknown</td>\n      <td>Unknown</td>\n      <td>Unknown</td>\n      <td>L1</td>\n      <td>4.780039</td>\n      <td>4.739800</td>\n      <td>0.0</td>\n    </tr>\n    <tr>\n      <th>1897</th>\n      <td>SRR18268070</td>\n      <td>PRJNA813503</td>\n      <td>ITS1</td>\n      <td>Case</td>\n      <td>Metabolic</td>\n      <td>Gestational diabetes mellitus (GDM)</td>\n      <td>GDM</td>\n      <td>NaN</td>\n      <td>NaN</td>\n      <td>NaN</td>\n      <td>...</td>\n      <td>Beijing</td>\n      <td>Beijing</td>\n      <td>female</td>\n      <td>Unknown</td>\n      <td>Unknown</td>\n      <td>Unknown</td>\n      <td>L1</td>\n      <td>0.940321</td>\n      <td>0.845885</td>\n      <td>0.0</td>\n    </tr>\n    <tr>\n      <th>1898</th>\n      <td>SRR18268071</td>\n      <td>PRJNA813503</td>\n      <td>ITS1</td>\n      <td>Case</td>\n      <td>Metabolic</td>\n      <td>Gestational diabetes mellitus (GDM)</td>\n      <td>GDM</td>\n      <td>NaN</td>\n      <td>NaN</td>\n      <td>NaN</td>\n      <td>...</td>\n      <td>Beijing</td>\n      <td>Beijing</td>\n      <td>female</td>\n      <td>Unknown</td>\n      <td>Unknown</td>\n      <td>Unknown</td>\n      <td>L1</td>\n      <td>2.373771</td>\n      <td>2.314868</td>\n      <td>0.0</td>\n    </tr>\n  </tbody>\n</table>\n<p>1899 rows × 22 columns</p>\n</div>"
     },
     "execution_count": 27,
     "metadata": {},
     "output_type": "execute_result"
    }
   ],
   "source": [
    "merged_df_shannon_q2_boots_rar3000_n50"
   ],
   "metadata": {
    "collapsed": false,
    "ExecuteTime": {
     "end_time": "2024-09-05T08:40:27.153398Z",
     "start_time": "2024-09-05T08:40:27.129373Z"
    }
   },
   "id": "fe47180c30321f53",
   "execution_count": 27
  },
  {
   "cell_type": "code",
   "outputs": [],
   "source": [
    "merged_df_q2_boots_rar3000_n50 = pd.merge(merged_df_observed_features_q2_boots_rar3000_n50, merged_df_shannon_q2_boots_rar3000_n50, on=[*merged_df_observed_features_q2_boots_rar3000_n50.columns.intersection(merged_df_shannon_q2_boots_rar3000_n50.columns)], how='inner')"
   ],
   "metadata": {
    "collapsed": false,
    "ExecuteTime": {
     "end_time": "2024-09-05T08:41:57.004855Z",
     "start_time": "2024-09-05T08:41:56.986438Z"
    }
   },
   "id": "3950e7827e414c31",
   "execution_count": 28
  },
  {
   "cell_type": "code",
   "outputs": [
    {
     "data": {
      "text/plain": "               id             Project_ID Sequencing_Region Case_Control  \\\n0            S675  crohns-paper_37122605              ITS1         Case   \n1            S683  crohns-paper_37122605              ITS1         Case   \n2            S691  crohns-paper_37122605              ITS1         Case   \n3            S699  crohns-paper_37122605              ITS1         Case   \n4            S707  crohns-paper_37122605              ITS1         Case   \n...           ...                    ...               ...          ...   \n1894  SRR18268067            PRJNA813503              ITS1         Case   \n1895  SRR18268068            PRJNA813503              ITS1         Case   \n1896  SRR18268069            PRJNA813503              ITS1         Case   \n1897  SRR18268070            PRJNA813503              ITS1         Case   \n1898  SRR18268071            PRJNA813503              ITS1         Case   \n\n       Disease_Level_1                        Health_Status Disease_Level_2  \\\n0     Gastrointestinal     Inflammatory bowel disease (IBD)             IBD   \n1     Gastrointestinal     Inflammatory bowel disease (IBD)             IBD   \n2     Gastrointestinal     Inflammatory bowel disease (IBD)             IBD   \n3     Gastrointestinal     Inflammatory bowel disease (IBD)             IBD   \n4     Gastrointestinal     Inflammatory bowel disease (IBD)             IBD   \n...                ...                                  ...             ...   \n1894         Metabolic  Gestational diabetes mellitus (GDM)             GDM   \n1895         Metabolic  Gestational diabetes mellitus (GDM)             GDM   \n1896         Metabolic  Gestational diabetes mellitus (GDM)             GDM   \n1897         Metabolic  Gestational diabetes mellitus (GDM)             GDM   \n1898         Metabolic  Gestational diabetes mellitus (GDM)             GDM   \n\n     Disease_Level_3                              Disease_Subgroup  \\\n0      active_new_CD  active, newly diagnosed Crohn's disease (CD)   \n1      active_new_CD  active, newly diagnosed Crohn's disease (CD)   \n2      active_new_CD  active, newly diagnosed Crohn's disease (CD)   \n3      active_new_CD  active, newly diagnosed Crohn's disease (CD)   \n4                 CD       clinical remission Crohn's disease (CD)   \n...              ...                                           ...   \n1894             NaN                                           NaN   \n1895             NaN                                           NaN   \n1896             NaN                                           NaN   \n1897             NaN                                           NaN   \n1898             NaN                                           NaN   \n\n              IBD_Subgroup  ... Host_Age_Category Host_Age_Decade Host_Age  \\\n0     Crohn's disease (CD)  ...           Unknown         Unknown  Unknown   \n1     Crohn's disease (CD)  ...           Unknown         Unknown  Unknown   \n2     Crohn's disease (CD)  ...           Unknown         Unknown  Unknown   \n3     Crohn's disease (CD)  ...           Unknown         Unknown  Unknown   \n4     Crohn's disease (CD)  ...           Unknown         Unknown  Unknown   \n...                    ...  ...               ...             ...      ...   \n1894                   NaN  ...           Unknown         Unknown  Unknown   \n1895                   NaN  ...           Unknown         Unknown  Unknown   \n1896                   NaN  ...           Unknown         Unknown  Unknown   \n1897                   NaN  ...           Unknown         Unknown  Unknown   \n1898                   NaN  ...           Unknown         Unknown  Unknown   \n\n     Age_Detail_Level observed_features_non_filtered  \\\n0                  L2                           31.0   \n1                  L2                            9.0   \n2                  L2                           17.0   \n3                  L2                           36.0   \n4                  L2                            8.0   \n...               ...                            ...   \n1894               L1                           31.0   \n1895               L1                           55.0   \n1896               L1                          144.0   \n1897               L1                           19.0   \n1898               L1                           65.0   \n\n     observed_features_filt_nonresident observed_features_nonresident  \\\n0                                  31.0                           0.0   \n1                                   8.0                           0.0   \n2                                  16.0                           0.0   \n3                                  33.0                           0.0   \n4                                   8.0                           0.0   \n...                                 ...                           ...   \n1894                               28.0                           0.0   \n1895                               51.0                           0.0   \n1896                              139.0                           0.0   \n1897                               17.0                           0.0   \n1898                               62.0                           0.0   \n\n     shannon_entropy_non_filtered shannon_entropy_filt_nonresident  \\\n0                        3.654264                         3.576838   \n1                        1.726610                         1.510861   \n2                        0.249243                         0.240590   \n3                        0.906588                         0.858927   \n4                        0.911405                         0.907682   \n...                           ...                              ...   \n1894                     2.643385                         2.523706   \n1895                     2.802057                         2.752680   \n1896                     4.780039                         4.739800   \n1897                     0.940321                         0.845885   \n1898                     2.373771                         2.314868   \n\n      shannon_entropy_nonresident  \n0                             0.0  \n1                             0.0  \n2                             0.0  \n3                             0.0  \n4                             0.0  \n...                           ...  \n1894                          0.0  \n1895                          0.0  \n1896                          0.0  \n1897                          0.0  \n1898                          0.0  \n\n[1899 rows x 25 columns]",
      "text/html": "<div>\n<style scoped>\n    .dataframe tbody tr th:only-of-type {\n        vertical-align: middle;\n    }\n\n    .dataframe tbody tr th {\n        vertical-align: top;\n    }\n\n    .dataframe thead th {\n        text-align: right;\n    }\n</style>\n<table border=\"1\" class=\"dataframe\">\n  <thead>\n    <tr style=\"text-align: right;\">\n      <th></th>\n      <th>id</th>\n      <th>Project_ID</th>\n      <th>Sequencing_Region</th>\n      <th>Case_Control</th>\n      <th>Disease_Level_1</th>\n      <th>Health_Status</th>\n      <th>Disease_Level_2</th>\n      <th>Disease_Level_3</th>\n      <th>Disease_Subgroup</th>\n      <th>IBD_Subgroup</th>\n      <th>...</th>\n      <th>Host_Age_Category</th>\n      <th>Host_Age_Decade</th>\n      <th>Host_Age</th>\n      <th>Age_Detail_Level</th>\n      <th>observed_features_non_filtered</th>\n      <th>observed_features_filt_nonresident</th>\n      <th>observed_features_nonresident</th>\n      <th>shannon_entropy_non_filtered</th>\n      <th>shannon_entropy_filt_nonresident</th>\n      <th>shannon_entropy_nonresident</th>\n    </tr>\n  </thead>\n  <tbody>\n    <tr>\n      <th>0</th>\n      <td>S675</td>\n      <td>crohns-paper_37122605</td>\n      <td>ITS1</td>\n      <td>Case</td>\n      <td>Gastrointestinal</td>\n      <td>Inflammatory bowel disease (IBD)</td>\n      <td>IBD</td>\n      <td>active_new_CD</td>\n      <td>active, newly diagnosed Crohn's disease (CD)</td>\n      <td>Crohn's disease (CD)</td>\n      <td>...</td>\n      <td>Unknown</td>\n      <td>Unknown</td>\n      <td>Unknown</td>\n      <td>L2</td>\n      <td>31.0</td>\n      <td>31.0</td>\n      <td>0.0</td>\n      <td>3.654264</td>\n      <td>3.576838</td>\n      <td>0.0</td>\n    </tr>\n    <tr>\n      <th>1</th>\n      <td>S683</td>\n      <td>crohns-paper_37122605</td>\n      <td>ITS1</td>\n      <td>Case</td>\n      <td>Gastrointestinal</td>\n      <td>Inflammatory bowel disease (IBD)</td>\n      <td>IBD</td>\n      <td>active_new_CD</td>\n      <td>active, newly diagnosed Crohn's disease (CD)</td>\n      <td>Crohn's disease (CD)</td>\n      <td>...</td>\n      <td>Unknown</td>\n      <td>Unknown</td>\n      <td>Unknown</td>\n      <td>L2</td>\n      <td>9.0</td>\n      <td>8.0</td>\n      <td>0.0</td>\n      <td>1.726610</td>\n      <td>1.510861</td>\n      <td>0.0</td>\n    </tr>\n    <tr>\n      <th>2</th>\n      <td>S691</td>\n      <td>crohns-paper_37122605</td>\n      <td>ITS1</td>\n      <td>Case</td>\n      <td>Gastrointestinal</td>\n      <td>Inflammatory bowel disease (IBD)</td>\n      <td>IBD</td>\n      <td>active_new_CD</td>\n      <td>active, newly diagnosed Crohn's disease (CD)</td>\n      <td>Crohn's disease (CD)</td>\n      <td>...</td>\n      <td>Unknown</td>\n      <td>Unknown</td>\n      <td>Unknown</td>\n      <td>L2</td>\n      <td>17.0</td>\n      <td>16.0</td>\n      <td>0.0</td>\n      <td>0.249243</td>\n      <td>0.240590</td>\n      <td>0.0</td>\n    </tr>\n    <tr>\n      <th>3</th>\n      <td>S699</td>\n      <td>crohns-paper_37122605</td>\n      <td>ITS1</td>\n      <td>Case</td>\n      <td>Gastrointestinal</td>\n      <td>Inflammatory bowel disease (IBD)</td>\n      <td>IBD</td>\n      <td>active_new_CD</td>\n      <td>active, newly diagnosed Crohn's disease (CD)</td>\n      <td>Crohn's disease (CD)</td>\n      <td>...</td>\n      <td>Unknown</td>\n      <td>Unknown</td>\n      <td>Unknown</td>\n      <td>L2</td>\n      <td>36.0</td>\n      <td>33.0</td>\n      <td>0.0</td>\n      <td>0.906588</td>\n      <td>0.858927</td>\n      <td>0.0</td>\n    </tr>\n    <tr>\n      <th>4</th>\n      <td>S707</td>\n      <td>crohns-paper_37122605</td>\n      <td>ITS1</td>\n      <td>Case</td>\n      <td>Gastrointestinal</td>\n      <td>Inflammatory bowel disease (IBD)</td>\n      <td>IBD</td>\n      <td>CD</td>\n      <td>clinical remission Crohn's disease (CD)</td>\n      <td>Crohn's disease (CD)</td>\n      <td>...</td>\n      <td>Unknown</td>\n      <td>Unknown</td>\n      <td>Unknown</td>\n      <td>L2</td>\n      <td>8.0</td>\n      <td>8.0</td>\n      <td>0.0</td>\n      <td>0.911405</td>\n      <td>0.907682</td>\n      <td>0.0</td>\n    </tr>\n    <tr>\n      <th>...</th>\n      <td>...</td>\n      <td>...</td>\n      <td>...</td>\n      <td>...</td>\n      <td>...</td>\n      <td>...</td>\n      <td>...</td>\n      <td>...</td>\n      <td>...</td>\n      <td>...</td>\n      <td>...</td>\n      <td>...</td>\n      <td>...</td>\n      <td>...</td>\n      <td>...</td>\n      <td>...</td>\n      <td>...</td>\n      <td>...</td>\n      <td>...</td>\n      <td>...</td>\n      <td>...</td>\n    </tr>\n    <tr>\n      <th>1894</th>\n      <td>SRR18268067</td>\n      <td>PRJNA813503</td>\n      <td>ITS1</td>\n      <td>Case</td>\n      <td>Metabolic</td>\n      <td>Gestational diabetes mellitus (GDM)</td>\n      <td>GDM</td>\n      <td>NaN</td>\n      <td>NaN</td>\n      <td>NaN</td>\n      <td>...</td>\n      <td>Unknown</td>\n      <td>Unknown</td>\n      <td>Unknown</td>\n      <td>L1</td>\n      <td>31.0</td>\n      <td>28.0</td>\n      <td>0.0</td>\n      <td>2.643385</td>\n      <td>2.523706</td>\n      <td>0.0</td>\n    </tr>\n    <tr>\n      <th>1895</th>\n      <td>SRR18268068</td>\n      <td>PRJNA813503</td>\n      <td>ITS1</td>\n      <td>Case</td>\n      <td>Metabolic</td>\n      <td>Gestational diabetes mellitus (GDM)</td>\n      <td>GDM</td>\n      <td>NaN</td>\n      <td>NaN</td>\n      <td>NaN</td>\n      <td>...</td>\n      <td>Unknown</td>\n      <td>Unknown</td>\n      <td>Unknown</td>\n      <td>L1</td>\n      <td>55.0</td>\n      <td>51.0</td>\n      <td>0.0</td>\n      <td>2.802057</td>\n      <td>2.752680</td>\n      <td>0.0</td>\n    </tr>\n    <tr>\n      <th>1896</th>\n      <td>SRR18268069</td>\n      <td>PRJNA813503</td>\n      <td>ITS1</td>\n      <td>Case</td>\n      <td>Metabolic</td>\n      <td>Gestational diabetes mellitus (GDM)</td>\n      <td>GDM</td>\n      <td>NaN</td>\n      <td>NaN</td>\n      <td>NaN</td>\n      <td>...</td>\n      <td>Unknown</td>\n      <td>Unknown</td>\n      <td>Unknown</td>\n      <td>L1</td>\n      <td>144.0</td>\n      <td>139.0</td>\n      <td>0.0</td>\n      <td>4.780039</td>\n      <td>4.739800</td>\n      <td>0.0</td>\n    </tr>\n    <tr>\n      <th>1897</th>\n      <td>SRR18268070</td>\n      <td>PRJNA813503</td>\n      <td>ITS1</td>\n      <td>Case</td>\n      <td>Metabolic</td>\n      <td>Gestational diabetes mellitus (GDM)</td>\n      <td>GDM</td>\n      <td>NaN</td>\n      <td>NaN</td>\n      <td>NaN</td>\n      <td>...</td>\n      <td>Unknown</td>\n      <td>Unknown</td>\n      <td>Unknown</td>\n      <td>L1</td>\n      <td>19.0</td>\n      <td>17.0</td>\n      <td>0.0</td>\n      <td>0.940321</td>\n      <td>0.845885</td>\n      <td>0.0</td>\n    </tr>\n    <tr>\n      <th>1898</th>\n      <td>SRR18268071</td>\n      <td>PRJNA813503</td>\n      <td>ITS1</td>\n      <td>Case</td>\n      <td>Metabolic</td>\n      <td>Gestational diabetes mellitus (GDM)</td>\n      <td>GDM</td>\n      <td>NaN</td>\n      <td>NaN</td>\n      <td>NaN</td>\n      <td>...</td>\n      <td>Unknown</td>\n      <td>Unknown</td>\n      <td>Unknown</td>\n      <td>L1</td>\n      <td>65.0</td>\n      <td>62.0</td>\n      <td>0.0</td>\n      <td>2.373771</td>\n      <td>2.314868</td>\n      <td>0.0</td>\n    </tr>\n  </tbody>\n</table>\n<p>1899 rows × 25 columns</p>\n</div>"
     },
     "execution_count": 29,
     "metadata": {},
     "output_type": "execute_result"
    }
   ],
   "source": [
    "merged_df_q2_boots_rar3000_n50"
   ],
   "metadata": {
    "collapsed": false,
    "ExecuteTime": {
     "end_time": "2024-09-05T08:41:59.199902Z",
     "start_time": "2024-09-05T08:41:59.172181Z"
    }
   },
   "id": "b0b1201f922c85ad",
   "execution_count": 29
  },
  {
   "cell_type": "code",
   "outputs": [
    {
     "data": {
      "text/plain": "24"
     },
     "execution_count": 31,
     "metadata": {},
     "output_type": "execute_result"
    }
   ],
   "source": [
    "merged_df_q2_boots_rar3000_n50['Project_ID'].nunique()"
   ],
   "metadata": {
    "collapsed": false,
    "ExecuteTime": {
     "end_time": "2024-09-05T08:59:59.785223Z",
     "start_time": "2024-09-05T08:59:59.779020Z"
    }
   },
   "id": "fa0725d0b4bde0f3",
   "execution_count": 31
  },
  {
   "cell_type": "code",
   "outputs": [],
   "source": [
    "# Exclude projects with too few samples\n",
    "projects_to_exclude = ['PRJEB38917', 'PRJEB53019', 'PRJNA557226', 'PRJNA637034']\n",
    "\n",
    "merged_df_q2_boots_rar3000_n50_new = merged_df_q2_boots_rar3000_n50[~merged_df_q2_boots_rar3000_n50['Project_ID'].isin(projects_to_exclude)]"
   ],
   "metadata": {
    "collapsed": false,
    "ExecuteTime": {
     "end_time": "2024-09-05T09:06:31.207158Z",
     "start_time": "2024-09-05T09:06:31.193965Z"
    }
   },
   "id": "fb9fecb1cb7ced11",
   "execution_count": 32
  },
  {
   "cell_type": "code",
   "outputs": [
    {
     "data": {
      "text/plain": "21"
     },
     "execution_count": 33,
     "metadata": {},
     "output_type": "execute_result"
    }
   ],
   "source": [
    "merged_df_q2_boots_rar3000_n50_new['Project_ID'].nunique()"
   ],
   "metadata": {
    "collapsed": false,
    "ExecuteTime": {
     "end_time": "2024-09-05T09:06:42.188514Z",
     "start_time": "2024-09-05T09:06:42.183499Z"
    }
   },
   "id": "34f0444d15c993d8",
   "execution_count": 33
  },
  {
   "cell_type": "code",
   "outputs": [],
   "source": [
    "merged_df_q2_boots_rar3000_n50_new.to_csv(f'{data_dir}/metadata/combined_alpha_diversity_q2_boots_rar3000_n50.tsv', sep='\\t', index=False)"
   ],
   "metadata": {
    "collapsed": false,
    "ExecuteTime": {
     "end_time": "2024-09-05T09:07:13.637397Z",
     "start_time": "2024-09-05T09:07:13.604323Z"
    }
   },
   "id": "4c5e75b83151eaab",
   "execution_count": 34
  },
  {
   "cell_type": "markdown",
   "source": [],
   "metadata": {
    "collapsed": false
   },
   "id": "308fd560c513107e"
  }
 ],
 "metadata": {
  "kernelspec": {
   "display_name": "Python 3",
   "language": "python",
   "name": "python3"
  },
  "language_info": {
   "codemirror_mode": {
    "name": "ipython",
    "version": 2
   },
   "file_extension": ".py",
   "mimetype": "text/x-python",
   "name": "python",
   "nbconvert_exporter": "python",
   "pygments_lexer": "ipython2",
   "version": "2.7.6"
  }
 },
 "nbformat": 4,
 "nbformat_minor": 5
}
