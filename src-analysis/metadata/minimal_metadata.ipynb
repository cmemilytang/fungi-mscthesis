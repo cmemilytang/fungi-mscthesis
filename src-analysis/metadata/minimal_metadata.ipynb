{
 "cells": [
  {
   "cell_type": "markdown",
   "source": [
    "## Checkpoint 06/26/2024\n",
    "### The aim of this script is to make sure the number of samples in the minimal metadata is equal and identical to that in our final project samples"
   ],
   "metadata": {
    "collapsed": false
   },
   "id": "c3ea1a790cd63d88"
  },
  {
   "cell_type": "code",
   "execution_count": 1,
   "id": "initial_id",
   "metadata": {
    "collapsed": true,
    "ExecuteTime": {
     "end_time": "2024-06-25T17:04:35.757897Z",
     "start_time": "2024-06-25T17:04:35.260816Z"
    }
   },
   "outputs": [],
   "source": [
    "import pandas as pd"
   ]
  },
  {
   "cell_type": "code",
   "outputs": [],
   "source": [
    "data_dir = \"/Users/cheesemania/PycharmProjects/mscthesis_wrkdir/metadata\""
   ],
   "metadata": {
    "collapsed": false,
    "ExecuteTime": {
     "end_time": "2024-06-25T17:27:23.863204Z",
     "start_time": "2024-06-25T17:27:23.853415Z"
    }
   },
   "id": "e2fe0cfdfdf436bc",
   "execution_count": 7
  },
  {
   "cell_type": "markdown",
   "source": [
    "### Merging the metadata draft and final project samples"
   ],
   "metadata": {
    "collapsed": false
   },
   "id": "711cc0e94e726f4"
  },
  {
   "cell_type": "markdown",
   "source": [
    "\"metadata-draft.tsv\" is the \"minimal_metadata\" sheet in the shared-doc/dataset-curation/metadata/Metadata\n",
    "\n",
    "\"final-projects-samples\" is a summary (from Sven) of our final samples after denoising step (10,055 samples)."
   ],
   "metadata": {
    "collapsed": false
   },
   "id": "8899e75f4c28cd8f"
  },
  {
   "cell_type": "markdown",
   "source": [
    "#### Read the dataframes"
   ],
   "metadata": {
    "collapsed": false
   },
   "id": "ac99ef9e73054be2"
  },
  {
   "cell_type": "code",
   "outputs": [],
   "source": [
    "df1 = pd.read_csv(f'{data_dir}/metadata-draft.tsv', sep='\\t')\n",
    "df2 = pd.read_csv(f'{data_dir}/final-projects-samples.tsv', sep='\\t')"
   ],
   "metadata": {
    "collapsed": false,
    "ExecuteTime": {
     "end_time": "2024-06-25T17:32:03.783933Z",
     "start_time": "2024-06-25T17:32:03.737701Z"
    }
   },
   "id": "9103ed198a6186f9",
   "execution_count": 14
  },
  {
   "cell_type": "code",
   "outputs": [
    {
     "data": {
      "text/plain": "           ID Bioproject ID Continent of Geolocation Country of Geolocation  \\\n0  CNS0407793    CNP0002114                     Asia                  China   \n1  CNS0407794    CNP0002114                     Asia                  China   \n2  CNS0407795    CNP0002114                     Asia                  China   \n3  CNS0407796    CNP0002114                     Asia                  China   \n4  CNS0407797    CNP0002114                     Asia                  China   \n\n  Country-level Human Development Index Industrialization Host Sex  \\\n0                                 0.788    Industrialized  unknown   \n1                                 0.788    Industrialized  unknown   \n2                                 0.788    Industrialized  unknown   \n3                                 0.788    Industrialized  unknown   \n4                                 0.788    Industrialized  unknown   \n\n  Host Age Category Host Age Decade Host Age Age Detail Level  \n0           unknown         unknown  unknown               L2  \n1           unknown         unknown  unknown               L2  \n2           unknown         unknown  unknown               L2  \n3           unknown         unknown  unknown               L2  \n4           unknown         unknown  unknown               L2  ",
      "text/html": "<div>\n<style scoped>\n    .dataframe tbody tr th:only-of-type {\n        vertical-align: middle;\n    }\n\n    .dataframe tbody tr th {\n        vertical-align: top;\n    }\n\n    .dataframe thead th {\n        text-align: right;\n    }\n</style>\n<table border=\"1\" class=\"dataframe\">\n  <thead>\n    <tr style=\"text-align: right;\">\n      <th></th>\n      <th>ID</th>\n      <th>Bioproject ID</th>\n      <th>Continent of Geolocation</th>\n      <th>Country of Geolocation</th>\n      <th>Country-level Human Development Index</th>\n      <th>Industrialization</th>\n      <th>Host Sex</th>\n      <th>Host Age Category</th>\n      <th>Host Age Decade</th>\n      <th>Host Age</th>\n      <th>Age Detail Level</th>\n    </tr>\n  </thead>\n  <tbody>\n    <tr>\n      <th>0</th>\n      <td>CNS0407793</td>\n      <td>CNP0002114</td>\n      <td>Asia</td>\n      <td>China</td>\n      <td>0.788</td>\n      <td>Industrialized</td>\n      <td>unknown</td>\n      <td>unknown</td>\n      <td>unknown</td>\n      <td>unknown</td>\n      <td>L2</td>\n    </tr>\n    <tr>\n      <th>1</th>\n      <td>CNS0407794</td>\n      <td>CNP0002114</td>\n      <td>Asia</td>\n      <td>China</td>\n      <td>0.788</td>\n      <td>Industrialized</td>\n      <td>unknown</td>\n      <td>unknown</td>\n      <td>unknown</td>\n      <td>unknown</td>\n      <td>L2</td>\n    </tr>\n    <tr>\n      <th>2</th>\n      <td>CNS0407795</td>\n      <td>CNP0002114</td>\n      <td>Asia</td>\n      <td>China</td>\n      <td>0.788</td>\n      <td>Industrialized</td>\n      <td>unknown</td>\n      <td>unknown</td>\n      <td>unknown</td>\n      <td>unknown</td>\n      <td>L2</td>\n    </tr>\n    <tr>\n      <th>3</th>\n      <td>CNS0407796</td>\n      <td>CNP0002114</td>\n      <td>Asia</td>\n      <td>China</td>\n      <td>0.788</td>\n      <td>Industrialized</td>\n      <td>unknown</td>\n      <td>unknown</td>\n      <td>unknown</td>\n      <td>unknown</td>\n      <td>L2</td>\n    </tr>\n    <tr>\n      <th>4</th>\n      <td>CNS0407797</td>\n      <td>CNP0002114</td>\n      <td>Asia</td>\n      <td>China</td>\n      <td>0.788</td>\n      <td>Industrialized</td>\n      <td>unknown</td>\n      <td>unknown</td>\n      <td>unknown</td>\n      <td>unknown</td>\n      <td>L2</td>\n    </tr>\n  </tbody>\n</table>\n</div>"
     },
     "execution_count": 15,
     "metadata": {},
     "output_type": "execute_result"
    }
   ],
   "source": [
    "df1.head()"
   ],
   "metadata": {
    "collapsed": false,
    "ExecuteTime": {
     "end_time": "2024-06-25T17:32:04.939481Z",
     "start_time": "2024-06-25T17:32:04.924756Z"
    }
   },
   "id": "56d6a1c13da09ef0",
   "execution_count": 15
  },
  {
   "cell_type": "code",
   "outputs": [
    {
     "data": {
      "text/plain": "              Project ID Sample ID\n0  autism-paper_35966698       F17\n1  autism-paper_35966698       F28\n2  autism-paper_35966698       F23\n3  autism-paper_35966698       F14\n4  autism-paper_35966698        F6",
      "text/html": "<div>\n<style scoped>\n    .dataframe tbody tr th:only-of-type {\n        vertical-align: middle;\n    }\n\n    .dataframe tbody tr th {\n        vertical-align: top;\n    }\n\n    .dataframe thead th {\n        text-align: right;\n    }\n</style>\n<table border=\"1\" class=\"dataframe\">\n  <thead>\n    <tr style=\"text-align: right;\">\n      <th></th>\n      <th>Project ID</th>\n      <th>Sample ID</th>\n    </tr>\n  </thead>\n  <tbody>\n    <tr>\n      <th>0</th>\n      <td>autism-paper_35966698</td>\n      <td>F17</td>\n    </tr>\n    <tr>\n      <th>1</th>\n      <td>autism-paper_35966698</td>\n      <td>F28</td>\n    </tr>\n    <tr>\n      <th>2</th>\n      <td>autism-paper_35966698</td>\n      <td>F23</td>\n    </tr>\n    <tr>\n      <th>3</th>\n      <td>autism-paper_35966698</td>\n      <td>F14</td>\n    </tr>\n    <tr>\n      <th>4</th>\n      <td>autism-paper_35966698</td>\n      <td>F6</td>\n    </tr>\n  </tbody>\n</table>\n</div>"
     },
     "execution_count": 16,
     "metadata": {},
     "output_type": "execute_result"
    }
   ],
   "source": [
    "df2.head()"
   ],
   "metadata": {
    "collapsed": false,
    "ExecuteTime": {
     "end_time": "2024-06-25T17:32:06.090155Z",
     "start_time": "2024-06-25T17:32:06.082307Z"
    }
   },
   "id": "15ae1e61ceca229a",
   "execution_count": 16
  },
  {
   "cell_type": "code",
   "outputs": [
    {
     "data": {
      "text/plain": "    Sample ID  Project ID Continent of Geolocation Country of Geolocation  \\\n0  CNS0407793  CNP0002114                     Asia                  China   \n1  CNS0407794  CNP0002114                     Asia                  China   \n2  CNS0407795  CNP0002114                     Asia                  China   \n3  CNS0407796  CNP0002114                     Asia                  China   \n4  CNS0407797  CNP0002114                     Asia                  China   \n\n  Country-level Human Development Index Industrialization Host Sex  \\\n0                                 0.788    Industrialized  unknown   \n1                                 0.788    Industrialized  unknown   \n2                                 0.788    Industrialized  unknown   \n3                                 0.788    Industrialized  unknown   \n4                                 0.788    Industrialized  unknown   \n\n  Host Age Category Host Age Decade Host Age Age Detail Level  \n0           unknown         unknown  unknown               L2  \n1           unknown         unknown  unknown               L2  \n2           unknown         unknown  unknown               L2  \n3           unknown         unknown  unknown               L2  \n4           unknown         unknown  unknown               L2  ",
      "text/html": "<div>\n<style scoped>\n    .dataframe tbody tr th:only-of-type {\n        vertical-align: middle;\n    }\n\n    .dataframe tbody tr th {\n        vertical-align: top;\n    }\n\n    .dataframe thead th {\n        text-align: right;\n    }\n</style>\n<table border=\"1\" class=\"dataframe\">\n  <thead>\n    <tr style=\"text-align: right;\">\n      <th></th>\n      <th>Sample ID</th>\n      <th>Project ID</th>\n      <th>Continent of Geolocation</th>\n      <th>Country of Geolocation</th>\n      <th>Country-level Human Development Index</th>\n      <th>Industrialization</th>\n      <th>Host Sex</th>\n      <th>Host Age Category</th>\n      <th>Host Age Decade</th>\n      <th>Host Age</th>\n      <th>Age Detail Level</th>\n    </tr>\n  </thead>\n  <tbody>\n    <tr>\n      <th>0</th>\n      <td>CNS0407793</td>\n      <td>CNP0002114</td>\n      <td>Asia</td>\n      <td>China</td>\n      <td>0.788</td>\n      <td>Industrialized</td>\n      <td>unknown</td>\n      <td>unknown</td>\n      <td>unknown</td>\n      <td>unknown</td>\n      <td>L2</td>\n    </tr>\n    <tr>\n      <th>1</th>\n      <td>CNS0407794</td>\n      <td>CNP0002114</td>\n      <td>Asia</td>\n      <td>China</td>\n      <td>0.788</td>\n      <td>Industrialized</td>\n      <td>unknown</td>\n      <td>unknown</td>\n      <td>unknown</td>\n      <td>unknown</td>\n      <td>L2</td>\n    </tr>\n    <tr>\n      <th>2</th>\n      <td>CNS0407795</td>\n      <td>CNP0002114</td>\n      <td>Asia</td>\n      <td>China</td>\n      <td>0.788</td>\n      <td>Industrialized</td>\n      <td>unknown</td>\n      <td>unknown</td>\n      <td>unknown</td>\n      <td>unknown</td>\n      <td>L2</td>\n    </tr>\n    <tr>\n      <th>3</th>\n      <td>CNS0407796</td>\n      <td>CNP0002114</td>\n      <td>Asia</td>\n      <td>China</td>\n      <td>0.788</td>\n      <td>Industrialized</td>\n      <td>unknown</td>\n      <td>unknown</td>\n      <td>unknown</td>\n      <td>unknown</td>\n      <td>L2</td>\n    </tr>\n    <tr>\n      <th>4</th>\n      <td>CNS0407797</td>\n      <td>CNP0002114</td>\n      <td>Asia</td>\n      <td>China</td>\n      <td>0.788</td>\n      <td>Industrialized</td>\n      <td>unknown</td>\n      <td>unknown</td>\n      <td>unknown</td>\n      <td>unknown</td>\n      <td>L2</td>\n    </tr>\n  </tbody>\n</table>\n</div>"
     },
     "execution_count": 17,
     "metadata": {},
     "output_type": "execute_result"
    }
   ],
   "source": [
    "df1 = df1.rename(columns={'ID': 'Sample ID', 'Bioproject ID': 'Project ID'})\n",
    "df1.head()"
   ],
   "metadata": {
    "collapsed": false,
    "ExecuteTime": {
     "end_time": "2024-06-25T17:32:15.638674Z",
     "start_time": "2024-06-25T17:32:15.622209Z"
    }
   },
   "id": "2e13facbe2820b69",
   "execution_count": 17
  },
  {
   "cell_type": "markdown",
   "source": [
    "#### Check project numbers"
   ],
   "metadata": {
    "collapsed": false
   },
   "id": "b3d669e0b09564"
  },
  {
   "cell_type": "code",
   "outputs": [
    {
     "name": "stdout",
     "output_type": "stream",
     "text": [
      "True\n"
     ]
    }
   ],
   "source": [
    "# Check if all Project IDs in df1 are in df2:\n",
    "print(df1['Project ID'].isin(df2['Project ID']).all())"
   ],
   "metadata": {
    "collapsed": false,
    "ExecuteTime": {
     "end_time": "2024-06-25T17:55:14.397597Z",
     "start_time": "2024-06-25T17:55:14.378293Z"
    }
   },
   "id": "10ab7a6af66e15f1",
   "execution_count": 25
  },
  {
   "cell_type": "code",
   "outputs": [
    {
     "name": "stdout",
     "output_type": "stream",
     "text": [
      "False\n"
     ]
    }
   ],
   "source": [
    "print(df2['Project ID'].isin(df1['Project ID']).all())"
   ],
   "metadata": {
    "collapsed": false,
    "ExecuteTime": {
     "end_time": "2024-06-25T17:55:15.242026Z",
     "start_time": "2024-06-25T17:55:15.234075Z"
    }
   },
   "id": "b03e55a2a4a5c47a",
   "execution_count": 26
  },
  {
   "cell_type": "code",
   "outputs": [
    {
     "data": {
      "text/plain": "67"
     },
     "execution_count": 20,
     "metadata": {},
     "output_type": "execute_result"
    }
   ],
   "source": [
    "len(df1['Project ID'].unique())"
   ],
   "metadata": {
    "collapsed": false,
    "ExecuteTime": {
     "end_time": "2024-06-25T17:39:17.055270Z",
     "start_time": "2024-06-25T17:39:17.030377Z"
    }
   },
   "id": "3f78e5ba232586d6",
   "execution_count": 20
  },
  {
   "cell_type": "code",
   "outputs": [
    {
     "data": {
      "text/plain": "68"
     },
     "execution_count": 21,
     "metadata": {},
     "output_type": "execute_result"
    }
   ],
   "source": [
    "len(df2['Project ID'].unique())"
   ],
   "metadata": {
    "collapsed": false,
    "ExecuteTime": {
     "end_time": "2024-06-25T17:39:25.993368Z",
     "start_time": "2024-06-25T17:39:25.989034Z"
    }
   },
   "id": "53efb3f886b7bb68",
   "execution_count": 21
  },
  {
   "cell_type": "code",
   "outputs": [
    {
     "name": "stdout",
     "output_type": "stream",
     "text": [
      "Missing Project IDs in df1: {'PRJNA579122'}\n"
     ]
    }
   ],
   "source": [
    "# Find missing Project IDs in df1\n",
    "missing_ids = set(df2['Project ID']) - set(df1['Project ID'])\n",
    "\n",
    "print(\"Missing Project IDs in df1:\", missing_ids)\n",
    "\n",
    "# CHECK and corrected to PRJNA579121"
   ],
   "metadata": {
    "collapsed": false,
    "ExecuteTime": {
     "end_time": "2024-06-25T17:41:02.258660Z",
     "start_time": "2024-06-25T17:41:02.219306Z"
    }
   },
   "id": "affe9484b4174289",
   "execution_count": 22
  },
  {
   "cell_type": "markdown",
   "source": [
    "This project id is not present in our project list. I assume it is a typo from PRJNA579121\n",
    "\n",
    "- Corrected."
   ],
   "metadata": {
    "collapsed": false
   },
   "id": "94f7e56beee685be"
  },
  {
   "cell_type": "markdown",
   "source": [
    "#### Check sample numbers"
   ],
   "metadata": {
    "collapsed": false
   },
   "id": "84d425b89f9bc0d2"
  },
  {
   "cell_type": "markdown",
   "source": [
    "Based on prior work, df1 should have more samples than df2 and also include samples in df2."
   ],
   "metadata": {
    "collapsed": false
   },
   "id": "79ceaadccc432dab"
  },
  {
   "cell_type": "code",
   "outputs": [
    {
     "name": "stdout",
     "output_type": "stream",
     "text": [
      "False\n"
     ]
    }
   ],
   "source": [
    "print(df1['Sample ID'].isin(df2['Sample ID']).all())"
   ],
   "metadata": {
    "collapsed": false,
    "ExecuteTime": {
     "end_time": "2024-06-25T17:54:00.104925Z",
     "start_time": "2024-06-25T17:54:00.087785Z"
    }
   },
   "id": "5a12314c20f53122",
   "execution_count": 23
  },
  {
   "cell_type": "code",
   "outputs": [
    {
     "name": "stdout",
     "output_type": "stream",
     "text": [
      "13\n",
      "Missing Sample IDs in df1: {'SRR8536912', 'SRR5098762', 'SRR5098384', 'SRR9032425', 'SRR6308536', 'SRR15164412', 'SRR5098757', 'SRR5098331', 'SRR15164353', 'SRR9032428', 'SRR15169621', 'SRR8536983', 'SRR7464987'}\n"
     ]
    }
   ],
   "source": [
    "# Find missing Sample IDs in df1\n",
    "missing_ids_df1 = set(df2['Sample ID']) - set(df1['Sample ID'])\n",
    "\n",
    "print(len(missing_ids_df1))\n",
    "print(\"Missing Sample IDs in df1:\", missing_ids_df1)"
   ],
   "metadata": {
    "collapsed": false,
    "ExecuteTime": {
     "end_time": "2024-06-25T18:23:28.129898Z",
     "start_time": "2024-06-25T18:23:28.117407Z"
    }
   },
   "id": "aa9cdee326938dbe",
   "execution_count": 32
  },
  {
   "cell_type": "markdown",
   "source": [
    "Why?\n",
    "- For some unkown reasons, these samples may have been accidentally deleted from our general metadata table (extracted from SRA-metadata files)."
   ],
   "metadata": {
    "collapsed": false
   },
   "id": "4c26ae009d95281c"
  },
  {
   "cell_type": "code",
   "outputs": [
    {
     "name": "stdout",
     "output_type": "stream",
     "text": [
      "False\n"
     ]
    }
   ],
   "source": [
    "print(df2['Sample ID'].isin(df1['Sample ID']).all())"
   ],
   "metadata": {
    "collapsed": false,
    "ExecuteTime": {
     "end_time": "2024-06-25T17:54:16.673448Z",
     "start_time": "2024-06-25T17:54:16.666674Z"
    }
   },
   "id": "b4c8ca90dd2c105c",
   "execution_count": 24
  },
  {
   "cell_type": "code",
   "outputs": [
    {
     "name": "stdout",
     "output_type": "stream",
     "text": [
      "318\n",
      "Missing Sample IDs in df2: {'ERR2505293', 'ERR2505116', 'ERR2505165', 'ERR2505376', 'ERR2505286', 'ERR2505277', 'ERR2505237', 'ERR2505035', 'ERR2505063', 'ERR2505179', 'ERR2505397', 'ERR2505132', 'ERR2505093', 'ERR2505271', 'ERR2505299', 'ERR2505067', 'ERR2505386', 'ERR2505189', 'ERR2505157', 'ERR2505128', 'ERR2505099', 'ERR2505120', 'ERR2505359', 'ERR2505086', 'ERR2505223', 'ERR2505056', 'ERR2505040', 'ERR2505202', 'ERR2505357', 'ERR2505191', 'ERR2505250', 'ERR2505026', 'ERR2505358', 'ERR2505085', 'ERR2505084', 'ERR2505203', 'ERR2505077', 'ERR2505174', 'ERR2505151', 'ERR2505125', 'ERR2505140', 'ERR2505127', 'ERR2505209', 'ERR2505214', 'ERR2505130', 'ERR2505051', 'ERR2505298', 'ERR2505054', 'ERR2505257', 'ERR2505270', 'ERR2505087', 'ERR2505362', 'ERR2505183', 'ERR2505287', 'ERR2505182', 'ERR2505309', 'ERR2505199', 'ERR2505097', 'ERR2505161', 'ERR2505135', 'ERR2505152', 'ERR2505377', 'ERR2505280', 'ERR2505395', 'ERR2505225', 'ERR2505126', 'ERR2505028', 'ERR2505044', 'ERR2505388', 'ERR2505371', 'ERR2505137', 'ERR2505256', 'ERR2505070', 'ERR2505041', 'ERR2505131', 'ERR2505071', 'ERR2505032', 'ERR2505129', 'ERR2505167', 'ERR2505226', 'ERR2505114', 'ERR2505378', 'ERR2505268', 'ERR2505387', 'ERR2505186', 'ERR2505061', 'ERR2505057', 'ERR2505241', 'ERR2505291', 'ERR2505269', 'ERR2505177', 'ERR2505166', 'ERR2505274', 'ERR2505372', 'ERR2505060', 'ERR2505147', 'ERR2505208', 'ERR2505279', 'ERR2505219', 'ERR2505079', 'ERR2505141', 'ERR2505043', 'ERR2505104', 'ERR2505222', 'ERR2505050', 'ERR2505118', 'ERR2505156', 'ERR2505391', 'ERR2505381', 'ERR2505369', 'ERR2505401', 'SRR19047765', 'ERR2505265', 'ERR2505296', 'ERR2505364', 'ERR2505273', 'ERR2505192', 'ERR2505101', 'ERR2505145', 'ERR2505197', 'ERR2505081', 'ERR2505193', 'ERR2505373', 'ERR2505380', 'ERR2505239', 'ERR2505180', 'ERR2505133', 'ERR2505295', 'ERR2505148', 'ERR2505149', 'ERR2505285', 'ERR2505379', 'ERR2505178', 'ERR2505123', 'ERR2505246', 'ERR2505121', 'ERR2505231', 'ERR2505122', 'ERR2505196', 'ERR2505374', 'ERR2505188', 'ERR2505281', 'ERR2505111', 'ERR2505302', 'ERR2505356', 'ERR2505305', 'ERR2505300', 'ERR2505221', 'ERR2505392', 'ERR2505138', 'ERR2505365', 'ERR2505234', 'ERR2505072', 'ERR2505144', 'ERR2505229', 'ERR2505115', 'ERR2505375', 'ERR2505029', 'ERR2505048', 'ERR2505053', 'ERR2505154', 'ERR2505283', 'ERR2505190', 'ERR2505255', 'ERR2505258', 'ERR2505370', 'ERR2505068', 'ERR2505310', 'ERR2505117', 'ERR2505034', 'ERR2505211', 'ERR2505217', 'ERR2505106', 'ERR2505216', 'ERR2505195', 'ERR2505146', 'ERR2505033', 'ERR2505031', 'ERR2505049', 'SRR15531435', 'ERR2505396', 'ERR2505046', 'ERR2505172', 'ERR2505062', 'ERR2505400', 'ERR2505382', 'ERR2505107', 'ERR2505240', 'ERR2505288', 'ERR2505036', 'ERR2505361', 'ERR2505399', 'ERR2505261', 'ERR2505110', 'ERR2505119', 'ERR2505124', 'ERR2505164', 'ERR2505083', 'ERR2505252', 'ERR2505150', 'ERR2505047', 'ERR2505055', 'ERR2505181', 'ERR2505139', 'ERR2505187', 'ERR2505204', 'ERR2505076', 'ERR2505389', 'ERR2505306', 'ERR2505102', 'ERR2505235', 'ERR2505367', 'ERR2505175', 'ERR2505039', 'ERR2505210', 'ERR2505304', 'ERR2505385', 'ERR2505091', 'ERR2505303', 'ERR2505262', 'ERR2505069', 'ERR2505142', 'ERR2505301', 'ERR2505090', 'ERR2505394', 'ERR2505360', 'ERR2505059', 'ERR2505058', 'ERR2505215', 'ERR2505089', 'ERR2505170', 'ERR2505245', 'ERR2505075', 'ERR2505263', 'ERR2505264', 'ERR2505251', 'ERR2505276', 'ERR2505082', 'ERR2505368', 'ERR2505088', 'ERR2505136', 'ERR2505227', 'ERR2505275', 'ERR2505198', 'ERR2505066', 'ERR2505307', 'ERR2505185', 'ERR2505113', 'ERR2505094', 'ERR2505108', 'ERR2505095', 'ERR2505052', 'ERR2505027', 'ERR2505159', 'ERR2505143', 'ERR2505253', 'ERR2505155', 'ERR2505162', 'ERR2505228', 'ERR2505292', 'ERR2505384', 'ERR2505259', 'ERR2505171', 'ERR2505402', 'ERR2505064', 'ERR2505158', 'ERR2505308', 'ERR2505282', 'ERR2505073', 'ERR2505168', 'ERR2505398', 'ERR2505134', 'ERR2505065', 'ERR2505184', 'ERR2505038', 'ERR2505078', 'ERR2505294', 'ERR2505201', 'ERR2505383', 'ERR2505080', 'ERR2505105', 'ERR2505289', 'ERR2505233', 'ERR2505096', 'ERR2505220', 'ERR2505045', 'ERR2505092', 'ERR2505112', 'ERR2505244', 'ERR2505267', 'ERR2505366', 'ERR2505393', 'ERR2505173', 'ERR2505297', 'ERR2505194', 'ERR2505205', 'ERR2505037', 'ERR2505160', 'ERR2505390', 'ERR2505176', 'ERR2505363', 'ERR2505169', 'ERR2505213', 'ERR2505247', 'ERR2505243', 'ERR2505103', 'ERR2505074', 'ERR2505238', 'ERR2505153', 'ERR2505163', 'ERR2505249', 'ERR2505207', 'ERR2505109', 'ERR2505030', 'ERR2505098', 'ERR2505100', 'ERR2505042', 'ERR2505232'}\n"
     ]
    }
   ],
   "source": [
    "# Find missing Sample IDs in df2\n",
    "missing_ids_df2 = set(df1['Sample ID']) - set(df2['Sample ID'])\n",
    "\n",
    "print(len(missing_ids_df2))\n",
    "print(\"Missing Sample IDs in df2:\", missing_ids_df2)"
   ],
   "metadata": {
    "collapsed": false,
    "ExecuteTime": {
     "end_time": "2024-06-25T18:23:02.108583Z",
     "start_time": "2024-06-25T18:23:02.097331Z"
    }
   },
   "id": "b064615fda288f6e",
   "execution_count": 31
  },
  {
   "cell_type": "markdown",
   "source": [
    "#### Check exclusion sample ids"
   ],
   "metadata": {
    "collapsed": false
   },
   "id": "7bf1d589bdd7c36"
  },
  {
   "cell_type": "markdown",
   "source": [
    "\"exclusion-ids-final.tsv\" is provided by Sven. Those are the non-ITS samples he excluded when making the \"Fungal-Project-Metadata\" sheet in the shared-doc/dataset-curation.\n",
    "\n",
    "\"PRJEB25916_exclusion_ids.tsv\" contains the 316 non-gut samples in PRJEB25916 which were not excluded in the \"Fungal-Project-Metadata\". "
   ],
   "metadata": {
    "collapsed": false
   },
   "id": "fbbfba755298083"
  },
  {
   "cell_type": "code",
   "outputs": [],
   "source": [
    "df3 = pd.read_csv(f'{data_dir}/exclusion-ids-final.tsv', sep='\\t')\n",
    "df4 = pd.read_csv(f'{data_dir}/PRJEB25916_exclusion_ids.tsv', sep='\\t')"
   ],
   "metadata": {
    "collapsed": false,
    "ExecuteTime": {
     "end_time": "2024-06-26T07:42:55.959256Z",
     "start_time": "2024-06-26T07:42:55.904846Z"
    }
   },
   "id": "eaceee6dd2439ce4",
   "execution_count": 34
  },
  {
   "cell_type": "code",
   "outputs": [
    {
     "data": {
      "text/plain": "           ID\n0  ERR4253103\n1  ERR4253099\n2  ERR4253110\n3  ERR4253112\n4  ERR4253122",
      "text/html": "<div>\n<style scoped>\n    .dataframe tbody tr th:only-of-type {\n        vertical-align: middle;\n    }\n\n    .dataframe tbody tr th {\n        vertical-align: top;\n    }\n\n    .dataframe thead th {\n        text-align: right;\n    }\n</style>\n<table border=\"1\" class=\"dataframe\">\n  <thead>\n    <tr style=\"text-align: right;\">\n      <th></th>\n      <th>ID</th>\n    </tr>\n  </thead>\n  <tbody>\n    <tr>\n      <th>0</th>\n      <td>ERR4253103</td>\n    </tr>\n    <tr>\n      <th>1</th>\n      <td>ERR4253099</td>\n    </tr>\n    <tr>\n      <th>2</th>\n      <td>ERR4253110</td>\n    </tr>\n    <tr>\n      <th>3</th>\n      <td>ERR4253112</td>\n    </tr>\n    <tr>\n      <th>4</th>\n      <td>ERR4253122</td>\n    </tr>\n  </tbody>\n</table>\n</div>"
     },
     "execution_count": 35,
     "metadata": {},
     "output_type": "execute_result"
    }
   ],
   "source": [
    "df3.head()"
   ],
   "metadata": {
    "collapsed": false,
    "ExecuteTime": {
     "end_time": "2024-06-26T07:42:56.999823Z",
     "start_time": "2024-06-26T07:42:56.986703Z"
    }
   },
   "id": "3b8976123ee0d41f",
   "execution_count": 35
  },
  {
   "cell_type": "code",
   "outputs": [
    {
     "data": {
      "text/plain": "  PRJEB25916_non_gut\n0         ERR2505026\n1         ERR2505027\n2         ERR2505028\n3         ERR2505029\n4         ERR2505030",
      "text/html": "<div>\n<style scoped>\n    .dataframe tbody tr th:only-of-type {\n        vertical-align: middle;\n    }\n\n    .dataframe tbody tr th {\n        vertical-align: top;\n    }\n\n    .dataframe thead th {\n        text-align: right;\n    }\n</style>\n<table border=\"1\" class=\"dataframe\">\n  <thead>\n    <tr style=\"text-align: right;\">\n      <th></th>\n      <th>PRJEB25916_non_gut</th>\n    </tr>\n  </thead>\n  <tbody>\n    <tr>\n      <th>0</th>\n      <td>ERR2505026</td>\n    </tr>\n    <tr>\n      <th>1</th>\n      <td>ERR2505027</td>\n    </tr>\n    <tr>\n      <th>2</th>\n      <td>ERR2505028</td>\n    </tr>\n    <tr>\n      <th>3</th>\n      <td>ERR2505029</td>\n    </tr>\n    <tr>\n      <th>4</th>\n      <td>ERR2505030</td>\n    </tr>\n  </tbody>\n</table>\n</div>"
     },
     "execution_count": 36,
     "metadata": {},
     "output_type": "execute_result"
    }
   ],
   "source": [
    "df4.head()"
   ],
   "metadata": {
    "collapsed": false,
    "ExecuteTime": {
     "end_time": "2024-06-26T07:43:02.460765Z",
     "start_time": "2024-06-26T07:43:02.452578Z"
    }
   },
   "id": "9c24b7bceaee504b",
   "execution_count": 36
  },
  {
   "cell_type": "code",
   "outputs": [
    {
     "name": "stdout",
     "output_type": "stream",
     "text": [
      "True\n"
     ]
    }
   ],
   "source": [
    "print(df4['PRJEB25916_non_gut'].isin(df3['ID']).all())\n",
    "\n",
    "# CHECK"
   ],
   "metadata": {
    "collapsed": false,
    "ExecuteTime": {
     "end_time": "2024-06-26T07:43:37.916785Z",
     "start_time": "2024-06-26T07:43:37.908484Z"
    }
   },
   "id": "95e4953e82095347",
   "execution_count": 37
  },
  {
   "cell_type": "code",
   "outputs": [
    {
     "name": "stdout",
     "output_type": "stream",
     "text": [
      "316\n"
     ]
    }
   ],
   "source": [
    "# Check if the non-gut samples in PRJEB25916 are all in the list of missing samples in df2 (potential final samples)\n",
    "\n",
    "# Convert the 'PRJEB25916_non_gut' column to a set\n",
    "non_gut_sample = set(df4['PRJEB25916_non_gut'])\n",
    "print(len(non_gut_sample))"
   ],
   "metadata": {
    "collapsed": false,
    "ExecuteTime": {
     "end_time": "2024-06-26T08:12:26.214737Z",
     "start_time": "2024-06-26T08:12:26.204319Z"
    }
   },
   "id": "f8dbc4797d50fe1c",
   "execution_count": 45
  },
  {
   "cell_type": "code",
   "outputs": [
    {
     "name": "stdout",
     "output_type": "stream",
     "text": [
      "True\n"
     ]
    }
   ],
   "source": [
    "print(non_gut_sample.issubset(missing_ids_df2))\n",
    "\n",
    "# CHECK"
   ],
   "metadata": {
    "collapsed": false,
    "ExecuteTime": {
     "end_time": "2024-06-26T08:12:37.683599Z",
     "start_time": "2024-06-26T08:12:37.678893Z"
    }
   },
   "id": "f2235073e3324d8",
   "execution_count": 46
  },
  {
   "cell_type": "code",
   "outputs": [
    {
     "data": {
      "text/plain": "    Sample ID  Project ID Continent of Geolocation Country of Geolocation  \\\n0  CNS0407793  CNP0002114                     Asia                  China   \n1  CNS0407794  CNP0002114                     Asia                  China   \n2  CNS0407795  CNP0002114                     Asia                  China   \n3  CNS0407796  CNP0002114                     Asia                  China   \n4  CNS0407797  CNP0002114                     Asia                  China   \n\n  Country-level Human Development Index Industrialization Host Sex  \\\n0                                 0.788    Industrialized  unknown   \n1                                 0.788    Industrialized  unknown   \n2                                 0.788    Industrialized  unknown   \n3                                 0.788    Industrialized  unknown   \n4                                 0.788    Industrialized  unknown   \n\n  Host Age Category Host Age Decade Host Age Age Detail Level  \n0           unknown         unknown  unknown               L2  \n1           unknown         unknown  unknown               L2  \n2           unknown         unknown  unknown               L2  \n3           unknown         unknown  unknown               L2  \n4           unknown         unknown  unknown               L2  ",
      "text/html": "<div>\n<style scoped>\n    .dataframe tbody tr th:only-of-type {\n        vertical-align: middle;\n    }\n\n    .dataframe tbody tr th {\n        vertical-align: top;\n    }\n\n    .dataframe thead th {\n        text-align: right;\n    }\n</style>\n<table border=\"1\" class=\"dataframe\">\n  <thead>\n    <tr style=\"text-align: right;\">\n      <th></th>\n      <th>Sample ID</th>\n      <th>Project ID</th>\n      <th>Continent of Geolocation</th>\n      <th>Country of Geolocation</th>\n      <th>Country-level Human Development Index</th>\n      <th>Industrialization</th>\n      <th>Host Sex</th>\n      <th>Host Age Category</th>\n      <th>Host Age Decade</th>\n      <th>Host Age</th>\n      <th>Age Detail Level</th>\n    </tr>\n  </thead>\n  <tbody>\n    <tr>\n      <th>0</th>\n      <td>CNS0407793</td>\n      <td>CNP0002114</td>\n      <td>Asia</td>\n      <td>China</td>\n      <td>0.788</td>\n      <td>Industrialized</td>\n      <td>unknown</td>\n      <td>unknown</td>\n      <td>unknown</td>\n      <td>unknown</td>\n      <td>L2</td>\n    </tr>\n    <tr>\n      <th>1</th>\n      <td>CNS0407794</td>\n      <td>CNP0002114</td>\n      <td>Asia</td>\n      <td>China</td>\n      <td>0.788</td>\n      <td>Industrialized</td>\n      <td>unknown</td>\n      <td>unknown</td>\n      <td>unknown</td>\n      <td>unknown</td>\n      <td>L2</td>\n    </tr>\n    <tr>\n      <th>2</th>\n      <td>CNS0407795</td>\n      <td>CNP0002114</td>\n      <td>Asia</td>\n      <td>China</td>\n      <td>0.788</td>\n      <td>Industrialized</td>\n      <td>unknown</td>\n      <td>unknown</td>\n      <td>unknown</td>\n      <td>unknown</td>\n      <td>L2</td>\n    </tr>\n    <tr>\n      <th>3</th>\n      <td>CNS0407796</td>\n      <td>CNP0002114</td>\n      <td>Asia</td>\n      <td>China</td>\n      <td>0.788</td>\n      <td>Industrialized</td>\n      <td>unknown</td>\n      <td>unknown</td>\n      <td>unknown</td>\n      <td>unknown</td>\n      <td>L2</td>\n    </tr>\n    <tr>\n      <th>4</th>\n      <td>CNS0407797</td>\n      <td>CNP0002114</td>\n      <td>Asia</td>\n      <td>China</td>\n      <td>0.788</td>\n      <td>Industrialized</td>\n      <td>unknown</td>\n      <td>unknown</td>\n      <td>unknown</td>\n      <td>unknown</td>\n      <td>L2</td>\n    </tr>\n  </tbody>\n</table>\n</div>"
     },
     "execution_count": 50,
     "metadata": {},
     "output_type": "execute_result"
    }
   ],
   "source": [
    "df1.head()"
   ],
   "metadata": {
    "collapsed": false,
    "ExecuteTime": {
     "end_time": "2024-06-26T08:27:48.655861Z",
     "start_time": "2024-06-26T08:27:48.631903Z"
    }
   },
   "id": "4d8a6e467af772a5",
   "execution_count": 50
  },
  {
   "cell_type": "code",
   "outputs": [
    {
     "name": "stdout",
     "output_type": "stream",
     "text": [
      "Some excluded sample IDs are present in df1:        Sample ID  Project ID Continent of Geolocation Country of Geolocation  \\\n",
      "2906  ERR2505026  PRJEB25916                   Europe                  Italy   \n",
      "2907  ERR2505027  PRJEB25916                   Europe                  Italy   \n",
      "2908  ERR2505028  PRJEB25916                   Europe                  Italy   \n",
      "2909  ERR2505029  PRJEB25916                   Europe                  Italy   \n",
      "2910  ERR2505030  PRJEB25916                   Europe                  Italy   \n",
      "...          ...         ...                      ...                    ...   \n",
      "3278  ERR2505398  PRJEB25916                   Europe                  Italy   \n",
      "3279  ERR2505399  PRJEB25916                   Europe                  Italy   \n",
      "3280  ERR2505400  PRJEB25916                   Europe                  Italy   \n",
      "3281  ERR2505401  PRJEB25916                   Europe                  Italy   \n",
      "3282  ERR2505402  PRJEB25916                   Europe                  Italy   \n",
      "\n",
      "     Country-level Human Development Index Industrialization Host Sex  \\\n",
      "2906                                 0.906    Industrialized  unknown   \n",
      "2907                                 0.906    Industrialized  unknown   \n",
      "2908                                 0.906    Industrialized  unknown   \n",
      "2909                                 0.906    Industrialized  unknown   \n",
      "2910                                 0.906    Industrialized  unknown   \n",
      "...                                    ...               ...      ...   \n",
      "3278                                 0.906    Industrialized  unknown   \n",
      "3279                                 0.906    Industrialized  unknown   \n",
      "3280                                 0.906    Industrialized  unknown   \n",
      "3281                                 0.906    Industrialized  unknown   \n",
      "3282                                 0.906    Industrialized  unknown   \n",
      "\n",
      "     Host Age Category Host Age Decade Host Age Age Detail Level  \n",
      "2906           unknown         unknown  unknown               L1  \n",
      "2907           unknown         unknown  unknown               L1  \n",
      "2908           unknown         unknown  unknown               L1  \n",
      "2909           unknown         unknown  unknown               L1  \n",
      "2910           unknown         unknown  unknown               L1  \n",
      "...                ...             ...      ...              ...  \n",
      "3278           unknown         unknown  unknown               L1  \n",
      "3279           unknown         unknown  unknown               L1  \n",
      "3280           unknown         unknown  unknown               L1  \n",
      "3281           unknown         unknown  unknown               L1  \n",
      "3282           unknown         unknown  unknown               L1  \n",
      "\n",
      "[316 rows x 11 columns]\n"
     ]
    }
   ],
   "source": [
    "# Check if any excluded sample IDs are present in df1\n",
    "excluded_ids_in_df1 = df1['Sample ID'].isin(df3['ID'])\n",
    "\n",
    "if excluded_ids_in_df1.any():\n",
    "    print(\"Some excluded sample IDs are present in df1:\", df1[excluded_ids_in_df1])\n",
    "else:\n",
    "    print(\"All excluded sample IDs are NOT present in df1.\")"
   ],
   "metadata": {
    "collapsed": false,
    "ExecuteTime": {
     "end_time": "2024-06-26T08:22:27.069327Z",
     "start_time": "2024-06-26T08:22:27.035724Z"
    }
   },
   "id": "dd3097ce66c56166",
   "execution_count": 47
  },
  {
   "cell_type": "code",
   "outputs": [
    {
     "name": "stdout",
     "output_type": "stream",
     "text": [
      "Excluded sample IDs present in df1: ['ERR2505026', 'ERR2505027', 'ERR2505028', 'ERR2505029', 'ERR2505030', 'ERR2505031', 'ERR2505032', 'ERR2505033', 'ERR2505034', 'ERR2505035', 'ERR2505036', 'ERR2505037', 'ERR2505038', 'ERR2505039', 'ERR2505040', 'ERR2505041', 'ERR2505042', 'ERR2505043', 'ERR2505044', 'ERR2505045', 'ERR2505046', 'ERR2505047', 'ERR2505048', 'ERR2505049', 'ERR2505050', 'ERR2505051', 'ERR2505052', 'ERR2505053', 'ERR2505054', 'ERR2505055', 'ERR2505056', 'ERR2505057', 'ERR2505058', 'ERR2505059', 'ERR2505060', 'ERR2505061', 'ERR2505062', 'ERR2505063', 'ERR2505064', 'ERR2505065', 'ERR2505066', 'ERR2505067', 'ERR2505068', 'ERR2505069', 'ERR2505070', 'ERR2505071', 'ERR2505072', 'ERR2505073', 'ERR2505074', 'ERR2505075', 'ERR2505076', 'ERR2505077', 'ERR2505078', 'ERR2505079', 'ERR2505080', 'ERR2505081', 'ERR2505082', 'ERR2505083', 'ERR2505084', 'ERR2505085', 'ERR2505086', 'ERR2505087', 'ERR2505088', 'ERR2505089', 'ERR2505090', 'ERR2505091', 'ERR2505092', 'ERR2505093', 'ERR2505094', 'ERR2505095', 'ERR2505096', 'ERR2505097', 'ERR2505098', 'ERR2505099', 'ERR2505100', 'ERR2505101', 'ERR2505102', 'ERR2505103', 'ERR2505104', 'ERR2505105', 'ERR2505106', 'ERR2505107', 'ERR2505108', 'ERR2505109', 'ERR2505110', 'ERR2505111', 'ERR2505112', 'ERR2505113', 'ERR2505114', 'ERR2505115', 'ERR2505116', 'ERR2505117', 'ERR2505118', 'ERR2505119', 'ERR2505120', 'ERR2505121', 'ERR2505122', 'ERR2505123', 'ERR2505124', 'ERR2505125', 'ERR2505126', 'ERR2505127', 'ERR2505128', 'ERR2505129', 'ERR2505130', 'ERR2505131', 'ERR2505132', 'ERR2505133', 'ERR2505134', 'ERR2505135', 'ERR2505136', 'ERR2505137', 'ERR2505138', 'ERR2505139', 'ERR2505140', 'ERR2505141', 'ERR2505142', 'ERR2505143', 'ERR2505144', 'ERR2505145', 'ERR2505146', 'ERR2505147', 'ERR2505148', 'ERR2505149', 'ERR2505150', 'ERR2505151', 'ERR2505152', 'ERR2505153', 'ERR2505154', 'ERR2505155', 'ERR2505156', 'ERR2505157', 'ERR2505158', 'ERR2505159', 'ERR2505160', 'ERR2505161', 'ERR2505162', 'ERR2505163', 'ERR2505164', 'ERR2505165', 'ERR2505166', 'ERR2505167', 'ERR2505168', 'ERR2505169', 'ERR2505170', 'ERR2505171', 'ERR2505172', 'ERR2505173', 'ERR2505174', 'ERR2505175', 'ERR2505176', 'ERR2505177', 'ERR2505178', 'ERR2505179', 'ERR2505180', 'ERR2505181', 'ERR2505182', 'ERR2505183', 'ERR2505184', 'ERR2505185', 'ERR2505186', 'ERR2505187', 'ERR2505188', 'ERR2505189', 'ERR2505190', 'ERR2505191', 'ERR2505192', 'ERR2505193', 'ERR2505194', 'ERR2505195', 'ERR2505196', 'ERR2505197', 'ERR2505198', 'ERR2505199', 'ERR2505201', 'ERR2505202', 'ERR2505203', 'ERR2505204', 'ERR2505205', 'ERR2505207', 'ERR2505208', 'ERR2505209', 'ERR2505210', 'ERR2505211', 'ERR2505213', 'ERR2505214', 'ERR2505215', 'ERR2505216', 'ERR2505217', 'ERR2505219', 'ERR2505220', 'ERR2505221', 'ERR2505222', 'ERR2505223', 'ERR2505225', 'ERR2505226', 'ERR2505227', 'ERR2505228', 'ERR2505229', 'ERR2505231', 'ERR2505232', 'ERR2505233', 'ERR2505234', 'ERR2505235', 'ERR2505237', 'ERR2505238', 'ERR2505239', 'ERR2505240', 'ERR2505241', 'ERR2505243', 'ERR2505244', 'ERR2505245', 'ERR2505246', 'ERR2505247', 'ERR2505249', 'ERR2505250', 'ERR2505251', 'ERR2505252', 'ERR2505253', 'ERR2505255', 'ERR2505256', 'ERR2505257', 'ERR2505258', 'ERR2505259', 'ERR2505261', 'ERR2505262', 'ERR2505263', 'ERR2505264', 'ERR2505265', 'ERR2505267', 'ERR2505268', 'ERR2505269', 'ERR2505270', 'ERR2505271', 'ERR2505273', 'ERR2505274', 'ERR2505275', 'ERR2505276', 'ERR2505277', 'ERR2505279', 'ERR2505280', 'ERR2505281', 'ERR2505282', 'ERR2505283', 'ERR2505285', 'ERR2505286', 'ERR2505287', 'ERR2505288', 'ERR2505289', 'ERR2505291', 'ERR2505292', 'ERR2505293', 'ERR2505294', 'ERR2505295', 'ERR2505296', 'ERR2505297', 'ERR2505298', 'ERR2505299', 'ERR2505300', 'ERR2505301', 'ERR2505302', 'ERR2505303', 'ERR2505304', 'ERR2505305', 'ERR2505306', 'ERR2505307', 'ERR2505308', 'ERR2505309', 'ERR2505310', 'ERR2505356', 'ERR2505357', 'ERR2505358', 'ERR2505359', 'ERR2505360', 'ERR2505361', 'ERR2505362', 'ERR2505363', 'ERR2505364', 'ERR2505365', 'ERR2505366', 'ERR2505367', 'ERR2505368', 'ERR2505369', 'ERR2505370', 'ERR2505371', 'ERR2505372', 'ERR2505373', 'ERR2505374', 'ERR2505375', 'ERR2505376', 'ERR2505377', 'ERR2505378', 'ERR2505379', 'ERR2505380', 'ERR2505381', 'ERR2505382', 'ERR2505383', 'ERR2505384', 'ERR2505385', 'ERR2505386', 'ERR2505387', 'ERR2505388', 'ERR2505389', 'ERR2505390', 'ERR2505391', 'ERR2505392', 'ERR2505393', 'ERR2505394', 'ERR2505395', 'ERR2505396', 'ERR2505397', 'ERR2505398', 'ERR2505399', 'ERR2505400', 'ERR2505401', 'ERR2505402']\n",
      "316\n"
     ]
    }
   ],
   "source": [
    "# Filter df1 to get the rows with excluded sample ids\n",
    "excluded_samples_in_df1 = df1[excluded_ids_in_df1]\n",
    "# Print the exact sample ids that are excluded\n",
    "print(\"Excluded sample IDs present in df1:\", excluded_samples_in_df1['Sample ID'].tolist())\n",
    "print(len(excluded_samples_in_df1['Sample ID'].tolist()))"
   ],
   "metadata": {
    "collapsed": false,
    "ExecuteTime": {
     "end_time": "2024-06-26T08:36:57.515827Z",
     "start_time": "2024-06-26T08:36:57.507269Z"
    }
   },
   "id": "eccba435fd33bd59",
   "execution_count": 53
  },
  {
   "cell_type": "code",
   "outputs": [
    {
     "name": "stdout",
     "output_type": "stream",
     "text": [
      "True\n"
     ]
    }
   ],
   "source": [
    "# Check if excluded ids in df1 are those non-gut samples of PRJEB25916\n",
    "print(excluded_samples_in_df1['Sample ID'].isin(df4['PRJEB25916_non_gut']).all())\n",
    "\n",
    "# CHECK"
   ],
   "metadata": {
    "collapsed": false,
    "ExecuteTime": {
     "end_time": "2024-06-26T08:38:38.809431Z",
     "start_time": "2024-06-26T08:38:38.795782Z"
    }
   },
   "id": "f4c05ee8d19ed230",
   "execution_count": 55
  },
  {
   "cell_type": "markdown",
   "source": [
    "#### NEXT STEPs:\n",
    "- exclude 316 non-gut samples in PRJEB25916 from df1\n",
    "- add those 13 samples in df2 to df1"
   ],
   "metadata": {
    "collapsed": false
   },
   "id": "5309f0b7b3e70b8d"
  },
  {
   "cell_type": "code",
   "outputs": [
    {
     "name": "stdout",
     "output_type": "stream",
     "text": [
      "         Sample ID   Project ID Continent of Geolocation  \\\n",
      "0       CNS0407793   CNP0002114                     Asia   \n",
      "1       CNS0407794   CNP0002114                     Asia   \n",
      "2       CNS0407795   CNP0002114                     Asia   \n",
      "3       CNS0407796   CNP0002114                     Asia   \n",
      "4       CNS0407797   CNP0002114                     Asia   \n",
      "...            ...          ...                      ...   \n",
      "10455  SRR25014852  PRJNA987148                   Europe   \n",
      "10456  SRR25014853  PRJNA987148                   Europe   \n",
      "10457  SRR25014854  PRJNA987148                   Europe   \n",
      "10458  SRR25014855  PRJNA987148                   Europe   \n",
      "10459  SRR25014856  PRJNA987148                   Europe   \n",
      "\n",
      "      Country of Geolocation Country-level Human Development Index  \\\n",
      "0                      China                                 0.788   \n",
      "1                      China                                 0.788   \n",
      "2                      China                                 0.788   \n",
      "3                      China                                 0.788   \n",
      "4                      China                                 0.788   \n",
      "...                      ...                                   ...   \n",
      "10455                Germany                                 0.950   \n",
      "10456                Germany                                 0.950   \n",
      "10457                Germany                                 0.950   \n",
      "10458                Germany                                 0.950   \n",
      "10459                Germany                                 0.950   \n",
      "\n",
      "      Industrialization Host Sex Host Age Category Host Age Decade Host Age  \\\n",
      "0        Industrialized  unknown           unknown         unknown  unknown   \n",
      "1        Industrialized  unknown           unknown         unknown  unknown   \n",
      "2        Industrialized  unknown           unknown         unknown  unknown   \n",
      "3        Industrialized  unknown           unknown         unknown  unknown   \n",
      "4        Industrialized  unknown           unknown         unknown  unknown   \n",
      "...                 ...      ...               ...             ...      ...   \n",
      "10455    Industrialized  unknown           unknown         unknown  unknown   \n",
      "10456    Industrialized  unknown           unknown         unknown  unknown   \n",
      "10457    Industrialized  unknown           unknown         unknown  unknown   \n",
      "10458    Industrialized  unknown           unknown         unknown  unknown   \n",
      "10459    Industrialized  unknown           unknown         unknown  unknown   \n",
      "\n",
      "      Age Detail Level  \n",
      "0                   L2  \n",
      "1                   L2  \n",
      "2                   L2  \n",
      "3                   L2  \n",
      "4                   L2  \n",
      "...                ...  \n",
      "10455               L2  \n",
      "10456               L2  \n",
      "10457               L2  \n",
      "10458               L2  \n",
      "10459               L2  \n",
      "\n",
      "[10144 rows x 11 columns]\n"
     ]
    }
   ],
   "source": [
    "# Filter 316 samples from df1 and get a new df1\n",
    "filter_ids = df1['Sample ID'].isin(df3['ID'])\n",
    "\n",
    "new_df1 = df1[~filter_ids]\n",
    "# The ~ operator negates the boolean Series, converting True to False and False to True.\n",
    "# This step filters df1 to keep only the rows where filter_ids is False.\n",
    "\n",
    "print(new_df1)"
   ],
   "metadata": {
    "collapsed": false,
    "ExecuteTime": {
     "end_time": "2024-06-26T08:54:32.994820Z",
     "start_time": "2024-06-26T08:54:32.980580Z"
    }
   },
   "id": "43de7cb10effa8db",
   "execution_count": 59
  },
  {
   "cell_type": "code",
   "outputs": [
    {
     "data": {
      "text/plain": "(10460, 11)"
     },
     "execution_count": 62,
     "metadata": {},
     "output_type": "execute_result"
    }
   ],
   "source": [
    "df1.shape"
   ],
   "metadata": {
    "collapsed": false,
    "ExecuteTime": {
     "end_time": "2024-06-26T08:55:27.666531Z",
     "start_time": "2024-06-26T08:55:27.655629Z"
    }
   },
   "id": "fa4943dc7df88d1a",
   "execution_count": 62
  },
  {
   "cell_type": "code",
   "outputs": [
    {
     "data": {
      "text/plain": "(10144, 11)"
     },
     "execution_count": 61,
     "metadata": {},
     "output_type": "execute_result"
    }
   ],
   "source": [
    "new_df1.shape"
   ],
   "metadata": {
    "collapsed": false,
    "ExecuteTime": {
     "end_time": "2024-06-26T08:54:58.633151Z",
     "start_time": "2024-06-26T08:54:58.627327Z"
    }
   },
   "id": "72ddfd5eda2c659",
   "execution_count": 61
  },
  {
   "cell_type": "code",
   "outputs": [],
   "source": [
    "new_df1.to_csv(f'{data_dir}/minimal_metadata_updatedV1.tsv', sep='\\t', index=False)"
   ],
   "metadata": {
    "collapsed": false,
    "ExecuteTime": {
     "end_time": "2024-06-26T08:56:49.503669Z",
     "start_time": "2024-06-26T08:56:49.449996Z"
    }
   },
   "id": "6f5627ae97f43fe7",
   "execution_count": 63
  },
  {
   "cell_type": "markdown",
   "source": [
    "#### The 13 samples are manually added into the \"minimal_metadata_updatedV1\" file. Also, some more information regarding geolocation are added. Now I have the \"minimal_metadata_updatedV2\" file."
   ],
   "metadata": {
    "collapsed": false
   },
   "id": "c3eed1c5e8c873cf"
  },
  {
   "cell_type": "markdown",
   "source": [
    "### Read the dataframes again"
   ],
   "metadata": {
    "collapsed": false
   },
   "id": "38f4e30cd524b53e"
  },
  {
   "cell_type": "code",
   "outputs": [],
   "source": [
    "df_metadataV2 = pd.read_csv(f'{data_dir}/minimal_metadata_updatedV2.tsv', sep='\\t')\n",
    "df_final_list = pd.read_csv(f'{data_dir}/final-projects-samples.tsv', sep='\\t')"
   ],
   "metadata": {
    "collapsed": false,
    "ExecuteTime": {
     "end_time": "2024-06-26T15:24:31.009255Z",
     "start_time": "2024-06-26T15:24:30.946036Z"
    }
   },
   "id": "60fff3c1cd9bed5b",
   "execution_count": 64
  },
  {
   "cell_type": "code",
   "outputs": [
    {
     "data": {
      "text/plain": "    Sample ID  Project ID Continent of Geolocation Country of Geolocation  \\\n0  CNS0407793  CNP0002114                     Asia                  China   \n1  CNS0407794  CNP0002114                     Asia                  China   \n2  CNS0407795  CNP0002114                     Asia                  China   \n3  CNS0407796  CNP0002114                     Asia                  China   \n4  CNS0407797  CNP0002114                     Asia                  China   \n\n  Country-level Human Development Index Industrialization Host Sex  \\\n0                                 0.788    Industrialized  unknown   \n1                                 0.788    Industrialized  unknown   \n2                                 0.788    Industrialized  unknown   \n3                                 0.788    Industrialized  unknown   \n4                                 0.788    Industrialized  unknown   \n\n  Host Age Category Host Age Decade Host Age Age Detail Level  \n0           unknown         unknown  unknown               L2  \n1           unknown         unknown  unknown               L2  \n2           unknown         unknown  unknown               L2  \n3           unknown         unknown  unknown               L2  \n4           unknown         unknown  unknown               L2  ",
      "text/html": "<div>\n<style scoped>\n    .dataframe tbody tr th:only-of-type {\n        vertical-align: middle;\n    }\n\n    .dataframe tbody tr th {\n        vertical-align: top;\n    }\n\n    .dataframe thead th {\n        text-align: right;\n    }\n</style>\n<table border=\"1\" class=\"dataframe\">\n  <thead>\n    <tr style=\"text-align: right;\">\n      <th></th>\n      <th>Sample ID</th>\n      <th>Project ID</th>\n      <th>Continent of Geolocation</th>\n      <th>Country of Geolocation</th>\n      <th>Country-level Human Development Index</th>\n      <th>Industrialization</th>\n      <th>Host Sex</th>\n      <th>Host Age Category</th>\n      <th>Host Age Decade</th>\n      <th>Host Age</th>\n      <th>Age Detail Level</th>\n    </tr>\n  </thead>\n  <tbody>\n    <tr>\n      <th>0</th>\n      <td>CNS0407793</td>\n      <td>CNP0002114</td>\n      <td>Asia</td>\n      <td>China</td>\n      <td>0.788</td>\n      <td>Industrialized</td>\n      <td>unknown</td>\n      <td>unknown</td>\n      <td>unknown</td>\n      <td>unknown</td>\n      <td>L2</td>\n    </tr>\n    <tr>\n      <th>1</th>\n      <td>CNS0407794</td>\n      <td>CNP0002114</td>\n      <td>Asia</td>\n      <td>China</td>\n      <td>0.788</td>\n      <td>Industrialized</td>\n      <td>unknown</td>\n      <td>unknown</td>\n      <td>unknown</td>\n      <td>unknown</td>\n      <td>L2</td>\n    </tr>\n    <tr>\n      <th>2</th>\n      <td>CNS0407795</td>\n      <td>CNP0002114</td>\n      <td>Asia</td>\n      <td>China</td>\n      <td>0.788</td>\n      <td>Industrialized</td>\n      <td>unknown</td>\n      <td>unknown</td>\n      <td>unknown</td>\n      <td>unknown</td>\n      <td>L2</td>\n    </tr>\n    <tr>\n      <th>3</th>\n      <td>CNS0407796</td>\n      <td>CNP0002114</td>\n      <td>Asia</td>\n      <td>China</td>\n      <td>0.788</td>\n      <td>Industrialized</td>\n      <td>unknown</td>\n      <td>unknown</td>\n      <td>unknown</td>\n      <td>unknown</td>\n      <td>L2</td>\n    </tr>\n    <tr>\n      <th>4</th>\n      <td>CNS0407797</td>\n      <td>CNP0002114</td>\n      <td>Asia</td>\n      <td>China</td>\n      <td>0.788</td>\n      <td>Industrialized</td>\n      <td>unknown</td>\n      <td>unknown</td>\n      <td>unknown</td>\n      <td>unknown</td>\n      <td>L2</td>\n    </tr>\n  </tbody>\n</table>\n</div>"
     },
     "execution_count": 68,
     "metadata": {},
     "output_type": "execute_result"
    }
   ],
   "source": [
    "df_metadataV2.head()"
   ],
   "metadata": {
    "collapsed": false,
    "ExecuteTime": {
     "end_time": "2024-06-26T15:31:17.733843Z",
     "start_time": "2024-06-26T15:31:17.718787Z"
    }
   },
   "id": "bddc2df9a39ec3fc",
   "execution_count": 68
  },
  {
   "cell_type": "code",
   "outputs": [
    {
     "data": {
      "text/plain": "(10157, 11)"
     },
     "execution_count": 65,
     "metadata": {},
     "output_type": "execute_result"
    }
   ],
   "source": [
    "df_metadataV2.shape"
   ],
   "metadata": {
    "collapsed": false,
    "ExecuteTime": {
     "end_time": "2024-06-26T15:24:37.637433Z",
     "start_time": "2024-06-26T15:24:37.632441Z"
    }
   },
   "id": "14d61d56b9374269",
   "execution_count": 65
  },
  {
   "cell_type": "code",
   "outputs": [
    {
     "data": {
      "text/plain": "10057"
     },
     "execution_count": 70,
     "metadata": {},
     "output_type": "execute_result"
    }
   ],
   "source": [
    "len(df_metadataV2['Sample ID'].unique())"
   ],
   "metadata": {
    "collapsed": false,
    "ExecuteTime": {
     "end_time": "2024-06-26T15:32:14.970295Z",
     "start_time": "2024-06-26T15:32:14.946713Z"
    }
   },
   "id": "86358581a5a54518",
   "execution_count": 70
  },
  {
   "cell_type": "code",
   "outputs": [
    {
     "name": "stdout",
     "output_type": "stream",
     "text": [
      "Non-unique sample IDs: ['SRR8536934', 'SRR8536981', 'SRR8536921', 'SRR8536920', 'SRR8536919', 'SRR8536918', 'SRR8536917', 'SRR8536916', 'SRR8536915', 'SRR8536914', 'SRR8536913', 'SRR8536962', 'SRR8536911', 'SRR8536964', 'SRR8536965', 'SRR8536966', 'SRR8536967', 'SRR8536968', 'SRR8536969', 'SRR8536970', 'SRR8536971', 'SRR8536972', 'SRR8536973', 'SRR8536974', 'SRR8536975', 'SRR8536976', 'SRR8536977', 'SRR8536978', 'SRR8536979', 'SRR8536923', 'SRR8536924', 'SRR8536925', 'SRR8536942', 'SRR8536956', 'SRR8536955', 'SRR8536954', 'SRR8536953', 'SRR8536952', 'SRR8536963', 'SRR8536951', 'SRR8536950', 'SRR8536949', 'SRR8536948', 'SRR8536945', 'SRR8536944', 'SRR8536940', 'SRR8536946', 'SRR8536939', 'SRR8536938', 'SRR8536937', 'SRR8536936', 'SRR8536961', 'SRR8536947', 'SRR8536933', 'SRR8536932', 'SRR8536929', 'SRR8536928', 'SRR8536935', 'SRR8536927', 'SRR8536980', 'SRR8536982', 'SRR8536959', 'SRR8537024', 'SRR8537014', 'SRR8537016', 'SRR8537017', 'SRR8537019', 'SRR8537020', 'SRR8537021', 'SRR8537022', 'SRR8537148', 'SRR8537023', 'SRR8537154', 'SRR8537155', 'SRR8537149', 'SRR8537150', 'SRR8537153', 'SRR8537151', 'SRR8537152', 'SRR8537013', 'SRR8537025', 'SRR8537018', 'SRR8537000', 'SRR8537011', 'SRR8536984', 'SRR8536986', 'SRR8536987', 'SRR8536996', 'SRR8536997', 'SRR8536998', 'SRR8536999', 'SRR8536958', 'SRR8537010', 'SRR8537003', 'SRR8537004', 'SRR8537005', 'SRR8537006', 'SRR8537007', 'SRR8537008', 'SRR8537002']\n"
     ]
    }
   ],
   "source": [
    "id_counts = df_metadataV2['Sample ID'].value_counts()\n",
    "\n",
    "# Filter IDs that appear more than once\n",
    "non_unique_ids = id_counts[id_counts > 1].index.tolist()\n",
    "print(\"Non-unique sample IDs:\", non_unique_ids)"
   ],
   "metadata": {
    "collapsed": false,
    "ExecuteTime": {
     "end_time": "2024-06-26T15:36:42.653391Z",
     "start_time": "2024-06-26T15:36:42.632493Z"
    }
   },
   "id": "14c1e9f8b53304d1",
   "execution_count": 73
  },
  {
   "cell_type": "code",
   "outputs": [
    {
     "data": {
      "text/plain": "100"
     },
     "execution_count": 74,
     "metadata": {},
     "output_type": "execute_result"
    }
   ],
   "source": [
    "len(non_unique_ids)"
   ],
   "metadata": {
    "collapsed": false,
    "ExecuteTime": {
     "end_time": "2024-06-26T15:50:36.945215Z",
     "start_time": "2024-06-26T15:50:36.916126Z"
    }
   },
   "id": "c38468f5814bf911",
   "execution_count": 74
  },
  {
   "cell_type": "markdown",
   "source": [
    "There are 100 duplicated samples in PRJNA517994.\n",
    "- excluded."
   ],
   "metadata": {
    "collapsed": false
   },
   "id": "72fb3f63fe03f5da"
  },
  {
   "cell_type": "code",
   "outputs": [
    {
     "data": {
      "text/plain": "67"
     },
     "execution_count": 82,
     "metadata": {},
     "output_type": "execute_result"
    }
   ],
   "source": [
    "len(df_metadataV2['Project ID'].unique())"
   ],
   "metadata": {
    "collapsed": false,
    "ExecuteTime": {
     "end_time": "2024-06-26T16:24:26.080905Z",
     "start_time": "2024-06-26T16:24:26.067649Z"
    }
   },
   "id": "f3525a361387a3c1",
   "execution_count": 82
  },
  {
   "cell_type": "markdown",
   "source": [
    "#### The 100 duplicated samples were manually deleted from the \"minimal_metadata_updatedV2\" file. Now I have the \"minimal_metadata_updatedV3\" file."
   ],
   "metadata": {
    "collapsed": false
   },
   "id": "da46ce367578e391"
  },
  {
   "cell_type": "code",
   "outputs": [],
   "source": [
    "df_metadataV3 = pd.read_csv(f'{data_dir}/minimal_metadata_updatedV3.tsv', sep='\\t')"
   ],
   "metadata": {
    "collapsed": false,
    "ExecuteTime": {
     "end_time": "2024-06-26T16:27:15.043086Z",
     "start_time": "2024-06-26T16:27:14.992464Z"
    }
   },
   "id": "b51f0814e17aa588",
   "execution_count": 83
  },
  {
   "cell_type": "code",
   "outputs": [
    {
     "data": {
      "text/plain": "(10057, 11)"
     },
     "execution_count": 84,
     "metadata": {},
     "output_type": "execute_result"
    }
   ],
   "source": [
    "df_metadataV3.shape"
   ],
   "metadata": {
    "collapsed": false,
    "ExecuteTime": {
     "end_time": "2024-06-26T16:27:16.294142Z",
     "start_time": "2024-06-26T16:27:16.287771Z"
    }
   },
   "id": "6604a5701f890fe1",
   "execution_count": 84
  },
  {
   "cell_type": "code",
   "outputs": [
    {
     "name": "stdout",
     "output_type": "stream",
     "text": [
      "67\n",
      "10057\n"
     ]
    }
   ],
   "source": [
    "print(len(df_metadataV3['Project ID'].unique()))\n",
    "print(len(df_metadataV3['Sample ID'].unique()))"
   ],
   "metadata": {
    "collapsed": false,
    "ExecuteTime": {
     "end_time": "2024-06-26T16:28:15.255466Z",
     "start_time": "2024-06-26T16:28:15.245900Z"
    }
   },
   "id": "f97566b14838cc00",
   "execution_count": 86
  },
  {
   "cell_type": "markdown",
   "source": [
    "10057 is the sample number that we had before any data processing. They are raw data downloaded from various databases."
   ],
   "metadata": {
    "collapsed": false
   },
   "id": "e6cfe6051450a802"
  },
  {
   "cell_type": "markdown",
   "source": [
    "#### The final projects-samples list"
   ],
   "metadata": {
    "collapsed": false
   },
   "id": "289950385089a960"
  },
  {
   "cell_type": "code",
   "outputs": [
    {
     "data": {
      "text/plain": "              Project ID Sample ID\n0  autism-paper_35966698       F17\n1  autism-paper_35966698       F28\n2  autism-paper_35966698       F23\n3  autism-paper_35966698       F14\n4  autism-paper_35966698        F6",
      "text/html": "<div>\n<style scoped>\n    .dataframe tbody tr th:only-of-type {\n        vertical-align: middle;\n    }\n\n    .dataframe tbody tr th {\n        vertical-align: top;\n    }\n\n    .dataframe thead th {\n        text-align: right;\n    }\n</style>\n<table border=\"1\" class=\"dataframe\">\n  <thead>\n    <tr style=\"text-align: right;\">\n      <th></th>\n      <th>Project ID</th>\n      <th>Sample ID</th>\n    </tr>\n  </thead>\n  <tbody>\n    <tr>\n      <th>0</th>\n      <td>autism-paper_35966698</td>\n      <td>F17</td>\n    </tr>\n    <tr>\n      <th>1</th>\n      <td>autism-paper_35966698</td>\n      <td>F28</td>\n    </tr>\n    <tr>\n      <th>2</th>\n      <td>autism-paper_35966698</td>\n      <td>F23</td>\n    </tr>\n    <tr>\n      <th>3</th>\n      <td>autism-paper_35966698</td>\n      <td>F14</td>\n    </tr>\n    <tr>\n      <th>4</th>\n      <td>autism-paper_35966698</td>\n      <td>F6</td>\n    </tr>\n  </tbody>\n</table>\n</div>"
     },
     "execution_count": 71,
     "metadata": {},
     "output_type": "execute_result"
    }
   ],
   "source": [
    "df_final_list.head()"
   ],
   "metadata": {
    "collapsed": false,
    "ExecuteTime": {
     "end_time": "2024-06-26T15:32:51.167891Z",
     "start_time": "2024-06-26T15:32:51.158355Z"
    }
   },
   "id": "a4649b593612f234",
   "execution_count": 71
  },
  {
   "cell_type": "code",
   "outputs": [
    {
     "data": {
      "text/plain": "(10055, 2)"
     },
     "execution_count": 67,
     "metadata": {},
     "output_type": "execute_result"
    }
   ],
   "source": [
    "df_final_list.shape"
   ],
   "metadata": {
    "collapsed": false,
    "ExecuteTime": {
     "end_time": "2024-06-26T15:25:10.003364Z",
     "start_time": "2024-06-26T15:25:09.997406Z"
    }
   },
   "id": "833873b2679f8e1b",
   "execution_count": 67
  },
  {
   "cell_type": "code",
   "outputs": [
    {
     "name": "stdout",
     "output_type": "stream",
     "text": [
      "67\n",
      "10055\n"
     ]
    }
   ],
   "source": [
    "print(len(df_final_list['Project ID'].unique()))\n",
    "print(len(df_final_list['Sample ID'].unique()))"
   ],
   "metadata": {
    "collapsed": false,
    "ExecuteTime": {
     "end_time": "2024-06-26T16:30:14.111064Z",
     "start_time": "2024-06-26T16:30:14.102133Z"
    }
   },
   "id": "385d97c864083158",
   "execution_count": 88
  },
  {
   "cell_type": "markdown",
   "source": [
    "10055 is the sample number obtained from our merged feature table. It is at the point after dada2 denoising step."
   ],
   "metadata": {
    "collapsed": false
   },
   "id": "819072497b6dae48"
  },
  {
   "cell_type": "markdown",
   "source": [
    "### Compare our current metadata with the final list"
   ],
   "metadata": {
    "collapsed": false
   },
   "id": "9b52efac5953b451"
  },
  {
   "cell_type": "code",
   "outputs": [
    {
     "name": "stdout",
     "output_type": "stream",
     "text": [
      "True\n",
      "True\n"
     ]
    }
   ],
   "source": [
    "# Check projects:\n",
    "print(df_metadataV3['Project ID'].isin(df_final_list['Project ID']).all())\n",
    "print(df_final_list['Project ID'].isin(df_metadataV3['Project ID']).all())\n",
    "\n",
    "# GOOD"
   ],
   "metadata": {
    "collapsed": false,
    "ExecuteTime": {
     "end_time": "2024-06-26T16:37:31.037237Z",
     "start_time": "2024-06-26T16:37:31.018367Z"
    }
   },
   "id": "b3ff92a6b89e0db4",
   "execution_count": 89
  },
  {
   "cell_type": "code",
   "outputs": [
    {
     "name": "stdout",
     "output_type": "stream",
     "text": [
      "True\n",
      "False\n"
     ]
    }
   ],
   "source": [
    "print(df_final_list['Sample ID'].isin(df_metadataV3['Sample ID']).all())\n",
    "print(df_metadataV3['Sample ID'].isin(df_final_list['Sample ID']).all())\n",
    "\n",
    "# metadata has 2 more samples than the final list."
   ],
   "metadata": {
    "collapsed": false,
    "ExecuteTime": {
     "end_time": "2024-06-26T16:40:02.384508Z",
     "start_time": "2024-06-26T16:40:02.375771Z"
    }
   },
   "id": "60292e5f563ce534",
   "execution_count": 91
  },
  {
   "cell_type": "code",
   "outputs": [
    {
     "name": "stdout",
     "output_type": "stream",
     "text": [
      "2\n",
      "Lost Sample IDs in the final list: {'SRR15531435', 'SRR19047765'}\n"
     ]
    }
   ],
   "source": [
    "# Find lost Sample IDs in the final list\n",
    "lost_ids_metadata = set(df_metadataV3['Sample ID']) - set(df_final_list['Sample ID'])\n",
    "\n",
    "print(len(lost_ids_metadata))\n",
    "print(\"Lost Sample IDs in the final list:\", lost_ids_metadata)"
   ],
   "metadata": {
    "collapsed": false,
    "ExecuteTime": {
     "end_time": "2024-06-26T16:42:01.483574Z",
     "start_time": "2024-06-26T16:42:01.469421Z"
    }
   },
   "id": "125808f25780f8bc",
   "execution_count": 92
  },
  {
   "cell_type": "markdown",
   "source": [
    "It seems that there are only 2 samples lost during our QIIME2 data processing steps.\n",
    "I would say it is reasonable."
   ],
   "metadata": {
    "collapsed": false
   },
   "id": "6bea5bfc273aef3e"
  },
  {
   "cell_type": "markdown",
   "source": [
    "#### Manually removed these 2 samples from the metadata and now we have our \"minimal_metadata_final\" file！"
   ],
   "metadata": {
    "collapsed": false
   },
   "id": "bedaee4dfc1e2c8a"
  },
  {
   "cell_type": "code",
   "outputs": [],
   "source": [],
   "metadata": {
    "collapsed": false
   },
   "id": "cfd3e5e6122fb623"
  }
 ],
 "metadata": {
  "kernelspec": {
   "display_name": "Python 3",
   "language": "python",
   "name": "python3"
  },
  "language_info": {
   "codemirror_mode": {
    "name": "ipython",
    "version": 2
   },
   "file_extension": ".py",
   "mimetype": "text/x-python",
   "name": "python",
   "nbconvert_exporter": "python",
   "pygments_lexer": "ipython2",
   "version": "2.7.6"
  }
 },
 "nbformat": 4,
 "nbformat_minor": 5
}
