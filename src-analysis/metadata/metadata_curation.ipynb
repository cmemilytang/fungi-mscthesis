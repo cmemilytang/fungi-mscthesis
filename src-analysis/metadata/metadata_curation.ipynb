{
 "cells": [
  {
   "cell_type": "markdown",
   "source": [
    "### Checkpoint 08/04/2024"
   ],
   "metadata": {
    "collapsed": false
   },
   "id": "711e5c1cc3f3ac41"
  },
  {
   "cell_type": "code",
   "execution_count": 1,
   "id": "initial_id",
   "metadata": {
    "collapsed": true,
    "ExecuteTime": {
     "end_time": "2024-09-01T17:25:06.795182Z",
     "start_time": "2024-09-01T17:25:06.424426Z"
    }
   },
   "outputs": [],
   "source": [
    "import pandas as pd "
   ]
  },
  {
   "cell_type": "code",
   "outputs": [],
   "source": [
    "data_dir = \"/Users/cheesemania/PycharmProjects/mscthesis_wrkdir/metadata\""
   ],
   "metadata": {
    "collapsed": false,
    "ExecuteTime": {
     "end_time": "2024-09-01T17:25:08.882057Z",
     "start_time": "2024-09-01T17:25:08.879326Z"
    }
   },
   "id": "8fddb571fc53338e",
   "execution_count": 2
  },
  {
   "cell_type": "code",
   "outputs": [],
   "source": [
    "# Metadata of all samples\n",
    "df = pd.read_csv(f'{data_dir}/metadata_0804.tsv', sep='\\t')"
   ],
   "metadata": {
    "collapsed": false,
    "ExecuteTime": {
     "end_time": "2024-08-04T11:59:48.957038Z",
     "start_time": "2024-08-04T11:59:48.908401Z"
    }
   },
   "id": "72769e61aa77651d",
   "execution_count": 18
  },
  {
   "cell_type": "code",
   "outputs": [
    {
     "data": {
      "text/plain": "    Sample ID  Project ID Health Status Disease Subgroup  \\\n0  CNS0407793  CNP0002114       Unknown          Unknown   \n1  CNS0407794  CNP0002114       Unknown          Unknown   \n2  CNS0407795  CNP0002114       Unknown          Unknown   \n3  CNS0407796  CNP0002114       Unknown          Unknown   \n4  CNS0407797  CNP0002114       Unknown          Unknown   \n5  CNS0407798  CNP0002114       Unknown          Unknown   \n6  CNS0407799  CNP0002114       Unknown          Unknown   \n7  CNS0407800  CNP0002114       Unknown          Unknown   \n8  CNS0407801  CNP0002114       Unknown          Unknown   \n9  CNS0407802  CNP0002114       Unknown          Unknown   \n\n  Continent of Geolocation Country of Geolocation     Region       City  \\\n0                     Asia                  China  Guangdong  Guangzhou   \n1                     Asia                  China  Guangdong  Guangzhou   \n2                     Asia                  China  Guangdong  Guangzhou   \n3                     Asia                  China  Guangdong  Guangzhou   \n4                     Asia                  China  Guangdong  Guangzhou   \n5                     Asia                  China  Guangdong  Guangzhou   \n6                     Asia                  China  Guangdong  Guangzhou   \n7                     Asia                  China  Guangdong  Guangzhou   \n8                     Asia                  China  Guangdong  Guangzhou   \n9                     Asia                  China  Guangdong  Guangzhou   \n\n  Host Sex Host Age Category Host Age Decade Host Age Age Detail Level  \n0  Unknown           Unknown         Unknown  Unknown               L2  \n1  Unknown           Unknown         Unknown  Unknown               L2  \n2  Unknown           Unknown         Unknown  Unknown               L2  \n3  Unknown           Unknown         Unknown  Unknown               L2  \n4  Unknown           Unknown         Unknown  Unknown               L2  \n5  Unknown           Unknown         Unknown  Unknown               L2  \n6  Unknown           Unknown         Unknown  Unknown               L2  \n7  Unknown           Unknown         Unknown  Unknown               L2  \n8  Unknown           Unknown         Unknown  Unknown               L2  \n9  Unknown           Unknown         Unknown  Unknown               L2  ",
      "text/html": "<div>\n<style scoped>\n    .dataframe tbody tr th:only-of-type {\n        vertical-align: middle;\n    }\n\n    .dataframe tbody tr th {\n        vertical-align: top;\n    }\n\n    .dataframe thead th {\n        text-align: right;\n    }\n</style>\n<table border=\"1\" class=\"dataframe\">\n  <thead>\n    <tr style=\"text-align: right;\">\n      <th></th>\n      <th>Sample ID</th>\n      <th>Project ID</th>\n      <th>Health Status</th>\n      <th>Disease Subgroup</th>\n      <th>Continent of Geolocation</th>\n      <th>Country of Geolocation</th>\n      <th>Region</th>\n      <th>City</th>\n      <th>Host Sex</th>\n      <th>Host Age Category</th>\n      <th>Host Age Decade</th>\n      <th>Host Age</th>\n      <th>Age Detail Level</th>\n    </tr>\n  </thead>\n  <tbody>\n    <tr>\n      <th>0</th>\n      <td>CNS0407793</td>\n      <td>CNP0002114</td>\n      <td>Unknown</td>\n      <td>Unknown</td>\n      <td>Asia</td>\n      <td>China</td>\n      <td>Guangdong</td>\n      <td>Guangzhou</td>\n      <td>Unknown</td>\n      <td>Unknown</td>\n      <td>Unknown</td>\n      <td>Unknown</td>\n      <td>L2</td>\n    </tr>\n    <tr>\n      <th>1</th>\n      <td>CNS0407794</td>\n      <td>CNP0002114</td>\n      <td>Unknown</td>\n      <td>Unknown</td>\n      <td>Asia</td>\n      <td>China</td>\n      <td>Guangdong</td>\n      <td>Guangzhou</td>\n      <td>Unknown</td>\n      <td>Unknown</td>\n      <td>Unknown</td>\n      <td>Unknown</td>\n      <td>L2</td>\n    </tr>\n    <tr>\n      <th>2</th>\n      <td>CNS0407795</td>\n      <td>CNP0002114</td>\n      <td>Unknown</td>\n      <td>Unknown</td>\n      <td>Asia</td>\n      <td>China</td>\n      <td>Guangdong</td>\n      <td>Guangzhou</td>\n      <td>Unknown</td>\n      <td>Unknown</td>\n      <td>Unknown</td>\n      <td>Unknown</td>\n      <td>L2</td>\n    </tr>\n    <tr>\n      <th>3</th>\n      <td>CNS0407796</td>\n      <td>CNP0002114</td>\n      <td>Unknown</td>\n      <td>Unknown</td>\n      <td>Asia</td>\n      <td>China</td>\n      <td>Guangdong</td>\n      <td>Guangzhou</td>\n      <td>Unknown</td>\n      <td>Unknown</td>\n      <td>Unknown</td>\n      <td>Unknown</td>\n      <td>L2</td>\n    </tr>\n    <tr>\n      <th>4</th>\n      <td>CNS0407797</td>\n      <td>CNP0002114</td>\n      <td>Unknown</td>\n      <td>Unknown</td>\n      <td>Asia</td>\n      <td>China</td>\n      <td>Guangdong</td>\n      <td>Guangzhou</td>\n      <td>Unknown</td>\n      <td>Unknown</td>\n      <td>Unknown</td>\n      <td>Unknown</td>\n      <td>L2</td>\n    </tr>\n    <tr>\n      <th>5</th>\n      <td>CNS0407798</td>\n      <td>CNP0002114</td>\n      <td>Unknown</td>\n      <td>Unknown</td>\n      <td>Asia</td>\n      <td>China</td>\n      <td>Guangdong</td>\n      <td>Guangzhou</td>\n      <td>Unknown</td>\n      <td>Unknown</td>\n      <td>Unknown</td>\n      <td>Unknown</td>\n      <td>L2</td>\n    </tr>\n    <tr>\n      <th>6</th>\n      <td>CNS0407799</td>\n      <td>CNP0002114</td>\n      <td>Unknown</td>\n      <td>Unknown</td>\n      <td>Asia</td>\n      <td>China</td>\n      <td>Guangdong</td>\n      <td>Guangzhou</td>\n      <td>Unknown</td>\n      <td>Unknown</td>\n      <td>Unknown</td>\n      <td>Unknown</td>\n      <td>L2</td>\n    </tr>\n    <tr>\n      <th>7</th>\n      <td>CNS0407800</td>\n      <td>CNP0002114</td>\n      <td>Unknown</td>\n      <td>Unknown</td>\n      <td>Asia</td>\n      <td>China</td>\n      <td>Guangdong</td>\n      <td>Guangzhou</td>\n      <td>Unknown</td>\n      <td>Unknown</td>\n      <td>Unknown</td>\n      <td>Unknown</td>\n      <td>L2</td>\n    </tr>\n    <tr>\n      <th>8</th>\n      <td>CNS0407801</td>\n      <td>CNP0002114</td>\n      <td>Unknown</td>\n      <td>Unknown</td>\n      <td>Asia</td>\n      <td>China</td>\n      <td>Guangdong</td>\n      <td>Guangzhou</td>\n      <td>Unknown</td>\n      <td>Unknown</td>\n      <td>Unknown</td>\n      <td>Unknown</td>\n      <td>L2</td>\n    </tr>\n    <tr>\n      <th>9</th>\n      <td>CNS0407802</td>\n      <td>CNP0002114</td>\n      <td>Unknown</td>\n      <td>Unknown</td>\n      <td>Asia</td>\n      <td>China</td>\n      <td>Guangdong</td>\n      <td>Guangzhou</td>\n      <td>Unknown</td>\n      <td>Unknown</td>\n      <td>Unknown</td>\n      <td>Unknown</td>\n      <td>L2</td>\n    </tr>\n  </tbody>\n</table>\n</div>"
     },
     "execution_count": 19,
     "metadata": {},
     "output_type": "execute_result"
    }
   ],
   "source": [
    "df.head(10)"
   ],
   "metadata": {
    "collapsed": false,
    "ExecuteTime": {
     "end_time": "2024-08-04T11:59:50.092355Z",
     "start_time": "2024-08-04T11:59:50.074447Z"
    }
   },
   "id": "950ff511ceab0d6f",
   "execution_count": 19
  },
  {
   "cell_type": "code",
   "outputs": [
    {
     "data": {
      "text/plain": "(10055, 13)"
     },
     "execution_count": 20,
     "metadata": {},
     "output_type": "execute_result"
    }
   ],
   "source": [
    "df.shape"
   ],
   "metadata": {
    "collapsed": false,
    "ExecuteTime": {
     "end_time": "2024-08-04T11:59:53.927201Z",
     "start_time": "2024-08-04T11:59:53.919977Z"
    }
   },
   "id": "af43c2b8892cd10e",
   "execution_count": 20
  },
  {
   "cell_type": "markdown",
   "source": [
    "### Health Status"
   ],
   "metadata": {
    "collapsed": false
   },
   "id": "348ac5c8207df01e"
  },
  {
   "cell_type": "code",
   "outputs": [
    {
     "name": "stdout",
     "output_type": "stream",
     "text": [
      "Unknown                                                  3290\n",
      "Healthy                                                  2470\n",
      "Allo-HCT patient                                         1567\n",
      "Inflammatory bowel disease (IBD)                          309\n",
      "Clostridioides difficile infection (CDI)                  252\n",
      "COVID-19                                                  212\n",
      "Rheumatoid arthritis (RA)                                 176\n",
      "Alcohol use disorder (AUD)                                152\n",
      "Crohn's disease (CD)                                      139\n",
      "Ulcerative colitis                                        110\n",
      "Type 1 diabetes (T1D)                                     103\n",
      "Anorexia nervosa                                           94\n",
      "Chronic kidney disease (CKD)                               90\n",
      "Irritable bowel syndrome                                   80\n",
      "Non-alcoholic fatty liver disease                          78\n",
      "Alcoholic hepatitis                                        70\n",
      "Hydatid disease (HD)                                       63\n",
      "Overweight                                                 48\n",
      "Gestational diabetes mellitus (GDM)                        46\n",
      "Type 2 diabetes mellitus (T2DM)                            39\n",
      "H1N1                                                       32\n",
      "Morbidly obese                                             32\n",
      "Autism spectrum disorder (ASD)                             31\n",
      "Preterm infant                                             30\n",
      "Cancer                                                     26\n",
      "Diabetic retinopathy (DR)                                  24\n",
      "HIV                                                        24\n",
      "COVID-19-negative                                          23\n",
      "Primary sclerosing cholangitis and Ulcerative colitis      23\n",
      "Melanoma                                                   20\n",
      "Pancreatic ductal adenocarcinoma (PDA)                     18\n",
      "Hirschsprung disease (HSCR)                                17\n",
      "Atopic dermatitis                                          17\n",
      "early-stage lung cancer                                    15\n",
      "Metabolic syndrome                                         13\n",
      "Non-progressive alcoholic liver disease                     5\n",
      "mock communities                                            4\n",
      "Alcoholic cirrhosis                                         1\n",
      "Name: Health Status, dtype: int64\n"
     ]
    }
   ],
   "source": [
    "disease_types = df['Health Status'].value_counts()\n",
    "print(disease_types)"
   ],
   "metadata": {
    "collapsed": false,
    "ExecuteTime": {
     "end_time": "2024-08-04T12:00:06.118848Z",
     "start_time": "2024-08-04T12:00:06.111024Z"
    }
   },
   "id": "25d6e89c4ff4ffb2",
   "execution_count": 21
  },
  {
   "cell_type": "markdown",
   "source": [
    "#### Notes:\n",
    "All \"Clostridium difficile infection (CDI)\" were changed to \"Clostridioides difficile infection (CDI)\";\n",
    "\n",
    "All \"Type 2 diabetes (T2D)\" were changed to \"Type 2 diabetes mellitus (T2DM)\"."
   ],
   "metadata": {
    "collapsed": false
   },
   "id": "34d56a43fdc25fb4"
  },
  {
   "cell_type": "markdown",
   "source": [
    "**Alcohol-Related Conditions:**\n",
    "- Alcohol Use Disorder (AUD)\n",
    "- Alcoholic Hepatitis\n",
    "- Non-progressive Alcoholic Liver Disease\n",
    "- Alcoholic Cirrhosis\n",
    "\n",
    "**Non-Alcohol-Related Conditions:**\n",
    "- Non-Alcoholic Fatty Liver Disease (NAFLD)"
   ],
   "metadata": {
    "collapsed": false
   },
   "id": "141012dc1d834936"
  },
  {
   "cell_type": "code",
   "outputs": [
    {
     "name": "stdout",
     "output_type": "stream",
     "text": [
      "Health Status\n",
      "Alcohol use disorder (AUD)                                2\n",
      "Alcoholic cirrhosis                                       1\n",
      "Alcoholic hepatitis                                       1\n",
      "Allo-HCT patient                                          3\n",
      "Anorexia nervosa                                          1\n",
      "Atopic dermatitis                                         1\n",
      "Autism spectrum disorder (ASD)                            1\n",
      "COVID-19                                                  3\n",
      "COVID-19-negative                                         1\n",
      "Cancer                                                    1\n",
      "Chronic kidney disease (CKD)                              1\n",
      "Clostridioides difficile infection (CDI)                  2\n",
      "Crohn's disease (CD)                                      2\n",
      "Diabetic retinopathy (DR)                                 1\n",
      "Gestational diabetes mellitus (GDM)                       1\n",
      "H1N1                                                      1\n",
      "HIV                                                       1\n",
      "Healthy                                                  36\n",
      "Hirschsprung disease (HSCR)                               1\n",
      "Hydatid disease (HD)                                      1\n",
      "Inflammatory bowel disease (IBD)                          2\n",
      "Irritable bowel syndrome                                  1\n",
      "Melanoma                                                  1\n",
      "Metabolic syndrome                                        1\n",
      "Morbidly obese                                            1\n",
      "Non-alcoholic fatty liver disease                         1\n",
      "Non-progressive alcoholic liver disease                   2\n",
      "Overweight                                                1\n",
      "Pancreatic ductal adenocarcinoma (PDA)                    1\n",
      "Preterm infant                                            1\n",
      "Primary sclerosing cholangitis and Ulcerative colitis     1\n",
      "Rheumatoid arthritis (RA)                                 3\n",
      "Type 1 diabetes (T1D)                                     1\n",
      "Type 2 diabetes mellitus (T2DM)                           2\n",
      "Ulcerative colitis                                        2\n",
      "Unknown                                                  17\n",
      "early-stage lung cancer                                   1\n",
      "mock communities                                          1\n",
      "Name: Project ID, dtype: int64\n"
     ]
    }
   ],
   "source": [
    "health_status_project_count = df.groupby('Health Status')['Project ID'].nunique()\n",
    "print(health_status_project_count)"
   ],
   "metadata": {
    "collapsed": false,
    "ExecuteTime": {
     "end_time": "2024-08-04T12:20:41.201381Z",
     "start_time": "2024-08-04T12:20:41.189534Z"
    }
   },
   "id": "8d8d9873eeb7c4cf",
   "execution_count": 29
  },
  {
   "cell_type": "code",
   "outputs": [
    {
     "name": "stdout",
     "output_type": "stream",
     "text": [
      "Disease Subgroup\n",
      "Acute Myelogenous Leukemia            1\n",
      "Acute leukemia                        1\n",
      "Adenocarcinoma of the lung            1\n",
      "Alveolar echinococcosis               1\n",
      "Angioimmunoblastic T-Cell Lymphoma    1\n",
      "                                     ..\n",
      "normal weight Healthy control         1\n",
      "other                                 1\n",
      "severe/critical                       1\n",
      "treatment 1                           1\n",
      "treatment 2                           1\n",
      "Name: Project ID, Length: 69, dtype: int64\n"
     ]
    }
   ],
   "source": [
    "disease_subgroup_project_count = df.groupby('Disease Subgroup')['Project ID'].nunique()\n",
    "print(disease_subgroup_project_count)"
   ],
   "metadata": {
    "collapsed": false,
    "ExecuteTime": {
     "end_time": "2024-08-04T13:47:15.372449Z",
     "start_time": "2024-08-04T13:47:15.361567Z"
    }
   },
   "id": "96a91268d7e306ee",
   "execution_count": 34
  },
  {
   "cell_type": "markdown",
   "source": [
    "### Geolocation - City"
   ],
   "metadata": {
    "collapsed": false
   },
   "id": "582555fc26ce2c2c"
  },
  {
   "cell_type": "code",
   "outputs": [
    {
     "name": "stdout",
     "output_type": "stream",
     "text": [
      "Unknown                 2914\n",
      "Guangzhou               1633\n",
      "New York                1410\n",
      "Hong Kong                488\n",
      "Houston                  399\n",
      "Hangzhou & Ningbo        255\n",
      "Beijing                  243\n",
      "Wuxi                     240\n",
      "Hangzhou                 223\n",
      "Paris                    184\n",
      "Caribou                  155\n",
      "Brussels                 147\n",
      "Krakow                   144\n",
      "Olomouc                  139\n",
      "Cape Town                115\n",
      "Sidney                   105\n",
      "Xining                   105\n",
      "Seoul                    105\n",
      "Pretoria                 100\n",
      "Cologne                   94\n",
      "Dalian                    86\n",
      "Jena                      73\n",
      "Hyderabad                 69\n",
      "Fukuoka                   60\n",
      "Xiamen                    60\n",
      "Copenhagen                49\n",
      "Shijiazhuang              47\n",
      "Hershey                   46\n",
      "Rome                      46\n",
      "Berlin                    43\n",
      "Cambridge                 41\n",
      "-/ Zurich                 41\n",
      "Piacenza                  38\n",
      "Bangkok                   34\n",
      "Norwich                   32\n",
      "Wonju                     30\n",
      "New Castle Upon Tyne      25\n",
      "Edinburgh                 13\n",
      "Los Angeles               11\n",
      "Fresno County              8\n",
      "Stockholm                  5\n",
      "Name: City, dtype: int64\n"
     ]
    }
   ],
   "source": [
    "city_count = df['City'].value_counts()\n",
    "print(city_count)"
   ],
   "metadata": {
    "collapsed": false,
    "ExecuteTime": {
     "end_time": "2024-08-04T12:15:59.119026Z",
     "start_time": "2024-08-04T12:15:59.113403Z"
    }
   },
   "id": "5632533013317667",
   "execution_count": 26
  },
  {
   "cell_type": "code",
   "outputs": [
    {
     "name": "stdout",
     "output_type": "stream",
     "text": [
      "Number of non-'unknown' values in column 'City': 7141\n"
     ]
    }
   ],
   "source": [
    "city_known_count = df['City'][df['City'] != 'Unknown'].count()\n",
    "print(f\"Number of non-'unknown' values in column 'City': {city_known_count}\")"
   ],
   "metadata": {
    "collapsed": false,
    "ExecuteTime": {
     "end_time": "2024-08-04T12:17:13.129802Z",
     "start_time": "2024-08-04T12:17:13.118891Z"
    }
   },
   "id": "18a5bbc3064e8601",
   "execution_count": 27
  },
  {
   "cell_type": "code",
   "outputs": [
    {
     "name": "stdout",
     "output_type": "stream",
     "text": [
      "City\n",
      "-/ Zurich                1\n",
      "Bangkok                  1\n",
      "Beijing                  3\n",
      "Berlin                   1\n",
      "Brussels                 1\n",
      "Cambridge                1\n",
      "Cape Town                1\n",
      "Caribou                  1\n",
      "Cologne                  1\n",
      "Copenhagen               1\n",
      "Dalian                   1\n",
      "Edinburgh                1\n",
      "Fresno County            1\n",
      "Fukuoka                  1\n",
      "Guangzhou                1\n",
      "Hangzhou                 2\n",
      "Hangzhou & Ningbo        1\n",
      "Hershey                  1\n",
      "Hong Kong                3\n",
      "Houston                  2\n",
      "Hyderabad                1\n",
      "Jena                     1\n",
      "Krakow                   1\n",
      "Los Angeles              1\n",
      "New Castle Upon Tyne     1\n",
      "New York                 3\n",
      "Norwich                  2\n",
      "Olomouc                  1\n",
      "Paris                    1\n",
      "Piacenza                 1\n",
      "Pretoria                 1\n",
      "Rome                     1\n",
      "Seoul                    1\n",
      "Shijiazhuang             1\n",
      "Sidney                   1\n",
      "Stockholm                1\n",
      "Unknown                 27\n",
      "Wonju                    1\n",
      "Wuxi                     1\n",
      "Xiamen                   1\n",
      "Xining                   1\n",
      "Name: Project ID, dtype: int64\n"
     ]
    }
   ],
   "source": [
    "city_project_count = df.groupby('City')['Project ID'].nunique()\n",
    "print(city_project_count)"
   ],
   "metadata": {
    "collapsed": false,
    "ExecuteTime": {
     "end_time": "2024-08-04T12:20:59.943308Z",
     "start_time": "2024-08-04T12:20:59.934349Z"
    }
   },
   "id": "d69d85ec349dc6c7",
   "execution_count": 30
  },
  {
   "cell_type": "markdown",
   "source": [],
   "metadata": {
    "collapsed": false
   },
   "id": "75b040e690e5c22a"
  },
  {
   "cell_type": "markdown",
   "source": [
    "###  Checkpoint 08/11/2024"
   ],
   "metadata": {
    "collapsed": false
   },
   "id": "7a1f5d3002f97739"
  },
  {
   "cell_type": "markdown",
   "source": [
    "Decision: focus on the medical condition of IBD (Healthy Status = Healthy / IBD).\n",
    "\n",
    "Added a column called \"IBD Subgroup\" for the IBD samples.\n",
    "\n",
    "For PRJEB11419 (AGP), only marked those with IBD. Others were marked as \"Unknown\", for there are so many columns relevant to different medical conditions, and it would be very hard and time-consuming to identify all of them or identify the healthy subjects.\n",
    "\n",
    "Deleted 3 negative controls in PRJEB37810 and 4 samples from mock communities in PRJEB38930."
   ],
   "metadata": {
    "collapsed": false
   },
   "id": "7cc8a86bdec598bd"
  },
  {
   "cell_type": "markdown",
   "source": [
    "### Checkpoint 08/13/2024"
   ],
   "metadata": {
    "collapsed": false
   },
   "id": "67d71033b18cd015"
  },
  {
   "cell_type": "markdown",
   "source": [
    "Changed all the \"NA\" in the **Disease Subgroup** column of metadata_0811.tsv to \"NaN\" for Python processing.\n",
    "\n",
    "The new file is called metadata_0813.tsv."
   ],
   "metadata": {
    "collapsed": false
   },
   "id": "97e7c9c46472cbe1"
  },
  {
   "cell_type": "code",
   "outputs": [],
   "source": [
    "df_updated = pd.read_csv(f'{data_dir}/metadata_0813.tsv', sep='\\t')"
   ],
   "metadata": {
    "collapsed": false,
    "ExecuteTime": {
     "end_time": "2024-08-13T14:21:23.918559Z",
     "start_time": "2024-08-13T14:21:23.865778Z"
    }
   },
   "id": "9c7c287cf81e6d0e",
   "execution_count": 65
  },
  {
   "cell_type": "code",
   "outputs": [
    {
     "data": {
      "text/plain": "    Sample ID  Project ID Health Status IBD Subgroup Disease Subgroup  \\\n0  CNS0407793  CNP0002114       Unknown          NaN          Unknown   \n1  CNS0407794  CNP0002114       Unknown          NaN          Unknown   \n2  CNS0407795  CNP0002114       Unknown          NaN          Unknown   \n3  CNS0407796  CNP0002114       Unknown          NaN          Unknown   \n4  CNS0407797  CNP0002114       Unknown          NaN          Unknown   \n5  CNS0407798  CNP0002114       Unknown          NaN          Unknown   \n6  CNS0407799  CNP0002114       Unknown          NaN          Unknown   \n7  CNS0407800  CNP0002114       Unknown          NaN          Unknown   \n8  CNS0407801  CNP0002114       Unknown          NaN          Unknown   \n9  CNS0407802  CNP0002114       Unknown          NaN          Unknown   \n\n  Continent of Geolocation Country of Geolocation     Region       City  \\\n0                     Asia                  China  Guangdong  Guangzhou   \n1                     Asia                  China  Guangdong  Guangzhou   \n2                     Asia                  China  Guangdong  Guangzhou   \n3                     Asia                  China  Guangdong  Guangzhou   \n4                     Asia                  China  Guangdong  Guangzhou   \n5                     Asia                  China  Guangdong  Guangzhou   \n6                     Asia                  China  Guangdong  Guangzhou   \n7                     Asia                  China  Guangdong  Guangzhou   \n8                     Asia                  China  Guangdong  Guangzhou   \n9                     Asia                  China  Guangdong  Guangzhou   \n\n  Host Sex Host Age Category Host Age Decade Host Age Age Detail Level  \n0  Unknown           Unknown         Unknown  Unknown               L2  \n1  Unknown           Unknown         Unknown  Unknown               L2  \n2  Unknown           Unknown         Unknown  Unknown               L2  \n3  Unknown           Unknown         Unknown  Unknown               L2  \n4  Unknown           Unknown         Unknown  Unknown               L2  \n5  Unknown           Unknown         Unknown  Unknown               L2  \n6  Unknown           Unknown         Unknown  Unknown               L2  \n7  Unknown           Unknown         Unknown  Unknown               L2  \n8  Unknown           Unknown         Unknown  Unknown               L2  \n9  Unknown           Unknown         Unknown  Unknown               L2  ",
      "text/html": "<div>\n<style scoped>\n    .dataframe tbody tr th:only-of-type {\n        vertical-align: middle;\n    }\n\n    .dataframe tbody tr th {\n        vertical-align: top;\n    }\n\n    .dataframe thead th {\n        text-align: right;\n    }\n</style>\n<table border=\"1\" class=\"dataframe\">\n  <thead>\n    <tr style=\"text-align: right;\">\n      <th></th>\n      <th>Sample ID</th>\n      <th>Project ID</th>\n      <th>Health Status</th>\n      <th>IBD Subgroup</th>\n      <th>Disease Subgroup</th>\n      <th>Continent of Geolocation</th>\n      <th>Country of Geolocation</th>\n      <th>Region</th>\n      <th>City</th>\n      <th>Host Sex</th>\n      <th>Host Age Category</th>\n      <th>Host Age Decade</th>\n      <th>Host Age</th>\n      <th>Age Detail Level</th>\n    </tr>\n  </thead>\n  <tbody>\n    <tr>\n      <th>0</th>\n      <td>CNS0407793</td>\n      <td>CNP0002114</td>\n      <td>Unknown</td>\n      <td>NaN</td>\n      <td>Unknown</td>\n      <td>Asia</td>\n      <td>China</td>\n      <td>Guangdong</td>\n      <td>Guangzhou</td>\n      <td>Unknown</td>\n      <td>Unknown</td>\n      <td>Unknown</td>\n      <td>Unknown</td>\n      <td>L2</td>\n    </tr>\n    <tr>\n      <th>1</th>\n      <td>CNS0407794</td>\n      <td>CNP0002114</td>\n      <td>Unknown</td>\n      <td>NaN</td>\n      <td>Unknown</td>\n      <td>Asia</td>\n      <td>China</td>\n      <td>Guangdong</td>\n      <td>Guangzhou</td>\n      <td>Unknown</td>\n      <td>Unknown</td>\n      <td>Unknown</td>\n      <td>Unknown</td>\n      <td>L2</td>\n    </tr>\n    <tr>\n      <th>2</th>\n      <td>CNS0407795</td>\n      <td>CNP0002114</td>\n      <td>Unknown</td>\n      <td>NaN</td>\n      <td>Unknown</td>\n      <td>Asia</td>\n      <td>China</td>\n      <td>Guangdong</td>\n      <td>Guangzhou</td>\n      <td>Unknown</td>\n      <td>Unknown</td>\n      <td>Unknown</td>\n      <td>Unknown</td>\n      <td>L2</td>\n    </tr>\n    <tr>\n      <th>3</th>\n      <td>CNS0407796</td>\n      <td>CNP0002114</td>\n      <td>Unknown</td>\n      <td>NaN</td>\n      <td>Unknown</td>\n      <td>Asia</td>\n      <td>China</td>\n      <td>Guangdong</td>\n      <td>Guangzhou</td>\n      <td>Unknown</td>\n      <td>Unknown</td>\n      <td>Unknown</td>\n      <td>Unknown</td>\n      <td>L2</td>\n    </tr>\n    <tr>\n      <th>4</th>\n      <td>CNS0407797</td>\n      <td>CNP0002114</td>\n      <td>Unknown</td>\n      <td>NaN</td>\n      <td>Unknown</td>\n      <td>Asia</td>\n      <td>China</td>\n      <td>Guangdong</td>\n      <td>Guangzhou</td>\n      <td>Unknown</td>\n      <td>Unknown</td>\n      <td>Unknown</td>\n      <td>Unknown</td>\n      <td>L2</td>\n    </tr>\n    <tr>\n      <th>5</th>\n      <td>CNS0407798</td>\n      <td>CNP0002114</td>\n      <td>Unknown</td>\n      <td>NaN</td>\n      <td>Unknown</td>\n      <td>Asia</td>\n      <td>China</td>\n      <td>Guangdong</td>\n      <td>Guangzhou</td>\n      <td>Unknown</td>\n      <td>Unknown</td>\n      <td>Unknown</td>\n      <td>Unknown</td>\n      <td>L2</td>\n    </tr>\n    <tr>\n      <th>6</th>\n      <td>CNS0407799</td>\n      <td>CNP0002114</td>\n      <td>Unknown</td>\n      <td>NaN</td>\n      <td>Unknown</td>\n      <td>Asia</td>\n      <td>China</td>\n      <td>Guangdong</td>\n      <td>Guangzhou</td>\n      <td>Unknown</td>\n      <td>Unknown</td>\n      <td>Unknown</td>\n      <td>Unknown</td>\n      <td>L2</td>\n    </tr>\n    <tr>\n      <th>7</th>\n      <td>CNS0407800</td>\n      <td>CNP0002114</td>\n      <td>Unknown</td>\n      <td>NaN</td>\n      <td>Unknown</td>\n      <td>Asia</td>\n      <td>China</td>\n      <td>Guangdong</td>\n      <td>Guangzhou</td>\n      <td>Unknown</td>\n      <td>Unknown</td>\n      <td>Unknown</td>\n      <td>Unknown</td>\n      <td>L2</td>\n    </tr>\n    <tr>\n      <th>8</th>\n      <td>CNS0407801</td>\n      <td>CNP0002114</td>\n      <td>Unknown</td>\n      <td>NaN</td>\n      <td>Unknown</td>\n      <td>Asia</td>\n      <td>China</td>\n      <td>Guangdong</td>\n      <td>Guangzhou</td>\n      <td>Unknown</td>\n      <td>Unknown</td>\n      <td>Unknown</td>\n      <td>Unknown</td>\n      <td>L2</td>\n    </tr>\n    <tr>\n      <th>9</th>\n      <td>CNS0407802</td>\n      <td>CNP0002114</td>\n      <td>Unknown</td>\n      <td>NaN</td>\n      <td>Unknown</td>\n      <td>Asia</td>\n      <td>China</td>\n      <td>Guangdong</td>\n      <td>Guangzhou</td>\n      <td>Unknown</td>\n      <td>Unknown</td>\n      <td>Unknown</td>\n      <td>Unknown</td>\n      <td>L2</td>\n    </tr>\n  </tbody>\n</table>\n</div>"
     },
     "execution_count": 66,
     "metadata": {},
     "output_type": "execute_result"
    }
   ],
   "source": [
    "df_updated.head(10)"
   ],
   "metadata": {
    "collapsed": false,
    "ExecuteTime": {
     "end_time": "2024-08-13T14:21:29.205515Z",
     "start_time": "2024-08-13T14:21:29.189544Z"
    }
   },
   "id": "de8c385cab390fc3",
   "execution_count": 66
  },
  {
   "cell_type": "code",
   "outputs": [
    {
     "data": {
      "text/plain": "(10048, 14)"
     },
     "execution_count": 67,
     "metadata": {},
     "output_type": "execute_result"
    }
   ],
   "source": [
    "df_updated.shape"
   ],
   "metadata": {
    "collapsed": false,
    "ExecuteTime": {
     "end_time": "2024-08-13T14:21:33.298963Z",
     "start_time": "2024-08-13T14:21:33.292622Z"
    }
   },
   "id": "7e544e65dd4ccfd4",
   "execution_count": 67
  },
  {
   "cell_type": "markdown",
   "source": [
    "#### Health Status"
   ],
   "metadata": {
    "collapsed": false
   },
   "id": "13a16bd447e8721d"
  },
  {
   "cell_type": "code",
   "outputs": [
    {
     "name": "stdout",
     "output_type": "stream",
     "text": [
      "34\n"
     ]
    }
   ],
   "source": [
    "disease_count = df_updated['Health Status'].nunique()\n",
    "print(disease_count)"
   ],
   "metadata": {
    "collapsed": false,
    "ExecuteTime": {
     "end_time": "2024-08-13T14:21:47.635828Z",
     "start_time": "2024-08-13T14:21:47.628562Z"
    }
   },
   "id": "91d532ad295748e3",
   "execution_count": 68
  },
  {
   "cell_type": "code",
   "outputs": [
    {
     "name": "stdout",
     "output_type": "stream",
     "text": [
      "Unknown                                     3573\n",
      "Healthy                                     2470\n",
      "Allo-HCT patient                            1567\n",
      "Inflammatory bowel disease (IBD)             610\n",
      "Clostridioides difficile infection (CDI)     249\n",
      "COVID-19                                     212\n",
      "Rheumatoid arthritis (RA)                    176\n",
      "Alcohol use disorder (AUD)                   152\n",
      "Type 1 diabetes (T1D)                        103\n",
      "Anorexia nervosa                              94\n",
      "Chronic kidney disease (CKD)                  90\n",
      "Irritable bowel syndrome                      80\n",
      "Non-alcoholic fatty liver disease             78\n",
      "Alcoholic hepatitis                           70\n",
      "Hydatid disease (HD)                          63\n",
      "Overweight                                    48\n",
      "Gestational diabetes mellitus (GDM)           46\n",
      "Type 2 diabetes mellitus (T2DM)               39\n",
      "H1N1                                          32\n",
      "Morbidly obese                                32\n",
      "Autism spectrum disorder (ASD)                31\n",
      "Preterm infant                                30\n",
      "Cancer                                        26\n",
      "Diabetic retinopathy (DR)                     24\n",
      "HIV                                           24\n",
      "COVID-19-negative                             23\n",
      "Melanoma                                      20\n",
      "Pancreatic ductal adenocarcinoma (PDA)        18\n",
      "Hirschsprung disease (HSCR)                   17\n",
      "Atopic dermatitis                             17\n",
      "early-stage lung cancer                       15\n",
      "Metabolic syndrome                            13\n",
      "Non-progressive alcoholic liver disease        5\n",
      "Alcoholic cirrhosis                            1\n",
      "Name: Health Status, dtype: int64\n"
     ]
    }
   ],
   "source": [
    "disease_types_updated = df_updated['Health Status'].value_counts()\n",
    "print(disease_types_updated)"
   ],
   "metadata": {
    "collapsed": false,
    "ExecuteTime": {
     "end_time": "2024-08-13T14:22:05.885782Z",
     "start_time": "2024-08-13T14:22:05.878811Z"
    }
   },
   "id": "ad83eeb8590d1c19",
   "execution_count": 69
  },
  {
   "cell_type": "code",
   "outputs": [
    {
     "name": "stdout",
     "output_type": "stream",
     "text": [
      "Health Status\n",
      "Alcohol use disorder (AUD)                   2\n",
      "Alcoholic cirrhosis                          1\n",
      "Alcoholic hepatitis                          1\n",
      "Allo-HCT patient                             3\n",
      "Anorexia nervosa                             1\n",
      "Atopic dermatitis                            1\n",
      "Autism spectrum disorder (ASD)               1\n",
      "COVID-19                                     3\n",
      "COVID-19-negative                            1\n",
      "Cancer                                       1\n",
      "Chronic kidney disease (CKD)                 1\n",
      "Clostridioides difficile infection (CDI)     2\n",
      "Diabetic retinopathy (DR)                    1\n",
      "Gestational diabetes mellitus (GDM)          1\n",
      "H1N1                                         1\n",
      "HIV                                          1\n",
      "Healthy                                     36\n",
      "Hirschsprung disease (HSCR)                  1\n",
      "Hydatid disease (HD)                         1\n",
      "Inflammatory bowel disease (IBD)             7\n",
      "Irritable bowel syndrome                     1\n",
      "Melanoma                                     1\n",
      "Metabolic syndrome                           1\n",
      "Morbidly obese                               1\n",
      "Non-alcoholic fatty liver disease            1\n",
      "Non-progressive alcoholic liver disease      2\n",
      "Overweight                                   1\n",
      "Pancreatic ductal adenocarcinoma (PDA)       1\n",
      "Preterm infant                               1\n",
      "Rheumatoid arthritis (RA)                    3\n",
      "Type 1 diabetes (T1D)                        1\n",
      "Type 2 diabetes mellitus (T2DM)              2\n",
      "Unknown                                     18\n",
      "early-stage lung cancer                      1\n",
      "Name: Project ID, dtype: int64\n"
     ]
    }
   ],
   "source": [
    "health_status_project_count_updated = df_updated.groupby('Health Status')['Project ID'].nunique()\n",
    "print(health_status_project_count_updated)"
   ],
   "metadata": {
    "collapsed": false,
    "ExecuteTime": {
     "end_time": "2024-08-13T14:22:54.998826Z",
     "start_time": "2024-08-13T14:22:54.987477Z"
    }
   },
   "id": "2955b1a11e912bca",
   "execution_count": 70
  },
  {
   "cell_type": "markdown",
   "source": [
    "#### Subsetting the case-control studies"
   ],
   "metadata": {
    "collapsed": false
   },
   "id": "b2e97cf9fcb8994b"
  },
  {
   "cell_type": "markdown",
   "source": [
    "There are 25 case-control studies with identifiable samples (cases vs. controls).\n",
    "\n",
    "Originally 27. Then I excluded 2 projects not suitably considered as case-control studies."
   ],
   "metadata": {
    "collapsed": false
   },
   "id": "ab76af9137a1034e"
  },
  {
   "cell_type": "code",
   "outputs": [],
   "source": [
    "case_control_list = pd.read_csv(f'{data_dir}/case_control_projects.tsv')"
   ],
   "metadata": {
    "collapsed": false,
    "ExecuteTime": {
     "end_time": "2024-08-16T08:20:03.725374Z",
     "start_time": "2024-08-16T08:20:03.700210Z"
    }
   },
   "id": "b729b6d8bfd94395",
   "execution_count": 113
  },
  {
   "cell_type": "code",
   "outputs": [
    {
     "data": {
      "text/plain": "25"
     },
     "execution_count": 115,
     "metadata": {},
     "output_type": "execute_result"
    }
   ],
   "source": [
    "case_control_list['Project ID'].nunique()"
   ],
   "metadata": {
    "collapsed": false,
    "ExecuteTime": {
     "end_time": "2024-08-16T08:20:06.864684Z",
     "start_time": "2024-08-16T08:20:06.857514Z"
    }
   },
   "id": "35f34070999c6150",
   "execution_count": 115
  },
  {
   "cell_type": "code",
   "outputs": [
    {
     "name": "stdout",
     "output_type": "stream",
     "text": [
      "['crohns-paper_37122605', 'PRJDB13192', 'PRJEB35665', 'PRJEB38917', 'PRJEB38930', 'PRJEB42375', 'PRJEB46343', 'PRJEB53019', 'PRJNA419104', 'PRJNA517994', 'PRJNA517994', 'PRJNA557226', 'PRJNA590898', 'PRJNA607176', 'PRJNA637034', 'PRJNA647266', 'PRJNA662173', 'PRJNA698272', 'PRJNA703732', 'PRJNA735021', 'PRJNA751473', 'PRJNA756382', 'PRJNA778607', 'PRJNA791216', 'PRJNA794154', 'PRJNA813503']\n",
      "26\n"
     ]
    }
   ],
   "source": [
    "case_control_projects = case_control_list['Project ID'].tolist()\n",
    "print(case_control_projects)\n",
    "print(len(case_control_projects))\n",
    "\n",
    "# One duplicate: PRJNA517994"
   ],
   "metadata": {
    "collapsed": false,
    "ExecuteTime": {
     "end_time": "2024-08-16T08:20:10.559970Z",
     "start_time": "2024-08-16T08:20:10.554747Z"
    }
   },
   "id": "5c5aa5b8e02cb0f6",
   "execution_count": 116
  },
  {
   "cell_type": "code",
   "outputs": [],
   "source": [
    "# Subsetting the metadata\n",
    "df_case_control = df_updated[df_updated['Project ID'].isin(case_control_projects)]"
   ],
   "metadata": {
    "collapsed": false,
    "ExecuteTime": {
     "end_time": "2024-08-16T08:20:18.127679Z",
     "start_time": "2024-08-16T08:20:18.119910Z"
    }
   },
   "id": "339dea3e97018a82",
   "execution_count": 117
  },
  {
   "cell_type": "code",
   "outputs": [
    {
     "data": {
      "text/plain": "     Sample ID             Project ID                     Health Status  \\\n1999      S675  crohns-paper_37122605  Inflammatory bowel disease (IBD)   \n2000      S683  crohns-paper_37122605  Inflammatory bowel disease (IBD)   \n2001      S691  crohns-paper_37122605  Inflammatory bowel disease (IBD)   \n2002      S699  crohns-paper_37122605  Inflammatory bowel disease (IBD)   \n2003      S707  crohns-paper_37122605  Inflammatory bowel disease (IBD)   \n\n              IBD Subgroup                              Disease Subgroup  \\\n1999  Crohn's disease (CD)  active, newly diagnosed Crohn's disease (CD)   \n2000  Crohn's disease (CD)  active, newly diagnosed Crohn's disease (CD)   \n2001  Crohn's disease (CD)  active, newly diagnosed Crohn's disease (CD)   \n2002  Crohn's disease (CD)  active, newly diagnosed Crohn's disease (CD)   \n2003  Crohn's disease (CD)       clinical remission Crohn's disease (CD)   \n\n     Continent of Geolocation Country of Geolocation  \\\n1999                   Europe                 Poland   \n2000                   Europe                 Poland   \n2001                   Europe                 Poland   \n2002                   Europe                 Poland   \n2003                   Europe                 Poland   \n\n                                       Region    City Host Sex  \\\n1999  Lesser Poland Voivodeship (Małopolskie)  Krakow  Unknown   \n2000  Lesser Poland Voivodeship (Małopolskie)  Krakow  Unknown   \n2001  Lesser Poland Voivodeship (Małopolskie)  Krakow  Unknown   \n2002  Lesser Poland Voivodeship (Małopolskie)  Krakow  Unknown   \n2003  Lesser Poland Voivodeship (Małopolskie)  Krakow  Unknown   \n\n     Host Age Category Host Age Decade Host Age Age Detail Level  \n1999           Unknown         Unknown  Unknown               L2  \n2000           Unknown         Unknown  Unknown               L2  \n2001           Unknown         Unknown  Unknown               L2  \n2002           Unknown         Unknown  Unknown               L2  \n2003           Unknown         Unknown  Unknown               L2  ",
      "text/html": "<div>\n<style scoped>\n    .dataframe tbody tr th:only-of-type {\n        vertical-align: middle;\n    }\n\n    .dataframe tbody tr th {\n        vertical-align: top;\n    }\n\n    .dataframe thead th {\n        text-align: right;\n    }\n</style>\n<table border=\"1\" class=\"dataframe\">\n  <thead>\n    <tr style=\"text-align: right;\">\n      <th></th>\n      <th>Sample ID</th>\n      <th>Project ID</th>\n      <th>Health Status</th>\n      <th>IBD Subgroup</th>\n      <th>Disease Subgroup</th>\n      <th>Continent of Geolocation</th>\n      <th>Country of Geolocation</th>\n      <th>Region</th>\n      <th>City</th>\n      <th>Host Sex</th>\n      <th>Host Age Category</th>\n      <th>Host Age Decade</th>\n      <th>Host Age</th>\n      <th>Age Detail Level</th>\n    </tr>\n  </thead>\n  <tbody>\n    <tr>\n      <th>1999</th>\n      <td>S675</td>\n      <td>crohns-paper_37122605</td>\n      <td>Inflammatory bowel disease (IBD)</td>\n      <td>Crohn's disease (CD)</td>\n      <td>active, newly diagnosed Crohn's disease (CD)</td>\n      <td>Europe</td>\n      <td>Poland</td>\n      <td>Lesser Poland Voivodeship (Małopolskie)</td>\n      <td>Krakow</td>\n      <td>Unknown</td>\n      <td>Unknown</td>\n      <td>Unknown</td>\n      <td>Unknown</td>\n      <td>L2</td>\n    </tr>\n    <tr>\n      <th>2000</th>\n      <td>S683</td>\n      <td>crohns-paper_37122605</td>\n      <td>Inflammatory bowel disease (IBD)</td>\n      <td>Crohn's disease (CD)</td>\n      <td>active, newly diagnosed Crohn's disease (CD)</td>\n      <td>Europe</td>\n      <td>Poland</td>\n      <td>Lesser Poland Voivodeship (Małopolskie)</td>\n      <td>Krakow</td>\n      <td>Unknown</td>\n      <td>Unknown</td>\n      <td>Unknown</td>\n      <td>Unknown</td>\n      <td>L2</td>\n    </tr>\n    <tr>\n      <th>2001</th>\n      <td>S691</td>\n      <td>crohns-paper_37122605</td>\n      <td>Inflammatory bowel disease (IBD)</td>\n      <td>Crohn's disease (CD)</td>\n      <td>active, newly diagnosed Crohn's disease (CD)</td>\n      <td>Europe</td>\n      <td>Poland</td>\n      <td>Lesser Poland Voivodeship (Małopolskie)</td>\n      <td>Krakow</td>\n      <td>Unknown</td>\n      <td>Unknown</td>\n      <td>Unknown</td>\n      <td>Unknown</td>\n      <td>L2</td>\n    </tr>\n    <tr>\n      <th>2002</th>\n      <td>S699</td>\n      <td>crohns-paper_37122605</td>\n      <td>Inflammatory bowel disease (IBD)</td>\n      <td>Crohn's disease (CD)</td>\n      <td>active, newly diagnosed Crohn's disease (CD)</td>\n      <td>Europe</td>\n      <td>Poland</td>\n      <td>Lesser Poland Voivodeship (Małopolskie)</td>\n      <td>Krakow</td>\n      <td>Unknown</td>\n      <td>Unknown</td>\n      <td>Unknown</td>\n      <td>Unknown</td>\n      <td>L2</td>\n    </tr>\n    <tr>\n      <th>2003</th>\n      <td>S707</td>\n      <td>crohns-paper_37122605</td>\n      <td>Inflammatory bowel disease (IBD)</td>\n      <td>Crohn's disease (CD)</td>\n      <td>clinical remission Crohn's disease (CD)</td>\n      <td>Europe</td>\n      <td>Poland</td>\n      <td>Lesser Poland Voivodeship (Małopolskie)</td>\n      <td>Krakow</td>\n      <td>Unknown</td>\n      <td>Unknown</td>\n      <td>Unknown</td>\n      <td>Unknown</td>\n      <td>L2</td>\n    </tr>\n  </tbody>\n</table>\n</div>"
     },
     "execution_count": 118,
     "metadata": {},
     "output_type": "execute_result"
    }
   ],
   "source": [
    "df_case_control.head()"
   ],
   "metadata": {
    "collapsed": false,
    "ExecuteTime": {
     "end_time": "2024-08-16T08:20:20.060101Z",
     "start_time": "2024-08-16T08:20:20.045837Z"
    }
   },
   "id": "a62c9144d605b5aa",
   "execution_count": 118
  },
  {
   "cell_type": "code",
   "outputs": [
    {
     "data": {
      "text/plain": "(2526, 14)"
     },
     "execution_count": 119,
     "metadata": {},
     "output_type": "execute_result"
    }
   ],
   "source": [
    "df_case_control.shape"
   ],
   "metadata": {
    "collapsed": false,
    "ExecuteTime": {
     "end_time": "2024-08-16T08:20:25.168448Z",
     "start_time": "2024-08-16T08:20:25.163048Z"
    }
   },
   "id": "689953d3a0fa4544",
   "execution_count": 119
  },
  {
   "cell_type": "code",
   "outputs": [
    {
     "data": {
      "text/plain": "25"
     },
     "execution_count": 120,
     "metadata": {},
     "output_type": "execute_result"
    }
   ],
   "source": [
    "df_case_control['Project ID'].nunique()"
   ],
   "metadata": {
    "collapsed": false,
    "ExecuteTime": {
     "end_time": "2024-08-16T08:20:28.105919Z",
     "start_time": "2024-08-16T08:20:28.099770Z"
    }
   },
   "id": "d2deb201216fbf1c",
   "execution_count": 120
  },
  {
   "cell_type": "code",
   "outputs": [
    {
     "data": {
      "text/plain": "PRJNA647266              240\nPRJNA637034              184\nPRJNA756382              161\nPRJEB38930               156\nPRJNA703732              155\ncrohns-paper_37122605    144\nPRJEB42375               144\nPRJNA791216              135\nPRJNA419104              108\nPRJNA778607              105\nPRJNA590898              105\nPRJNA517994              102\nPRJDB13192               100\nPRJNA813503               98\nPRJNA698272               94\nPRJNA735021               86\nPRJNA607176               81\nPRJNA662173               69\nPRJNA794154               53\nPRJEB38917                41\nPRJEB35665                40\nPRJEB46343                36\nPRJNA751473               34\nPRJEB53019                28\nPRJNA557226               27\nName: Project ID, dtype: int64"
     },
     "execution_count": 121,
     "metadata": {},
     "output_type": "execute_result"
    }
   ],
   "source": [
    "df_case_control['Project ID'].value_counts()"
   ],
   "metadata": {
    "collapsed": false,
    "ExecuteTime": {
     "end_time": "2024-08-16T08:20:31.129820Z",
     "start_time": "2024-08-16T08:20:31.122309Z"
    }
   },
   "id": "d850f4bc59b8e43",
   "execution_count": 121
  },
  {
   "cell_type": "code",
   "outputs": [
    {
     "data": {
      "text/plain": "Health Status\nAlcohol use disorder (AUD)                   2\nAlcoholic cirrhosis                          1\nAlcoholic hepatitis                          1\nAnorexia nervosa                             1\nAtopic dermatitis                            1\nCOVID-19                                     3\nCOVID-19-negative                            1\nChronic kidney disease (CKD)                 1\nClostridioides difficile infection (CDI)     1\nDiabetic retinopathy (DR)                    1\nGestational diabetes mellitus (GDM)          1\nH1N1                                         1\nHIV                                          1\nHealthy                                     24\nHydatid disease (HD)                         1\nInflammatory bowel disease (IBD)             3\nIrritable bowel syndrome                     1\nMelanoma                                     1\nMorbidly obese                               1\nNon-alcoholic fatty liver disease            1\nNon-progressive alcoholic liver disease      2\nPancreatic ductal adenocarcinoma (PDA)       1\nRheumatoid arthritis (RA)                    2\nType 1 diabetes (T1D)                        1\nType 2 diabetes mellitus (T2DM)              2\nUnknown                                      2\nName: Project ID, dtype: int64"
     },
     "execution_count": 122,
     "metadata": {},
     "output_type": "execute_result"
    }
   ],
   "source": [
    "df_case_control.groupby('Health Status')['Project ID'].nunique()"
   ],
   "metadata": {
    "collapsed": false,
    "ExecuteTime": {
     "end_time": "2024-08-16T08:20:38.045505Z",
     "start_time": "2024-08-16T08:20:38.033078Z"
    }
   },
   "id": "4655604264ebb846",
   "execution_count": 122
  },
  {
   "cell_type": "code",
   "outputs": [
    {
     "data": {
      "text/plain": "Healthy                                     837\nInflammatory bowel disease (IBD)            226\nCOVID-19                                    212\nAlcohol use disorder (AUD)                  152\nRheumatoid arthritis (RA)                   146\nType 1 diabetes (T1D)                       103\nAnorexia nervosa                             94\nChronic kidney disease (CKD)                 90\nClostridioides difficile infection (CDI)     85\nIrritable bowel syndrome                     80\nNon-alcoholic fatty liver disease            78\nAlcoholic hepatitis                          70\nHydatid disease (HD)                         63\nGestational diabetes mellitus (GDM)          46\nType 2 diabetes mellitus (T2DM)              39\nH1N1                                         32\nMorbidly obese                               32\nDiabetic retinopathy (DR)                    24\nHIV                                          24\nCOVID-19-negative                            23\nMelanoma                                     20\nPancreatic ductal adenocarcinoma (PDA)       18\nAtopic dermatitis                            17\nUnknown                                       9\nNon-progressive alcoholic liver disease       5\nAlcoholic cirrhosis                           1\nName: Health Status, dtype: int64"
     },
     "execution_count": 123,
     "metadata": {},
     "output_type": "execute_result"
    }
   ],
   "source": [
    "df_case_control['Health Status'].value_counts()"
   ],
   "metadata": {
    "collapsed": false,
    "ExecuteTime": {
     "end_time": "2024-08-16T08:20:47.003062Z",
     "start_time": "2024-08-16T08:20:46.995890Z"
    }
   },
   "id": "12729e4a564ef891",
   "execution_count": 123
  },
  {
   "cell_type": "code",
   "outputs": [],
   "source": [
    "df_case_control.to_csv(f'{data_dir}/case_control_metadata_0816.tsv', na_rep='NA', sep='\\t', index=False)"
   ],
   "metadata": {
    "collapsed": false,
    "ExecuteTime": {
     "end_time": "2024-08-16T08:21:14.584091Z",
     "start_time": "2024-08-16T08:21:14.559726Z"
    }
   },
   "id": "8a994de1c28f057d",
   "execution_count": 124
  },
  {
   "cell_type": "markdown",
   "source": [
    "#### Checkpoint 08/16/2024"
   ],
   "metadata": {
    "collapsed": false
   },
   "id": "31655f7dc68bfc7d"
  },
  {
   "cell_type": "markdown",
   "source": [
    "\"case_control_metadata_0816V2.tsv\":\n",
    "\n",
    "Excluded 2 projects not suitably considered as case-control studies: PRJNA655569 and PRJNA987148.\n",
    "\n",
    "Re-encoded the metadata and added three disease level columns for different granularity:\n",
    "1. Disease_Level_1 & Disease_Level_2\n",
    "    - Gastrointestinal: IBD, IBS\n",
    "    - Infectious: COVID-19, HIV, CDI, Hydatid disease (HD)\n",
    "    - Metabolic: Obesity, T2DM, T1DM, Gestational diabetes mellitus (GDM)\n",
    "    - Cancer: Melanoma, Pancreatic ductal adenocarcinoma (PDA)\n",
    "    - Liver: Alcohol-Associated-LD, Non-alcoholic fatty liver disease (NAFLD)\n",
    "    - Autoimmune: Rheumatoid arthritis (RA), Atopic dermatitis (AD)\n",
    "    - Other: Anorexia nervosa (AN), Chronic kidney disease (CKD)\n",
    "2. Disease_Level_3: left for later encoding.\n",
    "\n",
    "Excluded 9 unknown samples in two projects:\n",
    "1. PRJEB35665: ERR3711790, ERR3711791, ERR3711792\n",
    "2. PRJNA791216: SRR17285824, SRR17285825, SRR17285826, SRR17285827, SRR17285829, SRR17285830\n",
    "\n",
    "Excluded FMT samples in two projects:\n",
    "1. PRJNA419104: take CDI-vancomycin (STD) as cases and remove CDI-FMT (n=51)\n",
    "2. PRJNA590898: take UC-placebo as cases and healthy donors as controls; remove UC-FMT (n=51)."
   ],
   "metadata": {
    "collapsed": false
   },
   "id": "4c69fa0f90d13a23"
  },
  {
   "cell_type": "markdown",
   "source": [
    "#### Checkpoint 08/18/2024"
   ],
   "metadata": {
    "collapsed": false
   },
   "id": "4d536b139031f2da"
  },
  {
   "cell_type": "markdown",
   "source": [
    "\"case_control_metadata_0818.tsv\":\n",
    "\n",
    "Added one **Sequencing_Region** column."
   ],
   "metadata": {
    "collapsed": false
   },
   "id": "66bf62ca7ac93fa1"
  },
  {
   "cell_type": "markdown",
   "source": [
    "#### Check the updated case_control_metadata"
   ],
   "metadata": {
    "collapsed": false
   },
   "id": "a91c6a4726d11285"
  },
  {
   "cell_type": "code",
   "outputs": [],
   "source": [
    "df_case_control_updated = pd.read_csv(f'{data_dir}/case_control_metadata_0818.tsv', sep='\\t')"
   ],
   "metadata": {
    "collapsed": false,
    "ExecuteTime": {
     "end_time": "2024-08-20T20:01:26.289803Z",
     "start_time": "2024-08-20T20:01:26.260403Z"
    }
   },
   "id": "13527a89080c4cf6",
   "execution_count": 4
  },
  {
   "cell_type": "code",
   "outputs": [
    {
     "data": {
      "text/plain": "  Sample_ID             Project_ID Sequencing_Region Case_Control  \\\n0      S675  crohns-paper_37122605              ITS1         Case   \n1      S683  crohns-paper_37122605              ITS1         Case   \n2      S691  crohns-paper_37122605              ITS1         Case   \n3      S699  crohns-paper_37122605              ITS1         Case   \n4      S707  crohns-paper_37122605              ITS1         Case   \n\n    Disease_Level_1                     Health_Status Disease_Level_2  \\\n0  Gastrointestinal  Inflammatory bowel disease (IBD)             IBD   \n1  Gastrointestinal  Inflammatory bowel disease (IBD)             IBD   \n2  Gastrointestinal  Inflammatory bowel disease (IBD)             IBD   \n3  Gastrointestinal  Inflammatory bowel disease (IBD)             IBD   \n4  Gastrointestinal  Inflammatory bowel disease (IBD)             IBD   \n\n  Disease_Level_3                              Disease_Subgroup  \\\n0   active_new_CD  active, newly diagnosed Crohn's disease (CD)   \n1   active_new_CD  active, newly diagnosed Crohn's disease (CD)   \n2   active_new_CD  active, newly diagnosed Crohn's disease (CD)   \n3   active_new_CD  active, newly diagnosed Crohn's disease (CD)   \n4              CD       clinical remission Crohn's disease (CD)   \n\n           IBD_Subgroup GeoLoc_Continent GeoLoc_Country  \\\n0  Crohn's disease (CD)           Europe         Poland   \n1  Crohn's disease (CD)           Europe         Poland   \n2  Crohn's disease (CD)           Europe         Poland   \n3  Crohn's disease (CD)           Europe         Poland   \n4  Crohn's disease (CD)           Europe         Poland   \n\n                             GeoLoc_Region GeoLoc_City Host_Sex  \\\n0  Lesser Poland Voivodeship (Małopolskie)      Krakow  Unknown   \n1  Lesser Poland Voivodeship (Małopolskie)      Krakow  Unknown   \n2  Lesser Poland Voivodeship (Małopolskie)      Krakow  Unknown   \n3  Lesser Poland Voivodeship (Małopolskie)      Krakow  Unknown   \n4  Lesser Poland Voivodeship (Małopolskie)      Krakow  Unknown   \n\n  Host_Age_Category Host_Age_Decade Host_Age Age_Detail_Level  \n0           Unknown         Unknown  Unknown               L2  \n1           Unknown         Unknown  Unknown               L2  \n2           Unknown         Unknown  Unknown               L2  \n3           Unknown         Unknown  Unknown               L2  \n4           Unknown         Unknown  Unknown               L2  ",
      "text/html": "<div>\n<style scoped>\n    .dataframe tbody tr th:only-of-type {\n        vertical-align: middle;\n    }\n\n    .dataframe tbody tr th {\n        vertical-align: top;\n    }\n\n    .dataframe thead th {\n        text-align: right;\n    }\n</style>\n<table border=\"1\" class=\"dataframe\">\n  <thead>\n    <tr style=\"text-align: right;\">\n      <th></th>\n      <th>Sample_ID</th>\n      <th>Project_ID</th>\n      <th>Sequencing_Region</th>\n      <th>Case_Control</th>\n      <th>Disease_Level_1</th>\n      <th>Health_Status</th>\n      <th>Disease_Level_2</th>\n      <th>Disease_Level_3</th>\n      <th>Disease_Subgroup</th>\n      <th>IBD_Subgroup</th>\n      <th>GeoLoc_Continent</th>\n      <th>GeoLoc_Country</th>\n      <th>GeoLoc_Region</th>\n      <th>GeoLoc_City</th>\n      <th>Host_Sex</th>\n      <th>Host_Age_Category</th>\n      <th>Host_Age_Decade</th>\n      <th>Host_Age</th>\n      <th>Age_Detail_Level</th>\n    </tr>\n  </thead>\n  <tbody>\n    <tr>\n      <th>0</th>\n      <td>S675</td>\n      <td>crohns-paper_37122605</td>\n      <td>ITS1</td>\n      <td>Case</td>\n      <td>Gastrointestinal</td>\n      <td>Inflammatory bowel disease (IBD)</td>\n      <td>IBD</td>\n      <td>active_new_CD</td>\n      <td>active, newly diagnosed Crohn's disease (CD)</td>\n      <td>Crohn's disease (CD)</td>\n      <td>Europe</td>\n      <td>Poland</td>\n      <td>Lesser Poland Voivodeship (Małopolskie)</td>\n      <td>Krakow</td>\n      <td>Unknown</td>\n      <td>Unknown</td>\n      <td>Unknown</td>\n      <td>Unknown</td>\n      <td>L2</td>\n    </tr>\n    <tr>\n      <th>1</th>\n      <td>S683</td>\n      <td>crohns-paper_37122605</td>\n      <td>ITS1</td>\n      <td>Case</td>\n      <td>Gastrointestinal</td>\n      <td>Inflammatory bowel disease (IBD)</td>\n      <td>IBD</td>\n      <td>active_new_CD</td>\n      <td>active, newly diagnosed Crohn's disease (CD)</td>\n      <td>Crohn's disease (CD)</td>\n      <td>Europe</td>\n      <td>Poland</td>\n      <td>Lesser Poland Voivodeship (Małopolskie)</td>\n      <td>Krakow</td>\n      <td>Unknown</td>\n      <td>Unknown</td>\n      <td>Unknown</td>\n      <td>Unknown</td>\n      <td>L2</td>\n    </tr>\n    <tr>\n      <th>2</th>\n      <td>S691</td>\n      <td>crohns-paper_37122605</td>\n      <td>ITS1</td>\n      <td>Case</td>\n      <td>Gastrointestinal</td>\n      <td>Inflammatory bowel disease (IBD)</td>\n      <td>IBD</td>\n      <td>active_new_CD</td>\n      <td>active, newly diagnosed Crohn's disease (CD)</td>\n      <td>Crohn's disease (CD)</td>\n      <td>Europe</td>\n      <td>Poland</td>\n      <td>Lesser Poland Voivodeship (Małopolskie)</td>\n      <td>Krakow</td>\n      <td>Unknown</td>\n      <td>Unknown</td>\n      <td>Unknown</td>\n      <td>Unknown</td>\n      <td>L2</td>\n    </tr>\n    <tr>\n      <th>3</th>\n      <td>S699</td>\n      <td>crohns-paper_37122605</td>\n      <td>ITS1</td>\n      <td>Case</td>\n      <td>Gastrointestinal</td>\n      <td>Inflammatory bowel disease (IBD)</td>\n      <td>IBD</td>\n      <td>active_new_CD</td>\n      <td>active, newly diagnosed Crohn's disease (CD)</td>\n      <td>Crohn's disease (CD)</td>\n      <td>Europe</td>\n      <td>Poland</td>\n      <td>Lesser Poland Voivodeship (Małopolskie)</td>\n      <td>Krakow</td>\n      <td>Unknown</td>\n      <td>Unknown</td>\n      <td>Unknown</td>\n      <td>Unknown</td>\n      <td>L2</td>\n    </tr>\n    <tr>\n      <th>4</th>\n      <td>S707</td>\n      <td>crohns-paper_37122605</td>\n      <td>ITS1</td>\n      <td>Case</td>\n      <td>Gastrointestinal</td>\n      <td>Inflammatory bowel disease (IBD)</td>\n      <td>IBD</td>\n      <td>CD</td>\n      <td>clinical remission Crohn's disease (CD)</td>\n      <td>Crohn's disease (CD)</td>\n      <td>Europe</td>\n      <td>Poland</td>\n      <td>Lesser Poland Voivodeship (Małopolskie)</td>\n      <td>Krakow</td>\n      <td>Unknown</td>\n      <td>Unknown</td>\n      <td>Unknown</td>\n      <td>Unknown</td>\n      <td>L2</td>\n    </tr>\n  </tbody>\n</table>\n</div>"
     },
     "execution_count": 5,
     "metadata": {},
     "output_type": "execute_result"
    }
   ],
   "source": [
    "df_case_control_updated.head()"
   ],
   "metadata": {
    "collapsed": false,
    "ExecuteTime": {
     "end_time": "2024-08-20T20:01:29.529109Z",
     "start_time": "2024-08-20T20:01:29.510944Z"
    }
   },
   "id": "b21e707375aaca2",
   "execution_count": 5
  },
  {
   "cell_type": "code",
   "outputs": [
    {
     "data": {
      "text/plain": "(2415, 19)"
     },
     "execution_count": 6,
     "metadata": {},
     "output_type": "execute_result"
    }
   ],
   "source": [
    "df_case_control_updated.shape"
   ],
   "metadata": {
    "collapsed": false,
    "ExecuteTime": {
     "end_time": "2024-08-20T20:01:32.078868Z",
     "start_time": "2024-08-20T20:01:32.073701Z"
    }
   },
   "id": "c9178074dd013ac0",
   "execution_count": 6
  },
  {
   "cell_type": "code",
   "outputs": [
    {
     "data": {
      "text/plain": "25"
     },
     "execution_count": 7,
     "metadata": {},
     "output_type": "execute_result"
    }
   ],
   "source": [
    "df_case_control_updated['Project_ID'].nunique()"
   ],
   "metadata": {
    "collapsed": false,
    "ExecuteTime": {
     "end_time": "2024-08-20T20:01:34.161960Z",
     "start_time": "2024-08-20T20:01:34.155678Z"
    }
   },
   "id": "e2ce9cd2292989d0",
   "execution_count": 7
  },
  {
   "cell_type": "code",
   "outputs": [
    {
     "data": {
      "text/plain": "ITS1    1546\nITS2     869\nName: Sequencing_Region, dtype: int64"
     },
     "execution_count": 8,
     "metadata": {},
     "output_type": "execute_result"
    }
   ],
   "source": [
    "df_case_control_updated['Sequencing_Region'].value_counts()"
   ],
   "metadata": {
    "collapsed": false,
    "ExecuteTime": {
     "end_time": "2024-08-20T20:01:38.581318Z",
     "start_time": "2024-08-20T20:01:38.575433Z"
    }
   },
   "id": "9cf336cb93168640",
   "execution_count": 8
  },
  {
   "cell_type": "code",
   "outputs": [
    {
     "data": {
      "text/plain": "Sequencing_Region\nITS1    15\nITS2    10\nName: Project_ID, dtype: int64"
     },
     "execution_count": 9,
     "metadata": {},
     "output_type": "execute_result"
    }
   ],
   "source": [
    "df_case_control_updated.groupby('Sequencing_Region')['Project_ID'].nunique()"
   ],
   "metadata": {
    "collapsed": false,
    "ExecuteTime": {
     "end_time": "2024-08-20T20:01:46.301712Z",
     "start_time": "2024-08-20T20:01:46.292275Z"
    }
   },
   "id": "7c3e874ade32647b",
   "execution_count": 9
  },
  {
   "cell_type": "code",
   "outputs": [
    {
     "data": {
      "text/plain": "Case_Control  Health_Status                           \nCase          COVID-19                                    212\n              Inflammatory bowel disease (IBD)            175\n              Alcohol use disorder (AUD)                  152\n              Rheumatoid arthritis (RA)                   146\n              Type 1 diabetes (T1D)                       103\n              Anorexia nervosa                             94\n              Chronic kidney disease (CKD)                 90\n              Irritable bowel syndrome                     80\n              Non-alcoholic fatty liver disease            78\n              Alcoholic hepatitis                          70\n              Hydatid disease (HD)                         63\n              Gestational diabetes mellitus (GDM)          46\n              Type 2 diabetes mellitus (T2DM)              39\n              Clostridioides difficile infection (CDI)     34\n              H1N1                                         32\n              Morbidly obese                               32\n              Diabetic retinopathy (DR)                    24\n              HIV                                          24\n              Melanoma                                     20\n              Pancreatic ductal adenocarcinoma (PDA)       18\n              Atopic dermatitis                            17\n              Non-progressive alcoholic liver disease       5\n              Alcoholic cirrhosis                           1\nControl       Healthy                                     837\n              COVID-19-negative                            23\nName: Health_Status, dtype: int64"
     },
     "execution_count": 147,
     "metadata": {},
     "output_type": "execute_result"
    }
   ],
   "source": [
    "# Check if Case_Control_Type of each sample is labelled correctly - CHECKED\n",
    "df_case_control_updated.groupby('Case_Control')['Health_Status'].value_counts()"
   ],
   "metadata": {
    "collapsed": false,
    "ExecuteTime": {
     "end_time": "2024-08-18T18:37:44.383458Z",
     "start_time": "2024-08-18T18:37:44.371094Z"
    }
   },
   "id": "ce719d44ecdb3bb7",
   "execution_count": 147
  },
  {
   "cell_type": "code",
   "outputs": [
    {
     "data": {
      "text/plain": "Infectious          535\nGastrointestinal    423\nMetabolic           397\nOther               396\nLiver               351\nAutoimmune          249\nCancer               64\nName: Disease_Level_1, dtype: int64"
     },
     "execution_count": 148,
     "metadata": {},
     "output_type": "execute_result"
    }
   ],
   "source": [
    "df_case_control_updated['Disease_Level_1'].value_counts()"
   ],
   "metadata": {
    "collapsed": false,
    "ExecuteTime": {
     "end_time": "2024-08-18T18:37:51.257637Z",
     "start_time": "2024-08-18T18:37:51.249823Z"
    }
   },
   "id": "97dc46cee12345b6",
   "execution_count": 148
  },
  {
   "cell_type": "code",
   "outputs": [
    {
     "data": {
      "text/plain": "Disease_Level_1   Project_ID           \nAutoimmune        PRJNA791216              129\n                  PRJNA735021               86\n                  PRJNA751473               34\nCancer            PRJEB35665                37\n                  PRJNA557226               27\nGastrointestinal  PRJEB42375               144\n                  crohns-paper_37122605    144\n                  PRJNA607176               81\n                  PRJNA590898               54\nInfectious        PRJNA637034              184\n                  PRJNA778607              105\n                  PRJDB13192               100\n                  PRJNA419104               57\n                  PRJNA794154               53\n                  PRJEB46343                36\nLiver             PRJNA703732              155\n                  PRJNA517994              102\n                  PRJNA698272               94\nMetabolic         PRJNA756382              161\n                  PRJNA813503               98\n                  PRJNA662173               69\n                  PRJEB38917                41\n                  PRJEB53019                28\nOther             PRJNA647266              240\n                  PRJEB38930               156\nName: Project_ID, dtype: int64"
     },
     "execution_count": 149,
     "metadata": {},
     "output_type": "execute_result"
    }
   ],
   "source": [
    "df_case_control_updated.groupby('Disease_Level_1')['Project_ID'].value_counts()"
   ],
   "metadata": {
    "collapsed": false,
    "ExecuteTime": {
     "end_time": "2024-08-18T18:37:58.881307Z",
     "start_time": "2024-08-18T18:37:58.870357Z"
    }
   },
   "id": "e298f609bca4d0b7",
   "execution_count": 149
  },
  {
   "cell_type": "code",
   "outputs": [
    {
     "data": {
      "text/plain": "COVID-19                 337\nIBD                      279\nAlcohol-Associated-LD    257\nCKD                      240\nRA                       215\nT1DM                     161\nAN                       156\nIBS                      144\nHD                       105\nGDM                       98\nT2DM                      97\nNAFLD                     94\nCDI                       57\nObesity                   41\nMelanoma                  37\nHIV                       36\nAD                        34\nPDA                       27\nName: Disease_Level_2, dtype: int64"
     },
     "execution_count": 156,
     "metadata": {},
     "output_type": "execute_result"
    }
   ],
   "source": [
    "df_case_control_updated['Disease_Level_2'].value_counts()"
   ],
   "metadata": {
    "collapsed": false,
    "ExecuteTime": {
     "end_time": "2024-08-19T14:39:03.134510Z",
     "start_time": "2024-08-19T14:39:03.126317Z"
    }
   },
   "id": "ea152c1f3baff6ec",
   "execution_count": 156
  },
  {
   "cell_type": "code",
   "outputs": [
    {
     "name": "stdout",
     "output_type": "stream",
     "text": [
      "     Disease_Level_1        Disease_Level_2  sample_count  project_count\n",
      "0         Autoimmune                     AD            34              1\n",
      "1         Autoimmune                     RA           215              2\n",
      "2             Cancer               Melanoma            37              1\n",
      "3             Cancer                    PDA            27              1\n",
      "4   Gastrointestinal                    IBD           279              3\n",
      "5   Gastrointestinal                    IBS           144              1\n",
      "6         Infectious                    CDI            57              1\n",
      "7         Infectious               COVID-19           337              3\n",
      "8         Infectious                     HD           105              1\n",
      "9         Infectious                    HIV            36              1\n",
      "10             Liver  Alcohol-Associated-LD           257              2\n",
      "11             Liver                  NAFLD            94              1\n",
      "12         Metabolic                    GDM            98              1\n",
      "13         Metabolic                Obesity            41              1\n",
      "14         Metabolic                   T1DM           161              1\n",
      "15         Metabolic                   T2DM            97              2\n",
      "16             Other                     AN           156              1\n",
      "17             Other                    CKD           240              1\n"
     ]
    }
   ],
   "source": [
    "# Group by 'disease_level_1' and 'disease_level_2' and count both sample and project counts\n",
    "grouped_data_diseases = df_case_control_updated.groupby(['Disease_Level_1', 'Disease_Level_2']).agg(\n",
    "    sample_count=('Sample_ID', 'size'),  # Count of samples\n",
    "    project_count=('Project_ID', 'nunique')  # Count of unique projects\n",
    ").reset_index()\n",
    "\n",
    "# Display the table\n",
    "print(grouped_data_diseases)"
   ],
   "metadata": {
    "collapsed": false,
    "ExecuteTime": {
     "end_time": "2024-08-18T18:38:07.832097Z",
     "start_time": "2024-08-18T18:38:07.812928Z"
    }
   },
   "id": "f6612fdefc1998d9",
   "execution_count": 150
  },
  {
   "cell_type": "code",
   "outputs": [
    {
     "name": "stdout",
     "output_type": "stream",
     "text": [
      "               Project_ID        Disease_Level_2 Case_Control  sample_count\n",
      "0              PRJDB13192               COVID-19         Case            76\n",
      "1              PRJDB13192               COVID-19      Control            24\n",
      "2              PRJEB35665               Melanoma         Case            20\n",
      "3              PRJEB35665               Melanoma      Control            17\n",
      "4              PRJEB38917                Obesity         Case            32\n",
      "5              PRJEB38917                Obesity      Control             9\n",
      "6              PRJEB38930                     AN         Case            94\n",
      "7              PRJEB38930                     AN      Control            62\n",
      "8              PRJEB42375                    IBS         Case            80\n",
      "9              PRJEB42375                    IBS      Control            64\n",
      "10             PRJEB46343                    HIV         Case            24\n",
      "11             PRJEB46343                    HIV      Control            12\n",
      "12             PRJEB53019                   T2DM         Case            17\n",
      "13             PRJEB53019                   T2DM      Control            11\n",
      "14            PRJNA419104                    CDI         Case            34\n",
      "15            PRJNA419104                    CDI      Control            23\n",
      "16            PRJNA517994  Alcohol-Associated-LD         Case            91\n",
      "17            PRJNA517994  Alcohol-Associated-LD      Control            11\n",
      "18            PRJNA557226                    PDA         Case            18\n",
      "19            PRJNA557226                    PDA      Control             9\n",
      "20            PRJNA590898                    IBD         Case            36\n",
      "21            PRJNA590898                    IBD      Control            18\n",
      "22            PRJNA607176                    IBD         Case            34\n",
      "23            PRJNA607176                    IBD      Control            47\n",
      "24            PRJNA637034               COVID-19         Case           138\n",
      "25            PRJNA637034               COVID-19      Control            46\n",
      "26            PRJNA647266                    CKD         Case            90\n",
      "27            PRJNA647266                    CKD      Control           150\n",
      "28            PRJNA662173                   T2DM         Case            46\n",
      "29            PRJNA662173                   T2DM      Control            23\n",
      "30            PRJNA698272                  NAFLD         Case            78\n",
      "31            PRJNA698272                  NAFLD      Control            16\n",
      "32            PRJNA703732  Alcohol-Associated-LD         Case           137\n",
      "33            PRJNA703732  Alcohol-Associated-LD      Control            18\n",
      "34            PRJNA735021                     RA         Case            47\n",
      "35            PRJNA735021                     RA      Control            39\n",
      "36            PRJNA751473                     AD         Case            17\n",
      "37            PRJNA751473                     AD      Control            17\n",
      "38            PRJNA756382                   T1DM         Case           103\n",
      "39            PRJNA756382                   T1DM      Control            58\n",
      "40            PRJNA778607                     HD         Case            63\n",
      "41            PRJNA778607                     HD      Control            42\n",
      "42            PRJNA791216                     RA         Case            99\n",
      "43            PRJNA791216                     RA      Control            30\n",
      "44            PRJNA794154               COVID-19         Case            30\n",
      "45            PRJNA794154               COVID-19      Control            23\n",
      "46            PRJNA813503                    GDM         Case            46\n",
      "47            PRJNA813503                    GDM      Control            52\n",
      "48  crohns-paper_37122605                    IBD         Case           105\n",
      "49  crohns-paper_37122605                    IBD      Control            39\n"
     ]
    }
   ],
   "source": [
    "grouped_data_case_control_per_project = df_case_control_updated.groupby(['Project_ID', 'Disease_Level_2', 'Case_Control']).agg(sample_count=('Sample_ID', 'size')).reset_index()\n",
    "\n",
    "# Display the table\n",
    "print(grouped_data_case_control_per_project)"
   ],
   "metadata": {
    "collapsed": false,
    "ExecuteTime": {
     "end_time": "2024-08-20T20:46:57.626125Z",
     "start_time": "2024-08-20T20:46:57.593221Z"
    }
   },
   "id": "5fd511e2994ab257",
   "execution_count": 11
  },
  {
   "cell_type": "markdown",
   "source": [
    "#### Subsetting the project PRJNA637034 which contains both subjects with COVID-19 and HIV as cases"
   ],
   "metadata": {
    "collapsed": false
   },
   "id": "e7ad7f0e57245e09"
  },
  {
   "cell_type": "code",
   "outputs": [],
   "source": [
    "df_PRJNA637034 = df_case_control_updated[df_case_control_updated['Project_ID'] == 'PRJNA637034']"
   ],
   "metadata": {
    "collapsed": false,
    "ExecuteTime": {
     "end_time": "2024-08-20T09:34:26.781527Z",
     "start_time": "2024-08-20T09:34:26.776666Z"
    }
   },
   "id": "c4f508a643b10da7",
   "execution_count": 182
  },
  {
   "cell_type": "code",
   "outputs": [
    {
     "data": {
      "text/plain": "(184, 19)"
     },
     "execution_count": 183,
     "metadata": {},
     "output_type": "execute_result"
    }
   ],
   "source": [
    "df_PRJNA637034.shape"
   ],
   "metadata": {
    "collapsed": false,
    "ExecuteTime": {
     "end_time": "2024-08-20T09:34:27.424Z",
     "start_time": "2024-08-20T09:34:27.420571Z"
    }
   },
   "id": "4661e14c34ba1323",
   "execution_count": 183
  },
  {
   "cell_type": "code",
   "outputs": [
    {
     "data": {
      "text/plain": "COVID-19    106\nHealthy      46\nH1N1         32\nName: Health_Status, dtype: int64"
     },
     "execution_count": 184,
     "metadata": {},
     "output_type": "execute_result"
    }
   ],
   "source": [
    "df_PRJNA637034['Health_Status'].value_counts()"
   ],
   "metadata": {
    "collapsed": false,
    "ExecuteTime": {
     "end_time": "2024-08-20T09:34:28.696006Z",
     "start_time": "2024-08-20T09:34:28.689839Z"
    }
   },
   "id": "ddc28c6f1a7b1ae9",
   "execution_count": 184
  },
  {
   "cell_type": "code",
   "outputs": [],
   "source": [
    "df_PRJNA637034_covid = df_PRJNA637034[\n",
    "    (df_PRJNA637034['Health_Status'] == 'COVID-19') | \n",
    "    (df_PRJNA637034['Health_Status'] == 'Healthy')\n",
    "]"
   ],
   "metadata": {
    "collapsed": false,
    "ExecuteTime": {
     "end_time": "2024-08-20T09:34:33.373774Z",
     "start_time": "2024-08-20T09:34:33.369091Z"
    }
   },
   "id": "6048e03bee91206a",
   "execution_count": 185
  },
  {
   "cell_type": "code",
   "outputs": [],
   "source": [
    "df_PRJNA637034_h1n1 = df_PRJNA637034[\n",
    "    (df_PRJNA637034['Health_Status'] == 'H1N1') | \n",
    "    (df_PRJNA637034['Health_Status'] == 'Healthy')\n",
    "]"
   ],
   "metadata": {
    "collapsed": false,
    "ExecuteTime": {
     "end_time": "2024-08-20T09:34:33.933329Z",
     "start_time": "2024-08-20T09:34:33.929510Z"
    }
   },
   "id": "a32deb8c5b176cdc",
   "execution_count": 186
  },
  {
   "cell_type": "code",
   "outputs": [
    {
     "data": {
      "text/plain": "COVID-19    106\nHealthy      46\nName: Health_Status, dtype: int64"
     },
     "execution_count": 187,
     "metadata": {},
     "output_type": "execute_result"
    }
   ],
   "source": [
    "df_PRJNA637034_covid['Health_Status'].value_counts()"
   ],
   "metadata": {
    "collapsed": false,
    "ExecuteTime": {
     "end_time": "2024-08-20T09:34:35.875010Z",
     "start_time": "2024-08-20T09:34:35.868533Z"
    }
   },
   "id": "d802cbdc8ed62308",
   "execution_count": 187
  },
  {
   "cell_type": "code",
   "outputs": [],
   "source": [
    "df_PRJNA637034_covid.to_csv(f'{data_dir}/PRJNA637034_covid_metadata.tsv', na_rep='NA', sep='\\t', index=False)"
   ],
   "metadata": {
    "collapsed": false,
    "ExecuteTime": {
     "end_time": "2024-08-20T09:34:46.439215Z",
     "start_time": "2024-08-20T09:34:46.430557Z"
    }
   },
   "id": "ac6a5fb85bcf0a19",
   "execution_count": 188
  },
  {
   "cell_type": "code",
   "outputs": [
    {
     "data": {
      "text/plain": "Healthy    46\nH1N1       32\nName: Health_Status, dtype: int64"
     },
     "execution_count": 189,
     "metadata": {},
     "output_type": "execute_result"
    }
   ],
   "source": [
    "df_PRJNA637034_h1n1['Health_Status'].value_counts()"
   ],
   "metadata": {
    "collapsed": false,
    "ExecuteTime": {
     "end_time": "2024-08-20T09:34:49.079878Z",
     "start_time": "2024-08-20T09:34:49.073325Z"
    }
   },
   "id": "ed42ae157f8566",
   "execution_count": 189
  },
  {
   "cell_type": "code",
   "outputs": [
    {
     "name": "stdout",
     "output_type": "stream",
     "text": [
      "        Sample_ID   Project_ID Sequencing_Region Case_Control Disease_Level_1  \\\n",
      "1096  SRR11924182  PRJNA637034              ITS1      Control      Infectious   \n",
      "1097  SRR11924183  PRJNA637034              ITS1      Control      Infectious   \n",
      "1098  SRR11924184  PRJNA637034              ITS1      Control      Infectious   \n",
      "1099  SRR11924185  PRJNA637034              ITS1      Control      Infectious   \n",
      "1101  SRR11924187  PRJNA637034              ITS1      Control      Infectious   \n",
      "...           ...          ...               ...          ...             ...   \n",
      "1176  SRR11924262  PRJNA637034              ITS1         Case      Infectious   \n",
      "1178  SRR11924264  PRJNA637034              ITS1         Case      Infectious   \n",
      "1179  SRR11924265  PRJNA637034              ITS1         Case      Infectious   \n",
      "1180  SRR11924266  PRJNA637034              ITS1         Case      Infectious   \n",
      "1181  SRR11924267  PRJNA637034              ITS1         Case      Infectious   \n",
      "\n",
      "     Health_Status Disease_Level_2 Disease_Level_3 Disease_Subgroup  \\\n",
      "1096       Healthy            H1N1             NaN              NaN   \n",
      "1097       Healthy            H1N1             NaN              NaN   \n",
      "1098       Healthy            H1N1             NaN              NaN   \n",
      "1099       Healthy            H1N1             NaN              NaN   \n",
      "1101       Healthy            H1N1             NaN              NaN   \n",
      "...            ...             ...             ...              ...   \n",
      "1176          H1N1            H1N1             NaN              NaN   \n",
      "1178          H1N1            H1N1             NaN              NaN   \n",
      "1179          H1N1            H1N1             NaN              NaN   \n",
      "1180          H1N1            H1N1             NaN              NaN   \n",
      "1181          H1N1            H1N1             NaN              NaN   \n",
      "\n",
      "     IBD_Subgroup GeoLoc_Continent GeoLoc_Country GeoLoc_Region GeoLoc_City  \\\n",
      "1096          NaN             Asia          China      Zhejiang    Hangzhou   \n",
      "1097          NaN             Asia          China      Zhejiang    Hangzhou   \n",
      "1098          NaN             Asia          China      Zhejiang    Hangzhou   \n",
      "1099          NaN             Asia          China      Zhejiang    Hangzhou   \n",
      "1101          NaN             Asia          China      Zhejiang    Hangzhou   \n",
      "...           ...              ...            ...           ...         ...   \n",
      "1176          NaN             Asia          China      Zhejiang    Hangzhou   \n",
      "1178          NaN             Asia          China      Zhejiang    Hangzhou   \n",
      "1179          NaN             Asia          China      Zhejiang    Hangzhou   \n",
      "1180          NaN             Asia          China      Zhejiang    Hangzhou   \n",
      "1181          NaN             Asia          China      Zhejiang    Hangzhou   \n",
      "\n",
      "     Host_Sex Host_Age_Category Host_Age_Decade Host_Age Age_Detail_Level  \n",
      "1096  Unknown           Unknown         Unknown  Unknown               L1  \n",
      "1097  Unknown           Unknown         Unknown  Unknown               L1  \n",
      "1098  Unknown           Unknown         Unknown  Unknown               L1  \n",
      "1099  Unknown           Unknown         Unknown  Unknown               L1  \n",
      "1101  Unknown           Unknown         Unknown  Unknown               L1  \n",
      "...       ...               ...             ...      ...              ...  \n",
      "1176  Unknown           Unknown         Unknown  Unknown               L1  \n",
      "1178  Unknown           Unknown         Unknown  Unknown               L1  \n",
      "1179  Unknown           Unknown         Unknown  Unknown               L1  \n",
      "1180  Unknown           Unknown         Unknown  Unknown               L1  \n",
      "1181  Unknown           Unknown         Unknown  Unknown               L1  \n",
      "\n",
      "[78 rows x 19 columns]\n"
     ]
    }
   ],
   "source": [
    "# Replace 'COVID-19' with 'H1N1' in the 'Disease_Level_2' column\n",
    "df_PRJNA637034_h1n1_new = df_PRJNA637034_h1n1.copy()\n",
    "df_PRJNA637034_h1n1_new ['Disease_Level_2'] = df_PRJNA637034_h1n1_new['Disease_Level_2'].replace('COVID-19', 'H1N1')\n",
    "\n",
    "print(df_PRJNA637034_h1n1_new)"
   ],
   "metadata": {
    "collapsed": false,
    "ExecuteTime": {
     "end_time": "2024-08-20T09:36:53.442480Z",
     "start_time": "2024-08-20T09:36:53.410286Z"
    }
   },
   "id": "4d5be9c24f1039f",
   "execution_count": 190
  },
  {
   "cell_type": "code",
   "outputs": [],
   "source": [
    "df_PRJNA637034_h1n1_new.to_csv(f'{data_dir}/PRJNA637034_h1n1_metadata.tsv', na_rep='NA', sep='\\t', index=False)"
   ],
   "metadata": {
    "collapsed": false,
    "ExecuteTime": {
     "end_time": "2024-08-20T09:37:15.042639Z",
     "start_time": "2024-08-20T09:37:15.035128Z"
    }
   },
   "id": "988149b80ec1c307",
   "execution_count": 191
  },
  {
   "cell_type": "markdown",
   "source": [
    "#### Subsetting metadata with all the H1N1 samples removed"
   ],
   "metadata": {
    "collapsed": false
   },
   "id": "fdaa03bd3a7664b9"
  },
  {
   "cell_type": "code",
   "outputs": [],
   "source": [
    "df_case_control_updated_remove_h1n1 = df_case_control_updated[df_case_control_updated['Health_Status'] != 'H1N1']"
   ],
   "metadata": {
    "collapsed": false,
    "ExecuteTime": {
     "end_time": "2024-08-22T12:23:36.011526Z",
     "start_time": "2024-08-22T12:23:35.993737Z"
    }
   },
   "id": "94e6d188a89ac033",
   "execution_count": 13
  },
  {
   "cell_type": "code",
   "outputs": [
    {
     "data": {
      "text/plain": "(2383, 19)"
     },
     "execution_count": 14,
     "metadata": {},
     "output_type": "execute_result"
    }
   ],
   "source": [
    "df_case_control_updated_remove_h1n1.shape"
   ],
   "metadata": {
    "collapsed": false,
    "ExecuteTime": {
     "end_time": "2024-08-22T12:23:37.960965Z",
     "start_time": "2024-08-22T12:23:37.956109Z"
    }
   },
   "id": "fd6ffbfa7b576072",
   "execution_count": 14
  },
  {
   "cell_type": "code",
   "outputs": [],
   "source": [
    "df_case_control_updated_remove_h1n1.to_csv(f'{data_dir}/case_control_metadata_remove_h1n1.tsv', na_rep='NA', sep='\\t', index=False)"
   ],
   "metadata": {
    "collapsed": false,
    "ExecuteTime": {
     "end_time": "2024-08-20T10:20:16.537097Z",
     "start_time": "2024-08-20T10:20:16.492204Z"
    }
   },
   "id": "2927d77ca6d65424",
   "execution_count": 196
  },
  {
   "cell_type": "markdown",
   "source": [
    "#### Checkpoint 08/20/2024"
   ],
   "metadata": {
    "collapsed": false
   },
   "id": "9fadc23e9f37140e"
  },
  {
   "cell_type": "markdown",
   "source": [
    "\"case_control_metadata_240820.tsv\"\n",
    "\n",
    "PRJNA637034:\n",
    "1. Specified Case-COVID and Case-H1N1.\n",
    "2. Disease_Level_2: changed from COVID-19 to COVID-19-H1N1.\n",
    "\n",
    "Not useful - decided to remove all H1N1 samples due to too few remained samples after rarefaction."
   ],
   "metadata": {
    "collapsed": false
   },
   "id": "53fb316973244c7c"
  },
  {
   "cell_type": "markdown",
   "source": [
    "#### Checkpoint 08/22/2024"
   ],
   "metadata": {
    "collapsed": false
   },
   "id": "df87bf20aa8a5580"
  },
  {
   "cell_type": "markdown",
   "source": [
    "Exclude four projects which the sample counts after rarefaction at sampling depth 3000 of either case or control group are less than 5."
   ],
   "metadata": {
    "collapsed": false
   },
   "id": "1a7205b229171220"
  },
  {
   "cell_type": "code",
   "outputs": [],
   "source": [
    "# Sampling depth 3000\n",
    "projects_to_exclude1 = ['PRJEB38917', 'PRJEB53019', 'PRJNA557226', 'PRJNA637034']\n",
    "\n",
    "df_case_control_updated_remove_h1n1_filtered1 = df_case_control_updated_remove_h1n1[~df_case_control_updated_remove_h1n1['Project_ID'].isin(projects_to_exclude1)]"
   ],
   "metadata": {
    "collapsed": false,
    "ExecuteTime": {
     "end_time": "2024-08-22T12:25:15.925821Z",
     "start_time": "2024-08-22T12:25:15.918151Z"
    }
   },
   "id": "3de12e89d45c1b1f",
   "execution_count": 17
  },
  {
   "cell_type": "code",
   "outputs": [
    {
     "data": {
      "text/plain": "(2135, 19)"
     },
     "execution_count": 19,
     "metadata": {},
     "output_type": "execute_result"
    }
   ],
   "source": [
    "df_case_control_updated_remove_h1n1_filtered1.shape"
   ],
   "metadata": {
    "collapsed": false,
    "ExecuteTime": {
     "end_time": "2024-08-22T12:25:39.786602Z",
     "start_time": "2024-08-22T12:25:39.783081Z"
    }
   },
   "id": "91d289904db9c8f7",
   "execution_count": 19
  },
  {
   "cell_type": "code",
   "outputs": [
    {
     "data": {
      "text/plain": "21"
     },
     "execution_count": 20,
     "metadata": {},
     "output_type": "execute_result"
    }
   ],
   "source": [
    "df_case_control_updated_remove_h1n1_filtered1['Project_ID'].nunique()"
   ],
   "metadata": {
    "collapsed": false,
    "ExecuteTime": {
     "end_time": "2024-08-22T12:26:16.829821Z",
     "start_time": "2024-08-22T12:26:16.811186Z"
    }
   },
   "id": "ec9429b066985939",
   "execution_count": 20
  },
  {
   "cell_type": "code",
   "outputs": [],
   "source": [
    "df_case_control_updated_remove_h1n1_filtered1.to_csv(f'{data_dir}/case_control_metadata_remove_h1n1_filtered1.tsv', na_rep='NA', sep='\\t', index=False)"
   ],
   "metadata": {
    "collapsed": false,
    "ExecuteTime": {
     "end_time": "2024-08-22T12:35:08.082126Z",
     "start_time": "2024-08-22T12:35:08.053482Z"
    }
   },
   "id": "a5308d6371ae622b",
   "execution_count": 26
  },
  {
   "cell_type": "markdown",
   "source": [
    "#### Checkpoint 08/26/2024"
   ],
   "metadata": {
    "collapsed": false
   },
   "id": "a6a6288cd37bc32c"
  },
  {
   "cell_type": "markdown",
   "source": [
    "Exclude five projects which the sample counts after rarefaction at sampling depth 6000 of either case or control group are less than 5."
   ],
   "metadata": {
    "collapsed": false
   },
   "id": "36f671c2d8067f3e"
  },
  {
   "cell_type": "code",
   "outputs": [
    {
     "data": {
      "text/plain": "(2383, 19)"
     },
     "execution_count": 27,
     "metadata": {},
     "output_type": "execute_result"
    }
   ],
   "source": [
    "df_case_control_updated_remove_h1n1.shape"
   ],
   "metadata": {
    "collapsed": false,
    "ExecuteTime": {
     "end_time": "2024-08-26T17:15:50.137856Z",
     "start_time": "2024-08-26T17:15:50.119713Z"
    }
   },
   "id": "90e0ac18c3643819",
   "execution_count": 27
  },
  {
   "cell_type": "code",
   "outputs": [],
   "source": [
    "# Sampling depth 6000\n",
    "projects_to_exclude2 = ['PRJEB38917', 'PRJEB53019', 'PRJNA557226', 'PRJNA637034', 'PRJNA698272']\n",
    "\n",
    "df_case_control_updated_remove_h1n1_filtered2 = df_case_control_updated_remove_h1n1[~df_case_control_updated_remove_h1n1['Project_ID'].isin(projects_to_exclude2)]"
   ],
   "metadata": {
    "collapsed": false,
    "ExecuteTime": {
     "end_time": "2024-08-26T17:16:13.395352Z",
     "start_time": "2024-08-26T17:16:13.385145Z"
    }
   },
   "id": "bb6457a64a2229e",
   "execution_count": 28
  },
  {
   "cell_type": "code",
   "outputs": [
    {
     "data": {
      "text/plain": "(2041, 19)"
     },
     "execution_count": 29,
     "metadata": {},
     "output_type": "execute_result"
    }
   ],
   "source": [
    "df_case_control_updated_remove_h1n1_filtered2.shape"
   ],
   "metadata": {
    "collapsed": false,
    "ExecuteTime": {
     "end_time": "2024-08-26T17:16:19.755589Z",
     "start_time": "2024-08-26T17:16:19.750728Z"
    }
   },
   "id": "9b68dd891f39d813",
   "execution_count": 29
  },
  {
   "cell_type": "code",
   "outputs": [],
   "source": [
    "df_case_control_updated_remove_h1n1_filtered2.to_csv(f'{data_dir}/case_control_metadata_remove_h1n1_filtered2.tsv', na_rep='NA', sep='\\t', index=False)"
   ],
   "metadata": {
    "collapsed": false,
    "ExecuteTime": {
     "end_time": "2024-08-26T17:17:11.278744Z",
     "start_time": "2024-08-26T17:17:11.257803Z"
    }
   },
   "id": "7a610bce6209a1c2",
   "execution_count": 30
  },
  {
   "cell_type": "markdown",
   "source": [
    "#### Checkpoint 09/01/2024"
   ],
   "metadata": {
    "collapsed": false
   },
   "id": "d2f76da2bd558f7b"
  },
  {
   "cell_type": "markdown",
   "source": [
    "Subsetting nine projects that passed the metadata sample size filtering for ML-sample-classifier."
   ],
   "metadata": {
    "collapsed": false
   },
   "id": "cc608f2a4da4c06e"
  },
  {
   "cell_type": "code",
   "outputs": [],
   "source": [
    "df_remove_h1n1 = pd.read_csv(f'{data_dir}/case_control_metadata_remove_h1n1.tsv', sep='\\t')"
   ],
   "metadata": {
    "collapsed": false,
    "ExecuteTime": {
     "end_time": "2024-09-01T17:41:48.363952Z",
     "start_time": "2024-09-01T17:41:48.311141Z"
    }
   },
   "id": "418838da98ed065a",
   "execution_count": 3
  },
  {
   "cell_type": "code",
   "outputs": [
    {
     "data": {
      "text/plain": "  SampleID             Project_ID Sequencing_Region Case_Control  \\\n0     S675  crohns-paper_37122605              ITS1         Case   \n1     S683  crohns-paper_37122605              ITS1         Case   \n2     S691  crohns-paper_37122605              ITS1         Case   \n3     S699  crohns-paper_37122605              ITS1         Case   \n4     S707  crohns-paper_37122605              ITS1         Case   \n\n    Disease_Level_1                     Health_Status Disease_Level_2  \\\n0  Gastrointestinal  Inflammatory bowel disease (IBD)             IBD   \n1  Gastrointestinal  Inflammatory bowel disease (IBD)             IBD   \n2  Gastrointestinal  Inflammatory bowel disease (IBD)             IBD   \n3  Gastrointestinal  Inflammatory bowel disease (IBD)             IBD   \n4  Gastrointestinal  Inflammatory bowel disease (IBD)             IBD   \n\n  Disease_Level_3                              Disease_Subgroup  \\\n0   active_new_CD  active, newly diagnosed Crohn's disease (CD)   \n1   active_new_CD  active, newly diagnosed Crohn's disease (CD)   \n2   active_new_CD  active, newly diagnosed Crohn's disease (CD)   \n3   active_new_CD  active, newly diagnosed Crohn's disease (CD)   \n4              CD       clinical remission Crohn's disease (CD)   \n\n           IBD_Subgroup GeoLoc_Continent GeoLoc_Country  \\\n0  Crohn's disease (CD)           Europe         Poland   \n1  Crohn's disease (CD)           Europe         Poland   \n2  Crohn's disease (CD)           Europe         Poland   \n3  Crohn's disease (CD)           Europe         Poland   \n4  Crohn's disease (CD)           Europe         Poland   \n\n                             GeoLoc_Region GeoLoc_City Host_Sex  \\\n0  Lesser Poland Voivodeship (Małopolskie)      Krakow  Unknown   \n1  Lesser Poland Voivodeship (Małopolskie)      Krakow  Unknown   \n2  Lesser Poland Voivodeship (Małopolskie)      Krakow  Unknown   \n3  Lesser Poland Voivodeship (Małopolskie)      Krakow  Unknown   \n4  Lesser Poland Voivodeship (Małopolskie)      Krakow  Unknown   \n\n  Host_Age_Category Host_Age_Decade Host_Age Age_Detail_Level  \n0           Unknown         Unknown  Unknown               L2  \n1           Unknown         Unknown  Unknown               L2  \n2           Unknown         Unknown  Unknown               L2  \n3           Unknown         Unknown  Unknown               L2  \n4           Unknown         Unknown  Unknown               L2  ",
      "text/html": "<div>\n<style scoped>\n    .dataframe tbody tr th:only-of-type {\n        vertical-align: middle;\n    }\n\n    .dataframe tbody tr th {\n        vertical-align: top;\n    }\n\n    .dataframe thead th {\n        text-align: right;\n    }\n</style>\n<table border=\"1\" class=\"dataframe\">\n  <thead>\n    <tr style=\"text-align: right;\">\n      <th></th>\n      <th>SampleID</th>\n      <th>Project_ID</th>\n      <th>Sequencing_Region</th>\n      <th>Case_Control</th>\n      <th>Disease_Level_1</th>\n      <th>Health_Status</th>\n      <th>Disease_Level_2</th>\n      <th>Disease_Level_3</th>\n      <th>Disease_Subgroup</th>\n      <th>IBD_Subgroup</th>\n      <th>GeoLoc_Continent</th>\n      <th>GeoLoc_Country</th>\n      <th>GeoLoc_Region</th>\n      <th>GeoLoc_City</th>\n      <th>Host_Sex</th>\n      <th>Host_Age_Category</th>\n      <th>Host_Age_Decade</th>\n      <th>Host_Age</th>\n      <th>Age_Detail_Level</th>\n    </tr>\n  </thead>\n  <tbody>\n    <tr>\n      <th>0</th>\n      <td>S675</td>\n      <td>crohns-paper_37122605</td>\n      <td>ITS1</td>\n      <td>Case</td>\n      <td>Gastrointestinal</td>\n      <td>Inflammatory bowel disease (IBD)</td>\n      <td>IBD</td>\n      <td>active_new_CD</td>\n      <td>active, newly diagnosed Crohn's disease (CD)</td>\n      <td>Crohn's disease (CD)</td>\n      <td>Europe</td>\n      <td>Poland</td>\n      <td>Lesser Poland Voivodeship (Małopolskie)</td>\n      <td>Krakow</td>\n      <td>Unknown</td>\n      <td>Unknown</td>\n      <td>Unknown</td>\n      <td>Unknown</td>\n      <td>L2</td>\n    </tr>\n    <tr>\n      <th>1</th>\n      <td>S683</td>\n      <td>crohns-paper_37122605</td>\n      <td>ITS1</td>\n      <td>Case</td>\n      <td>Gastrointestinal</td>\n      <td>Inflammatory bowel disease (IBD)</td>\n      <td>IBD</td>\n      <td>active_new_CD</td>\n      <td>active, newly diagnosed Crohn's disease (CD)</td>\n      <td>Crohn's disease (CD)</td>\n      <td>Europe</td>\n      <td>Poland</td>\n      <td>Lesser Poland Voivodeship (Małopolskie)</td>\n      <td>Krakow</td>\n      <td>Unknown</td>\n      <td>Unknown</td>\n      <td>Unknown</td>\n      <td>Unknown</td>\n      <td>L2</td>\n    </tr>\n    <tr>\n      <th>2</th>\n      <td>S691</td>\n      <td>crohns-paper_37122605</td>\n      <td>ITS1</td>\n      <td>Case</td>\n      <td>Gastrointestinal</td>\n      <td>Inflammatory bowel disease (IBD)</td>\n      <td>IBD</td>\n      <td>active_new_CD</td>\n      <td>active, newly diagnosed Crohn's disease (CD)</td>\n      <td>Crohn's disease (CD)</td>\n      <td>Europe</td>\n      <td>Poland</td>\n      <td>Lesser Poland Voivodeship (Małopolskie)</td>\n      <td>Krakow</td>\n      <td>Unknown</td>\n      <td>Unknown</td>\n      <td>Unknown</td>\n      <td>Unknown</td>\n      <td>L2</td>\n    </tr>\n    <tr>\n      <th>3</th>\n      <td>S699</td>\n      <td>crohns-paper_37122605</td>\n      <td>ITS1</td>\n      <td>Case</td>\n      <td>Gastrointestinal</td>\n      <td>Inflammatory bowel disease (IBD)</td>\n      <td>IBD</td>\n      <td>active_new_CD</td>\n      <td>active, newly diagnosed Crohn's disease (CD)</td>\n      <td>Crohn's disease (CD)</td>\n      <td>Europe</td>\n      <td>Poland</td>\n      <td>Lesser Poland Voivodeship (Małopolskie)</td>\n      <td>Krakow</td>\n      <td>Unknown</td>\n      <td>Unknown</td>\n      <td>Unknown</td>\n      <td>Unknown</td>\n      <td>L2</td>\n    </tr>\n    <tr>\n      <th>4</th>\n      <td>S707</td>\n      <td>crohns-paper_37122605</td>\n      <td>ITS1</td>\n      <td>Case</td>\n      <td>Gastrointestinal</td>\n      <td>Inflammatory bowel disease (IBD)</td>\n      <td>IBD</td>\n      <td>CD</td>\n      <td>clinical remission Crohn's disease (CD)</td>\n      <td>Crohn's disease (CD)</td>\n      <td>Europe</td>\n      <td>Poland</td>\n      <td>Lesser Poland Voivodeship (Małopolskie)</td>\n      <td>Krakow</td>\n      <td>Unknown</td>\n      <td>Unknown</td>\n      <td>Unknown</td>\n      <td>Unknown</td>\n      <td>L2</td>\n    </tr>\n  </tbody>\n</table>\n</div>"
     },
     "execution_count": 5,
     "metadata": {},
     "output_type": "execute_result"
    }
   ],
   "source": [
    "df_remove_h1n1.head()"
   ],
   "metadata": {
    "collapsed": false,
    "ExecuteTime": {
     "end_time": "2024-09-01T17:46:02.666336Z",
     "start_time": "2024-09-01T17:46:02.644140Z"
    }
   },
   "id": "9be775ac794038f9",
   "execution_count": 5
  },
  {
   "cell_type": "code",
   "outputs": [
    {
     "data": {
      "text/plain": "(2383, 19)"
     },
     "execution_count": 4,
     "metadata": {},
     "output_type": "execute_result"
    }
   ],
   "source": [
    "df_remove_h1n1.shape"
   ],
   "metadata": {
    "collapsed": false,
    "ExecuteTime": {
     "end_time": "2024-09-01T17:41:57.586954Z",
     "start_time": "2024-09-01T17:41:57.580306Z"
    }
   },
   "id": "29f5973fc6af6c7c",
   "execution_count": 4
  },
  {
   "cell_type": "code",
   "outputs": [],
   "source": [
    "projects_for_ML = ['PRJEB42375', 'PRJNA607176', 'PRJNA647266', 'PRJNA662173', 'PRJNA735021',\n",
    "               'PRJNA756382', 'PRJNA813503', 'PRJEB38930', 'PRJNA590898']\n",
    "df_for_ML = df_remove_h1n1[df_remove_h1n1['Project_ID'].isin(projects_for_ML)]"
   ],
   "metadata": {
    "collapsed": false,
    "ExecuteTime": {
     "end_time": "2024-09-01T17:46:16.327809Z",
     "start_time": "2024-09-01T17:46:16.320100Z"
    }
   },
   "id": "b70fee5c79306acc",
   "execution_count": 6
  },
  {
   "cell_type": "code",
   "outputs": [
    {
     "data": {
      "text/plain": "9"
     },
     "execution_count": 9,
     "metadata": {},
     "output_type": "execute_result"
    }
   ],
   "source": [
    "df_for_ML['Project_ID'].nunique()\n",
    "# Sanity check - OK"
   ],
   "metadata": {
    "collapsed": false,
    "ExecuteTime": {
     "end_time": "2024-09-01T17:47:21.554104Z",
     "start_time": "2024-09-01T17:47:21.546776Z"
    }
   },
   "id": "f2e16f1b31f53c4c",
   "execution_count": 9
  },
  {
   "cell_type": "code",
   "outputs": [],
   "source": [
    "df_for_ML.to_csv(f'{data_dir}/case_control_metadata_remove_h1n1_filtered3.tsv', na_rep='NA', sep='\\t', index=False)"
   ],
   "metadata": {
    "collapsed": false,
    "ExecuteTime": {
     "end_time": "2024-09-01T17:48:30.997534Z",
     "start_time": "2024-09-01T17:48:30.983239Z"
    }
   },
   "id": "5113b7009af183da",
   "execution_count": 10
  },
  {
   "cell_type": "markdown",
   "source": [
    "### Below is not useful"
   ],
   "metadata": {
    "collapsed": false
   },
   "id": "9e40361cf0764bde"
  },
  {
   "cell_type": "markdown",
   "source": [
    "#### Subsetting the IBD samples"
   ],
   "metadata": {
    "collapsed": false
   },
   "id": "61756eaa7dfe058b"
  },
  {
   "cell_type": "code",
   "outputs": [],
   "source": [
    "df_IBD = df_updated[df_updated['Health Status'] == 'Inflammatory bowel disease (IBD)']"
   ],
   "metadata": {
    "collapsed": false,
    "ExecuteTime": {
     "end_time": "2024-08-13T14:24:16.135088Z",
     "start_time": "2024-08-13T14:24:16.124994Z"
    }
   },
   "id": "14ff7f2f67c59a64",
   "execution_count": 71
  },
  {
   "cell_type": "code",
   "outputs": [
    {
     "data": {
      "text/plain": "(610, 14)"
     },
     "execution_count": 72,
     "metadata": {},
     "output_type": "execute_result"
    }
   ],
   "source": [
    "df_IBD.shape"
   ],
   "metadata": {
    "collapsed": false,
    "ExecuteTime": {
     "end_time": "2024-08-13T14:24:16.981601Z",
     "start_time": "2024-08-13T14:24:16.975124Z"
    }
   },
   "id": "fd5cf4200347d0d0",
   "execution_count": 72
  },
  {
   "cell_type": "code",
   "outputs": [
    {
     "data": {
      "text/plain": "       Sample ID  Project ID                     Health Status   IBD Subgroup  \\\n1664  ERR5327308  PRJEB11419  Inflammatory bowel disease (IBD)  Not specified   \n1665  ERR5327309  PRJEB11419  Inflammatory bowel disease (IBD)  Not specified   \n1699  ERR5327348  PRJEB11419  Inflammatory bowel disease (IBD)  Not specified   \n1701  ERR5327350  PRJEB11419  Inflammatory bowel disease (IBD)  Not specified   \n1732  ERR5327400  PRJEB11419  Inflammatory bowel disease (IBD)  Not specified   \n1736  ERR5327404  PRJEB11419  Inflammatory bowel disease (IBD)  Not specified   \n1742  ERR5327410  PRJEB11419  Inflammatory bowel disease (IBD)  Not specified   \n1770  ERR5327445  PRJEB11419  Inflammatory bowel disease (IBD)  Not specified   \n1776  ERR5327451  PRJEB11419  Inflammatory bowel disease (IBD)  Not specified   \n1778  ERR5327453  PRJEB11419  Inflammatory bowel disease (IBD)  Not specified   \n\n     Disease Subgroup Continent of Geolocation    Country of Geolocation  \\\n1664              NaN                  Oceania                 Australia   \n1665              NaN                  Oceania                 Australia   \n1699              NaN                  Oceania                 Australia   \n1701              NaN                  Oceania                 Australia   \n1732              NaN                 Americas                    Canada   \n1736              NaN                  Oceania                 Australia   \n1742              NaN                  Oceania                 Australia   \n1770              NaN                 Americas  United States of America   \n1776              NaN                   Europe            United Kingdom   \n1778              NaN                   Europe            United Kingdom   \n\n       Region     City Host Sex Host Age Category Host Age Decade Host Age  \\\n1664  Unknown  Unknown     male             adult             30s       36   \n1665  Unknown  Unknown   female             adult             50s       54   \n1699  Unknown  Unknown   female             adult             30s       39   \n1701  Unknown  Unknown   female             adult             30s       39   \n1732  Unknown  Unknown   female             adult             50s       57   \n1736  Unknown  Unknown     male             adult             50s       54   \n1742  Unknown  Unknown     male             adult             40s       45   \n1770  Unknown  Unknown   female             adult             60s       63   \n1776  Unknown  Unknown     male           elderly             80s       80   \n1778  Unknown  Unknown     male             adult             50s       53   \n\n     Age Detail Level  \n1664               L5  \n1665               L5  \n1699               L5  \n1701               L5  \n1732               L5  \n1736               L5  \n1742               L5  \n1770               L5  \n1776               L5  \n1778               L5  ",
      "text/html": "<div>\n<style scoped>\n    .dataframe tbody tr th:only-of-type {\n        vertical-align: middle;\n    }\n\n    .dataframe tbody tr th {\n        vertical-align: top;\n    }\n\n    .dataframe thead th {\n        text-align: right;\n    }\n</style>\n<table border=\"1\" class=\"dataframe\">\n  <thead>\n    <tr style=\"text-align: right;\">\n      <th></th>\n      <th>Sample ID</th>\n      <th>Project ID</th>\n      <th>Health Status</th>\n      <th>IBD Subgroup</th>\n      <th>Disease Subgroup</th>\n      <th>Continent of Geolocation</th>\n      <th>Country of Geolocation</th>\n      <th>Region</th>\n      <th>City</th>\n      <th>Host Sex</th>\n      <th>Host Age Category</th>\n      <th>Host Age Decade</th>\n      <th>Host Age</th>\n      <th>Age Detail Level</th>\n    </tr>\n  </thead>\n  <tbody>\n    <tr>\n      <th>1664</th>\n      <td>ERR5327308</td>\n      <td>PRJEB11419</td>\n      <td>Inflammatory bowel disease (IBD)</td>\n      <td>Not specified</td>\n      <td>NaN</td>\n      <td>Oceania</td>\n      <td>Australia</td>\n      <td>Unknown</td>\n      <td>Unknown</td>\n      <td>male</td>\n      <td>adult</td>\n      <td>30s</td>\n      <td>36</td>\n      <td>L5</td>\n    </tr>\n    <tr>\n      <th>1665</th>\n      <td>ERR5327309</td>\n      <td>PRJEB11419</td>\n      <td>Inflammatory bowel disease (IBD)</td>\n      <td>Not specified</td>\n      <td>NaN</td>\n      <td>Oceania</td>\n      <td>Australia</td>\n      <td>Unknown</td>\n      <td>Unknown</td>\n      <td>female</td>\n      <td>adult</td>\n      <td>50s</td>\n      <td>54</td>\n      <td>L5</td>\n    </tr>\n    <tr>\n      <th>1699</th>\n      <td>ERR5327348</td>\n      <td>PRJEB11419</td>\n      <td>Inflammatory bowel disease (IBD)</td>\n      <td>Not specified</td>\n      <td>NaN</td>\n      <td>Oceania</td>\n      <td>Australia</td>\n      <td>Unknown</td>\n      <td>Unknown</td>\n      <td>female</td>\n      <td>adult</td>\n      <td>30s</td>\n      <td>39</td>\n      <td>L5</td>\n    </tr>\n    <tr>\n      <th>1701</th>\n      <td>ERR5327350</td>\n      <td>PRJEB11419</td>\n      <td>Inflammatory bowel disease (IBD)</td>\n      <td>Not specified</td>\n      <td>NaN</td>\n      <td>Oceania</td>\n      <td>Australia</td>\n      <td>Unknown</td>\n      <td>Unknown</td>\n      <td>female</td>\n      <td>adult</td>\n      <td>30s</td>\n      <td>39</td>\n      <td>L5</td>\n    </tr>\n    <tr>\n      <th>1732</th>\n      <td>ERR5327400</td>\n      <td>PRJEB11419</td>\n      <td>Inflammatory bowel disease (IBD)</td>\n      <td>Not specified</td>\n      <td>NaN</td>\n      <td>Americas</td>\n      <td>Canada</td>\n      <td>Unknown</td>\n      <td>Unknown</td>\n      <td>female</td>\n      <td>adult</td>\n      <td>50s</td>\n      <td>57</td>\n      <td>L5</td>\n    </tr>\n    <tr>\n      <th>1736</th>\n      <td>ERR5327404</td>\n      <td>PRJEB11419</td>\n      <td>Inflammatory bowel disease (IBD)</td>\n      <td>Not specified</td>\n      <td>NaN</td>\n      <td>Oceania</td>\n      <td>Australia</td>\n      <td>Unknown</td>\n      <td>Unknown</td>\n      <td>male</td>\n      <td>adult</td>\n      <td>50s</td>\n      <td>54</td>\n      <td>L5</td>\n    </tr>\n    <tr>\n      <th>1742</th>\n      <td>ERR5327410</td>\n      <td>PRJEB11419</td>\n      <td>Inflammatory bowel disease (IBD)</td>\n      <td>Not specified</td>\n      <td>NaN</td>\n      <td>Oceania</td>\n      <td>Australia</td>\n      <td>Unknown</td>\n      <td>Unknown</td>\n      <td>male</td>\n      <td>adult</td>\n      <td>40s</td>\n      <td>45</td>\n      <td>L5</td>\n    </tr>\n    <tr>\n      <th>1770</th>\n      <td>ERR5327445</td>\n      <td>PRJEB11419</td>\n      <td>Inflammatory bowel disease (IBD)</td>\n      <td>Not specified</td>\n      <td>NaN</td>\n      <td>Americas</td>\n      <td>United States of America</td>\n      <td>Unknown</td>\n      <td>Unknown</td>\n      <td>female</td>\n      <td>adult</td>\n      <td>60s</td>\n      <td>63</td>\n      <td>L5</td>\n    </tr>\n    <tr>\n      <th>1776</th>\n      <td>ERR5327451</td>\n      <td>PRJEB11419</td>\n      <td>Inflammatory bowel disease (IBD)</td>\n      <td>Not specified</td>\n      <td>NaN</td>\n      <td>Europe</td>\n      <td>United Kingdom</td>\n      <td>Unknown</td>\n      <td>Unknown</td>\n      <td>male</td>\n      <td>elderly</td>\n      <td>80s</td>\n      <td>80</td>\n      <td>L5</td>\n    </tr>\n    <tr>\n      <th>1778</th>\n      <td>ERR5327453</td>\n      <td>PRJEB11419</td>\n      <td>Inflammatory bowel disease (IBD)</td>\n      <td>Not specified</td>\n      <td>NaN</td>\n      <td>Europe</td>\n      <td>United Kingdom</td>\n      <td>Unknown</td>\n      <td>Unknown</td>\n      <td>male</td>\n      <td>adult</td>\n      <td>50s</td>\n      <td>53</td>\n      <td>L5</td>\n    </tr>\n  </tbody>\n</table>\n</div>"
     },
     "execution_count": 73,
     "metadata": {},
     "output_type": "execute_result"
    }
   ],
   "source": [
    "df_IBD.head(10)"
   ],
   "metadata": {
    "collapsed": false,
    "ExecuteTime": {
     "end_time": "2024-08-13T14:24:19.005640Z",
     "start_time": "2024-08-13T14:24:18.988917Z"
    }
   },
   "id": "3970994246db4a00",
   "execution_count": 73
  },
  {
   "cell_type": "code",
   "outputs": [
    {
     "data": {
      "text/plain": "Europe      509\nOceania      93\nAmericas      8\nName: Continent of Geolocation, dtype: int64"
     },
     "execution_count": 74,
     "metadata": {},
     "output_type": "execute_result"
    }
   ],
   "source": [
    "df_IBD['Continent of Geolocation'].value_counts()"
   ],
   "metadata": {
    "collapsed": false,
    "ExecuteTime": {
     "end_time": "2024-08-13T14:24:24.668040Z",
     "start_time": "2024-08-13T14:24:24.660239Z"
    }
   },
   "id": "bf6ccbf90e3357e7",
   "execution_count": 74
  },
  {
   "cell_type": "code",
   "outputs": [
    {
     "data": {
      "text/plain": "Finland                     285\nPoland                      105\nAustralia                    93\nUnited Kingdom               73\nItaly                        46\nUnited States of America      7\nCanada                        1\nName: Country of Geolocation, dtype: int64"
     },
     "execution_count": 75,
     "metadata": {},
     "output_type": "execute_result"
    }
   ],
   "source": [
    "df_IBD['Country of Geolocation'].value_counts()"
   ],
   "metadata": {
    "collapsed": false,
    "ExecuteTime": {
     "end_time": "2024-08-13T14:24:40.040922Z",
     "start_time": "2024-08-13T14:24:40.033968Z"
    }
   },
   "id": "ee1e0bed9e86cc7c",
   "execution_count": 75
  },
  {
   "cell_type": "code",
   "outputs": [
    {
     "data": {
      "text/plain": "Project ID\nPRJEB11419                29\nPRJEB29083                24\nPRJEB50185               285\nPRJNA590898               87\nPRJNA607176               34\nPRJNA935155               46\ncrohns-paper_37122605    105\nName: Sample ID, dtype: int64"
     },
     "execution_count": 88,
     "metadata": {},
     "output_type": "execute_result"
    }
   ],
   "source": [
    "df_IBD.groupby('Project ID')['Sample ID'].count()"
   ],
   "metadata": {
    "collapsed": false,
    "ExecuteTime": {
     "end_time": "2024-08-13T15:21:28.276053Z",
     "start_time": "2024-08-13T15:21:28.266933Z"
    }
   },
   "id": "18433e5eadaa9448",
   "execution_count": 88
  },
  {
   "cell_type": "code",
   "outputs": [
    {
     "data": {
      "text/plain": "Not specified                                            338\nCrohn's disease (CD)                                     139\nUlcerative colitis                                       110\nPrimary sclerosing cholangitis and Ulcerative colitis     23\nName: IBD Subgroup, dtype: int64"
     },
     "execution_count": 86,
     "metadata": {},
     "output_type": "execute_result"
    }
   ],
   "source": [
    "df_IBD['IBD Subgroup'].value_counts(dropna=False)"
   ],
   "metadata": {
    "collapsed": false,
    "ExecuteTime": {
     "end_time": "2024-08-13T14:30:00.355838Z",
     "start_time": "2024-08-13T14:30:00.348412Z"
    }
   },
   "id": "9c3055b4ffb36536",
   "execution_count": 86
  },
  {
   "cell_type": "markdown",
   "source": [
    "Notes: \n",
    "I should group \"Primary sclerosing cholangitis and Ulcerative colitis\" together with \"Ulcerative colitis\".\n",
    "\n",
    "Both Primary Sclerosing Cholangitis (PSC) and Ulcerative Colitis (UC) can be associated with Inflammatory Bowel Disease (IBD):\n",
    "- Ulcerative Colitis (UC) is a type of IBD. It is one of the two main forms of IBD, the other being Crohn's disease. UC causes inflammation and ulcers in the lining of the large intestine (colon) and rectum.\n",
    "\n",
    "- Primary Sclerosing Cholangitis (PSC) is a chronic liver disease that affects the bile ducts. While PSC itself is not classified as IBD, it is closely associated with IBD, particularly Ulcerative Colitis. A significant percentage of people with PSC also have UC, and it is often considered a comorbidity in IBD patients.\n",
    "\n",
    "- So, when categorizing data related to IBD, it would be appropriate to include information about Ulcerative Colitis directly under IBD. While PSC is not IBD, its strong association with UC means it could be relevant in broader discussions or analyses involving IBD patients."
   ],
   "metadata": {
    "collapsed": false
   },
   "id": "a3502c2d4c65a39a"
  },
  {
   "cell_type": "code",
   "outputs": [],
   "source": [
    "df_IBD.to_csv(f'{data_dir}/IBD_metadata.tsv', na_rep='NA', sep='\\t', index=False)"
   ],
   "metadata": {
    "collapsed": false,
    "ExecuteTime": {
     "end_time": "2024-08-13T14:25:39.166403Z",
     "start_time": "2024-08-13T14:25:39.147202Z"
    }
   },
   "id": "487576698f2bf26a",
   "execution_count": 77
  },
  {
   "cell_type": "markdown",
   "source": [
    "#### Subsetting the healthy & IBD samples"
   ],
   "metadata": {
    "collapsed": false
   },
   "id": "8eb3d90cd179abe0"
  },
  {
   "cell_type": "code",
   "outputs": [],
   "source": [
    "df_healthy_IBD = df_updated[\n",
    "    (df_updated['Health Status'] == 'Inflammatory bowel disease (IBD)') | \n",
    "    (df_updated['Health Status'] == 'Healthy')\n",
    "]"
   ],
   "metadata": {
    "collapsed": false,
    "ExecuteTime": {
     "end_time": "2024-08-13T14:25:48.677073Z",
     "start_time": "2024-08-13T14:25:48.668389Z"
    }
   },
   "id": "2dadf45537e0e12b",
   "execution_count": 78
  },
  {
   "cell_type": "code",
   "outputs": [
    {
     "data": {
      "text/plain": "(3080, 14)"
     },
     "execution_count": 79,
     "metadata": {},
     "output_type": "execute_result"
    }
   ],
   "source": [
    "df_healthy_IBD.shape\n",
    "# 3080 samples"
   ],
   "metadata": {
    "collapsed": false,
    "ExecuteTime": {
     "end_time": "2024-08-13T14:25:49.696318Z",
     "start_time": "2024-08-13T14:25:49.690811Z"
    }
   },
   "id": "954982e0a3fdae1",
   "execution_count": 79
  },
  {
   "cell_type": "code",
   "outputs": [
    {
     "name": "stdout",
     "output_type": "stream",
     "text": [
      "Number of unique projects: 40\n"
     ]
    }
   ],
   "source": [
    "num_projects = df_healthy_IBD['Project ID'].nunique()\n",
    "print(f\"Number of unique projects: {num_projects}\")"
   ],
   "metadata": {
    "collapsed": false,
    "ExecuteTime": {
     "end_time": "2024-08-13T14:25:53.810544Z",
     "start_time": "2024-08-13T14:25:53.803913Z"
    }
   },
   "id": "3f7084720b565edb",
   "execution_count": 80
  },
  {
   "cell_type": "code",
   "outputs": [
    {
     "data": {
      "text/plain": "Project ID\nPRJDB13192                24\nPRJDB5316                 60\nPRJEB11419                29\nPRJEB25916                61\nPRJEB29083                24\nPRJEB35665                17\nPRJEB38917                 9\nPRJEB38930                62\nPRJEB42375                64\nPRJEB46343                12\nPRJEB50185               285\nPRJEB53019                11\nPRJNA356769              324\nPRJNA379437               75\nPRJNA419104               23\nPRJNA517994               11\nPRJNA557226                9\nPRJNA579284               60\nPRJNA589500              100\nPRJNA590898              105\nPRJNA607176               81\nPRJNA637034               46\nPRJNA647266              150\nPRJNA655569               60\nPRJNA662173               23\nPRJNA686661              155\nPRJNA692358              115\nPRJNA698272               16\nPRJNA703732               18\nPRJNA735021               39\nPRJNA751473               17\nPRJNA756382               58\nPRJNA778607               42\nPRJNA791216               30\nPRJNA813503               52\nPRJNA814728              200\nPRJNA834584              369\nPRJNA935155               46\ncrohns-paper_37122605    144\nscfa-paper_34234185       54\nName: Sample ID, dtype: int64"
     },
     "execution_count": 81,
     "metadata": {},
     "output_type": "execute_result"
    }
   ],
   "source": [
    "df_healthy_IBD.groupby('Project ID')['Sample ID'].count()"
   ],
   "metadata": {
    "collapsed": false,
    "ExecuteTime": {
     "end_time": "2024-08-13T14:26:05.443710Z",
     "start_time": "2024-08-13T14:26:05.431025Z"
    }
   },
   "id": "6a2932557aac7105",
   "execution_count": 81
  },
  {
   "cell_type": "markdown",
   "source": [
    "After a cross-reference with the longitudinal-checking, **12 projects** among these 40 have longitudinal data which can be matched to samples."
   ],
   "metadata": {
    "collapsed": false
   },
   "id": "d60fc33b2de1e340"
  },
  {
   "cell_type": "code",
   "outputs": [
    {
     "data": {
      "text/plain": "                       Sample ID  Health Status  IBD Subgroup  \\\nProject ID                                                      \nPRJDB13192                    24             24             0   \nPRJDB5316                     60             60             0   \nPRJEB11419                    29             29            29   \nPRJEB25916                    61             61             0   \nPRJEB29083                    24             24            24   \nPRJEB35665                    17             17             0   \nPRJEB38917                     9              9             0   \nPRJEB38930                    62             62             0   \nPRJEB42375                    64             64             0   \nPRJEB46343                    12             12             0   \nPRJEB50185                   285            285           285   \nPRJEB53019                    11             11             0   \nPRJNA356769                  324            324             0   \nPRJNA379437                   75             75             0   \nPRJNA419104                   23             23             0   \nPRJNA517994                   11             11             0   \nPRJNA557226                    9              9             0   \nPRJNA579284                   60             60             0   \nPRJNA589500                  100            100             0   \nPRJNA590898                  105            105           105   \nPRJNA607176                   81             81            81   \nPRJNA637034                   46             46             0   \nPRJNA647266                  150            150             0   \nPRJNA655569                   60             60             0   \nPRJNA662173                   23             23             0   \nPRJNA686661                  155            155             0   \nPRJNA692358                  115            115             0   \nPRJNA698272                   16             16             0   \nPRJNA703732                   18             18             0   \nPRJNA735021                   39             39             0   \nPRJNA751473                   17             17             0   \nPRJNA756382                   58             58             0   \nPRJNA778607                   42             42             0   \nPRJNA791216                   30             30             0   \nPRJNA813503                   52             52             0   \nPRJNA814728                  200            200             0   \nPRJNA834584                  369            369             0   \nPRJNA935155                   46             46            46   \ncrohns-paper_37122605        144            144           144   \nscfa-paper_34234185           54             54             0   \n\n                       Disease Subgroup  Continent of Geolocation  \\\nProject ID                                                          \nPRJDB13192                           24                        24   \nPRJDB5316                             0                        60   \nPRJEB11419                            0                        29   \nPRJEB25916                            0                        61   \nPRJEB29083                            0                        24   \nPRJEB35665                            0                        17   \nPRJEB38917                            9                         9   \nPRJEB38930                            0                        62   \nPRJEB42375                            0                        64   \nPRJEB46343                            0                        12   \nPRJEB50185                            0                       285   \nPRJEB53019                            0                        11   \nPRJNA356769                           0                       324   \nPRJNA379437                           0                        75   \nPRJNA419104                           0                        23   \nPRJNA517994                          11                        11   \nPRJNA557226                           0                         9   \nPRJNA579284                          60                        60   \nPRJNA589500                           0                       100   \nPRJNA590898                         105                       105   \nPRJNA607176                          81                        81   \nPRJNA637034                           0                        46   \nPRJNA647266                           0                       150   \nPRJNA655569                          60                        60   \nPRJNA662173                           0                        23   \nPRJNA686661                           0                       155   \nPRJNA692358                           0                       115   \nPRJNA698272                           0                        16   \nPRJNA703732                           0                        18   \nPRJNA735021                           0                        39   \nPRJNA751473                           0                        17   \nPRJNA756382                           0                        58   \nPRJNA778607                          42                        42   \nPRJNA791216                           0                        30   \nPRJNA813503                           0                        52   \nPRJNA814728                           0                       200   \nPRJNA834584                           0                       369   \nPRJNA935155                           0                        46   \ncrohns-paper_37122605               144                       144   \nscfa-paper_34234185                   0                        54   \n\n                       Country of Geolocation  Region  City  Host Sex  \\\nProject ID                                                              \nPRJDB13192                                 24      24    24        24   \nPRJDB5316                                  60      60    60        60   \nPRJEB11419                                 29      29    29        29   \nPRJEB25916                                 61      61    61        61   \nPRJEB29083                                 24      24    24        24   \nPRJEB35665                                 17      17    17        17   \nPRJEB38917                                  9       9     9         9   \nPRJEB38930                                 62      62    62        62   \nPRJEB42375                                 64      64    64        64   \nPRJEB46343                                 12      12    12        12   \nPRJEB50185                                285     285   285       285   \nPRJEB53019                                 11      11    11        11   \nPRJNA356769                               324     324   324       324   \nPRJNA379437                                75      75    75        75   \nPRJNA419104                                23      23    23        23   \nPRJNA517994                                11      11    11        11   \nPRJNA557226                                 9       9     9         9   \nPRJNA579284                                60      60    60        60   \nPRJNA589500                               100     100   100       100   \nPRJNA590898                               105     105   105       105   \nPRJNA607176                                81      81    81        81   \nPRJNA637034                                46      46    46        46   \nPRJNA647266                               150     150   150       150   \nPRJNA655569                                60      60    60        60   \nPRJNA662173                                23      23    23        23   \nPRJNA686661                               155     155   155       155   \nPRJNA692358                               115     115   115       115   \nPRJNA698272                                16      16    16        16   \nPRJNA703732                                18      18    18        18   \nPRJNA735021                                39      39    39        39   \nPRJNA751473                                17      17    17        17   \nPRJNA756382                                58      58    58        58   \nPRJNA778607                                42      42    42        42   \nPRJNA791216                                30      30    30        30   \nPRJNA813503                                52      52    52        52   \nPRJNA814728                               200     200   200       200   \nPRJNA834584                               369     369   369       369   \nPRJNA935155                                46      46    46        46   \ncrohns-paper_37122605                     144     144   144       144   \nscfa-paper_34234185                        54      54    54        54   \n\n                       Host Age Category  Host Age Decade  Host Age  \\\nProject ID                                                            \nPRJDB13192                            24               24        24   \nPRJDB5316                             60               60        60   \nPRJEB11419                            29               29        29   \nPRJEB25916                            61               61        61   \nPRJEB29083                            24               24        24   \nPRJEB35665                            17               17        17   \nPRJEB38917                             9                9         9   \nPRJEB38930                            62               62        62   \nPRJEB42375                            64               64        64   \nPRJEB46343                            12               12        12   \nPRJEB50185                           285              285       285   \nPRJEB53019                            11               11        11   \nPRJNA356769                          324              324       324   \nPRJNA379437                           75               75        75   \nPRJNA419104                           23               23        23   \nPRJNA517994                           11               11        11   \nPRJNA557226                            9                9         9   \nPRJNA579284                           60               60        60   \nPRJNA589500                          100              100       100   \nPRJNA590898                          105              105       105   \nPRJNA607176                           81               81        81   \nPRJNA637034                           46               46        46   \nPRJNA647266                          150              150       150   \nPRJNA655569                           60               60        60   \nPRJNA662173                           23               23        23   \nPRJNA686661                          155              155       155   \nPRJNA692358                          115              115       115   \nPRJNA698272                           16               16        16   \nPRJNA703732                           18               18        18   \nPRJNA735021                           39               39        39   \nPRJNA751473                           17               17        17   \nPRJNA756382                           58               58        58   \nPRJNA778607                           42               42        42   \nPRJNA791216                           30               30        30   \nPRJNA813503                           52               52        52   \nPRJNA814728                          200              200       200   \nPRJNA834584                          369              369       369   \nPRJNA935155                           46               46        46   \ncrohns-paper_37122605                144              144       144   \nscfa-paper_34234185                   54               54        54   \n\n                       Age Detail Level  \nProject ID                               \nPRJDB13192                           24  \nPRJDB5316                            60  \nPRJEB11419                           29  \nPRJEB25916                           61  \nPRJEB29083                           24  \nPRJEB35665                           17  \nPRJEB38917                            9  \nPRJEB38930                           62  \nPRJEB42375                           64  \nPRJEB46343                           12  \nPRJEB50185                          285  \nPRJEB53019                           11  \nPRJNA356769                         324  \nPRJNA379437                          75  \nPRJNA419104                          23  \nPRJNA517994                          11  \nPRJNA557226                           9  \nPRJNA579284                          60  \nPRJNA589500                         100  \nPRJNA590898                         105  \nPRJNA607176                          81  \nPRJNA637034                          46  \nPRJNA647266                         150  \nPRJNA655569                          60  \nPRJNA662173                          23  \nPRJNA686661                         155  \nPRJNA692358                         115  \nPRJNA698272                          16  \nPRJNA703732                          18  \nPRJNA735021                          39  \nPRJNA751473                          17  \nPRJNA756382                          58  \nPRJNA778607                          42  \nPRJNA791216                          30  \nPRJNA813503                          52  \nPRJNA814728                         200  \nPRJNA834584                         369  \nPRJNA935155                          46  \ncrohns-paper_37122605               144  \nscfa-paper_34234185                  54  ",
      "text/html": "<div>\n<style scoped>\n    .dataframe tbody tr th:only-of-type {\n        vertical-align: middle;\n    }\n\n    .dataframe tbody tr th {\n        vertical-align: top;\n    }\n\n    .dataframe thead th {\n        text-align: right;\n    }\n</style>\n<table border=\"1\" class=\"dataframe\">\n  <thead>\n    <tr style=\"text-align: right;\">\n      <th></th>\n      <th>Sample ID</th>\n      <th>Health Status</th>\n      <th>IBD Subgroup</th>\n      <th>Disease Subgroup</th>\n      <th>Continent of Geolocation</th>\n      <th>Country of Geolocation</th>\n      <th>Region</th>\n      <th>City</th>\n      <th>Host Sex</th>\n      <th>Host Age Category</th>\n      <th>Host Age Decade</th>\n      <th>Host Age</th>\n      <th>Age Detail Level</th>\n    </tr>\n    <tr>\n      <th>Project ID</th>\n      <th></th>\n      <th></th>\n      <th></th>\n      <th></th>\n      <th></th>\n      <th></th>\n      <th></th>\n      <th></th>\n      <th></th>\n      <th></th>\n      <th></th>\n      <th></th>\n      <th></th>\n    </tr>\n  </thead>\n  <tbody>\n    <tr>\n      <th>PRJDB13192</th>\n      <td>24</td>\n      <td>24</td>\n      <td>0</td>\n      <td>24</td>\n      <td>24</td>\n      <td>24</td>\n      <td>24</td>\n      <td>24</td>\n      <td>24</td>\n      <td>24</td>\n      <td>24</td>\n      <td>24</td>\n      <td>24</td>\n    </tr>\n    <tr>\n      <th>PRJDB5316</th>\n      <td>60</td>\n      <td>60</td>\n      <td>0</td>\n      <td>0</td>\n      <td>60</td>\n      <td>60</td>\n      <td>60</td>\n      <td>60</td>\n      <td>60</td>\n      <td>60</td>\n      <td>60</td>\n      <td>60</td>\n      <td>60</td>\n    </tr>\n    <tr>\n      <th>PRJEB11419</th>\n      <td>29</td>\n      <td>29</td>\n      <td>29</td>\n      <td>0</td>\n      <td>29</td>\n      <td>29</td>\n      <td>29</td>\n      <td>29</td>\n      <td>29</td>\n      <td>29</td>\n      <td>29</td>\n      <td>29</td>\n      <td>29</td>\n    </tr>\n    <tr>\n      <th>PRJEB25916</th>\n      <td>61</td>\n      <td>61</td>\n      <td>0</td>\n      <td>0</td>\n      <td>61</td>\n      <td>61</td>\n      <td>61</td>\n      <td>61</td>\n      <td>61</td>\n      <td>61</td>\n      <td>61</td>\n      <td>61</td>\n      <td>61</td>\n    </tr>\n    <tr>\n      <th>PRJEB29083</th>\n      <td>24</td>\n      <td>24</td>\n      <td>24</td>\n      <td>0</td>\n      <td>24</td>\n      <td>24</td>\n      <td>24</td>\n      <td>24</td>\n      <td>24</td>\n      <td>24</td>\n      <td>24</td>\n      <td>24</td>\n      <td>24</td>\n    </tr>\n    <tr>\n      <th>PRJEB35665</th>\n      <td>17</td>\n      <td>17</td>\n      <td>0</td>\n      <td>0</td>\n      <td>17</td>\n      <td>17</td>\n      <td>17</td>\n      <td>17</td>\n      <td>17</td>\n      <td>17</td>\n      <td>17</td>\n      <td>17</td>\n      <td>17</td>\n    </tr>\n    <tr>\n      <th>PRJEB38917</th>\n      <td>9</td>\n      <td>9</td>\n      <td>0</td>\n      <td>9</td>\n      <td>9</td>\n      <td>9</td>\n      <td>9</td>\n      <td>9</td>\n      <td>9</td>\n      <td>9</td>\n      <td>9</td>\n      <td>9</td>\n      <td>9</td>\n    </tr>\n    <tr>\n      <th>PRJEB38930</th>\n      <td>62</td>\n      <td>62</td>\n      <td>0</td>\n      <td>0</td>\n      <td>62</td>\n      <td>62</td>\n      <td>62</td>\n      <td>62</td>\n      <td>62</td>\n      <td>62</td>\n      <td>62</td>\n      <td>62</td>\n      <td>62</td>\n    </tr>\n    <tr>\n      <th>PRJEB42375</th>\n      <td>64</td>\n      <td>64</td>\n      <td>0</td>\n      <td>0</td>\n      <td>64</td>\n      <td>64</td>\n      <td>64</td>\n      <td>64</td>\n      <td>64</td>\n      <td>64</td>\n      <td>64</td>\n      <td>64</td>\n      <td>64</td>\n    </tr>\n    <tr>\n      <th>PRJEB46343</th>\n      <td>12</td>\n      <td>12</td>\n      <td>0</td>\n      <td>0</td>\n      <td>12</td>\n      <td>12</td>\n      <td>12</td>\n      <td>12</td>\n      <td>12</td>\n      <td>12</td>\n      <td>12</td>\n      <td>12</td>\n      <td>12</td>\n    </tr>\n    <tr>\n      <th>PRJEB50185</th>\n      <td>285</td>\n      <td>285</td>\n      <td>285</td>\n      <td>0</td>\n      <td>285</td>\n      <td>285</td>\n      <td>285</td>\n      <td>285</td>\n      <td>285</td>\n      <td>285</td>\n      <td>285</td>\n      <td>285</td>\n      <td>285</td>\n    </tr>\n    <tr>\n      <th>PRJEB53019</th>\n      <td>11</td>\n      <td>11</td>\n      <td>0</td>\n      <td>0</td>\n      <td>11</td>\n      <td>11</td>\n      <td>11</td>\n      <td>11</td>\n      <td>11</td>\n      <td>11</td>\n      <td>11</td>\n      <td>11</td>\n      <td>11</td>\n    </tr>\n    <tr>\n      <th>PRJNA356769</th>\n      <td>324</td>\n      <td>324</td>\n      <td>0</td>\n      <td>0</td>\n      <td>324</td>\n      <td>324</td>\n      <td>324</td>\n      <td>324</td>\n      <td>324</td>\n      <td>324</td>\n      <td>324</td>\n      <td>324</td>\n      <td>324</td>\n    </tr>\n    <tr>\n      <th>PRJNA379437</th>\n      <td>75</td>\n      <td>75</td>\n      <td>0</td>\n      <td>0</td>\n      <td>75</td>\n      <td>75</td>\n      <td>75</td>\n      <td>75</td>\n      <td>75</td>\n      <td>75</td>\n      <td>75</td>\n      <td>75</td>\n      <td>75</td>\n    </tr>\n    <tr>\n      <th>PRJNA419104</th>\n      <td>23</td>\n      <td>23</td>\n      <td>0</td>\n      <td>0</td>\n      <td>23</td>\n      <td>23</td>\n      <td>23</td>\n      <td>23</td>\n      <td>23</td>\n      <td>23</td>\n      <td>23</td>\n      <td>23</td>\n      <td>23</td>\n    </tr>\n    <tr>\n      <th>PRJNA517994</th>\n      <td>11</td>\n      <td>11</td>\n      <td>0</td>\n      <td>11</td>\n      <td>11</td>\n      <td>11</td>\n      <td>11</td>\n      <td>11</td>\n      <td>11</td>\n      <td>11</td>\n      <td>11</td>\n      <td>11</td>\n      <td>11</td>\n    </tr>\n    <tr>\n      <th>PRJNA557226</th>\n      <td>9</td>\n      <td>9</td>\n      <td>0</td>\n      <td>0</td>\n      <td>9</td>\n      <td>9</td>\n      <td>9</td>\n      <td>9</td>\n      <td>9</td>\n      <td>9</td>\n      <td>9</td>\n      <td>9</td>\n      <td>9</td>\n    </tr>\n    <tr>\n      <th>PRJNA579284</th>\n      <td>60</td>\n      <td>60</td>\n      <td>0</td>\n      <td>60</td>\n      <td>60</td>\n      <td>60</td>\n      <td>60</td>\n      <td>60</td>\n      <td>60</td>\n      <td>60</td>\n      <td>60</td>\n      <td>60</td>\n      <td>60</td>\n    </tr>\n    <tr>\n      <th>PRJNA589500</th>\n      <td>100</td>\n      <td>100</td>\n      <td>0</td>\n      <td>0</td>\n      <td>100</td>\n      <td>100</td>\n      <td>100</td>\n      <td>100</td>\n      <td>100</td>\n      <td>100</td>\n      <td>100</td>\n      <td>100</td>\n      <td>100</td>\n    </tr>\n    <tr>\n      <th>PRJNA590898</th>\n      <td>105</td>\n      <td>105</td>\n      <td>105</td>\n      <td>105</td>\n      <td>105</td>\n      <td>105</td>\n      <td>105</td>\n      <td>105</td>\n      <td>105</td>\n      <td>105</td>\n      <td>105</td>\n      <td>105</td>\n      <td>105</td>\n    </tr>\n    <tr>\n      <th>PRJNA607176</th>\n      <td>81</td>\n      <td>81</td>\n      <td>81</td>\n      <td>81</td>\n      <td>81</td>\n      <td>81</td>\n      <td>81</td>\n      <td>81</td>\n      <td>81</td>\n      <td>81</td>\n      <td>81</td>\n      <td>81</td>\n      <td>81</td>\n    </tr>\n    <tr>\n      <th>PRJNA637034</th>\n      <td>46</td>\n      <td>46</td>\n      <td>0</td>\n      <td>0</td>\n      <td>46</td>\n      <td>46</td>\n      <td>46</td>\n      <td>46</td>\n      <td>46</td>\n      <td>46</td>\n      <td>46</td>\n      <td>46</td>\n      <td>46</td>\n    </tr>\n    <tr>\n      <th>PRJNA647266</th>\n      <td>150</td>\n      <td>150</td>\n      <td>0</td>\n      <td>0</td>\n      <td>150</td>\n      <td>150</td>\n      <td>150</td>\n      <td>150</td>\n      <td>150</td>\n      <td>150</td>\n      <td>150</td>\n      <td>150</td>\n      <td>150</td>\n    </tr>\n    <tr>\n      <th>PRJNA655569</th>\n      <td>60</td>\n      <td>60</td>\n      <td>0</td>\n      <td>60</td>\n      <td>60</td>\n      <td>60</td>\n      <td>60</td>\n      <td>60</td>\n      <td>60</td>\n      <td>60</td>\n      <td>60</td>\n      <td>60</td>\n      <td>60</td>\n    </tr>\n    <tr>\n      <th>PRJNA662173</th>\n      <td>23</td>\n      <td>23</td>\n      <td>0</td>\n      <td>0</td>\n      <td>23</td>\n      <td>23</td>\n      <td>23</td>\n      <td>23</td>\n      <td>23</td>\n      <td>23</td>\n      <td>23</td>\n      <td>23</td>\n      <td>23</td>\n    </tr>\n    <tr>\n      <th>PRJNA686661</th>\n      <td>155</td>\n      <td>155</td>\n      <td>0</td>\n      <td>0</td>\n      <td>155</td>\n      <td>155</td>\n      <td>155</td>\n      <td>155</td>\n      <td>155</td>\n      <td>155</td>\n      <td>155</td>\n      <td>155</td>\n      <td>155</td>\n    </tr>\n    <tr>\n      <th>PRJNA692358</th>\n      <td>115</td>\n      <td>115</td>\n      <td>0</td>\n      <td>0</td>\n      <td>115</td>\n      <td>115</td>\n      <td>115</td>\n      <td>115</td>\n      <td>115</td>\n      <td>115</td>\n      <td>115</td>\n      <td>115</td>\n      <td>115</td>\n    </tr>\n    <tr>\n      <th>PRJNA698272</th>\n      <td>16</td>\n      <td>16</td>\n      <td>0</td>\n      <td>0</td>\n      <td>16</td>\n      <td>16</td>\n      <td>16</td>\n      <td>16</td>\n      <td>16</td>\n      <td>16</td>\n      <td>16</td>\n      <td>16</td>\n      <td>16</td>\n    </tr>\n    <tr>\n      <th>PRJNA703732</th>\n      <td>18</td>\n      <td>18</td>\n      <td>0</td>\n      <td>0</td>\n      <td>18</td>\n      <td>18</td>\n      <td>18</td>\n      <td>18</td>\n      <td>18</td>\n      <td>18</td>\n      <td>18</td>\n      <td>18</td>\n      <td>18</td>\n    </tr>\n    <tr>\n      <th>PRJNA735021</th>\n      <td>39</td>\n      <td>39</td>\n      <td>0</td>\n      <td>0</td>\n      <td>39</td>\n      <td>39</td>\n      <td>39</td>\n      <td>39</td>\n      <td>39</td>\n      <td>39</td>\n      <td>39</td>\n      <td>39</td>\n      <td>39</td>\n    </tr>\n    <tr>\n      <th>PRJNA751473</th>\n      <td>17</td>\n      <td>17</td>\n      <td>0</td>\n      <td>0</td>\n      <td>17</td>\n      <td>17</td>\n      <td>17</td>\n      <td>17</td>\n      <td>17</td>\n      <td>17</td>\n      <td>17</td>\n      <td>17</td>\n      <td>17</td>\n    </tr>\n    <tr>\n      <th>PRJNA756382</th>\n      <td>58</td>\n      <td>58</td>\n      <td>0</td>\n      <td>0</td>\n      <td>58</td>\n      <td>58</td>\n      <td>58</td>\n      <td>58</td>\n      <td>58</td>\n      <td>58</td>\n      <td>58</td>\n      <td>58</td>\n      <td>58</td>\n    </tr>\n    <tr>\n      <th>PRJNA778607</th>\n      <td>42</td>\n      <td>42</td>\n      <td>0</td>\n      <td>42</td>\n      <td>42</td>\n      <td>42</td>\n      <td>42</td>\n      <td>42</td>\n      <td>42</td>\n      <td>42</td>\n      <td>42</td>\n      <td>42</td>\n      <td>42</td>\n    </tr>\n    <tr>\n      <th>PRJNA791216</th>\n      <td>30</td>\n      <td>30</td>\n      <td>0</td>\n      <td>0</td>\n      <td>30</td>\n      <td>30</td>\n      <td>30</td>\n      <td>30</td>\n      <td>30</td>\n      <td>30</td>\n      <td>30</td>\n      <td>30</td>\n      <td>30</td>\n    </tr>\n    <tr>\n      <th>PRJNA813503</th>\n      <td>52</td>\n      <td>52</td>\n      <td>0</td>\n      <td>0</td>\n      <td>52</td>\n      <td>52</td>\n      <td>52</td>\n      <td>52</td>\n      <td>52</td>\n      <td>52</td>\n      <td>52</td>\n      <td>52</td>\n      <td>52</td>\n    </tr>\n    <tr>\n      <th>PRJNA814728</th>\n      <td>200</td>\n      <td>200</td>\n      <td>0</td>\n      <td>0</td>\n      <td>200</td>\n      <td>200</td>\n      <td>200</td>\n      <td>200</td>\n      <td>200</td>\n      <td>200</td>\n      <td>200</td>\n      <td>200</td>\n      <td>200</td>\n    </tr>\n    <tr>\n      <th>PRJNA834584</th>\n      <td>369</td>\n      <td>369</td>\n      <td>0</td>\n      <td>0</td>\n      <td>369</td>\n      <td>369</td>\n      <td>369</td>\n      <td>369</td>\n      <td>369</td>\n      <td>369</td>\n      <td>369</td>\n      <td>369</td>\n      <td>369</td>\n    </tr>\n    <tr>\n      <th>PRJNA935155</th>\n      <td>46</td>\n      <td>46</td>\n      <td>46</td>\n      <td>0</td>\n      <td>46</td>\n      <td>46</td>\n      <td>46</td>\n      <td>46</td>\n      <td>46</td>\n      <td>46</td>\n      <td>46</td>\n      <td>46</td>\n      <td>46</td>\n    </tr>\n    <tr>\n      <th>crohns-paper_37122605</th>\n      <td>144</td>\n      <td>144</td>\n      <td>144</td>\n      <td>144</td>\n      <td>144</td>\n      <td>144</td>\n      <td>144</td>\n      <td>144</td>\n      <td>144</td>\n      <td>144</td>\n      <td>144</td>\n      <td>144</td>\n      <td>144</td>\n    </tr>\n    <tr>\n      <th>scfa-paper_34234185</th>\n      <td>54</td>\n      <td>54</td>\n      <td>0</td>\n      <td>0</td>\n      <td>54</td>\n      <td>54</td>\n      <td>54</td>\n      <td>54</td>\n      <td>54</td>\n      <td>54</td>\n      <td>54</td>\n      <td>54</td>\n      <td>54</td>\n    </tr>\n  </tbody>\n</table>\n</div>"
     },
     "execution_count": 82,
     "metadata": {},
     "output_type": "execute_result"
    }
   ],
   "source": [
    "df_healthy_IBD.groupby('Project ID').count()"
   ],
   "metadata": {
    "collapsed": false,
    "ExecuteTime": {
     "end_time": "2024-08-13T14:26:11.380661Z",
     "start_time": "2024-08-13T14:26:11.348881Z"
    }
   },
   "id": "9358eda55ae7a335",
   "execution_count": 82
  },
  {
   "cell_type": "code",
   "outputs": [
    {
     "data": {
      "text/plain": "China                       789\nUnited States of America    570\nFinland                     285\nAustralia                   223\nSouth Africa                215\nCanada                      201\nPoland                      144\nItaly                       124\nUnited Kingdom              120\nJapan                        84\nIreland                      64\nCzech Republic               62\nDenmark                      49\nSouth Korea                  30\nBelgium                      29\nIndia                        23\nThailand                     17\nGermany                      16\nSpain                        12\nPakistan                     11\nNetherlands/Switzerland       9\nHong Kong, China (SAR)        3\nName: Country of Geolocation, dtype: int64"
     },
     "execution_count": 89,
     "metadata": {},
     "output_type": "execute_result"
    }
   ],
   "source": [
    "df_healthy_IBD['Country of Geolocation'].value_counts()"
   ],
   "metadata": {
    "collapsed": false,
    "ExecuteTime": {
     "end_time": "2024-08-14T09:42:06.792664Z",
     "start_time": "2024-08-14T09:42:06.785361Z"
    }
   },
   "id": "11c299a78ca3be72",
   "execution_count": 89
  },
  {
   "cell_type": "code",
   "outputs": [
    {
     "data": {
      "text/plain": "adult      1672\nUnknown     859\ninfant      282\nelderly     108\ntoddler      92\nchild        67\nName: Host Age Category, dtype: int64"
     },
     "execution_count": 91,
     "metadata": {},
     "output_type": "execute_result"
    }
   ],
   "source": [
    "df_healthy_IBD['Host Age Category'].value_counts(dropna=False)"
   ],
   "metadata": {
    "collapsed": false,
    "ExecuteTime": {
     "end_time": "2024-08-15T08:51:10.814221Z",
     "start_time": "2024-08-15T08:51:10.799825Z"
    }
   },
   "id": "7c25e5172ffd0bee",
   "execution_count": 91
  },
  {
   "cell_type": "code",
   "outputs": [
    {
     "data": {
      "text/plain": "Unknown    1778\n0s          405\n20s         233\n50s         167\n30s         157\n60s         124\n40s         116\n10s          46\n70s          21\n100s         19\n80s          13\n90s           1\nName: Host Age Decade, dtype: int64"
     },
     "execution_count": 93,
     "metadata": {},
     "output_type": "execute_result"
    }
   ],
   "source": [
    "df_healthy_IBD['Host Age Decade'].value_counts(dropna=False)"
   ],
   "metadata": {
    "collapsed": false,
    "ExecuteTime": {
     "end_time": "2024-08-15T08:51:28.070230Z",
     "start_time": "2024-08-15T08:51:28.063755Z"
    }
   },
   "id": "c6b1b90cbdee3f3b",
   "execution_count": 93
  },
  {
   "cell_type": "code",
   "outputs": [
    {
     "data": {
      "text/plain": "NaN                                                      2366\nNot specified                                             338\nCrohn's disease (CD)                                      139\nUlcerative colitis                                        110\nHealthy                                                   104\nPrimary sclerosing cholangitis and Ulcerative colitis      23\nName: IBD Subgroup, dtype: int64"
     },
     "execution_count": 85,
     "metadata": {},
     "output_type": "execute_result"
    }
   ],
   "source": [
    "df_healthy_IBD['IBD Subgroup'].value_counts(dropna=False)"
   ],
   "metadata": {
    "collapsed": false,
    "ExecuteTime": {
     "end_time": "2024-08-13T14:29:34.417723Z",
     "start_time": "2024-08-13T14:29:34.397624Z"
    }
   },
   "id": "21a1bac887221878",
   "execution_count": 85
  },
  {
   "cell_type": "code",
   "outputs": [
    {
     "data": {
      "text/plain": "NaN                                                                 2544\nHealthy control                                                      105\nactive, newly diagnosed Crohn's disease (CD)                          58\nFMT                                                                   51\nclinical remission Crohn's disease (CD)                               38\nPlacebo                                                               36\nHealthy subjects without appendectomy                                 30\nHealthy subjects with appendectomy                                    30\nNon-CD WT                                                             26\ndonor                                                                 18\nCD MUT                                                                18\nNon-CD MUT                                                            18\nCD WT                                                                 16\nAzithromycin                                                          12\nnone                                                                  11\nHealthy liver control                                                 11\nCiprofloxacin                                                         10\nCefuroxime                                                             9\nDoxycycline                                                            9\nAugmentin                                                              9\nnormal weight Healthy control                                          9\nactive but previously diagnosed and treated Crohn's disease (CD)       9\nUnknown                                                                3\nName: Disease Subgroup, dtype: int64"
     },
     "execution_count": 87,
     "metadata": {},
     "output_type": "execute_result"
    }
   ],
   "source": [
    "df_healthy_IBD['Disease Subgroup'].value_counts(dropna=False)"
   ],
   "metadata": {
    "collapsed": false,
    "ExecuteTime": {
     "end_time": "2024-08-13T14:30:15.753324Z",
     "start_time": "2024-08-13T14:30:15.746365Z"
    }
   },
   "id": "d3d003bf39fd4219",
   "execution_count": 87
  },
  {
   "cell_type": "code",
   "outputs": [],
   "source": [
    "df_healthy_IBD.to_csv(f'{data_dir}/healthy_IBD_metadata.tsv', na_rep='NA', sep='\\t', index=False)"
   ],
   "metadata": {
    "collapsed": false,
    "ExecuteTime": {
     "end_time": "2024-08-13T14:26:23.432846Z",
     "start_time": "2024-08-13T14:26:23.404622Z"
    }
   },
   "id": "a543aa1eca283618",
   "execution_count": 83
  },
  {
   "cell_type": "markdown",
   "source": [],
   "metadata": {
    "collapsed": false
   },
   "id": "eb895faca5818dd3"
  }
 ],
 "metadata": {
  "kernelspec": {
   "display_name": "Python 3",
   "language": "python",
   "name": "python3"
  },
  "language_info": {
   "codemirror_mode": {
    "name": "ipython",
    "version": 2
   },
   "file_extension": ".py",
   "mimetype": "text/x-python",
   "name": "python",
   "nbconvert_exporter": "python",
   "pygments_lexer": "ipython2",
   "version": "2.7.6"
  }
 },
 "nbformat": 4,
 "nbformat_minor": 5
}
