{
 "cells": [
  {
   "cell_type": "code",
   "execution_count": 1,
   "id": "2a44b0d182360982",
   "metadata": {
    "collapsed": false,
    "ExecuteTime": {
     "end_time": "2024-09-12T16:40:48.838565Z",
     "start_time": "2024-09-12T16:40:47.791722Z"
    }
   },
   "outputs": [],
   "source": [
    "import qiime2\n",
    "import pandas as pd"
   ]
  },
  {
   "cell_type": "code",
   "outputs": [],
   "source": [
    "data_dir = \"/Users/cheesemania/PycharmProjects/mscthesis_wrkdir\""
   ],
   "metadata": {
    "collapsed": false,
    "ExecuteTime": {
     "end_time": "2024-09-12T17:02:00.416029Z",
     "start_time": "2024-09-12T17:02:00.400320Z"
    }
   },
   "id": "6c5b3b84f02338c1",
   "execution_count": 7
  },
  {
   "cell_type": "code",
   "outputs": [],
   "source": [
    "df_meta = pd.read_csv(f'{data_dir}/metadata/case_control_metadata_remove_h1n1_filtered1.tsv', sep=\"\\t\")"
   ],
   "metadata": {
    "collapsed": false,
    "ExecuteTime": {
     "end_time": "2024-09-12T17:10:38.289294Z",
     "start_time": "2024-09-12T17:10:38.268645Z"
    }
   },
   "id": "d681faef9bf066f6",
   "execution_count": 20
  },
  {
   "cell_type": "code",
   "outputs": [
    {
     "data": {
      "text/plain": "21"
     },
     "execution_count": 21,
     "metadata": {},
     "output_type": "execute_result"
    }
   ],
   "source": [
    "df_meta['Project_ID'].nunique()\n",
    "#CHECK - OK"
   ],
   "metadata": {
    "collapsed": false,
    "ExecuteTime": {
     "end_time": "2024-09-12T17:10:39.371734Z",
     "start_time": "2024-09-12T17:10:39.364260Z"
    }
   },
   "id": "2f7bd783a1ff2c52",
   "execution_count": 21
  },
  {
   "cell_type": "code",
   "outputs": [
    {
     "data": {
      "text/plain": "  sampleid             Project_ID Sequencing_Region Case_Control  \\\n0     S675  crohns-paper_37122605              ITS1         Case   \n1     S683  crohns-paper_37122605              ITS1         Case   \n2     S691  crohns-paper_37122605              ITS1         Case   \n3     S699  crohns-paper_37122605              ITS1         Case   \n4     S707  crohns-paper_37122605              ITS1         Case   \n\n    Disease_Level_1                     Health_Status Disease_Level_2  \\\n0  Gastrointestinal  Inflammatory bowel disease (IBD)             IBD   \n1  Gastrointestinal  Inflammatory bowel disease (IBD)             IBD   \n2  Gastrointestinal  Inflammatory bowel disease (IBD)             IBD   \n3  Gastrointestinal  Inflammatory bowel disease (IBD)             IBD   \n4  Gastrointestinal  Inflammatory bowel disease (IBD)             IBD   \n\n  Disease_Level_3                              Disease_Subgroup  \\\n0   active_new_CD  active, newly diagnosed Crohn's disease (CD)   \n1   active_new_CD  active, newly diagnosed Crohn's disease (CD)   \n2   active_new_CD  active, newly diagnosed Crohn's disease (CD)   \n3   active_new_CD  active, newly diagnosed Crohn's disease (CD)   \n4              CD       clinical remission Crohn's disease (CD)   \n\n           IBD_Subgroup GeoLoc_Continent GeoLoc_Country  \\\n0  Crohn's disease (CD)           Europe         Poland   \n1  Crohn's disease (CD)           Europe         Poland   \n2  Crohn's disease (CD)           Europe         Poland   \n3  Crohn's disease (CD)           Europe         Poland   \n4  Crohn's disease (CD)           Europe         Poland   \n\n                             GeoLoc_Region GeoLoc_City Host_Sex  \\\n0  Lesser Poland Voivodeship (Małopolskie)      Krakow  Unknown   \n1  Lesser Poland Voivodeship (Małopolskie)      Krakow  Unknown   \n2  Lesser Poland Voivodeship (Małopolskie)      Krakow  Unknown   \n3  Lesser Poland Voivodeship (Małopolskie)      Krakow  Unknown   \n4  Lesser Poland Voivodeship (Małopolskie)      Krakow  Unknown   \n\n  Host_Age_Category Host_Age_Decade Host_Age Age_Detail_Level  \n0           Unknown         Unknown  Unknown               L2  \n1           Unknown         Unknown  Unknown               L2  \n2           Unknown         Unknown  Unknown               L2  \n3           Unknown         Unknown  Unknown               L2  \n4           Unknown         Unknown  Unknown               L2  ",
      "text/html": "<div>\n<style scoped>\n    .dataframe tbody tr th:only-of-type {\n        vertical-align: middle;\n    }\n\n    .dataframe tbody tr th {\n        vertical-align: top;\n    }\n\n    .dataframe thead th {\n        text-align: right;\n    }\n</style>\n<table border=\"1\" class=\"dataframe\">\n  <thead>\n    <tr style=\"text-align: right;\">\n      <th></th>\n      <th>sampleid</th>\n      <th>Project_ID</th>\n      <th>Sequencing_Region</th>\n      <th>Case_Control</th>\n      <th>Disease_Level_1</th>\n      <th>Health_Status</th>\n      <th>Disease_Level_2</th>\n      <th>Disease_Level_3</th>\n      <th>Disease_Subgroup</th>\n      <th>IBD_Subgroup</th>\n      <th>GeoLoc_Continent</th>\n      <th>GeoLoc_Country</th>\n      <th>GeoLoc_Region</th>\n      <th>GeoLoc_City</th>\n      <th>Host_Sex</th>\n      <th>Host_Age_Category</th>\n      <th>Host_Age_Decade</th>\n      <th>Host_Age</th>\n      <th>Age_Detail_Level</th>\n    </tr>\n  </thead>\n  <tbody>\n    <tr>\n      <th>0</th>\n      <td>S675</td>\n      <td>crohns-paper_37122605</td>\n      <td>ITS1</td>\n      <td>Case</td>\n      <td>Gastrointestinal</td>\n      <td>Inflammatory bowel disease (IBD)</td>\n      <td>IBD</td>\n      <td>active_new_CD</td>\n      <td>active, newly diagnosed Crohn's disease (CD)</td>\n      <td>Crohn's disease (CD)</td>\n      <td>Europe</td>\n      <td>Poland</td>\n      <td>Lesser Poland Voivodeship (Małopolskie)</td>\n      <td>Krakow</td>\n      <td>Unknown</td>\n      <td>Unknown</td>\n      <td>Unknown</td>\n      <td>Unknown</td>\n      <td>L2</td>\n    </tr>\n    <tr>\n      <th>1</th>\n      <td>S683</td>\n      <td>crohns-paper_37122605</td>\n      <td>ITS1</td>\n      <td>Case</td>\n      <td>Gastrointestinal</td>\n      <td>Inflammatory bowel disease (IBD)</td>\n      <td>IBD</td>\n      <td>active_new_CD</td>\n      <td>active, newly diagnosed Crohn's disease (CD)</td>\n      <td>Crohn's disease (CD)</td>\n      <td>Europe</td>\n      <td>Poland</td>\n      <td>Lesser Poland Voivodeship (Małopolskie)</td>\n      <td>Krakow</td>\n      <td>Unknown</td>\n      <td>Unknown</td>\n      <td>Unknown</td>\n      <td>Unknown</td>\n      <td>L2</td>\n    </tr>\n    <tr>\n      <th>2</th>\n      <td>S691</td>\n      <td>crohns-paper_37122605</td>\n      <td>ITS1</td>\n      <td>Case</td>\n      <td>Gastrointestinal</td>\n      <td>Inflammatory bowel disease (IBD)</td>\n      <td>IBD</td>\n      <td>active_new_CD</td>\n      <td>active, newly diagnosed Crohn's disease (CD)</td>\n      <td>Crohn's disease (CD)</td>\n      <td>Europe</td>\n      <td>Poland</td>\n      <td>Lesser Poland Voivodeship (Małopolskie)</td>\n      <td>Krakow</td>\n      <td>Unknown</td>\n      <td>Unknown</td>\n      <td>Unknown</td>\n      <td>Unknown</td>\n      <td>L2</td>\n    </tr>\n    <tr>\n      <th>3</th>\n      <td>S699</td>\n      <td>crohns-paper_37122605</td>\n      <td>ITS1</td>\n      <td>Case</td>\n      <td>Gastrointestinal</td>\n      <td>Inflammatory bowel disease (IBD)</td>\n      <td>IBD</td>\n      <td>active_new_CD</td>\n      <td>active, newly diagnosed Crohn's disease (CD)</td>\n      <td>Crohn's disease (CD)</td>\n      <td>Europe</td>\n      <td>Poland</td>\n      <td>Lesser Poland Voivodeship (Małopolskie)</td>\n      <td>Krakow</td>\n      <td>Unknown</td>\n      <td>Unknown</td>\n      <td>Unknown</td>\n      <td>Unknown</td>\n      <td>L2</td>\n    </tr>\n    <tr>\n      <th>4</th>\n      <td>S707</td>\n      <td>crohns-paper_37122605</td>\n      <td>ITS1</td>\n      <td>Case</td>\n      <td>Gastrointestinal</td>\n      <td>Inflammatory bowel disease (IBD)</td>\n      <td>IBD</td>\n      <td>CD</td>\n      <td>clinical remission Crohn's disease (CD)</td>\n      <td>Crohn's disease (CD)</td>\n      <td>Europe</td>\n      <td>Poland</td>\n      <td>Lesser Poland Voivodeship (Małopolskie)</td>\n      <td>Krakow</td>\n      <td>Unknown</td>\n      <td>Unknown</td>\n      <td>Unknown</td>\n      <td>Unknown</td>\n      <td>L2</td>\n    </tr>\n  </tbody>\n</table>\n</div>"
     },
     "execution_count": 22,
     "metadata": {},
     "output_type": "execute_result"
    }
   ],
   "source": [
    "df_meta.head()"
   ],
   "metadata": {
    "collapsed": false,
    "ExecuteTime": {
     "end_time": "2024-09-12T17:10:40.190035Z",
     "start_time": "2024-09-12T17:10:40.178195Z"
    }
   },
   "id": "142529bd39f1eaa4",
   "execution_count": 22
  },
  {
   "cell_type": "code",
   "outputs": [],
   "source": [
    "df = pd.read_csv(f'{data_dir}/metadata/filt-nonresdient-sample-readcount.tsv', sep=\"\\t\")"
   ],
   "metadata": {
    "collapsed": false,
    "ExecuteTime": {
     "end_time": "2024-09-12T17:10:41.621110Z",
     "start_time": "2024-09-12T17:10:41.609266Z"
    }
   },
   "id": "5d07aaaa4a303647",
   "execution_count": 23
  },
  {
   "cell_type": "code",
   "outputs": [
    {
     "data": {
      "text/plain": "    sampleid  read_count\n0  DRR352708        3000\n1  DRR352709        3000\n2  DRR352711        3000\n3  DRR352712        3000\n4  DRR352715        3000",
      "text/html": "<div>\n<style scoped>\n    .dataframe tbody tr th:only-of-type {\n        vertical-align: middle;\n    }\n\n    .dataframe tbody tr th {\n        vertical-align: top;\n    }\n\n    .dataframe thead th {\n        text-align: right;\n    }\n</style>\n<table border=\"1\" class=\"dataframe\">\n  <thead>\n    <tr style=\"text-align: right;\">\n      <th></th>\n      <th>sampleid</th>\n      <th>read_count</th>\n    </tr>\n  </thead>\n  <tbody>\n    <tr>\n      <th>0</th>\n      <td>DRR352708</td>\n      <td>3000</td>\n    </tr>\n    <tr>\n      <th>1</th>\n      <td>DRR352709</td>\n      <td>3000</td>\n    </tr>\n    <tr>\n      <th>2</th>\n      <td>DRR352711</td>\n      <td>3000</td>\n    </tr>\n    <tr>\n      <th>3</th>\n      <td>DRR352712</td>\n      <td>3000</td>\n    </tr>\n    <tr>\n      <th>4</th>\n      <td>DRR352715</td>\n      <td>3000</td>\n    </tr>\n  </tbody>\n</table>\n</div>"
     },
     "execution_count": 24,
     "metadata": {},
     "output_type": "execute_result"
    }
   ],
   "source": [
    "df.head()"
   ],
   "metadata": {
    "collapsed": false,
    "ExecuteTime": {
     "end_time": "2024-09-12T17:10:42.703254Z",
     "start_time": "2024-09-12T17:10:42.692584Z"
    }
   },
   "id": "64042cf05b7807ed",
   "execution_count": 24
  },
  {
   "cell_type": "code",
   "outputs": [],
   "source": [
    "# Adding columns of interest to the df\n",
    "merge_df = pd.merge(\n",
    "    df,\n",
    "    df_meta[['sampleid', 'Project_ID', 'Case_Control', 'Disease_Level_1', 'Disease_Level_2']],\n",
    "    on='sampleid',\n",
    "    how='left'\n",
    ")"
   ],
   "metadata": {
    "collapsed": false,
    "ExecuteTime": {
     "end_time": "2024-09-12T17:10:44.409956Z",
     "start_time": "2024-09-12T17:10:44.396225Z"
    }
   },
   "id": "16b56873911f6b92",
   "execution_count": 25
  },
  {
   "cell_type": "code",
   "outputs": [
    {
     "data": {
      "text/plain": "1872"
     },
     "execution_count": 28,
     "metadata": {},
     "output_type": "execute_result"
    }
   ],
   "source": [
    "merge_df['sampleid'].nunique()"
   ],
   "metadata": {
    "collapsed": false,
    "ExecuteTime": {
     "end_time": "2024-09-12T17:11:18.909966Z",
     "start_time": "2024-09-12T17:11:18.897526Z"
    }
   },
   "id": "579a9759fbec3084",
   "execution_count": 28
  },
  {
   "cell_type": "code",
   "outputs": [],
   "source": [
    "merge_df.to_csv(f'{data_dir}/metadata/filt-nonresdient-sample-readcount-complete.tsv', sep=\"\\t\", index=False)"
   ],
   "metadata": {
    "collapsed": false,
    "ExecuteTime": {
     "end_time": "2024-09-12T17:13:05.459535Z",
     "start_time": "2024-09-12T17:13:05.435314Z"
    }
   },
   "id": "6346fb915b931903",
   "execution_count": 29
  },
  {
   "cell_type": "markdown",
   "source": [
    "#### Manually add two samples which have 100% non-resident reads."
   ],
   "metadata": {
    "collapsed": false
   },
   "id": "a3c45c05d5ac1b2c"
  },
  {
   "cell_type": "code",
   "outputs": [],
   "source": [],
   "metadata": {
    "collapsed": false
   },
   "id": "43f76148bf2fa55a"
  }
 ],
 "metadata": {
  "kernelspec": {
   "display_name": "Python 3",
   "language": "python",
   "name": "python3"
  },
  "language_info": {
   "codemirror_mode": {
    "name": "ipython",
    "version": 2
   },
   "file_extension": ".py",
   "mimetype": "text/x-python",
   "name": "python",
   "nbconvert_exporter": "python",
   "pygments_lexer": "ipython2",
   "version": "2.7.6"
  }
 },
 "nbformat": 4,
 "nbformat_minor": 5
}
