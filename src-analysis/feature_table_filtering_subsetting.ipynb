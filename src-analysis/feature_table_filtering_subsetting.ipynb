{
 "cells": [
  {
   "cell_type": "code",
   "outputs": [],
   "source": [
    "import pandas as pd\n",
    "import qiime2 as q2"
   ],
   "metadata": {
    "collapsed": false,
    "ExecuteTime": {
     "end_time": "2024-08-20T20:02:51.505522Z",
     "start_time": "2024-08-20T20:02:50.747677Z"
    }
   },
   "id": "855035374d26b029",
   "execution_count": 1
  },
  {
   "cell_type": "markdown",
   "source": [
    "### Filter mock community and negative control samples from table"
   ],
   "metadata": {
    "collapsed": false
   },
   "id": "3e17f55eaf850dd7"
  },
  {
   "cell_type": "markdown",
   "source": [
    "Use the \"exclusion-ids-final\" to doublecheck if all those were excluded."
   ],
   "metadata": {
    "collapsed": false
   },
   "id": "24a6d2325b553e10"
  },
  {
   "cell_type": "code",
   "outputs": [],
   "source": [
    "path = \"/Users/cheesemania/PycharmProjects/mscthesis_wrkdir\""
   ],
   "metadata": {
    "collapsed": false,
    "ExecuteTime": {
     "end_time": "2024-08-20T20:02:53.439166Z",
     "start_time": "2024-08-20T20:02:53.436107Z"
    }
   },
   "id": "2b6c258be6bd8c59",
   "execution_count": 2
  },
  {
   "cell_type": "code",
   "execution_count": 14,
   "id": "initial_id",
   "metadata": {
    "collapsed": true,
    "ExecuteTime": {
     "end_time": "2024-08-19T10:38:05.171218Z",
     "start_time": "2024-08-19T10:37:36.939777Z"
    }
   },
   "outputs": [
    {
     "name": "stdout",
     "output_type": "stream",
     "text": [
      "\u001B[32mSaved FeatureTable[Frequency] to: /Users/cheesemania/PycharmProjects/mscthesis_wrkdir/src-analysis/feature-table/health-disease-case-control/final_cr90_unite10_alleuk99_merged_all_minlen100_taxfilt_feature_table.qza\u001B[0m\r\n",
      "\u001B[0m"
     ]
    }
   ],
   "source": [
    "!qiime feature-table filter-samples \\\n",
    "    --i-table {path}/src-analysis/feature-table/final-merged-data-20240624/sven_cr90_unite10_alleuk99_merged_all_minlen100_taxfilt_feature_table.qza \\\n",
    "    --m-metadata-file {path}/metadata/exclusion-ids-final_240819.tsv \\\n",
    "    --p-exclude-ids True \\\n",
    "    --o-filtered-table {path}/src-analysis/feature-table/health-disease-case-control/final_cr90_unite10_alleuk99_merged_all_minlen100_taxfilt_feature_table.qza"
   ]
  },
  {
   "cell_type": "markdown",
   "source": [
    "### Filter features from the representative sequences based on the final feature table"
   ],
   "metadata": {
    "collapsed": false
   },
   "id": "71cb500b2042c2a9"
  },
  {
   "cell_type": "code",
   "outputs": [
    {
     "name": "stdout",
     "output_type": "stream",
     "text": [
      "\u001B[32mSaved FeatureData[Sequence] to: /Users/cheesemania/PycharmProjects/mscthesis_wrkdir/src-analysis/feature-table/health-disease-case-control/final_cr90_unite10_alleuk99_merged_all_minlen100_taxfilt_rep_seqs.qza\u001B[0m\r\n",
      "\u001B[0m"
     ]
    }
   ],
   "source": [
    "!qiime feature-table filter-seqs \\\n",
    "    --i-data {path}/src-analysis/feature-table/final-merged-data-20240624/sven_cr90_unite10_alleuk99_merged_all_minlen100_taxfilt_rep_seqs.qza \\\n",
    "    --i-table {path}/src-analysis/feature-table/health-disease-case-control/final_cr90_unite10_alleuk99_merged_all_minlen100_taxfilt_feature_table.qza \\\n",
    "    --o-filtered-data {path}/src-analysis/feature-table/health-disease-case-control/final_cr90_unite10_alleuk99_merged_all_minlen100_taxfilt_rep_seqs.qza"
   ],
   "metadata": {
    "collapsed": false,
    "ExecuteTime": {
     "end_time": "2024-08-19T10:39:16.594597Z",
     "start_time": "2024-08-19T10:38:44.588353Z"
    }
   },
   "id": "2d7fe5a71ff7d261",
   "execution_count": 16
  },
  {
   "cell_type": "markdown",
   "source": [
    "### Visualizations"
   ],
   "metadata": {
    "collapsed": false
   },
   "id": "76eb7c122e02c5b0"
  },
  {
   "cell_type": "code",
   "outputs": [
    {
     "name": "stdout",
     "output_type": "stream",
     "text": [
      "\u001B[32mSaved Visualization to: /Users/cheesemania/PycharmProjects/mscthesis_wrkdir/src-analysis/feature-table/health-disease-case-control/final_cr90_unite10_alleuk99_merged_all_minlen100_taxfilt_feature_table.qzv\u001B[0m\r\n",
      "\u001B[0m"
     ]
    }
   ],
   "source": [
    "!qiime feature-table summarize \\\n",
    "    --i-table {path}/src-analysis/feature-table/health-disease-case-control/final_cr90_unite10_alleuk99_merged_all_minlen100_taxfilt_feature_table.qza \\\n",
    "    --o-visualization {path}/src-analysis/feature-table/health-disease-case-control/final_cr90_unite10_alleuk99_merged_all_minlen100_taxfilt_feature_table.qzv"
   ],
   "metadata": {
    "collapsed": false,
    "ExecuteTime": {
     "end_time": "2024-08-19T10:38:38.285115Z",
     "start_time": "2024-08-19T10:38:09.285496Z"
    }
   },
   "id": "7b2aa94e7550d6aa",
   "execution_count": 15
  },
  {
   "cell_type": "code",
   "outputs": [
    {
     "name": "stdout",
     "output_type": "stream",
     "text": [
      "\u001B[32mSaved Visualization to: /Users/cheesemania/PycharmProjects/mscthesis_wrkdir/src-analysis/feature-table/health-disease-case-control/final_cr90_unite10_alleuk99_merged_all_minlen100_taxfilt_rep_seqs.qzv\u001B[0m\r\n",
      "\u001B[0m"
     ]
    }
   ],
   "source": [
    "!qiime feature-table tabulate-seqs \\\n",
    "    --i-data {path}/src-analysis/feature-table/health-disease-case-control/final_cr90_unite10_alleuk99_merged_all_minlen100_taxfilt_rep_seqs.qza \\\n",
    "    --o-visualization {path}/src-analysis/feature-table/health-disease-case-control/final_cr90_unite10_alleuk99_merged_all_minlen100_taxfilt_rep_seqs.qzv"
   ],
   "metadata": {
    "collapsed": false,
    "ExecuteTime": {
     "end_time": "2024-08-19T10:39:55.575639Z",
     "start_time": "2024-08-19T10:39:26.208162Z"
    }
   },
   "id": "a8aba6a8357f55e2",
   "execution_count": 17
  },
  {
   "cell_type": "markdown",
   "source": [
    "### Subset the case-control samples with identifiable health status"
   ],
   "metadata": {
    "collapsed": false
   },
   "id": "9eccc8b39c2c08da"
  },
  {
   "cell_type": "code",
   "outputs": [
    {
     "name": "stdout",
     "output_type": "stream",
     "text": [
      "\u001B[32mSaved FeatureTable[Frequency] to: /Users/cheesemania/PycharmProjects/mscthesis_wrkdir/src-analysis/feature-table/health-disease-case-control/case_control_feature_table.qza\u001B[0m\r\n",
      "\u001B[0m"
     ]
    }
   ],
   "source": [
    "!qiime feature-table filter-samples \\\n",
    "    --i-table {path}/src-analysis/feature-table/health-disease-case-control/final_cr90_unite10_alleuk99_merged_all_minlen100_taxfilt_feature_table.qza \\\n",
    "    --m-metadata-file {path}/metadata/case-control-samples.tsv \\\n",
    "    --p-exclude-ids False \\\n",
    "    --o-filtered-table {path}/src-analysis/feature-table/health-disease-case-control/case_control_feature_table.qza"
   ],
   "metadata": {
    "collapsed": false,
    "ExecuteTime": {
     "end_time": "2024-08-19T10:41:29.114022Z",
     "start_time": "2024-08-19T10:41:01.636398Z"
    }
   },
   "id": "49138438c732ddab",
   "execution_count": 18
  },
  {
   "cell_type": "code",
   "outputs": [
    {
     "name": "stdout",
     "output_type": "stream",
     "text": [
      "\u001B[32mSaved Visualization to: /Users/cheesemania/PycharmProjects/mscthesis_wrkdir/src-analysis/feature-table/health-disease-case-control/case_control_feature_table.qzv\u001B[0m\r\n",
      "\u001B[0m"
     ]
    }
   ],
   "source": [
    "!qiime feature-table summarize \\\n",
    "    --i-table {path}/src-analysis/feature-table/health-disease-case-control/case_control_feature_table.qza \\\n",
    "    --o-visualization {path}/src-analysis/feature-table/health-disease-case-control/case_control_feature_table.qzv"
   ],
   "metadata": {
    "collapsed": false,
    "ExecuteTime": {
     "end_time": "2024-08-19T10:42:08.517241Z",
     "start_time": "2024-08-19T10:41:40.451850Z"
    }
   },
   "id": "c9c45c6d66b0e0d6",
   "execution_count": 19
  },
  {
   "cell_type": "code",
   "outputs": [
    {
     "name": "stdout",
     "output_type": "stream",
     "text": [
      "\u001B[32mSaved FeatureData[Sequence] to: /Users/cheesemania/PycharmProjects/mscthesis_wrkdir/src-analysis/feature-table/health-disease-case-control/case_control_rep_seqs.qza\u001B[0m\r\n",
      "\u001B[0m"
     ]
    }
   ],
   "source": [
    "!qiime feature-table filter-seqs \\\n",
    "    --i-data {path}/src-analysis/feature-table/health-disease-case-control/final_cr90_unite10_alleuk99_merged_all_minlen100_taxfilt_rep_seqs.qza \\\n",
    "    --i-table {path}/src-analysis/feature-table/health-disease-case-control/case_control_feature_table.qza \\\n",
    "    --o-filtered-data {path}/src-analysis/feature-table/health-disease-case-control/case_control_rep_seqs.qza"
   ],
   "metadata": {
    "collapsed": false,
    "ExecuteTime": {
     "end_time": "2024-08-19T13:17:48.270897Z",
     "start_time": "2024-08-19T13:17:19.016211Z"
    }
   },
   "id": "83166ff34b9720eb",
   "execution_count": 38
  },
  {
   "cell_type": "code",
   "outputs": [
    {
     "name": "stdout",
     "output_type": "stream",
     "text": [
      "\u001B[32mSaved Visualization to: /Users/cheesemania/PycharmProjects/mscthesis_wrkdir/src-analysis/feature-table/health-disease-case-control/case_control_rep_seqs.qzv\u001B[0m\r\n",
      "\u001B[0m"
     ]
    }
   ],
   "source": [
    "!qiime feature-table tabulate-seqs \\\n",
    "    --i-data {path}/src-analysis/feature-table/health-disease-case-control/case_control_rep_seqs.qza \\\n",
    "    --o-visualization {path}/src-analysis/feature-table/health-disease-case-control/case_control_rep_seqs.qzv"
   ],
   "metadata": {
    "collapsed": false,
    "ExecuteTime": {
     "end_time": "2024-08-19T13:21:29.417205Z",
     "start_time": "2024-08-19T13:21:01.519806Z"
    }
   },
   "id": "b5a1dc43ed0ac13c",
   "execution_count": 39
  },
  {
   "cell_type": "markdown",
   "source": [
    "### Check samples"
   ],
   "metadata": {
    "collapsed": false
   },
   "id": "d5861021da2a2a6b"
  },
  {
   "cell_type": "markdown",
   "source": [
    "case_control_feature_table contains 2247 samples, but the subset table contains 2415 samples. \n",
    "\n",
    "Why? - Closed-reference clustering."
   ],
   "metadata": {
    "collapsed": false
   },
   "id": "b295249af0d079c3"
  },
  {
   "cell_type": "code",
   "outputs": [],
   "source": [
    "df_subset_id = pd.read_csv(f'{path}/metadata/case-control-samples.tsv', sep='\\t')"
   ],
   "metadata": {
    "collapsed": false,
    "ExecuteTime": {
     "end_time": "2024-08-19T10:49:16.642247Z",
     "start_time": "2024-08-19T10:49:16.635213Z"
    }
   },
   "id": "47944233ee881da4",
   "execution_count": 28
  },
  {
   "cell_type": "code",
   "outputs": [
    {
     "data": {
      "text/plain": "(2415, 1)"
     },
     "execution_count": 29,
     "metadata": {},
     "output_type": "execute_result"
    }
   ],
   "source": [
    "df_subset_id.shape"
   ],
   "metadata": {
    "collapsed": false,
    "ExecuteTime": {
     "end_time": "2024-08-19T10:49:17.184117Z",
     "start_time": "2024-08-19T10:49:17.180580Z"
    }
   },
   "id": "9e40da252c0a9de",
   "execution_count": 29
  },
  {
   "cell_type": "code",
   "outputs": [
    {
     "data": {
      "text/plain": "2415"
     },
     "execution_count": 34,
     "metadata": {},
     "output_type": "execute_result"
    }
   ],
   "source": [
    "len(df_subset_id['ID'].unique())"
   ],
   "metadata": {
    "collapsed": false,
    "ExecuteTime": {
     "end_time": "2024-08-19T10:51:11.275749Z",
     "start_time": "2024-08-19T10:51:11.264319Z"
    }
   },
   "id": "fdf8af1d40da4dfd",
   "execution_count": 34
  },
  {
   "cell_type": "code",
   "outputs": [],
   "source": [
    "table_original = q2.Artifact.load(f'{path}/src-analysis/feature-table/health-disease-case-control/final_cr90_unite10_alleuk99_merged_all_minlen100_taxfilt_feature_table.qza').view(pd.DataFrame)\n",
    "\n",
    "table_filtered = q2.Artifact.load(f'{path}/src-analysis/feature-table/health-disease-case-control/case_control_feature_table.qza').view(pd.DataFrame)"
   ],
   "metadata": {
    "collapsed": false,
    "ExecuteTime": {
     "end_time": "2024-08-19T10:43:55.090624Z",
     "start_time": "2024-08-19T10:43:53.735413Z"
    }
   },
   "id": "a85ff5394e8d07ea",
   "execution_count": 21
  },
  {
   "cell_type": "code",
   "outputs": [
    {
     "data": {
      "text/plain": "(9197, 14205)"
     },
     "execution_count": 22,
     "metadata": {},
     "output_type": "execute_result"
    }
   ],
   "source": [
    "table_original.shape"
   ],
   "metadata": {
    "collapsed": false,
    "ExecuteTime": {
     "end_time": "2024-08-19T10:43:57.637915Z",
     "start_time": "2024-08-19T10:43:57.628744Z"
    }
   },
   "id": "7623f7c149952bfd",
   "execution_count": 22
  },
  {
   "cell_type": "code",
   "outputs": [
    {
     "data": {
      "text/plain": "(2247, 8231)"
     },
     "execution_count": 23,
     "metadata": {},
     "output_type": "execute_result"
    }
   ],
   "source": [
    "table_filtered.shape"
   ],
   "metadata": {
    "collapsed": false,
    "ExecuteTime": {
     "end_time": "2024-08-19T10:43:58.765363Z",
     "start_time": "2024-08-19T10:43:58.761072Z"
    }
   },
   "id": "aeb252d744a8dcd1",
   "execution_count": 23
  },
  {
   "cell_type": "code",
   "outputs": [],
   "source": [
    "# Get sample IDs\n",
    "table_original_samples = set(table_original.index)\n",
    "table_filtered_samples = set(table_filtered.index)"
   ],
   "metadata": {
    "collapsed": false,
    "ExecuteTime": {
     "end_time": "2024-08-19T10:45:34.951652Z",
     "start_time": "2024-08-19T10:45:34.943059Z"
    }
   },
   "id": "5d9e6fada42d0a98",
   "execution_count": 24
  },
  {
   "cell_type": "code",
   "outputs": [
    {
     "name": "stdout",
     "output_type": "stream",
     "text": [
      "Some IDs are missing from the original table: {'SRR11924128', 'SRR11924271', 'SRR11924178', 'SRR15531485', 'SRR11924177', 'SRR11924261', 'SRR15531551', 'SRR11924116', 'SRR11924187', 'SRR11924193', 'SRR11924246', 'SRR11924253', 'SRR11924175', 'SRR8537011', 'SRR15531457', 'SRR15531481', 'SRR8537003', 'SRR11924161', 'SRR11924143', 'SRR11924168', 'SRR11924142', 'SRR11924131', 'SRR11924174', 'SRR15531426', 'SRR11924236', 'SRR11924189', 'SRR11924252', 'SRR11924229', 'SRR11924238', 'SRR11924234', 'SRR11924255', 'SRR11924201', 'SRR11924155', 'SRR11924095', 'SRR11924221', 'SRR11924156', 'SRR11924109', 'SRR15531483', 'SRR11924204', 'SRR11924248', 'SRR15531488', 'SRR11924118', 'SRR11924138', 'SRR11924171', 'SRR15531553', 'SRR11924273', 'SRR11924184', 'SRR11924200', 'SRR11924267', 'SRR11924242', 'SRR11924239', 'SRR8536936', 'SRR11924265', 'SRR8536961', 'SRR11924186', 'SRR11924141', 'SRR11924137', 'SRR11924240', 'SRR11924153', 'SRR11924244', 'SRR11924094', 'SRR8537007', 'SRR11924170', 'SRR11924172', 'SRR11924230', 'SRR11924241', 'SRR15531554', 'SRR11924197', 'SRR11924231', 'SRR8537152', 'SRR11924213', 'SRR11924103', 'SRR11924152', 'SRR15531460', 'SRR11924264', 'SRR11924160', 'SRR11924176', 'SRR11924249', 'SRR11924093', 'SRR11924169', 'SRR15531549', 'SRR11924259', 'SRR11924180', 'SRR11924227', 'SRR11924101', 'SRR11924134', 'SRR11924198', 'SRR11924111', 'SRR11924158', 'SRR11924167', 'SRR11924107', 'SRR11924274', 'SRR11924100', 'SRR11924250', 'SRR11924268', 'SRR11924276', 'SRR15531506', 'SRR11924126', 'SRR11924195', 'SRR11924122', 'SRR15531420', 'SRR11924219', 'SRR11924275', 'SRR11924205', 'SRR15531405', 'SRR11924211', 'SRR11924182', 'SRR8536980', 'SRR11924132', 'SRR11924243', 'SRR8536920', 'SRR11924235', 'SRR11924140', 'SRR8537006', 'SRR11924212', 'SRR11924125', 'SRR11924216', 'SRR11924202', 'SRR11924114', 'SRR11924162', 'SRR15531453', 'SRR11924185', 'SRR11924203', 'SRR11924245', 'SRR11924104', 'SRR11924173', 'SRR11924181', 'SRR15531422', 'SRR11924119', 'SRR11924139', 'SRR11924157', 'SRR11924256', 'SRR11924209', 'SRR11924145', 'SRR9856355', 'SRR11924164', 'SRR11924269', 'SRR11924272', 'SRR11924247', 'SRR11924129', 'SRR11924237', 'SRR11924154', 'SRR11924199', 'SRR11924258', 'SRR11924192', 'SRR11924190', 'SRR11924117', 'SRR11924099', 'SRR11924228', 'SRR11924218', 'SRR11924106', 'SRR11924108', 'SRR8536954', 'SRR11924124', 'SRR15531427', 'SRR11924183', 'SRR11924113', 'SRR11924266', 'SRR11924159', 'SRR11924208', 'SRR11924135', 'SRR11924207', 'SRR15531555', 'SRR9856412', 'SRR11924226', 'SRR11924120', 'SRR11924270', 'SRR15531552'}\n",
      "The number of missing IDs in the original table: 168\n"
     ]
    }
   ],
   "source": [
    "subset_samples = set(df_subset_id['ID'])\n",
    "# Check if all IDs in the second dataframe are in the original table\n",
    "all_ids_present = subset_samples.issubset(table_original_samples)\n",
    "\n",
    "if all_ids_present:\n",
    "    print(\"All IDs in the subset table are present in the original table.\")\n",
    "else:\n",
    "    # Find which IDs are missing\n",
    "    missing_ids = subset_samples - table_original_samples\n",
    "    print(f\"Some IDs are missing from the original table: {missing_ids}\")\n",
    "    print(f\"The number of missing IDs in the original table: {len(missing_ids)}\")"
   ],
   "metadata": {
    "collapsed": false,
    "ExecuteTime": {
     "end_time": "2024-08-19T13:07:01.737442Z",
     "start_time": "2024-08-19T13:07:01.725157Z"
    }
   },
   "id": "ba0cd717a7873db2",
   "execution_count": 36
  },
  {
   "cell_type": "code",
   "outputs": [
    {
     "name": "stdout",
     "output_type": "stream",
     "text": [
      "Samples in Filtered Table but not in Original Table: set()\n"
     ]
    }
   ],
   "source": [
    "# Check if there are any samples in filtered table but not in original table:\n",
    "missing_in_table_original = table_filtered_samples - table_original_samples\n",
    "\n",
    "print(\"Samples in Filtered Table but not in Original Table:\", missing_in_table_original)"
   ],
   "metadata": {
    "collapsed": false,
    "ExecuteTime": {
     "end_time": "2024-08-19T13:09:18.836940Z",
     "start_time": "2024-08-19T13:09:18.826665Z"
    }
   },
   "id": "960e6ab9b57ce4b2",
   "execution_count": 37
  },
  {
   "cell_type": "markdown",
   "source": [
    "#### There are 168 samples in the case-control metadata but not in the case_control_feature_table due to closed-reference clustering process."
   ],
   "metadata": {
    "collapsed": false
   },
   "id": "bc40931b8e241077"
  },
  {
   "cell_type": "markdown",
   "source": [
    "### Removing all the H1N1 cases in PRJNA637034"
   ],
   "metadata": {
    "collapsed": false
   },
   "id": "609022e2b943a852"
  },
  {
   "cell_type": "markdown",
   "source": [
    "Too few samples remained after rarefaction (at sampling depth 3000)."
   ],
   "metadata": {
    "collapsed": false
   },
   "id": "c40343c986a715fb"
  },
  {
   "cell_type": "code",
   "outputs": [
    {
     "name": "stdout",
     "output_type": "stream",
     "text": [
      "\u001B[32mSaved FeatureTable[Frequency] to: /Users/cheesemania/PycharmProjects/mscthesis_wrkdir/src-analysis/feature-table/health-disease-case-control/case_control_feature_table_remove_h1n1.qza\u001B[0m\r\n",
      "\u001B[0m"
     ]
    }
   ],
   "source": [
    "!qiime feature-table filter-samples \\\n",
    "    --i-table {path}/src-analysis/feature-table/health-disease-case-control/case_control_feature_table.qza \\\n",
    "    --m-metadata-file {path}/metadata/case_control_metadata_remove_h1n1.tsv \\\n",
    "    --p-exclude-ids False \\\n",
    "    --o-filtered-table {path}/src-analysis/feature-table/health-disease-case-control/case_control_feature_table_remove_h1n1.qza"
   ],
   "metadata": {
    "collapsed": false,
    "ExecuteTime": {
     "end_time": "2024-08-20T20:03:57.513729Z",
     "start_time": "2024-08-20T20:03:29.105388Z"
    }
   },
   "id": "4d1365c08a0fa1ab",
   "execution_count": 3
  },
  {
   "cell_type": "code",
   "outputs": [
    {
     "name": "stdout",
     "output_type": "stream",
     "text": [
      "\u001B[32mSaved Visualization to: /Users/cheesemania/PycharmProjects/mscthesis_wrkdir/src-analysis/feature-table/health-disease-case-control/case_control_feature_table_remove_h1n1.qzv\u001B[0m\r\n",
      "\u001B[0m"
     ]
    }
   ],
   "source": [
    "!qiime feature-table summarize \\\n",
    "    --i-table {path}/src-analysis/feature-table/health-disease-case-control/case_control_feature_table_remove_h1n1.qza \\\n",
    "    --o-visualization {path}/src-analysis/feature-table/health-disease-case-control/case_control_feature_table_remove_h1n1.qzv"
   ],
   "metadata": {
    "collapsed": false,
    "ExecuteTime": {
     "end_time": "2024-08-20T20:04:28.699124Z",
     "start_time": "2024-08-20T20:03:59.300774Z"
    }
   },
   "id": "62a72b2a9dd0d818",
   "execution_count": 4
  },
  {
   "cell_type": "code",
   "outputs": [
    {
     "name": "stdout",
     "output_type": "stream",
     "text": [
      "\u001B[32mSaved FeatureData[Sequence] to: /Users/cheesemania/PycharmProjects/mscthesis_wrkdir/src-analysis/feature-table/health-disease-case-control/case_control_rep_seqs_remove_h1n1.qza\u001B[0m\r\n",
      "\u001B[0m"
     ]
    }
   ],
   "source": [
    "!qiime feature-table filter-seqs \\\n",
    "    --i-data {path}/src-analysis/feature-table/health-disease-case-control/case_control_rep_seqs.qza \\\n",
    "    --i-table {path}/src-analysis/feature-table/health-disease-case-control/case_control_feature_table_remove_h1n1.qza \\\n",
    "    --o-filtered-data {path}/src-analysis/feature-table/health-disease-case-control/case_control_rep_seqs_remove_h1n1.qza"
   ],
   "metadata": {
    "collapsed": false,
    "ExecuteTime": {
     "end_time": "2024-08-20T20:05:01.579364Z",
     "start_time": "2024-08-20T20:04:30.287865Z"
    }
   },
   "id": "17b6fed6e5563c91",
   "execution_count": 5
  },
  {
   "cell_type": "code",
   "outputs": [
    {
     "name": "stdout",
     "output_type": "stream",
     "text": [
      "\u001B[32mSaved Visualization to: /Users/cheesemania/PycharmProjects/mscthesis_wrkdir/src-analysis/feature-table/health-disease-case-control/case_control_rep_seqs_remove_h1n1.qzv\u001B[0m\r\n",
      "\u001B[0m"
     ]
    }
   ],
   "source": [
    "!qiime feature-table tabulate-seqs \\\n",
    "    --i-data {path}/src-analysis/feature-table/health-disease-case-control/case_control_rep_seqs_remove_h1n1.qza \\\n",
    "    --o-visualization {path}/src-analysis/feature-table/health-disease-case-control/case_control_rep_seqs_remove_h1n1.qzv"
   ],
   "metadata": {
    "collapsed": false,
    "ExecuteTime": {
     "end_time": "2024-08-20T20:08:33.590671Z",
     "start_time": "2024-08-20T20:08:03.735996Z"
    }
   },
   "id": "f5bf683c79dc0223",
   "execution_count": 6
  },
  {
   "cell_type": "markdown",
   "source": [
    "### Further examination of sample counts after rarefaction at 3000 led to the exclusion of four projects"
   ],
   "metadata": {
    "collapsed": false
   },
   "id": "b67d650267d37bb0"
  },
  {
   "cell_type": "code",
   "outputs": [
    {
     "name": "stdout",
     "output_type": "stream",
     "text": [
      "\u001B[32mSaved FeatureTable[Frequency] to: /Users/cheesemania/PycharmProjects/mscthesis_wrkdir/src-analysis/feature-table/health-disease-case-control/case_control_feature_table_remove_h1n1_filtered1.qza\u001B[0m\r\n",
      "\u001B[0m"
     ]
    }
   ],
   "source": [
    "!qiime feature-table filter-samples \\\n",
    "    --i-table {path}/src-analysis/feature-table/health-disease-case-control/case_control_feature_table_remove_h1n1.qza \\\n",
    "    --m-metadata-file {path}/metadata/case_control_metadata_remove_h1n1_filtered1.tsv \\\n",
    "    --p-exclude-ids False \\\n",
    "    --o-filtered-table {path}/src-analysis/feature-table/health-disease-case-control/case_control_feature_table_remove_h1n1_filtered1.qza"
   ],
   "metadata": {
    "collapsed": false,
    "ExecuteTime": {
     "end_time": "2024-08-22T12:37:20.155769Z",
     "start_time": "2024-08-22T12:36:49.877081Z"
    }
   },
   "id": "98ac37a048232582",
   "execution_count": 8
  },
  {
   "cell_type": "code",
   "outputs": [
    {
     "name": "stdout",
     "output_type": "stream",
     "text": [
      "\u001B[32mSaved Visualization to: /Users/cheesemania/PycharmProjects/mscthesis_wrkdir/src-analysis/feature-table/health-disease-case-control/case_control_feature_table_remove_h1n1_filtered1.qzv\u001B[0m\r\n",
      "\u001B[0m"
     ]
    }
   ],
   "source": [
    "!qiime feature-table summarize \\\n",
    "    --i-table {path}/src-analysis/feature-table/health-disease-case-control/case_control_feature_table_remove_h1n1_filtered1.qza \\\n",
    "    --o-visualization {path}/src-analysis/feature-table/health-disease-case-control/case_control_feature_table_remove_h1n1_filtered1.qzv"
   ],
   "metadata": {
    "collapsed": false,
    "ExecuteTime": {
     "end_time": "2024-08-22T12:38:35.178719Z",
     "start_time": "2024-08-22T12:37:57.060206Z"
    }
   },
   "id": "1a68225c66dd926d",
   "execution_count": 9
  },
  {
   "cell_type": "code",
   "outputs": [
    {
     "name": "stdout",
     "output_type": "stream",
     "text": [
      "\u001B[32mSaved FeatureData[Sequence] to: /Users/cheesemania/PycharmProjects/mscthesis_wrkdir/src-analysis/feature-table/health-disease-case-control/case_control_rep_seqs_remove_h1n1_filtered1.qza\u001B[0m\r\n",
      "\u001B[0m"
     ]
    }
   ],
   "source": [
    "!qiime feature-table filter-seqs \\\n",
    "    --i-data {path}/src-analysis/feature-table/health-disease-case-control/case_control_rep_seqs_remove_h1n1.qza \\\n",
    "    --i-table {path}/src-analysis/feature-table/health-disease-case-control/case_control_feature_table_remove_h1n1_filtered1.qza \\\n",
    "    --o-filtered-data {path}/src-analysis/feature-table/health-disease-case-control/case_control_rep_seqs_remove_h1n1_filtered1.qza"
   ],
   "metadata": {
    "collapsed": false,
    "ExecuteTime": {
     "end_time": "2024-08-22T12:39:38.864765Z",
     "start_time": "2024-08-22T12:39:01.708855Z"
    }
   },
   "id": "b55aadc019e34721",
   "execution_count": 10
  },
  {
   "cell_type": "code",
   "outputs": [
    {
     "name": "stdout",
     "output_type": "stream",
     "text": [
      "\u001B[32mSaved Visualization to: /Users/cheesemania/PycharmProjects/mscthesis_wrkdir/src-analysis/feature-table/health-disease-case-control/case_control_rep_seqs_remove_h1n1_filtered1.qzv\u001B[0m\r\n",
      "\u001B[0m"
     ]
    }
   ],
   "source": [
    "!qiime feature-table tabulate-seqs \\\n",
    "    --i-data {path}/src-analysis/feature-table/health-disease-case-control/case_control_rep_seqs_remove_h1n1_filtered1.qza \\\n",
    "    --o-visualization {path}/src-analysis/feature-table/health-disease-case-control/case_control_rep_seqs_remove_h1n1_filtered1.qzv"
   ],
   "metadata": {
    "collapsed": false,
    "ExecuteTime": {
     "end_time": "2024-08-22T12:41:28.306907Z",
     "start_time": "2024-08-22T12:40:55.164638Z"
    }
   },
   "id": "fe2bb4ef1b686ff0",
   "execution_count": 11
  },
  {
   "cell_type": "markdown",
   "source": [
    "### Examination of sample counts afer rarefaction at 6000 led to the exclusion of five projects"
   ],
   "metadata": {
    "collapsed": false
   },
   "id": "7e92bc11fdf081ac"
  },
  {
   "cell_type": "code",
   "outputs": [
    {
     "name": "stdout",
     "output_type": "stream",
     "text": [
      "\u001B[32mSaved FeatureTable[Frequency] to: /Users/cheesemania/PycharmProjects/mscthesis_wrkdir/src-analysis/feature-table/health-disease-case-control/case_control_feature_table_remove_h1n1_filtered2.qza\u001B[0m\r\n",
      "\u001B[0m"
     ]
    }
   ],
   "source": [
    "!qiime feature-table filter-samples \\\n",
    "    --i-table {path}/src-analysis/feature-table/health-disease-case-control/case_control_feature_table_remove_h1n1.qza \\\n",
    "    --m-metadata-file {path}/metadata/case_control_metadata_remove_h1n1_filtered2.tsv \\\n",
    "    --p-exclude-ids False \\\n",
    "    --o-filtered-table {path}/src-analysis/feature-table/health-disease-case-control/case_control_feature_table_remove_h1n1_filtered2.qza"
   ],
   "metadata": {
    "collapsed": false,
    "ExecuteTime": {
     "end_time": "2024-08-26T18:41:56.458355Z",
     "start_time": "2024-08-26T18:41:24.816698Z"
    }
   },
   "id": "5871e2a3826138a1",
   "execution_count": 32
  },
  {
   "cell_type": "code",
   "outputs": [
    {
     "name": "stdout",
     "output_type": "stream",
     "text": [
      "\u001B[32mSaved Visualization to: /Users/cheesemania/PycharmProjects/mscthesis_wrkdir/src-analysis/feature-table/health-disease-case-control/case_control_feature_table_remove_h1n1_filtered2.qzv\u001B[0m\r\n",
      "\u001B[0m"
     ]
    }
   ],
   "source": [
    "!qiime feature-table summarize \\\n",
    "    --i-table {path}/src-analysis/feature-table/health-disease-case-control/case_control_feature_table_remove_h1n1_filtered2.qza \\\n",
    "    --o-visualization {path}/src-analysis/feature-table/health-disease-case-control/case_control_feature_table_remove_h1n1_filtered2.qzv"
   ],
   "metadata": {
    "collapsed": false,
    "ExecuteTime": {
     "end_time": "2024-08-26T18:43:38.707541Z",
     "start_time": "2024-08-26T18:43:09.554130Z"
    }
   },
   "id": "2e674baf212369af",
   "execution_count": 33
  },
  {
   "cell_type": "code",
   "outputs": [
    {
     "name": "stdout",
     "output_type": "stream",
     "text": [
      "\u001B[32mSaved FeatureData[Sequence] to: /Users/cheesemania/PycharmProjects/mscthesis_wrkdir/src-analysis/feature-table/health-disease-case-control/case_control_rep_seqs_remove_h1n1_filtered2.qza\u001B[0m\r\n",
      "\u001B[0m"
     ]
    }
   ],
   "source": [
    "!qiime feature-table filter-seqs \\\n",
    "    --i-data {path}/src-analysis/feature-table/health-disease-case-control/case_control_rep_seqs_remove_h1n1.qza \\\n",
    "    --i-table {path}/src-analysis/feature-table/health-disease-case-control/case_control_feature_table_remove_h1n1_filtered2.qza \\\n",
    "    --o-filtered-data {path}/src-analysis/feature-table/health-disease-case-control/case_control_rep_seqs_remove_h1n1_filtered2.qza"
   ],
   "metadata": {
    "collapsed": false,
    "ExecuteTime": {
     "end_time": "2024-08-26T18:44:12.972075Z",
     "start_time": "2024-08-26T18:43:42.308199Z"
    }
   },
   "id": "2d9a79333178b778",
   "execution_count": 34
  },
  {
   "cell_type": "code",
   "outputs": [
    {
     "name": "stdout",
     "output_type": "stream",
     "text": [
      "\u001B[32mSaved Visualization to: /Users/cheesemania/PycharmProjects/mscthesis_wrkdir/src-analysis/feature-table/health-disease-case-control/case_control_rep_seqs_remove_h1n1_filtered2.qzv\u001B[0m\r\n",
      "\u001B[0m"
     ]
    }
   ],
   "source": [
    "!qiime feature-table tabulate-seqs \\\n",
    "    --i-data {path}/src-analysis/feature-table/health-disease-case-control/case_control_rep_seqs_remove_h1n1_filtered2.qza \\\n",
    "    --o-visualization {path}/src-analysis/feature-table/health-disease-case-control/case_control_rep_seqs_remove_h1n1_filtered2.qzv"
   ],
   "metadata": {
    "collapsed": false,
    "ExecuteTime": {
     "end_time": "2024-08-26T18:44:53.570845Z",
     "start_time": "2024-08-26T18:44:22.043263Z"
    }
   },
   "id": "feaeae5e2d5f049b",
   "execution_count": 35
  },
  {
   "cell_type": "markdown",
   "source": [
    "### (Below are redundant or non-useful processes that can be deleted later)"
   ],
   "metadata": {
    "collapsed": false
   },
   "id": "a4517ab30876d97f"
  },
  {
   "cell_type": "markdown",
   "source": [
    "### Subsetting the case_control_feature_table - filter features from the rarefied table"
   ],
   "metadata": {
    "collapsed": false
   },
   "id": "f384785b0c50d536"
  },
  {
   "cell_type": "markdown",
   "source": [
    "##### Filtering the non-resident fungi from the rarefied table"
   ],
   "metadata": {
    "collapsed": false
   },
   "id": "f009d637a5ddc45d"
  },
  {
   "cell_type": "code",
   "outputs": [
    {
     "name": "stdout",
     "output_type": "stream",
     "text": [
      "\u001B[32mSaved FeatureTable[Frequency] to: /Users/cheesemania/PycharmProjects/mscthesis_wrkdir/src-analysis/feature-table/health-disease-case-control/filtered/case_control_rarefied3000_filt_nonresident_feature_table.qza\u001B[0m\r\n",
      "\u001B[0m"
     ]
    }
   ],
   "source": [
    "!qiime feature-table filter-features \\\n",
    "    --i-table {path}/src-analysis/feature-table/health-disease-case-control/case_control_rarefied3000_feature_table_remove_h1n1_filtered1.qza \\\n",
    "    --m-metadata-file {path}/metadata/fungal-traits/non-resident_ids.tsv \\\n",
    "    --p-exclude-ids True \\\n",
    "    --o-filtered-table {path}/src-analysis/feature-table/health-disease-case-control/filtered/case_control_rarefied3000_filt_nonresident_feature_table.qza"
   ],
   "metadata": {
    "collapsed": false,
    "ExecuteTime": {
     "end_time": "2024-08-22T16:32:01.750145Z",
     "start_time": "2024-08-22T16:31:31.827038Z"
    }
   },
   "id": "9feb5e6171b1521f",
   "execution_count": 27
  },
  {
   "cell_type": "code",
   "outputs": [
    {
     "name": "stdout",
     "output_type": "stream",
     "text": [
      "\u001B[32mSaved Visualization to: /Users/cheesemania/PycharmProjects/mscthesis_wrkdir/src-analysis/feature-table/health-disease-case-control/filtered/case_control_rarefied3000_filt_nonresident_feature_table.qzv\u001B[0m\r\n",
      "\u001B[0m"
     ]
    }
   ],
   "source": [
    "!qiime feature-table summarize \\\n",
    "    --i-table {path}/src-analysis/feature-table/health-disease-case-control/filtered/case_control_rarefied3000_filt_nonresident_feature_table.qza \\\n",
    "    --o-visualization {path}/src-analysis/feature-table/health-disease-case-control/filtered/case_control_rarefied3000_filt_nonresident_feature_table.qzv"
   ],
   "metadata": {
    "collapsed": false,
    "ExecuteTime": {
     "end_time": "2024-08-22T16:32:44.568435Z",
     "start_time": "2024-08-22T16:32:14.926166Z"
    }
   },
   "id": "adce509f9b980b42",
   "execution_count": 28
  },
  {
   "cell_type": "markdown",
   "source": [
    "#### Subsetting only the non-resident fungi"
   ],
   "metadata": {
    "collapsed": false
   },
   "id": "f85b79eb34a47cf8"
  },
  {
   "cell_type": "code",
   "outputs": [
    {
     "name": "stdout",
     "output_type": "stream",
     "text": [
      "\u001B[32mSaved FeatureTable[Frequency] to: /Users/cheesemania/PycharmProjects/mscthesis_wrkdir/src-analysis/feature-table/health-disease-case-control/filtered/case_control_rarefied3000_nonresident_feature_table.qza\u001B[0m\r\n",
      "\u001B[0m"
     ]
    }
   ],
   "source": [
    "!qiime feature-table filter-features \\\n",
    "    --i-table {path}/src-analysis/feature-table/health-disease-case-control/case_control_rarefied3000_feature_table_remove_h1n1_filtered1.qza \\\n",
    "    --m-metadata-file {path}/metadata/fungal-traits/non-resident_ids.tsv \\\n",
    "    --p-exclude-ids False \\\n",
    "    --o-filtered-table {path}/src-analysis/feature-table/health-disease-case-control/filtered/case_control_rarefied3000_nonresident_feature_table.qza"
   ],
   "metadata": {
    "collapsed": false,
    "ExecuteTime": {
     "end_time": "2024-08-22T16:33:23.785793Z",
     "start_time": "2024-08-22T16:32:51.087059Z"
    }
   },
   "id": "4cb7470ff8419ea3",
   "execution_count": 29
  },
  {
   "cell_type": "code",
   "outputs": [
    {
     "name": "stdout",
     "output_type": "stream",
     "text": [
      "\u001B[32mSaved Visualization to: /Users/cheesemania/PycharmProjects/mscthesis_wrkdir/src-analysis/feature-table/health-disease-case-control/filtered/case_control_rarefied3000_nonresident_feature_table.qzv\u001B[0m\r\n",
      "\u001B[0m"
     ]
    }
   ],
   "source": [
    "!qiime feature-table summarize \\\n",
    "    --i-table {path}/src-analysis/feature-table/health-disease-case-control/filtered/case_control_rarefied3000_nonresident_feature_table.qza \\\n",
    "    --o-visualization {path}/src-analysis/feature-table/health-disease-case-control/filtered/case_control_rarefied3000_nonresident_feature_table.qzv"
   ],
   "metadata": {
    "collapsed": false,
    "ExecuteTime": {
     "end_time": "2024-08-22T16:34:19.430436Z",
     "start_time": "2024-08-22T16:33:50.895446Z"
    }
   },
   "id": "ef72cfd368ea1099",
   "execution_count": 30
  },
  {
   "cell_type": "markdown",
   "source": [
    "##### Filtering out macrofungi"
   ],
   "metadata": {
    "collapsed": false
   },
   "id": "f7c96b07d9df4096"
  },
  {
   "cell_type": "code",
   "outputs": [
    {
     "name": "stdout",
     "output_type": "stream",
     "text": [
      "\u001B[32mSaved FeatureTable[Frequency] to: /Users/cheesemania/PycharmProjects/mscthesis_wrkdir/src-analysis/feature-table/health-disease-case-control/case_control_exclude_macro_feature_table.qza\u001B[0m\r\n",
      "\u001B[0m"
     ]
    }
   ],
   "source": [
    "!qiime feature-table filter-features \\\n",
    "    --i-table {path}/src-analysis/feature-table/health-disease-case-control/case_control_feature_table.qza \\\n",
    "    --m-metadata-file {path}/metadata/fungal-traits/macro_ids.tsv \\\n",
    "    --p-exclude-ids True \\\n",
    "    --o-filtered-table {path}/src-analysis/feature-table/health-disease-case-control/case_control_exclude_macro_feature_table.qza"
   ],
   "metadata": {
    "collapsed": false,
    "ExecuteTime": {
     "end_time": "2024-08-20T13:45:15.986781Z",
     "start_time": "2024-08-20T13:44:43.974418Z"
    }
   },
   "id": "f1c14f5c88d57a74",
   "execution_count": 43
  },
  {
   "cell_type": "code",
   "outputs": [
    {
     "name": "stdout",
     "output_type": "stream",
     "text": [
      "\u001B[32mSaved Visualization to: /Users/cheesemania/PycharmProjects/mscthesis_wrkdir/src-analysis/feature-table/health-disease-case-control/case_control_exclude_macro_feature_table.qzv\u001B[0m\r\n",
      "\u001B[0m"
     ]
    }
   ],
   "source": [
    "!qiime feature-table summarize \\\n",
    "    --i-table {path}/src-analysis/feature-table/health-disease-case-control/case_control_exclude_macro_feature_table.qza \\\n",
    "    --o-visualization {path}/src-analysis/feature-table/health-disease-case-control/case_control_exclude_macro_feature_table.qzv"
   ],
   "metadata": {
    "collapsed": false,
    "ExecuteTime": {
     "end_time": "2024-08-20T13:45:55.899641Z",
     "start_time": "2024-08-20T13:45:26.592878Z"
    }
   },
   "id": "bc633a46522ce20c",
   "execution_count": 44
  },
  {
   "cell_type": "markdown",
   "source": [
    "##### Filtering out arbuscular mycorrhizal (AM) fungi"
   ],
   "metadata": {
    "collapsed": false
   },
   "id": "83a4e4fc4816bc38"
  },
  {
   "cell_type": "code",
   "outputs": [
    {
     "name": "stdout",
     "output_type": "stream",
     "text": [
      "\u001B[32mSaved FeatureTable[Frequency] to: /Users/cheesemania/PycharmProjects/mscthesis_wrkdir/src-analysis/feature-table/health-disease-case-control/case_control_exclude_AM_feature_table.qza\u001B[0m\r\n",
      "\u001B[0m"
     ]
    }
   ],
   "source": [
    "!qiime feature-table filter-features \\\n",
    "    --i-table {path}/src-analysis/feature-table/health-disease-case-control/case_control_feature_table.qza \\\n",
    "    --m-metadata-file {path}/metadata/fungal-traits/AM_ids.tsv \\\n",
    "    --p-exclude-ids True \\\n",
    "    --o-filtered-table {path}/src-analysis/feature-table/health-disease-case-control/case_control_exclude_AM_feature_table.qza"
   ],
   "metadata": {
    "collapsed": false,
    "ExecuteTime": {
     "end_time": "2024-08-20T13:46:41.301631Z",
     "start_time": "2024-08-20T13:46:11.116284Z"
    }
   },
   "id": "94bc7215c8b6af0e",
   "execution_count": 45
  },
  {
   "cell_type": "code",
   "outputs": [
    {
     "name": "stdout",
     "output_type": "stream",
     "text": [
      "\u001B[32mSaved Visualization to: /Users/cheesemania/PycharmProjects/mscthesis_wrkdir/src-analysis/feature-table/health-disease-case-control/case_control_exclude_AM_feature_table.qzv\u001B[0m\r\n",
      "\u001B[0m"
     ]
    }
   ],
   "source": [
    "!qiime feature-table summarize \\\n",
    "    --i-table {path}/src-analysis/feature-table/health-disease-case-control/case_control_exclude_AM_feature_table.qza \\\n",
    "    --o-visualization {path}/src-analysis/feature-table/health-disease-case-control/case_control_exclude_AM_feature_table.qzv"
   ],
   "metadata": {
    "collapsed": false,
    "ExecuteTime": {
     "end_time": "2024-08-20T13:47:21.844326Z",
     "start_time": "2024-08-20T13:46:52.489292Z"
    }
   },
   "id": "e1055b4f23548ed3",
   "execution_count": 46
  },
  {
   "cell_type": "markdown",
   "source": [
    "##### Filtering out ectomycorrhizal (ECM) fungi"
   ],
   "metadata": {
    "collapsed": false
   },
   "id": "d500d0b5abf15f28"
  },
  {
   "cell_type": "code",
   "outputs": [
    {
     "name": "stdout",
     "output_type": "stream",
     "text": [
      "\u001B[32mSaved FeatureTable[Frequency] to: /Users/cheesemania/PycharmProjects/mscthesis_wrkdir/src-analysis/feature-table/health-disease-case-control/case_control_exclude_ECM_feature_table.qza\u001B[0m\r\n",
      "\u001B[0m"
     ]
    }
   ],
   "source": [
    "!qiime feature-table filter-features \\\n",
    "    --i-table {path}/src-analysis/feature-table/health-disease-case-control/case_control_feature_table.qza \\\n",
    "    --m-metadata-file {path}/metadata/fungal-traits/ECM_ids.tsv \\\n",
    "    --p-exclude-ids True \\\n",
    "    --o-filtered-table {path}/src-analysis/feature-table/health-disease-case-control/case_control_exclude_ECM_feature_table.qza"
   ],
   "metadata": {
    "collapsed": false,
    "ExecuteTime": {
     "end_time": "2024-08-20T13:48:10.049338Z",
     "start_time": "2024-08-20T13:47:41.739682Z"
    }
   },
   "id": "846e18af73fced2d",
   "execution_count": 47
  },
  {
   "cell_type": "code",
   "outputs": [
    {
     "name": "stdout",
     "output_type": "stream",
     "text": [
      "\u001B[32mSaved Visualization to: /Users/cheesemania/PycharmProjects/mscthesis_wrkdir/src-analysis/feature-table/health-disease-case-control/case_control_exclude_ECM_feature_table.qzv\u001B[0m\r\n",
      "\u001B[0m"
     ]
    }
   ],
   "source": [
    "!qiime feature-table summarize \\\n",
    "    --i-table {path}/src-analysis/feature-table/health-disease-case-control/case_control_exclude_ECM_feature_table.qza \\\n",
    "    --o-visualization {path}/src-analysis/feature-table/health-disease-case-control/case_control_exclude_ECM_feature_table.qzv"
   ],
   "metadata": {
    "collapsed": false,
    "ExecuteTime": {
     "end_time": "2024-08-20T13:48:44.603315Z",
     "start_time": "2024-08-20T13:48:13.602685Z"
    }
   },
   "id": "4b5110c1a1ece637",
   "execution_count": 48
  },
  {
   "cell_type": "markdown",
   "source": [
    "##### Filtering out lichenized fungi"
   ],
   "metadata": {
    "collapsed": false
   },
   "id": "306d09cce1bce351"
  },
  {
   "cell_type": "code",
   "outputs": [
    {
     "name": "stdout",
     "output_type": "stream",
     "text": [
      "\u001B[32mSaved FeatureTable[Frequency] to: /Users/cheesemania/PycharmProjects/mscthesis_wrkdir/src-analysis/feature-table/health-disease-case-control/case_control_exclude_lichenized_feature_table.qza\u001B[0m\r\n",
      "\u001B[0m"
     ]
    }
   ],
   "source": [
    "!qiime feature-table filter-features \\\n",
    "    --i-table {path}/src-analysis/feature-table/health-disease-case-control/case_control_feature_table.qza \\\n",
    "    --m-metadata-file {path}/metadata/fungal-traits/lich_ids.tsv \\\n",
    "    --p-exclude-ids True \\\n",
    "    --o-filtered-table {path}/src-analysis/feature-table/health-disease-case-control/case_control_exclude_lichenized_feature_table.qza"
   ],
   "metadata": {
    "collapsed": false,
    "ExecuteTime": {
     "end_time": "2024-08-20T13:49:38.767094Z",
     "start_time": "2024-08-20T13:49:10.147128Z"
    }
   },
   "id": "d66505bde57ae17e",
   "execution_count": 49
  },
  {
   "cell_type": "code",
   "outputs": [
    {
     "name": "stdout",
     "output_type": "stream",
     "text": [
      "\u001B[32mSaved Visualization to: /Users/cheesemania/PycharmProjects/mscthesis_wrkdir/src-analysis/feature-table/health-disease-case-control/case_control_exclude_lichenized_feature_table.qzv\u001B[0m\r\n",
      "\u001B[0m"
     ]
    }
   ],
   "source": [
    "!qiime feature-table summarize \\\n",
    "    --i-table {path}/src-analysis/feature-table/health-disease-case-control/case_control_exclude_lichenized_feature_table.qza \\\n",
    "    --o-visualization {path}/src-analysis/feature-table/health-disease-case-control/case_control_exclude_lichenized_feature_table.qzv"
   ],
   "metadata": {
    "collapsed": false,
    "ExecuteTime": {
     "end_time": "2024-08-20T13:50:22.136660Z",
     "start_time": "2024-08-20T13:49:52.450359Z"
    }
   },
   "id": "d4b9bb53fbb0f3d2",
   "execution_count": 50
  },
  {
   "cell_type": "markdown",
   "source": [
    "##### Filtering out plant pathogens"
   ],
   "metadata": {
    "collapsed": false
   },
   "id": "d0cd7c52744ba2d1"
  },
  {
   "cell_type": "code",
   "outputs": [
    {
     "name": "stdout",
     "output_type": "stream",
     "text": [
      "\u001B[32mSaved FeatureTable[Frequency] to: /Users/cheesemania/PycharmProjects/mscthesis_wrkdir/src-analysis/feature-table/health-disease-case-control/case_control_exclude_plantpathogens_feature_table.qza\u001B[0m\r\n",
      "\u001B[0m"
     ]
    }
   ],
   "source": [
    "!qiime feature-table filter-features \\\n",
    "    --i-table {path}/src-analysis/feature-table/health-disease-case-control/case_control_feature_table.qza \\\n",
    "    --m-metadata-file {path}/metadata/fungal-traits/pp_ids.tsv \\\n",
    "    --p-exclude-ids True \\\n",
    "    --o-filtered-table {path}/src-analysis/feature-table/health-disease-case-control/case_control_exclude_plantpathogens_feature_table.qza"
   ],
   "metadata": {
    "collapsed": false,
    "ExecuteTime": {
     "end_time": "2024-08-20T13:52:14.960852Z",
     "start_time": "2024-08-20T13:51:46.897709Z"
    }
   },
   "id": "d9b67d9d50e0fac0",
   "execution_count": 51
  },
  {
   "cell_type": "code",
   "outputs": [
    {
     "name": "stdout",
     "output_type": "stream",
     "text": [
      "\u001B[32mSaved Visualization to: /Users/cheesemania/PycharmProjects/mscthesis_wrkdir/src-analysis/feature-table/health-disease-case-control/case_control_exclude_plantpathogens_feature_table.qzv\u001B[0m\r\n",
      "\u001B[0m"
     ]
    }
   ],
   "source": [
    "!qiime feature-table summarize \\\n",
    "    --i-table {path}/src-analysis/feature-table/health-disease-case-control/case_control_exclude_plantpathogens_feature_table.qza \\\n",
    "    --o-visualization {path}/src-analysis/feature-table/health-disease-case-control/case_control_exclude_plantpathogens_feature_table.qzv"
   ],
   "metadata": {
    "collapsed": false,
    "ExecuteTime": {
     "end_time": "2024-08-20T13:52:47.649507Z",
     "start_time": "2024-08-20T13:52:18.184747Z"
    }
   },
   "id": "4755024a9445330f",
   "execution_count": 52
  },
  {
   "cell_type": "markdown",
   "source": [],
   "metadata": {
    "collapsed": false
   },
   "id": "3808e034c6ce37"
  }
 ],
 "metadata": {
  "kernelspec": {
   "display_name": "Python 3",
   "language": "python",
   "name": "python3"
  },
  "language_info": {
   "codemirror_mode": {
    "name": "ipython",
    "version": 2
   },
   "file_extension": ".py",
   "mimetype": "text/x-python",
   "name": "python",
   "nbconvert_exporter": "python",
   "pygments_lexer": "ipython2",
   "version": "2.7.6"
  }
 },
 "nbformat": 4,
 "nbformat_minor": 5
}
