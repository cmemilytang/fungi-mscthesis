{
 "cells": [
  {
   "cell_type": "code",
   "execution_count": 1,
   "id": "43a886b80b2af34d",
   "metadata": {
    "collapsed": false,
    "ExecuteTime": {
     "end_time": "2024-09-13T08:06:37.645985Z",
     "start_time": "2024-09-13T08:06:37.214916Z"
    }
   },
   "outputs": [],
   "source": [
    "import pandas as pd"
   ]
  },
  {
   "cell_type": "code",
   "outputs": [],
   "source": [
    "file_path = '/Users/cheesemania/PycharmProjects/mscthesis_wrkdir/metadata/case_control_metadata_remove_h1n1_filtered1.tsv'\n",
    "data = pd.read_csv(file_path, sep='\\t')"
   ],
   "metadata": {
    "collapsed": false,
    "ExecuteTime": {
     "end_time": "2024-09-13T08:07:44.661424Z",
     "start_time": "2024-09-13T08:07:44.620422Z"
    }
   },
   "id": "5e86b64d03342e5e",
   "execution_count": 2
  },
  {
   "cell_type": "code",
   "outputs": [
    {
     "data": {
      "text/plain": "2135"
     },
     "execution_count": 4,
     "metadata": {},
     "output_type": "execute_result"
    }
   ],
   "source": [
    "data['sampleid'].nunique()"
   ],
   "metadata": {
    "collapsed": false,
    "ExecuteTime": {
     "end_time": "2024-09-13T08:08:09.165158Z",
     "start_time": "2024-09-13T08:08:09.155305Z"
    }
   },
   "id": "f72f7a109dabc8dc",
   "execution_count": 4
  },
  {
   "cell_type": "code",
   "outputs": [
    {
     "data": {
      "text/plain": "21"
     },
     "execution_count": 5,
     "metadata": {},
     "output_type": "execute_result"
    }
   ],
   "source": [
    "data['Project_ID'].nunique()\n",
    "# CHECK - OK"
   ],
   "metadata": {
    "collapsed": false,
    "ExecuteTime": {
     "end_time": "2024-09-13T08:08:22.800586Z",
     "start_time": "2024-09-13T08:08:22.794018Z"
    }
   },
   "id": "4c19a11aabbe7a8e",
   "execution_count": 5
  },
  {
   "cell_type": "code",
   "outputs": [
    {
     "data": {
      "text/plain": "Europe      930\nAsia        918\nOceania     215\nAmericas     72\nName: GeoLoc_Continent, dtype: int64"
     },
     "execution_count": 15,
     "metadata": {},
     "output_type": "execute_result"
    }
   ],
   "source": [
    "data['GeoLoc_Continent'].value_counts()"
   ],
   "metadata": {
    "collapsed": false,
    "ExecuteTime": {
     "end_time": "2024-09-13T08:55:06.524658Z",
     "start_time": "2024-09-13T08:55:06.509870Z"
    }
   },
   "id": "377a44df92724f17",
   "execution_count": 15
  },
  {
   "cell_type": "code",
   "outputs": [
    {
     "data": {
      "text/plain": "China                       586\nAustralia                   215\nBelgium                     161\nCzech Republic              156\nGermany                     147\nPoland                      144\nIreland                     144\nSouth Korea                 129\nJapan                       100\nUnited Kingdom               90\nIndia                        69\nUnited States of America     68\nSpain                        43\nItaly                        37\nThailand                     34\nFrance                        8\nMexico                        4\nName: GeoLoc_Country, dtype: int64"
     },
     "execution_count": 14,
     "metadata": {},
     "output_type": "execute_result"
    }
   ],
   "source": [
    "data['GeoLoc_Country'].value_counts()\n",
    "# No \"unknown\" values."
   ],
   "metadata": {
    "collapsed": false,
    "ExecuteTime": {
     "end_time": "2024-09-13T08:54:06.178921Z",
     "start_time": "2024-09-13T08:54:06.165083Z"
    }
   },
   "id": "805fc64da1d9ce3c",
   "execution_count": 14
  },
  {
   "cell_type": "code",
   "outputs": [],
   "source": [
    "# Group by 'GeoLoc_Country' and calculate the statistics\n",
    "country_stats = data.groupby('GeoLoc_Country').agg(\n",
    "    total_samples=('sampleid', 'count'),\n",
    "    case_samples=('Case_Control', lambda x: (x == 'Case').sum()),\n",
    "    control_samples=('Case_Control', lambda x: (x == 'Control').sum())\n",
    ").reset_index()"
   ],
   "metadata": {
    "collapsed": false,
    "ExecuteTime": {
     "end_time": "2024-09-13T08:09:31.116288Z",
     "start_time": "2024-09-13T08:09:31.082420Z"
    }
   },
   "id": "dd4284149b69c754",
   "execution_count": 6
  },
  {
   "cell_type": "code",
   "outputs": [
    {
     "data": {
      "text/plain": "              GeoLoc_Country  total_samples  case_samples  control_samples\n0                  Australia            215           139               76\n1                    Belgium            161           132               29\n2                      China            586           280              306\n3             Czech Republic            156            94               62\n4                     France              8             8                0\n5                    Germany            147           108               39\n6                      India             69            46               23\n7                    Ireland            144            80               64\n8                      Italy             37            20               17\n9                      Japan            100            76               24\n10                    Mexico              4             4                0\n11                    Poland            144           105               39\n12               South Korea            129            99               30\n13                     Spain             43            31               12\n14                  Thailand             34            17               17\n15            United Kingdom             90            43               47\n16  United States of America             68            68                0",
      "text/html": "<div>\n<style scoped>\n    .dataframe tbody tr th:only-of-type {\n        vertical-align: middle;\n    }\n\n    .dataframe tbody tr th {\n        vertical-align: top;\n    }\n\n    .dataframe thead th {\n        text-align: right;\n    }\n</style>\n<table border=\"1\" class=\"dataframe\">\n  <thead>\n    <tr style=\"text-align: right;\">\n      <th></th>\n      <th>GeoLoc_Country</th>\n      <th>total_samples</th>\n      <th>case_samples</th>\n      <th>control_samples</th>\n    </tr>\n  </thead>\n  <tbody>\n    <tr>\n      <th>0</th>\n      <td>Australia</td>\n      <td>215</td>\n      <td>139</td>\n      <td>76</td>\n    </tr>\n    <tr>\n      <th>1</th>\n      <td>Belgium</td>\n      <td>161</td>\n      <td>132</td>\n      <td>29</td>\n    </tr>\n    <tr>\n      <th>2</th>\n      <td>China</td>\n      <td>586</td>\n      <td>280</td>\n      <td>306</td>\n    </tr>\n    <tr>\n      <th>3</th>\n      <td>Czech Republic</td>\n      <td>156</td>\n      <td>94</td>\n      <td>62</td>\n    </tr>\n    <tr>\n      <th>4</th>\n      <td>France</td>\n      <td>8</td>\n      <td>8</td>\n      <td>0</td>\n    </tr>\n    <tr>\n      <th>5</th>\n      <td>Germany</td>\n      <td>147</td>\n      <td>108</td>\n      <td>39</td>\n    </tr>\n    <tr>\n      <th>6</th>\n      <td>India</td>\n      <td>69</td>\n      <td>46</td>\n      <td>23</td>\n    </tr>\n    <tr>\n      <th>7</th>\n      <td>Ireland</td>\n      <td>144</td>\n      <td>80</td>\n      <td>64</td>\n    </tr>\n    <tr>\n      <th>8</th>\n      <td>Italy</td>\n      <td>37</td>\n      <td>20</td>\n      <td>17</td>\n    </tr>\n    <tr>\n      <th>9</th>\n      <td>Japan</td>\n      <td>100</td>\n      <td>76</td>\n      <td>24</td>\n    </tr>\n    <tr>\n      <th>10</th>\n      <td>Mexico</td>\n      <td>4</td>\n      <td>4</td>\n      <td>0</td>\n    </tr>\n    <tr>\n      <th>11</th>\n      <td>Poland</td>\n      <td>144</td>\n      <td>105</td>\n      <td>39</td>\n    </tr>\n    <tr>\n      <th>12</th>\n      <td>South Korea</td>\n      <td>129</td>\n      <td>99</td>\n      <td>30</td>\n    </tr>\n    <tr>\n      <th>13</th>\n      <td>Spain</td>\n      <td>43</td>\n      <td>31</td>\n      <td>12</td>\n    </tr>\n    <tr>\n      <th>14</th>\n      <td>Thailand</td>\n      <td>34</td>\n      <td>17</td>\n      <td>17</td>\n    </tr>\n    <tr>\n      <th>15</th>\n      <td>United Kingdom</td>\n      <td>90</td>\n      <td>43</td>\n      <td>47</td>\n    </tr>\n    <tr>\n      <th>16</th>\n      <td>United States of America</td>\n      <td>68</td>\n      <td>68</td>\n      <td>0</td>\n    </tr>\n  </tbody>\n</table>\n</div>"
     },
     "execution_count": 7,
     "metadata": {},
     "output_type": "execute_result"
    }
   ],
   "source": [
    "country_stats"
   ],
   "metadata": {
    "collapsed": false,
    "ExecuteTime": {
     "end_time": "2024-09-13T08:10:02.830260Z",
     "start_time": "2024-09-13T08:10:02.816153Z"
    }
   },
   "id": "aa0cf81af940a384",
   "execution_count": 7
  },
  {
   "cell_type": "code",
   "outputs": [
    {
     "data": {
      "text/plain": "              GeoLoc_Country  total_samples  case_samples  control_samples\n0                      China            586           280              306\n1                  Australia            215           139               76\n2                    Belgium            161           132               29\n3             Czech Republic            156            94               62\n4                    Germany            147           108               39\n5                     Poland            144           105               39\n6                    Ireland            144            80               64\n7                South Korea            129            99               30\n8                      Japan            100            76               24\n9             United Kingdom             90            43               47\n10                     India             69            46               23\n11  United States of America             68            68                0\n12                     Spain             43            31               12\n13                     Italy             37            20               17\n14                  Thailand             34            17               17\n15                    France              8             8                0\n16                    Mexico              4             4                0",
      "text/html": "<div>\n<style scoped>\n    .dataframe tbody tr th:only-of-type {\n        vertical-align: middle;\n    }\n\n    .dataframe tbody tr th {\n        vertical-align: top;\n    }\n\n    .dataframe thead th {\n        text-align: right;\n    }\n</style>\n<table border=\"1\" class=\"dataframe\">\n  <thead>\n    <tr style=\"text-align: right;\">\n      <th></th>\n      <th>GeoLoc_Country</th>\n      <th>total_samples</th>\n      <th>case_samples</th>\n      <th>control_samples</th>\n    </tr>\n  </thead>\n  <tbody>\n    <tr>\n      <th>0</th>\n      <td>China</td>\n      <td>586</td>\n      <td>280</td>\n      <td>306</td>\n    </tr>\n    <tr>\n      <th>1</th>\n      <td>Australia</td>\n      <td>215</td>\n      <td>139</td>\n      <td>76</td>\n    </tr>\n    <tr>\n      <th>2</th>\n      <td>Belgium</td>\n      <td>161</td>\n      <td>132</td>\n      <td>29</td>\n    </tr>\n    <tr>\n      <th>3</th>\n      <td>Czech Republic</td>\n      <td>156</td>\n      <td>94</td>\n      <td>62</td>\n    </tr>\n    <tr>\n      <th>4</th>\n      <td>Germany</td>\n      <td>147</td>\n      <td>108</td>\n      <td>39</td>\n    </tr>\n    <tr>\n      <th>5</th>\n      <td>Poland</td>\n      <td>144</td>\n      <td>105</td>\n      <td>39</td>\n    </tr>\n    <tr>\n      <th>6</th>\n      <td>Ireland</td>\n      <td>144</td>\n      <td>80</td>\n      <td>64</td>\n    </tr>\n    <tr>\n      <th>7</th>\n      <td>South Korea</td>\n      <td>129</td>\n      <td>99</td>\n      <td>30</td>\n    </tr>\n    <tr>\n      <th>8</th>\n      <td>Japan</td>\n      <td>100</td>\n      <td>76</td>\n      <td>24</td>\n    </tr>\n    <tr>\n      <th>9</th>\n      <td>United Kingdom</td>\n      <td>90</td>\n      <td>43</td>\n      <td>47</td>\n    </tr>\n    <tr>\n      <th>10</th>\n      <td>India</td>\n      <td>69</td>\n      <td>46</td>\n      <td>23</td>\n    </tr>\n    <tr>\n      <th>11</th>\n      <td>United States of America</td>\n      <td>68</td>\n      <td>68</td>\n      <td>0</td>\n    </tr>\n    <tr>\n      <th>12</th>\n      <td>Spain</td>\n      <td>43</td>\n      <td>31</td>\n      <td>12</td>\n    </tr>\n    <tr>\n      <th>13</th>\n      <td>Italy</td>\n      <td>37</td>\n      <td>20</td>\n      <td>17</td>\n    </tr>\n    <tr>\n      <th>14</th>\n      <td>Thailand</td>\n      <td>34</td>\n      <td>17</td>\n      <td>17</td>\n    </tr>\n    <tr>\n      <th>15</th>\n      <td>France</td>\n      <td>8</td>\n      <td>8</td>\n      <td>0</td>\n    </tr>\n    <tr>\n      <th>16</th>\n      <td>Mexico</td>\n      <td>4</td>\n      <td>4</td>\n      <td>0</td>\n    </tr>\n  </tbody>\n</table>\n</div>"
     },
     "execution_count": 13,
     "metadata": {},
     "output_type": "execute_result"
    }
   ],
   "source": [
    "# Sort the data by total_samples in descending order\n",
    "country_stats_sorted = country_stats.sort_values(by='total_samples', ascending=False).reset_index(drop=True)\n",
    "country_stats_sorted"
   ],
   "metadata": {
    "collapsed": false,
    "ExecuteTime": {
     "end_time": "2024-09-13T08:43:03.965642Z",
     "start_time": "2024-09-13T08:43:03.954024Z"
    }
   },
   "id": "ff9dd7eceb1d6782",
   "execution_count": 13
  },
  {
   "cell_type": "code",
   "outputs": [],
   "source": [
    "# Create a new DataFrame for Datawrapper\n",
    "data_for_map = pd.DataFrame({\n",
    "    'country': country_stats['GeoLoc_Country'].repeat(2).values,\n",
    "    'type': ['Case', 'Control'] * len(country_stats),\n",
    "    'samples': country_stats[['case_samples', 'control_samples']].values.flatten()\n",
    "})"
   ],
   "metadata": {
    "collapsed": false,
    "ExecuteTime": {
     "end_time": "2024-09-13T08:25:44.078120Z",
     "start_time": "2024-09-13T08:25:44.061389Z"
    }
   },
   "id": "bc20c2d27c7f5a1d",
   "execution_count": 9
  },
  {
   "cell_type": "code",
   "outputs": [
    {
     "data": {
      "text/plain": "                     country     type  samples\n0                  Australia     Case      139\n1                  Australia  Control       76\n2                    Belgium     Case      132\n3                    Belgium  Control       29\n4                      China     Case      280\n5                      China  Control      306\n6             Czech Republic     Case       94\n7             Czech Republic  Control       62\n8                     France     Case        8\n9                     France  Control        0\n10                   Germany     Case      108\n11                   Germany  Control       39\n12                     India     Case       46\n13                     India  Control       23\n14                   Ireland     Case       80\n15                   Ireland  Control       64\n16                     Italy     Case       20\n17                     Italy  Control       17\n18                     Japan     Case       76\n19                     Japan  Control       24\n20                    Mexico     Case        4\n21                    Mexico  Control        0\n22                    Poland     Case      105\n23                    Poland  Control       39\n24               South Korea     Case       99\n25               South Korea  Control       30\n26                     Spain     Case       31\n27                     Spain  Control       12\n28                  Thailand     Case       17\n29                  Thailand  Control       17\n30            United Kingdom     Case       43\n31            United Kingdom  Control       47\n32  United States of America     Case       68\n33  United States of America  Control        0",
      "text/html": "<div>\n<style scoped>\n    .dataframe tbody tr th:only-of-type {\n        vertical-align: middle;\n    }\n\n    .dataframe tbody tr th {\n        vertical-align: top;\n    }\n\n    .dataframe thead th {\n        text-align: right;\n    }\n</style>\n<table border=\"1\" class=\"dataframe\">\n  <thead>\n    <tr style=\"text-align: right;\">\n      <th></th>\n      <th>country</th>\n      <th>type</th>\n      <th>samples</th>\n    </tr>\n  </thead>\n  <tbody>\n    <tr>\n      <th>0</th>\n      <td>Australia</td>\n      <td>Case</td>\n      <td>139</td>\n    </tr>\n    <tr>\n      <th>1</th>\n      <td>Australia</td>\n      <td>Control</td>\n      <td>76</td>\n    </tr>\n    <tr>\n      <th>2</th>\n      <td>Belgium</td>\n      <td>Case</td>\n      <td>132</td>\n    </tr>\n    <tr>\n      <th>3</th>\n      <td>Belgium</td>\n      <td>Control</td>\n      <td>29</td>\n    </tr>\n    <tr>\n      <th>4</th>\n      <td>China</td>\n      <td>Case</td>\n      <td>280</td>\n    </tr>\n    <tr>\n      <th>5</th>\n      <td>China</td>\n      <td>Control</td>\n      <td>306</td>\n    </tr>\n    <tr>\n      <th>6</th>\n      <td>Czech Republic</td>\n      <td>Case</td>\n      <td>94</td>\n    </tr>\n    <tr>\n      <th>7</th>\n      <td>Czech Republic</td>\n      <td>Control</td>\n      <td>62</td>\n    </tr>\n    <tr>\n      <th>8</th>\n      <td>France</td>\n      <td>Case</td>\n      <td>8</td>\n    </tr>\n    <tr>\n      <th>9</th>\n      <td>France</td>\n      <td>Control</td>\n      <td>0</td>\n    </tr>\n    <tr>\n      <th>10</th>\n      <td>Germany</td>\n      <td>Case</td>\n      <td>108</td>\n    </tr>\n    <tr>\n      <th>11</th>\n      <td>Germany</td>\n      <td>Control</td>\n      <td>39</td>\n    </tr>\n    <tr>\n      <th>12</th>\n      <td>India</td>\n      <td>Case</td>\n      <td>46</td>\n    </tr>\n    <tr>\n      <th>13</th>\n      <td>India</td>\n      <td>Control</td>\n      <td>23</td>\n    </tr>\n    <tr>\n      <th>14</th>\n      <td>Ireland</td>\n      <td>Case</td>\n      <td>80</td>\n    </tr>\n    <tr>\n      <th>15</th>\n      <td>Ireland</td>\n      <td>Control</td>\n      <td>64</td>\n    </tr>\n    <tr>\n      <th>16</th>\n      <td>Italy</td>\n      <td>Case</td>\n      <td>20</td>\n    </tr>\n    <tr>\n      <th>17</th>\n      <td>Italy</td>\n      <td>Control</td>\n      <td>17</td>\n    </tr>\n    <tr>\n      <th>18</th>\n      <td>Japan</td>\n      <td>Case</td>\n      <td>76</td>\n    </tr>\n    <tr>\n      <th>19</th>\n      <td>Japan</td>\n      <td>Control</td>\n      <td>24</td>\n    </tr>\n    <tr>\n      <th>20</th>\n      <td>Mexico</td>\n      <td>Case</td>\n      <td>4</td>\n    </tr>\n    <tr>\n      <th>21</th>\n      <td>Mexico</td>\n      <td>Control</td>\n      <td>0</td>\n    </tr>\n    <tr>\n      <th>22</th>\n      <td>Poland</td>\n      <td>Case</td>\n      <td>105</td>\n    </tr>\n    <tr>\n      <th>23</th>\n      <td>Poland</td>\n      <td>Control</td>\n      <td>39</td>\n    </tr>\n    <tr>\n      <th>24</th>\n      <td>South Korea</td>\n      <td>Case</td>\n      <td>99</td>\n    </tr>\n    <tr>\n      <th>25</th>\n      <td>South Korea</td>\n      <td>Control</td>\n      <td>30</td>\n    </tr>\n    <tr>\n      <th>26</th>\n      <td>Spain</td>\n      <td>Case</td>\n      <td>31</td>\n    </tr>\n    <tr>\n      <th>27</th>\n      <td>Spain</td>\n      <td>Control</td>\n      <td>12</td>\n    </tr>\n    <tr>\n      <th>28</th>\n      <td>Thailand</td>\n      <td>Case</td>\n      <td>17</td>\n    </tr>\n    <tr>\n      <th>29</th>\n      <td>Thailand</td>\n      <td>Control</td>\n      <td>17</td>\n    </tr>\n    <tr>\n      <th>30</th>\n      <td>United Kingdom</td>\n      <td>Case</td>\n      <td>43</td>\n    </tr>\n    <tr>\n      <th>31</th>\n      <td>United Kingdom</td>\n      <td>Control</td>\n      <td>47</td>\n    </tr>\n    <tr>\n      <th>32</th>\n      <td>United States of America</td>\n      <td>Case</td>\n      <td>68</td>\n    </tr>\n    <tr>\n      <th>33</th>\n      <td>United States of America</td>\n      <td>Control</td>\n      <td>0</td>\n    </tr>\n  </tbody>\n</table>\n</div>"
     },
     "execution_count": 10,
     "metadata": {},
     "output_type": "execute_result"
    }
   ],
   "source": [
    "data_for_map"
   ],
   "metadata": {
    "collapsed": false,
    "ExecuteTime": {
     "end_time": "2024-09-13T08:25:48.460515Z",
     "start_time": "2024-09-13T08:25:48.444949Z"
    }
   },
   "id": "6ca2ae1fbbef01fe",
   "execution_count": 10
  },
  {
   "cell_type": "code",
   "outputs": [],
   "source": [
    "output_path = '/Users/cheesemania/PycharmProjects/mscthesis_wrkdir/metadata/country_sample_statistics_for_map.tsv'\n",
    "data_for_map.to_csv(output_path, sep='\\t', index=False)"
   ],
   "metadata": {
    "collapsed": false,
    "ExecuteTime": {
     "end_time": "2024-09-13T08:27:49.338183Z",
     "start_time": "2024-09-13T08:27:49.323070Z"
    }
   },
   "id": "66b2990ea8f0ab9b",
   "execution_count": 11
  },
  {
   "cell_type": "markdown",
   "source": [
    "### Plots"
   ],
   "metadata": {
    "collapsed": false
   },
   "id": "4aca878bd80174f2"
  },
  {
   "cell_type": "code",
   "outputs": [],
   "source": [
    "import matplotlib.pyplot as plt\n",
    "import seaborn as sns"
   ],
   "metadata": {
    "collapsed": false,
    "ExecuteTime": {
     "end_time": "2024-09-13T12:10:22.210791Z",
     "start_time": "2024-09-13T12:10:21.272810Z"
    }
   },
   "id": "242f67384bf3bc3f",
   "execution_count": 16
  },
  {
   "cell_type": "code",
   "outputs": [],
   "source": [
    "# Grouping data by Disease_Level_1 and Disease_Level_2 to get the sample count and project count\n",
    "grouped_data = data.groupby(['Disease_Level_1', 'Disease_Level_2']).agg(\n",
    "    sample_count=('sampleid', 'count'),\n",
    "    project_count=('Project_ID', pd.Series.nunique)\n",
    ").reset_index()"
   ],
   "metadata": {
    "collapsed": false,
    "ExecuteTime": {
     "end_time": "2024-09-13T12:10:23.536243Z",
     "start_time": "2024-09-13T12:10:23.504333Z"
    }
   },
   "id": "a6cfc646ee8a4ef",
   "execution_count": 17
  },
  {
   "cell_type": "code",
   "outputs": [
    {
     "data": {
      "text/plain": "     Disease_Level_1        Disease_Level_2  sample_count  project_count\n0         Autoimmune                     AD            34              1\n1         Autoimmune                     RA           215              2\n2             Cancer               Melanoma            37              1\n3   Gastrointestinal                    IBD           279              3\n4   Gastrointestinal                    IBS           144              1\n5         Infectious                    CDI            57              1\n6         Infectious               COVID-19           153              2\n7         Infectious                     HD           105              1\n8         Infectious                    HIV            36              1\n9              Liver  Alcohol-Associated-LD           257              2\n10             Liver                  NAFLD            94              1\n11         Metabolic                    GDM            98              1\n12         Metabolic                   T1DM           161              1\n13         Metabolic                   T2DM            69              1\n14             Other                     AN           156              1\n15             Other                    CKD           240              1",
      "text/html": "<div>\n<style scoped>\n    .dataframe tbody tr th:only-of-type {\n        vertical-align: middle;\n    }\n\n    .dataframe tbody tr th {\n        vertical-align: top;\n    }\n\n    .dataframe thead th {\n        text-align: right;\n    }\n</style>\n<table border=\"1\" class=\"dataframe\">\n  <thead>\n    <tr style=\"text-align: right;\">\n      <th></th>\n      <th>Disease_Level_1</th>\n      <th>Disease_Level_2</th>\n      <th>sample_count</th>\n      <th>project_count</th>\n    </tr>\n  </thead>\n  <tbody>\n    <tr>\n      <th>0</th>\n      <td>Autoimmune</td>\n      <td>AD</td>\n      <td>34</td>\n      <td>1</td>\n    </tr>\n    <tr>\n      <th>1</th>\n      <td>Autoimmune</td>\n      <td>RA</td>\n      <td>215</td>\n      <td>2</td>\n    </tr>\n    <tr>\n      <th>2</th>\n      <td>Cancer</td>\n      <td>Melanoma</td>\n      <td>37</td>\n      <td>1</td>\n    </tr>\n    <tr>\n      <th>3</th>\n      <td>Gastrointestinal</td>\n      <td>IBD</td>\n      <td>279</td>\n      <td>3</td>\n    </tr>\n    <tr>\n      <th>4</th>\n      <td>Gastrointestinal</td>\n      <td>IBS</td>\n      <td>144</td>\n      <td>1</td>\n    </tr>\n    <tr>\n      <th>5</th>\n      <td>Infectious</td>\n      <td>CDI</td>\n      <td>57</td>\n      <td>1</td>\n    </tr>\n    <tr>\n      <th>6</th>\n      <td>Infectious</td>\n      <td>COVID-19</td>\n      <td>153</td>\n      <td>2</td>\n    </tr>\n    <tr>\n      <th>7</th>\n      <td>Infectious</td>\n      <td>HD</td>\n      <td>105</td>\n      <td>1</td>\n    </tr>\n    <tr>\n      <th>8</th>\n      <td>Infectious</td>\n      <td>HIV</td>\n      <td>36</td>\n      <td>1</td>\n    </tr>\n    <tr>\n      <th>9</th>\n      <td>Liver</td>\n      <td>Alcohol-Associated-LD</td>\n      <td>257</td>\n      <td>2</td>\n    </tr>\n    <tr>\n      <th>10</th>\n      <td>Liver</td>\n      <td>NAFLD</td>\n      <td>94</td>\n      <td>1</td>\n    </tr>\n    <tr>\n      <th>11</th>\n      <td>Metabolic</td>\n      <td>GDM</td>\n      <td>98</td>\n      <td>1</td>\n    </tr>\n    <tr>\n      <th>12</th>\n      <td>Metabolic</td>\n      <td>T1DM</td>\n      <td>161</td>\n      <td>1</td>\n    </tr>\n    <tr>\n      <th>13</th>\n      <td>Metabolic</td>\n      <td>T2DM</td>\n      <td>69</td>\n      <td>1</td>\n    </tr>\n    <tr>\n      <th>14</th>\n      <td>Other</td>\n      <td>AN</td>\n      <td>156</td>\n      <td>1</td>\n    </tr>\n    <tr>\n      <th>15</th>\n      <td>Other</td>\n      <td>CKD</td>\n      <td>240</td>\n      <td>1</td>\n    </tr>\n  </tbody>\n</table>\n</div>"
     },
     "execution_count": 18,
     "metadata": {},
     "output_type": "execute_result"
    }
   ],
   "source": [
    "grouped_data"
   ],
   "metadata": {
    "collapsed": false,
    "ExecuteTime": {
     "end_time": "2024-09-13T12:10:41.649411Z",
     "start_time": "2024-09-13T12:10:41.638892Z"
    }
   },
   "id": "caa99d14b56a46c4",
   "execution_count": 18
  },
  {
   "cell_type": "code",
   "outputs": [],
   "source": [
    "# Sorting the data to group 'Disease_Level_2' by 'Disease_Level_1'\n",
    "grouped_data_sorted = grouped_data.sort_values(by=['Disease_Level_1', 'Disease_Level_2'])\n",
    "\n",
    "# Creating ordered categories for 'Disease_Level_2'\n",
    "disease_level_2_order = grouped_data_sorted['Disease_Level_2'].unique()\n",
    "\n",
    "# Fill NaN values with 0 to ensure the data is treated as integers\n",
    "sample_count_pivot = grouped_data.pivot(index='Disease_Level_1', columns='Disease_Level_2', values='sample_count').fillna(0).astype(int)\n",
    "project_count_pivot = grouped_data.pivot(index='Disease_Level_1', columns='Disease_Level_2', values='project_count').fillna(0).astype(int)"
   ],
   "metadata": {
    "collapsed": false,
    "ExecuteTime": {
     "end_time": "2024-09-13T12:11:54.793869Z",
     "start_time": "2024-09-13T12:11:54.765425Z"
    }
   },
   "id": "73baf67f258d7ffc",
   "execution_count": 19
  },
  {
   "cell_type": "code",
   "outputs": [
    {
     "data": {
      "text/plain": "<Figure size 500x500 with 2 Axes>",
      "image/png": "[encoded data removed]"
     },
     "metadata": {},
     "output_type": "display_data"
    }
   ],
   "source": [
    "# Heatmap of sample count\n",
    "sns.set_style(\"whitegrid\")\n",
    "plt.figure(figsize=(5, 5))\n",
    "sns.heatmap(\n",
    "    sample_count_pivot.reindex(columns=disease_level_2_order), \n",
    "    annot=True, \n",
    "    annot_kws={\"size\": 5},\n",
    "    fmt=\"d\", \n",
    "    cmap=\"YlGnBu\",  # Yellow-Green-Blue color palette\n",
    "    mask=(sample_count_pivot.reindex(columns=disease_level_2_order) == 0),\n",
    "    cbar_kws={\"shrink\": 0.3, \"label\": \"Sample Count\"},\n",
    "    square=True\n",
    ")\n",
    "cbar = plt.gcf().axes[-1]  # Get the color bar axis\n",
    "cbar.set_ylabel('Sample Count', fontsize=6)\n",
    "cbar.tick_params(labelsize=6)\n",
    "#plt.title('Heatmap of Sample Count between Disease Level 1 and Disease Level 2')\n",
    "plt.xlabel('', fontsize=6)\n",
    "plt.ylabel('Disease Level 1',fontsize=6)\n",
    "plt.xticks(rotation=45, ha='right',fontsize=5)\n",
    "plt.yticks(fontsize=5)\n",
    "plt.tight_layout()\n",
    "\n",
    "plt.savefig('/Users/cheesemania/PycharmProjects/mscthesis_wrkdir/src-plots/heatmap1.png', dpi=600, bbox_inches='tight')\n",
    "plt.show()"
   ],
   "metadata": {
    "collapsed": false,
    "ExecuteTime": {
     "end_time": "2024-09-13T13:17:47.745149Z",
     "start_time": "2024-09-13T13:17:46.969423Z"
    }
   },
   "id": "93ce0d7b39a89c6f",
   "execution_count": 91
  },
  {
   "cell_type": "code",
   "outputs": [
    {
     "data": {
      "text/plain": "<Figure size 500x500 with 2 Axes>",
      "image/png": "[encoded data removed]"
     },
     "metadata": {},
     "output_type": "display_data"
    }
   ],
   "source": [
    "# Heatmap of project count\n",
    "sns.set_style(\"whitegrid\")\n",
    "plt.figure(figsize=(5, 5))\n",
    "sns.heatmap(\n",
    "    project_count_pivot.reindex(columns=disease_level_2_order), \n",
    "    annot=True, \n",
    "    annot_kws={\"size\": 5},\n",
    "    fmt=\"d\", \n",
    "    cmap=\"OrRd\",\n",
    "    mask=(project_count_pivot.reindex(columns=disease_level_2_order) == 0),\n",
    "    cbar_kws={'ticks': range(int(project_count_pivot.max().max()) + 1), 'shrink': 0.2, \"label\": \"Project Count\"},\n",
    "    square=True\n",
    ")\n",
    "cbar = plt.gcf().axes[-1]  # Get the color bar axis\n",
    "cbar.set_ylabel('Project Count', fontsize=6)\n",
    "cbar.tick_params(labelsize=6)\n",
    "#plt.title('Heatmap of Project Count between Disease Level 1 and Disease Level 2')\n",
    "plt.xlabel('Disease Level 2', fontsize=6)\n",
    "plt.ylabel('Disease Level 1',fontsize=6)\n",
    "plt.xticks(rotation=45, ha='right',fontsize=5)\n",
    "plt.yticks(fontsize=5)\n",
    "plt.tight_layout()\n",
    "\n",
    "plt.savefig('/Users/cheesemania/PycharmProjects/mscthesis_wrkdir/src-plots/heatmap2.png', dpi=600, bbox_inches='tight')\n",
    "plt.show()"
   ],
   "metadata": {
    "collapsed": false,
    "ExecuteTime": {
     "end_time": "2024-09-13T13:14:24.348548Z",
     "start_time": "2024-09-13T13:14:23.664037Z"
    }
   },
   "id": "4aee97228dcc2ec2",
   "execution_count": 87
  }
 ],
 "metadata": {
  "kernelspec": {
   "display_name": "Python 3",
   "language": "python",
   "name": "python3"
  },
  "language_info": {
   "codemirror_mode": {
    "name": "ipython",
    "version": 2
   },
   "file_extension": ".py",
   "mimetype": "text/x-python",
   "name": "python",
   "nbconvert_exporter": "python",
   "pygments_lexer": "ipython2",
   "version": "2.7.6"
  }
 },
 "nbformat": 4,
 "nbformat_minor": 5
}
